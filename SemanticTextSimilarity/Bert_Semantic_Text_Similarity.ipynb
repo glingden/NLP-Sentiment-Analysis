{
  "nbformat": 4,
  "nbformat_minor": 0,
  "metadata": {
    "colab": {
      "name": "Bert_Semantic_Text_Similarity.ipynb",
      "provenance": [],
      "collapsed_sections": [],
      "toc_visible": true,
      "authorship_tag": "ABX9TyO2qYVki3h0izdubbm0fwfz",
      "include_colab_link": true
    },
    "kernelspec": {
      "name": "python3",
      "display_name": "Python 3"
    },
    "widgets": {
      "application/vnd.jupyter.widget-state+json": {
        "43c20c1f818e4004858b2d9df74a570f": {
          "model_module": "@jupyter-widgets/controls",
          "model_name": "HBoxModel",
          "state": {
            "_view_name": "HBoxView",
            "_dom_classes": [],
            "_model_name": "HBoxModel",
            "_view_module": "@jupyter-widgets/controls",
            "_model_module_version": "1.5.0",
            "_view_count": null,
            "_view_module_version": "1.5.0",
            "box_style": "",
            "layout": "IPY_MODEL_c246ee1e64cc47fe84b0618f6551a7f4",
            "_model_module": "@jupyter-widgets/controls",
            "children": [
              "IPY_MODEL_5da576905f044788a78206f6fcc22504",
              "IPY_MODEL_112dc2ad61b24d1eb3de5319047a55d4"
            ]
          }
        },
        "c246ee1e64cc47fe84b0618f6551a7f4": {
          "model_module": "@jupyter-widgets/base",
          "model_name": "LayoutModel",
          "state": {
            "_view_name": "LayoutView",
            "grid_template_rows": null,
            "right": null,
            "justify_content": null,
            "_view_module": "@jupyter-widgets/base",
            "overflow": null,
            "_model_module_version": "1.2.0",
            "_view_count": null,
            "flex_flow": null,
            "width": null,
            "min_width": null,
            "border": null,
            "align_items": null,
            "bottom": null,
            "_model_module": "@jupyter-widgets/base",
            "top": null,
            "grid_column": null,
            "overflow_y": null,
            "overflow_x": null,
            "grid_auto_flow": null,
            "grid_area": null,
            "grid_template_columns": null,
            "flex": null,
            "_model_name": "LayoutModel",
            "justify_items": null,
            "grid_row": null,
            "max_height": null,
            "align_content": null,
            "visibility": null,
            "align_self": null,
            "height": null,
            "min_height": null,
            "padding": null,
            "grid_auto_rows": null,
            "grid_gap": null,
            "max_width": null,
            "order": null,
            "_view_module_version": "1.2.0",
            "grid_template_areas": null,
            "object_position": null,
            "object_fit": null,
            "grid_auto_columns": null,
            "margin": null,
            "display": null,
            "left": null
          }
        },
        "5da576905f044788a78206f6fcc22504": {
          "model_module": "@jupyter-widgets/controls",
          "model_name": "FloatProgressModel",
          "state": {
            "_view_name": "ProgressView",
            "style": "IPY_MODEL_5ea873a69e9247dcb46f783cc36cffcc",
            "_dom_classes": [],
            "description": "Downloading: 100%",
            "_model_name": "FloatProgressModel",
            "bar_style": "success",
            "max": 231508,
            "_view_module": "@jupyter-widgets/controls",
            "_model_module_version": "1.5.0",
            "value": 231508,
            "_view_count": null,
            "_view_module_version": "1.5.0",
            "orientation": "horizontal",
            "min": 0,
            "description_tooltip": null,
            "_model_module": "@jupyter-widgets/controls",
            "layout": "IPY_MODEL_f11307df98ba49f39d68c958809b4985"
          }
        },
        "112dc2ad61b24d1eb3de5319047a55d4": {
          "model_module": "@jupyter-widgets/controls",
          "model_name": "HTMLModel",
          "state": {
            "_view_name": "HTMLView",
            "style": "IPY_MODEL_707452a2fece4c1c97b0dee5acb55028",
            "_dom_classes": [],
            "description": "",
            "_model_name": "HTMLModel",
            "placeholder": "​",
            "_view_module": "@jupyter-widgets/controls",
            "_model_module_version": "1.5.0",
            "value": " 232k/232k [00:00&lt;00:00, 308kB/s]",
            "_view_count": null,
            "_view_module_version": "1.5.0",
            "description_tooltip": null,
            "_model_module": "@jupyter-widgets/controls",
            "layout": "IPY_MODEL_8463cdbfe0a944d0b658feed089be67d"
          }
        },
        "5ea873a69e9247dcb46f783cc36cffcc": {
          "model_module": "@jupyter-widgets/controls",
          "model_name": "ProgressStyleModel",
          "state": {
            "_view_name": "StyleView",
            "_model_name": "ProgressStyleModel",
            "description_width": "initial",
            "_view_module": "@jupyter-widgets/base",
            "_model_module_version": "1.5.0",
            "_view_count": null,
            "_view_module_version": "1.2.0",
            "bar_color": null,
            "_model_module": "@jupyter-widgets/controls"
          }
        },
        "f11307df98ba49f39d68c958809b4985": {
          "model_module": "@jupyter-widgets/base",
          "model_name": "LayoutModel",
          "state": {
            "_view_name": "LayoutView",
            "grid_template_rows": null,
            "right": null,
            "justify_content": null,
            "_view_module": "@jupyter-widgets/base",
            "overflow": null,
            "_model_module_version": "1.2.0",
            "_view_count": null,
            "flex_flow": null,
            "width": null,
            "min_width": null,
            "border": null,
            "align_items": null,
            "bottom": null,
            "_model_module": "@jupyter-widgets/base",
            "top": null,
            "grid_column": null,
            "overflow_y": null,
            "overflow_x": null,
            "grid_auto_flow": null,
            "grid_area": null,
            "grid_template_columns": null,
            "flex": null,
            "_model_name": "LayoutModel",
            "justify_items": null,
            "grid_row": null,
            "max_height": null,
            "align_content": null,
            "visibility": null,
            "align_self": null,
            "height": null,
            "min_height": null,
            "padding": null,
            "grid_auto_rows": null,
            "grid_gap": null,
            "max_width": null,
            "order": null,
            "_view_module_version": "1.2.0",
            "grid_template_areas": null,
            "object_position": null,
            "object_fit": null,
            "grid_auto_columns": null,
            "margin": null,
            "display": null,
            "left": null
          }
        },
        "707452a2fece4c1c97b0dee5acb55028": {
          "model_module": "@jupyter-widgets/controls",
          "model_name": "DescriptionStyleModel",
          "state": {
            "_view_name": "StyleView",
            "_model_name": "DescriptionStyleModel",
            "description_width": "",
            "_view_module": "@jupyter-widgets/base",
            "_model_module_version": "1.5.0",
            "_view_count": null,
            "_view_module_version": "1.2.0",
            "_model_module": "@jupyter-widgets/controls"
          }
        },
        "8463cdbfe0a944d0b658feed089be67d": {
          "model_module": "@jupyter-widgets/base",
          "model_name": "LayoutModel",
          "state": {
            "_view_name": "LayoutView",
            "grid_template_rows": null,
            "right": null,
            "justify_content": null,
            "_view_module": "@jupyter-widgets/base",
            "overflow": null,
            "_model_module_version": "1.2.0",
            "_view_count": null,
            "flex_flow": null,
            "width": null,
            "min_width": null,
            "border": null,
            "align_items": null,
            "bottom": null,
            "_model_module": "@jupyter-widgets/base",
            "top": null,
            "grid_column": null,
            "overflow_y": null,
            "overflow_x": null,
            "grid_auto_flow": null,
            "grid_area": null,
            "grid_template_columns": null,
            "flex": null,
            "_model_name": "LayoutModel",
            "justify_items": null,
            "grid_row": null,
            "max_height": null,
            "align_content": null,
            "visibility": null,
            "align_self": null,
            "height": null,
            "min_height": null,
            "padding": null,
            "grid_auto_rows": null,
            "grid_gap": null,
            "max_width": null,
            "order": null,
            "_view_module_version": "1.2.0",
            "grid_template_areas": null,
            "object_position": null,
            "object_fit": null,
            "grid_auto_columns": null,
            "margin": null,
            "display": null,
            "left": null
          }
        },
        "5cf30b4c088944b8b0323d0b5f12a94e": {
          "model_module": "@jupyter-widgets/controls",
          "model_name": "HBoxModel",
          "state": {
            "_view_name": "HBoxView",
            "_dom_classes": [],
            "_model_name": "HBoxModel",
            "_view_module": "@jupyter-widgets/controls",
            "_model_module_version": "1.5.0",
            "_view_count": null,
            "_view_module_version": "1.5.0",
            "box_style": "",
            "layout": "IPY_MODEL_4250143d552246789f540fa9046c221c",
            "_model_module": "@jupyter-widgets/controls",
            "children": [
              "IPY_MODEL_e514893512754f3c856bb04f152bc315",
              "IPY_MODEL_51ee6b0458a44ada939b7027a8b7325e"
            ]
          }
        },
        "4250143d552246789f540fa9046c221c": {
          "model_module": "@jupyter-widgets/base",
          "model_name": "LayoutModel",
          "state": {
            "_view_name": "LayoutView",
            "grid_template_rows": null,
            "right": null,
            "justify_content": null,
            "_view_module": "@jupyter-widgets/base",
            "overflow": null,
            "_model_module_version": "1.2.0",
            "_view_count": null,
            "flex_flow": null,
            "width": null,
            "min_width": null,
            "border": null,
            "align_items": null,
            "bottom": null,
            "_model_module": "@jupyter-widgets/base",
            "top": null,
            "grid_column": null,
            "overflow_y": null,
            "overflow_x": null,
            "grid_auto_flow": null,
            "grid_area": null,
            "grid_template_columns": null,
            "flex": null,
            "_model_name": "LayoutModel",
            "justify_items": null,
            "grid_row": null,
            "max_height": null,
            "align_content": null,
            "visibility": null,
            "align_self": null,
            "height": null,
            "min_height": null,
            "padding": null,
            "grid_auto_rows": null,
            "grid_gap": null,
            "max_width": null,
            "order": null,
            "_view_module_version": "1.2.0",
            "grid_template_areas": null,
            "object_position": null,
            "object_fit": null,
            "grid_auto_columns": null,
            "margin": null,
            "display": null,
            "left": null
          }
        },
        "e514893512754f3c856bb04f152bc315": {
          "model_module": "@jupyter-widgets/controls",
          "model_name": "FloatProgressModel",
          "state": {
            "_view_name": "ProgressView",
            "style": "IPY_MODEL_983a32fd4f624c0f8c3efcd4424c4770",
            "_dom_classes": [],
            "description": "Downloading: 100%",
            "_model_name": "FloatProgressModel",
            "bar_style": "success",
            "max": 433,
            "_view_module": "@jupyter-widgets/controls",
            "_model_module_version": "1.5.0",
            "value": 433,
            "_view_count": null,
            "_view_module_version": "1.5.0",
            "orientation": "horizontal",
            "min": 0,
            "description_tooltip": null,
            "_model_module": "@jupyter-widgets/controls",
            "layout": "IPY_MODEL_1bb4cd9f8d534bd8b800b0fbb34aaa70"
          }
        },
        "51ee6b0458a44ada939b7027a8b7325e": {
          "model_module": "@jupyter-widgets/controls",
          "model_name": "HTMLModel",
          "state": {
            "_view_name": "HTMLView",
            "style": "IPY_MODEL_b7d7d32b75a0410a969f228458680002",
            "_dom_classes": [],
            "description": "",
            "_model_name": "HTMLModel",
            "placeholder": "​",
            "_view_module": "@jupyter-widgets/controls",
            "_model_module_version": "1.5.0",
            "value": " 433/433 [00:00&lt;00:00, 3.02kB/s]",
            "_view_count": null,
            "_view_module_version": "1.5.0",
            "description_tooltip": null,
            "_model_module": "@jupyter-widgets/controls",
            "layout": "IPY_MODEL_03ff6b4b47704be497fc098c901ade7a"
          }
        },
        "983a32fd4f624c0f8c3efcd4424c4770": {
          "model_module": "@jupyter-widgets/controls",
          "model_name": "ProgressStyleModel",
          "state": {
            "_view_name": "StyleView",
            "_model_name": "ProgressStyleModel",
            "description_width": "initial",
            "_view_module": "@jupyter-widgets/base",
            "_model_module_version": "1.5.0",
            "_view_count": null,
            "_view_module_version": "1.2.0",
            "bar_color": null,
            "_model_module": "@jupyter-widgets/controls"
          }
        },
        "1bb4cd9f8d534bd8b800b0fbb34aaa70": {
          "model_module": "@jupyter-widgets/base",
          "model_name": "LayoutModel",
          "state": {
            "_view_name": "LayoutView",
            "grid_template_rows": null,
            "right": null,
            "justify_content": null,
            "_view_module": "@jupyter-widgets/base",
            "overflow": null,
            "_model_module_version": "1.2.0",
            "_view_count": null,
            "flex_flow": null,
            "width": null,
            "min_width": null,
            "border": null,
            "align_items": null,
            "bottom": null,
            "_model_module": "@jupyter-widgets/base",
            "top": null,
            "grid_column": null,
            "overflow_y": null,
            "overflow_x": null,
            "grid_auto_flow": null,
            "grid_area": null,
            "grid_template_columns": null,
            "flex": null,
            "_model_name": "LayoutModel",
            "justify_items": null,
            "grid_row": null,
            "max_height": null,
            "align_content": null,
            "visibility": null,
            "align_self": null,
            "height": null,
            "min_height": null,
            "padding": null,
            "grid_auto_rows": null,
            "grid_gap": null,
            "max_width": null,
            "order": null,
            "_view_module_version": "1.2.0",
            "grid_template_areas": null,
            "object_position": null,
            "object_fit": null,
            "grid_auto_columns": null,
            "margin": null,
            "display": null,
            "left": null
          }
        },
        "b7d7d32b75a0410a969f228458680002": {
          "model_module": "@jupyter-widgets/controls",
          "model_name": "DescriptionStyleModel",
          "state": {
            "_view_name": "StyleView",
            "_model_name": "DescriptionStyleModel",
            "description_width": "",
            "_view_module": "@jupyter-widgets/base",
            "_model_module_version": "1.5.0",
            "_view_count": null,
            "_view_module_version": "1.2.0",
            "_model_module": "@jupyter-widgets/controls"
          }
        },
        "03ff6b4b47704be497fc098c901ade7a": {
          "model_module": "@jupyter-widgets/base",
          "model_name": "LayoutModel",
          "state": {
            "_view_name": "LayoutView",
            "grid_template_rows": null,
            "right": null,
            "justify_content": null,
            "_view_module": "@jupyter-widgets/base",
            "overflow": null,
            "_model_module_version": "1.2.0",
            "_view_count": null,
            "flex_flow": null,
            "width": null,
            "min_width": null,
            "border": null,
            "align_items": null,
            "bottom": null,
            "_model_module": "@jupyter-widgets/base",
            "top": null,
            "grid_column": null,
            "overflow_y": null,
            "overflow_x": null,
            "grid_auto_flow": null,
            "grid_area": null,
            "grid_template_columns": null,
            "flex": null,
            "_model_name": "LayoutModel",
            "justify_items": null,
            "grid_row": null,
            "max_height": null,
            "align_content": null,
            "visibility": null,
            "align_self": null,
            "height": null,
            "min_height": null,
            "padding": null,
            "grid_auto_rows": null,
            "grid_gap": null,
            "max_width": null,
            "order": null,
            "_view_module_version": "1.2.0",
            "grid_template_areas": null,
            "object_position": null,
            "object_fit": null,
            "grid_auto_columns": null,
            "margin": null,
            "display": null,
            "left": null
          }
        },
        "516c2f83a7064100bac2b02cbf8b1e1f": {
          "model_module": "@jupyter-widgets/controls",
          "model_name": "HBoxModel",
          "state": {
            "_view_name": "HBoxView",
            "_dom_classes": [],
            "_model_name": "HBoxModel",
            "_view_module": "@jupyter-widgets/controls",
            "_model_module_version": "1.5.0",
            "_view_count": null,
            "_view_module_version": "1.5.0",
            "box_style": "",
            "layout": "IPY_MODEL_b750c4038868401fa619998c1dda17e8",
            "_model_module": "@jupyter-widgets/controls",
            "children": [
              "IPY_MODEL_973100cbb473468ab72e55f1592a140a",
              "IPY_MODEL_fa68d4e1149b426bb43cf8215dffcf6a"
            ]
          }
        },
        "b750c4038868401fa619998c1dda17e8": {
          "model_module": "@jupyter-widgets/base",
          "model_name": "LayoutModel",
          "state": {
            "_view_name": "LayoutView",
            "grid_template_rows": null,
            "right": null,
            "justify_content": null,
            "_view_module": "@jupyter-widgets/base",
            "overflow": null,
            "_model_module_version": "1.2.0",
            "_view_count": null,
            "flex_flow": null,
            "width": null,
            "min_width": null,
            "border": null,
            "align_items": null,
            "bottom": null,
            "_model_module": "@jupyter-widgets/base",
            "top": null,
            "grid_column": null,
            "overflow_y": null,
            "overflow_x": null,
            "grid_auto_flow": null,
            "grid_area": null,
            "grid_template_columns": null,
            "flex": null,
            "_model_name": "LayoutModel",
            "justify_items": null,
            "grid_row": null,
            "max_height": null,
            "align_content": null,
            "visibility": null,
            "align_self": null,
            "height": null,
            "min_height": null,
            "padding": null,
            "grid_auto_rows": null,
            "grid_gap": null,
            "max_width": null,
            "order": null,
            "_view_module_version": "1.2.0",
            "grid_template_areas": null,
            "object_position": null,
            "object_fit": null,
            "grid_auto_columns": null,
            "margin": null,
            "display": null,
            "left": null
          }
        },
        "973100cbb473468ab72e55f1592a140a": {
          "model_module": "@jupyter-widgets/controls",
          "model_name": "FloatProgressModel",
          "state": {
            "_view_name": "ProgressView",
            "style": "IPY_MODEL_35aa3d0ceddc47f187c3cedfa09d8af5",
            "_dom_classes": [],
            "description": "Downloading: 100%",
            "_model_name": "FloatProgressModel",
            "bar_style": "success",
            "max": 440473133,
            "_view_module": "@jupyter-widgets/controls",
            "_model_module_version": "1.5.0",
            "value": 440473133,
            "_view_count": null,
            "_view_module_version": "1.5.0",
            "orientation": "horizontal",
            "min": 0,
            "description_tooltip": null,
            "_model_module": "@jupyter-widgets/controls",
            "layout": "IPY_MODEL_22242db547034212987ca2a07d4588bb"
          }
        },
        "fa68d4e1149b426bb43cf8215dffcf6a": {
          "model_module": "@jupyter-widgets/controls",
          "model_name": "HTMLModel",
          "state": {
            "_view_name": "HTMLView",
            "style": "IPY_MODEL_28806f2b80914487b1c041428d5ed53d",
            "_dom_classes": [],
            "description": "",
            "_model_name": "HTMLModel",
            "placeholder": "​",
            "_view_module": "@jupyter-widgets/controls",
            "_model_module_version": "1.5.0",
            "value": " 440M/440M [00:21&lt;00:00, 20.4MB/s]",
            "_view_count": null,
            "_view_module_version": "1.5.0",
            "description_tooltip": null,
            "_model_module": "@jupyter-widgets/controls",
            "layout": "IPY_MODEL_c77b29edad3e457999ae0bb52aa8dde7"
          }
        },
        "35aa3d0ceddc47f187c3cedfa09d8af5": {
          "model_module": "@jupyter-widgets/controls",
          "model_name": "ProgressStyleModel",
          "state": {
            "_view_name": "StyleView",
            "_model_name": "ProgressStyleModel",
            "description_width": "initial",
            "_view_module": "@jupyter-widgets/base",
            "_model_module_version": "1.5.0",
            "_view_count": null,
            "_view_module_version": "1.2.0",
            "bar_color": null,
            "_model_module": "@jupyter-widgets/controls"
          }
        },
        "22242db547034212987ca2a07d4588bb": {
          "model_module": "@jupyter-widgets/base",
          "model_name": "LayoutModel",
          "state": {
            "_view_name": "LayoutView",
            "grid_template_rows": null,
            "right": null,
            "justify_content": null,
            "_view_module": "@jupyter-widgets/base",
            "overflow": null,
            "_model_module_version": "1.2.0",
            "_view_count": null,
            "flex_flow": null,
            "width": null,
            "min_width": null,
            "border": null,
            "align_items": null,
            "bottom": null,
            "_model_module": "@jupyter-widgets/base",
            "top": null,
            "grid_column": null,
            "overflow_y": null,
            "overflow_x": null,
            "grid_auto_flow": null,
            "grid_area": null,
            "grid_template_columns": null,
            "flex": null,
            "_model_name": "LayoutModel",
            "justify_items": null,
            "grid_row": null,
            "max_height": null,
            "align_content": null,
            "visibility": null,
            "align_self": null,
            "height": null,
            "min_height": null,
            "padding": null,
            "grid_auto_rows": null,
            "grid_gap": null,
            "max_width": null,
            "order": null,
            "_view_module_version": "1.2.0",
            "grid_template_areas": null,
            "object_position": null,
            "object_fit": null,
            "grid_auto_columns": null,
            "margin": null,
            "display": null,
            "left": null
          }
        },
        "28806f2b80914487b1c041428d5ed53d": {
          "model_module": "@jupyter-widgets/controls",
          "model_name": "DescriptionStyleModel",
          "state": {
            "_view_name": "StyleView",
            "_model_name": "DescriptionStyleModel",
            "description_width": "",
            "_view_module": "@jupyter-widgets/base",
            "_model_module_version": "1.5.0",
            "_view_count": null,
            "_view_module_version": "1.2.0",
            "_model_module": "@jupyter-widgets/controls"
          }
        },
        "c77b29edad3e457999ae0bb52aa8dde7": {
          "model_module": "@jupyter-widgets/base",
          "model_name": "LayoutModel",
          "state": {
            "_view_name": "LayoutView",
            "grid_template_rows": null,
            "right": null,
            "justify_content": null,
            "_view_module": "@jupyter-widgets/base",
            "overflow": null,
            "_model_module_version": "1.2.0",
            "_view_count": null,
            "flex_flow": null,
            "width": null,
            "min_width": null,
            "border": null,
            "align_items": null,
            "bottom": null,
            "_model_module": "@jupyter-widgets/base",
            "top": null,
            "grid_column": null,
            "overflow_y": null,
            "overflow_x": null,
            "grid_auto_flow": null,
            "grid_area": null,
            "grid_template_columns": null,
            "flex": null,
            "_model_name": "LayoutModel",
            "justify_items": null,
            "grid_row": null,
            "max_height": null,
            "align_content": null,
            "visibility": null,
            "align_self": null,
            "height": null,
            "min_height": null,
            "padding": null,
            "grid_auto_rows": null,
            "grid_gap": null,
            "max_width": null,
            "order": null,
            "_view_module_version": "1.2.0",
            "grid_template_areas": null,
            "object_position": null,
            "object_fit": null,
            "grid_auto_columns": null,
            "margin": null,
            "display": null,
            "left": null
          }
        }
      }
    },
    "accelerator": "GPU"
  },
  "cells": [
    {
      "cell_type": "markdown",
      "metadata": {
        "id": "view-in-github",
        "colab_type": "text"
      },
      "source": [
        "<a href=\"https://colab.research.google.com/github/glingden/Natural-Language-Processing-NLP/blob/master/Bert_Semantic_Text_Similarity.ipynb\" target=\"_parent\"><img src=\"https://colab.research.google.com/assets/colab-badge.svg\" alt=\"Open In Colab\"/></a>"
      ]
    },
    {
      "cell_type": "markdown",
      "metadata": {
        "id": "q_guI_jjrpWt",
        "colab_type": "text"
      },
      "source": [
        "# BERT Semantic Text Similarity\n",
        "In this notebook, the BERT (bert-base-uncased) model is used for finding  semantic text similarity between a pair of sentences.  The [STS_B benchmark](https://ixa2.si.ehu.es/stswiki/index.php/STSbenchmark) dataset is used for this work. This dataset consists of separate training, validation and test data. The work in this notebook contains two parts:\n",
        "1. Sentence level embedding extraction from the pre-trained  bert model and apply cosine similarity between the pair sentences (No fine-tunned, but only using sentence vector representation from the pretrained model)\n",
        "\n",
        "2. Fine-tune: The STS_B train dataset is used for fine tunning the model and validaiton dataset is used for model validation. And, the fine-tunned model is used to predict the test dataset. For fine-tunning, the two model network architectures are used: 1. Linear Regression ouput, and 2.Siamese Network with cosine similarity output"
      ]
    },
    {
      "cell_type": "code",
      "metadata": {
        "id": "cGfcD5iLrtAU",
        "colab_type": "code",
        "colab": {}
      },
      "source": [
        "#import necessary libraries\n",
        "import numpy as np\n",
        "import pandas as pd\n",
        "import tensorflow as tf\n",
        "import torch\n"
      ],
      "execution_count": 1,
      "outputs": []
    },
    {
      "cell_type": "code",
      "metadata": {
        "id": "bIdMhqsNL-VT",
        "colab_type": "code",
        "colab": {
          "base_uri": "https://localhost:8080/",
          "height": 85
        },
        "outputId": "424aaf0d-77a8-4bf4-9ec4-161d80779a0b"
      },
      "source": [
        "#check version\n",
        "print(torch.__version__, tf.__version__)\n",
        "print()\n",
        "print(np.__version__, pd.__version__)\n",
        "!python -V"
      ],
      "execution_count": 2,
      "outputs": [
        {
          "output_type": "stream",
          "text": [
            "1.5.1+cu101 2.2.0\n",
            "\n",
            "1.18.5 1.0.5\n",
            "Python 3.6.9\n"
          ],
          "name": "stdout"
        }
      ]
    },
    {
      "cell_type": "code",
      "metadata": {
        "id": "FWARCoGcpiy3",
        "colab_type": "code",
        "colab": {
          "base_uri": "https://localhost:8080/",
          "height": 51
        },
        "outputId": "ad23c61b-8bd6-489f-cf81-7d874dc469a7"
      },
      "source": [
        "#check GPU is available or not \n",
        "if torch.cuda.is_available():\n",
        "\n",
        "  device = torch.device(\"cuda\")\n",
        "  current_dev = torch.cuda.current_device()\n",
        "  print('Found GPU :', torch.cuda.get_device_name(0))\n",
        "  print(current_dev)\n",
        "  \n",
        "\n",
        "else:\n",
        "    print('Not found, use CPU instead')\n",
        "    device = torch.device(\"cpu\")\n",
        "  \n"
      ],
      "execution_count": 3,
      "outputs": [
        {
          "output_type": "stream",
          "text": [
            "Found GPU : Tesla K80\n",
            "0\n"
          ],
          "name": "stdout"
        }
      ]
    },
    {
      "cell_type": "code",
      "metadata": {
        "id": "zk2eRMkcHA6e",
        "colab_type": "code",
        "colab": {}
      },
      "source": [
        ""
      ],
      "execution_count": null,
      "outputs": []
    },
    {
      "cell_type": "markdown",
      "metadata": {
        "id": "yN-iiHv5J5rF",
        "colab_type": "text"
      },
      "source": [
        "# **Load Dataset** <br> \n",
        "\n",
        "Dataset is stored at  Google drive. So, google drive  is mounted at '/content/drive' to access them."
      ]
    },
    {
      "cell_type": "code",
      "metadata": {
        "id": "_fyQjjuUaV91",
        "colab_type": "code",
        "colab": {
          "base_uri": "https://localhost:8080/",
          "height": 122
        },
        "outputId": "ac22ebd2-72da-4531-d6d1-264fd4764259"
      },
      "source": [
        "#mount the drive \n",
        "from google.colab import drive\n",
        "drive.mount('/content/drive')"
      ],
      "execution_count": 4,
      "outputs": [
        {
          "output_type": "stream",
          "text": [
            "Go to this URL in a browser: https://accounts.google.com/o/oauth2/auth?client_id=947318989803-6bn6qk8qdgf4n4g3pfee6491hc0brc4i.apps.googleusercontent.com&redirect_uri=urn%3aietf%3awg%3aoauth%3a2.0%3aoob&response_type=code&scope=email%20https%3a%2f%2fwww.googleapis.com%2fauth%2fdocs.test%20https%3a%2f%2fwww.googleapis.com%2fauth%2fdrive%20https%3a%2f%2fwww.googleapis.com%2fauth%2fdrive.photos.readonly%20https%3a%2f%2fwww.googleapis.com%2fauth%2fpeopleapi.readonly\n",
            "\n",
            "Enter your authorization code:\n",
            "··········\n",
            "Mounted at /content/drive\n"
          ],
          "name": "stdout"
        }
      ]
    },
    {
      "cell_type": "code",
      "metadata": {
        "id": "mOC8EINhKX0z",
        "colab_type": "code",
        "colab": {}
      },
      "source": [
        "#load dataset\n",
        "dataset_types = [ \"sts-train.csv\", \"sts-dev.csv\", \"sts-test.csv\",] # 3 datasets\n",
        "col_names = [\"genre\", \"file\", \"years\", \"_\", \"score(0-5)\", \"sentence_1\", \"sentence_2\"] #columns names\n",
        "\n",
        "#collect as a list of pandas dataframes\n",
        "df_list = []\n",
        "for dataset in dataset_types:\n",
        "  df = pd.read_csv(\"/content/drive/My Drive/Google_Colab/stsbenchmark_dataset/\"+ dataset, \n",
        "                   header= None,\n",
        "                   names= col_names,\n",
        "                   delimiter=',' , \n",
        "                   encoding ='utf-8',\n",
        "                   engine='python'\n",
        "                  )\n",
        "  \n",
        "\n",
        "  df_list.append(df)"
      ],
      "execution_count": 5,
      "outputs": []
    },
    {
      "cell_type": "code",
      "metadata": {
        "id": "AAB1ImAYLalv",
        "colab_type": "code",
        "colab": {}
      },
      "source": [
        "#separate dataset (train, dev and test)\n",
        "df_train = df_list[0]\n",
        "df_dev = df_list[1]\n",
        "df_test = df_list[2]\n"
      ],
      "execution_count": 6,
      "outputs": []
    },
    {
      "cell_type": "code",
      "metadata": {
        "id": "H_YrEnaHOrGG",
        "colab_type": "code",
        "colab": {
          "base_uri": "https://localhost:8080/",
          "height": 374
        },
        "outputId": "cd1fe02d-bb85-4aba-a03d-b3a105b07c34"
      },
      "source": [
        "#show random 5 rows in each dataset (train, dev and test)\n",
        "print(\"Show train_data shape: {}\".format(df_train.shape))\n",
        "print(\"Show dev_data shape: {}\".format(df_dev.shape))\n",
        "print(\"Show test_data shape: {}\".format(df_test.shape))\n",
        "print(\"Show Random 5 rows:\")\n",
        "df_train.sample(5)\n",
        "\n"
      ],
      "execution_count": 7,
      "outputs": [
        {
          "output_type": "stream",
          "text": [
            "Show train_data shape: (5749, 7)\n",
            "Show dev_data shape: (1500, 7)\n",
            "Show test_data shape: (1379, 7)\n",
            "Show Random 5 rows:\n"
          ],
          "name": "stdout"
        },
        {
          "output_type": "execute_result",
          "data": {
            "text/html": [
              "<div>\n",
              "<style scoped>\n",
              "    .dataframe tbody tr th:only-of-type {\n",
              "        vertical-align: middle;\n",
              "    }\n",
              "\n",
              "    .dataframe tbody tr th {\n",
              "        vertical-align: top;\n",
              "    }\n",
              "\n",
              "    .dataframe thead th {\n",
              "        text-align: right;\n",
              "    }\n",
              "</style>\n",
              "<table border=\"1\" class=\"dataframe\">\n",
              "  <thead>\n",
              "    <tr style=\"text-align: right;\">\n",
              "      <th></th>\n",
              "      <th>genre</th>\n",
              "      <th>file</th>\n",
              "      <th>years</th>\n",
              "      <th>_</th>\n",
              "      <th>score(0-5)</th>\n",
              "      <th>sentence_1</th>\n",
              "      <th>sentence_2</th>\n",
              "    </tr>\n",
              "  </thead>\n",
              "  <tbody>\n",
              "    <tr>\n",
              "      <th>2299</th>\n",
              "      <td>main-forum</td>\n",
              "      <td>deft-forum</td>\n",
              "      <td>2014</td>\n",
              "      <td>299</td>\n",
              "      <td>1.8</td>\n",
              "      <td>Bush gets zero credit for the budget under him.</td>\n",
              "      <td>And, Obama gets zero credit for the budget und...</td>\n",
              "    </tr>\n",
              "    <tr>\n",
              "      <th>4096</th>\n",
              "      <td>main-news</td>\n",
              "      <td>headlines</td>\n",
              "      <td>2013</td>\n",
              "      <td>430</td>\n",
              "      <td>1.4</td>\n",
              "      <td>Heavy Fighting Reported in Syria's Aleppo</td>\n",
              "      <td>Heavy fighting reported in Damascus</td>\n",
              "    </tr>\n",
              "    <tr>\n",
              "      <th>1267</th>\n",
              "      <td>main-captions</td>\n",
              "      <td>images</td>\n",
              "      <td>2014</td>\n",
              "      <td>391</td>\n",
              "      <td>3.6</td>\n",
              "      <td>A girl riding on a brown and white horse.</td>\n",
              "      <td>A girl riding a brown horse.</td>\n",
              "    </tr>\n",
              "    <tr>\n",
              "      <th>5136</th>\n",
              "      <td>main-news</td>\n",
              "      <td>headlines</td>\n",
              "      <td>2015</td>\n",
              "      <td>461</td>\n",
              "      <td>4.2</td>\n",
              "      <td>Body of missing South Korean shipping tycoon f...</td>\n",
              "      <td>Sewol ferry disaster: Body of South Korean shi...</td>\n",
              "    </tr>\n",
              "    <tr>\n",
              "      <th>1020</th>\n",
              "      <td>main-captions</td>\n",
              "      <td>images</td>\n",
              "      <td>2014</td>\n",
              "      <td>29</td>\n",
              "      <td>0.0</td>\n",
              "      <td>A person in a blue shirt reclines near a coffe...</td>\n",
              "      <td>A person stands on the motorcycle seat and pop...</td>\n",
              "    </tr>\n",
              "  </tbody>\n",
              "</table>\n",
              "</div>"
            ],
            "text/plain": [
              "              genre  ...                                         sentence_2\n",
              "2299     main-forum  ...  And, Obama gets zero credit for the budget und...\n",
              "4096      main-news  ...                Heavy fighting reported in Damascus\n",
              "1267  main-captions  ...                       A girl riding a brown horse.\n",
              "5136      main-news  ...  Sewol ferry disaster: Body of South Korean shi...\n",
              "1020  main-captions  ...  A person stands on the motorcycle seat and pop...\n",
              "\n",
              "[5 rows x 7 columns]"
            ]
          },
          "metadata": {
            "tags": []
          },
          "execution_count": 7
        }
      ]
    },
    {
      "cell_type": "code",
      "metadata": {
        "id": "AiwBL8bglyEP",
        "colab_type": "code",
        "colab": {}
      },
      "source": [
        ""
      ],
      "execution_count": null,
      "outputs": []
    },
    {
      "cell_type": "markdown",
      "metadata": {
        "id": "rsWuhhJA0gal",
        "colab_type": "text"
      },
      "source": [
        "# **Text Preprocessing**"
      ]
    },
    {
      "cell_type": "markdown",
      "metadata": {
        "id": "qdTCfSMTzmed",
        "colab_type": "text"
      },
      "source": [
        "Prepare text data according to BERT format. We have to tokenize the text sequences/sentences as per the BERT requirements before feeding them into Model. For this, we will use 'BertTokenizer' from  'transformers' from hugging face."
      ]
    },
    {
      "cell_type": "code",
      "metadata": {
        "id": "TYQGuLbxehNW",
        "colab_type": "code",
        "colab": {
          "base_uri": "https://localhost:8080/",
          "height": 615
        },
        "outputId": "1d88a0d4-0956-4664-bc15-51ddeb3a16ee"
      },
      "source": [
        "#tranformer library from Hugging face\n",
        "!pip install transformers"
      ],
      "execution_count": 8,
      "outputs": [
        {
          "output_type": "stream",
          "text": [
            "Collecting transformers\n",
            "\u001b[?25l  Downloading https://files.pythonhosted.org/packages/27/3c/91ed8f5c4e7ef3227b4119200fc0ed4b4fd965b1f0172021c25701087825/transformers-3.0.2-py3-none-any.whl (769kB)\n",
            "\u001b[K     |████████████████████████████████| 778kB 2.8MB/s \n",
            "\u001b[?25hCollecting sacremoses\n",
            "\u001b[?25l  Downloading https://files.pythonhosted.org/packages/7d/34/09d19aff26edcc8eb2a01bed8e98f13a1537005d31e95233fd48216eed10/sacremoses-0.0.43.tar.gz (883kB)\n",
            "\u001b[K     |████████████████████████████████| 890kB 15.6MB/s \n",
            "\u001b[?25hCollecting sentencepiece!=0.1.92\n",
            "\u001b[?25l  Downloading https://files.pythonhosted.org/packages/d4/a4/d0a884c4300004a78cca907a6ff9a5e9fe4f090f5d95ab341c53d28cbc58/sentencepiece-0.1.91-cp36-cp36m-manylinux1_x86_64.whl (1.1MB)\n",
            "\u001b[K     |████████████████████████████████| 1.1MB 19.3MB/s \n",
            "\u001b[?25hRequirement already satisfied: dataclasses; python_version < \"3.7\" in /usr/local/lib/python3.6/dist-packages (from transformers) (0.7)\n",
            "Requirement already satisfied: tqdm>=4.27 in /usr/local/lib/python3.6/dist-packages (from transformers) (4.41.1)\n",
            "Requirement already satisfied: requests in /usr/local/lib/python3.6/dist-packages (from transformers) (2.23.0)\n",
            "Requirement already satisfied: filelock in /usr/local/lib/python3.6/dist-packages (from transformers) (3.0.12)\n",
            "Requirement already satisfied: numpy in /usr/local/lib/python3.6/dist-packages (from transformers) (1.18.5)\n",
            "Requirement already satisfied: regex!=2019.12.17 in /usr/local/lib/python3.6/dist-packages (from transformers) (2019.12.20)\n",
            "Requirement already satisfied: packaging in /usr/local/lib/python3.6/dist-packages (from transformers) (20.4)\n",
            "Collecting tokenizers==0.8.1.rc1\n",
            "\u001b[?25l  Downloading https://files.pythonhosted.org/packages/40/d0/30d5f8d221a0ed981a186c8eb986ce1c94e3a6e87f994eae9f4aa5250217/tokenizers-0.8.1rc1-cp36-cp36m-manylinux1_x86_64.whl (3.0MB)\n",
            "\u001b[K     |████████████████████████████████| 3.0MB 24.8MB/s \n",
            "\u001b[?25hRequirement already satisfied: six in /usr/local/lib/python3.6/dist-packages (from sacremoses->transformers) (1.15.0)\n",
            "Requirement already satisfied: click in /usr/local/lib/python3.6/dist-packages (from sacremoses->transformers) (7.1.2)\n",
            "Requirement already satisfied: joblib in /usr/local/lib/python3.6/dist-packages (from sacremoses->transformers) (0.16.0)\n",
            "Requirement already satisfied: certifi>=2017.4.17 in /usr/local/lib/python3.6/dist-packages (from requests->transformers) (2020.6.20)\n",
            "Requirement already satisfied: chardet<4,>=3.0.2 in /usr/local/lib/python3.6/dist-packages (from requests->transformers) (3.0.4)\n",
            "Requirement already satisfied: urllib3!=1.25.0,!=1.25.1,<1.26,>=1.21.1 in /usr/local/lib/python3.6/dist-packages (from requests->transformers) (1.24.3)\n",
            "Requirement already satisfied: idna<3,>=2.5 in /usr/local/lib/python3.6/dist-packages (from requests->transformers) (2.10)\n",
            "Requirement already satisfied: pyparsing>=2.0.2 in /usr/local/lib/python3.6/dist-packages (from packaging->transformers) (2.4.7)\n",
            "Building wheels for collected packages: sacremoses\n",
            "  Building wheel for sacremoses (setup.py) ... \u001b[?25l\u001b[?25hdone\n",
            "  Created wheel for sacremoses: filename=sacremoses-0.0.43-cp36-none-any.whl size=893260 sha256=e1b36c5a1c4093573cc698b226597d34476d5738180d99dea5833e446b5bba74\n",
            "  Stored in directory: /root/.cache/pip/wheels/29/3c/fd/7ce5c3f0666dab31a50123635e6fb5e19ceb42ce38d4e58f45\n",
            "Successfully built sacremoses\n",
            "Installing collected packages: sacremoses, sentencepiece, tokenizers, transformers\n",
            "Successfully installed sacremoses-0.0.43 sentencepiece-0.1.91 tokenizers-0.8.1rc1 transformers-3.0.2\n"
          ],
          "name": "stdout"
        }
      ]
    },
    {
      "cell_type": "code",
      "metadata": {
        "id": "vcFhA_hLzRpI",
        "colab_type": "code",
        "colab": {
          "base_uri": "https://localhost:8080/",
          "height": 66,
          "referenced_widgets": [
            "43c20c1f818e4004858b2d9df74a570f",
            "c246ee1e64cc47fe84b0618f6551a7f4",
            "5da576905f044788a78206f6fcc22504",
            "112dc2ad61b24d1eb3de5319047a55d4",
            "5ea873a69e9247dcb46f783cc36cffcc",
            "f11307df98ba49f39d68c958809b4985",
            "707452a2fece4c1c97b0dee5acb55028",
            "8463cdbfe0a944d0b658feed089be67d"
          ]
        },
        "outputId": "ae874d70-ae61-4abd-b45c-67e895886db6"
      },
      "source": [
        "#import libraries from hugging face\n",
        "from transformers import BertTokenizer, BertModel\n",
        "tokenizer= BertTokenizer.from_pretrained('bert-base-uncased') #initiate tokenizer "
      ],
      "execution_count": 9,
      "outputs": [
        {
          "output_type": "display_data",
          "data": {
            "application/vnd.jupyter.widget-view+json": {
              "model_id": "43c20c1f818e4004858b2d9df74a570f",
              "version_minor": 0,
              "version_major": 2
            },
            "text/plain": [
              "HBox(children=(FloatProgress(value=0.0, description='Downloading', max=231508.0, style=ProgressStyle(descripti…"
            ]
          },
          "metadata": {
            "tags": []
          }
        },
        {
          "output_type": "stream",
          "text": [
            "\n"
          ],
          "name": "stdout"
        }
      ]
    },
    {
      "cell_type": "code",
      "metadata": {
        "id": "X-nLTbRvew5W",
        "colab_type": "code",
        "colab": {
          "base_uri": "https://localhost:8080/",
          "height": 139
        },
        "outputId": "70d9aab2-e616-47e7-f9ab-f96dea99b59f"
      },
      "source": [
        "#check transformer\n",
        "!python -c \"from transformers import pipeline; print(pipeline('sentiment-analysis')('just normal'))\""
      ],
      "execution_count": null,
      "outputs": [
        {
          "output_type": "stream",
          "text": [
            "2020-07-23 10:55:29.266816: I tensorflow/stream_executor/platform/default/dso_loader.cc:44] Successfully opened dynamic library libcudart.so.10.1\n",
            "Downloading: 100% 629/629 [00:00<00:00, 485kB/s]\n",
            "Downloading: 100% 232k/232k [00:00<00:00, 1.73MB/s]\n",
            "Downloading: 100% 230/230 [00:00<00:00, 154kB/s]\n",
            "Downloading: 100% 268M/268M [00:13<00:00, 19.6MB/s]\n",
            "[{'label': 'POSITIVE', 'score': 0.9987471699714661}]\n"
          ],
          "name": "stdout"
        }
      ]
    },
    {
      "cell_type": "markdown",
      "metadata": {
        "id": "Q5AN3HUqX5hT",
        "colab_type": "text"
      },
      "source": [
        "#Hugging face Tokenizer\n",
        "Example of Tokenizer"
      ]
    },
    {
      "cell_type": "code",
      "metadata": {
        "id": "QHDUgN4VX3OQ",
        "colab_type": "code",
        "colab": {
          "base_uri": "https://localhost:8080/",
          "height": 119
        },
        "outputId": "7668e0b5-8008-4dd2-96e9-32beb90483df"
      },
      "source": [
        "#text\n",
        "text = df_train.sentence_1[0]\n",
        "print(text)\n",
        "\n",
        "\n",
        "#text\n",
        "text = df_train.sentence_1[0]\n",
        "print('Raw text: {}'.format(text))\n",
        "\n",
        "#Tokenize the text\n",
        "tokenize = tokenizer.tokenize(text)\n",
        "print('Tokenized text: {}'.format(tokenize))\n",
        "\n",
        "#encode text\n",
        "input_ids =tokenizer.encode(text) # add '[CLS]' and '[SEP]' tokens\n",
        "print('Encoded text: {}'.format(input_ids))\n",
        "\n",
        "#convert input_ids back to tokens\n",
        "ids_to_tokens= tokenizer.convert_ids_to_tokens(input_ids)\n",
        "print('ids_to_tokens: {}'.format(ids_to_tokens))\n",
        "\n",
        "#convert tokens back to input_ids\n",
        "tokens_to_ids= tokenizer.convert_tokens_to_ids(ids_to_tokens)\n",
        "print('tokens_to_ids: {}'.format(tokens_to_ids))"
      ],
      "execution_count": null,
      "outputs": [
        {
          "output_type": "stream",
          "text": [
            "A plane is taking off.\n",
            "Raw text: A plane is taking off.\n",
            "Tokenized text: ['a', 'plane', 'is', 'taking', 'off', '.']\n",
            "Encoded text: [101, 1037, 4946, 2003, 2635, 2125, 1012, 102]\n",
            "ids_to_tokens: ['[CLS]', 'a', 'plane', 'is', 'taking', 'off', '.', '[SEP]']\n",
            "tokens_to_ids: [101, 1037, 4946, 2003, 2635, 2125, 1012, 102]\n"
          ],
          "name": "stdout"
        }
      ]
    },
    {
      "cell_type": "code",
      "metadata": {
        "id": "wbJkTMr1X3Bi",
        "colab_type": "code",
        "colab": {}
      },
      "source": [
        ""
      ],
      "execution_count": null,
      "outputs": []
    },
    {
      "cell_type": "markdown",
      "metadata": {
        "id": "3mJLJNF5eL8c",
        "colab_type": "text"
      },
      "source": [
        "#Count tokens in Sequences\n",
        "Since we have to have equal length of every sequence, check the maximun token length in every sentences in all datasets and  we will use this max length for all sequences as fix-length size while doing sequence padding.\n",
        "\n",
        "Or, we may use the other  best max-length. So that there is no risk of loss of much tokens while doing truncating/padding  in the sequences."
      ]
    },
    {
      "cell_type": "code",
      "metadata": {
        "id": "6hRXkexz0YSg",
        "colab_type": "code",
        "colab": {
          "base_uri": "https://localhost:8080/",
          "height": 187
        },
        "outputId": "d56db6e7-3b3f-4628-cba2-a684e67b7f37"
      },
      "source": [
        "#counts tokens in sequences\n",
        "dataset_all = [df_train.sentence_1, df_train.sentence_2, df_dev.sentence_1, df_dev.sentence_2,df_test.sentence_1,df_test.sentence_2] #list of all dataset\n",
        "dataset_type_name = ['df_train.sentence_1', 'df_train.sentence_2', 'df_dev.sentence_1', 'df_dev.sentence_2', 'df_test.sentence_1', 'df_test.sentence_2'] #name of dataset\n",
        "\n",
        "max_len = 0 # tokens max count in overall datasets\n",
        "token_len_list = [] #store token counts for each dataset\n",
        "higest_token_len = {} # store higest token counts in each dataset\n",
        "\n",
        "\n",
        "#zip and iterate over all datasets\n",
        "for nam_data, each_dataset in zip(dataset_type_name, dataset_all):\n",
        "  token_len_dataset = [] #store each sequence count of each dataset\n",
        "  max_len_seq= 0 # max count of  sequence in each dataset \n",
        "\n",
        "  #iterate over sequences in each dataset\n",
        "  for sent in each_dataset:\n",
        "    tokens = tokenizer.encode(sent) #tokenize\n",
        "    tokens_len = len(tokens) # count length\n",
        "    token_len_dataset.append(tokens_len) \n",
        "    \n",
        "    \n",
        "    # keep tracking the higest counts in each dataset\n",
        "    if tokens_len > max_len_seq:\n",
        "      max_len_seq = tokens_len\n",
        "    \n",
        "    #higest count overall dataset\n",
        "    if max_len_seq > max_len:\n",
        "      max_len = max_len_seq\n",
        "       \n",
        "  higest_token_len[nam_data] =  max_len_seq \n",
        "  token_len_list.append(token_len_dataset)\n",
        "\n",
        "print(\"Higest tokens number in 3 datasets: %s .\" % (max_len))\n",
        "print()\n",
        "print('Higest counts in each dataset:\\n')\n",
        "higest_token_len\n"
      ],
      "execution_count": null,
      "outputs": [
        {
          "output_type": "stream",
          "text": [
            "Higest tokens number in 3 datasets: 70 .\n",
            "\n",
            "Higest counts in each dataset:\n",
            "\n"
          ],
          "name": "stdout"
        },
        {
          "output_type": "execute_result",
          "data": {
            "text/plain": [
              "{'df_dev.sentence_1': 45,\n",
              " 'df_dev.sentence_2': 53,\n",
              " 'df_test.sentence_1': 43,\n",
              " 'df_test.sentence_2': 46,\n",
              " 'df_train.sentence_1': 70,\n",
              " 'df_train.sentence_2': 63}"
            ]
          },
          "metadata": {
            "tags": []
          },
          "execution_count": 12
        }
      ]
    },
    {
      "cell_type": "code",
      "metadata": {
        "id": "5wzZ_weSCN0R",
        "colab_type": "code",
        "colab": {}
      },
      "source": [
        ""
      ],
      "execution_count": null,
      "outputs": []
    },
    {
      "cell_type": "code",
      "metadata": {
        "id": "RB-hYEgEaLWz",
        "colab_type": "code",
        "colab": {
          "base_uri": "https://localhost:8080/",
          "height": 797
        },
        "outputId": "6fa129d1-eda8-4c5f-c3ca-bd1903b35ace"
      },
      "source": [
        "#Plot the diagram to show the tokens' length distribution in dataset\n",
        "import seaborn as sns\n",
        "from matplotlib import pyplot as plt\n",
        "\n",
        "# data to plot\n",
        "data = token_len_list \n",
        "\n",
        "#creates subplots  with nrows=3, ncols=2\n",
        "fig, axes = plt.subplots(nrows=3, ncols=2, figsize=(12,11))\n",
        "sns.set(style='darkgrid') #set plot style\n",
        "\n",
        "#change 'axes' to 1d, zip and emumerate\n",
        "for i, (name, axe)  in enumerate(zip(dataset_type_name, axes.flatten())):\n",
        "  sns.distplot(token_len_list[i], axlabel ='Tokens Count', ax=axe) #distplot type\n",
        "  name = name + ': (tokens_max_count= '+ str(higest_token_len[name]) + ')' #title (for example: df_train.sentence_1:(max_count=70))\n",
        "  axe.set_title(name) #title for each suplots\n",
        "fig.tight_layout()#fit nicely\n",
        "plt.show()\n"
      ],
      "execution_count": null,
      "outputs": [
        {
          "output_type": "display_data",
          "data": {
            "image/png": "[encoded data removed]",
            "text/plain": [
              "<Figure size 864x792 with 6 Axes>"
            ]
          },
          "metadata": {
            "tags": []
          }
        }
      ]
    },
    {
      "cell_type": "markdown",
      "metadata": {
        "id": "qerS7dkL-88l",
        "colab_type": "text"
      },
      "source": [
        "**Observation**:  The max tokens count  in a sequence is 70 in all dataset. Among all dataset, the train dataset(both in sentence1 and sentence 2) have higer tokens count of 70 and 63 respectively. But, the majority of tokens length are about 40 counts. \n",
        "\n",
        "So, this gives us the good idea for selecting the max-length of tokens in a sequence.  We may put our max-length of 60, so that we will not truncate more tokens(loss information) and also don't have to do more padding.\n",
        "\n",
        "But, we may use 120 tokens length (double of a single sequence) for the model architecure where a pair of sentence are required to feed together."
      ]
    },
    {
      "cell_type": "code",
      "metadata": {
        "id": "ublMhtvmGQsa",
        "colab_type": "code",
        "colab": {}
      },
      "source": [
        ""
      ],
      "execution_count": null,
      "outputs": []
    },
    {
      "cell_type": "markdown",
      "metadata": {
        "id": "H8-6qnrXwZ91",
        "colab_type": "text"
      },
      "source": [
        "# Part-1: Sentence Level Embedding Extraction\n",
        "For Sentence Embedding Extraction, last 4 hidden layers are concatenated and mean pooling of words in a sequence/sentence is done. So, the final dimension of a sentence vector representation is 768*4 =3072."
      ]
    },
    {
      "cell_type": "code",
      "metadata": {
        "id": "pNtl2Tj-OOS2",
        "colab_type": "code",
        "colab": {}
      },
      "source": [
        "#function to extract sentence level embedding \n",
        "def sent_embedding(sent, model):\n",
        "  \"\"\"\n",
        "   Concatenate from last 4 layers and Mean pooling of words in  a sequence\n",
        "\n",
        "  Args:\n",
        "     sent: list of sentences\n",
        "     model: BERT pre-trained model\n",
        "\n",
        "  Returns:\n",
        "     sent_embedding: 2d tensor \n",
        "\n",
        "  \"\"\"\n",
        "\n",
        "  #tokenize sequence into fix-length size of 60 tokens \n",
        "  #add ['CLS'], ['SEP'] and return 2d 'input_ids', 'attention_masks' and 'token_type_ids'\n",
        "  tokens = tokenizer( sent,  #list of strings\n",
        "                      padding = 'max_length', # padding max-length\n",
        "                      truncation = True, # truncate max-length\n",
        "                      max_length = 60, # max tokens size\n",
        "                      return_tensors='pt',  #return pytorch tensor\n",
        "                      verbose = False # stop throwing warnings\n",
        "                     )\n",
        "    \n",
        "\n",
        "\n",
        "  #feed input_ids to BERT model\n",
        "  with torch.no_grad():  # reduces memory consumption\n",
        "        outputs = model(tokens['input_ids'], tokens['attention_mask']) \n",
        "        hidden_states = outputs[2] # all hidden layers\n",
        "\n",
        "  concat_embeding = torch.cat(tuple([hidden_states[i] for i in [-4,-3,-2,-1]]), dim = 2) #concatenation last 4 hidden layers\n",
        "  print('Concatenated Vector Dimension: ',concat_embeding.shape )\n",
        "  padded = tokens['attention_mask'].unsqueeze(2) # insert size one at 2 position to make 3 dim\n",
        "  mul_out = torch.mul(concat_embeding, padded)# make zeros vector for paddding tokens\n",
        "  sent_embeding = mul_out.mean(dim=1) # average pooling  of tokens\n",
        "  print('Sentence Embedding Dimension: ',sent_embeding.shape )\n",
        "   \n",
        "  return sent_embeding\n",
        "\n"
      ],
      "execution_count": null,
      "outputs": []
    },
    {
      "cell_type": "code",
      "metadata": {
        "id": "P5AASUSgMJi5",
        "colab_type": "code",
        "colab": {
          "base_uri": "https://localhost:8080/",
          "height": 1000,
          "referenced_widgets": [
            "5cf30b4c088944b8b0323d0b5f12a94e",
            "4250143d552246789f540fa9046c221c",
            "e514893512754f3c856bb04f152bc315",
            "51ee6b0458a44ada939b7027a8b7325e",
            "983a32fd4f624c0f8c3efcd4424c4770",
            "1bb4cd9f8d534bd8b800b0fbb34aaa70",
            "b7d7d32b75a0410a969f228458680002",
            "03ff6b4b47704be497fc098c901ade7a",
            "516c2f83a7064100bac2b02cbf8b1e1f",
            "b750c4038868401fa619998c1dda17e8",
            "973100cbb473468ab72e55f1592a140a",
            "fa68d4e1149b426bb43cf8215dffcf6a",
            "35aa3d0ceddc47f187c3cedfa09d8af5",
            "22242db547034212987ca2a07d4588bb",
            "28806f2b80914487b1c041428d5ed53d",
            "c77b29edad3e457999ae0bb52aa8dde7"
          ]
        },
        "outputId": "5046c016-03ea-4ca4-8c36-479afcd594c2"
      },
      "source": [
        "#initiate the pre-trained model\n",
        "model = BertModel.from_pretrained(  'bert-base-uncased',\n",
        "                                     output_hidden_states = True # return all hidden-states\n",
        "                                    )\n",
        "#put model in evaluation\n",
        "model.eval()"
      ],
      "execution_count": null,
      "outputs": [
        {
          "output_type": "display_data",
          "data": {
            "application/vnd.jupyter.widget-view+json": {
              "model_id": "5cf30b4c088944b8b0323d0b5f12a94e",
              "version_minor": 0,
              "version_major": 2
            },
            "text/plain": [
              "HBox(children=(FloatProgress(value=0.0, description='Downloading', max=433.0, style=ProgressStyle(description_…"
            ]
          },
          "metadata": {
            "tags": []
          }
        },
        {
          "output_type": "stream",
          "text": [
            "\n"
          ],
          "name": "stdout"
        },
        {
          "output_type": "display_data",
          "data": {
            "application/vnd.jupyter.widget-view+json": {
              "model_id": "516c2f83a7064100bac2b02cbf8b1e1f",
              "version_minor": 0,
              "version_major": 2
            },
            "text/plain": [
              "HBox(children=(FloatProgress(value=0.0, description='Downloading', max=440473133.0, style=ProgressStyle(descri…"
            ]
          },
          "metadata": {
            "tags": []
          }
        },
        {
          "output_type": "stream",
          "text": [
            "\n"
          ],
          "name": "stdout"
        },
        {
          "output_type": "execute_result",
          "data": {
            "text/plain": [
              "BertModel(\n",
              "  (embeddings): BertEmbeddings(\n",
              "    (word_embeddings): Embedding(30522, 768, padding_idx=0)\n",
              "    (position_embeddings): Embedding(512, 768)\n",
              "    (token_type_embeddings): Embedding(2, 768)\n",
              "    (LayerNorm): LayerNorm((768,), eps=1e-12, elementwise_affine=True)\n",
              "    (dropout): Dropout(p=0.1, inplace=False)\n",
              "  )\n",
              "  (encoder): BertEncoder(\n",
              "    (layer): ModuleList(\n",
              "      (0): BertLayer(\n",
              "        (attention): BertAttention(\n",
              "          (self): BertSelfAttention(\n",
              "            (query): Linear(in_features=768, out_features=768, bias=True)\n",
              "            (key): Linear(in_features=768, out_features=768, bias=True)\n",
              "            (value): Linear(in_features=768, out_features=768, bias=True)\n",
              "            (dropout): Dropout(p=0.1, inplace=False)\n",
              "          )\n",
              "          (output): BertSelfOutput(\n",
              "            (dense): Linear(in_features=768, out_features=768, bias=True)\n",
              "            (LayerNorm): LayerNorm((768,), eps=1e-12, elementwise_affine=True)\n",
              "            (dropout): Dropout(p=0.1, inplace=False)\n",
              "          )\n",
              "        )\n",
              "        (intermediate): BertIntermediate(\n",
              "          (dense): Linear(in_features=768, out_features=3072, bias=True)\n",
              "        )\n",
              "        (output): BertOutput(\n",
              "          (dense): Linear(in_features=3072, out_features=768, bias=True)\n",
              "          (LayerNorm): LayerNorm((768,), eps=1e-12, elementwise_affine=True)\n",
              "          (dropout): Dropout(p=0.1, inplace=False)\n",
              "        )\n",
              "      )\n",
              "      (1): BertLayer(\n",
              "        (attention): BertAttention(\n",
              "          (self): BertSelfAttention(\n",
              "            (query): Linear(in_features=768, out_features=768, bias=True)\n",
              "            (key): Linear(in_features=768, out_features=768, bias=True)\n",
              "            (value): Linear(in_features=768, out_features=768, bias=True)\n",
              "            (dropout): Dropout(p=0.1, inplace=False)\n",
              "          )\n",
              "          (output): BertSelfOutput(\n",
              "            (dense): Linear(in_features=768, out_features=768, bias=True)\n",
              "            (LayerNorm): LayerNorm((768,), eps=1e-12, elementwise_affine=True)\n",
              "            (dropout): Dropout(p=0.1, inplace=False)\n",
              "          )\n",
              "        )\n",
              "        (intermediate): BertIntermediate(\n",
              "          (dense): Linear(in_features=768, out_features=3072, bias=True)\n",
              "        )\n",
              "        (output): BertOutput(\n",
              "          (dense): Linear(in_features=3072, out_features=768, bias=True)\n",
              "          (LayerNorm): LayerNorm((768,), eps=1e-12, elementwise_affine=True)\n",
              "          (dropout): Dropout(p=0.1, inplace=False)\n",
              "        )\n",
              "      )\n",
              "      (2): BertLayer(\n",
              "        (attention): BertAttention(\n",
              "          (self): BertSelfAttention(\n",
              "            (query): Linear(in_features=768, out_features=768, bias=True)\n",
              "            (key): Linear(in_features=768, out_features=768, bias=True)\n",
              "            (value): Linear(in_features=768, out_features=768, bias=True)\n",
              "            (dropout): Dropout(p=0.1, inplace=False)\n",
              "          )\n",
              "          (output): BertSelfOutput(\n",
              "            (dense): Linear(in_features=768, out_features=768, bias=True)\n",
              "            (LayerNorm): LayerNorm((768,), eps=1e-12, elementwise_affine=True)\n",
              "            (dropout): Dropout(p=0.1, inplace=False)\n",
              "          )\n",
              "        )\n",
              "        (intermediate): BertIntermediate(\n",
              "          (dense): Linear(in_features=768, out_features=3072, bias=True)\n",
              "        )\n",
              "        (output): BertOutput(\n",
              "          (dense): Linear(in_features=3072, out_features=768, bias=True)\n",
              "          (LayerNorm): LayerNorm((768,), eps=1e-12, elementwise_affine=True)\n",
              "          (dropout): Dropout(p=0.1, inplace=False)\n",
              "        )\n",
              "      )\n",
              "      (3): BertLayer(\n",
              "        (attention): BertAttention(\n",
              "          (self): BertSelfAttention(\n",
              "            (query): Linear(in_features=768, out_features=768, bias=True)\n",
              "            (key): Linear(in_features=768, out_features=768, bias=True)\n",
              "            (value): Linear(in_features=768, out_features=768, bias=True)\n",
              "            (dropout): Dropout(p=0.1, inplace=False)\n",
              "          )\n",
              "          (output): BertSelfOutput(\n",
              "            (dense): Linear(in_features=768, out_features=768, bias=True)\n",
              "            (LayerNorm): LayerNorm((768,), eps=1e-12, elementwise_affine=True)\n",
              "            (dropout): Dropout(p=0.1, inplace=False)\n",
              "          )\n",
              "        )\n",
              "        (intermediate): BertIntermediate(\n",
              "          (dense): Linear(in_features=768, out_features=3072, bias=True)\n",
              "        )\n",
              "        (output): BertOutput(\n",
              "          (dense): Linear(in_features=3072, out_features=768, bias=True)\n",
              "          (LayerNorm): LayerNorm((768,), eps=1e-12, elementwise_affine=True)\n",
              "          (dropout): Dropout(p=0.1, inplace=False)\n",
              "        )\n",
              "      )\n",
              "      (4): BertLayer(\n",
              "        (attention): BertAttention(\n",
              "          (self): BertSelfAttention(\n",
              "            (query): Linear(in_features=768, out_features=768, bias=True)\n",
              "            (key): Linear(in_features=768, out_features=768, bias=True)\n",
              "            (value): Linear(in_features=768, out_features=768, bias=True)\n",
              "            (dropout): Dropout(p=0.1, inplace=False)\n",
              "          )\n",
              "          (output): BertSelfOutput(\n",
              "            (dense): Linear(in_features=768, out_features=768, bias=True)\n",
              "            (LayerNorm): LayerNorm((768,), eps=1e-12, elementwise_affine=True)\n",
              "            (dropout): Dropout(p=0.1, inplace=False)\n",
              "          )\n",
              "        )\n",
              "        (intermediate): BertIntermediate(\n",
              "          (dense): Linear(in_features=768, out_features=3072, bias=True)\n",
              "        )\n",
              "        (output): BertOutput(\n",
              "          (dense): Linear(in_features=3072, out_features=768, bias=True)\n",
              "          (LayerNorm): LayerNorm((768,), eps=1e-12, elementwise_affine=True)\n",
              "          (dropout): Dropout(p=0.1, inplace=False)\n",
              "        )\n",
              "      )\n",
              "      (5): BertLayer(\n",
              "        (attention): BertAttention(\n",
              "          (self): BertSelfAttention(\n",
              "            (query): Linear(in_features=768, out_features=768, bias=True)\n",
              "            (key): Linear(in_features=768, out_features=768, bias=True)\n",
              "            (value): Linear(in_features=768, out_features=768, bias=True)\n",
              "            (dropout): Dropout(p=0.1, inplace=False)\n",
              "          )\n",
              "          (output): BertSelfOutput(\n",
              "            (dense): Linear(in_features=768, out_features=768, bias=True)\n",
              "            (LayerNorm): LayerNorm((768,), eps=1e-12, elementwise_affine=True)\n",
              "            (dropout): Dropout(p=0.1, inplace=False)\n",
              "          )\n",
              "        )\n",
              "        (intermediate): BertIntermediate(\n",
              "          (dense): Linear(in_features=768, out_features=3072, bias=True)\n",
              "        )\n",
              "        (output): BertOutput(\n",
              "          (dense): Linear(in_features=3072, out_features=768, bias=True)\n",
              "          (LayerNorm): LayerNorm((768,), eps=1e-12, elementwise_affine=True)\n",
              "          (dropout): Dropout(p=0.1, inplace=False)\n",
              "        )\n",
              "      )\n",
              "      (6): BertLayer(\n",
              "        (attention): BertAttention(\n",
              "          (self): BertSelfAttention(\n",
              "            (query): Linear(in_features=768, out_features=768, bias=True)\n",
              "            (key): Linear(in_features=768, out_features=768, bias=True)\n",
              "            (value): Linear(in_features=768, out_features=768, bias=True)\n",
              "            (dropout): Dropout(p=0.1, inplace=False)\n",
              "          )\n",
              "          (output): BertSelfOutput(\n",
              "            (dense): Linear(in_features=768, out_features=768, bias=True)\n",
              "            (LayerNorm): LayerNorm((768,), eps=1e-12, elementwise_affine=True)\n",
              "            (dropout): Dropout(p=0.1, inplace=False)\n",
              "          )\n",
              "        )\n",
              "        (intermediate): BertIntermediate(\n",
              "          (dense): Linear(in_features=768, out_features=3072, bias=True)\n",
              "        )\n",
              "        (output): BertOutput(\n",
              "          (dense): Linear(in_features=3072, out_features=768, bias=True)\n",
              "          (LayerNorm): LayerNorm((768,), eps=1e-12, elementwise_affine=True)\n",
              "          (dropout): Dropout(p=0.1, inplace=False)\n",
              "        )\n",
              "      )\n",
              "      (7): BertLayer(\n",
              "        (attention): BertAttention(\n",
              "          (self): BertSelfAttention(\n",
              "            (query): Linear(in_features=768, out_features=768, bias=True)\n",
              "            (key): Linear(in_features=768, out_features=768, bias=True)\n",
              "            (value): Linear(in_features=768, out_features=768, bias=True)\n",
              "            (dropout): Dropout(p=0.1, inplace=False)\n",
              "          )\n",
              "          (output): BertSelfOutput(\n",
              "            (dense): Linear(in_features=768, out_features=768, bias=True)\n",
              "            (LayerNorm): LayerNorm((768,), eps=1e-12, elementwise_affine=True)\n",
              "            (dropout): Dropout(p=0.1, inplace=False)\n",
              "          )\n",
              "        )\n",
              "        (intermediate): BertIntermediate(\n",
              "          (dense): Linear(in_features=768, out_features=3072, bias=True)\n",
              "        )\n",
              "        (output): BertOutput(\n",
              "          (dense): Linear(in_features=3072, out_features=768, bias=True)\n",
              "          (LayerNorm): LayerNorm((768,), eps=1e-12, elementwise_affine=True)\n",
              "          (dropout): Dropout(p=0.1, inplace=False)\n",
              "        )\n",
              "      )\n",
              "      (8): BertLayer(\n",
              "        (attention): BertAttention(\n",
              "          (self): BertSelfAttention(\n",
              "            (query): Linear(in_features=768, out_features=768, bias=True)\n",
              "            (key): Linear(in_features=768, out_features=768, bias=True)\n",
              "            (value): Linear(in_features=768, out_features=768, bias=True)\n",
              "            (dropout): Dropout(p=0.1, inplace=False)\n",
              "          )\n",
              "          (output): BertSelfOutput(\n",
              "            (dense): Linear(in_features=768, out_features=768, bias=True)\n",
              "            (LayerNorm): LayerNorm((768,), eps=1e-12, elementwise_affine=True)\n",
              "            (dropout): Dropout(p=0.1, inplace=False)\n",
              "          )\n",
              "        )\n",
              "        (intermediate): BertIntermediate(\n",
              "          (dense): Linear(in_features=768, out_features=3072, bias=True)\n",
              "        )\n",
              "        (output): BertOutput(\n",
              "          (dense): Linear(in_features=3072, out_features=768, bias=True)\n",
              "          (LayerNorm): LayerNorm((768,), eps=1e-12, elementwise_affine=True)\n",
              "          (dropout): Dropout(p=0.1, inplace=False)\n",
              "        )\n",
              "      )\n",
              "      (9): BertLayer(\n",
              "        (attention): BertAttention(\n",
              "          (self): BertSelfAttention(\n",
              "            (query): Linear(in_features=768, out_features=768, bias=True)\n",
              "            (key): Linear(in_features=768, out_features=768, bias=True)\n",
              "            (value): Linear(in_features=768, out_features=768, bias=True)\n",
              "            (dropout): Dropout(p=0.1, inplace=False)\n",
              "          )\n",
              "          (output): BertSelfOutput(\n",
              "            (dense): Linear(in_features=768, out_features=768, bias=True)\n",
              "            (LayerNorm): LayerNorm((768,), eps=1e-12, elementwise_affine=True)\n",
              "            (dropout): Dropout(p=0.1, inplace=False)\n",
              "          )\n",
              "        )\n",
              "        (intermediate): BertIntermediate(\n",
              "          (dense): Linear(in_features=768, out_features=3072, bias=True)\n",
              "        )\n",
              "        (output): BertOutput(\n",
              "          (dense): Linear(in_features=3072, out_features=768, bias=True)\n",
              "          (LayerNorm): LayerNorm((768,), eps=1e-12, elementwise_affine=True)\n",
              "          (dropout): Dropout(p=0.1, inplace=False)\n",
              "        )\n",
              "      )\n",
              "      (10): BertLayer(\n",
              "        (attention): BertAttention(\n",
              "          (self): BertSelfAttention(\n",
              "            (query): Linear(in_features=768, out_features=768, bias=True)\n",
              "            (key): Linear(in_features=768, out_features=768, bias=True)\n",
              "            (value): Linear(in_features=768, out_features=768, bias=True)\n",
              "            (dropout): Dropout(p=0.1, inplace=False)\n",
              "          )\n",
              "          (output): BertSelfOutput(\n",
              "            (dense): Linear(in_features=768, out_features=768, bias=True)\n",
              "            (LayerNorm): LayerNorm((768,), eps=1e-12, elementwise_affine=True)\n",
              "            (dropout): Dropout(p=0.1, inplace=False)\n",
              "          )\n",
              "        )\n",
              "        (intermediate): BertIntermediate(\n",
              "          (dense): Linear(in_features=768, out_features=3072, bias=True)\n",
              "        )\n",
              "        (output): BertOutput(\n",
              "          (dense): Linear(in_features=3072, out_features=768, bias=True)\n",
              "          (LayerNorm): LayerNorm((768,), eps=1e-12, elementwise_affine=True)\n",
              "          (dropout): Dropout(p=0.1, inplace=False)\n",
              "        )\n",
              "      )\n",
              "      (11): BertLayer(\n",
              "        (attention): BertAttention(\n",
              "          (self): BertSelfAttention(\n",
              "            (query): Linear(in_features=768, out_features=768, bias=True)\n",
              "            (key): Linear(in_features=768, out_features=768, bias=True)\n",
              "            (value): Linear(in_features=768, out_features=768, bias=True)\n",
              "            (dropout): Dropout(p=0.1, inplace=False)\n",
              "          )\n",
              "          (output): BertSelfOutput(\n",
              "            (dense): Linear(in_features=768, out_features=768, bias=True)\n",
              "            (LayerNorm): LayerNorm((768,), eps=1e-12, elementwise_affine=True)\n",
              "            (dropout): Dropout(p=0.1, inplace=False)\n",
              "          )\n",
              "        )\n",
              "        (intermediate): BertIntermediate(\n",
              "          (dense): Linear(in_features=768, out_features=3072, bias=True)\n",
              "        )\n",
              "        (output): BertOutput(\n",
              "          (dense): Linear(in_features=3072, out_features=768, bias=True)\n",
              "          (LayerNorm): LayerNorm((768,), eps=1e-12, elementwise_affine=True)\n",
              "          (dropout): Dropout(p=0.1, inplace=False)\n",
              "        )\n",
              "      )\n",
              "    )\n",
              "  )\n",
              "  (pooler): BertPooler(\n",
              "    (dense): Linear(in_features=768, out_features=768, bias=True)\n",
              "    (activation): Tanh()\n",
              "  )\n",
              ")"
            ]
          },
          "metadata": {
            "tags": []
          },
          "execution_count": 14
        }
      ]
    },
    {
      "cell_type": "code",
      "metadata": {
        "id": "bDAZdXehtOby",
        "colab_type": "code",
        "colab": {
          "base_uri": "https://localhost:8080/",
          "height": 493
        },
        "outputId": "0767c9a7-e6d9-4b50-9657-5405d5ab7f57"
      },
      "source": [
        "#check paramerts in model\n",
        "params = list(model.named_parameters())\n",
        "print(len(params))\n",
        "for p in params[0:5]:\n",
        "    print(\"{:<55} {:>12}\".format(p[0], str(tuple(p[1].size()))))\n",
        "\n",
        "print()\n",
        "\n",
        "for p in params[21:21+16]:\n",
        "    print(\"{:<55} {:>12}\".format(p[0], str(tuple(p[1].size()))))\n",
        "\n",
        "print()\n",
        "for p in params[-4:]:\n",
        "    print(\"{:<55} {:>12}\".format(p[0], str(tuple(p[1].size()))))"
      ],
      "execution_count": null,
      "outputs": [
        {
          "output_type": "stream",
          "text": [
            "199\n",
            "embeddings.word_embeddings.weight                       (30522, 768)\n",
            "embeddings.position_embeddings.weight                     (512, 768)\n",
            "embeddings.token_type_embeddings.weight                     (2, 768)\n",
            "embeddings.LayerNorm.weight                                   (768,)\n",
            "embeddings.LayerNorm.bias                                     (768,)\n",
            "\n",
            "encoder.layer.1.attention.self.query.weight               (768, 768)\n",
            "encoder.layer.1.attention.self.query.bias                     (768,)\n",
            "encoder.layer.1.attention.self.key.weight                 (768, 768)\n",
            "encoder.layer.1.attention.self.key.bias                       (768,)\n",
            "encoder.layer.1.attention.self.value.weight               (768, 768)\n",
            "encoder.layer.1.attention.self.value.bias                     (768,)\n",
            "encoder.layer.1.attention.output.dense.weight             (768, 768)\n",
            "encoder.layer.1.attention.output.dense.bias                   (768,)\n",
            "encoder.layer.1.attention.output.LayerNorm.weight             (768,)\n",
            "encoder.layer.1.attention.output.LayerNorm.bias               (768,)\n",
            "encoder.layer.1.intermediate.dense.weight                (3072, 768)\n",
            "encoder.layer.1.intermediate.dense.bias                      (3072,)\n",
            "encoder.layer.1.output.dense.weight                      (768, 3072)\n",
            "encoder.layer.1.output.dense.bias                             (768,)\n",
            "encoder.layer.1.output.LayerNorm.weight                       (768,)\n",
            "encoder.layer.1.output.LayerNorm.bias                         (768,)\n",
            "\n",
            "encoder.layer.11.output.LayerNorm.weight                      (768,)\n",
            "encoder.layer.11.output.LayerNorm.bias                        (768,)\n",
            "pooler.dense.weight                                       (768, 768)\n",
            "pooler.dense.bias                                             (768,)\n"
          ],
          "name": "stdout"
        }
      ]
    },
    {
      "cell_type": "code",
      "metadata": {
        "id": "xLA8lPX5EN2G",
        "colab_type": "code",
        "colab": {}
      },
      "source": [
        ""
      ],
      "execution_count": null,
      "outputs": []
    },
    {
      "cell_type": "code",
      "metadata": {
        "id": "9H_0awHH2Ucr",
        "colab_type": "code",
        "colab": {}
      },
      "source": [
        ""
      ],
      "execution_count": null,
      "outputs": []
    },
    {
      "cell_type": "markdown",
      "metadata": {
        "id": "vOn7EXoMRNTb",
        "colab_type": "text"
      },
      "source": [
        "#Extract Sentence level embedding\n",
        "Now, lets extract sentence level vector representation for all 3 datasets. "
      ]
    },
    {
      "cell_type": "code",
      "metadata": {
        "id": "YG0mK0m0zJHs",
        "colab_type": "code",
        "colab": {
          "base_uri": "https://localhost:8080/",
          "height": 119
        },
        "outputId": "f8b815b8-1bcb-4a51-df79-a9ddd4190139"
      },
      "source": [
        "%%time\n",
        "#dev dataset\n",
        "df_dev_sentence_1 = sent_embedding(df_dev.sentence_1.tolist(), model)\n",
        "df_dev_sentence_2 = sent_embedding(df_dev.sentence_2.tolist(), model)"
      ],
      "execution_count": null,
      "outputs": [
        {
          "output_type": "stream",
          "text": [
            "Concatenated Vector Dimension:  torch.Size([1500, 60, 3072])\n",
            "Sentence Embedding Dimension:  torch.Size([1500, 3072])\n",
            "Concatenated Vector Dimension:  torch.Size([1500, 60, 3072])\n",
            "Sentence Embedding Dimension:  torch.Size([1500, 3072])\n",
            "CPU times: user 8min 40s, sys: 11.1 s, total: 8min 51s\n",
            "Wall time: 8min 52s\n"
          ],
          "name": "stdout"
        }
      ]
    },
    {
      "cell_type": "code",
      "metadata": {
        "id": "Oj3ks6x98cQ4",
        "colab_type": "code",
        "colab": {}
      },
      "source": [
        ""
      ],
      "execution_count": null,
      "outputs": []
    },
    {
      "cell_type": "code",
      "metadata": {
        "id": "37r03c58pruB",
        "colab_type": "code",
        "colab": {
          "base_uri": "https://localhost:8080/",
          "height": 119
        },
        "outputId": "467f595c-de1e-45bc-9094-3ac15775e30b"
      },
      "source": [
        "%%time\n",
        "#test dataset\n",
        "df_test_sentence_1 = sent_embedding(df_test.sentence_1.tolist(), model)\n",
        "df_test_sentence_2 = sent_embedding(df_test.sentence_2.tolist(), model)"
      ],
      "execution_count": null,
      "outputs": [
        {
          "output_type": "stream",
          "text": [
            "Concatenated Vector Dimension:  torch.Size([1379, 60, 3072])\n",
            "Sentence Embedding Dimension:  torch.Size([1379, 3072])\n",
            "Concatenated Vector Dimension:  torch.Size([1379, 60, 3072])\n",
            "Sentence Embedding Dimension:  torch.Size([1379, 3072])\n",
            "CPU times: user 7min 59s, sys: 2.55 s, total: 8min 1s\n",
            "Wall time: 8min 2s\n"
          ],
          "name": "stdout"
        }
      ]
    },
    {
      "cell_type": "code",
      "metadata": {
        "id": "oPfxsq_BSvY1",
        "colab_type": "code",
        "colab": {}
      },
      "source": [
        ""
      ],
      "execution_count": null,
      "outputs": []
    },
    {
      "cell_type": "code",
      "metadata": {
        "id": "kNbpHF-US11U",
        "colab_type": "code",
        "colab": {
          "base_uri": "https://localhost:8080/",
          "height": 323
        },
        "outputId": "af6954b3-7d94-4469-e120-1dbb69ebeb0d"
      },
      "source": [
        "%%time\n",
        "#train dataset\n",
        "train_embed_sentence_1 =  []\n",
        "train_embed_sentence_2 =  []\n",
        "\n",
        "#make batches to avoid crash of RAM\n",
        "for x in range(0, df_train.shape[0], 1500):\n",
        "  embed_1= sent_embedding(df_train.sentence_1.tolist()[x: x+1500], model)\n",
        "  embed_2= sent_embedding(df_train.sentence_2.tolist()[x: x+1500], model)\n",
        "  train_embed_sentence_1.extend(embed_1)\n",
        "  train_embed_sentence_2.extend(embed_2)\n",
        "\n",
        "  "
      ],
      "execution_count": null,
      "outputs": [
        {
          "output_type": "stream",
          "text": [
            "Concatenated Vector Dimension:  torch.Size([1500, 60, 3072])\n",
            "Sentence Embedding Dimension:  torch.Size([1500, 3072])\n",
            "Concatenated Vector Dimension:  torch.Size([1500, 60, 3072])\n",
            "Sentence Embedding Dimension:  torch.Size([1500, 3072])\n",
            "Concatenated Vector Dimension:  torch.Size([1500, 60, 3072])\n",
            "Sentence Embedding Dimension:  torch.Size([1500, 3072])\n",
            "Concatenated Vector Dimension:  torch.Size([1500, 60, 3072])\n",
            "Sentence Embedding Dimension:  torch.Size([1500, 3072])\n",
            "Concatenated Vector Dimension:  torch.Size([1500, 60, 3072])\n",
            "Sentence Embedding Dimension:  torch.Size([1500, 3072])\n",
            "Concatenated Vector Dimension:  torch.Size([1500, 60, 3072])\n",
            "Sentence Embedding Dimension:  torch.Size([1500, 3072])\n",
            "Concatenated Vector Dimension:  torch.Size([1249, 60, 3072])\n",
            "Sentence Embedding Dimension:  torch.Size([1249, 3072])\n",
            "Concatenated Vector Dimension:  torch.Size([1249, 60, 3072])\n",
            "Sentence Embedding Dimension:  torch.Size([1249, 3072])\n",
            "CPU times: user 33min 14s, sys: 10.1 s, total: 33min 24s\n",
            "Wall time: 33min 27s\n"
          ],
          "name": "stdout"
        }
      ]
    },
    {
      "cell_type": "code",
      "metadata": {
        "id": "f1NAwk-PelS7",
        "colab_type": "code",
        "colab": {}
      },
      "source": [
        "#sentence level vector represetnation in train dataset\n",
        "df_train_sentence_1 = torch.stack(train_embed_sentence_1) # change list of tensors >>> 2d tensor\n",
        "df_train_sentence_2 = torch.stack(train_embed_sentence_2) # change list of tensors >>> 2d tensor\n"
      ],
      "execution_count": null,
      "outputs": []
    },
    {
      "cell_type": "code",
      "metadata": {
        "id": "w_RkbrOCvr3W",
        "colab_type": "code",
        "colab": {}
      },
      "source": [
        ""
      ],
      "execution_count": null,
      "outputs": []
    },
    {
      "cell_type": "markdown",
      "metadata": {
        "id": "4W9QSzRMREQM",
        "colab_type": "text"
      },
      "source": [
        "# Calculate Cosine Similarity\n",
        "Now, sentence level vector representation of each pair sentence is used to compute cosine similarity. Cosine similarity is calculated on all 3 datasets just to know how the extracted sentence level embedding perform."
      ]
    },
    {
      "cell_type": "code",
      "metadata": {
        "id": "QwwMvRGPRC5T",
        "colab_type": "code",
        "colab": {}
      },
      "source": [
        "from scipy.spatial.distance import cosine #cosine distance\n",
        "from sklearn.preprocessing import MinMaxScaler # minmax scaling\n",
        "from scipy.stats import pearsonr # pearson correlation\n",
        "from scipy.stats import spearmanr # spearman correlation\n",
        "from collections import defaultdict #store scores\n"
      ],
      "execution_count": 10,
      "outputs": []
    },
    {
      "cell_type": "code",
      "metadata": {
        "id": "7gEbjpc5obHJ",
        "colab_type": "code",
        "colab": {}
      },
      "source": [
        "#function to calculate similarity score \n",
        "def calc_similarity_score(embed_1, embed_2):\n",
        "\n",
        "  \"\"\"\n",
        "  Calcualte cosine simialrity between a pair of sentences.\n",
        "  \n",
        "    Args:\n",
        "      embed_1(numpy array): first sentence embedding\n",
        "      embed_2(numpy array): second sentence embedding\n",
        "\n",
        "    Return:\n",
        "      scaled_cosine_score(list) : cosine score between embed_1 \n",
        "      and embed_2 with range (0,5)\n",
        "  \"\"\"\n",
        "  \n",
        "  #collect similarity score\n",
        "  cosine_sim_score = []\n",
        "  \n",
        "  for x,y in zip(embed_1, embed_2):\n",
        "\n",
        "    distance = cosine(x, y) # cosine distance\n",
        "    cosine_sim = 1 - distance # cosine similarity\n",
        "    cosine_sim_score.append(cosine_sim) \n",
        "\n",
        "  \n",
        "\n",
        "\n",
        "  #scaled the similarity score to (0,5)\n",
        "  scaler = MinMaxScaler(feature_range=(0,5)) # initiate minmaxscaler\n",
        "  scaled_cosine_score = scaler.fit_transform(np.transpose([cosine_sim_score])) #scaled to (0,5)\n",
        "  \n",
        "  return scaled_cosine_score.round(3)\n",
        "  "
      ],
      "execution_count": null,
      "outputs": []
    },
    {
      "cell_type": "code",
      "metadata": {
        "id": "b53f69trJD8A",
        "colab_type": "code",
        "colab": {}
      },
      "source": [
        ""
      ],
      "execution_count": null,
      "outputs": []
    },
    {
      "cell_type": "markdown",
      "metadata": {
        "id": "pPnbqdPFGcNo",
        "colab_type": "text"
      },
      "source": [
        "#Pearson and Spearman score\n",
        "Calculate the Pearson and Spearman correlation by comparing with computed cosine similarity score with gold score."
      ]
    },
    {
      "cell_type": "code",
      "metadata": {
        "id": "JfcMwCp33USf",
        "colab_type": "code",
        "colab": {}
      },
      "source": [
        "def cal_pearson_spearman_score(x, y):\n",
        "  '''\n",
        "  Calculate Pearson and Spearman correlation between x, y.\n",
        "  Agrs:\n",
        "    x: array_like\n",
        "    y: array_like\n",
        "\n",
        "  Returns:\n",
        "    Pearson and Spearman score\n",
        "  '''\n",
        "\n",
        "  pearson_score, _ = pearsonr(x, y)#pearson score\n",
        "  sperman_score, _ = spearmanr(x, y)#spearman score\n",
        "\n",
        "  return pearson_score , sperman_score\n",
        "\n"
      ],
      "execution_count": null,
      "outputs": []
    },
    {
      "cell_type": "code",
      "metadata": {
        "id": "dL-ozSu0GDmy",
        "colab_type": "code",
        "colab": {
          "base_uri": "https://localhost:8080/",
          "height": 272
        },
        "outputId": "9d990f5d-59a4-49fa-e459-15d9cda32ebd"
      },
      "source": [
        "#Pearson and Spearman score\n",
        "first_sent_embd = [df_train_sentence_1, df_dev_sentence_1, df_test_sentence_1] #first sentence embedding\n",
        "second_sent_embd = [df_train_sentence_2, df_dev_sentence_2, df_test_sentence_2] #second sentence embedding\n",
        "gold_labels = [df_train.loc[:,'score(0-5)'].values, df_dev.loc[:,'score(0-5)'].values, df_test.loc[:,'score(0-5)'].values ] #gold scores\n",
        "data_type = ['Train', 'Validation', 'Test'] #datasets names\n",
        "\n",
        "pear_spear_score = defaultdict(list) #store scores\n",
        "\n",
        "#zip and enumerate 'first_sent_embd' and 'second_sent_embd'\n",
        "for i, (first_sent, second_sent) in enumerate(zip(first_sent_embd,second_sent_embd)):\n",
        "  cosine_sim_score = calc_similarity_score(first_sent, second_sent) #cosine similarity score\n",
        "  cosine_sim_score = cosine_sim_score.flatten()# change to 1d\n",
        "\n",
        "  person_score, _ = pearsonr(gold_labels[i], cosine_sim_score) #pearson score\n",
        "  pear_spear_score['pearson'].append(person_score)\n",
        "  \n",
        "\n",
        "  sperman_score, _ = spearmanr(gold_labels[i], cosine_sim_score)#spearman score\n",
        "  pear_spear_score['spearman'].append(sperman_score)\n",
        "\n",
        "  print(data_type[i], 'data: ')\n",
        "  print('=='*6)\n",
        "  print(\"Pearson score: {} \\nSpearman score: {}\".format(person_score, sperman_score))\n",
        "  print()\n",
        "  \n"
      ],
      "execution_count": null,
      "outputs": [
        {
          "output_type": "stream",
          "text": [
            "Train data: \n",
            "============\n",
            "Pearson score: 0.5090061328623349 \n",
            "Spearman score: 0.4820996486643903\n",
            "\n",
            "Validation data: \n",
            "============\n",
            "Pearson score: 0.5929747726822713 \n",
            "Spearman score: 0.5956354804822067\n",
            "\n",
            "Test data: \n",
            "============\n",
            "Pearson score: 0.4767255590987412 \n",
            "Spearman score: 0.4695436549422946\n",
            "\n"
          ],
          "name": "stdout"
        }
      ]
    },
    {
      "cell_type": "code",
      "metadata": {
        "id": "2E0Z4ffWPEQ-",
        "colab_type": "code",
        "colab": {
          "base_uri": "https://localhost:8080/",
          "height": 111
        },
        "outputId": "4b3f6132-4c59-47f5-e69c-2eff0b025a45"
      },
      "source": [
        "#show in panda dataframe\n",
        "df_score = pd.DataFrame.from_dict(pear_spear_score,\n",
        "                          orient='index',\n",
        "                          columns=['Train', 'Dev', 'Test']\n",
        "                          )'\n",
        "df_score.drop('Train', 1) #only train and test\n"
      ],
      "execution_count": null,
      "outputs": [
        {
          "output_type": "execute_result",
          "data": {
            "text/html": [
              "<div>\n",
              "<style scoped>\n",
              "    .dataframe tbody tr th:only-of-type {\n",
              "        vertical-align: middle;\n",
              "    }\n",
              "\n",
              "    .dataframe tbody tr th {\n",
              "        vertical-align: top;\n",
              "    }\n",
              "\n",
              "    .dataframe thead th {\n",
              "        text-align: right;\n",
              "    }\n",
              "</style>\n",
              "<table border=\"1\" class=\"dataframe\">\n",
              "  <thead>\n",
              "    <tr style=\"text-align: right;\">\n",
              "      <th></th>\n",
              "      <th>Dev</th>\n",
              "      <th>Test</th>\n",
              "    </tr>\n",
              "  </thead>\n",
              "  <tbody>\n",
              "    <tr>\n",
              "      <th>pearson</th>\n",
              "      <td>0.592975</td>\n",
              "      <td>0.476726</td>\n",
              "    </tr>\n",
              "    <tr>\n",
              "      <th>spearman</th>\n",
              "      <td>0.595635</td>\n",
              "      <td>0.469544</td>\n",
              "    </tr>\n",
              "  </tbody>\n",
              "</table>\n",
              "</div>"
            ],
            "text/plain": [
              "               Dev      Test\n",
              "pearson   0.592975  0.476726\n",
              "spearman  0.595635  0.469544"
            ]
          },
          "metadata": {
            "tags": []
          },
          "execution_count": 20
        }
      ]
    },
    {
      "cell_type": "code",
      "metadata": {
        "id": "dB1LpiCYjqAu",
        "colab_type": "code",
        "colab": {}
      },
      "source": [
        ""
      ],
      "execution_count": null,
      "outputs": []
    },
    {
      "cell_type": "code",
      "metadata": {
        "id": "QHLxQLVLjprJ",
        "colab_type": "code",
        "colab": {}
      },
      "source": [
        ""
      ],
      "execution_count": null,
      "outputs": []
    },
    {
      "cell_type": "markdown",
      "metadata": {
        "id": "n4K0cpKC03t3",
        "colab_type": "text"
      },
      "source": [
        "# Part-2: Fine-tune Bert\n",
        "The custom model is defined using pytorch nn.module. And, The pre-trained BERT(bert-base-uncased) model is fine-tunned with STS-b train dataset. "
      ]
    },
    {
      "cell_type": "code",
      "metadata": {
        "id": "VBO8LnzX5T8m",
        "colab_type": "code",
        "colab": {}
      },
      "source": [
        "#import necessary libraries\n",
        "import torch.nn as nn\n",
        "from torch.utils.data import Dataset, DataLoader #pytorch dataset and dataloader\n",
        "from transformers import  AdamW, get_linear_schedule_with_warmup #optimizer and learning rate scheduler\n"
      ],
      "execution_count": 11,
      "outputs": []
    },
    {
      "cell_type": "markdown",
      "metadata": {
        "id": "o0mqIXgTpOcv",
        "colab_type": "text"
      },
      "source": [
        "# Custom Model\n",
        "The two different network stuctures are tried  for fine-tuning the pre-trained model. They are as follows:\n",
        "\n",
        "1. Siamese Network: In this Siamese Network structure, two different sentences(a pair of sentences) are encoded separetely meaning they are encoded one by one, and their final vecotors are used to calculate the cosine similarity.  The output layer is just the cosine similairty. No additonal layers.  The vector representation of a sentence is the concatenation of the last 4 hidden layers, and mean pooling of the tokens in a inputed sequence. \n",
        "\n",
        "2. Regression Model: In this fine-tuning, the Linear Regression output layer is added on the top of Bert. The two sentences(a pair of sentences) are feeded and encoded together. And, the final output is the regression ouput.\n",
        "\n",
        "The Mean Square Error(MSE) Loss is used as loss function  for both the Netowrk structures."
      ]
    },
    {
      "cell_type": "code",
      "metadata": {
        "id": "nSIIZmvz02nK",
        "colab_type": "code",
        "colab": {}
      },
      "source": [
        "#define custom model cosine-similarity output\n",
        "class BertSentenceSimilarityModelCos(nn.Module):\n",
        "  \"\"\"\n",
        "  Model extracts sentence embedding of a pair of sentences one by one and\n",
        "  return  cosine similarity between them.\n",
        "  \"\"\"\n",
        "  \n",
        "  def __init__(self):\n",
        "    super().__init__()\n",
        "    self.bert = BertModel.from_pretrained('bert-base-uncased', output_hidden_states = True )#pretrained bert \n",
        "    self.cosine_sim = nn.CosineSimilarity(dim=1, eps=1e-6)#cosine similarity\n",
        "   \n",
        "  #feed a pair of sentences' input_ids and attention_ids \n",
        "  def forward(self, input_ids_1, atten_ids_1, input_ids_2, atten_ids_2):\n",
        "    \"\"\"\n",
        "        Args:\n",
        "          input_ids_1(tensor) : input_ids of first sentence\n",
        "          input_ids_2(tensor) : input_ids of second sentence\n",
        "          atten_ids_1(tensor): attention_mask of first sentence\n",
        "          atten_ids_2(tensor): attention_mask of second sentence\n",
        "       Returns:\n",
        "          cosine_score(2d tensor): Cosine similarity between a pair of sentences\n",
        "    \"\"\"\n",
        "\n",
        "    #first sentence embedding\n",
        "    output_1 = self.bert(input_ids = input_ids_1, attention_mask = atten_ids_1)\n",
        "    hidden_states_1 = output_1[2] #hidden states only\n",
        "    concat_embeding_1 = torch.cat(tuple(hidden_states_1[i] for i in [-4,-3,-2,-1]), dim = 2) # last four hidden layers\n",
        "    padded_1 = atten_ids_1.unsqueeze(2) #insert size one at position 2\n",
        "    mul_out_1 = torch.mul(concat_embeding_1, padded_1)#make zeros vector for paddding tokens\n",
        "    sent_embeding_1 = mul_out_1.mean(dim=1) # pooling average of tokens\n",
        "  \n",
        "    #second sentence embedding\n",
        "    output_2 = self.bert(input_ids = input_ids_2,attention_mask = atten_ids_2)\n",
        "    hidden_states_2 = output_2[2]\n",
        "    concat_embeding_2 = torch.cat(tuple(hidden_states_2[i] for i in [-4,-3,-2,-1]), dim = 2) # last four layers\n",
        "    padded_2 = atten_ids_2.unsqueeze(2) \n",
        "    mul_out_2 = torch.mul(concat_embeding_2, padded_2)\n",
        "    sent_embeding_2 = mul_out_2.mean(dim=1)\n",
        "\n",
        "    #calculate cosine similarity\n",
        "    cosine_score = self.cosine_sim(sent_embeding_1, sent_embeding_2)\n",
        "    return cosine_score\n",
        "\n",
        "\n"
      ],
      "execution_count": 12,
      "outputs": []
    },
    {
      "cell_type": "code",
      "metadata": {
        "id": "qMlfHE39gL0W",
        "colab_type": "code",
        "colab": {}
      },
      "source": [
        "#define custom model Regression output\n",
        "class BertSentenceSimilarityModelReg(nn.Module):\n",
        "  \"\"\"This model takes a pair of sentences at a time and returns regression output \"\"\"\n",
        "  \n",
        "  def __init__(self):\n",
        "    super().__init__()\n",
        "    self.bert = BertModel.from_pretrained('bert-base-uncased', output_hidden_states = True )#pretrained bert \n",
        "    self.drop = nn.Dropout(p=0.1) #droupout\n",
        "    self.regression = nn.Linear(self.bert.config.hidden_size,1) #output regresion layer\n",
        "    \n",
        "    \n",
        "  #forward pass\n",
        "  def forward(self, input_ids, attention_masks, token_type_ids):\n",
        "    \"\"\"\n",
        "      Args:\n",
        "          input_ids_1(tensor) : input_ids of a pair of sentence\n",
        "          attention_mask_1(tensor): attention_mask of a pair of sentence\n",
        "\n",
        "       Returns:\n",
        "          regre_output(1d tensor) : regression output\n",
        "    \"\"\"\n",
        "  \n",
        "    #initiate pre-trained model\n",
        "    bert_output = self.bert( input_ids = input_ids, attention_mask = attention_masks,token_type_ids = token_type_ids)\n",
        "    hidden_state = bert_output[0][:,0,:]# ['CLS']  last_hidden_state\n",
        "    #hidden_state = bert_output[1] #pooler_outpu\n",
        "    drop_out =  self.drop(hidden_state) \n",
        "    regre_output =  self.regression(drop_out)# apply linnear tranformation\n",
        "    return regre_output\n",
        "\n",
        "  \n",
        "    "
      ],
      "execution_count": 61,
      "outputs": []
    },
    {
      "cell_type": "code",
      "metadata": {
        "id": "MPXtcA5sUhc3",
        "colab_type": "code",
        "colab": {}
      },
      "source": [
        ""
      ],
      "execution_count": null,
      "outputs": []
    },
    {
      "cell_type": "markdown",
      "metadata": {
        "id": "VQsxqYZpQ11y",
        "colab_type": "text"
      },
      "source": [
        "# Create Pytorch Dataset\n",
        "Pytorch dataset is created that returns input_ids, attention_mask, token_type_ids, and gold_score from each input sequence.\n",
        "\n",
        "Since  we are trying two different model network architectures for fine-tuning, the way of feeding the pair of sentences are different from one architecture to another. For example, in a regression model, we feed a pair of sentences together while in Siamese network model, we feed one sentence and take sentence level embedding and same goes to its pair sentence. \n",
        "\n",
        "Thus, the function  is written that returns the pytorch dataset which fit for both the model architectures."
      ]
    },
    {
      "cell_type": "code",
      "metadata": {
        "id": "CEa5bH6zQH97",
        "colab_type": "code",
        "colab": {}
      },
      "source": [
        "#define function to pytorch Dataset\n",
        "class SimilarityDataset(Dataset):\n",
        "  \"\"\" \n",
        "  Pytorch dataset that returns input_ids, attension_mask a pair of sentences, and \n",
        "  gold_score  of STS-B dataset. Dataset is return based on the model type \n",
        "  i.e. either ('regresion' or 'cosine'). Default is Siamese network structure.\n",
        "  \"\"\"\n",
        "\n",
        "  def __init__(self, sent_1s, sent_2s, scores, tokenizer, max_len, model_type = 'cosine'):\n",
        "    \"\"\"\n",
        "     Args:\n",
        "       sent_1s(numpy array): Array of first sentences\n",
        "       sent_2s(numpy array): Array of second sentences\n",
        "       scores(float): Gold score (0-5)\n",
        "       tokenizer: Higging Face Bert Tokenizer\n",
        "       max_len(int): Maximun token length\n",
        "       model_type(str): type of model architecture to calculate \n",
        "       ouput(for example, 'regression' or 'cosine')\n",
        "      \n",
        "    \"\"\"\n",
        "    self.sent_1s = sent_1s\n",
        "    self.sent_2s = sent_2s\n",
        "    self.scores = scores\n",
        "    self.tokenizer = tokenizer\n",
        "    self.max_len = max_len\n",
        "    self.model_type = model_type\n",
        "\n",
        "\n",
        "  def __len__(self):\n",
        "    return len(self.sent_1s) #total no. of samples\n",
        "\n",
        "\n",
        "  def __getitem__(self, item):\n",
        "    first_sent = self.sent_1s[item]  #first sentencs\n",
        "    second_sent = self.sent_2s[item] #second sentence\n",
        "    score = self.scores[item]\n",
        "\n",
        "    #print('model_type is: {}'.format(self.model_type))\n",
        "    # model type is 'Siamese Network'\n",
        "    if self.model_type == 'cosine':\n",
        "\n",
        "      #encode first sentence\n",
        "      first_sent_encoding = self.tokenizer( first_sent,\n",
        "                                            add_special_tokens=True, #add ['CLS'] and ['SEP']\n",
        "                                            max_length=self.max_len, # set max len for padding\n",
        "                                            return_token_type_ids=False, #set false to segment_ids\n",
        "                                            padding='max_length', # padding\n",
        "                                            return_attention_mask=True,  # return attention mask\n",
        "                                            return_tensors='pt', # pytorch tensor\n",
        "                                            )\n",
        "      \n",
        "\n",
        "\n",
        "      #encode second sentence\n",
        "      second_sent_encoding = self.tokenizer( second_sent,\n",
        "                                            add_special_tokens=True,\n",
        "                                            max_length=self.max_len,\n",
        "                                            return_token_type_ids=False,\n",
        "                                            padding= 'max_length',\n",
        "                                            return_attention_mask=True,\n",
        "                                            return_tensors='pt',\n",
        "                                            )\n",
        "      \n",
        "      return {\n",
        "          'input_ids' :{ \n",
        "              'first_sent' : first_sent_encoding['input_ids'].flatten(),\n",
        "              'second_sent' : second_sent_encoding['input_ids'].flatten()},\n",
        "\n",
        "          'attention_ids' :{\n",
        "              'first_sent' :first_sent_encoding['attention_mask'].flatten(),\n",
        "              'second_sent' :second_sent_encoding['attention_mask'].flatten()},\n",
        "\n",
        "          'score' : torch.tensor(score)}\n",
        "\n",
        "\n",
        "\n",
        "    #if model's out is regression type\n",
        "    else:\n",
        "\n",
        "      #encode input sequences\n",
        "      sent_encoding = self.tokenizer(   first_sent, second_sent,\n",
        "                                        add_special_tokens=True,\n",
        "                                        max_length=self.max_len,\n",
        "                                        return_token_type_ids=True,\n",
        "                                        padding= 'max_length',\n",
        "                                        truncation = True,\n",
        "                                        return_attention_mask=True,\n",
        "                                        return_tensors='pt',\n",
        "                                      )\n",
        "      return {\n",
        "            'input_ids' : sent_encoding['input_ids'].flatten(),\n",
        "            'attention_ids' : sent_encoding['attention_mask'].flatten(),\n",
        "            'token_type_ids' : sent_encoding['token_type_ids'].flatten(),\n",
        "            'score' : torch.tensor(score),}\n",
        "\n",
        "    \n"
      ],
      "execution_count": 15,
      "outputs": []
    },
    {
      "cell_type": "code",
      "metadata": {
        "id": "VRhAVaDkwUIA",
        "colab_type": "code",
        "colab": {}
      },
      "source": [
        ""
      ],
      "execution_count": null,
      "outputs": []
    },
    {
      "cell_type": "code",
      "metadata": {
        "id": "ffC_ZF0Me4bV",
        "colab_type": "code",
        "colab": {
          "base_uri": "https://localhost:8080/",
          "height": 207
        },
        "outputId": "1f9aaa12-7061-4464-a4d9-89819d6aa22a"
      },
      "source": [
        "#lets test our pytoch dataset for Siamese Network (cosine output)\n",
        "dt = SimilarityDataset(df_train.sentence_1[:5], df_train.sentence_2[:5], df.loc[:5,'score(0-5)'], tokenizer, 20, model_type='cosine' )\n",
        "input_id_1 = dt[0]['input_ids']['first_sent'] #first senquence\n",
        "input_id_2 = dt[0]['input_ids']['second_sent'] #second senquence\n",
        "print('Input_ids 1st sent :', input_id_1)\n",
        "print()\n",
        "print('Input_ids 2nd sent :', input_id_2)\n",
        "print()\n",
        "print('A pair of sentences are tokenized separetly:')\n",
        "print(tokenizer.convert_ids_to_tokens(input_id_1)) #convert ids to tokens\n",
        "print()\n",
        "print(tokenizer.convert_ids_to_tokens(input_id_2)) #for second sequence"
      ],
      "execution_count": 16,
      "outputs": [
        {
          "output_type": "stream",
          "text": [
            "Input_ids 1st sent : tensor([ 101, 1037, 4946, 2003, 2635, 2125, 1012,  102,    0,    0,    0,    0,\n",
            "           0,    0,    0,    0,    0,    0,    0,    0])\n",
            "\n",
            "Input_ids 2nd sent : tensor([ 101, 2019, 2250, 4946, 2003, 2635, 2125, 1012,  102,    0,    0,    0,\n",
            "           0,    0,    0,    0,    0,    0,    0,    0])\n",
            "\n",
            "A pair of sentences are tokenized separetly:\n",
            "['[CLS]', 'a', 'plane', 'is', 'taking', 'off', '.', '[SEP]', '[PAD]', '[PAD]', '[PAD]', '[PAD]', '[PAD]', '[PAD]', '[PAD]', '[PAD]', '[PAD]', '[PAD]', '[PAD]', '[PAD]']\n",
            "\n",
            "['[CLS]', 'an', 'air', 'plane', 'is', 'taking', 'off', '.', '[SEP]', '[PAD]', '[PAD]', '[PAD]', '[PAD]', '[PAD]', '[PAD]', '[PAD]', '[PAD]', '[PAD]', '[PAD]', '[PAD]']\n"
          ],
          "name": "stdout"
        }
      ]
    },
    {
      "cell_type": "code",
      "metadata": {
        "id": "9td9DiXFiiM5",
        "colab_type": "code",
        "colab": {}
      },
      "source": [
        ""
      ],
      "execution_count": null,
      "outputs": []
    },
    {
      "cell_type": "code",
      "metadata": {
        "id": "uCtAuHM_SUzG",
        "colab_type": "code",
        "colab": {
          "base_uri": "https://localhost:8080/",
          "height": 156
        },
        "outputId": "5072bcb6-99fe-46d6-a0cd-6078004bf558"
      },
      "source": [
        "#lets test our pytoch dataset for regression model type \n",
        "dt = SimilarityDataset(df_train.sentence_1[:5], df_train.sentence_2[:5], df.loc[:5,'score(0-5)'], tokenizer, 20,model_type='regression' )\n",
        "input_id = dt[0]['input_ids'] # input_ids\n",
        "atten_id = dt[0]['attention_ids'] #attention mask\n",
        "token_type_id = dt[0]['token_type_ids'] #token type ids\n",
        "print('Input_ids :', input_id)\n",
        "print('Attention_mask :', atten_id)\n",
        "print('Token type ids :',token_type_id)\n",
        "print()\n",
        "print('A pair of sentences tokenized together:')\n",
        "print(tokenizer.convert_ids_to_tokens(input_id))"
      ],
      "execution_count": 17,
      "outputs": [
        {
          "output_type": "stream",
          "text": [
            "Input_ids : tensor([ 101, 1037, 4946, 2003, 2635, 2125, 1012,  102, 2019, 2250, 4946, 2003,\n",
            "        2635, 2125, 1012,  102,    0,    0,    0,    0])\n",
            "Attention_mask : tensor([1, 1, 1, 1, 1, 1, 1, 1, 1, 1, 1, 1, 1, 1, 1, 1, 0, 0, 0, 0])\n",
            "Token type ids : tensor([0, 0, 0, 0, 0, 0, 0, 0, 1, 1, 1, 1, 1, 1, 1, 1, 0, 0, 0, 0])\n",
            "\n",
            "A pair of sentences tokenized together:\n",
            "['[CLS]', 'a', 'plane', 'is', 'taking', 'off', '.', '[SEP]', 'an', 'air', 'plane', 'is', 'taking', 'off', '.', '[SEP]', '[PAD]', '[PAD]', '[PAD]', '[PAD]']\n"
          ],
          "name": "stdout"
        }
      ]
    },
    {
      "cell_type": "code",
      "metadata": {
        "id": "9m2lYZ_YcjWt",
        "colab_type": "code",
        "colab": {}
      },
      "source": [
        ""
      ],
      "execution_count": null,
      "outputs": []
    },
    {
      "cell_type": "markdown",
      "metadata": {
        "id": "iHN6hIpCVh20",
        "colab_type": "text"
      },
      "source": [
        "# Pytorch Data Loader\n",
        "It provides an iterable over the given dataset."
      ]
    },
    {
      "cell_type": "code",
      "metadata": {
        "id": "zcSgz7WOgyjU",
        "colab_type": "code",
        "colab": {}
      },
      "source": [
        "#define pytorch data loader\n",
        "def pytorch_data_loader(df, tokenizer, max_len, batch_size, model_type='cosine'):\n",
        "  \"\"\"\n",
        "    Agrs:\n",
        "       df(panda dataframe): dataset\n",
        "       tokenizer(Hugging face tokeniser): Bert Tokonizer\n",
        "       max_len(int): Maximun tokens length in a sequence/sentence\n",
        "       batch_size(int): Number of samples in a batch\n",
        "       model_type(str): type of model architecture to calculate \n",
        "       ouputs(for example, 'regression' or 'cosine')\n",
        "\n",
        "    Return:\n",
        "      Dataloader(pytorch dataloader): Dataset with given batch size\n",
        "  \"\"\"\n",
        "  dataset = SimilarityDataset(\n",
        "      sent_1s =df.sentence_1.to_numpy(), #first sequence\n",
        "      sent_2s =df.sentence_2.to_numpy(), #second sequence\n",
        "      scores =df.loc[:,'scaled_score(0-1)'].to_numpy(), #gold score\n",
        "      tokenizer=tokenizer, #hugging face tokenizer\n",
        "      max_len=max_len, #max length for padding\n",
        "      model_type = model_type # return dataset as per model type\n",
        "  )\n",
        "\n",
        "  return DataLoader( \n",
        "      dataset,\n",
        "      batch_size=batch_size,\n",
        "      shuffle= True\n",
        "  )"
      ],
      "execution_count": 18,
      "outputs": []
    },
    {
      "cell_type": "code",
      "metadata": {
        "id": "PHaA7do6HwUm",
        "colab_type": "code",
        "colab": {}
      },
      "source": [
        ""
      ],
      "execution_count": null,
      "outputs": []
    },
    {
      "cell_type": "code",
      "metadata": {
        "id": "2g9rvYYPHwtj",
        "colab_type": "code",
        "colab": {}
      },
      "source": [
        "#define model training function\n",
        "def model_train(model, dataloader, device, loss_fun, optimizer, scheduler, model_type):\n",
        "  \"\"\"\n",
        "     Args:\n",
        "       model: Custom model\n",
        "       dataloader: Pytorh data loader\n",
        "       device: device to compute\n",
        "       loss_fun:  loss function( MES loss)\n",
        "       optimizer: optimizer (Adamw)\n",
        "       scheduler: learning rate schedule\n",
        "       model_type(str): type of model architecture('regression' or 'cosine')\n",
        "\n",
        "    Returns:\n",
        "       training loss, and Pearson correlation between gold_score and predicted score\n",
        "       \n",
        "  \"\"\"\n",
        "  print('Model is training based on {} ouput!!!'.format(model_type))\n",
        "\n",
        "  #put model in training mode\n",
        "  model.train()\n",
        "\n",
        "  losses = [] # store loss from each batch\n",
        "  pearson_score = [] #pearson score from each batch\n",
        "\n",
        "  #Siamese Model type(Cosine output)\n",
        "  if model_type == 'cosine':\n",
        "  \n",
        "    #iterate over each batch of training data\n",
        "    for batch in dataloader:\n",
        "\n",
        "      #first sent\n",
        "      input_ids_1 = batch['input_ids']['first_sent'].to(device)\n",
        "      atten_ids_1= batch['attention_ids']['first_sent'].to(device)\n",
        "      #second sent\n",
        "      input_ids_2 = batch['input_ids']['second_sent'].to(device)\n",
        "      atten_ids_2 = batch['attention_ids']['second_sent'].to(device)\n",
        "\n",
        "      #gold score\n",
        "      gold_score = batch['score'].to(device).float() # change to float dtype as same as model output\n",
        "      \n",
        "      #clear previously calculated gradients\n",
        "      model.zero_grad()\n",
        "\n",
        "      #model forward pass\n",
        "      output = model(input_ids_1, atten_ids_1, input_ids_2, atten_ids_2) # output dtype --> float tenosr \n",
        "      \n",
        "      #Calculate Pearson Correlation score\n",
        "      p_score = pearsonr(output.detach().cpu(), gold_score.detach().cpu())\n",
        "      pearson_score.append(p_score[0])\n",
        "      \n",
        "      #perform loss\n",
        "      loss = loss_fun(output, gold_score)\n",
        "      losses.append(loss.item()) \n",
        "\n",
        "      loss.backward() # perform backward pass to calculate gradients\n",
        "      nn.utils.clip_grad_norm_(model.parameters(), max_norm=1.0)# clip the norm of the gradients to 1.0.\n",
        "      optimizer.step() #update parameters\n",
        "      scheduler.step() #update learning rate\n",
        "      \n",
        "    return np.mean(losses), np.mean(pearson_score)\n",
        "\n",
        "  #Regression model type\n",
        "  elif model_type == 'regression':\n",
        "\n",
        "    #iterate over each batch of training data\n",
        "    for batch in dataloader:\n",
        "      \n",
        "      #Input sequence \n",
        "      input_ids = batch['input_ids'].to(device)\n",
        "      atten_ids = batch['attention_ids'].to(device)\n",
        "      tok_type_ids = batch['token_type_ids'].to(device)\n",
        "\n",
        "      #gold score\n",
        "      gold_score = batch['score'].to(device).float() # change to float dtype as same as model output\n",
        "      \n",
        "      #clear previously calculated gradients\n",
        "      model.zero_grad()\n",
        "\n",
        "      #model forward pass\n",
        "      output = model(input_ids, atten_ids, tok_type_ids) # output dtype --> float tenosr \n",
        "      output = output.flatten()\n",
        "\n",
        "      #Calculate Pearson Correlation score\n",
        "      p_score = pearsonr(output.detach().cpu(), gold_score.detach().cpu())\n",
        "      pearson_score.append(p_score[0])\n",
        "      \n",
        "      #perform loss\n",
        "      loss = loss_fun(output, gold_score)\n",
        "      losses.append(loss.item()) \n",
        "\n",
        "      loss.backward() # perform backward pass to calculate gradients\n",
        "      nn.utils.clip_grad_norm_(model.parameters(), max_norm=1.0)# clip the norm of the gradients to 1.0.\n",
        "      optimizer.step() #update parameters\n",
        "      scheduler.step() #update learning rate\n",
        "    return np.mean(losses), np.mean(pearson_score)\n",
        "\n",
        "  else:\n",
        "    print('Pleae specify the model type for training!!!')\n",
        "\n",
        "  \n"
      ],
      "execution_count": 19,
      "outputs": []
    },
    {
      "cell_type": "code",
      "metadata": {
        "id": "qA8wxPXfH5Rp",
        "colab_type": "code",
        "colab": {}
      },
      "source": [
        "# define evaluation function\n",
        "def model_eval(model, dataloader, device, loss_fun, model_type):\n",
        "  \"\"\"\n",
        "     Args:\n",
        "       model: Custom model\n",
        "       dataloader: pytorch data loader\n",
        "       device: device to compute\n",
        "       loss_fun:  loss function( MES loss)\n",
        "       \n",
        "    Returns:\n",
        "       Evaluation loss, and Pearson & Spearman correlation between gold_score and predicted score\n",
        "       \n",
        "  \"\"\"\n",
        "  #print('Model is validation based on {} ouput!!!'.format(model_type))\n",
        "\n",
        "  #put model in evaluation mode\n",
        "  model.eval()\n",
        "  losses = []\n",
        "  pearson_score = []\n",
        "  sparman_score = []\n",
        "  \n",
        "  #tell model not to compute or store gradients\n",
        "  with torch.no_grad():\n",
        "    \n",
        "    #Siamese model type(cosine)\n",
        "    if model_type == 'cosine':\n",
        "      \n",
        "      #each batch of evaluation data\n",
        "      for batch in dataloader:\n",
        "        #first sentence\n",
        "        input_ids_1 = batch['input_ids']['first_sent'].to(device)\n",
        "        atten_ids_1 = batch['attention_ids']['first_sent'].to(device)\n",
        "\n",
        "        #second sentence\n",
        "        input_ids_2 = batch['input_ids']['second_sent'].to(device)\n",
        "        atten_ids_2 = batch['attention_ids']['second_sent'].to(device)\n",
        "\n",
        "        #gold score\n",
        "        gold_score = batch['score'].to(device).float() # change to float dtype as same as model output\n",
        "\n",
        "        #model forward pass\n",
        "        model = model\n",
        "        output = model(input_ids_1, atten_ids_1, input_ids_2, atten_ids_2) # output type --> float tensor \n",
        "\n",
        "        #perform loss\n",
        "        loss = loss_fun(output, gold_score)\n",
        "        losses.append(loss.item()) \n",
        "        \n",
        "        #Calculate Pearson Correlation score\n",
        "        p_score = pearsonr(output.detach().cpu(), gold_score.detach().cpu())\n",
        "        pearson_score.append(p_score[0])\n",
        "\n",
        "        #Calculate Spearman Correlation score\n",
        "        sp_score = spearmanr(output.detach().cpu(), gold_score.detach().cpu())\n",
        "        sparman_score.append(sp_score[0])\n",
        "      return np.mean(losses), np.mean(pearson_score), np.mean(sparman_score)\n",
        "    \n",
        "\n",
        "    #regression model type\n",
        "    elif model_type == 'regression':\n",
        "\n",
        "      #each batch of evaluation data\n",
        "      for batch in dataloader:\n",
        "        #first sentence\n",
        "        input_ids = batch['input_ids'].to(device)\n",
        "        atten_ids = batch['attention_ids'].to(device)\n",
        "        tok_type_ids = batch['token_type_ids'].to(device)\n",
        "\n",
        "        #gold score\n",
        "        gold_score = batch['score'].to(device).float() # change to float dtype as same as model output\n",
        "\n",
        "        #model forward pass\n",
        "        model = model\n",
        "        output = model(input_ids, atten_ids, tok_type_ids) # output type --> float tensor \n",
        "        output = output.flatten() #change 1d\n",
        "\n",
        "        #perform loss\n",
        "        loss = loss_fun(output, gold_score)\n",
        "        losses.append(loss.item()) \n",
        "        \n",
        "        #Calculate Pearson Correlation score\n",
        "        p_score = pearsonr(output.detach().cpu(), gold_score.detach().cpu())\n",
        "        pearson_score.append(p_score[0])\n",
        "\n",
        "        #Calculate Spearman Correlation score\n",
        "        sp_score = spearmanr(output.detach().cpu(), gold_score.detach().cpu())\n",
        "        sparman_score.append(sp_score[0])\n",
        "\n",
        "      return np.mean(losses), np.mean(pearson_score), np.mean(sparman_score)\n",
        "\n",
        "    else:\n",
        "      print('Please specify the model type to evaluate !!!')\n",
        "\n",
        "  \n"
      ],
      "execution_count": 20,
      "outputs": []
    },
    {
      "cell_type": "code",
      "metadata": {
        "id": "BWpK0RpoLpuh",
        "colab_type": "code",
        "colab": {}
      },
      "source": [
        ""
      ],
      "execution_count": null,
      "outputs": []
    },
    {
      "cell_type": "markdown",
      "metadata": {
        "id": "_y2Ftr_BMK8M",
        "colab_type": "text"
      },
      "source": [
        "# Re-scaled gold score from (0-5) to (0,1)\n",
        "\n",
        "Before making the Data to Pytorch Dataloader, lets re-scaled the 'gold score' to (0,1). This is done because the cosine similarity score is (0,1). So, it will be easy to calculate the loss during the model training."
      ]
    },
    {
      "cell_type": "code",
      "metadata": {
        "id": "o-0tO4XVL5il",
        "colab_type": "code",
        "colab": {}
      },
      "source": [
        "#re-scale to all datasets\n",
        "df_train['scaled_score(0-1)'] = MinMaxScaler(feature_range=(0,1)).fit_transform(df_train[['score(0-5)']])\n",
        "df_dev['scaled_score(0-1)'] = MinMaxScaler(feature_range=(0,1)).fit_transform(df_dev[['score(0-5)']])\n",
        "df_test['scaled_score(0-1)'] = MinMaxScaler(feature_range=(0,1)).fit_transform(df_test[['score(0-5)']])\n"
      ],
      "execution_count": 21,
      "outputs": []
    },
    {
      "cell_type": "code",
      "metadata": {
        "id": "C87nbyp-kqTQ",
        "colab_type": "code",
        "colab": {}
      },
      "source": [
        "#Create data loader for Regression model\n",
        "BATCH_SIZE = 32\n",
        "train_data_loader_reg = pytorch_data_loader( df_train, tokenizer, 120, BATCH_SIZE, 'regression') # train data loader\n",
        "dev_data_loader_reg = pytorch_data_loader(df_dev, tokenizer, 120, BATCH_SIZE , 'regression', )# dev data loader\n",
        "test_data_loader_reg = pytorch_data_loader(df_test, tokenizer, 120, BATCH_SIZE, 'regression' )# test data loader"
      ],
      "execution_count": 82,
      "outputs": []
    },
    {
      "cell_type": "code",
      "metadata": {
        "id": "_L3ef6p_iJk1",
        "colab_type": "code",
        "colab": {}
      },
      "source": [
        "#Create data loader for cosine similarity output\n",
        "train_data_loader_cos = pytorch_data_loader( df_train, tokenizer, 70, BATCH_SIZE) # train data loader\n",
        "dev_data_loader_cos= pytorch_data_loader(df_dev, tokenizer, 70, BATCH_SIZE )# dev data loader\n",
        "test_data_loader_cos = pytorch_data_loader(df_test, tokenizer, 70, BATCH_SIZE)# test data loader\n"
      ],
      "execution_count": 24,
      "outputs": []
    },
    {
      "cell_type": "code",
      "metadata": {
        "id": "HSK-Pz-xZ8tz",
        "colab_type": "code",
        "colab": {
          "base_uri": "https://localhost:8080/",
          "height": 442
        },
        "outputId": "910b628f-6da9-4427-ba6d-ea1f3c3cfc3c"
      },
      "source": [
        "#print batch of dev_data_loader_reg\n",
        "data = next(iter(train_data_loader_reg))\n",
        "data\n",
        "\n"
      ],
      "execution_count": 25,
      "outputs": [
        {
          "output_type": "execute_result",
          "data": {
            "text/plain": [
              "{'attention_ids': tensor([[1, 1, 1,  ..., 0, 0, 0],\n",
              "         [1, 1, 1,  ..., 0, 0, 0],\n",
              "         [1, 1, 1,  ..., 0, 0, 0],\n",
              "         ...,\n",
              "         [1, 1, 1,  ..., 0, 0, 0],\n",
              "         [1, 1, 1,  ..., 0, 0, 0],\n",
              "         [1, 1, 1,  ..., 0, 0, 0]]),\n",
              " 'input_ids': tensor([[  101,  1996,  4469,  ...,     0,     0,     0],\n",
              "         [  101,  1037,  2611,  ...,     0,     0,     0],\n",
              "         [  101,  1037,  2611,  ...,     0,     0,     0],\n",
              "         ...,\n",
              "         [  101,  1037,  2158,  ...,     0,     0,     0],\n",
              "         [  101,  5923, 15778,  ...,     0,     0,     0],\n",
              "         [  101,  1996, 17357,  ...,     0,     0,     0]]),\n",
              " 'score': tensor([0.5200, 0.9600, 0.5600, 0.6000, 0.7200, 0.7600, 0.0000, 0.0000, 0.0800,\n",
              "         0.4800, 0.5600, 0.4800, 0.2800, 0.8400, 0.6800, 0.6800, 0.3200, 0.3200,\n",
              "         0.8800, 0.5600, 0.7200, 0.4400, 0.1600, 0.3200, 1.0000, 0.2400, 0.0800,\n",
              "         0.5200, 0.6800, 0.4000, 0.9200, 1.0000], dtype=torch.float64),\n",
              " 'token_type_ids': tensor([[0, 0, 0,  ..., 0, 0, 0],\n",
              "         [0, 0, 0,  ..., 0, 0, 0],\n",
              "         [0, 0, 0,  ..., 0, 0, 0],\n",
              "         ...,\n",
              "         [0, 0, 0,  ..., 0, 0, 0],\n",
              "         [0, 0, 0,  ..., 0, 0, 0],\n",
              "         [0, 0, 0,  ..., 0, 0, 0]])}"
            ]
          },
          "metadata": {
            "tags": []
          },
          "execution_count": 25
        }
      ]
    },
    {
      "cell_type": "code",
      "metadata": {
        "id": "WYxIsuUb9gbE",
        "colab_type": "code",
        "colab": {}
      },
      "source": [
        ""
      ],
      "execution_count": null,
      "outputs": []
    },
    {
      "cell_type": "code",
      "metadata": {
        "id": "ZpfHcjS2j9sv",
        "colab_type": "code",
        "colab": {
          "base_uri": "https://localhost:8080/",
          "height": 102
        },
        "outputId": "7c7b79a9-803d-4a04-ab98-cbea48478bc0"
      },
      "source": [
        "#before training lets check how our cutom model  work with batch of dataloader\n",
        "custom_model = BertSentenceSimilarityModelCos().to(device)\n",
        "out_score = custom_model( data['input_ids']['first_sent'].to(device),\n",
        "                         data['attention_ids']['first_sent'].to(device),\n",
        "                         data['token_type_ids']['second_sent'].to(device),\n",
        "                         data['attention_ids']['second_sent'].to(device)\n",
        "                         )\n",
        "out_score          "
      ],
      "execution_count": null,
      "outputs": [
        {
          "output_type": "execute_result",
          "data": {
            "text/plain": [
              "tensor([0.8790, 0.8704, 0.9293, 0.8860, 0.9384, 0.7899, 0.7961, 0.8816, 0.7925,\n",
              "        0.7752, 0.6745, 0.8141, 0.8543, 0.8260, 0.9476, 0.8686, 0.8498, 0.7819,\n",
              "        0.9121, 0.8876, 0.8153, 0.7737, 0.9434, 0.9832, 0.9060, 1.0000, 0.9315,\n",
              "        0.9496, 0.7373, 0.8187, 0.7810, 0.7648], device='cuda:0',\n",
              "       grad_fn=<DivBackward0>)"
            ]
          },
          "metadata": {
            "tags": []
          },
          "execution_count": 51
        }
      ]
    },
    {
      "cell_type": "code",
      "metadata": {
        "id": "XLmub3cy1lTi",
        "colab_type": "code",
        "colab": {
          "base_uri": "https://localhost:8080/",
          "height": 561
        },
        "outputId": "1953b670-8538-4ec2-a8d4-184bba88dcf9"
      },
      "source": [
        "#regresssion output \n",
        "custom_model_r = BertSentenceSimilarityModelReg().to(device)\n",
        "custom_model_r( data['input_ids'].to(device),\n",
        "                data['attention_ids'].to(device),\n",
        "                data['token_type_ids'].to(device),\n",
        "                )"
      ],
      "execution_count": null,
      "outputs": [
        {
          "output_type": "execute_result",
          "data": {
            "text/plain": [
              "tensor([[ 1.1548],\n",
              "        [ 0.3315],\n",
              "        [ 0.6139],\n",
              "        [ 0.9532],\n",
              "        [ 0.6148],\n",
              "        [ 0.9321],\n",
              "        [ 0.9817],\n",
              "        [ 0.0965],\n",
              "        [ 1.0528],\n",
              "        [ 0.1168],\n",
              "        [ 0.1436],\n",
              "        [ 0.6812],\n",
              "        [ 0.2472],\n",
              "        [ 0.2123],\n",
              "        [-0.2647],\n",
              "        [ 0.1600],\n",
              "        [ 0.9991],\n",
              "        [ 0.2829],\n",
              "        [ 0.8112],\n",
              "        [ 0.6871],\n",
              "        [ 0.6162],\n",
              "        [ 0.3385],\n",
              "        [ 0.2743],\n",
              "        [ 0.2531],\n",
              "        [ 0.6385],\n",
              "        [ 0.2985],\n",
              "        [ 0.6052],\n",
              "        [ 0.8582],\n",
              "        [ 0.4102],\n",
              "        [ 0.3071],\n",
              "        [ 0.7220],\n",
              "        [ 0.0786]], device='cuda:0', grad_fn=<AddmmBackward>)"
            ]
          },
          "metadata": {
            "tags": []
          },
          "execution_count": 56
        }
      ]
    },
    {
      "cell_type": "code",
      "metadata": {
        "id": "e33xaE7bj_KW",
        "colab_type": "code",
        "colab": {}
      },
      "source": [
        ""
      ],
      "execution_count": null,
      "outputs": []
    },
    {
      "cell_type": "markdown",
      "metadata": {
        "id": "NjNtLyGbqlXE",
        "colab_type": "text"
      },
      "source": [
        "# Training and Evaluation"
      ]
    },
    {
      "cell_type": "code",
      "metadata": {
        "id": "V20oZVOTpzGn",
        "colab_type": "code",
        "colab": {}
      },
      "source": [
        "#initiate models\n",
        "custom_model_cos = BertSentenceSimilarityModelCos()\n",
        "custom_model_cos = custom_model_cos.to(device)\n",
        "\n",
        "custom_model_reg = BertSentenceSimilarityModelReg()\n",
        "custom_model_reg = custom_model_reg.to(device)"
      ],
      "execution_count": 132,
      "outputs": []
    },
    {
      "cell_type": "code",
      "metadata": {
        "id": "Kl3wYrVccD7-",
        "colab_type": "code",
        "colab": {}
      },
      "source": [
        "#Setup hyper-parameters\n",
        "EPOCHS = 4 # number of training epoch\n",
        "\n",
        "# Adam optimizer\n",
        "optimizer_cos =AdamW(custom_model_cos.parameters(), lr=2e-5, eps=1e-8) \n",
        "optimizer_reg =AdamW(custom_model_reg.parameters(), lr=2e-5, eps=1e-8) \n",
        "total_steps_cos = len(train_data_loader_cos) * EPOCHS # total number training steps for cos\n",
        "total_steps_reg = len(train_data_loader_reg) * EPOCHS # total number training steps for reg\n",
        "\n",
        "#learning rate scheduler\n",
        "scheduler_cos = get_linear_schedule_with_warmup(  \n",
        "  optimizer_cos,  \n",
        "  num_warmup_steps=0,\n",
        "  num_training_steps=total_steps_cos\n",
        ")  \n",
        "\n",
        "scheduler_reg = get_linear_schedule_with_warmup(  \n",
        "  optimizer_reg,  \n",
        "  num_warmup_steps=0,\n",
        "  num_training_steps=total_steps_reg\n",
        ")  \n",
        "\n",
        "#MSE loss function\n",
        "loss_fn = nn.MSELoss()"
      ],
      "execution_count": 133,
      "outputs": []
    },
    {
      "cell_type": "code",
      "metadata": {
        "id": "6N9aKvyVjmCi",
        "colab_type": "code",
        "colab": {}
      },
      "source": [
        ""
      ],
      "execution_count": null,
      "outputs": []
    },
    {
      "cell_type": "markdown",
      "metadata": {
        "id": "-sDvfEWDu_mz",
        "colab_type": "text"
      },
      "source": [
        "####Model with Cosine Ouput (Siamese Network)"
      ]
    },
    {
      "cell_type": "code",
      "metadata": {
        "id": "U7QsUASlg4wS",
        "colab_type": "code",
        "colab": {
          "base_uri": "https://localhost:8080/",
          "height": 561
        },
        "outputId": "292e68a8-4c02-4edc-a845-aa1bee46f140"
      },
      "source": [
        "%%time\n",
        "#Training process start for cosise ouput model\n",
        "epochs_score = defaultdict(list) #store scores\n",
        "val_score = 0 # validation score\n",
        "model_type = ['regression', 'cosine']\n",
        "\n",
        "for epoch in range(EPOCHS):\n",
        "  print('Epoch {:}/{:}'.format(epoch + 1, EPOCHS))\n",
        "  print('=='*5)\n",
        "  print()\n",
        "  \n",
        "  #model training initiate\n",
        "  train_loss, train_Pearson_score = model_train(custom_model_cos, train_data_loader_cos, device, loss_fn, optimizer_cos, scheduler_cos, model_type[1])\n",
        "  print('Train loss is: {}, train_Pearson_score is {}'.format(train_loss,train_Pearson_score))\n",
        "  #store values\n",
        "  epochs_score['train_loss'].append(train_loss) #train losss\n",
        "  epochs_score['train_Pearson_score'].append(train_Pearson_score) # pearson correlation\n",
        "\n",
        "\n",
        "  #model validatiaon initiate\n",
        "  val_loss, val_Pearson_score, val_Spearman_score = model_eval(custom_model_cos, dev_data_loader_cos, device, loss_fn, model_type[1])\n",
        "  print('Validation loss is: {}, Validation_Pearson_score is {}'.format(val_loss,val_Pearson_score))\n",
        "  print()\n",
        "  #store values\n",
        "  epochs_score['val_loss'].append(val_loss) #train losss\n",
        "  epochs_score['val_Pearson_score'].append(val_Pearson_score) # pearson correlation\n",
        "  epochs_score['val_Spearman_score'].append(val_Spearman_score) # Spearman correlation\n",
        "\n",
        "  #save model with high validaiton score\n",
        "  if val_Pearson_score >  val_score:\n",
        "    val_score = val_Pearson_score\n",
        "    torch.save(custom_model_cos.state_dict(), 'Bert_cos_best_model.bin')\n",
        "\n",
        "print()\n",
        "print('Training completed......')\n"
      ],
      "execution_count": 134,
      "outputs": [
        {
          "output_type": "stream",
          "text": [
            "Epoch 1/4\n",
            "==========\n",
            "\n",
            "Model is training based on cosine ouput!!!\n",
            "Train loss is: 0.04229531940072775, train_Pearson_score is 0.7415942270719336\n",
            "Validation loss is: 0.03428496737429436, Validation_Pearson_score is 0.8404501729502104\n",
            "\n",
            "Epoch 2/4\n",
            "==========\n",
            "\n",
            "Model is training based on cosine ouput!!!\n",
            "Train loss is: 0.022218346771680646, train_Pearson_score is 0.8674816151454342\n",
            "Validation loss is: 0.03037539625817791, Validation_Pearson_score is 0.8491003121484243\n",
            "\n",
            "Epoch 3/4\n",
            "==========\n",
            "\n",
            "Model is training based on cosine ouput!!!\n",
            "Train loss is: 0.016001423355191946, train_Pearson_score is 0.9060202391370726\n",
            "Validation loss is: 0.030104488015491912, Validation_Pearson_score is 0.8526724793222974\n",
            "\n",
            "Epoch 4/4\n",
            "==========\n",
            "\n",
            "Model is training based on cosine ouput!!!\n",
            "Train loss is: 0.01308034516664015, train_Pearson_score is 0.9258921428256839\n",
            "Validation loss is: 0.02972559761652287, Validation_Pearson_score is 0.8521930950784046\n",
            "\n",
            "\n",
            "Training completed......\n",
            "CPU times: user 11min 42s, sys: 7min 2s, total: 18min 45s\n",
            "Wall time: 18min 48s\n"
          ],
          "name": "stdout"
        }
      ]
    },
    {
      "cell_type": "code",
      "metadata": {
        "id": "d6-9vAYzqLFF",
        "colab_type": "code",
        "colab": {}
      },
      "source": [
        "#clear unused GPU\n",
        "with torch.no_grad():\n",
        "  torch.cuda.empty_cache()"
      ],
      "execution_count": 135,
      "outputs": []
    },
    {
      "cell_type": "markdown",
      "metadata": {
        "id": "KQXjuYIRIFHe",
        "colab_type": "text"
      },
      "source": [
        "####Plot model learning Curve"
      ]
    },
    {
      "cell_type": "code",
      "metadata": {
        "id": "1au3LlrwHE7e",
        "colab_type": "code",
        "colab": {
          "base_uri": "https://localhost:8080/",
          "height": 410
        },
        "outputId": "dac54a34-e8b8-4824-cd7b-635f2be79d68"
      },
      "source": [
        "#plot training and validation score\n",
        "import matplotlib.pyplot as plt\n",
        "import seaborn as sns\n",
        "train_score = epochs_score['train_Pearson_score'] # train_score\n",
        "valid_score = epochs_score['val_Pearson_score'] # valid_score\n",
        " \n",
        "\n",
        "sns.set(style='darkgrid') #set plot style\n",
        "sns.set(rc={'figure.figsize':(9,6)}) # set figure size\n",
        "plt.plot(train_score ,'o-b', label= 'Train_score_cos' )#plot train score\n",
        "plt.plot(valid_score, '^-r', label='Valid_score_cos') # plot valid score\n",
        "#plt.xticks( range(0, EPOCHS)) #set xlabel location\n",
        "plt.title('Model Training Curve(Siamese Network)') #  title\n",
        "plt.ylabel('Pearson Coefficient') # ylabel\n",
        "plt.xlabel('No. of epochs') # xlabel\n",
        "plt.ylim([0.65,1]) #set the ylabel limit\n",
        "plt.legend(loc=4) #label \n",
        "plt.show()\n",
        "\n",
        "\n",
        "\n"
      ],
      "execution_count": 138,
      "outputs": [
        {
          "output_type": "display_data",
          "data": {
            "image/png": "[encoded data removed]",
            "text/plain": [
              "<Figure size 648x432 with 1 Axes>"
            ]
          },
          "metadata": {
            "tags": []
          }
        }
      ]
    },
    {
      "cell_type": "code",
      "metadata": {
        "id": "whFqw-JCxcbI",
        "colab_type": "code",
        "colab": {}
      },
      "source": [
        ""
      ],
      "execution_count": null,
      "outputs": []
    },
    {
      "cell_type": "markdown",
      "metadata": {
        "id": "YaJjcEgYxeG6",
        "colab_type": "text"
      },
      "source": [
        "####Evaluation on test and dev dataset"
      ]
    },
    {
      "cell_type": "code",
      "metadata": {
        "id": "xF7Obmm0wzzn",
        "colab_type": "code",
        "colab": {
          "base_uri": "https://localhost:8080/",
          "height": 102
        },
        "outputId": "bdd420e0-62be-4dd2-9816-3952c85cc4f3"
      },
      "source": [
        "#evaluate on test data Siamese Network model\n",
        "test_loss_co, test_Pear_cos, test_Spear_cos = model_eval(\n",
        "                                                        custom_model_cos, \n",
        "                                                        test_data_loader_cos, \n",
        "                                                        device, \n",
        "                                                        loss_fn,\n",
        "                                                        model_type[1] #Sieamese Network\n",
        "                                                        )\n",
        "\n",
        "\n",
        "dev_loss_co, dev_Pear_cos, dev_Spear_cos = model_eval(\n",
        "                                                      custom_model_cos, \n",
        "                                                      dev_data_loader_cos, \n",
        "                                                      device, \n",
        "                                                      loss_fn,\n",
        "                                                      model_type[1] #Sieamese Network\n",
        "                                                      )      \n",
        "\n",
        "print('Test score:')                                    \n",
        "print(test_loss_co, test_Pear_cos, test_Spear_cos)\n",
        "print()\n",
        "print('Dev score:')                                                       \n",
        "print(dev_loss_co, dev_Pear_cos, dev_Spear_cos)"
      ],
      "execution_count": 144,
      "outputs": [
        {
          "output_type": "stream",
          "text": [
            "Test score:\n",
            "0.032194709235971626 0.8335526262452396 0.8164020446455449\n",
            "\n",
            "Dev score:\n",
            "0.02974295215879349 0.8547300202243072 0.8369918533768156\n"
          ],
          "name": "stdout"
        }
      ]
    },
    {
      "cell_type": "code",
      "metadata": {
        "id": "yTX1sQvuwzdM",
        "colab_type": "code",
        "colab": {}
      },
      "source": [
        "                   "
      ],
      "execution_count": null,
      "outputs": []
    },
    {
      "cell_type": "markdown",
      "metadata": {
        "id": "IK8YiFALvjrD",
        "colab_type": "text"
      },
      "source": [
        "####Model with Regression output"
      ]
    },
    {
      "cell_type": "code",
      "metadata": {
        "id": "Quv0hRicvjHT",
        "colab_type": "code",
        "colab": {
          "base_uri": "https://localhost:8080/",
          "height": 799
        },
        "outputId": "ec23b44d-63c6-4a8b-b684-d043fab76670"
      },
      "source": [
        "%%time\n",
        "#Training process start for regression ouput model\n",
        "epochs_score_reg = defaultdict(list) #store scores\n",
        "val_score_reg = 0 # validation score\n",
        "model_type = ['regression', 'cosine']\n",
        "EPOCHS = 6\n",
        "\n",
        "for epoch in range(EPOCHS):\n",
        "  print('Epoch {:}/{:}'.format(epoch + 1, EPOCHS))\n",
        "  print('=='*5)\n",
        "  print()\n",
        "  \n",
        "  #model training initiate\n",
        "  train_loss, train_Pearson_score = model_train(custom_model_reg, train_data_loader_reg, device, loss_fn, optimizer_reg, scheduler_reg, model_type[0])\n",
        "  print('Train loss is: {}, train_Pearson_score is {}'.format(train_loss,train_Pearson_score))\n",
        "  #store values\n",
        "  epochs_score_reg['train_loss'].append(train_loss) #train losss\n",
        "  epochs_score_reg['train_Pearson_score'].append(train_Pearson_score) # pearson correlation\n",
        "\n",
        "\n",
        "  #model validatiaon initiate\n",
        "  val_loss, val_Pearson_score, val_Spearman_score = model_eval(custom_model_reg, dev_data_loader_reg, device, loss_fn, model_type[0])\n",
        "  print('Validation loss is: {}, Validation_Pearson_score is {}'.format(val_loss,val_Pearson_score))\n",
        "  print()\n",
        "  #store values\n",
        "  epochs_score_reg['val_loss'].append(val_loss) #train losss\n",
        "  epochs_score_reg['val_Pearson_score'].append(val_Pearson_score) # pearson correlation\n",
        "  epochs_score_reg['val_Spearman_score'].append(val_Spearman_score) # Spearman correlation\n",
        "\n",
        "  #save model with high validaiton score\n",
        "  if val_Pearson_score >  val_score_reg:\n",
        "    val_score_reg = val_Pearson_score\n",
        "    torch.save(custom_model_reg.state_dict(), 'Bert_reg_best_model.bin')\n",
        "\n",
        "print()\n",
        "print('Training completed......')\n"
      ],
      "execution_count": 104,
      "outputs": [
        {
          "output_type": "stream",
          "text": [
            "Epoch 1/6\n",
            "==========\n",
            "\n",
            "Model is training based on regression ouput!!!\n",
            "Train loss is: 0.04810952228597469, train_Pearson_score is 0.6988526921485344\n",
            "Validation loss is: 0.02200672293993387, Validation_Pearson_score is 0.8763570181545296\n",
            "\n",
            "Epoch 2/6\n",
            "==========\n",
            "\n",
            "Model is training based on regression ouput!!!\n",
            "Train loss is: 0.027968994233136375, train_Pearson_score is 0.8332756121872181\n",
            "Validation loss is: 0.020631824838037185, Validation_Pearson_score is 0.8862626150742272\n",
            "\n",
            "Epoch 3/6\n",
            "==========\n",
            "\n",
            "Model is training based on regression ouput!!!\n",
            "Train loss is: 0.021065995273076826, train_Pearson_score is 0.8749515498056853\n",
            "Validation loss is: 0.01928811437113488, Validation_Pearson_score is 0.8900617238966654\n",
            "\n",
            "Epoch 4/6\n",
            "==========\n",
            "\n",
            "Model is training based on regression ouput!!!\n",
            "Train loss is: 0.01734358520867924, train_Pearson_score is 0.8975101395512753\n",
            "Validation loss is: 0.019590668954906312, Validation_Pearson_score is 0.8890433933670848\n",
            "\n",
            "Epoch 5/6\n",
            "==========\n",
            "\n",
            "Model is training based on regression ouput!!!\n",
            "Train loss is: 0.015044391051762633, train_Pearson_score is 0.9103565390053027\n",
            "Validation loss is: 0.01898467834008501, Validation_Pearson_score is 0.8906915139183297\n",
            "\n",
            "Epoch 6/6\n",
            "==========\n",
            "\n",
            "Model is training based on regression ouput!!!\n",
            "Train loss is: 0.014114318042993545, train_Pearson_score is 0.9168791667084668\n",
            "Validation loss is: 0.018985722659829448, Validation_Pearson_score is 0.8891695440142418\n",
            "\n",
            "\n",
            "Training completed......\n",
            "CPU times: user 14min 19s, sys: 8min 52s, total: 23min 11s\n",
            "Wall time: 23min 15s\n"
          ],
          "name": "stdout"
        }
      ]
    },
    {
      "cell_type": "code",
      "metadata": {
        "id": "I2qKzz2u4g5E",
        "colab_type": "code",
        "colab": {}
      },
      "source": [
        "#clear unused GPU\n",
        "with torch.no_grad():\n",
        "  torch.cuda.empty_cache()"
      ],
      "execution_count": 106,
      "outputs": []
    },
    {
      "cell_type": "code",
      "metadata": {
        "id": "x26xOBtG2hLJ",
        "colab_type": "code",
        "colab": {
          "base_uri": "https://localhost:8080/",
          "height": 410
        },
        "outputId": "40ea5137-cd1e-42e2-e16a-440f19abb58e"
      },
      "source": [
        "#plot training and validation score\n",
        "import matplotlib.pyplot as plt\n",
        "import seaborn as sns\n",
        "train_score = epochs_score_reg['train_Pearson_score'] # train_score\n",
        "valid_score = epochs_score_reg['val_Pearson_score'] # valid_score\n",
        " \n",
        "sns.set(style='darkgrid') #set plot style\n",
        "sns.set(rc={'figure.figsize':(9,6)}) # set figure size\n",
        "plt.plot(train_score ,'^-r', label= 'Train_score_reg' )#plot train score\n",
        "plt.plot(valid_score, '*-b', label='Valid_score_reg') # plot valid score\n",
        "plt.title('Model Training Curve(Regression output)') #  title\n",
        "#plt.xticks( range(0, EPOCHS,1)) #set xlabel location\n",
        "plt.ylabel('Pearson Coefficient') # ylabel\n",
        "plt.xlabel('No. of epochs') # xlabel\n",
        "plt.ylim([0.6,1]) #set the ylabel limit\n",
        "plt.legend(loc=4) #label \n",
        "plt.show()\n"
      ],
      "execution_count": 108,
      "outputs": [
        {
          "output_type": "display_data",
          "data": {
            "image/png": "[encoded data removed]",
            "text/plain": [
              "<Figure size 648x432 with 1 Axes>"
            ]
          },
          "metadata": {
            "tags": []
          }
        }
      ]
    },
    {
      "cell_type": "code",
      "metadata": {
        "id": "BW7EMbm8_bLo",
        "colab_type": "code",
        "colab": {}
      },
      "source": [
        ""
      ],
      "execution_count": null,
      "outputs": []
    },
    {
      "cell_type": "markdown",
      "metadata": {
        "id": "PWMFCXm1P_pj",
        "colab_type": "text"
      },
      "source": [
        "##### Evaluate on test and dev set"
      ]
    },
    {
      "cell_type": "code",
      "metadata": {
        "id": "Vl8Vn_bVTF6E",
        "colab_type": "code",
        "colab": {
          "base_uri": "https://localhost:8080/",
          "height": 102
        },
        "outputId": "56957d54-d80b-4e99-ddae-ff2144869dba"
      },
      "source": [
        "#evaluate on test data Siamese Network model\n",
        "test_loss_reg, test_Pear_reg, test_Spear_reg = model_eval(\n",
        "                                                        custom_model_reg, \n",
        "                                                        test_data_loader_reg, \n",
        "                                                        device, \n",
        "                                                        loss_fn,\n",
        "                                                        model_type[0] #regression output\n",
        "                                                        )\n",
        "\n",
        "dev_loss_reg, dev_Pear_reg, dev_Spear_reg = model_eval(\n",
        "                                                      custom_model_reg, \n",
        "                                                      dev_data_loader_reg, \n",
        "                                                      device, \n",
        "                                                      loss_fn,\n",
        "                                                      model_type[0] #Sieamese Network\n",
        "                                                      )\n",
        "              \n",
        "\n",
        "print('Test score:')                                                       \n",
        "print(test_loss_reg, test_Pear_reg, test_Spear_reg)\n",
        "print()\n",
        "print('Dev score:')                                                       \n",
        "print(dev_loss_reg, dev_Pear_reg, dev_Spear_reg)\n"
      ],
      "execution_count": 124,
      "outputs": [
        {
          "output_type": "stream",
          "text": [
            "Test score:\n",
            "0.025917422941843557 0.848343729961739 0.820601166305428\n",
            "\n",
            "Dev score:\n",
            "0.018957206563271108 0.8911972168125739 0.8737305731987617\n"
          ],
          "name": "stdout"
        }
      ]
    },
    {
      "cell_type": "code",
      "metadata": {
        "id": "mBKV_hYRKZOd",
        "colab_type": "code",
        "colab": {
          "base_uri": "https://localhost:8080/",
          "height": 173
        },
        "outputId": "d036473a-ee78-4fad-de22-3065242d90f1"
      },
      "source": [
        "#show in pandas dataframe dev_Spearman_score\n",
        "bert_df = pd.DataFrame( data=[['Bert-CosOutput', dev_Pear_cos,  test_Pear_cos],\n",
        "                              ['Bert-CosOutput', dev_Spear_cos , test_Spear_cos],\n",
        "                              ['Bert-RegOutput', dev_Pear_reg, test_Pear_reg],\n",
        "                              ['Bert-RegOutput', dev_Spear_reg, test_Spear_reg]], \n",
        "                        index = ['Pearson', 'Spearman', 'Pearson', 'Spearman'],\n",
        "                        columns=['Method-Types', 'DevSet', 'TestSet'])\n",
        "'''\n",
        "#highlight the maximum in a column with yellow.\n",
        "def highlight_max(val):\n",
        "  \n",
        "    is_max = val == val.max()\n",
        "    return ['background-color: yellow' if v else '' for v in is_max]\n",
        "\n",
        "bert_df.style.apply(highlight_max, subset=['DevSet', 'TestSet'])\n",
        "'''\n",
        "\n",
        "import plotly.figure_factory as ff \n",
        "ff.create_table(bert_df)\n",
        "bert_df\n"
      ],
      "execution_count": 147,
      "outputs": [
        {
          "output_type": "execute_result",
          "data": {
            "text/html": [
              "<div>\n",
              "<style scoped>\n",
              "    .dataframe tbody tr th:only-of-type {\n",
              "        vertical-align: middle;\n",
              "    }\n",
              "\n",
              "    .dataframe tbody tr th {\n",
              "        vertical-align: top;\n",
              "    }\n",
              "\n",
              "    .dataframe thead th {\n",
              "        text-align: right;\n",
              "    }\n",
              "</style>\n",
              "<table border=\"1\" class=\"dataframe\">\n",
              "  <thead>\n",
              "    <tr style=\"text-align: right;\">\n",
              "      <th></th>\n",
              "      <th>Method-Types</th>\n",
              "      <th>DevSet</th>\n",
              "      <th>TestSet</th>\n",
              "    </tr>\n",
              "  </thead>\n",
              "  <tbody>\n",
              "    <tr>\n",
              "      <th>Pearson</th>\n",
              "      <td>Bert-CosOutput</td>\n",
              "      <td>0.854730</td>\n",
              "      <td>0.833553</td>\n",
              "    </tr>\n",
              "    <tr>\n",
              "      <th>Spearman</th>\n",
              "      <td>Bert-CosOutput</td>\n",
              "      <td>0.836992</td>\n",
              "      <td>0.816402</td>\n",
              "    </tr>\n",
              "    <tr>\n",
              "      <th>Pearson</th>\n",
              "      <td>Bert-RegOutput</td>\n",
              "      <td>0.891197</td>\n",
              "      <td>0.848344</td>\n",
              "    </tr>\n",
              "    <tr>\n",
              "      <th>Spearman</th>\n",
              "      <td>Bert-RegOutput</td>\n",
              "      <td>0.873731</td>\n",
              "      <td>0.820601</td>\n",
              "    </tr>\n",
              "  </tbody>\n",
              "</table>\n",
              "</div>"
            ],
            "text/plain": [
              "            Method-Types    DevSet   TestSet\n",
              "Pearson   Bert-CosOutput  0.854730  0.833553\n",
              "Spearman  Bert-CosOutput  0.836992  0.816402\n",
              "Pearson   Bert-RegOutput  0.891197  0.848344\n",
              "Spearman  Bert-RegOutput  0.873731  0.820601"
            ]
          },
          "metadata": {
            "tags": []
          },
          "execution_count": 147
        }
      ]
    },
    {
      "cell_type": "markdown",
      "metadata": {
        "id": "J9aAcR1qhayQ",
        "colab_type": "text"
      },
      "source": [
        "# Save and Load model"
      ]
    },
    {
      "cell_type": "code",
      "metadata": {
        "id": "ryrceZodhZQq",
        "colab_type": "code",
        "colab": {}
      },
      "source": [
        "#save model\n",
        "#torch.save(custom_model_cos.state_dict(), '/content/drive/My Drive/Google_Colab/Bert_cos_best_model.bin')\n",
        "\n",
        "# Or we can copy  and save the best validation score model for future use\n",
        "!cp -r /content/Bert_reg_best_model.bin \"/content/drive/My Drive/Google_Colab/Bert_reg_best_model.bin\"\n",
        "!cp -r /content/Bert_cos_best_model.bin \"/content/drive/My Drive/Google_Colab/Bert_cos_best_model.bin\""
      ],
      "execution_count": 146,
      "outputs": []
    },
    {
      "cell_type": "code",
      "metadata": {
        "id": "o52SHrJtQFhl",
        "colab_type": "code",
        "colab": {
          "base_uri": "https://localhost:8080/",
          "height": 34
        },
        "outputId": "54edf8ec-fa83-49e8-c29d-0d02dad04685"
      },
      "source": [
        "#load model and evaluate on test data\n",
        "fine_tuned_model = BertSentenceSimilarityModelReg()\n",
        "fine_tuned_model.load_state_dict(torch.load('/content/Bert_reg_best_model.bin')) #model with high validation score\n",
        "test_loss, test_Pearson_score,_ = model_eval(\n",
        "                                      fine_tuned_model.to(device),\n",
        "                                      test_data_loader_reg, \n",
        "                                      device, \n",
        "                                      loss_fn,\n",
        "                                      model_type[0]\n",
        "                                      )\n",
        "print(test_loss, test_Pearson_score)"
      ],
      "execution_count": 117,
      "outputs": [
        {
          "output_type": "stream",
          "text": [
            "0.026856652058830314 0.8468612718201953\n"
          ],
          "name": "stdout"
        }
      ]
    },
    {
      "cell_type": "code",
      "metadata": {
        "id": "sCfjOQ9LxAMa",
        "colab_type": "code",
        "colab": {}
      },
      "source": [
        ""
      ],
      "execution_count": 126,
      "outputs": []
    },
    {
      "cell_type": "markdown",
      "metadata": {
        "id": "Taj_czZksJJL",
        "colab_type": "text"
      },
      "source": [
        "# References:\n",
        "1. Chris McCormick and Nick Ryan. (2019, May 14). BERT Word Embeddings Tutorial. Retrieved from http://www.mccormickml.com , https://mccormickml.com/2019/05/14/BERT-word-embeddings-tutorial/\n",
        "\n",
        "2. Sentiment Analysis with BERT  https://colab.research.google.com/drive/1PHv-IRLPCtv7oTcIGbsgZHqrB5LPvB7S#scrollTo=1zhHoFNsxufs&forceEdit=true&sandboxMode=true\n",
        "\n",
        "3. Hugging Face Transformer, https://huggingface.co/transformers/\n",
        "\n",
        "4. The Illustrated BERT, ELMo, and co. (How NLP Cracked Transfer Learning), https://jalammar.github.io/illustrated-bert/\n",
        "\n",
        "5. BERT: Pre-training of Deep Bidirectional Transformers for Language Understanding, https://arxiv.org/abs/1810.04805\n",
        "\n",
        "6. Eneko Agirre, Daniel Cer, Mona Diab, Iñigo Lopez-Gazpio, Lucia\n",
        "Specia. Semeval-2017 Task 1: Semantic Textual Similarity Multilingual and Crosslingual Focused Evaluation. Proceedings of SemEval 2017\n"
      ]
    }
  ]
}
