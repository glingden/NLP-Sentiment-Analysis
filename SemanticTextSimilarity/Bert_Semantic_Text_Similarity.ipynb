{
  "nbformat": 4,
  "nbformat_minor": 0,
  "metadata": {
    "colab": {
      "name": "Bert_Semantic_Text_Similarity.ipynb",
      "provenance": [],
      "collapsed_sections": [],
      "authorship_tag": "ABX9TyN6UPSgXt7mMo8zArQA6BuR",
      "include_colab_link": true
    },
    "kernelspec": {
      "name": "python3",
      "display_name": "Python 3"
    },
    "widgets": {
      "application/vnd.jupyter.widget-state+json": {
        "7405431d29e14bdfb30abf60a179a701": {
          "model_module": "@jupyter-widgets/controls",
          "model_name": "HBoxModel",
          "state": {
            "_view_name": "HBoxView",
            "_dom_classes": [],
            "_model_name": "HBoxModel",
            "_view_module": "@jupyter-widgets/controls",
            "_model_module_version": "1.5.0",
            "_view_count": null,
            "_view_module_version": "1.5.0",
            "box_style": "",
            "layout": "IPY_MODEL_b3c92bfc4c6e4722aa541550c1c10b00",
            "_model_module": "@jupyter-widgets/controls",
            "children": [
              "IPY_MODEL_659032b4bdb040848c2677c4ff86fc3f",
              "IPY_MODEL_65e1492f821c47b5827501d5f5855a72"
            ]
          }
        },
        "b3c92bfc4c6e4722aa541550c1c10b00": {
          "model_module": "@jupyter-widgets/base",
          "model_name": "LayoutModel",
          "state": {
            "_view_name": "LayoutView",
            "grid_template_rows": null,
            "right": null,
            "justify_content": null,
            "_view_module": "@jupyter-widgets/base",
            "overflow": null,
            "_model_module_version": "1.2.0",
            "_view_count": null,
            "flex_flow": null,
            "width": null,
            "min_width": null,
            "border": null,
            "align_items": null,
            "bottom": null,
            "_model_module": "@jupyter-widgets/base",
            "top": null,
            "grid_column": null,
            "overflow_y": null,
            "overflow_x": null,
            "grid_auto_flow": null,
            "grid_area": null,
            "grid_template_columns": null,
            "flex": null,
            "_model_name": "LayoutModel",
            "justify_items": null,
            "grid_row": null,
            "max_height": null,
            "align_content": null,
            "visibility": null,
            "align_self": null,
            "height": null,
            "min_height": null,
            "padding": null,
            "grid_auto_rows": null,
            "grid_gap": null,
            "max_width": null,
            "order": null,
            "_view_module_version": "1.2.0",
            "grid_template_areas": null,
            "object_position": null,
            "object_fit": null,
            "grid_auto_columns": null,
            "margin": null,
            "display": null,
            "left": null
          }
        },
        "659032b4bdb040848c2677c4ff86fc3f": {
          "model_module": "@jupyter-widgets/controls",
          "model_name": "FloatProgressModel",
          "state": {
            "_view_name": "ProgressView",
            "style": "IPY_MODEL_28658b4646fe40599521e324bf3b6896",
            "_dom_classes": [],
            "description": "Downloading: 100%",
            "_model_name": "FloatProgressModel",
            "bar_style": "success",
            "max": 231508,
            "_view_module": "@jupyter-widgets/controls",
            "_model_module_version": "1.5.0",
            "value": 231508,
            "_view_count": null,
            "_view_module_version": "1.5.0",
            "orientation": "horizontal",
            "min": 0,
            "description_tooltip": null,
            "_model_module": "@jupyter-widgets/controls",
            "layout": "IPY_MODEL_2373203d0d274f3d8c79b2e02b0697fd"
          }
        },
        "65e1492f821c47b5827501d5f5855a72": {
          "model_module": "@jupyter-widgets/controls",
          "model_name": "HTMLModel",
          "state": {
            "_view_name": "HTMLView",
            "style": "IPY_MODEL_75977c0f8238499c9bff4dd50c548aad",
            "_dom_classes": [],
            "description": "",
            "_model_name": "HTMLModel",
            "placeholder": "​",
            "_view_module": "@jupyter-widgets/controls",
            "_model_module_version": "1.5.0",
            "value": " 232k/232k [00:00&lt;00:00, 683kB/s]",
            "_view_count": null,
            "_view_module_version": "1.5.0",
            "description_tooltip": null,
            "_model_module": "@jupyter-widgets/controls",
            "layout": "IPY_MODEL_9f78a1b6833e4249a3ff927392c1a7ce"
          }
        },
        "28658b4646fe40599521e324bf3b6896": {
          "model_module": "@jupyter-widgets/controls",
          "model_name": "ProgressStyleModel",
          "state": {
            "_view_name": "StyleView",
            "_model_name": "ProgressStyleModel",
            "description_width": "initial",
            "_view_module": "@jupyter-widgets/base",
            "_model_module_version": "1.5.0",
            "_view_count": null,
            "_view_module_version": "1.2.0",
            "bar_color": null,
            "_model_module": "@jupyter-widgets/controls"
          }
        },
        "2373203d0d274f3d8c79b2e02b0697fd": {
          "model_module": "@jupyter-widgets/base",
          "model_name": "LayoutModel",
          "state": {
            "_view_name": "LayoutView",
            "grid_template_rows": null,
            "right": null,
            "justify_content": null,
            "_view_module": "@jupyter-widgets/base",
            "overflow": null,
            "_model_module_version": "1.2.0",
            "_view_count": null,
            "flex_flow": null,
            "width": null,
            "min_width": null,
            "border": null,
            "align_items": null,
            "bottom": null,
            "_model_module": "@jupyter-widgets/base",
            "top": null,
            "grid_column": null,
            "overflow_y": null,
            "overflow_x": null,
            "grid_auto_flow": null,
            "grid_area": null,
            "grid_template_columns": null,
            "flex": null,
            "_model_name": "LayoutModel",
            "justify_items": null,
            "grid_row": null,
            "max_height": null,
            "align_content": null,
            "visibility": null,
            "align_self": null,
            "height": null,
            "min_height": null,
            "padding": null,
            "grid_auto_rows": null,
            "grid_gap": null,
            "max_width": null,
            "order": null,
            "_view_module_version": "1.2.0",
            "grid_template_areas": null,
            "object_position": null,
            "object_fit": null,
            "grid_auto_columns": null,
            "margin": null,
            "display": null,
            "left": null
          }
        },
        "75977c0f8238499c9bff4dd50c548aad": {
          "model_module": "@jupyter-widgets/controls",
          "model_name": "DescriptionStyleModel",
          "state": {
            "_view_name": "StyleView",
            "_model_name": "DescriptionStyleModel",
            "description_width": "",
            "_view_module": "@jupyter-widgets/base",
            "_model_module_version": "1.5.0",
            "_view_count": null,
            "_view_module_version": "1.2.0",
            "_model_module": "@jupyter-widgets/controls"
          }
        },
        "9f78a1b6833e4249a3ff927392c1a7ce": {
          "model_module": "@jupyter-widgets/base",
          "model_name": "LayoutModel",
          "state": {
            "_view_name": "LayoutView",
            "grid_template_rows": null,
            "right": null,
            "justify_content": null,
            "_view_module": "@jupyter-widgets/base",
            "overflow": null,
            "_model_module_version": "1.2.0",
            "_view_count": null,
            "flex_flow": null,
            "width": null,
            "min_width": null,
            "border": null,
            "align_items": null,
            "bottom": null,
            "_model_module": "@jupyter-widgets/base",
            "top": null,
            "grid_column": null,
            "overflow_y": null,
            "overflow_x": null,
            "grid_auto_flow": null,
            "grid_area": null,
            "grid_template_columns": null,
            "flex": null,
            "_model_name": "LayoutModel",
            "justify_items": null,
            "grid_row": null,
            "max_height": null,
            "align_content": null,
            "visibility": null,
            "align_self": null,
            "height": null,
            "min_height": null,
            "padding": null,
            "grid_auto_rows": null,
            "grid_gap": null,
            "max_width": null,
            "order": null,
            "_view_module_version": "1.2.0",
            "grid_template_areas": null,
            "object_position": null,
            "object_fit": null,
            "grid_auto_columns": null,
            "margin": null,
            "display": null,
            "left": null
          }
        },
        "176587eab3ad433ab7e0ed401cef1f3c": {
          "model_module": "@jupyter-widgets/controls",
          "model_name": "HBoxModel",
          "state": {
            "_view_name": "HBoxView",
            "_dom_classes": [],
            "_model_name": "HBoxModel",
            "_view_module": "@jupyter-widgets/controls",
            "_model_module_version": "1.5.0",
            "_view_count": null,
            "_view_module_version": "1.5.0",
            "box_style": "",
            "layout": "IPY_MODEL_f6d8b09fc2584e5582d4801eea771b1f",
            "_model_module": "@jupyter-widgets/controls",
            "children": [
              "IPY_MODEL_fdca5cb17d5244708402b6eb6bbcf0e8",
              "IPY_MODEL_7afd408a33334bf0b26c1bd1fa4e0cf1"
            ]
          }
        },
        "f6d8b09fc2584e5582d4801eea771b1f": {
          "model_module": "@jupyter-widgets/base",
          "model_name": "LayoutModel",
          "state": {
            "_view_name": "LayoutView",
            "grid_template_rows": null,
            "right": null,
            "justify_content": null,
            "_view_module": "@jupyter-widgets/base",
            "overflow": null,
            "_model_module_version": "1.2.0",
            "_view_count": null,
            "flex_flow": null,
            "width": null,
            "min_width": null,
            "border": null,
            "align_items": null,
            "bottom": null,
            "_model_module": "@jupyter-widgets/base",
            "top": null,
            "grid_column": null,
            "overflow_y": null,
            "overflow_x": null,
            "grid_auto_flow": null,
            "grid_area": null,
            "grid_template_columns": null,
            "flex": null,
            "_model_name": "LayoutModel",
            "justify_items": null,
            "grid_row": null,
            "max_height": null,
            "align_content": null,
            "visibility": null,
            "align_self": null,
            "height": null,
            "min_height": null,
            "padding": null,
            "grid_auto_rows": null,
            "grid_gap": null,
            "max_width": null,
            "order": null,
            "_view_module_version": "1.2.0",
            "grid_template_areas": null,
            "object_position": null,
            "object_fit": null,
            "grid_auto_columns": null,
            "margin": null,
            "display": null,
            "left": null
          }
        },
        "fdca5cb17d5244708402b6eb6bbcf0e8": {
          "model_module": "@jupyter-widgets/controls",
          "model_name": "FloatProgressModel",
          "state": {
            "_view_name": "ProgressView",
            "style": "IPY_MODEL_a02485564bbc4acc80066f6d33769cca",
            "_dom_classes": [],
            "description": "Downloading: 100%",
            "_model_name": "FloatProgressModel",
            "bar_style": "success",
            "max": 433,
            "_view_module": "@jupyter-widgets/controls",
            "_model_module_version": "1.5.0",
            "value": 433,
            "_view_count": null,
            "_view_module_version": "1.5.0",
            "orientation": "horizontal",
            "min": 0,
            "description_tooltip": null,
            "_model_module": "@jupyter-widgets/controls",
            "layout": "IPY_MODEL_34d7fcaf123c45198f3cdfffde971cb7"
          }
        },
        "7afd408a33334bf0b26c1bd1fa4e0cf1": {
          "model_module": "@jupyter-widgets/controls",
          "model_name": "HTMLModel",
          "state": {
            "_view_name": "HTMLView",
            "style": "IPY_MODEL_f96b1a901abb42e88880a238eaab1866",
            "_dom_classes": [],
            "description": "",
            "_model_name": "HTMLModel",
            "placeholder": "​",
            "_view_module": "@jupyter-widgets/controls",
            "_model_module_version": "1.5.0",
            "value": " 433/433 [00:53&lt;00:00, 8.15B/s]",
            "_view_count": null,
            "_view_module_version": "1.5.0",
            "description_tooltip": null,
            "_model_module": "@jupyter-widgets/controls",
            "layout": "IPY_MODEL_3ac1e33f014942169639157c7540bdee"
          }
        },
        "a02485564bbc4acc80066f6d33769cca": {
          "model_module": "@jupyter-widgets/controls",
          "model_name": "ProgressStyleModel",
          "state": {
            "_view_name": "StyleView",
            "_model_name": "ProgressStyleModel",
            "description_width": "initial",
            "_view_module": "@jupyter-widgets/base",
            "_model_module_version": "1.5.0",
            "_view_count": null,
            "_view_module_version": "1.2.0",
            "bar_color": null,
            "_model_module": "@jupyter-widgets/controls"
          }
        },
        "34d7fcaf123c45198f3cdfffde971cb7": {
          "model_module": "@jupyter-widgets/base",
          "model_name": "LayoutModel",
          "state": {
            "_view_name": "LayoutView",
            "grid_template_rows": null,
            "right": null,
            "justify_content": null,
            "_view_module": "@jupyter-widgets/base",
            "overflow": null,
            "_model_module_version": "1.2.0",
            "_view_count": null,
            "flex_flow": null,
            "width": null,
            "min_width": null,
            "border": null,
            "align_items": null,
            "bottom": null,
            "_model_module": "@jupyter-widgets/base",
            "top": null,
            "grid_column": null,
            "overflow_y": null,
            "overflow_x": null,
            "grid_auto_flow": null,
            "grid_area": null,
            "grid_template_columns": null,
            "flex": null,
            "_model_name": "LayoutModel",
            "justify_items": null,
            "grid_row": null,
            "max_height": null,
            "align_content": null,
            "visibility": null,
            "align_self": null,
            "height": null,
            "min_height": null,
            "padding": null,
            "grid_auto_rows": null,
            "grid_gap": null,
            "max_width": null,
            "order": null,
            "_view_module_version": "1.2.0",
            "grid_template_areas": null,
            "object_position": null,
            "object_fit": null,
            "grid_auto_columns": null,
            "margin": null,
            "display": null,
            "left": null
          }
        },
        "f96b1a901abb42e88880a238eaab1866": {
          "model_module": "@jupyter-widgets/controls",
          "model_name": "DescriptionStyleModel",
          "state": {
            "_view_name": "StyleView",
            "_model_name": "DescriptionStyleModel",
            "description_width": "",
            "_view_module": "@jupyter-widgets/base",
            "_model_module_version": "1.5.0",
            "_view_count": null,
            "_view_module_version": "1.2.0",
            "_model_module": "@jupyter-widgets/controls"
          }
        },
        "3ac1e33f014942169639157c7540bdee": {
          "model_module": "@jupyter-widgets/base",
          "model_name": "LayoutModel",
          "state": {
            "_view_name": "LayoutView",
            "grid_template_rows": null,
            "right": null,
            "justify_content": null,
            "_view_module": "@jupyter-widgets/base",
            "overflow": null,
            "_model_module_version": "1.2.0",
            "_view_count": null,
            "flex_flow": null,
            "width": null,
            "min_width": null,
            "border": null,
            "align_items": null,
            "bottom": null,
            "_model_module": "@jupyter-widgets/base",
            "top": null,
            "grid_column": null,
            "overflow_y": null,
            "overflow_x": null,
            "grid_auto_flow": null,
            "grid_area": null,
            "grid_template_columns": null,
            "flex": null,
            "_model_name": "LayoutModel",
            "justify_items": null,
            "grid_row": null,
            "max_height": null,
            "align_content": null,
            "visibility": null,
            "align_self": null,
            "height": null,
            "min_height": null,
            "padding": null,
            "grid_auto_rows": null,
            "grid_gap": null,
            "max_width": null,
            "order": null,
            "_view_module_version": "1.2.0",
            "grid_template_areas": null,
            "object_position": null,
            "object_fit": null,
            "grid_auto_columns": null,
            "margin": null,
            "display": null,
            "left": null
          }
        },
        "878fc8c2e17e44d1abf992e585ffa7a9": {
          "model_module": "@jupyter-widgets/controls",
          "model_name": "HBoxModel",
          "state": {
            "_view_name": "HBoxView",
            "_dom_classes": [],
            "_model_name": "HBoxModel",
            "_view_module": "@jupyter-widgets/controls",
            "_model_module_version": "1.5.0",
            "_view_count": null,
            "_view_module_version": "1.5.0",
            "box_style": "",
            "layout": "IPY_MODEL_be8bb46c2dc640678c65b9dc7ccde5f7",
            "_model_module": "@jupyter-widgets/controls",
            "children": [
              "IPY_MODEL_693e7691852d404d81a1a4c14ac20b77",
              "IPY_MODEL_3c044203a4d74a60bb197f4b467b842b"
            ]
          }
        },
        "be8bb46c2dc640678c65b9dc7ccde5f7": {
          "model_module": "@jupyter-widgets/base",
          "model_name": "LayoutModel",
          "state": {
            "_view_name": "LayoutView",
            "grid_template_rows": null,
            "right": null,
            "justify_content": null,
            "_view_module": "@jupyter-widgets/base",
            "overflow": null,
            "_model_module_version": "1.2.0",
            "_view_count": null,
            "flex_flow": null,
            "width": null,
            "min_width": null,
            "border": null,
            "align_items": null,
            "bottom": null,
            "_model_module": "@jupyter-widgets/base",
            "top": null,
            "grid_column": null,
            "overflow_y": null,
            "overflow_x": null,
            "grid_auto_flow": null,
            "grid_area": null,
            "grid_template_columns": null,
            "flex": null,
            "_model_name": "LayoutModel",
            "justify_items": null,
            "grid_row": null,
            "max_height": null,
            "align_content": null,
            "visibility": null,
            "align_self": null,
            "height": null,
            "min_height": null,
            "padding": null,
            "grid_auto_rows": null,
            "grid_gap": null,
            "max_width": null,
            "order": null,
            "_view_module_version": "1.2.0",
            "grid_template_areas": null,
            "object_position": null,
            "object_fit": null,
            "grid_auto_columns": null,
            "margin": null,
            "display": null,
            "left": null
          }
        },
        "693e7691852d404d81a1a4c14ac20b77": {
          "model_module": "@jupyter-widgets/controls",
          "model_name": "FloatProgressModel",
          "state": {
            "_view_name": "ProgressView",
            "style": "IPY_MODEL_13b62c0c3ede41f49b8218ef75f3fe69",
            "_dom_classes": [],
            "description": "Downloading: 100%",
            "_model_name": "FloatProgressModel",
            "bar_style": "success",
            "max": 440473133,
            "_view_module": "@jupyter-widgets/controls",
            "_model_module_version": "1.5.0",
            "value": 440473133,
            "_view_count": null,
            "_view_module_version": "1.5.0",
            "orientation": "horizontal",
            "min": 0,
            "description_tooltip": null,
            "_model_module": "@jupyter-widgets/controls",
            "layout": "IPY_MODEL_c8b811abb27a42c7b98864ca545d3fc5"
          }
        },
        "3c044203a4d74a60bb197f4b467b842b": {
          "model_module": "@jupyter-widgets/controls",
          "model_name": "HTMLModel",
          "state": {
            "_view_name": "HTMLView",
            "style": "IPY_MODEL_9debdbf399504f3882128223b8f9e026",
            "_dom_classes": [],
            "description": "",
            "_model_name": "HTMLModel",
            "placeholder": "​",
            "_view_module": "@jupyter-widgets/controls",
            "_model_module_version": "1.5.0",
            "value": " 440M/440M [00:06&lt;00:00, 66.8MB/s]",
            "_view_count": null,
            "_view_module_version": "1.5.0",
            "description_tooltip": null,
            "_model_module": "@jupyter-widgets/controls",
            "layout": "IPY_MODEL_be38de922e0541008c8adca4155676e2"
          }
        },
        "13b62c0c3ede41f49b8218ef75f3fe69": {
          "model_module": "@jupyter-widgets/controls",
          "model_name": "ProgressStyleModel",
          "state": {
            "_view_name": "StyleView",
            "_model_name": "ProgressStyleModel",
            "description_width": "initial",
            "_view_module": "@jupyter-widgets/base",
            "_model_module_version": "1.5.0",
            "_view_count": null,
            "_view_module_version": "1.2.0",
            "bar_color": null,
            "_model_module": "@jupyter-widgets/controls"
          }
        },
        "c8b811abb27a42c7b98864ca545d3fc5": {
          "model_module": "@jupyter-widgets/base",
          "model_name": "LayoutModel",
          "state": {
            "_view_name": "LayoutView",
            "grid_template_rows": null,
            "right": null,
            "justify_content": null,
            "_view_module": "@jupyter-widgets/base",
            "overflow": null,
            "_model_module_version": "1.2.0",
            "_view_count": null,
            "flex_flow": null,
            "width": null,
            "min_width": null,
            "border": null,
            "align_items": null,
            "bottom": null,
            "_model_module": "@jupyter-widgets/base",
            "top": null,
            "grid_column": null,
            "overflow_y": null,
            "overflow_x": null,
            "grid_auto_flow": null,
            "grid_area": null,
            "grid_template_columns": null,
            "flex": null,
            "_model_name": "LayoutModel",
            "justify_items": null,
            "grid_row": null,
            "max_height": null,
            "align_content": null,
            "visibility": null,
            "align_self": null,
            "height": null,
            "min_height": null,
            "padding": null,
            "grid_auto_rows": null,
            "grid_gap": null,
            "max_width": null,
            "order": null,
            "_view_module_version": "1.2.0",
            "grid_template_areas": null,
            "object_position": null,
            "object_fit": null,
            "grid_auto_columns": null,
            "margin": null,
            "display": null,
            "left": null
          }
        },
        "9debdbf399504f3882128223b8f9e026": {
          "model_module": "@jupyter-widgets/controls",
          "model_name": "DescriptionStyleModel",
          "state": {
            "_view_name": "StyleView",
            "_model_name": "DescriptionStyleModel",
            "description_width": "",
            "_view_module": "@jupyter-widgets/base",
            "_model_module_version": "1.5.0",
            "_view_count": null,
            "_view_module_version": "1.2.0",
            "_model_module": "@jupyter-widgets/controls"
          }
        },
        "be38de922e0541008c8adca4155676e2": {
          "model_module": "@jupyter-widgets/base",
          "model_name": "LayoutModel",
          "state": {
            "_view_name": "LayoutView",
            "grid_template_rows": null,
            "right": null,
            "justify_content": null,
            "_view_module": "@jupyter-widgets/base",
            "overflow": null,
            "_model_module_version": "1.2.0",
            "_view_count": null,
            "flex_flow": null,
            "width": null,
            "min_width": null,
            "border": null,
            "align_items": null,
            "bottom": null,
            "_model_module": "@jupyter-widgets/base",
            "top": null,
            "grid_column": null,
            "overflow_y": null,
            "overflow_x": null,
            "grid_auto_flow": null,
            "grid_area": null,
            "grid_template_columns": null,
            "flex": null,
            "_model_name": "LayoutModel",
            "justify_items": null,
            "grid_row": null,
            "max_height": null,
            "align_content": null,
            "visibility": null,
            "align_self": null,
            "height": null,
            "min_height": null,
            "padding": null,
            "grid_auto_rows": null,
            "grid_gap": null,
            "max_width": null,
            "order": null,
            "_view_module_version": "1.2.0",
            "grid_template_areas": null,
            "object_position": null,
            "object_fit": null,
            "grid_auto_columns": null,
            "margin": null,
            "display": null,
            "left": null
          }
        }
      }
    }
  },
  "cells": [
    {
      "cell_type": "markdown",
      "metadata": {
        "id": "view-in-github",
        "colab_type": "text"
      },
      "source": [
        "<a href=\"https://colab.research.google.com/github/glingden/Natural-Language-Processing-NLP/blob/master/Bert_Semantic_Text_Similarity.ipynb\" target=\"_parent\"><img src=\"https://colab.research.google.com/assets/colab-badge.svg\" alt=\"Open In Colab\"/></a>"
      ]
    },
    {
      "cell_type": "markdown",
      "metadata": {
        "id": "q_guI_jjrpWt",
        "colab_type": "text"
      },
      "source": [
        "# BERT Semantic Text Similarity\n",
        "In this notebook, the BERT (bert-base-uncased) model is used for finding  semantic text similarity between a pair of sentences.  The [STS_B benchmark](https://ixa2.si.ehu.es/stswiki/index.php/STSbenchmark) dataset is used for this work. This dataset consists of separate training, validation and test data. The work in this notebook contains two parts:\n",
        "1. Sentence level embedding extraction from the pre-trained  bert model and apply cosine similarity between the pair sentences (No fine-tunned, but only using sentence vector representation from the pretrained model)\n",
        "\n",
        "2. Fine-tune: The STS_B train dataset is used for fine tunning the model and validaiton dataset is used for model validation. And, the fine-tunned model is used to predict the test dataset. For fine-tunning, the two model network architectures are used: 1. Linear Regression ouput, and 2.Siamese Network with cosine similarity output"
      ]
    },
    {
      "cell_type": "code",
      "metadata": {
        "id": "cGfcD5iLrtAU",
        "colab_type": "code",
        "colab": {}
      },
      "source": [
        "#import necessary libraries\n",
        "import pandas as pd\n",
        "import tensorflow as tf\n",
        "import torch\n"
      ],
      "execution_count": 114,
      "outputs": []
    },
    {
      "cell_type": "code",
      "metadata": {
        "id": "bIdMhqsNL-VT",
        "colab_type": "code",
        "colab": {
          "base_uri": "https://localhost:8080/",
          "height": 68
        },
        "outputId": "30d27aeb-69bf-4673-c91a-4e8abb2aec97"
      },
      "source": [
        "print(torch.__version__)\n",
        "print(tf.__version__)\n",
        "!python -V"
      ],
      "execution_count": null,
      "outputs": [
        {
          "output_type": "stream",
          "text": [
            "1.5.1+cu101\n",
            "2.2.0\n",
            "Python 3.6.9\n"
          ],
          "name": "stdout"
        }
      ]
    },
    {
      "cell_type": "markdown",
      "metadata": {
        "id": "t9FEdKjUp9Xv",
        "colab_type": "text"
      },
      "source": [
        "GPU from Google Colab is used in this work. So, check if GPU is avaiable, and if not rasie error. We have to identify and specify GPU as device in order to use it. \n",
        "\n",
        "\n"
      ]
    },
    {
      "cell_type": "code",
      "metadata": {
        "id": "FWARCoGcpiy3",
        "colab_type": "code",
        "colab": {
          "base_uri": "https://localhost:8080/",
          "height": 51
        },
        "outputId": "b6ac3017-9777-43ac-e9b7-687b064c299b"
      },
      "source": [
        "#check GPU is available or not \n",
        "if torch.cuda.is_available():\n",
        "\n",
        "  device = torch.device(\"cuda\")\n",
        "  current_dev = torch.cuda.current_device()\n",
        "  print('Found GPU :', torch.cuda.get_device_name(0))\n",
        "  print(current_dev)\n",
        "  \n",
        "\n",
        "else:\n",
        "    print('Not found, use CPU instead')\n",
        "    device = torch.device(\"cpu\")\n",
        "  \n"
      ],
      "execution_count": null,
      "outputs": [
        {
          "output_type": "stream",
          "text": [
            "Found GPU : Tesla P4\n",
            "0\n"
          ],
          "name": "stdout"
        }
      ]
    },
    {
      "cell_type": "code",
      "metadata": {
        "id": "zk2eRMkcHA6e",
        "colab_type": "code",
        "colab": {}
      },
      "source": [
        ""
      ],
      "execution_count": null,
      "outputs": []
    },
    {
      "cell_type": "markdown",
      "metadata": {
        "id": "yN-iiHv5J5rF",
        "colab_type": "text"
      },
      "source": [
        "# **Load Dataset** <br> \n",
        "\n",
        "Dataset is stored at  Google drive. So, google drive  is mounted at '/content/drive' to access them."
      ]
    },
    {
      "cell_type": "code",
      "metadata": {
        "id": "_fyQjjuUaV91",
        "colab_type": "code",
        "colab": {
          "base_uri": "https://localhost:8080/",
          "height": 54
        },
        "outputId": "9cb29d2c-45da-4695-d24d-fae56ae9775e"
      },
      "source": [
        "#mount the drive \n",
        "from google.colab import drive\n",
        "drive.mount('/content/drive')"
      ],
      "execution_count": 115,
      "outputs": [
        {
          "output_type": "stream",
          "text": [
            "Drive already mounted at /content/drive; to attempt to forcibly remount, call drive.mount(\"/content/drive\", force_remount=True).\n"
          ],
          "name": "stdout"
        }
      ]
    },
    {
      "cell_type": "code",
      "metadata": {
        "id": "mOC8EINhKX0z",
        "colab_type": "code",
        "colab": {}
      },
      "source": [
        "#load dataset\n",
        "dataset_types = [ \"sts-train.csv\", \"sts-dev.csv\", \"sts-test.csv\",] # 3 datasets\n",
        "col_names = [\"genre\", \"file\", \"years\", \"_\", \"score(0-5)\", \"sentence_1\", \"sentence_2\"] #columns names\n",
        "\n",
        "#collect as a list of pandas dataframes\n",
        "df_list = []\n",
        "for dataset in dataset_types:\n",
        "  df = pd.read_csv(\"/content/drive/My Drive/Google_Colab/stsbenchmark_dataset/\"+ dataset, \n",
        "                 delimiter=',' , \n",
        "                 header= None,\n",
        "                 names= col_names\n",
        "                )\n",
        "  \n",
        "\n",
        "  df_list.append(df)"
      ],
      "execution_count": 116,
      "outputs": []
    },
    {
      "cell_type": "code",
      "metadata": {
        "id": "AAB1ImAYLalv",
        "colab_type": "code",
        "colab": {}
      },
      "source": [
        "#separate dataset (train, dev and test)\n",
        "df_train = df_list[0]\n",
        "df_dev = df_list[1]\n",
        "df_test = df_list[2]\n"
      ],
      "execution_count": 117,
      "outputs": []
    },
    {
      "cell_type": "code",
      "metadata": {
        "id": "H_YrEnaHOrGG",
        "colab_type": "code",
        "colab": {
          "base_uri": "https://localhost:8080/",
          "height": 374
        },
        "outputId": "b0449ada-7290-4580-e97e-2ada80853db1"
      },
      "source": [
        "#show random 5 rows in each dataset (train, dev and test)\n",
        "print(\"Show train_data shape: {}\".format(df_train.shape))\n",
        "print(\"Show dev_data shape: {}\".format(df_dev.shape))\n",
        "print(\"Show test_data shape: {}\".format(df_test.shape))\n",
        "print(\"Show Random 5 rows:\")\n",
        "df_train.sample(5)\n",
        "\n"
      ],
      "execution_count": null,
      "outputs": [
        {
          "output_type": "stream",
          "text": [
            "Show train_data shape: (5749, 7)\n",
            "Show dev_data shape: (1500, 7)\n",
            "Show test_data shape: (1379, 7)\n",
            "Show Random 5 rows:\n"
          ],
          "name": "stdout"
        },
        {
          "output_type": "execute_result",
          "data": {
            "text/html": [
              "<div>\n",
              "<style scoped>\n",
              "    .dataframe tbody tr th:only-of-type {\n",
              "        vertical-align: middle;\n",
              "    }\n",
              "\n",
              "    .dataframe tbody tr th {\n",
              "        vertical-align: top;\n",
              "    }\n",
              "\n",
              "    .dataframe thead th {\n",
              "        text-align: right;\n",
              "    }\n",
              "</style>\n",
              "<table border=\"1\" class=\"dataframe\">\n",
              "  <thead>\n",
              "    <tr style=\"text-align: right;\">\n",
              "      <th></th>\n",
              "      <th>genre</th>\n",
              "      <th>file</th>\n",
              "      <th>years</th>\n",
              "      <th>_</th>\n",
              "      <th>score(0-5)</th>\n",
              "      <th>sentence_1</th>\n",
              "      <th>sentence_2</th>\n",
              "    </tr>\n",
              "  </thead>\n",
              "  <tbody>\n",
              "    <tr>\n",
              "      <th>3907</th>\n",
              "      <td>main-news</td>\n",
              "      <td>headlines</td>\n",
              "      <td>2013</td>\n",
              "      <td>195</td>\n",
              "      <td>0.00</td>\n",
              "      <td>Clinton calls for friends of Syria to unite</td>\n",
              "      <td>Plastic artist calls for greater support for n...</td>\n",
              "    </tr>\n",
              "    <tr>\n",
              "      <th>2099</th>\n",
              "      <td>main-forum</td>\n",
              "      <td>deft-forum</td>\n",
              "      <td>2014</td>\n",
              "      <td>99</td>\n",
              "      <td>3.60</td>\n",
              "      <td>Commodity Expanded Value-Form, .</td>\n",
              "      <td>Elementary Commodity-Capital Value-Form .</td>\n",
              "    </tr>\n",
              "    <tr>\n",
              "      <th>3386</th>\n",
              "      <td>main-news</td>\n",
              "      <td>MSRpar</td>\n",
              "      <td>2012train</td>\n",
              "      <td>662</td>\n",
              "      <td>2.25</td>\n",
              "      <td>But the cancer society said its study had been...</td>\n",
              "      <td>The American Cancer Society and several scient...</td>\n",
              "    </tr>\n",
              "    <tr>\n",
              "      <th>1603</th>\n",
              "      <td>main-captions</td>\n",
              "      <td>images</td>\n",
              "      <td>2015</td>\n",
              "      <td>328</td>\n",
              "      <td>0.20</td>\n",
              "      <td>A dog runs through a field chasing a ball.</td>\n",
              "      <td>A child runs through the grass.</td>\n",
              "    </tr>\n",
              "    <tr>\n",
              "      <th>763</th>\n",
              "      <td>main-captions</td>\n",
              "      <td>MSRvid</td>\n",
              "      <td>2012train</td>\n",
              "      <td>384</td>\n",
              "      <td>0.00</td>\n",
              "      <td>The man danced in the diner.</td>\n",
              "      <td>The bomb exploded in the desert.</td>\n",
              "    </tr>\n",
              "  </tbody>\n",
              "</table>\n",
              "</div>"
            ],
            "text/plain": [
              "              genre  ...                                         sentence_2\n",
              "3907      main-news  ...  Plastic artist calls for greater support for n...\n",
              "2099     main-forum  ...          Elementary Commodity-Capital Value-Form .\n",
              "3386      main-news  ...  The American Cancer Society and several scient...\n",
              "1603  main-captions  ...                    A child runs through the grass.\n",
              "763   main-captions  ...                   The bomb exploded in the desert.\n",
              "\n",
              "[5 rows x 7 columns]"
            ]
          },
          "metadata": {
            "tags": []
          },
          "execution_count": 6
        }
      ]
    },
    {
      "cell_type": "code",
      "metadata": {
        "id": "AiwBL8bglyEP",
        "colab_type": "code",
        "colab": {}
      },
      "source": [
        ""
      ],
      "execution_count": null,
      "outputs": []
    },
    {
      "cell_type": "markdown",
      "metadata": {
        "id": "rsWuhhJA0gal",
        "colab_type": "text"
      },
      "source": [
        "# **Text Preprocessing**"
      ]
    },
    {
      "cell_type": "markdown",
      "metadata": {
        "id": "qdTCfSMTzmed",
        "colab_type": "text"
      },
      "source": [
        "Prepare text data according to BERT format. We have to tokenize the text sequences/sentences as per the BERT requirements before feeding them into Model. For this, we will use 'BertTokenizer' from  'transformers' from hugging face."
      ]
    },
    {
      "cell_type": "code",
      "metadata": {
        "id": "TYQGuLbxehNW",
        "colab_type": "code",
        "colab": {
          "base_uri": "https://localhost:8080/",
          "height": 615
        },
        "outputId": "ce910366-305f-49a9-c9d5-177005b72f13"
      },
      "source": [
        "#tranformer library from Hugging face\n",
        "!pip install transformers"
      ],
      "execution_count": null,
      "outputs": [
        {
          "output_type": "stream",
          "text": [
            "Collecting transformers\n",
            "\u001b[?25l  Downloading https://files.pythonhosted.org/packages/82/25/89050e69ed53c2a3b7f8c67844b3c8339c1192612ba89a172cf85b298948/transformers-3.0.1-py3-none-any.whl (757kB)\n",
            "\r\u001b[K     |▍                               | 10kB 23.9MB/s eta 0:00:01\r\u001b[K     |▉                               | 20kB 6.1MB/s eta 0:00:01\r\u001b[K     |█▎                              | 30kB 8.6MB/s eta 0:00:01\r\u001b[K     |█▊                              | 40kB 8.1MB/s eta 0:00:01\r\u001b[K     |██▏                             | 51kB 6.7MB/s eta 0:00:01\r\u001b[K     |██▋                             | 61kB 7.2MB/s eta 0:00:01\r\u001b[K     |███                             | 71kB 8.1MB/s eta 0:00:01\r\u001b[K     |███▌                            | 81kB 8.4MB/s eta 0:00:01\r\u001b[K     |████                            | 92kB 9.2MB/s eta 0:00:01\r\u001b[K     |████▎                           | 102kB 9.1MB/s eta 0:00:01\r\u001b[K     |████▊                           | 112kB 9.1MB/s eta 0:00:01\r\u001b[K     |█████▏                          | 122kB 9.1MB/s eta 0:00:01\r\u001b[K     |█████▋                          | 133kB 9.1MB/s eta 0:00:01\r\u001b[K     |██████                          | 143kB 9.1MB/s eta 0:00:01\r\u001b[K     |██████▌                         | 153kB 9.1MB/s eta 0:00:01\r\u001b[K     |███████                         | 163kB 9.1MB/s eta 0:00:01\r\u001b[K     |███████▍                        | 174kB 9.1MB/s eta 0:00:01\r\u001b[K     |███████▉                        | 184kB 9.1MB/s eta 0:00:01\r\u001b[K     |████████▎                       | 194kB 9.1MB/s eta 0:00:01\r\u001b[K     |████████▋                       | 204kB 9.1MB/s eta 0:00:01\r\u001b[K     |█████████                       | 215kB 9.1MB/s eta 0:00:01\r\u001b[K     |█████████▌                      | 225kB 9.1MB/s eta 0:00:01\r\u001b[K     |██████████                      | 235kB 9.1MB/s eta 0:00:01\r\u001b[K     |██████████▍                     | 245kB 9.1MB/s eta 0:00:01\r\u001b[K     |██████████▉                     | 256kB 9.1MB/s eta 0:00:01\r\u001b[K     |███████████▎                    | 266kB 9.1MB/s eta 0:00:01\r\u001b[K     |███████████▊                    | 276kB 9.1MB/s eta 0:00:01\r\u001b[K     |████████████▏                   | 286kB 9.1MB/s eta 0:00:01\r\u001b[K     |████████████▌                   | 296kB 9.1MB/s eta 0:00:01\r\u001b[K     |█████████████                   | 307kB 9.1MB/s eta 0:00:01\r\u001b[K     |█████████████▍                  | 317kB 9.1MB/s eta 0:00:01\r\u001b[K     |█████████████▉                  | 327kB 9.1MB/s eta 0:00:01\r\u001b[K     |██████████████▎                 | 337kB 9.1MB/s eta 0:00:01\r\u001b[K     |██████████████▊                 | 348kB 9.1MB/s eta 0:00:01\r\u001b[K     |███████████████▏                | 358kB 9.1MB/s eta 0:00:01\r\u001b[K     |███████████████▋                | 368kB 9.1MB/s eta 0:00:01\r\u001b[K     |████████████████                | 378kB 9.1MB/s eta 0:00:01\r\u001b[K     |████████████████▌               | 389kB 9.1MB/s eta 0:00:01\r\u001b[K     |████████████████▉               | 399kB 9.1MB/s eta 0:00:01\r\u001b[K     |█████████████████▎              | 409kB 9.1MB/s eta 0:00:01\r\u001b[K     |█████████████████▊              | 419kB 9.1MB/s eta 0:00:01\r\u001b[K     |██████████████████▏             | 430kB 9.1MB/s eta 0:00:01\r\u001b[K     |██████████████████▋             | 440kB 9.1MB/s eta 0:00:01\r\u001b[K     |███████████████████             | 450kB 9.1MB/s eta 0:00:01\r\u001b[K     |███████████████████▌            | 460kB 9.1MB/s eta 0:00:01\r\u001b[K     |████████████████████            | 471kB 9.1MB/s eta 0:00:01\r\u001b[K     |████████████████████▍           | 481kB 9.1MB/s eta 0:00:01\r\u001b[K     |████████████████████▊           | 491kB 9.1MB/s eta 0:00:01\r\u001b[K     |█████████████████████▏          | 501kB 9.1MB/s eta 0:00:01\r\u001b[K     |█████████████████████▋          | 512kB 9.1MB/s eta 0:00:01\r\u001b[K     |██████████████████████          | 522kB 9.1MB/s eta 0:00:01\r\u001b[K     |██████████████████████▌         | 532kB 9.1MB/s eta 0:00:01\r\u001b[K     |███████████████████████         | 542kB 9.1MB/s eta 0:00:01\r\u001b[K     |███████████████████████▍        | 552kB 9.1MB/s eta 0:00:01\r\u001b[K     |███████████████████████▉        | 563kB 9.1MB/s eta 0:00:01\r\u001b[K     |████████████████████████▎       | 573kB 9.1MB/s eta 0:00:01\r\u001b[K     |████████████████████████▊       | 583kB 9.1MB/s eta 0:00:01\r\u001b[K     |█████████████████████████       | 593kB 9.1MB/s eta 0:00:01\r\u001b[K     |█████████████████████████▌      | 604kB 9.1MB/s eta 0:00:01\r\u001b[K     |██████████████████████████      | 614kB 9.1MB/s eta 0:00:01\r\u001b[K     |██████████████████████████▍     | 624kB 9.1MB/s eta 0:00:01\r\u001b[K     |██████████████████████████▉     | 634kB 9.1MB/s eta 0:00:01\r\u001b[K     |███████████████████████████▎    | 645kB 9.1MB/s eta 0:00:01\r\u001b[K     |███████████████████████████▊    | 655kB 9.1MB/s eta 0:00:01\r\u001b[K     |████████████████████████████▏   | 665kB 9.1MB/s eta 0:00:01\r\u001b[K     |████████████████████████████▋   | 675kB 9.1MB/s eta 0:00:01\r\u001b[K     |█████████████████████████████   | 686kB 9.1MB/s eta 0:00:01\r\u001b[K     |█████████████████████████████▍  | 696kB 9.1MB/s eta 0:00:01\r\u001b[K     |█████████████████████████████▉  | 706kB 9.1MB/s eta 0:00:01\r\u001b[K     |██████████████████████████████▎ | 716kB 9.1MB/s eta 0:00:01\r\u001b[K     |██████████████████████████████▊ | 727kB 9.1MB/s eta 0:00:01\r\u001b[K     |███████████████████████████████▏| 737kB 9.1MB/s eta 0:00:01\r\u001b[K     |███████████████████████████████▋| 747kB 9.1MB/s eta 0:00:01\r\u001b[K     |████████████████████████████████| 757kB 9.1MB/s \n",
            "\u001b[?25hRequirement already satisfied: tqdm>=4.27 in /usr/local/lib/python3.6/dist-packages (from transformers) (4.41.1)\n",
            "Requirement already satisfied: dataclasses; python_version < \"3.7\" in /usr/local/lib/python3.6/dist-packages (from transformers) (0.7)\n",
            "Requirement already satisfied: regex!=2019.12.17 in /usr/local/lib/python3.6/dist-packages (from transformers) (2019.12.20)\n",
            "Requirement already satisfied: numpy in /usr/local/lib/python3.6/dist-packages (from transformers) (1.18.5)\n",
            "Requirement already satisfied: packaging in /usr/local/lib/python3.6/dist-packages (from transformers) (20.4)\n",
            "Collecting sacremoses\n",
            "\u001b[?25l  Downloading https://files.pythonhosted.org/packages/7d/34/09d19aff26edcc8eb2a01bed8e98f13a1537005d31e95233fd48216eed10/sacremoses-0.0.43.tar.gz (883kB)\n",
            "\u001b[K     |████████████████████████████████| 890kB 49.3MB/s \n",
            "\u001b[?25hCollecting sentencepiece!=0.1.92\n",
            "\u001b[?25l  Downloading https://files.pythonhosted.org/packages/d4/a4/d0a884c4300004a78cca907a6ff9a5e9fe4f090f5d95ab341c53d28cbc58/sentencepiece-0.1.91-cp36-cp36m-manylinux1_x86_64.whl (1.1MB)\n",
            "\u001b[K     |████████████████████████████████| 1.1MB 49.8MB/s \n",
            "\u001b[?25hRequirement already satisfied: filelock in /usr/local/lib/python3.6/dist-packages (from transformers) (3.0.12)\n",
            "Collecting tokenizers==0.8.0-rc4\n",
            "\u001b[?25l  Downloading https://files.pythonhosted.org/packages/e8/bd/e5abec46af977c8a1375c1dca7cb1e5b3ec392ef279067af7f6bc50491a0/tokenizers-0.8.0rc4-cp36-cp36m-manylinux1_x86_64.whl (3.0MB)\n",
            "\u001b[K     |████████████████████████████████| 3.0MB 47.7MB/s \n",
            "\u001b[?25hRequirement already satisfied: requests in /usr/local/lib/python3.6/dist-packages (from transformers) (2.23.0)\n",
            "Requirement already satisfied: six in /usr/local/lib/python3.6/dist-packages (from packaging->transformers) (1.12.0)\n",
            "Requirement already satisfied: pyparsing>=2.0.2 in /usr/local/lib/python3.6/dist-packages (from packaging->transformers) (2.4.7)\n",
            "Requirement already satisfied: click in /usr/local/lib/python3.6/dist-packages (from sacremoses->transformers) (7.1.2)\n",
            "Requirement already satisfied: joblib in /usr/local/lib/python3.6/dist-packages (from sacremoses->transformers) (0.15.1)\n",
            "Requirement already satisfied: chardet<4,>=3.0.2 in /usr/local/lib/python3.6/dist-packages (from requests->transformers) (3.0.4)\n",
            "Requirement already satisfied: certifi>=2017.4.17 in /usr/local/lib/python3.6/dist-packages (from requests->transformers) (2020.6.20)\n",
            "Requirement already satisfied: idna<3,>=2.5 in /usr/local/lib/python3.6/dist-packages (from requests->transformers) (2.9)\n",
            "Requirement already satisfied: urllib3!=1.25.0,!=1.25.1,<1.26,>=1.21.1 in /usr/local/lib/python3.6/dist-packages (from requests->transformers) (1.24.3)\n",
            "Building wheels for collected packages: sacremoses\n",
            "  Building wheel for sacremoses (setup.py) ... \u001b[?25l\u001b[?25hdone\n",
            "  Created wheel for sacremoses: filename=sacremoses-0.0.43-cp36-none-any.whl size=893260 sha256=ce593b467f594c8286a45287192a1222afd149e7e1f792cfb36771b8687a7290\n",
            "  Stored in directory: /root/.cache/pip/wheels/29/3c/fd/7ce5c3f0666dab31a50123635e6fb5e19ceb42ce38d4e58f45\n",
            "Successfully built sacremoses\n",
            "Installing collected packages: sacremoses, sentencepiece, tokenizers, transformers\n",
            "Successfully installed sacremoses-0.0.43 sentencepiece-0.1.91 tokenizers-0.8.0rc4 transformers-3.0.1\n"
          ],
          "name": "stdout"
        }
      ]
    },
    {
      "cell_type": "code",
      "metadata": {
        "id": "vcFhA_hLzRpI",
        "colab_type": "code",
        "colab": {
          "base_uri": "https://localhost:8080/",
          "height": 66,
          "referenced_widgets": [
            "7405431d29e14bdfb30abf60a179a701",
            "b3c92bfc4c6e4722aa541550c1c10b00",
            "659032b4bdb040848c2677c4ff86fc3f",
            "65e1492f821c47b5827501d5f5855a72",
            "28658b4646fe40599521e324bf3b6896",
            "2373203d0d274f3d8c79b2e02b0697fd",
            "75977c0f8238499c9bff4dd50c548aad",
            "9f78a1b6833e4249a3ff927392c1a7ce"
          ]
        },
        "outputId": "62bc89c1-50ac-4ee0-8de3-09b87fd0cca0"
      },
      "source": [
        "#import libraries from hugging face\n",
        "from transformers import BertTokenizer, BertModel\n",
        "tokenizer= BertTokenizer.from_pretrained('bert-base-uncased') #initiate tokenizer "
      ],
      "execution_count": null,
      "outputs": [
        {
          "output_type": "display_data",
          "data": {
            "application/vnd.jupyter.widget-view+json": {
              "model_id": "7405431d29e14bdfb30abf60a179a701",
              "version_minor": 0,
              "version_major": 2
            },
            "text/plain": [
              "HBox(children=(FloatProgress(value=0.0, description='Downloading', max=231508.0, style=ProgressStyle(descripti…"
            ]
          },
          "metadata": {
            "tags": []
          }
        },
        {
          "output_type": "stream",
          "text": [
            "\n"
          ],
          "name": "stdout"
        }
      ]
    },
    {
      "cell_type": "code",
      "metadata": {
        "id": "X-nLTbRvew5W",
        "colab_type": "code",
        "colab": {
          "base_uri": "https://localhost:8080/",
          "height": 71
        },
        "outputId": "5e893f9b-bc42-4c76-ee91-1070774fa565"
      },
      "source": [
        "#check transformer\n",
        "!python -c \"from transformers import pipeline; print(pipeline('sentiment-analysis')('just normal'))\""
      ],
      "execution_count": null,
      "outputs": [
        {
          "output_type": "stream",
          "text": [
            "2020-06-30 09:26:38.841473: I tensorflow/stream_executor/platform/default/dso_loader.cc:44] Successfully opened dynamic library libcudart.so.10.1\n",
            "[{'label': 'POSITIVE', 'score': 0.9987471699714661}]\n"
          ],
          "name": "stdout"
        }
      ]
    },
    {
      "cell_type": "markdown",
      "metadata": {
        "id": "Q5AN3HUqX5hT",
        "colab_type": "text"
      },
      "source": [
        "#Hugging face Tokenizer\n",
        "Example of Tokenizer"
      ]
    },
    {
      "cell_type": "code",
      "metadata": {
        "id": "QHDUgN4VX3OQ",
        "colab_type": "code",
        "colab": {
          "base_uri": "https://localhost:8080/",
          "height": 156
        },
        "outputId": "06364796-ae27-431f-b463-15083b3a249b"
      },
      "source": [
        "#text\n",
        "text = df_train.sentence_1[0]\n",
        "print(text)\n",
        "\n",
        "\n",
        "#Tokenize the text\n",
        "tokenize = tokenizer.tokenize(text)\n",
        "print(tokenize)\n",
        "\n",
        "\n",
        "#encode text\n",
        "input_ids =tokenizer.encode(text) # add '[CLS]' and '[SEP]' tokens\n",
        "print(input_ids)\n",
        "\n",
        "#convert input_ids back to tokens\n",
        "ids_to_tokens= tokenizer.convert_ids_to_tokens(input_ids)\n",
        "print(ids_to_tokens)\n",
        "\n",
        "#convert tokens back to input_ids\n",
        "ids_to_tokens= tokenizer.convert_tokens_to_ids(ids_to_tokens)\n",
        "print(ids_to_tokens)\n",
        "print()\n",
        "\n",
        "#Encode text with input_ids, token_type_ids, and attention_mask\n",
        "print(tokenizer(text)) #just use tokenizer and pass text to encode\n"
      ],
      "execution_count": null,
      "outputs": [
        {
          "output_type": "stream",
          "text": [
            "A plane is taking off.\n",
            "['a', 'plane', 'is', 'taking', 'off', '.']\n",
            "[101, 1037, 4946, 2003, 2635, 2125, 1012, 102]\n",
            "['[CLS]', 'a', 'plane', 'is', 'taking', 'off', '.', '[SEP]']\n",
            "[101, 1037, 4946, 2003, 2635, 2125, 1012, 102]\n",
            "\n",
            "{'input_ids': [101, 1037, 4946, 2003, 2635, 2125, 1012, 102], 'token_type_ids': [0, 0, 0, 0, 0, 0, 0, 0], 'attention_mask': [1, 1, 1, 1, 1, 1, 1, 1]}\n"
          ],
          "name": "stdout"
        }
      ]
    },
    {
      "cell_type": "code",
      "metadata": {
        "id": "wbJkTMr1X3Bi",
        "colab_type": "code",
        "colab": {}
      },
      "source": [
        ""
      ],
      "execution_count": null,
      "outputs": []
    },
    {
      "cell_type": "markdown",
      "metadata": {
        "id": "3mJLJNF5eL8c",
        "colab_type": "text"
      },
      "source": [
        "#Count tokens in Sequences\n",
        "Since we have to have equal length of every sequence, check the maximun token length in every sentences in all datasets and  we will use this max length for all sequences as fix-length size while doing sequence padding.\n",
        "\n",
        "Or, we may use the other  best max-length. So that there is no risk of loss of much tokens while doing truncating/padding  in the sequences."
      ]
    },
    {
      "cell_type": "code",
      "metadata": {
        "id": "6hRXkexz0YSg",
        "colab_type": "code",
        "colab": {
          "base_uri": "https://localhost:8080/",
          "height": 187
        },
        "outputId": "43762ee6-50f5-42e6-bffa-fac56c293876"
      },
      "source": [
        "#counts tokens in sequences\n",
        "dataset_all = [df_train.sentence_1, df_train.sentence_2, df_dev.sentence_1, df_dev.sentence_2,df_test.sentence_1,df_test.sentence_2] #list of all dataset\n",
        "dataset_type_name = ['df_train.sentence_1', 'df_train.sentence_2', 'df_dev.sentence_1', 'df_dev.sentence_2', 'df_test.sentence_1', 'df_test.sentence_2'] #name of dataset\n",
        "\n",
        "max_len = 0 # tokens max count in overall datasets\n",
        "token_len_list = [] #store token counts for each dataset\n",
        "higest_token_len = {} # store higest token counts in each dataset\n",
        "\n",
        "\n",
        "#zip and iterate over all datasets\n",
        "for nam_data, each_dataset in zip(dataset_type_name, dataset_all):\n",
        "  token_len_dataset = [] #store each sequence count of each dataset\n",
        "  max_len_seq= 0 # max count of  sequence in each dataset \n",
        "\n",
        "  #iterate over sequences in each dataset\n",
        "  for sent in each_dataset:\n",
        "    tokens = tokenizer.encode(sent) #tokenize\n",
        "    tokens_len = len(tokens) # count length\n",
        "    token_len_dataset.append(tokens_len) \n",
        "    \n",
        "    \n",
        "    # keep tracking the higest counts in each dataset\n",
        "    if tokens_len > max_len_seq:\n",
        "      max_len_seq = tokens_len\n",
        "    \n",
        "    #higest count overall dataset\n",
        "    if max_len_seq > max_len:\n",
        "      max_len = max_len_seq\n",
        "       \n",
        "  higest_token_len[nam_data] =  max_len_seq \n",
        "  token_len_list.append(token_len_dataset)\n",
        "\n",
        "print(\"Higest tokens number in 3 datasets: %s .\" % (max_len))\n",
        "print()\n",
        "print('Higest counts in each dataset:\\n')\n",
        "higest_token_len\n"
      ],
      "execution_count": null,
      "outputs": [
        {
          "output_type": "stream",
          "text": [
            "Higest tokens number in 3 datasets: 70 .\n",
            "\n",
            "Higest counts in each dataset:\n",
            "\n"
          ],
          "name": "stdout"
        },
        {
          "output_type": "execute_result",
          "data": {
            "text/plain": [
              "{'df_dev.sentence_1': 45,\n",
              " 'df_dev.sentence_2': 53,\n",
              " 'df_test.sentence_1': 43,\n",
              " 'df_test.sentence_2': 46,\n",
              " 'df_train.sentence_1': 70,\n",
              " 'df_train.sentence_2': 63}"
            ]
          },
          "metadata": {
            "tags": []
          },
          "execution_count": 8
        }
      ]
    },
    {
      "cell_type": "code",
      "metadata": {
        "id": "5wzZ_weSCN0R",
        "colab_type": "code",
        "colab": {}
      },
      "source": [
        ""
      ],
      "execution_count": null,
      "outputs": []
    },
    {
      "cell_type": "code",
      "metadata": {
        "id": "RB-hYEgEaLWz",
        "colab_type": "code",
        "colab": {
          "base_uri": "https://localhost:8080/",
          "height": 797
        },
        "outputId": "6fa129d1-eda8-4c5f-c3ca-bd1903b35ace"
      },
      "source": [
        "#Plot the diagram to show the tokens' length distribution in dataset\n",
        "import seaborn as sns\n",
        "from matplotlib import pyplot as plt\n",
        "\n",
        "# data to plot\n",
        "data = token_len_list \n",
        "\n",
        "#creates subplots  with nrows=3, ncols=2\n",
        "fig, axes = plt.subplots(nrows=3, ncols=2, figsize=(12,11))\n",
        "sns.set(style='darkgrid') #set plot style\n",
        "\n",
        "#change 'axes' to 1d, zip and emumerate\n",
        "for i, (name, axe)  in enumerate(zip(dataset_type_name, axes.flatten())):\n",
        "  sns.distplot(token_len_list[i], axlabel ='Tokens Count', ax=axe) #distplot type\n",
        "  name = name + ': (tokens_max_count= '+ str(higest_token_len[name]) + ')' #title (for example: df_train.sentence_1:(max_count=70))\n",
        "  axe.set_title(name) #title for each suplots\n",
        "fig.tight_layout()#fit nicely\n",
        "plt.show()\n"
      ],
      "execution_count": null,
      "outputs": [
        {
          "output_type": "display_data",
          "data": {
            "image/png": "[encoded data removed]",
            "text/plain": [
              "<Figure size 864x792 with 6 Axes>"
            ]
          },
          "metadata": {
            "tags": []
          }
        }
      ]
    },
    {
      "cell_type": "markdown",
      "metadata": {
        "id": "qerS7dkL-88l",
        "colab_type": "text"
      },
      "source": [
        "**Observation**:  The max tokens count  in a sequence is 70 in all dataset. Among all dataset, the train dataset(both in sentence1 and sentence 2) have higer tokens count of 70 and 63 respectively. But, the majority of tokens length are about 40 counts. \n",
        "\n",
        "So, this gives us the good idea for selecting the max-length of tokens in a sequence.  We can put our max-length of 60, so that we will not truncate more tokens(loss information) and also don't have to do more padding.\n",
        "\n",
        "But, we will use 120 tokens length (double of a single sequence) for the model architecure where a pair of sentence are required to feed together."
      ]
    },
    {
      "cell_type": "code",
      "metadata": {
        "id": "ublMhtvmGQsa",
        "colab_type": "code",
        "colab": {}
      },
      "source": [
        ""
      ],
      "execution_count": null,
      "outputs": []
    },
    {
      "cell_type": "markdown",
      "metadata": {
        "id": "H8-6qnrXwZ91",
        "colab_type": "text"
      },
      "source": [
        "# Part-1: Sentence Level Embedding Extraction\n",
        "For Sentence Embedding Extraction, last 4 hidden layers are concatenated and mean pooling of words in a sequence/sentence is done. So, the final dimension of a sentence vector representation is 768*4 =3072."
      ]
    },
    {
      "cell_type": "code",
      "metadata": {
        "id": "pNtl2Tj-OOS2",
        "colab_type": "code",
        "colab": {}
      },
      "source": [
        "#function to extract sentence level embedding \n",
        "def sent_embedding(sent, model):\n",
        "  \"\"\"\n",
        "   Concatenate from last 4 layers and Mean pooling of words in  a sequence\n",
        "\n",
        "  Args:\n",
        "     sent: list of sentences\n",
        "     model: BERT pre-trained model\n",
        "\n",
        "  Returns:\n",
        "     sent_embedding: 2d tensor \n",
        "\n",
        "  \"\"\"\n",
        "\n",
        "  #tokenize sequence into fix-length size of 60 tokens \n",
        "  #add ['CLS'], ['SEP'] and return 2d 'input_ids', 'attention_masks' and 'token_type_ids'\n",
        "  tokens = tokenizer( sent,  #list of strings\n",
        "                      padding = 'max_length', # padding max-length\n",
        "                      truncation = True, # truncate max-length\n",
        "                      max_length = 60, # max tokens size\n",
        "                      return_tensors='pt',  #return pytorch tensor\n",
        "                      verbose = False # stop throwing warnings\n",
        "                     )\n",
        "    \n",
        "\n",
        "\n",
        "  #feed input_ids to BERT model\n",
        "  with torch.no_grad():  # reduces memory consumption\n",
        "        outputs = model(tokens['input_ids'], tokens['attention_mask']) # feed input_ids, attention_mask\n",
        "        hidden_states = outputs[2] # all hidden layers\n",
        "\n",
        "   \n",
        "  '''\n",
        "  #sent_embeding = torch.cat(tuple([hidden_states[i].mean(dim=1) for i in [-4,-3,-2,-1]]), dim = 1)\n",
        "  #sent_embeding = hidden_states[-2].mean(dim=1) '''\n",
        "\n",
        "  concat_embeding = torch.cat(tuple([hidden_states[i] for i in [-4,-3,-2,-1]]), dim = 2) #concatenation last 4 hidden layers\n",
        "  print('Concatenated Vector Dimension: ',concat_embeding.shape )\n",
        "  padded = tokens['attention_mask'].unsqueeze(2) # insert size one at 2 position to make 3dimesion\n",
        "  mul_out = torch.mul(concat_embeding, padded)# make zeros vector for paddding tokens\n",
        "  sent_embeding = mul_out.mean(dim=1) # average pooling  of tokens\n",
        "  print('Sentence Embedding Dimension: ',sent_embeding.shape )\n",
        "   \n",
        "  return sent_embeding\n",
        "\n"
      ],
      "execution_count": null,
      "outputs": []
    },
    {
      "cell_type": "code",
      "metadata": {
        "id": "P5AASUSgMJi5",
        "colab_type": "code",
        "colab": {
          "base_uri": "https://localhost:8080/",
          "height": 1000
        },
        "outputId": "ab1be158-cbef-41c3-d714-e8dd3c86a61e"
      },
      "source": [
        "#initiate the pre-trained model\n",
        "model = BertModel.from_pretrained(  'bert-base-uncased',\n",
        "                                     output_hidden_states = True # return all hidden-states\n",
        "                                    )\n",
        "#put model in evaluation\n",
        "model.eval()"
      ],
      "execution_count": null,
      "outputs": [
        {
          "output_type": "execute_result",
          "data": {
            "text/plain": [
              "BertModel(\n",
              "  (embeddings): BertEmbeddings(\n",
              "    (word_embeddings): Embedding(30522, 768, padding_idx=0)\n",
              "    (position_embeddings): Embedding(512, 768)\n",
              "    (token_type_embeddings): Embedding(2, 768)\n",
              "    (LayerNorm): LayerNorm((768,), eps=1e-12, elementwise_affine=True)\n",
              "    (dropout): Dropout(p=0.1, inplace=False)\n",
              "  )\n",
              "  (encoder): BertEncoder(\n",
              "    (layer): ModuleList(\n",
              "      (0): BertLayer(\n",
              "        (attention): BertAttention(\n",
              "          (self): BertSelfAttention(\n",
              "            (query): Linear(in_features=768, out_features=768, bias=True)\n",
              "            (key): Linear(in_features=768, out_features=768, bias=True)\n",
              "            (value): Linear(in_features=768, out_features=768, bias=True)\n",
              "            (dropout): Dropout(p=0.1, inplace=False)\n",
              "          )\n",
              "          (output): BertSelfOutput(\n",
              "            (dense): Linear(in_features=768, out_features=768, bias=True)\n",
              "            (LayerNorm): LayerNorm((768,), eps=1e-12, elementwise_affine=True)\n",
              "            (dropout): Dropout(p=0.1, inplace=False)\n",
              "          )\n",
              "        )\n",
              "        (intermediate): BertIntermediate(\n",
              "          (dense): Linear(in_features=768, out_features=3072, bias=True)\n",
              "        )\n",
              "        (output): BertOutput(\n",
              "          (dense): Linear(in_features=3072, out_features=768, bias=True)\n",
              "          (LayerNorm): LayerNorm((768,), eps=1e-12, elementwise_affine=True)\n",
              "          (dropout): Dropout(p=0.1, inplace=False)\n",
              "        )\n",
              "      )\n",
              "      (1): BertLayer(\n",
              "        (attention): BertAttention(\n",
              "          (self): BertSelfAttention(\n",
              "            (query): Linear(in_features=768, out_features=768, bias=True)\n",
              "            (key): Linear(in_features=768, out_features=768, bias=True)\n",
              "            (value): Linear(in_features=768, out_features=768, bias=True)\n",
              "            (dropout): Dropout(p=0.1, inplace=False)\n",
              "          )\n",
              "          (output): BertSelfOutput(\n",
              "            (dense): Linear(in_features=768, out_features=768, bias=True)\n",
              "            (LayerNorm): LayerNorm((768,), eps=1e-12, elementwise_affine=True)\n",
              "            (dropout): Dropout(p=0.1, inplace=False)\n",
              "          )\n",
              "        )\n",
              "        (intermediate): BertIntermediate(\n",
              "          (dense): Linear(in_features=768, out_features=3072, bias=True)\n",
              "        )\n",
              "        (output): BertOutput(\n",
              "          (dense): Linear(in_features=3072, out_features=768, bias=True)\n",
              "          (LayerNorm): LayerNorm((768,), eps=1e-12, elementwise_affine=True)\n",
              "          (dropout): Dropout(p=0.1, inplace=False)\n",
              "        )\n",
              "      )\n",
              "      (2): BertLayer(\n",
              "        (attention): BertAttention(\n",
              "          (self): BertSelfAttention(\n",
              "            (query): Linear(in_features=768, out_features=768, bias=True)\n",
              "            (key): Linear(in_features=768, out_features=768, bias=True)\n",
              "            (value): Linear(in_features=768, out_features=768, bias=True)\n",
              "            (dropout): Dropout(p=0.1, inplace=False)\n",
              "          )\n",
              "          (output): BertSelfOutput(\n",
              "            (dense): Linear(in_features=768, out_features=768, bias=True)\n",
              "            (LayerNorm): LayerNorm((768,), eps=1e-12, elementwise_affine=True)\n",
              "            (dropout): Dropout(p=0.1, inplace=False)\n",
              "          )\n",
              "        )\n",
              "        (intermediate): BertIntermediate(\n",
              "          (dense): Linear(in_features=768, out_features=3072, bias=True)\n",
              "        )\n",
              "        (output): BertOutput(\n",
              "          (dense): Linear(in_features=3072, out_features=768, bias=True)\n",
              "          (LayerNorm): LayerNorm((768,), eps=1e-12, elementwise_affine=True)\n",
              "          (dropout): Dropout(p=0.1, inplace=False)\n",
              "        )\n",
              "      )\n",
              "      (3): BertLayer(\n",
              "        (attention): BertAttention(\n",
              "          (self): BertSelfAttention(\n",
              "            (query): Linear(in_features=768, out_features=768, bias=True)\n",
              "            (key): Linear(in_features=768, out_features=768, bias=True)\n",
              "            (value): Linear(in_features=768, out_features=768, bias=True)\n",
              "            (dropout): Dropout(p=0.1, inplace=False)\n",
              "          )\n",
              "          (output): BertSelfOutput(\n",
              "            (dense): Linear(in_features=768, out_features=768, bias=True)\n",
              "            (LayerNorm): LayerNorm((768,), eps=1e-12, elementwise_affine=True)\n",
              "            (dropout): Dropout(p=0.1, inplace=False)\n",
              "          )\n",
              "        )\n",
              "        (intermediate): BertIntermediate(\n",
              "          (dense): Linear(in_features=768, out_features=3072, bias=True)\n",
              "        )\n",
              "        (output): BertOutput(\n",
              "          (dense): Linear(in_features=3072, out_features=768, bias=True)\n",
              "          (LayerNorm): LayerNorm((768,), eps=1e-12, elementwise_affine=True)\n",
              "          (dropout): Dropout(p=0.1, inplace=False)\n",
              "        )\n",
              "      )\n",
              "      (4): BertLayer(\n",
              "        (attention): BertAttention(\n",
              "          (self): BertSelfAttention(\n",
              "            (query): Linear(in_features=768, out_features=768, bias=True)\n",
              "            (key): Linear(in_features=768, out_features=768, bias=True)\n",
              "            (value): Linear(in_features=768, out_features=768, bias=True)\n",
              "            (dropout): Dropout(p=0.1, inplace=False)\n",
              "          )\n",
              "          (output): BertSelfOutput(\n",
              "            (dense): Linear(in_features=768, out_features=768, bias=True)\n",
              "            (LayerNorm): LayerNorm((768,), eps=1e-12, elementwise_affine=True)\n",
              "            (dropout): Dropout(p=0.1, inplace=False)\n",
              "          )\n",
              "        )\n",
              "        (intermediate): BertIntermediate(\n",
              "          (dense): Linear(in_features=768, out_features=3072, bias=True)\n",
              "        )\n",
              "        (output): BertOutput(\n",
              "          (dense): Linear(in_features=3072, out_features=768, bias=True)\n",
              "          (LayerNorm): LayerNorm((768,), eps=1e-12, elementwise_affine=True)\n",
              "          (dropout): Dropout(p=0.1, inplace=False)\n",
              "        )\n",
              "      )\n",
              "      (5): BertLayer(\n",
              "        (attention): BertAttention(\n",
              "          (self): BertSelfAttention(\n",
              "            (query): Linear(in_features=768, out_features=768, bias=True)\n",
              "            (key): Linear(in_features=768, out_features=768, bias=True)\n",
              "            (value): Linear(in_features=768, out_features=768, bias=True)\n",
              "            (dropout): Dropout(p=0.1, inplace=False)\n",
              "          )\n",
              "          (output): BertSelfOutput(\n",
              "            (dense): Linear(in_features=768, out_features=768, bias=True)\n",
              "            (LayerNorm): LayerNorm((768,), eps=1e-12, elementwise_affine=True)\n",
              "            (dropout): Dropout(p=0.1, inplace=False)\n",
              "          )\n",
              "        )\n",
              "        (intermediate): BertIntermediate(\n",
              "          (dense): Linear(in_features=768, out_features=3072, bias=True)\n",
              "        )\n",
              "        (output): BertOutput(\n",
              "          (dense): Linear(in_features=3072, out_features=768, bias=True)\n",
              "          (LayerNorm): LayerNorm((768,), eps=1e-12, elementwise_affine=True)\n",
              "          (dropout): Dropout(p=0.1, inplace=False)\n",
              "        )\n",
              "      )\n",
              "      (6): BertLayer(\n",
              "        (attention): BertAttention(\n",
              "          (self): BertSelfAttention(\n",
              "            (query): Linear(in_features=768, out_features=768, bias=True)\n",
              "            (key): Linear(in_features=768, out_features=768, bias=True)\n",
              "            (value): Linear(in_features=768, out_features=768, bias=True)\n",
              "            (dropout): Dropout(p=0.1, inplace=False)\n",
              "          )\n",
              "          (output): BertSelfOutput(\n",
              "            (dense): Linear(in_features=768, out_features=768, bias=True)\n",
              "            (LayerNorm): LayerNorm((768,), eps=1e-12, elementwise_affine=True)\n",
              "            (dropout): Dropout(p=0.1, inplace=False)\n",
              "          )\n",
              "        )\n",
              "        (intermediate): BertIntermediate(\n",
              "          (dense): Linear(in_features=768, out_features=3072, bias=True)\n",
              "        )\n",
              "        (output): BertOutput(\n",
              "          (dense): Linear(in_features=3072, out_features=768, bias=True)\n",
              "          (LayerNorm): LayerNorm((768,), eps=1e-12, elementwise_affine=True)\n",
              "          (dropout): Dropout(p=0.1, inplace=False)\n",
              "        )\n",
              "      )\n",
              "      (7): BertLayer(\n",
              "        (attention): BertAttention(\n",
              "          (self): BertSelfAttention(\n",
              "            (query): Linear(in_features=768, out_features=768, bias=True)\n",
              "            (key): Linear(in_features=768, out_features=768, bias=True)\n",
              "            (value): Linear(in_features=768, out_features=768, bias=True)\n",
              "            (dropout): Dropout(p=0.1, inplace=False)\n",
              "          )\n",
              "          (output): BertSelfOutput(\n",
              "            (dense): Linear(in_features=768, out_features=768, bias=True)\n",
              "            (LayerNorm): LayerNorm((768,), eps=1e-12, elementwise_affine=True)\n",
              "            (dropout): Dropout(p=0.1, inplace=False)\n",
              "          )\n",
              "        )\n",
              "        (intermediate): BertIntermediate(\n",
              "          (dense): Linear(in_features=768, out_features=3072, bias=True)\n",
              "        )\n",
              "        (output): BertOutput(\n",
              "          (dense): Linear(in_features=3072, out_features=768, bias=True)\n",
              "          (LayerNorm): LayerNorm((768,), eps=1e-12, elementwise_affine=True)\n",
              "          (dropout): Dropout(p=0.1, inplace=False)\n",
              "        )\n",
              "      )\n",
              "      (8): BertLayer(\n",
              "        (attention): BertAttention(\n",
              "          (self): BertSelfAttention(\n",
              "            (query): Linear(in_features=768, out_features=768, bias=True)\n",
              "            (key): Linear(in_features=768, out_features=768, bias=True)\n",
              "            (value): Linear(in_features=768, out_features=768, bias=True)\n",
              "            (dropout): Dropout(p=0.1, inplace=False)\n",
              "          )\n",
              "          (output): BertSelfOutput(\n",
              "            (dense): Linear(in_features=768, out_features=768, bias=True)\n",
              "            (LayerNorm): LayerNorm((768,), eps=1e-12, elementwise_affine=True)\n",
              "            (dropout): Dropout(p=0.1, inplace=False)\n",
              "          )\n",
              "        )\n",
              "        (intermediate): BertIntermediate(\n",
              "          (dense): Linear(in_features=768, out_features=3072, bias=True)\n",
              "        )\n",
              "        (output): BertOutput(\n",
              "          (dense): Linear(in_features=3072, out_features=768, bias=True)\n",
              "          (LayerNorm): LayerNorm((768,), eps=1e-12, elementwise_affine=True)\n",
              "          (dropout): Dropout(p=0.1, inplace=False)\n",
              "        )\n",
              "      )\n",
              "      (9): BertLayer(\n",
              "        (attention): BertAttention(\n",
              "          (self): BertSelfAttention(\n",
              "            (query): Linear(in_features=768, out_features=768, bias=True)\n",
              "            (key): Linear(in_features=768, out_features=768, bias=True)\n",
              "            (value): Linear(in_features=768, out_features=768, bias=True)\n",
              "            (dropout): Dropout(p=0.1, inplace=False)\n",
              "          )\n",
              "          (output): BertSelfOutput(\n",
              "            (dense): Linear(in_features=768, out_features=768, bias=True)\n",
              "            (LayerNorm): LayerNorm((768,), eps=1e-12, elementwise_affine=True)\n",
              "            (dropout): Dropout(p=0.1, inplace=False)\n",
              "          )\n",
              "        )\n",
              "        (intermediate): BertIntermediate(\n",
              "          (dense): Linear(in_features=768, out_features=3072, bias=True)\n",
              "        )\n",
              "        (output): BertOutput(\n",
              "          (dense): Linear(in_features=3072, out_features=768, bias=True)\n",
              "          (LayerNorm): LayerNorm((768,), eps=1e-12, elementwise_affine=True)\n",
              "          (dropout): Dropout(p=0.1, inplace=False)\n",
              "        )\n",
              "      )\n",
              "      (10): BertLayer(\n",
              "        (attention): BertAttention(\n",
              "          (self): BertSelfAttention(\n",
              "            (query): Linear(in_features=768, out_features=768, bias=True)\n",
              "            (key): Linear(in_features=768, out_features=768, bias=True)\n",
              "            (value): Linear(in_features=768, out_features=768, bias=True)\n",
              "            (dropout): Dropout(p=0.1, inplace=False)\n",
              "          )\n",
              "          (output): BertSelfOutput(\n",
              "            (dense): Linear(in_features=768, out_features=768, bias=True)\n",
              "            (LayerNorm): LayerNorm((768,), eps=1e-12, elementwise_affine=True)\n",
              "            (dropout): Dropout(p=0.1, inplace=False)\n",
              "          )\n",
              "        )\n",
              "        (intermediate): BertIntermediate(\n",
              "          (dense): Linear(in_features=768, out_features=3072, bias=True)\n",
              "        )\n",
              "        (output): BertOutput(\n",
              "          (dense): Linear(in_features=3072, out_features=768, bias=True)\n",
              "          (LayerNorm): LayerNorm((768,), eps=1e-12, elementwise_affine=True)\n",
              "          (dropout): Dropout(p=0.1, inplace=False)\n",
              "        )\n",
              "      )\n",
              "      (11): BertLayer(\n",
              "        (attention): BertAttention(\n",
              "          (self): BertSelfAttention(\n",
              "            (query): Linear(in_features=768, out_features=768, bias=True)\n",
              "            (key): Linear(in_features=768, out_features=768, bias=True)\n",
              "            (value): Linear(in_features=768, out_features=768, bias=True)\n",
              "            (dropout): Dropout(p=0.1, inplace=False)\n",
              "          )\n",
              "          (output): BertSelfOutput(\n",
              "            (dense): Linear(in_features=768, out_features=768, bias=True)\n",
              "            (LayerNorm): LayerNorm((768,), eps=1e-12, elementwise_affine=True)\n",
              "            (dropout): Dropout(p=0.1, inplace=False)\n",
              "          )\n",
              "        )\n",
              "        (intermediate): BertIntermediate(\n",
              "          (dense): Linear(in_features=768, out_features=3072, bias=True)\n",
              "        )\n",
              "        (output): BertOutput(\n",
              "          (dense): Linear(in_features=3072, out_features=768, bias=True)\n",
              "          (LayerNorm): LayerNorm((768,), eps=1e-12, elementwise_affine=True)\n",
              "          (dropout): Dropout(p=0.1, inplace=False)\n",
              "        )\n",
              "      )\n",
              "    )\n",
              "  )\n",
              "  (pooler): BertPooler(\n",
              "    (dense): Linear(in_features=768, out_features=768, bias=True)\n",
              "    (activation): Tanh()\n",
              "  )\n",
              ")"
            ]
          },
          "metadata": {
            "tags": []
          },
          "execution_count": 26
        }
      ]
    },
    {
      "cell_type": "code",
      "metadata": {
        "id": "xLA8lPX5EN2G",
        "colab_type": "code",
        "colab": {}
      },
      "source": [
        ""
      ],
      "execution_count": null,
      "outputs": []
    },
    {
      "cell_type": "code",
      "metadata": {
        "id": "9H_0awHH2Ucr",
        "colab_type": "code",
        "colab": {}
      },
      "source": [
        ""
      ],
      "execution_count": null,
      "outputs": []
    },
    {
      "cell_type": "markdown",
      "metadata": {
        "id": "vOn7EXoMRNTb",
        "colab_type": "text"
      },
      "source": [
        "#Extract Sentence level embedding\n",
        "Now, lets extract sentence level vector representation for all 3 datasets. "
      ]
    },
    {
      "cell_type": "code",
      "metadata": {
        "id": "YG0mK0m0zJHs",
        "colab_type": "code",
        "colab": {
          "base_uri": "https://localhost:8080/",
          "height": 119
        },
        "outputId": "f8b815b8-1bcb-4a51-df79-a9ddd4190139"
      },
      "source": [
        "%%time\n",
        "#dev dataset\n",
        "df_dev_sentence_1 = sent_embedding(df_dev.sentence_1.tolist(), model)\n",
        "df_dev_sentence_2 = sent_embedding(df_dev.sentence_2.tolist(), model)"
      ],
      "execution_count": null,
      "outputs": [
        {
          "output_type": "stream",
          "text": [
            "Concatenated Vector Dimension:  torch.Size([1500, 60, 3072])\n",
            "Sentence Embedding Dimension:  torch.Size([1500, 3072])\n",
            "Concatenated Vector Dimension:  torch.Size([1500, 60, 3072])\n",
            "Sentence Embedding Dimension:  torch.Size([1500, 3072])\n",
            "CPU times: user 8min 40s, sys: 11.1 s, total: 8min 51s\n",
            "Wall time: 8min 52s\n"
          ],
          "name": "stdout"
        }
      ]
    },
    {
      "cell_type": "code",
      "metadata": {
        "id": "Oj3ks6x98cQ4",
        "colab_type": "code",
        "colab": {}
      },
      "source": [
        ""
      ],
      "execution_count": null,
      "outputs": []
    },
    {
      "cell_type": "code",
      "metadata": {
        "id": "37r03c58pruB",
        "colab_type": "code",
        "colab": {
          "base_uri": "https://localhost:8080/",
          "height": 119
        },
        "outputId": "467f595c-de1e-45bc-9094-3ac15775e30b"
      },
      "source": [
        "%%time\n",
        "#test dataset\n",
        "df_test_sentence_1 = sent_embedding(df_test.sentence_1.tolist(), model)\n",
        "df_test_sentence_2 = sent_embedding(df_test.sentence_2.tolist(), model)"
      ],
      "execution_count": null,
      "outputs": [
        {
          "output_type": "stream",
          "text": [
            "Concatenated Vector Dimension:  torch.Size([1379, 60, 3072])\n",
            "Sentence Embedding Dimension:  torch.Size([1379, 3072])\n",
            "Concatenated Vector Dimension:  torch.Size([1379, 60, 3072])\n",
            "Sentence Embedding Dimension:  torch.Size([1379, 3072])\n",
            "CPU times: user 7min 59s, sys: 2.55 s, total: 8min 1s\n",
            "Wall time: 8min 2s\n"
          ],
          "name": "stdout"
        }
      ]
    },
    {
      "cell_type": "code",
      "metadata": {
        "id": "oPfxsq_BSvY1",
        "colab_type": "code",
        "colab": {}
      },
      "source": [
        ""
      ],
      "execution_count": null,
      "outputs": []
    },
    {
      "cell_type": "code",
      "metadata": {
        "id": "kNbpHF-US11U",
        "colab_type": "code",
        "colab": {
          "base_uri": "https://localhost:8080/",
          "height": 323
        },
        "outputId": "af6954b3-7d94-4469-e120-1dbb69ebeb0d"
      },
      "source": [
        "%%time\n",
        "#train dataset\n",
        "train_embed_sentence_1 =  []\n",
        "train_embed_sentence_2 =  []\n",
        "\n",
        "#make batches to avoid crash of RAM\n",
        "for x in range(0, df_train.shape[0], 1500):\n",
        "  embed_1= sent_embedding(df_train.sentence_1.tolist()[x: x+1500], model)\n",
        "  embed_2= sent_embedding(df_train.sentence_2.tolist()[x: x+1500], model)\n",
        "  train_embed_sentence_1.extend(embed_1)\n",
        "  train_embed_sentence_2.extend(embed_2)\n",
        "\n",
        "  "
      ],
      "execution_count": null,
      "outputs": [
        {
          "output_type": "stream",
          "text": [
            "Concatenated Vector Dimension:  torch.Size([1500, 60, 3072])\n",
            "Sentence Embedding Dimension:  torch.Size([1500, 3072])\n",
            "Concatenated Vector Dimension:  torch.Size([1500, 60, 3072])\n",
            "Sentence Embedding Dimension:  torch.Size([1500, 3072])\n",
            "Concatenated Vector Dimension:  torch.Size([1500, 60, 3072])\n",
            "Sentence Embedding Dimension:  torch.Size([1500, 3072])\n",
            "Concatenated Vector Dimension:  torch.Size([1500, 60, 3072])\n",
            "Sentence Embedding Dimension:  torch.Size([1500, 3072])\n",
            "Concatenated Vector Dimension:  torch.Size([1500, 60, 3072])\n",
            "Sentence Embedding Dimension:  torch.Size([1500, 3072])\n",
            "Concatenated Vector Dimension:  torch.Size([1500, 60, 3072])\n",
            "Sentence Embedding Dimension:  torch.Size([1500, 3072])\n",
            "Concatenated Vector Dimension:  torch.Size([1249, 60, 3072])\n",
            "Sentence Embedding Dimension:  torch.Size([1249, 3072])\n",
            "Concatenated Vector Dimension:  torch.Size([1249, 60, 3072])\n",
            "Sentence Embedding Dimension:  torch.Size([1249, 3072])\n",
            "CPU times: user 33min 14s, sys: 10.1 s, total: 33min 24s\n",
            "Wall time: 33min 27s\n"
          ],
          "name": "stdout"
        }
      ]
    },
    {
      "cell_type": "code",
      "metadata": {
        "id": "f1NAwk-PelS7",
        "colab_type": "code",
        "colab": {}
      },
      "source": [
        "#sentence level vector represetnation in train dataset\n",
        "df_train_sentence_1 = torch.stack(train_embed_sentence_1) # change list of tensors >>> 2d tensor\n",
        "df_train_sentence_2 = torch.stack(train_embed_sentence_2) # change list of tensors >>> 2d tensor\n"
      ],
      "execution_count": null,
      "outputs": []
    },
    {
      "cell_type": "code",
      "metadata": {
        "id": "w_RkbrOCvr3W",
        "colab_type": "code",
        "colab": {}
      },
      "source": [
        ""
      ],
      "execution_count": null,
      "outputs": []
    },
    {
      "cell_type": "markdown",
      "metadata": {
        "id": "4W9QSzRMREQM",
        "colab_type": "text"
      },
      "source": [
        "# Calculate Cosine Similarity\n",
        "Now, sentence level vector representation of each pair sentence is used to compute cosine similarity. Cosine similarity is calculated on all 3 datasets just to know how the extracted sentence level embedding perform."
      ]
    },
    {
      "cell_type": "code",
      "metadata": {
        "id": "QwwMvRGPRC5T",
        "colab_type": "code",
        "colab": {}
      },
      "source": [
        "import numpy as np\n",
        "from scipy.spatial.distance import cosine #cosine distance\n",
        "from sklearn.preprocessing import MinMaxScaler # minmax scaling\n",
        "from scipy.stats import pearsonr # pearson correlation\n",
        "from scipy.stats import spearmanr # spearman correlation\n",
        "from collections import defaultdict #store scores\n"
      ],
      "execution_count": 118,
      "outputs": []
    },
    {
      "cell_type": "code",
      "metadata": {
        "id": "7gEbjpc5obHJ",
        "colab_type": "code",
        "colab": {}
      },
      "source": [
        "#function to calculate similarity score \n",
        "def calc_similarity_score(embed_1, embed_2):\n",
        "\n",
        "  \"\"\"\n",
        "  Calcualte cosine simialrity between a pair of sentences.\n",
        "  \n",
        "    Args:\n",
        "      embed_1(numpy array): first sentence embedding\n",
        "      embed_2(numpy array): second sentence embedding\n",
        "\n",
        "    Return:\n",
        "      scaled_cosine_score(list) : cosine score between embed_1 \n",
        "      and embed_2 with range (0,5)\n",
        "  \"\"\"\n",
        "  \n",
        "  #collect similarity score\n",
        "  cosine_sim_score = []\n",
        "  \n",
        "  for x,y in zip(embed_1, embed_2):\n",
        "\n",
        "    distance = cosine(x, y) # cosine distance\n",
        "    cosine_sim = 1 - distance # cosine similarity\n",
        "    cosine_sim_score.append(cosine_sim) \n",
        "\n",
        "  \n",
        "\n",
        "\n",
        "  #scaled the similarity score to (0,5)\n",
        "  scaler = MinMaxScaler(feature_range=(0,5)) # initiate minmaxscaler\n",
        "  scaled_cosine_score = scaler.fit_transform(np.transpose([cosine_sim_score])) #scaled to (0,5)\n",
        "  \n",
        "  return scaled_cosine_score.round(3)\n",
        "  "
      ],
      "execution_count": 6,
      "outputs": []
    },
    {
      "cell_type": "code",
      "metadata": {
        "id": "b53f69trJD8A",
        "colab_type": "code",
        "colab": {}
      },
      "source": [
        ""
      ],
      "execution_count": null,
      "outputs": []
    },
    {
      "cell_type": "markdown",
      "metadata": {
        "id": "pPnbqdPFGcNo",
        "colab_type": "text"
      },
      "source": [
        "#Pearson and Spearman score\n",
        "Calculate the Pearson and Spearman correlation by comparing with computed cosine similarity score with gold score."
      ]
    },
    {
      "cell_type": "code",
      "metadata": {
        "id": "JfcMwCp33USf",
        "colab_type": "code",
        "colab": {}
      },
      "source": [
        "def cal_pearson_spearman_score(x, y):\n",
        "  '''\n",
        "  Calculate Pearson and Spearman correlation between x, y.\n",
        "  Agrs:\n",
        "    x: array_like\n",
        "    y: array_like\n",
        "\n",
        "  Returns:\n",
        "    Pearson and Spearman score\n",
        "  '''\n",
        "\n",
        "  pearson_score, _ = pearsonr(x, y)#pearson score\n",
        "  sperman_score, _ = spearmanr(x, y)#spearman score\n",
        "\n",
        "  return pearson_score , sperman_score\n",
        "\n"
      ],
      "execution_count": null,
      "outputs": []
    },
    {
      "cell_type": "code",
      "metadata": {
        "id": "dL-ozSu0GDmy",
        "colab_type": "code",
        "colab": {
          "base_uri": "https://localhost:8080/",
          "height": 272
        },
        "outputId": "9d990f5d-59a4-49fa-e459-15d9cda32ebd"
      },
      "source": [
        "#Pearson and Spearman score\n",
        "first_sent_embd = [df_train_sentence_1, df_dev_sentence_1, df_test_sentence_1] #first sentence embedding\n",
        "second_sent_embd = [df_train_sentence_2, df_dev_sentence_2, df_test_sentence_2] #second sentence embedding\n",
        "gold_labels = [df_train.loc[:,'score(0-5)'].values, df_dev.loc[:,'score(0-5)'].values, df_test.loc[:,'score(0-5)'].values ] #gold scores\n",
        "data_type = ['Train', 'Validation', 'Test'] #datasets names\n",
        "\n",
        "pear_spear_score = defaultdict(list) #store scores\n",
        "\n",
        "#zip and enumerate 'first_sent_embd' and 'second_sent_embd'\n",
        "for i, (first_sent, second_sent) in enumerate(zip(first_sent_embd,second_sent_embd)):\n",
        "  cosine_sim_score = calc_similarity_score(first_sent, second_sent) #cosine similarity score\n",
        "  cosine_sim_score = cosine_sim_score.flatten()# change to 1d\n",
        "\n",
        "  person_score, _ = pearsonr(gold_labels[i], cosine_sim_score) #pearson score\n",
        "  pear_spear_score['pearson'].append(person_score)\n",
        "  \n",
        "\n",
        "  sperman_score, _ = spearmanr(gold_labels[i], cosine_sim_score)#spearman score\n",
        "  pear_spear_score['spearman'].append(sperman_score)\n",
        "\n",
        "  print(data_type[i], 'data: ')\n",
        "  print('=='*6)\n",
        "  print(\"Pearson score: {} \\nSpearman score: {}\".format(person_score, sperman_score))\n",
        "  print()\n",
        "  \n"
      ],
      "execution_count": null,
      "outputs": [
        {
          "output_type": "stream",
          "text": [
            "Train data: \n",
            "============\n",
            "Pearson score: 0.5090061328623349 \n",
            "Spearman score: 0.4820996486643903\n",
            "\n",
            "Validation data: \n",
            "============\n",
            "Pearson score: 0.5929747726822713 \n",
            "Spearman score: 0.5956354804822067\n",
            "\n",
            "Test data: \n",
            "============\n",
            "Pearson score: 0.4767255590987412 \n",
            "Spearman score: 0.4695436549422946\n",
            "\n"
          ],
          "name": "stdout"
        }
      ]
    },
    {
      "cell_type": "code",
      "metadata": {
        "id": "2E0Z4ffWPEQ-",
        "colab_type": "code",
        "colab": {
          "base_uri": "https://localhost:8080/",
          "height": 111
        },
        "outputId": "1a34647a-441f-4032-fbcc-cb75d1fd3f65"
      },
      "source": [
        "#show in panda dataframe\n",
        "pd.DataFrame.from_dict(pear_spear_score,\n",
        "                          orient='index',\n",
        "                          columns=['Train', 'Dev', 'Test']\n",
        "                          )\n"
      ],
      "execution_count": null,
      "outputs": [
        {
          "output_type": "execute_result",
          "data": {
            "text/html": [
              "<div>\n",
              "<style scoped>\n",
              "    .dataframe tbody tr th:only-of-type {\n",
              "        vertical-align: middle;\n",
              "    }\n",
              "\n",
              "    .dataframe tbody tr th {\n",
              "        vertical-align: top;\n",
              "    }\n",
              "\n",
              "    .dataframe thead th {\n",
              "        text-align: right;\n",
              "    }\n",
              "</style>\n",
              "<table border=\"1\" class=\"dataframe\">\n",
              "  <thead>\n",
              "    <tr style=\"text-align: right;\">\n",
              "      <th></th>\n",
              "      <th>Train</th>\n",
              "      <th>Dev</th>\n",
              "      <th>Test</th>\n",
              "    </tr>\n",
              "  </thead>\n",
              "  <tbody>\n",
              "    <tr>\n",
              "      <th>pearson</th>\n",
              "      <td>0.509006</td>\n",
              "      <td>0.592975</td>\n",
              "      <td>0.476726</td>\n",
              "    </tr>\n",
              "    <tr>\n",
              "      <th>spearman</th>\n",
              "      <td>0.482100</td>\n",
              "      <td>0.595635</td>\n",
              "      <td>0.469544</td>\n",
              "    </tr>\n",
              "  </tbody>\n",
              "</table>\n",
              "</div>"
            ],
            "text/plain": [
              "             Train       Dev      Test\n",
              "pearson   0.509006  0.592975  0.476726\n",
              "spearman  0.482100  0.595635  0.469544"
            ]
          },
          "metadata": {
            "tags": []
          },
          "execution_count": 153
        }
      ]
    },
    {
      "cell_type": "code",
      "metadata": {
        "id": "8RGYhyjojTLc",
        "colab_type": "code",
        "colab": {}
      },
      "source": [
        ""
      ],
      "execution_count": null,
      "outputs": []
    },
    {
      "cell_type": "code",
      "metadata": {
        "id": "3fL8zk1xCduJ",
        "colab_type": "code",
        "colab": {}
      },
      "source": [
        ""
      ],
      "execution_count": null,
      "outputs": []
    },
    {
      "cell_type": "markdown",
      "metadata": {
        "id": "n4K0cpKC03t3",
        "colab_type": "text"
      },
      "source": [
        "# Part-2: Fine-tune Bert\n",
        "The custom model is defined using pytorch nn.module. And, The pre-trained BERT(bert-base-uncased) model is fine-tunned with STS-b train dataset. "
      ]
    },
    {
      "cell_type": "code",
      "metadata": {
        "id": "VBO8LnzX5T8m",
        "colab_type": "code",
        "colab": {}
      },
      "source": [
        "#import necessary libraries\n",
        "import torch.nn as nn\n",
        "from torch.utils.data import Dataset, DataLoader #pytorch dataset and dataloader\n",
        "from transformers import  AdamW, get_linear_schedule_with_warmup #optimizer and learning rate scheduler\n"
      ],
      "execution_count": 7,
      "outputs": []
    },
    {
      "cell_type": "markdown",
      "metadata": {
        "id": "o0mqIXgTpOcv",
        "colab_type": "text"
      },
      "source": [
        "# Custom Model\n",
        "The two different network stuctures are tried  for fine-tuning the pre-trained model. They are as follows:\n",
        "\n",
        "1. Siamese Network: In this Siamese Network structure, two different sentences(a pair of sentences) are encoded separetely meaning they are encoded one by one, and their final vecotors are used to calculate the cosine similarity.  The output layer is just the cosine similairty. No additonal layers.  The vector representation of a sentence is the concatenation of the last 4 hidden layers, and mean pooling of the tokens in a inputed sequence. \n",
        "\n",
        "2. Regression Model: In this fine-tuning, the Linear Regression output layer is added on the top of Bert. The two sentences(a pair of sentences) are feeded and encoded together. And, the final output is the regression ouput.\n",
        "\n",
        "The Mean Square Error(MSE) Loss is used as loss function  for both the Netowrk structures."
      ]
    },
    {
      "cell_type": "code",
      "metadata": {
        "id": "nSIIZmvz02nK",
        "colab_type": "code",
        "colab": {}
      },
      "source": [
        "#define custom model\n",
        "class SentenceSimilarityModel(nn.Module):\n",
        "  \"\"\"Bert model to calculate cosine similarity between a pair of sentences\"\"\"\n",
        "  \n",
        "  def __init__(self):\n",
        "    super(SentenceSimilarityModel, self).__init__()\n",
        "    self.bert = BertModel.from_pretrained(  'bert-base-uncased',\n",
        "                                          output_hidden_states = True # return all hidden-states\n",
        "                                          ) #initiate pretrained bert model\n",
        "    self.drop = nn.Dropout(p=0.3) #dropout 30 percent\n",
        "    self.regression = nn.Linear(768,1) #Regression layer with one output\n",
        "    self.cosine_sim = nn.CosineSimilarity(dim=1, eps=1e-6) # cosine similarity\n",
        "\n",
        "    \n",
        "  #forward pass\n",
        "  def forward(self, input_ids, attention_masks,  model_type, token_type_ids=None):\n",
        "    \"\"\"\n",
        "        Args:\n",
        "          input_ids_1(tensor) : input_ids of first sentence\n",
        "          input_ids_2(tensor) : input_ids of second sentence\n",
        "          attention_mask_1(tensor): attention_mask of first sentence\n",
        "          attention_mask_2(tensor): attention_mask of second sentence\n",
        "          model_type(str): type of model architecture to calculate ouput\n",
        "          (for example, 'regression' or 'cosine')\n",
        "\n",
        "       Returns:\n",
        "          cosine_score(1d tensor): Cosine similarity between a pair of sentences\n",
        "          or\n",
        "          regre_output(1d tensor) : regression output\n",
        "    \"\"\"\n",
        "    \n",
        "\n",
        "    #if model type is 'Siamese Network' i.e. cosine output\n",
        "    if  model_type == 'cosine':\n",
        "      \n",
        "      #first sentence embedding\n",
        "      input_1 = input_ids['first_sent'].to(device)\n",
        "      atten_1 = attention_masks['first_sent'].to(device)\n",
        "      output_1 = self.bert(\n",
        "          input_ids = input_1,\n",
        "          attention_mask = atten_1\n",
        "      )\n",
        "      hidden_states_1 = output_1[2] #hidden states only\n",
        "      #hidden_states_1 = self.drop(hidden_states_1)\n",
        "      #sent_embeding_1 = torch.cat(tuple([hidden_states_1[i].mean(dim=1) for i in [-4,-3,-2,-1]]), dim = 1) #concat last four hidden layers\n",
        "      concat_embeding_1 = torch.cat(tuple([self.drop(hidden_states_1[i]) for i in [-4,-3,-2,-1]]), dim = 2) # last four hidden layers\n",
        "      padded_1 = atten_1.to(device).unsqueeze(2) #insert size one at position 2\n",
        "      mul_out_1 = torch.mul(concat_embeding_1, padded_1)#make zeros vector for paddding tokens\n",
        "      sent_embeding_1 = mul_out_1.mean(dim=1) # pooling average of tokens\n",
        "      #out_1 = mul_out_1[:, 0, :] #cls token\n",
        "  \n",
        "    \n",
        "\n",
        "      #second sentence embedding\n",
        "      input_2 = input_ids['second_sent'].to(device)\n",
        "      atten_2 = attention_masks['second_sent'].to(device)\n",
        "      output_2 = self.bert(\n",
        "          input_ids = input_2,\n",
        "          attention_mask = atten_2\n",
        "      )\n",
        "      hidden_states_2 = output_2[2]\n",
        "      #hidden_states_2 = self.drop(hidden_states_2)\n",
        "      #sent_embeding_2 = torch.cat(tuple([hidden_states_2[i].mean(dim=1) for i in [-4,-3,-2,-1]]), dim = 1)\n",
        "      concat_embeding_2 = torch.cat(tuple([self.drop(hidden_states_2[i]) for i in [-4,-3,-2,-1]]), dim = 2) # last four layers\n",
        "      concat_embeding_2 = self.drop(concat_embeding_2)\n",
        "      padded_2 = atten_2.unsqueeze(2) #insert size one at position 2\n",
        "      mul_out_2 = torch.mul(concat_embeding_2, padded_2)#make zeros vector for paddding tokens\n",
        "      sent_embeding_2 = mul_out_2.mean(dim=1) # pooling average of tokens\n",
        "      #out_2 = mul_out_2[:, 0, :] #cls token\n",
        "  \n",
        "      #calculate cosine similarity\n",
        "      cosine_score = self.cosine_sim(sent_embeding_1, sent_embeding_2)\n",
        "      return cosine_score\n",
        "\n",
        "    \n",
        "    #Regression model\n",
        "    elif model_type == 'regression':\n",
        "      if token_type_ids is not None:\n",
        "        #initiate pre-trained model\n",
        "        bert_output = self.bert(  \n",
        "          input_ids = input_ids,\n",
        "          attention_mask = attention_masks,\n",
        "          token_type_ids = token_type_ids\n",
        "        )\n",
        "\n",
        "        #hidden_state = bert_output[0]# last_hidden_state\n",
        "        hidden_state = bert_output[1] #['CLS'] token of last hidden_state\n",
        "        #hidden_state = bert_output[2] #all hidden states\n",
        "\n",
        "        drop_out =  self.drop(hidden_state) #apply dropout\n",
        "        regre_output =  self.regression(drop_out)# apply linnear tranformation\n",
        "        return regre_output.flatten() #change to 1d tensor\n",
        "\n",
        "      else:\n",
        "        print('Regression model requires token_type_ids!!!')\n",
        "\n",
        "\n",
        "    else:\n",
        "      print(\"Please sepecify model's architecture :['cosine', 'regression']\")\n",
        "\n",
        "\n",
        "    "
      ],
      "execution_count": null,
      "outputs": []
    },
    {
      "cell_type": "code",
      "metadata": {
        "id": "MPXtcA5sUhc3",
        "colab_type": "code",
        "colab": {}
      },
      "source": [
        ""
      ],
      "execution_count": null,
      "outputs": []
    },
    {
      "cell_type": "markdown",
      "metadata": {
        "id": "VQsxqYZpQ11y",
        "colab_type": "text"
      },
      "source": [
        "# Create Pytorch Dataset\n",
        "Pytorch dataset is created that returns input_ids, attention_mask, token_type_ids, and gold_score from each input sequence.\n",
        "\n",
        "Since  we are trying two different model network architectures for fine-tuning, the way of feeding the pair of sentences are different from one architecture to another. For example, in a regression model, we feed a pair of sentences together while in Siamese network model, we feed one sentence and take sentence level embedding and same goes to its pair sentence. \n",
        "\n",
        "Thus, a function  is written that returns the pytorch dataset which fit for both the model architectures."
      ]
    },
    {
      "cell_type": "code",
      "metadata": {
        "id": "CEa5bH6zQH97",
        "colab_type": "code",
        "colab": {}
      },
      "source": [
        "#define function to pytorch Dataset\n",
        "class SimilarityDataset(Dataset):\n",
        "  \"\"\" Pytorch dataset that returns input_ids, attension_mask from first, second sentence,\n",
        "   and gold_score  of STS-B dataset.\n",
        "\n",
        "   Dataset is return based on the model type is provided i.e. either ('regresion' or 'cosine'). \n",
        "   Default is Siamese netowrk structure.\n",
        "   \n",
        "   \"\"\"\n",
        "\n",
        "  def __init__(self, sent_1s, sent_2s, scores, tokenizer, max_len, model_type = 'cosine'):\n",
        "    \"\"\"\n",
        "     Args:\n",
        "       sent_1s(numpy array): Array of first sentences\n",
        "       sent_2s(numpy array): Array of second sentences\n",
        "       scores(float): Gold score (0-5)\n",
        "       tokenizer: Higging Face Bert Tokenizer\n",
        "       max_len(int): Maximun token length\n",
        "       model_type(str): type of model architecture to calculate \n",
        "       ouput(for example, 'regression' or 'cosine')\n",
        "      \n",
        "    \"\"\"\n",
        "    self.sent_1s = sent_1s\n",
        "    self.sent_2s = sent_2s\n",
        "    self.scores = scores\n",
        "    self.tokenizer = tokenizer\n",
        "    self.max_len = max_len\n",
        "    self.model_type = model_type\n",
        "\n",
        "\n",
        "  def __len__(self):\n",
        "    return len(self.sent_1s) #total no. of samples\n",
        "\n",
        "\n",
        "  def __getitem__(self, item):\n",
        "    first_sent = self.sent_1s[item]  #first sentencs\n",
        "    second_sent = self.sent_2s[item] #second sentence\n",
        "    score = self.scores[item]\n",
        "\n",
        "    #print('model_type is: {}'.format(self.model_type))\n",
        "    # model type is 'Siamese Network'\n",
        "    if self.model_type == 'cosine':\n",
        "\n",
        "      #encode first sentence\n",
        "      first_sent_encoding = self.tokenizer( first_sent,\n",
        "                                            add_special_tokens=True, #add ['CLS'] and ['SEP']\n",
        "                                            max_length=self.max_len, # set max len for padding\n",
        "                                            return_token_type_ids=False, #set false to segment_ids\n",
        "                                            padding='max_length', # padding\n",
        "                                            return_attention_mask=True,  # return attention mask\n",
        "                                            return_tensors='pt', # pytorch tensor\n",
        "                                            )\n",
        "      \n",
        "\n",
        "\n",
        "\n",
        "      #encode second sentence\n",
        "      second_sent_encoding = self.tokenizer( second_sent,\n",
        "                                            add_special_tokens=True,\n",
        "                                            max_length=self.max_len,\n",
        "                                            return_token_type_ids=False,\n",
        "                                            padding= 'max_length',\n",
        "                                            return_attention_mask=True,\n",
        "                                            return_tensors='pt',\n",
        "                                            )\n",
        "      \n",
        "      return {\n",
        "          'input_ids' :{ \n",
        "              'first_sent' : first_sent_encoding['input_ids'].flatten(),\n",
        "              'second_sent' : second_sent_encoding['input_ids'].flatten()\n",
        "              \n",
        "          },\n",
        "\n",
        "          'attention_ids' :{\n",
        "              'first_sent' :first_sent_encoding['attention_mask'].flatten(),\n",
        "              'second_sent' :second_sent_encoding['attention_mask'].flatten()\n",
        "          },\n",
        "\n",
        "          'score' : torch.tensor(score)\n",
        "      }\n",
        "\n",
        "\n",
        "\n",
        "    #if model's out is regression type\n",
        "    else:\n",
        "\n",
        "      #encode input sequences\n",
        "      sent_encoding = self.tokenizer(   first_sent, second_sent,\n",
        "                                        add_special_tokens=True,\n",
        "                                        max_length=self.max_len,\n",
        "                                        return_token_type_ids=True,\n",
        "                                        padding= 'max_length',\n",
        "                                        truncation = True,\n",
        "                                        return_attention_mask=True,\n",
        "                                        return_tensors='pt',\n",
        "                                      )\n",
        "      return {\n",
        "            'input_ids' : sent_encoding['input_ids'].flatten(),\n",
        "            'attention_ids' : sent_encoding['attention_mask'].flatten(),\n",
        "            'token_type_ids' : sent_encoding['token_type_ids'].flatten(),\n",
        "            'score' : torch.tensor(score),\n",
        "\n",
        "        }\n",
        "\n",
        "    \n"
      ],
      "execution_count": null,
      "outputs": []
    },
    {
      "cell_type": "code",
      "metadata": {
        "id": "VRhAVaDkwUIA",
        "colab_type": "code",
        "colab": {}
      },
      "source": [
        ""
      ],
      "execution_count": null,
      "outputs": []
    },
    {
      "cell_type": "code",
      "metadata": {
        "id": "ffC_ZF0Me4bV",
        "colab_type": "code",
        "colab": {
          "base_uri": "https://localhost:8080/",
          "height": 207
        },
        "outputId": "eaa38be9-8f36-4063-8091-d5a2c5e11f35"
      },
      "source": [
        "#lets test our pytoch dataset for Siamese Network (cosine output)\n",
        "dt = SimilarityDataset(df_train.sentence_1[:5], df_train.sentence_2[:5], df.loc[:5,'score(0-5)'], tokenizer, 20, model_type='cosine' )\n",
        "input_id_1 = dt[0]['input_ids']['first_sent'] #first senquence\n",
        "input_id_2 = dt[0]['input_ids']['second_sent'] #second senquence\n",
        "print('Input_ids 1st sent :', input_id_1)\n",
        "print()\n",
        "print('Input_ids 2nd sent :', input_id_2)\n",
        "print()\n",
        "print('A pair of sentences are tokenized separetly:')\n",
        "print(tokenizer.convert_ids_to_tokens(input_id_1)) #convert ids to tokens\n",
        "print()\n",
        "print(tokenizer.convert_ids_to_tokens(input_id_2)) #for second sequence"
      ],
      "execution_count": null,
      "outputs": [
        {
          "output_type": "stream",
          "text": [
            "Input_ids 1st sent : tensor([ 101, 1037, 4946, 2003, 2635, 2125, 1012,  102,    0,    0,    0,    0,\n",
            "           0,    0,    0,    0,    0,    0,    0,    0])\n",
            "\n",
            "Input_ids 2nd sent : tensor([ 101, 2019, 2250, 4946, 2003, 2635, 2125, 1012,  102,    0,    0,    0,\n",
            "           0,    0,    0,    0,    0,    0,    0,    0])\n",
            "\n",
            "A pair of sentences are tokenized separetly:\n",
            "['[CLS]', 'a', 'plane', 'is', 'taking', 'off', '.', '[SEP]', '[PAD]', '[PAD]', '[PAD]', '[PAD]', '[PAD]', '[PAD]', '[PAD]', '[PAD]', '[PAD]', '[PAD]', '[PAD]', '[PAD]']\n",
            "\n",
            "['[CLS]', 'an', 'air', 'plane', 'is', 'taking', 'off', '.', '[SEP]', '[PAD]', '[PAD]', '[PAD]', '[PAD]', '[PAD]', '[PAD]', '[PAD]', '[PAD]', '[PAD]', '[PAD]', '[PAD]']\n"
          ],
          "name": "stdout"
        }
      ]
    },
    {
      "cell_type": "code",
      "metadata": {
        "id": "9td9DiXFiiM5",
        "colab_type": "code",
        "colab": {}
      },
      "source": [
        ""
      ],
      "execution_count": null,
      "outputs": []
    },
    {
      "cell_type": "code",
      "metadata": {
        "id": "uCtAuHM_SUzG",
        "colab_type": "code",
        "colab": {
          "base_uri": "https://localhost:8080/",
          "height": 156
        },
        "outputId": "1c53a450-ce29-4836-dcc4-8de3bf863246"
      },
      "source": [
        "#lets test our pytoch dataset for regression model type \n",
        "dt = SimilarityDataset(df_train.sentence_1[:5], df_train.sentence_2[:5], df.loc[:5,'score(0-5)'], tokenizer, 20,model_type='regression' )\n",
        "input_id = dt[0]['input_ids'] # input_ids\n",
        "atten_id = dt[0]['attention_ids'] #attention mask\n",
        "token_type_id = dt[0]['token_type_ids'] #token type ids\n",
        "print('Input_ids :', input_id)\n",
        "print('Attention_mask :', atten_id)\n",
        "print('Token type ids :',token_type_id)\n",
        "print()\n",
        "print('A pair of sentences tokenized together:')\n",
        "print(tokenizer.convert_ids_to_tokens(input_id))"
      ],
      "execution_count": null,
      "outputs": [
        {
          "output_type": "stream",
          "text": [
            "Input_ids : tensor([ 101, 1037, 4946, 2003, 2635, 2125, 1012,  102, 2019, 2250, 4946, 2003,\n",
            "        2635, 2125, 1012,  102,    0,    0,    0,    0])\n",
            "Attention_mask : tensor([1, 1, 1, 1, 1, 1, 1, 1, 1, 1, 1, 1, 1, 1, 1, 1, 0, 0, 0, 0])\n",
            "Token type ids : tensor([0, 0, 0, 0, 0, 0, 0, 0, 1, 1, 1, 1, 1, 1, 1, 1, 0, 0, 0, 0])\n",
            "\n",
            "A pair of sentences tokenized together:\n",
            "['[CLS]', 'a', 'plane', 'is', 'taking', 'off', '.', '[SEP]', 'an', 'air', 'plane', 'is', 'taking', 'off', '.', '[SEP]', '[PAD]', '[PAD]', '[PAD]', '[PAD]']\n"
          ],
          "name": "stdout"
        }
      ]
    },
    {
      "cell_type": "code",
      "metadata": {
        "id": "9m2lYZ_YcjWt",
        "colab_type": "code",
        "colab": {}
      },
      "source": [
        ""
      ],
      "execution_count": null,
      "outputs": []
    },
    {
      "cell_type": "markdown",
      "metadata": {
        "id": "iHN6hIpCVh20",
        "colab_type": "text"
      },
      "source": [
        "# Pytorch Data Loader\n",
        "It provides an iterable over the given dataset."
      ]
    },
    {
      "cell_type": "code",
      "metadata": {
        "id": "zcSgz7WOgyjU",
        "colab_type": "code",
        "colab": {}
      },
      "source": [
        "#define pytorch data loader\n",
        "def pytorch_data_loader(df, tokenizer, max_len, batch_size, model_type='cosine'):\n",
        "  \"\"\"\n",
        "    Agrs:\n",
        "       df(panda dataframe): dataset\n",
        "       tokenizer(Hugging face tokeniser): Bert Tokonizer\n",
        "       max_len(int): Maximun tokens length in a sequence/sentence\n",
        "       batch_size(int): Number of samples in a batch\n",
        "       model_type(str): type of model architecture to calculate \n",
        "       ouputs(for example, 'regression' or 'cosine')\n",
        "\n",
        "    Return:\n",
        "      Dataloader(pytorch dataloader): Dataset with given batch size\n",
        "  \"\"\"\n",
        "  dataset = SimilarityDataset(\n",
        "      sent_1s =df.sentence_1.to_numpy(), #first sequence\n",
        "      sent_2s =df.sentence_2.to_numpy(), #second sequence\n",
        "      scores =df.loc[:,'scaled_score(0-1)'].to_numpy(), #gold score\n",
        "      tokenizer=tokenizer, #hugging face tokenizer\n",
        "      max_len=max_len, #max length for padding\n",
        "      model_type = model_type # return dataset as per model type\n",
        "  )\n",
        "\n",
        "  return DataLoader( \n",
        "      dataset,\n",
        "      batch_size=batch_size,\n",
        "      shuffle= True\n",
        "  )"
      ],
      "execution_count": null,
      "outputs": []
    },
    {
      "cell_type": "code",
      "metadata": {
        "id": "PHaA7do6HwUm",
        "colab_type": "code",
        "colab": {}
      },
      "source": [
        ""
      ],
      "execution_count": null,
      "outputs": []
    },
    {
      "cell_type": "code",
      "metadata": {
        "id": "2g9rvYYPHwtj",
        "colab_type": "code",
        "colab": {}
      },
      "source": [
        "#define model training function\n",
        "def model_train(model, dataloader, device, loss_fun, optimizer, scheduler, model_type):\n",
        "  \"\"\"\n",
        "     Args:\n",
        "       model: Custom model\n",
        "       dataloader: Pytorh data loader\n",
        "       device: device to compute\n",
        "       loss_fun:  loss function( MES loss)\n",
        "       optimizer: optimizer (Adamw)\n",
        "       scheduler: learning rate schedule\n",
        "       model_type(str): type of model architecture('regression' or 'cosine')\n",
        "\n",
        "    Returns:\n",
        "       training loss, and Pearson correlation between gold_score and predicted score\n",
        "       \n",
        "  \"\"\"\n",
        "  print('Model is training based on {} ouput!!!'.format(model_type))\n",
        "\n",
        "  #put model in training mode\n",
        "  model.train()\n",
        "\n",
        "  losses = [] # store loss from each batch\n",
        "  pearson_score = [] #pearson score from each batch\n",
        "\n",
        "  #Siamese Model type(Cosine output)\n",
        "  if model_type == 'cosine':\n",
        "  \n",
        "    #iterate over each batch of training data\n",
        "    for batch in dataloader:\n",
        "\n",
        "      #input ids\n",
        "      input_ids = batch['input_ids']\n",
        "      atten_ids = batch['attention_ids']\n",
        "\n",
        "      #gold score\n",
        "      gold_score = batch['score'].to(device).float() # change to float dtype as same as model output\n",
        "      \n",
        "      #clear previously calculated gradients\n",
        "      model.zero_grad()\n",
        "\n",
        "      #model forward pass\n",
        "      output = model(input_ids, atten_ids, model_type) # output dtype --> float tenosr \n",
        "      \n",
        "      #Calculate Pearson Correlation score\n",
        "      p_score = pearsonr(output.detach().cpu(), gold_score.detach().cpu())\n",
        "      pearson_score.append(p_score[0])\n",
        "      \n",
        "      #perform loss\n",
        "      loss = loss_fun(output, gold_score)\n",
        "      losses.append(loss.item()) \n",
        "\n",
        "      loss.backward() # perform backward pass to calculate gradients\n",
        "      nn.utils.clip_grad_norm_(model.parameters(), max_norm=1.0)# clip the norm of the gradients to 1.0.\n",
        "      optimizer.step() #update parameters\n",
        "      scheduler.step() #update learning rate\n",
        "      \n",
        "    return np.mean(losses), np.mean(pearson_score)\n",
        "\n",
        "  #Regression model type\n",
        "  elif model_type == 'regression':\n",
        "\n",
        "    #iterate over each batch of training data\n",
        "    for batch in dataloader:\n",
        "      \n",
        "      #Input sequence \n",
        "      input_ids = batch['input_ids'].to(device)\n",
        "      atten_ids = batch['attention_ids'].to(device)\n",
        "      tok_type_ids = batch['token_type_ids'].to(device)\n",
        "\n",
        "      #gold score\n",
        "      gold_score = batch['score'].to(device).float() # change to float dtype as same as model output\n",
        "      \n",
        "      #clear previously calculated gradients\n",
        "      model.zero_grad()\n",
        "\n",
        "      #model forward pass\n",
        "      output = model(input_ids, atten_ids, model_type, tok_type_ids) # output dtype --> float tenosr \n",
        "      \n",
        "      #Calculate Pearson Correlation score\n",
        "      p_score = pearsonr(output.detach().cpu(), gold_score.detach().cpu())\n",
        "      pearson_score.append(p_score[0])\n",
        "      \n",
        "      #perform loss\n",
        "      loss = loss_fun(output, gold_score)\n",
        "      losses.append(loss.item()) \n",
        "\n",
        "      loss.backward() # perform backward pass to calculate gradients\n",
        "      nn.utils.clip_grad_norm_(model.parameters(), max_norm=1.0)# clip the norm of the gradients to 1.0.\n",
        "      optimizer.step() #update parameters\n",
        "      scheduler.step() #update learning rate\n",
        "    return np.mean(losses), np.mean(pearson_score)\n",
        "\n",
        "  else:\n",
        "    print('Pleae specify the model type for training the data!!!')\n",
        "\n",
        "  \n"
      ],
      "execution_count": null,
      "outputs": []
    },
    {
      "cell_type": "code",
      "metadata": {
        "id": "qA8wxPXfH5Rp",
        "colab_type": "code",
        "colab": {}
      },
      "source": [
        "# define evaluation function\n",
        "def model_eval(model, dataloader, device, loss_fun, model_type):\n",
        "  \"\"\"\n",
        "     Args:\n",
        "       model: Custom model\n",
        "       dataloader: pytorch data loader\n",
        "       device: device to compute\n",
        "       loss_fun:  loss function( MES loss)\n",
        "       \n",
        "    Returns:\n",
        "       Evaluation loss, and Pearson correlation between gold_score and predicted score\n",
        "       \n",
        "  \"\"\"\n",
        "  #print('Model is validation based on {} ouput!!!'.format(model_type))\n",
        "\n",
        "  #put model in evaluation mode\n",
        "  model.eval()\n",
        "\n",
        "  losses = []\n",
        "  pearson_score = []\n",
        "  \n",
        "\n",
        "  #tell model not to compute or store gradients\n",
        "  with torch.no_grad():\n",
        "    \n",
        "    #Siamese model type(cosine)\n",
        "    if model_type == 'cosine':\n",
        "      \n",
        "      #each batch of evaluation data\n",
        "      for batch in dataloader:\n",
        "        #first sentence\n",
        "        input_ids = batch['input_ids']\n",
        "        atten_ids = batch['attention_ids']\n",
        "\n",
        "        #gold score\n",
        "        gold_score = batch['score'].to(device).float() # change to float dtype as same as model output\n",
        "\n",
        "        #model forward pass\n",
        "        model = model\n",
        "        output = model(input_ids, atten_ids, model_type) # output type --> float tensor \n",
        "\n",
        "        #perform loss\n",
        "        loss = loss_fun(output, gold_score)\n",
        "        losses.append(loss.item()) \n",
        "        \n",
        "        #Calculate Pearson Correlation score\n",
        "        p_score = pearsonr(output.detach().cpu(), gold_score.detach().cpu())\n",
        "        pearson_score.append(p_score[0])\n",
        "      return np.mean(losses), np.mean(pearson_score)\n",
        "    \n",
        "\n",
        "    #regression model type\n",
        "    elif model_type == 'regression':\n",
        "\n",
        "      #each batch of evaluation data\n",
        "      for batch in dataloader:\n",
        "        #first sentence\n",
        "        input_ids = batch['input_ids'].to(device)\n",
        "        atten_ids = batch['attention_ids'].to(device)\n",
        "        tok_type_ids = batch['token_type_ids'].to(device)\n",
        "\n",
        "        #gold score\n",
        "        gold_score = batch['score'].to(device).float() # change to float dtype as same as model output\n",
        "\n",
        "        #model forward pass\n",
        "        model = model\n",
        "        output = model(input_ids, atten_ids, model_type, tok_type_ids) # output type --> float tensor \n",
        "\n",
        "        #perform loss\n",
        "        loss = loss_fun(output, gold_score)\n",
        "        losses.append(loss.item()) \n",
        "        \n",
        "        #Calculate Pearson Correlation score\n",
        "        p_score = pearsonr(output.detach().cpu(), gold_score.detach().cpu())\n",
        "        pearson_score.append(p_score[0])\n",
        "      return np.mean(losses), np.mean(pearson_score)\n",
        "\n",
        "    else:\n",
        "      print('Please specify the model type to evaluate the data!!!')\n",
        "\n",
        "  \n"
      ],
      "execution_count": null,
      "outputs": []
    },
    {
      "cell_type": "code",
      "metadata": {
        "id": "BWpK0RpoLpuh",
        "colab_type": "code",
        "colab": {}
      },
      "source": [
        ""
      ],
      "execution_count": null,
      "outputs": []
    },
    {
      "cell_type": "markdown",
      "metadata": {
        "id": "_y2Ftr_BMK8M",
        "colab_type": "text"
      },
      "source": [
        "# Re-scaled gold score from (0-5) to (0,1)\n",
        "\n",
        "Before making the Data to Pytorch Dataloader, lets re-scaled the 'gold score' to (0,1). This is done because the cosine similarity score is (0,1). So, it makes sense to calculate the loss during the model training."
      ]
    },
    {
      "cell_type": "code",
      "metadata": {
        "id": "o-0tO4XVL5il",
        "colab_type": "code",
        "colab": {}
      },
      "source": [
        "#re-scale to all datasets\n",
        "df_train['scaled_score(0-1)'] = MinMaxScaler(feature_range=(0,1)).fit_transform(df_train[['score(0-5)']])\n",
        "df_dev['scaled_score(0-1)'] = MinMaxScaler(feature_range=(0,1)).fit_transform(df_dev[['score(0-5)']])\n",
        "df_test['scaled_score(0-1)'] = MinMaxScaler(feature_range=(0,1)).fit_transform(df_test[['score(0-5)']])\n"
      ],
      "execution_count": null,
      "outputs": []
    },
    {
      "cell_type": "code",
      "metadata": {
        "id": "SAzolCLNOXng",
        "colab_type": "code",
        "colab": {}
      },
      "source": [
        ""
      ],
      "execution_count": null,
      "outputs": []
    },
    {
      "cell_type": "code",
      "metadata": {
        "id": "C87nbyp-kqTQ",
        "colab_type": "code",
        "colab": {}
      },
      "source": [
        "#Create data loader for Regression model\n",
        "BATCH_SIZE = 16\n",
        "train_data_loader_reg = pytorch_data_loader( df_train, tokenizer, 120, BATCH_SIZE, 'regression') # train data loader\n",
        "dev_data_loader_reg = pytorch_data_loader(df_dev, tokenizer, 120, BATCH_SIZE , 'regression', )# dev data loader\n",
        "test_data_loader_reg = pytorch_data_loader(df_test, tokenizer, 120, BATCH_SIZE, 'regression' )# test data loader"
      ],
      "execution_count": null,
      "outputs": []
    },
    {
      "cell_type": "code",
      "metadata": {
        "id": "QH9VNuPkjEay",
        "colab_type": "code",
        "colab": {}
      },
      "source": [
        ""
      ],
      "execution_count": null,
      "outputs": []
    },
    {
      "cell_type": "code",
      "metadata": {
        "id": "_L3ef6p_iJk1",
        "colab_type": "code",
        "colab": {}
      },
      "source": [
        "#Create data loader for Siamese model i.e. cosine similarity output\n",
        "train_data_loader_cos = pytorch_data_loader( df_train, tokenizer, 70, BATCH_SIZE) # train data loader\n",
        "dev_data_loader_cos= pytorch_data_loader(df_dev, tokenizer, 70, BATCH_SIZE )# dev data loader\n",
        "test_data_loader_cos = pytorch_data_loader(df_test, tokenizer, 70, BATCH_SIZE)# test data loader\n"
      ],
      "execution_count": null,
      "outputs": []
    },
    {
      "cell_type": "code",
      "metadata": {
        "id": "HSK-Pz-xZ8tz",
        "colab_type": "code",
        "colab": {
          "base_uri": "https://localhost:8080/",
          "height": 544
        },
        "outputId": "c39132e7-d581-436c-ce9e-3df5e6c895c4"
      },
      "source": [
        "#print batch of dev_data_loader_reg\n",
        "data = next(iter(train_data_loader_cos))\n",
        "data\n",
        "\n"
      ],
      "execution_count": null,
      "outputs": [
        {
          "output_type": "execute_result",
          "data": {
            "text/plain": [
              "{'attention_ids': {'first_sent': tensor([[1, 1, 1,  ..., 0, 0, 0],\n",
              "          [1, 1, 1,  ..., 0, 0, 0],\n",
              "          [1, 1, 1,  ..., 0, 0, 0],\n",
              "          ...,\n",
              "          [1, 1, 1,  ..., 0, 0, 0],\n",
              "          [1, 1, 1,  ..., 0, 0, 0],\n",
              "          [1, 1, 1,  ..., 0, 0, 0]]),\n",
              "  'second_sent': tensor([[1, 1, 1,  ..., 0, 0, 0],\n",
              "          [1, 1, 1,  ..., 0, 0, 0],\n",
              "          [1, 1, 1,  ..., 0, 0, 0],\n",
              "          ...,\n",
              "          [1, 1, 1,  ..., 0, 0, 0],\n",
              "          [1, 1, 1,  ..., 0, 0, 0],\n",
              "          [1, 1, 1,  ..., 0, 0, 0]])},\n",
              " 'input_ids': {'first_sent': tensor([[  101,  1037,  2450,  ...,     0,     0,     0],\n",
              "          [  101,  3516,  5721,  ...,     0,     0,     0],\n",
              "          [  101,  2611,  4832,  ...,     0,     0,     0],\n",
              "          ...,\n",
              "          [  101,  1037,  2177,  ...,     0,     0,     0],\n",
              "          [  101,  1996,  2158,  ...,     0,     0,     0],\n",
              "          [  101,  2446, 19918,  ...,     0,     0,     0]]),\n",
              "  'second_sent': tensor([[  101,  1037,  2711,  ...,     0,     0,     0],\n",
              "          [  101, 13109,  2050,  ...,     0,     0,     0],\n",
              "          [  101,  1037,  2611,  ...,     0,     0,     0],\n",
              "          ...,\n",
              "          [  101,  1037,  2177,  ...,     0,     0,     0],\n",
              "          [  101,  1037,  2158,  ...,     0,     0,     0],\n",
              "          [  101,  4238,  1005,  ...,     0,     0,     0]])},\n",
              " 'score': tensor([0.0800, 0.5600, 0.4000, 1.0000, 1.0000, 0.5000, 0.5500, 0.4000, 0.6400,\n",
              "         0.7200, 0.9200, 0.7200, 0.6800, 0.6800, 0.7000, 0.2800],\n",
              "        dtype=torch.float64)}"
            ]
          },
          "metadata": {
            "tags": []
          },
          "execution_count": 21
        }
      ]
    },
    {
      "cell_type": "code",
      "metadata": {
        "id": "WYxIsuUb9gbE",
        "colab_type": "code",
        "colab": {}
      },
      "source": [
        ""
      ],
      "execution_count": null,
      "outputs": []
    },
    {
      "cell_type": "code",
      "metadata": {
        "id": "ZpfHcjS2j9sv",
        "colab_type": "code",
        "colab": {}
      },
      "source": [
        "#now lets test dataloader with the custom model\n",
        "out_score = custom_model( data['input_ids'],\n",
        "                         data['attention_ids'],\n",
        "                         \n",
        "                         'cosine',\n",
        "                         \n",
        "                        )\n",
        "             "
      ],
      "execution_count": null,
      "outputs": []
    },
    {
      "cell_type": "code",
      "metadata": {
        "id": "XLmub3cy1lTi",
        "colab_type": "code",
        "colab": {
          "base_uri": "https://localhost:8080/",
          "height": 68
        },
        "outputId": "5db2cfd8-8d4a-49a3-f44f-2b54248ea1e0"
      },
      "source": [
        "out_score"
      ],
      "execution_count": null,
      "outputs": [
        {
          "output_type": "execute_result",
          "data": {
            "text/plain": [
              "tensor([0.7277, 0.7249, 0.7469, 0.7783, 0.8608, 0.8753, 0.8644, 0.8105, 0.8925,\n",
              "        0.7494, 0.8413, 0.8269, 0.6999, 0.8244, 0.7620, 0.7985],\n",
              "       device='cuda:0', grad_fn=<DivBackward0>)"
            ]
          },
          "metadata": {
            "tags": []
          },
          "execution_count": 41
        }
      ]
    },
    {
      "cell_type": "code",
      "metadata": {
        "id": "qaY5s2uBcJN3",
        "colab_type": "code",
        "colab": {}
      },
      "source": [
        ""
      ],
      "execution_count": null,
      "outputs": []
    },
    {
      "cell_type": "markdown",
      "metadata": {
        "id": "NjNtLyGbqlXE",
        "colab_type": "text"
      },
      "source": [
        "# Training Process"
      ]
    },
    {
      "cell_type": "code",
      "metadata": {
        "id": "V20oZVOTpzGn",
        "colab_type": "code",
        "colab": {
          "base_uri": "https://localhost:8080/",
          "height": 115,
          "referenced_widgets": [
            "176587eab3ad433ab7e0ed401cef1f3c",
            "f6d8b09fc2584e5582d4801eea771b1f",
            "fdca5cb17d5244708402b6eb6bbcf0e8",
            "7afd408a33334bf0b26c1bd1fa4e0cf1",
            "a02485564bbc4acc80066f6d33769cca",
            "34d7fcaf123c45198f3cdfffde971cb7",
            "f96b1a901abb42e88880a238eaab1866",
            "3ac1e33f014942169639157c7540bdee",
            "878fc8c2e17e44d1abf992e585ffa7a9",
            "be8bb46c2dc640678c65b9dc7ccde5f7",
            "693e7691852d404d81a1a4c14ac20b77",
            "3c044203a4d74a60bb197f4b467b842b",
            "13b62c0c3ede41f49b8218ef75f3fe69",
            "c8b811abb27a42c7b98864ca545d3fc5",
            "9debdbf399504f3882128223b8f9e026",
            "be38de922e0541008c8adca4155676e2"
          ]
        },
        "outputId": "bae4317d-1518-4345-ed64-b2e3c72d1540"
      },
      "source": [
        "#initiate model\n",
        "custom_model = SentenceSimilarityModel()\n",
        "custom_model = custom_model.to(device)"
      ],
      "execution_count": null,
      "outputs": [
        {
          "output_type": "display_data",
          "data": {
            "application/vnd.jupyter.widget-view+json": {
              "model_id": "176587eab3ad433ab7e0ed401cef1f3c",
              "version_minor": 0,
              "version_major": 2
            },
            "text/plain": [
              "HBox(children=(FloatProgress(value=0.0, description='Downloading', max=433.0, style=ProgressStyle(description_…"
            ]
          },
          "metadata": {
            "tags": []
          }
        },
        {
          "output_type": "stream",
          "text": [
            "\n"
          ],
          "name": "stdout"
        },
        {
          "output_type": "display_data",
          "data": {
            "application/vnd.jupyter.widget-view+json": {
              "model_id": "878fc8c2e17e44d1abf992e585ffa7a9",
              "version_minor": 0,
              "version_major": 2
            },
            "text/plain": [
              "HBox(children=(FloatProgress(value=0.0, description='Downloading', max=440473133.0, style=ProgressStyle(descri…"
            ]
          },
          "metadata": {
            "tags": []
          }
        },
        {
          "output_type": "stream",
          "text": [
            "\n"
          ],
          "name": "stdout"
        }
      ]
    },
    {
      "cell_type": "code",
      "metadata": {
        "id": "YevjZFxRe-09",
        "colab_type": "code",
        "colab": {
          "base_uri": "https://localhost:8080/",
          "height": 34
        },
        "outputId": "a09bb269-d21d-43ca-f8bb-3edac1567a69"
      },
      "source": [
        "#check list of parameter\n",
        "#for param_tensor in custom_model.state_dict():\n",
        "#   print(param_tensor, \"\\t\", custom_model.state_dict()[param_tensor].size())\n",
        "len(custom_model.state_dict())"
      ],
      "execution_count": null,
      "outputs": [
        {
          "output_type": "execute_result",
          "data": {
            "text/plain": [
              "201"
            ]
          },
          "metadata": {
            "tags": []
          },
          "execution_count": 50
        }
      ]
    },
    {
      "cell_type": "code",
      "metadata": {
        "id": "sYAJ_33_fjm5",
        "colab_type": "code",
        "colab": {}
      },
      "source": [
        ""
      ],
      "execution_count": null,
      "outputs": []
    },
    {
      "cell_type": "code",
      "metadata": {
        "id": "wvbYoLWoJyl_",
        "colab_type": "code",
        "colab": {
          "base_uri": "https://localhost:8080/",
          "height": 493
        },
        "outputId": "54b67397-d401-4a80-fdb3-74477b8eb824"
      },
      "source": [
        "#check paramerts in model\n",
        "params = list(custom_model.named_parameters())\n",
        "print(len(params))\n",
        "for p in params[0:5]:\n",
        "    print(\"{:<55} {:>12}\".format(p[0], str(tuple(p[1].size()))))\n",
        "\n",
        "print()\n",
        "\n",
        "for p in params[21:21+16]:\n",
        "    print(\"{:<55} {:>12}\".format(p[0], str(tuple(p[1].size()))))\n",
        "\n",
        "print()\n",
        "for p in params[-4:]:\n",
        "    print(\"{:<55} {:>12}\".format(p[0], str(tuple(p[1].size()))))"
      ],
      "execution_count": null,
      "outputs": [
        {
          "output_type": "stream",
          "text": [
            "201\n",
            "bert.embeddings.word_embeddings.weight                  (30522, 768)\n",
            "bert.embeddings.position_embeddings.weight                (512, 768)\n",
            "bert.embeddings.token_type_embeddings.weight                (2, 768)\n",
            "bert.embeddings.LayerNorm.weight                              (768,)\n",
            "bert.embeddings.LayerNorm.bias                                (768,)\n",
            "\n",
            "bert.encoder.layer.1.attention.self.query.weight          (768, 768)\n",
            "bert.encoder.layer.1.attention.self.query.bias                (768,)\n",
            "bert.encoder.layer.1.attention.self.key.weight            (768, 768)\n",
            "bert.encoder.layer.1.attention.self.key.bias                  (768,)\n",
            "bert.encoder.layer.1.attention.self.value.weight          (768, 768)\n",
            "bert.encoder.layer.1.attention.self.value.bias                (768,)\n",
            "bert.encoder.layer.1.attention.output.dense.weight        (768, 768)\n",
            "bert.encoder.layer.1.attention.output.dense.bias              (768,)\n",
            "bert.encoder.layer.1.attention.output.LayerNorm.weight        (768,)\n",
            "bert.encoder.layer.1.attention.output.LayerNorm.bias          (768,)\n",
            "bert.encoder.layer.1.intermediate.dense.weight           (3072, 768)\n",
            "bert.encoder.layer.1.intermediate.dense.bias                 (3072,)\n",
            "bert.encoder.layer.1.output.dense.weight                 (768, 3072)\n",
            "bert.encoder.layer.1.output.dense.bias                        (768,)\n",
            "bert.encoder.layer.1.output.LayerNorm.weight                  (768,)\n",
            "bert.encoder.layer.1.output.LayerNorm.bias                    (768,)\n",
            "\n",
            "bert.pooler.dense.weight                                  (768, 768)\n",
            "bert.pooler.dense.bias                                        (768,)\n",
            "regression.weight                                           (1, 768)\n",
            "regression.bias                                                 (1,)\n"
          ],
          "name": "stdout"
        }
      ]
    },
    {
      "cell_type": "code",
      "metadata": {
        "id": "NF1DKIKahNjd",
        "colab_type": "code",
        "colab": {}
      },
      "source": [
        ""
      ],
      "execution_count": null,
      "outputs": []
    },
    {
      "cell_type": "code",
      "metadata": {
        "id": "Kl3wYrVccD7-",
        "colab_type": "code",
        "colab": {}
      },
      "source": [
        "#list of parameters\n",
        "max_length = 60 #max tokens size in a sequence\n",
        "EPOCHS = 4 # number of training epoch\n",
        "\n",
        "optimizer =AdamW(custom_model.parameters(), lr=3e-5, eps=1e-8) # Adam optimizer\n",
        "total_steps = len(train_data_loader_cos) * EPOCHS # total number training steps\n",
        "#learning rate scheduler\n",
        "scheduler = get_linear_schedule_with_warmup(  \n",
        "  optimizer,  \n",
        "  num_warmup_steps=0,\n",
        "  num_training_steps=total_steps\n",
        ")  \n",
        "\n",
        "#MSE loss function\n",
        "loss_fn = nn.MSELoss().to(device)"
      ],
      "execution_count": null,
      "outputs": []
    },
    {
      "cell_type": "code",
      "metadata": {
        "id": "6N9aKvyVjmCi",
        "colab_type": "code",
        "colab": {}
      },
      "source": [
        ""
      ],
      "execution_count": null,
      "outputs": []
    },
    {
      "cell_type": "code",
      "metadata": {
        "id": "U7QsUASlg4wS",
        "colab_type": "code",
        "colab": {
          "base_uri": "https://localhost:8080/",
          "height": 493
        },
        "outputId": "9b18d468-0602-4e2b-9b5c-ae1e1957862e"
      },
      "source": [
        "%%time\n",
        "#Training process start\n",
        "epochs_score = defaultdict(list) #store score from each epochs\n",
        "val_score = 0 # validation score\n",
        "model_type = ['regression', 'cosine']\n",
        "\n",
        "for epoch in range(EPOCHS):\n",
        "  print('Epoch {:}/{:}'.format(epoch + 1, EPOCHS))\n",
        "  print('=='*5)\n",
        "  print()\n",
        "  \n",
        "  #model training initiate\n",
        "  train_loss, train_Pearson_score = model_train(custom_model, train_data_loader_cos, device, loss_fn, optimizer, scheduler, model_type[1])\n",
        "  print('Train loss is: {}, train_Pearson_score is {}'.format(train_loss,train_Pearson_score))\n",
        "\n",
        "  #store values\n",
        "  epochs_score['train_loss'].append(train_loss) #train losss\n",
        "  epochs_score['train_Pearson_score'].append(train_Pearson_score) # pearson correlation\n",
        "\n",
        "\n",
        "  #model validatiaon initiate\n",
        "  val_loss, val_Pearson_score = model_eval(custom_model, dev_data_loader_cos, device, loss_fn, model_type[1])\n",
        "  print('Validation loss is: {}, Validation_Pearson_score is {}'.format(val_loss,val_Pearson_score))\n",
        "  print()\n",
        "  \n",
        "  #store values\n",
        "  epochs_score['val_loss'].append(val_loss) #train losss\n",
        "  epochs_score['val_Pearson_score'].append(val_Pearson_score) # pearson correlation\n",
        "\n",
        "  #save model with high validaiton score\n",
        "  if val_Pearson_score >  val_score:\n",
        "    val_score = val_Pearson_score\n",
        "    torch.save(custom_model.state_dict(), 'cos_best_model.bin')\n",
        "\n",
        "print()\n",
        "print('Training completed......')\n",
        "epochs_score\n"
      ],
      "execution_count": null,
      "outputs": [
        {
          "output_type": "stream",
          "text": [
            "Epoch 1/4\n",
            "==========\n",
            "\n",
            "Model is training based on cosine ouput!!!\n",
            "Train loss is: 0.03525991279424893, train_Pearson_score is 0.7737912409703589\n",
            "Validation loss is: 0.040995525166471584, Validation_Pearson_score is 0.8388022081369747\n",
            "Epoch 2/4\n",
            "==========\n",
            "\n",
            "Model is training based on cosine ouput!!!\n",
            "Train loss is: 0.01583862947170726, train_Pearson_score is 0.9057581402554787\n",
            "Validation loss is: 0.03573798307990457, Validation_Pearson_score is 0.8515228122437515\n",
            "Epoch 3/4\n",
            "==========\n",
            "\n",
            "Model is training based on cosine ouput!!!\n",
            "Train loss is: 0.009391826189433536, train_Pearson_score is 0.9478323482497297\n",
            "Validation loss is: 0.03578938943076324, Validation_Pearson_score is 0.8495049487285798\n",
            "Epoch 4/4\n",
            "==========\n",
            "\n",
            "Model is training based on cosine ouput!!!\n",
            "Train loss is: 0.007055937146974935, train_Pearson_score is 0.9618974993105434\n",
            "Validation loss is: 0.03679277084054465, Validation_Pearson_score is 0.8475719429010564\n",
            "\n",
            "Training completed......\n",
            "CPU times: user 4min 46s, sys: 1min 35s, total: 6min 22s\n",
            "Wall time: 6min 23s\n"
          ],
          "name": "stdout"
        }
      ]
    },
    {
      "cell_type": "code",
      "metadata": {
        "id": "d6-9vAYzqLFF",
        "colab_type": "code",
        "colab": {}
      },
      "source": [
        ""
      ],
      "execution_count": null,
      "outputs": []
    },
    {
      "cell_type": "markdown",
      "metadata": {
        "id": "KQXjuYIRIFHe",
        "colab_type": "text"
      },
      "source": [
        "#Plot model learning Curve"
      ]
    },
    {
      "cell_type": "code",
      "metadata": {
        "id": "1au3LlrwHE7e",
        "colab_type": "code",
        "colab": {
          "base_uri": "https://localhost:8080/",
          "height": 410
        },
        "outputId": "42c4562e-3ca8-4c51-ace0-f2058fdcc47f"
      },
      "source": [
        "#plot training and validation score\n",
        "import matplotlib.pyplot as plt\n",
        "import seaborn as sns\n",
        "train_score = epochs_score['train_Pearson_score'] # train_score\n",
        "valid_score = epochs_score['val_Pearson_score'] # valid_score\n",
        " \n",
        "\n",
        "sns.set(style='darkgrid') #set plot style\n",
        "sns.set(rc={'figure.figsize':(9,6)}) # set figure size\n",
        "plt.plot(train_score ,'-o', label= 'Train_score' )#plot train score\n",
        "plt.plot(valid_score, '-o', label='Valid_score') # plot valid score\n",
        "plt.xticks( range(0, EPOCHS, 1)) #set xlabel location\n",
        "plt.title('Model Training with Siamese Network') #  title\n",
        "plt.ylabel('Pearson Coefficient') # ylabel\n",
        "plt.xlabel('No. of epochs') # xlabel\n",
        "plt.ylim([0.6,1]) #set the ylabel limit\n",
        "plt.legend(loc=4) #label \n",
        "plt.show()\n",
        "\n",
        "\n",
        "\n"
      ],
      "execution_count": null,
      "outputs": [
        {
          "output_type": "display_data",
          "data": {
            "image/png": "[encoded data removed]",
            "text/plain": [
              "<Figure size 648x432 with 1 Axes>"
            ]
          },
          "metadata": {
            "tags": []
          }
        }
      ]
    },
    {
      "cell_type": "code",
      "metadata": {
        "id": "vfmfngOm4az8",
        "colab_type": "code",
        "colab": {
          "base_uri": "https://localhost:8080/",
          "height": 306
        },
        "outputId": "b1bf30e9-7a97-4479-c90f-4692884f7d2a"
      },
      "source": [
        "epochs_score"
      ],
      "execution_count": null,
      "outputs": [
        {
          "output_type": "execute_result",
          "data": {
            "text/plain": [
              "defaultdict(list,\n",
              "            {'train_Pearson_score': [0.9095253426930726,\n",
              "              0.9507620315805678,\n",
              "              0.9658815727894156,\n",
              "              0.969138802258031],\n",
              "             'train_loss': [0.014850491575068897,\n",
              "              0.008308044855948538,\n",
              "              0.005935145596029341,\n",
              "              0.005526766769859629],\n",
              "             'val_Pearson_score': [0.8596345902946204,\n",
              "              0.8628200338581528,\n",
              "              0.8550283151967495,\n",
              "              0.8579226058427706],\n",
              "             'val_loss': [0.029453454192410758,\n",
              "              0.028082741582964327,\n",
              "              0.028189612146308447,\n",
              "              0.0281864658315131]})"
            ]
          },
          "metadata": {
            "tags": []
          },
          "execution_count": 27
        }
      ]
    },
    {
      "cell_type": "code",
      "metadata": {
        "id": "I2qKzz2u4g5E",
        "colab_type": "code",
        "colab": {}
      },
      "source": [
        ""
      ],
      "execution_count": null,
      "outputs": []
    },
    {
      "cell_type": "code",
      "metadata": {
        "id": "x26xOBtG2hLJ",
        "colab_type": "code",
        "colab": {
          "base_uri": "https://localhost:8080/",
          "height": 410
        },
        "outputId": "41efe8d1-5ef1-43e0-c7ab-c6e7a7cca341"
      },
      "source": [
        "#plot training and validation score\n",
        "import matplotlib.pyplot as plt\n",
        "import seaborn as sns\n",
        "train_score = epochs_score['train_Pearson_score'] # train_score\n",
        "valid_score = epochs_score['val_Pearson_score'] # valid_score\n",
        " \n",
        "sns.set(style='darkgrid') #set plot style\n",
        "sns.set(rc={'figure.figsize':(9,6)}) # set figure size\n",
        "plt.plot(train_score ,'-o', label= 'Train_score' )#plot train score\n",
        "plt.plot(valid_score, '-o', label='Valid_score') # plot valid score\n",
        "plt.title('Model Training with Regression output') #  title\n",
        "plt.ylabel('Pearson Coefficient') # ylabel\n",
        "plt.xlabel('No. of epochs') # xlabel\n",
        "plt.ylim([0.6,1]) #set the ylabel limit\n",
        "plt.legend(loc=4) #label \n",
        "plt.show()\n"
      ],
      "execution_count": null,
      "outputs": [
        {
          "output_type": "display_data",
          "data": {
            "image/png": "[encoded data removed]",
            "text/plain": [
              "<Figure size 648x432 with 1 Axes>"
            ]
          },
          "metadata": {
            "tags": []
          }
        }
      ]
    },
    {
      "cell_type": "code",
      "metadata": {
        "id": "EH6c-4v6FmRQ",
        "colab_type": "code",
        "colab": {}
      },
      "source": [
        ""
      ],
      "execution_count": null,
      "outputs": []
    },
    {
      "cell_type": "code",
      "metadata": {
        "id": "BW7EMbm8_bLo",
        "colab_type": "code",
        "colab": {}
      },
      "source": [
        ""
      ],
      "execution_count": null,
      "outputs": []
    },
    {
      "cell_type": "markdown",
      "metadata": {
        "id": "PWMFCXm1P_pj",
        "colab_type": "text"
      },
      "source": [
        "# Evaluate on test"
      ]
    },
    {
      "cell_type": "code",
      "metadata": {
        "id": "Vl8Vn_bVTF6E",
        "colab_type": "code",
        "colab": {
          "base_uri": "https://localhost:8080/",
          "height": 34
        },
        "outputId": "19025997-070b-4593-e9bf-fbdef00d0181"
      },
      "source": [
        "#evaluate on test data Siamese Network model\n",
        "test_loss, test_Pearson_score = model_eval(\n",
        "                                      custom_model, \n",
        "                                      test_data_loader_cos, \n",
        "                                      device, \n",
        "                                      loss_fn,\n",
        "                                      model_type[1] #Sieamese Network\n",
        "                                      )\n",
        "print(test_loss, test_Pearson_score)"
      ],
      "execution_count": null,
      "outputs": [
        {
          "output_type": "stream",
          "text": [
            "0.03049802704146881 0.8359374742099637\n"
          ],
          "name": "stdout"
        }
      ]
    },
    {
      "cell_type": "code",
      "metadata": {
        "id": "pRSkduiuXtsI",
        "colab_type": "code",
        "colab": {}
      },
      "source": [
        ""
      ],
      "execution_count": null,
      "outputs": []
    },
    {
      "cell_type": "code",
      "metadata": {
        "id": "3hCGvi34Mx03",
        "colab_type": "code",
        "colab": {}
      },
      "source": [
        "#evaluate on test data on Regression model\n",
        "test_loss, test_Pearson_score = model_eval(\n",
        "                                      custom_model, \n",
        "                                      test_data_loader_reg, \n",
        "                                      device, \n",
        "                                      loss_fn,\n",
        "                                      model_type[0] # Linear Regression output\n",
        "                                      )\n",
        "print(test_loss, test_Pearson_score)"
      ],
      "execution_count": null,
      "outputs": []
    },
    {
      "cell_type": "code",
      "metadata": {
        "id": "FqMif_hPPveW",
        "colab_type": "code",
        "colab": {
          "base_uri": "https://localhost:8080/",
          "height": 34
        },
        "outputId": "dd2857e2-bca4-4472-e4b1-ac2f00b64cdd"
      },
      "source": [
        "print(test_loss, test_Pearson_score)"
      ],
      "execution_count": null,
      "outputs": [
        {
          "output_type": "stream",
          "text": [
            "0.025870686771626444 0.847667453528674\n"
          ],
          "name": "stdout"
        }
      ]
    },
    {
      "cell_type": "code",
      "metadata": {
        "id": "v6cfDRC6iEan",
        "colab_type": "code",
        "colab": {}
      },
      "source": [
        ""
      ],
      "execution_count": null,
      "outputs": []
    },
    {
      "cell_type": "markdown",
      "metadata": {
        "id": "J9aAcR1qhayQ",
        "colab_type": "text"
      },
      "source": [
        "# Save and Load model"
      ]
    },
    {
      "cell_type": "code",
      "metadata": {
        "id": "ryrceZodhZQq",
        "colab_type": "code",
        "colab": {}
      },
      "source": [
        "#save model\n",
        "torch.save(custom_model.state_dict(), '/content/drive/My Drive/Google_Colab/cos_best_model.bin')"
      ],
      "execution_count": null,
      "outputs": []
    },
    {
      "cell_type": "code",
      "metadata": {
        "id": "o52SHrJtQFhl",
        "colab_type": "code",
        "colab": {
          "base_uri": "https://localhost:8080/",
          "height": 34
        },
        "outputId": "5cf41d3a-d0ee-41b8-e9f8-ac22d308ba43"
      },
      "source": [
        "#load model and evaluate on test data\n",
        "fine_tuned_model = SentenceSimilarityModel()\n",
        "fine_tuned_model.load_state_dict(torch.load('/content/drive/My Drive/Google_Colab/cos_best_model.bin'))\n",
        "test_loss, test_Pearson_score = model_eval(\n",
        "                                      fine_tuned_model.to(device),\n",
        "                                      test_data_loader_cos, \n",
        "                                      device, \n",
        "                                      loss_fn,\n",
        "                                      model_type[1]\n",
        "                                      )\n",
        "print(test_loss, test_Pearson_score)"
      ],
      "execution_count": null,
      "outputs": [
        {
          "output_type": "stream",
          "text": [
            "0.030774633539305336 0.8418700599177172\n"
          ],
          "name": "stdout"
        }
      ]
    },
    {
      "cell_type": "code",
      "metadata": {
        "id": "dDkQqCXC3qJ8",
        "colab_type": "code",
        "colab": {}
      },
      "source": [
        "#copy model\n",
        "!cp -r /content/reg_best_model.bin \"/content/drive/My Drive/Google_Colab/cos_best_model.bin\""
      ],
      "execution_count": null,
      "outputs": []
    },
    {
      "cell_type": "code",
      "metadata": {
        "id": "QmaLPAeX32iB",
        "colab_type": "code",
        "colab": {}
      },
      "source": [
        ""
      ],
      "execution_count": null,
      "outputs": []
    },
    {
      "cell_type": "code",
      "metadata": {
        "id": "sCfjOQ9LxAMa",
        "colab_type": "code",
        "colab": {}
      },
      "source": [
        "#clear unused GPU\n",
        "with torch.cuda.device('cuda:0'):\n",
        "   torch.cuda.empty_cache()"
      ],
      "execution_count": null,
      "outputs": []
    },
    {
      "cell_type": "code",
      "metadata": {
        "id": "oXV9pXvpxGhS",
        "colab_type": "code",
        "colab": {
          "base_uri": "https://localhost:8080/",
          "height": 357
        },
        "outputId": "f9365595-c7f8-409b-deb7-a63777b20051"
      },
      "source": [
        "!nvidia-smi"
      ],
      "execution_count": null,
      "outputs": [
        {
          "output_type": "stream",
          "text": [
            "Fri Jul  3 16:16:59 2020       \n",
            "+-----------------------------------------------------------------------------+\n",
            "| NVIDIA-SMI 450.36.06    Driver Version: 418.67       CUDA Version: 10.1     |\n",
            "|-------------------------------+----------------------+----------------------+\n",
            "| GPU  Name        Persistence-M| Bus-Id        Disp.A | Volatile Uncorr. ECC |\n",
            "| Fan  Temp  Perf  Pwr:Usage/Cap|         Memory-Usage | GPU-Util  Compute M. |\n",
            "|                               |                      |               MIG M. |\n",
            "|===============================+======================+======================|\n",
            "|   0  Tesla K80           Off  | 00000000:00:04.0 Off |                    0 |\n",
            "| N/A   40C    P0    58W / 149W |   7417MiB / 11441MiB |      0%      Default |\n",
            "|                               |                      |                 ERR! |\n",
            "+-------------------------------+----------------------+----------------------+\n",
            "                                                                               \n",
            "+-----------------------------------------------------------------------------+\n",
            "| Processes:                                                                  |\n",
            "|  GPU   GI   CI        PID   Type   Process name                  GPU Memory |\n",
            "|        ID   ID                                                   Usage      |\n",
            "|=============================================================================|\n",
            "|  No running processes found                                                 |\n",
            "+-----------------------------------------------------------------------------+\n"
          ],
          "name": "stdout"
        }
      ]
    },
    {
      "cell_type": "code",
      "metadata": {
        "id": "N1HQwbw7wQTC",
        "colab_type": "code",
        "colab": {}
      },
      "source": [
        ""
      ],
      "execution_count": null,
      "outputs": []
    },
    {
      "cell_type": "markdown",
      "metadata": {
        "id": "Taj_czZksJJL",
        "colab_type": "text"
      },
      "source": [
        "# References:\n",
        "1. Chris McCormick and Nick Ryan. (2019, May 14). BERT Word Embeddings Tutorial. Retrieved from http://www.mccormickml.com , https://mccormickml.com/2019/05/14/BERT-word-embeddings-tutorial/\n",
        "\n",
        "2. Sentiment Analysis with BERT  https://colab.research.google.com/drive/1PHv-IRLPCtv7oTcIGbsgZHqrB5LPvB7S#scrollTo=1zhHoFNsxufs&forceEdit=true&sandboxMode=true\n",
        "\n",
        "3. Hugging Face Transformer, https://huggingface.co/transformers/\n",
        "\n",
        "4. The Illustrated BERT, ELMo, and co. (How NLP Cracked Transfer Learning), https://jalammar.github.io/illustrated-bert/\n",
        "\n",
        "5. BERT: Pre-training of Deep Bidirectional Transformers for Language Understanding, https://arxiv.org/abs/1810.04805\n",
        "\n",
        "6. Eneko Agirre, Daniel Cer, Mona Diab, Iñigo Lopez-Gazpio, Lucia\n",
        "Specia. Semeval-2017 Task 1: Semantic Textual Similarity Multilingual and Crosslingual Focused Evaluation. Proceedings of SemEval 2017\n"
      ]
    },
    {
      "cell_type": "code",
      "metadata": {
        "id": "U7hEFPesSfPk",
        "colab_type": "code",
        "colab": {}
      },
      "source": [
        ""
      ],
      "execution_count": null,
      "outputs": []
    },
    {
      "cell_type": "code",
      "metadata": {
        "id": "eLI1w0RfSgMo",
        "colab_type": "code",
        "colab": {}
      },
      "source": [
        ""
      ],
      "execution_count": null,
      "outputs": []
    },
    {
      "cell_type": "markdown",
      "metadata": {
        "id": "asAfP6C0Sg99",
        "colab_type": "text"
      },
      "source": [
        "#ELMo Embedding\n",
        "We will use allennlp to extract elmo embedding"
      ]
    },
    {
      "cell_type": "code",
      "metadata": {
        "id": "in46LZ9HU424",
        "colab_type": "code",
        "colab": {
          "base_uri": "https://localhost:8080/",
          "height": 989
        },
        "outputId": "e526873d-1bcf-45c6-94a7-c69d397a73bd"
      },
      "source": [
        "!pip install allennlp"
      ],
      "execution_count": 119,
      "outputs": [
        {
          "output_type": "stream",
          "text": [
            "Requirement already satisfied: allennlp in /usr/local/lib/python3.6/dist-packages (1.0.0)\n",
            "Requirement already satisfied: numpy in /usr/local/lib/python3.6/dist-packages (from allennlp) (1.18.5)\n",
            "Requirement already satisfied: pytest in /usr/local/lib/python3.6/dist-packages (from allennlp) (3.6.4)\n",
            "Requirement already satisfied: spacy<2.3,>=2.1.0 in /usr/local/lib/python3.6/dist-packages (from allennlp) (2.2.4)\n",
            "Requirement already satisfied: torch<1.6.0,>=1.5.0 in /usr/local/lib/python3.6/dist-packages (from allennlp) (1.5.1+cu101)\n",
            "Requirement already satisfied: tqdm>=4.19 in /usr/local/lib/python3.6/dist-packages (from allennlp) (4.41.1)\n",
            "Requirement already satisfied: scikit-learn in /usr/local/lib/python3.6/dist-packages (from allennlp) (0.22.2.post1)\n",
            "Requirement already satisfied: overrides==3.0.0 in /usr/local/lib/python3.6/dist-packages (from allennlp) (3.0.0)\n",
            "Requirement already satisfied: boto3 in /usr/local/lib/python3.6/dist-packages (from allennlp) (1.14.20)\n",
            "Requirement already satisfied: h5py in /usr/local/lib/python3.6/dist-packages (from allennlp) (2.10.0)\n",
            "Requirement already satisfied: jsonpickle in /usr/local/lib/python3.6/dist-packages (from allennlp) (1.4.1)\n",
            "Requirement already satisfied: tensorboardX>=1.2 in /usr/local/lib/python3.6/dist-packages (from allennlp) (2.1)\n",
            "Requirement already satisfied: dataclasses; python_version < \"3.7\" in /usr/local/lib/python3.6/dist-packages (from allennlp) (0.7)\n",
            "Requirement already satisfied: requests>=2.18 in /usr/local/lib/python3.6/dist-packages (from allennlp) (2.23.0)\n",
            "Requirement already satisfied: jsonnet>=0.10.0; sys_platform != \"win32\" in /usr/local/lib/python3.6/dist-packages (from allennlp) (0.16.0)\n",
            "Requirement already satisfied: nltk in /usr/local/lib/python3.6/dist-packages (from allennlp) (3.2.5)\n",
            "Requirement already satisfied: scipy in /usr/local/lib/python3.6/dist-packages (from allennlp) (1.4.1)\n",
            "Requirement already satisfied: transformers<2.12,>=2.9 in /usr/local/lib/python3.6/dist-packages (from allennlp) (2.11.0)\n",
            "Requirement already satisfied: filelock<3.1,>=3.0 in /usr/local/lib/python3.6/dist-packages (from allennlp) (3.0.12)\n",
            "Requirement already satisfied: setuptools in /usr/local/lib/python3.6/dist-packages (from pytest->allennlp) (49.1.0)\n",
            "Requirement already satisfied: attrs>=17.4.0 in /usr/local/lib/python3.6/dist-packages (from pytest->allennlp) (19.3.0)\n",
            "Requirement already satisfied: six>=1.10.0 in /usr/local/lib/python3.6/dist-packages (from pytest->allennlp) (1.12.0)\n",
            "Requirement already satisfied: atomicwrites>=1.0 in /usr/local/lib/python3.6/dist-packages (from pytest->allennlp) (1.4.0)\n",
            "Requirement already satisfied: py>=1.5.0 in /usr/local/lib/python3.6/dist-packages (from pytest->allennlp) (1.9.0)\n",
            "Requirement already satisfied: more-itertools>=4.0.0 in /usr/local/lib/python3.6/dist-packages (from pytest->allennlp) (8.4.0)\n",
            "Requirement already satisfied: pluggy<0.8,>=0.5 in /usr/local/lib/python3.6/dist-packages (from pytest->allennlp) (0.7.1)\n",
            "Requirement already satisfied: murmurhash<1.1.0,>=0.28.0 in /usr/local/lib/python3.6/dist-packages (from spacy<2.3,>=2.1.0->allennlp) (1.0.2)\n",
            "Requirement already satisfied: thinc==7.4.0 in /usr/local/lib/python3.6/dist-packages (from spacy<2.3,>=2.1.0->allennlp) (7.4.0)\n",
            "Requirement already satisfied: preshed<3.1.0,>=3.0.2 in /usr/local/lib/python3.6/dist-packages (from spacy<2.3,>=2.1.0->allennlp) (3.0.2)\n",
            "Requirement already satisfied: cymem<2.1.0,>=2.0.2 in /usr/local/lib/python3.6/dist-packages (from spacy<2.3,>=2.1.0->allennlp) (2.0.3)\n",
            "Requirement already satisfied: catalogue<1.1.0,>=0.0.7 in /usr/local/lib/python3.6/dist-packages (from spacy<2.3,>=2.1.0->allennlp) (1.0.0)\n",
            "Requirement already satisfied: plac<1.2.0,>=0.9.6 in /usr/local/lib/python3.6/dist-packages (from spacy<2.3,>=2.1.0->allennlp) (1.1.3)\n",
            "Requirement already satisfied: wasabi<1.1.0,>=0.4.0 in /usr/local/lib/python3.6/dist-packages (from spacy<2.3,>=2.1.0->allennlp) (0.7.0)\n",
            "Requirement already satisfied: blis<0.5.0,>=0.4.0 in /usr/local/lib/python3.6/dist-packages (from spacy<2.3,>=2.1.0->allennlp) (0.4.1)\n",
            "Requirement already satisfied: srsly<1.1.0,>=1.0.2 in /usr/local/lib/python3.6/dist-packages (from spacy<2.3,>=2.1.0->allennlp) (1.0.2)\n",
            "Requirement already satisfied: future in /usr/local/lib/python3.6/dist-packages (from torch<1.6.0,>=1.5.0->allennlp) (0.16.0)\n",
            "Requirement already satisfied: joblib>=0.11 in /usr/local/lib/python3.6/dist-packages (from scikit-learn->allennlp) (0.16.0)\n",
            "Requirement already satisfied: s3transfer<0.4.0,>=0.3.0 in /usr/local/lib/python3.6/dist-packages (from boto3->allennlp) (0.3.3)\n",
            "Requirement already satisfied: botocore<1.18.0,>=1.17.20 in /usr/local/lib/python3.6/dist-packages (from boto3->allennlp) (1.17.20)\n",
            "Requirement already satisfied: jmespath<1.0.0,>=0.7.1 in /usr/local/lib/python3.6/dist-packages (from boto3->allennlp) (0.10.0)\n",
            "Requirement already satisfied: importlib-metadata in /usr/local/lib/python3.6/dist-packages (from jsonpickle->allennlp) (1.7.0)\n",
            "Requirement already satisfied: protobuf>=3.8.0 in /usr/local/lib/python3.6/dist-packages (from tensorboardX>=1.2->allennlp) (3.12.2)\n",
            "Requirement already satisfied: chardet<4,>=3.0.2 in /usr/local/lib/python3.6/dist-packages (from requests>=2.18->allennlp) (3.0.4)\n",
            "Requirement already satisfied: certifi>=2017.4.17 in /usr/local/lib/python3.6/dist-packages (from requests>=2.18->allennlp) (2020.6.20)\n",
            "Requirement already satisfied: urllib3!=1.25.0,!=1.25.1,<1.26,>=1.21.1 in /usr/local/lib/python3.6/dist-packages (from requests>=2.18->allennlp) (1.24.3)\n",
            "Requirement already satisfied: idna<3,>=2.5 in /usr/local/lib/python3.6/dist-packages (from requests>=2.18->allennlp) (2.10)\n",
            "Requirement already satisfied: packaging in /usr/local/lib/python3.6/dist-packages (from transformers<2.12,>=2.9->allennlp) (20.4)\n",
            "Requirement already satisfied: sentencepiece in /usr/local/lib/python3.6/dist-packages (from transformers<2.12,>=2.9->allennlp) (0.1.91)\n",
            "Requirement already satisfied: tokenizers==0.7.0 in /usr/local/lib/python3.6/dist-packages (from transformers<2.12,>=2.9->allennlp) (0.7.0)\n",
            "Requirement already satisfied: sacremoses in /usr/local/lib/python3.6/dist-packages (from transformers<2.12,>=2.9->allennlp) (0.0.43)\n",
            "Requirement already satisfied: regex!=2019.12.17 in /usr/local/lib/python3.6/dist-packages (from transformers<2.12,>=2.9->allennlp) (2019.12.20)\n",
            "Requirement already satisfied: python-dateutil<3.0.0,>=2.1 in /usr/local/lib/python3.6/dist-packages (from botocore<1.18.0,>=1.17.20->boto3->allennlp) (2.8.1)\n",
            "Requirement already satisfied: docutils<0.16,>=0.10 in /usr/local/lib/python3.6/dist-packages (from botocore<1.18.0,>=1.17.20->boto3->allennlp) (0.15.2)\n",
            "Requirement already satisfied: zipp>=0.5 in /usr/local/lib/python3.6/dist-packages (from importlib-metadata->jsonpickle->allennlp) (3.1.0)\n",
            "Requirement already satisfied: pyparsing>=2.0.2 in /usr/local/lib/python3.6/dist-packages (from packaging->transformers<2.12,>=2.9->allennlp) (2.4.7)\n",
            "Requirement already satisfied: click in /usr/local/lib/python3.6/dist-packages (from sacremoses->transformers<2.12,>=2.9->allennlp) (7.1.2)\n"
          ],
          "name": "stdout"
        }
      ]
    },
    {
      "cell_type": "code",
      "metadata": {
        "id": "K12FdcJkU4zk",
        "colab_type": "code",
        "colab": {}
      },
      "source": [
        "import torch\n",
        "import os\n",
        "import pandas as pd\n",
        "import numpy as np\n",
        "import torch.nn as nn\n",
        "from typing import Dict, Iterable, List\n",
        "from overrides import overrides\n",
        "from allennlp.data import DatasetReader, Instance, DataLoader, Vocabulary\n",
        "from allennlp.data.fields import LabelField, TextField, ArrayField\n",
        "from allennlp.data.fields.text_field import TextFieldTensors\n",
        "from allennlp.data.tokenizers import SpacyTokenizer, Token, Tokenizer, WhitespaceTokenizer\n",
        "from allennlp.data.token_indexers import TokenIndexer, SingleIdTokenIndexer\n",
        "from allennlp.data.token_indexers.elmo_indexer import ELMoTokenCharactersIndexer\n",
        "from allennlp.data.samplers import BasicBatchSampler, BucketBatchSampler, RandomSampler\n",
        "from allennlp.modules import Seq2VecEncoder\n",
        "from allennlp.training.metrics import PearsonCorrelation\n",
        "from allennlp.training.util import evaluate\n",
        "from allennlp.nn import util\n",
        "from allennlp.models import Model\n"
      ],
      "execution_count": 120,
      "outputs": []
    },
    {
      "cell_type": "code",
      "metadata": {
        "id": "Uv3LHNwWfura",
        "colab_type": "code",
        "colab": {}
      },
      "source": [
        ""
      ],
      "execution_count": null,
      "outputs": []
    },
    {
      "cell_type": "markdown",
      "metadata": {
        "id": "eiJZrgEdfwE3",
        "colab_type": "text"
      },
      "source": [
        "#Prepare Dataset\n",
        "\n",
        "Create dataset reader "
      ]
    },
    {
      "cell_type": "code",
      "metadata": {
        "id": "K9QJ6ILEVcSe",
        "colab_type": "code",
        "colab": {}
      },
      "source": [
        "class SemanticTextDataReader(DatasetReader):\n",
        "  def __init__(self, \n",
        "               lazy: bool = False, \n",
        "               tokenizer = None, \n",
        "               token_indexers: Dict[str, TokenIndexer] = None, \n",
        "               max_tokens: int = None\n",
        "               ):\n",
        "    super().__init__(lazy)\n",
        "    self.tokenizer = tokenizer or WhitespaceTokenizer()\n",
        "    self.token_indexers = token_indexers or {'tokens': SingleIdTokenIndexer()}\n",
        "    self.max_tokens = max_tokens\n",
        "    \n",
        "\n",
        "  #convert given text into instance\n",
        "  @overrides\n",
        "  def text_to_instance(self, sent_1: str, sent_2: str, gold_score: float = None) -> Instance:\n",
        "    \n",
        "    #tokenize text\n",
        "    token_1 = self.tokenizer.tokenize(sent_1) \n",
        "    token_2 = self.tokenizer.tokenize(sent_2)\n",
        "    \n",
        "    #tokens\n",
        "    if self.max_tokens:\n",
        "            token_1 = token_1[:self.max_tokens]\n",
        "            token_2 = token_2[:self.max_tokens]\n",
        "    \n",
        "    #Textfield\n",
        "    text_field_1 = TextField(token_1, self.token_indexers) \n",
        "    text_field_2 = TextField(token_2, self.token_indexers)\n",
        "\n",
        "    #fields contain 'Textfield' and 'LabelField'\n",
        "    fields = {'first_sent': text_field_1, 'second_sent': text_field_2 } \n",
        "    \n",
        "    #check score/label is given or not\n",
        "    if gold_score is not None:\n",
        "      fields['score'] = ArrayField(np.array([gold_score])) # labelfield\n",
        "   \n",
        "    return Instance(fields) #instance with inputs and outputs fields \n",
        "\n",
        "    \n",
        "  #Read dataset and convert them to Iterable Instance\n",
        "  @overrides\n",
        "  def _read(self, file_path: str) -> Iterable[Instance]:\n",
        "    \n",
        "    #read data with pandas\n",
        "    df = pd.read_csv(file_path, \n",
        "              delimiter=',' , \n",
        "              header= None,\n",
        "              names= col_names\n",
        "              )\n",
        "    \n",
        "    #scale down gold-score(0-5) to (0-1) since cosine-simialrity score(0-1)\n",
        "    df['scaled_score(0-1)'] = MinMaxScaler(feature_range=(0,1)).fit_transform(df[['score(0-5)']])\n",
        "    print('Data reading started .....')\n",
        "    \n",
        "    \n",
        "    #iterate over rows in df\n",
        "    for index, row in df.iterrows():\n",
        "      sent_1 = row['sentence_1']#first sent\n",
        "      sent_2 = row['sentence_2']#second sent\n",
        "      gold_score = row['scaled_score(0-1)']#score\n",
        "      yield self.text_to_instance(sent_1, sent_2, gold_score) #iterable\n",
        "\n",
        "    print('...... Completed.')\n",
        "    print()\n",
        "  \n",
        "    "
      ],
      "execution_count": 121,
      "outputs": []
    },
    {
      "cell_type": "code",
      "metadata": {
        "id": "BhlfJYT52imD",
        "colab_type": "code",
        "colab": {}
      },
      "source": [
        ""
      ],
      "execution_count": null,
      "outputs": []
    },
    {
      "cell_type": "code",
      "metadata": {
        "id": "IBxOBKkZlzDR",
        "colab_type": "code",
        "colab": {
          "base_uri": "https://localhost:8080/",
          "height": 221
        },
        "outputId": "62094fc9-d3e1-41da-a367-f185ebf692df"
      },
      "source": [
        "#Read dataset\n",
        "file_path = \"/content/drive/My Drive/Google_Colab/stsbenchmark_dataset/\" #file path\n",
        "dataset_types = [ \"sts-train.csv\", \"sts-dev.csv\", \"sts-test.csv\",] # 3 datasets\n",
        "col_names = [\"genre\", \"file\", \"years\", \"_\", \"score(0-5)\", \"sentence_1\", \"sentence_2\"] #columns names\n",
        "\n",
        "text_tokenizer = SpacyTokenizer() #tokenizer\n",
        "elmo_indexer = ELMoTokenCharactersIndexer() #character Indexer\n",
        "\n",
        "dataset_reader = SemanticTextDataReader(tokenizer= text_tokenizer,  token_indexers={'tokens': elmo_indexer}, max_tokens=70) #initiate dataset reader\n",
        "train_instances, dev_instances, test_instances = (dataset_reader.read(os.path.join(file_path, file_name)) for file_name in dataset_types)"
      ],
      "execution_count": 122,
      "outputs": [
        {
          "output_type": "stream",
          "text": [
            "143it [00:00, 1425.46it/s]"
          ],
          "name": "stderr"
        },
        {
          "output_type": "stream",
          "text": [
            "Data reading started .....\n"
          ],
          "name": "stdout"
        },
        {
          "output_type": "stream",
          "text": [
            "5749it [00:03, 1626.39it/s]\n",
            "251it [00:00, 2503.72it/s]"
          ],
          "name": "stderr"
        },
        {
          "output_type": "stream",
          "text": [
            "...... Completed.\n",
            "\n",
            "Data reading started .....\n"
          ],
          "name": "stdout"
        },
        {
          "output_type": "stream",
          "text": [
            "1500it [00:00, 1705.45it/s]\n",
            "238it [00:00, 2370.96it/s]"
          ],
          "name": "stderr"
        },
        {
          "output_type": "stream",
          "text": [
            "...... Completed.\n",
            "\n",
            "Data reading started .....\n"
          ],
          "name": "stdout"
        },
        {
          "output_type": "stream",
          "text": [
            "1379it [00:00, 1934.58it/s]"
          ],
          "name": "stderr"
        },
        {
          "output_type": "stream",
          "text": [
            "...... Completed.\n",
            "\n"
          ],
          "name": "stdout"
        },
        {
          "output_type": "stream",
          "text": [
            "\n"
          ],
          "name": "stderr"
        }
      ]
    },
    {
      "cell_type": "code",
      "metadata": {
        "id": "H__kk72G_MML",
        "colab_type": "code",
        "colab": {}
      },
      "source": [
        ""
      ],
      "execution_count": null,
      "outputs": []
    },
    {
      "cell_type": "code",
      "metadata": {
        "id": "7xiahAXd_L5l",
        "colab_type": "code",
        "colab": {}
      },
      "source": [
        ""
      ],
      "execution_count": null,
      "outputs": []
    },
    {
      "cell_type": "code",
      "metadata": {
        "id": "4Big6eELKI4a",
        "colab_type": "code",
        "colab": {
          "base_uri": "https://localhost:8080/",
          "height": 323
        },
        "outputId": "bcef8cd1-37a8-44aa-fc2b-913c6e640be8"
      },
      "source": [
        "#check the dataset instances\n",
        "for x in train_instances[:2]:\n",
        "  print(x)"
      ],
      "execution_count": 102,
      "outputs": [
        {
          "output_type": "stream",
          "text": [
            "Instance with fields:\n",
            " \t first_sent: TextField of length 6 with text: \n",
            " \t\t[A, plane, is, taking, off, .]\n",
            " \t\tand TokenIndexers : {'tokens': 'ELMoTokenCharactersIndexer'} \n",
            " \t second_sent: TextField of length 7 with text: \n",
            " \t\t[An, air, plane, is, taking, off, .]\n",
            " \t\tand TokenIndexers : {'tokens': 'ELMoTokenCharactersIndexer'} \n",
            " \t score: ArrayField with shape: (1,) and dtype: <class 'numpy.float32'>. \n",
            "\n",
            "Instance with fields:\n",
            " \t first_sent: TextField of length 8 with text: \n",
            " \t\t[A, man, is, playing, a, large, flute, .]\n",
            " \t\tand TokenIndexers : {'tokens': 'ELMoTokenCharactersIndexer'} \n",
            " \t second_sent: TextField of length 7 with text: \n",
            " \t\t[A, man, is, playing, a, flute, .]\n",
            " \t\tand TokenIndexers : {'tokens': 'ELMoTokenCharactersIndexer'} \n",
            " \t score: ArrayField with shape: (1,) and dtype: <class 'numpy.float32'>. \n",
            "\n"
          ],
          "name": "stdout"
        }
      ]
    },
    {
      "cell_type": "code",
      "metadata": {
        "id": "xtbHTDPsCmXH",
        "colab_type": "code",
        "colab": {}
      },
      "source": [
        ""
      ],
      "execution_count": null,
      "outputs": []
    },
    {
      "cell_type": "code",
      "metadata": {
        "id": "e-vUUHPbPG7o",
        "colab_type": "code",
        "colab": {}
      },
      "source": [
        "#vars(train_instances[1].fields['text_1'])"
      ],
      "execution_count": null,
      "outputs": []
    },
    {
      "cell_type": "code",
      "metadata": {
        "id": "ltOXFnyUPGr_",
        "colab_type": "code",
        "colab": {
          "base_uri": "https://localhost:8080/",
          "height": 34
        },
        "outputId": "bb22027a-3863-4c2b-831b-f5024da24913"
      },
      "source": [
        "train_instances[1]['text_1'][:]\n"
      ],
      "execution_count": null,
      "outputs": [
        {
          "output_type": "execute_result",
          "data": {
            "text/plain": [
              "[A, man, is, playing, a, large, flute, .]"
            ]
          },
          "metadata": {
            "tags": []
          },
          "execution_count": 39
        }
      ]
    },
    {
      "cell_type": "code",
      "metadata": {
        "id": "RBZIwZXwV69V",
        "colab_type": "code",
        "colab": {}
      },
      "source": [
        ""
      ],
      "execution_count": null,
      "outputs": []
    },
    {
      "cell_type": "markdown",
      "metadata": {
        "id": "jO7-P317Ut3T",
        "colab_type": "text"
      },
      "source": [
        "#Prepare Vocabulary and Data iterator"
      ]
    },
    {
      "cell_type": "code",
      "metadata": {
        "id": "Fkzy4ErF4Pvd",
        "colab_type": "code",
        "colab": {}
      },
      "source": [
        "#prepare vocabulary and data iterator\n",
        "vocab = Vocabulary() #initiate vocabulary object\n",
        "train_instances.index_with(vocab) #index tokens \n",
        "dev_instances.index_with(vocab)\n",
        "test_instances.index_with(vocab)\n",
        "\n",
        "#random sample and batch train data\n",
        "sampler_tr = RandomSampler(data_source=train_instances) \n",
        "batch_sampler_tr = BasicBatchSampler(sampler_tr, batch_size=32, drop_last=False) \n",
        "train_data_loader = DataLoader(train_instances, batch_sampler= batch_sampler_tr)\n",
        "\n",
        "#random sample and batch dev data\n",
        "sampler_dev = RandomSampler(data_source=dev_instances) \n",
        "batch_sampler_dev = BasicBatchSampler(sampler_dev, batch_size=32, drop_last=False)\n",
        "dev_data_loader = DataLoader(dev_instances, batch_sampler=batch_sampler_dev) #dev data\n",
        "\n",
        "\n",
        "#random sample and batch test data\n",
        "sampler_test = RandomSampler(data_source=test_instances) \n",
        "batch_sampler_test = BasicBatchSampler(sampler_test, batch_size=32, drop_last=False)\n",
        "test_data_loader = DataLoader(test_instances, batch_sampler= batch_sampler_test) \n",
        "\n"
      ],
      "execution_count": 103,
      "outputs": []
    },
    {
      "cell_type": "code",
      "metadata": {
        "id": "bx1bHpNjhFKo",
        "colab_type": "code",
        "colab": {
          "base_uri": "https://localhost:8080/",
          "height": 1000
        },
        "outputId": "c5e7208f-bc98-4673-bcdf-7b4977504e14"
      },
      "source": [
        "#lets look test data loader \n",
        "batch = next(iter(test_data_loader))\n",
        "batch\n",
        "\n"
      ],
      "execution_count": 104,
      "outputs": [
        {
          "output_type": "execute_result",
          "data": {
            "text/plain": [
              "{'first_sent': {'tokens': {'elmo_tokens': tensor([[[259,  85, 105,  ..., 261, 261, 261],\n",
              "            [259, 100,  98,  ..., 261, 261, 261],\n",
              "            [259,  99, 102,  ..., 261, 261, 261],\n",
              "            ...,\n",
              "            [  0,   0,   0,  ...,   0,   0,   0],\n",
              "            [  0,   0,   0,  ...,   0,   0,   0],\n",
              "            [  0,   0,   0,  ...,   0,   0,   0]],\n",
              "   \n",
              "           [[259,  66, 260,  ..., 261, 261, 261],\n",
              "            [259, 110,  98,  ..., 261, 261, 261],\n",
              "            [259, 116, 106,  ..., 261, 261, 261],\n",
              "            ...,\n",
              "            [  0,   0,   0,  ...,   0,   0,   0],\n",
              "            [  0,   0,   0,  ...,   0,   0,   0],\n",
              "            [  0,   0,   0,  ...,   0,   0,   0]],\n",
              "   \n",
              "           [[259,  73,  98,  ..., 261, 261, 261],\n",
              "            [259, 113,  98,  ..., 261, 261, 261],\n",
              "            [259, 104,  98,  ..., 261, 261, 261],\n",
              "            ...,\n",
              "            [  0,   0,   0,  ...,   0,   0,   0],\n",
              "            [  0,   0,   0,  ...,   0,   0,   0],\n",
              "            [  0,   0,   0,  ...,   0,   0,   0]],\n",
              "   \n",
              "           ...,\n",
              "   \n",
              "           [[259,  66, 106,  ..., 261, 261, 261],\n",
              "            [259, 116, 117,  ..., 261, 261, 261],\n",
              "            [259, 108, 106,  ..., 261, 261, 261],\n",
              "            ...,\n",
              "            [  0,   0,   0,  ...,   0,   0,   0],\n",
              "            [  0,   0,   0,  ...,   0,   0,   0],\n",
              "            [  0,   0,   0,  ...,   0,   0,   0]],\n",
              "   \n",
              "           [[259,  66, 260,  ..., 261, 261, 261],\n",
              "            [259,  99, 109,  ..., 261, 261, 261],\n",
              "            [259,  98, 111,  ..., 261, 261, 261],\n",
              "            ...,\n",
              "            [  0,   0,   0,  ...,   0,   0,   0],\n",
              "            [  0,   0,   0,  ...,   0,   0,   0],\n",
              "            [  0,   0,   0,  ...,   0,   0,   0]],\n",
              "   \n",
              "           [[259,  66, 260,  ..., 261, 261, 261],\n",
              "            [259, 113, 102,  ..., 261, 261, 261],\n",
              "            [259, 106, 116,  ..., 261, 261, 261],\n",
              "            ...,\n",
              "            [  0,   0,   0,  ...,   0,   0,   0],\n",
              "            [  0,   0,   0,  ...,   0,   0,   0],\n",
              "            [  0,   0,   0,  ...,   0,   0,   0]]])}},\n",
              " 'score': tensor([[0.0000],\n",
              "         [0.0000],\n",
              "         [0.2000],\n",
              "         [0.4500],\n",
              "         [0.6000],\n",
              "         [0.0000],\n",
              "         [0.0800],\n",
              "         [1.0000],\n",
              "         [0.4000],\n",
              "         [0.2400],\n",
              "         [0.6400],\n",
              "         [0.4000],\n",
              "         [0.2000],\n",
              "         [0.7334],\n",
              "         [0.7600],\n",
              "         [0.5200],\n",
              "         [1.0000],\n",
              "         [0.4000],\n",
              "         [0.4800],\n",
              "         [0.4000],\n",
              "         [0.5000],\n",
              "         [0.4000],\n",
              "         [1.0000],\n",
              "         [0.1500],\n",
              "         [0.0000],\n",
              "         [0.2000],\n",
              "         [0.1200],\n",
              "         [0.1000],\n",
              "         [0.7600],\n",
              "         [0.5600],\n",
              "         [0.4000],\n",
              "         [0.7500]]),\n",
              " 'second_sent': {'tokens': {'elmo_tokens': tensor([[[259,  90, 102,  ..., 261, 261, 261],\n",
              "            [259,  45, 260,  ..., 261, 261, 261],\n",
              "            [259,  98, 109,  ..., 261, 261, 261],\n",
              "            ...,\n",
              "            [  0,   0,   0,  ...,   0,   0,   0],\n",
              "            [  0,   0,   0,  ...,   0,   0,   0],\n",
              "            [  0,   0,   0,  ...,   0,   0,   0]],\n",
              "   \n",
              "           [[259,  80, 100,  ..., 261, 261, 261],\n",
              "            [259, 109, 106,  ..., 261, 261, 261],\n",
              "            [259, 100, 109,  ..., 261, 261, 261],\n",
              "            ...,\n",
              "            [  0,   0,   0,  ...,   0,   0,   0],\n",
              "            [  0,   0,   0,  ...,   0,   0,   0],\n",
              "            [  0,   0,   0,  ...,   0,   0,   0]],\n",
              "   \n",
              "           [[259,  86,  84,  ..., 261, 261, 261],\n",
              "            [259,  84, 102,  ..., 261, 261, 261],\n",
              "            [259, 113,  98,  ..., 261, 261, 261],\n",
              "            ...,\n",
              "            [  0,   0,   0,  ...,   0,   0,   0],\n",
              "            [  0,   0,   0,  ...,   0,   0,   0],\n",
              "            [  0,   0,   0,  ...,   0,   0,   0]],\n",
              "   \n",
              "           ...,\n",
              "   \n",
              "           [[259,  86,  84,  ..., 261, 261, 261],\n",
              "            [259, 101, 115,  ..., 261, 261, 261],\n",
              "            [259, 116, 117,  ..., 261, 261, 261],\n",
              "            ...,\n",
              "            [  0,   0,   0,  ...,   0,   0,   0],\n",
              "            [  0,   0,   0,  ...,   0,   0,   0],\n",
              "            [  0,   0,   0,  ...,   0,   0,   0]],\n",
              "   \n",
              "           [[259,  66, 260,  ..., 261, 261, 261],\n",
              "            [259, 120, 105,  ..., 261, 261, 261],\n",
              "            [259, 101, 112,  ..., 261, 261, 261],\n",
              "            ...,\n",
              "            [  0,   0,   0,  ...,   0,   0,   0],\n",
              "            [  0,   0,   0,  ...,   0,   0,   0],\n",
              "            [  0,   0,   0,  ...,   0,   0,   0]],\n",
              "   \n",
              "           [[259,  66, 260,  ..., 261, 261, 261],\n",
              "            [259, 113, 102,  ..., 261, 261, 261],\n",
              "            [259, 106, 116,  ..., 261, 261, 261],\n",
              "            ...,\n",
              "            [  0,   0,   0,  ...,   0,   0,   0],\n",
              "            [  0,   0,   0,  ...,   0,   0,   0],\n",
              "            [  0,   0,   0,  ...,   0,   0,   0]]])}}}"
            ]
          },
          "metadata": {
            "tags": []
          },
          "execution_count": 104
        }
      ]
    },
    {
      "cell_type": "code",
      "metadata": {
        "id": "FiPtzrJ51inZ",
        "colab_type": "code",
        "colab": {}
      },
      "source": [
        ""
      ],
      "execution_count": 104,
      "outputs": []
    },
    {
      "cell_type": "code",
      "metadata": {
        "id": "-C6PRnkbg8xT",
        "colab_type": "code",
        "colab": {
          "base_uri": "https://localhost:8080/",
          "height": 187
        },
        "outputId": "f9168262-60f7-49ce-8684-fb63f4ebd1b5"
      },
      "source": [
        "#a single batch contains collection of tokens and  single token is ocnverted into array of  character ids of 50 size\n",
        "print('Batch shape :', batch['first_sent']['tokens']['elmo_tokens'].shape) #(batch size, token length, char dim)\n",
        "print()\n",
        "print('tokens in a sequence: ')\n",
        "batch['first_sent']['tokens']['elmo_tokens'][0]"
      ],
      "execution_count": 105,
      "outputs": [
        {
          "output_type": "stream",
          "text": [
            "Batch shape : torch.Size([32, 28, 50])\n",
            "\n",
            "tokens in a sequence: \n"
          ],
          "name": "stdout"
        },
        {
          "output_type": "execute_result",
          "data": {
            "text/plain": [
              "tensor([[259,  85, 105,  ..., 261, 261, 261],\n",
              "        [259, 100,  98,  ..., 261, 261, 261],\n",
              "        [259,  99, 102,  ..., 261, 261, 261],\n",
              "        ...,\n",
              "        [  0,   0,   0,  ...,   0,   0,   0],\n",
              "        [  0,   0,   0,  ...,   0,   0,   0],\n",
              "        [  0,   0,   0,  ...,   0,   0,   0]])"
            ]
          },
          "metadata": {
            "tags": []
          },
          "execution_count": 105
        }
      ]
    },
    {
      "cell_type": "code",
      "metadata": {
        "id": "nWN5GwZmgfQx",
        "colab_type": "code",
        "colab": {}
      },
      "source": [
        ""
      ],
      "execution_count": null,
      "outputs": []
    },
    {
      "cell_type": "code",
      "metadata": {
        "id": "wWZBW3Zk_Wql",
        "colab_type": "code",
        "colab": {
          "base_uri": "https://localhost:8080/",
          "height": 51
        },
        "outputId": "ab5f71c4-0b96-4280-f88e-6bc274a1804e"
      },
      "source": [
        " \n",
        "# token indexer is responsible for mapping tokens to token id\n",
        "from allennlp.modules.elmo import Elmo, batch_to_ids\n",
        "from allennlp.modules.text_field_embedders import BasicTextFieldEmbedder\n",
        "from allennlp.modules.token_embedders import ElmoTokenEmbedder\n",
        "from allennlp.modules.seq2vec_encoders import Seq2VecEncoder\n",
        "from allennlp.modules.seq2vec_encoders import BagOfEmbeddingsEncoder\n",
        "\n",
        "weight_file = 'https://s3-us-west-2.amazonaws.com/allennlp/models/elmo/2x4096_512_2048cnn_2xhighway/elmo_2x4096_512_2048cnn_2xhighway_weights.hdf5'\n",
        "options_file = 'https://s3-us-west-2.amazonaws.com/allennlp/models/elmo/2x4096_512_2048cnn_2xhighway/elmo_2x4096_512_2048cnn_2xhighway_options.json'\n",
        " \n",
        "#Two ways  ELMo representation can be computated\n",
        "# 1. ElmoTokenEmbeder \n",
        "elmo_embedding = ElmoTokenEmbedder(options_file = options_file, weight_file = weight_file, requires_grad = True)\n",
        "word_embedding = BasicTextFieldEmbedder({\"elmo_tokens\": elmo_embedding}) \n",
        "\n",
        "#2. Elmo module\n",
        "elmo_embedder = Elmo( options_file, \n",
        "                     weight_file,\n",
        "                     num_output_representations =1,\n",
        "                     requires_grad = True,\n",
        "                     ) \n"
      ],
      "execution_count": 17,
      "outputs": [
        {
          "output_type": "stream",
          "text": [
            "100%|██████████| 336/336 [00:00<00:00, 259776.25B/s]\n",
            "100%|██████████| 374434792/374434792 [00:25<00:00, 14868272.85B/s]\n"
          ],
          "name": "stderr"
        }
      ]
    },
    {
      "cell_type": "code",
      "metadata": {
        "id": "q85YttKVT4qw",
        "colab_type": "code",
        "colab": {}
      },
      "source": [
        "from allennlp.modules.seq2vec_encoders import PytorchSeq2VecWrapper\n",
        "encoder: Seq2VecEncoder = PytorchSeq2VecWrapper(nn.LSTM(word_embedding.get_output_dim(), 64, bidirectional=True, batch_first=True))"
      ],
      "execution_count": null,
      "outputs": []
    },
    {
      "cell_type": "code",
      "metadata": {
        "id": "bUsK9K5Wuffd",
        "colab_type": "code",
        "colab": {
          "base_uri": "https://localhost:8080/",
          "height": 34
        },
        "outputId": "b1cf8d8a-22af-4e98-91b1-c2a10a8cc6ec"
      },
      "source": [
        "type(word_embedding)"
      ],
      "execution_count": null,
      "outputs": [
        {
          "output_type": "execute_result",
          "data": {
            "text/plain": [
              "allennlp.modules.text_field_embedders.basic_text_field_embedder.BasicTextFieldEmbedder"
            ]
          },
          "metadata": {
            "tags": []
          },
          "execution_count": 208
        }
      ]
    },
    {
      "cell_type": "code",
      "metadata": {
        "id": "R4CeXw8uufKC",
        "colab_type": "code",
        "colab": {}
      },
      "source": [
        ""
      ],
      "execution_count": null,
      "outputs": []
    },
    {
      "cell_type": "code",
      "metadata": {
        "id": "KHzmENF1Teiv",
        "colab_type": "code",
        "colab": {
          "base_uri": "https://localhost:8080/",
          "height": 833
        },
        "outputId": "b186ee06-8c99-4bb0-a186-990bebaba389"
      },
      "source": [
        "\n",
        "# use batch_to_ids to convert tokens into character ids and padding in a batch\n",
        "sentences = [['First', 'sentence', '.'], ['First', 'sentence', '.', 'hello']]\n",
        "character_ids = batch_to_ids(sentences) # (len(batch), max sentence length, max word length)\n",
        "print(character_ids)\n",
        "\n",
        "\n",
        "#tokens embeddig with mask\n",
        "embeddings_ = elmo_embedder(character_ids)\n",
        "#elmo_embedder = elmo_embedder.to(device)\n",
        "#embeddings_ = elmo_embedder(character_ids.to(device) )\n",
        "print('\\nEmbedded vectors with mask: \\n')\n",
        "embeddings_\n"
      ],
      "execution_count": null,
      "outputs": [
        {
          "output_type": "stream",
          "text": [
            "tensor([[[259,  71, 106, 115, 116, 117, 260, 261, 261, 261, 261, 261, 261, 261,\n",
            "          261, 261, 261, 261, 261, 261, 261, 261, 261, 261, 261, 261, 261, 261,\n",
            "          261, 261, 261, 261, 261, 261, 261, 261, 261, 261, 261, 261, 261, 261,\n",
            "          261, 261, 261, 261, 261, 261, 261, 261],\n",
            "         [259, 116, 102, 111, 117, 102, 111, 100, 102, 260, 261, 261, 261, 261,\n",
            "          261, 261, 261, 261, 261, 261, 261, 261, 261, 261, 261, 261, 261, 261,\n",
            "          261, 261, 261, 261, 261, 261, 261, 261, 261, 261, 261, 261, 261, 261,\n",
            "          261, 261, 261, 261, 261, 261, 261, 261],\n",
            "         [259,  47, 260, 261, 261, 261, 261, 261, 261, 261, 261, 261, 261, 261,\n",
            "          261, 261, 261, 261, 261, 261, 261, 261, 261, 261, 261, 261, 261, 261,\n",
            "          261, 261, 261, 261, 261, 261, 261, 261, 261, 261, 261, 261, 261, 261,\n",
            "          261, 261, 261, 261, 261, 261, 261, 261],\n",
            "         [  0,   0,   0,   0,   0,   0,   0,   0,   0,   0,   0,   0,   0,   0,\n",
            "            0,   0,   0,   0,   0,   0,   0,   0,   0,   0,   0,   0,   0,   0,\n",
            "            0,   0,   0,   0,   0,   0,   0,   0,   0,   0,   0,   0,   0,   0,\n",
            "            0,   0,   0,   0,   0,   0,   0,   0]],\n",
            "\n",
            "        [[259,  71, 106, 115, 116, 117, 260, 261, 261, 261, 261, 261, 261, 261,\n",
            "          261, 261, 261, 261, 261, 261, 261, 261, 261, 261, 261, 261, 261, 261,\n",
            "          261, 261, 261, 261, 261, 261, 261, 261, 261, 261, 261, 261, 261, 261,\n",
            "          261, 261, 261, 261, 261, 261, 261, 261],\n",
            "         [259, 116, 102, 111, 117, 102, 111, 100, 102, 260, 261, 261, 261, 261,\n",
            "          261, 261, 261, 261, 261, 261, 261, 261, 261, 261, 261, 261, 261, 261,\n",
            "          261, 261, 261, 261, 261, 261, 261, 261, 261, 261, 261, 261, 261, 261,\n",
            "          261, 261, 261, 261, 261, 261, 261, 261],\n",
            "         [259,  47, 260, 261, 261, 261, 261, 261, 261, 261, 261, 261, 261, 261,\n",
            "          261, 261, 261, 261, 261, 261, 261, 261, 261, 261, 261, 261, 261, 261,\n",
            "          261, 261, 261, 261, 261, 261, 261, 261, 261, 261, 261, 261, 261, 261,\n",
            "          261, 261, 261, 261, 261, 261, 261, 261],\n",
            "         [259, 105, 102, 109, 109, 112, 260, 261, 261, 261, 261, 261, 261, 261,\n",
            "          261, 261, 261, 261, 261, 261, 261, 261, 261, 261, 261, 261, 261, 261,\n",
            "          261, 261, 261, 261, 261, 261, 261, 261, 261, 261, 261, 261, 261, 261,\n",
            "          261, 261, 261, 261, 261, 261, 261, 261]]])\n",
            "\n",
            "Embedded vectors with mask: \n",
            "\n"
          ],
          "name": "stdout"
        },
        {
          "output_type": "execute_result",
          "data": {
            "text/plain": [
              "{'elmo_representations': [tensor([[[ 0.0000, -0.0000, -0.0000,  ...,  0.0343, -0.8414, -0.0000],\n",
              "           [ 0.0000,  0.0000,  0.6081,  ..., -0.0000, -0.0000,  0.0000],\n",
              "           [-0.0000, -0.0000, -1.4011,  ..., -0.1939,  0.0000,  0.0000],\n",
              "           [ 0.0000,  0.0000,  0.0000,  ...,  0.0000,  0.0000,  0.0000]],\n",
              "  \n",
              "          [[ 0.0000, -0.3342, -0.0000,  ..., -0.0000, -0.8025,  0.3477],\n",
              "           [ 0.0000,  0.0028,  0.0000,  ..., -0.5260, -0.3161,  0.7929],\n",
              "           [-1.5470, -1.0505, -1.3284,  ..., -0.3676,  0.5629,  0.7064],\n",
              "           [ 0.0000, -1.6153, -0.1053,  ..., -1.1243,  0.0000,  0.2757]]],\n",
              "         grad_fn=<MulBackward0>)],\n",
              " 'mask': tensor([[ True,  True,  True, False],\n",
              "         [ True,  True,  True,  True]])}"
            ]
          },
          "metadata": {
            "tags": []
          },
          "execution_count": 20
        }
      ]
    },
    {
      "cell_type": "code",
      "metadata": {
        "id": "U1GX5gKo2nv8",
        "colab_type": "code",
        "colab": {}
      },
      "source": [
        ""
      ],
      "execution_count": null,
      "outputs": []
    },
    {
      "cell_type": "code",
      "metadata": {
        "id": "kSG9BXH7GH3s",
        "colab_type": "code",
        "colab": {
          "base_uri": "https://localhost:8080/",
          "height": 867
        },
        "outputId": "c5b58bdf-ae8a-460a-9cbd-2524f9410d93"
      },
      "source": [
        "elmo_embedder"
      ],
      "execution_count": null,
      "outputs": [
        {
          "output_type": "execute_result",
          "data": {
            "text/plain": [
              "Elmo(\n",
              "  (_elmo_lstm): _ElmoBiLm(\n",
              "    (_token_embedder): _ElmoCharacterEncoder(\n",
              "      (char_conv_0): Conv1d(16, 32, kernel_size=(1,), stride=(1,))\n",
              "      (char_conv_1): Conv1d(16, 32, kernel_size=(2,), stride=(1,))\n",
              "      (char_conv_2): Conv1d(16, 64, kernel_size=(3,), stride=(1,))\n",
              "      (char_conv_3): Conv1d(16, 128, kernel_size=(4,), stride=(1,))\n",
              "      (char_conv_4): Conv1d(16, 256, kernel_size=(5,), stride=(1,))\n",
              "      (char_conv_5): Conv1d(16, 512, kernel_size=(6,), stride=(1,))\n",
              "      (char_conv_6): Conv1d(16, 1024, kernel_size=(7,), stride=(1,))\n",
              "      (_highways): Highway(\n",
              "        (_layers): ModuleList(\n",
              "          (0): Linear(in_features=2048, out_features=4096, bias=True)\n",
              "          (1): Linear(in_features=2048, out_features=4096, bias=True)\n",
              "        )\n",
              "      )\n",
              "      (_projection): Linear(in_features=2048, out_features=512, bias=True)\n",
              "    )\n",
              "    (_elmo_lstm): ElmoLstm(\n",
              "      (forward_layer_0): LstmCellWithProjection(\n",
              "        (input_linearity): Linear(in_features=512, out_features=16384, bias=False)\n",
              "        (state_linearity): Linear(in_features=512, out_features=16384, bias=True)\n",
              "        (state_projection): Linear(in_features=4096, out_features=512, bias=False)\n",
              "      )\n",
              "      (backward_layer_0): LstmCellWithProjection(\n",
              "        (input_linearity): Linear(in_features=512, out_features=16384, bias=False)\n",
              "        (state_linearity): Linear(in_features=512, out_features=16384, bias=True)\n",
              "        (state_projection): Linear(in_features=4096, out_features=512, bias=False)\n",
              "      )\n",
              "      (forward_layer_1): LstmCellWithProjection(\n",
              "        (input_linearity): Linear(in_features=512, out_features=16384, bias=False)\n",
              "        (state_linearity): Linear(in_features=512, out_features=16384, bias=True)\n",
              "        (state_projection): Linear(in_features=4096, out_features=512, bias=False)\n",
              "      )\n",
              "      (backward_layer_1): LstmCellWithProjection(\n",
              "        (input_linearity): Linear(in_features=512, out_features=16384, bias=False)\n",
              "        (state_linearity): Linear(in_features=512, out_features=16384, bias=True)\n",
              "        (state_projection): Linear(in_features=4096, out_features=512, bias=False)\n",
              "      )\n",
              "    )\n",
              "  )\n",
              "  (_dropout): Dropout(p=0.5, inplace=False)\n",
              "  (scalar_mix_0): ScalarMix(\n",
              "    (scalar_parameters): ParameterList(\n",
              "        (0): Parameter containing: [torch.FloatTensor of size 1]\n",
              "        (1): Parameter containing: [torch.FloatTensor of size 1]\n",
              "        (2): Parameter containing: [torch.FloatTensor of size 1]\n",
              "    )\n",
              "  )\n",
              ")"
            ]
          },
          "metadata": {
            "tags": []
          },
          "execution_count": 21
        }
      ]
    },
    {
      "cell_type": "code",
      "metadata": {
        "id": "ltScQLmfvcqx",
        "colab_type": "code",
        "colab": {}
      },
      "source": [
        ""
      ],
      "execution_count": null,
      "outputs": []
    },
    {
      "cell_type": "code",
      "metadata": {
        "id": "hCOtEP4PvcXK",
        "colab_type": "code",
        "colab": {}
      },
      "source": [
        ""
      ],
      "execution_count": null,
      "outputs": []
    },
    {
      "cell_type": "markdown",
      "metadata": {
        "id": "ToNdpdSjE_ZF",
        "colab_type": "text"
      },
      "source": [
        "#Extract Sentence Level ELMo Embedding \n",
        "Calculate cosine similarity between a pair of sentence, and Pearson score and Spearman score between cosine similarity and gold score."
      ]
    },
    {
      "cell_type": "code",
      "metadata": {
        "id": "5OxW4fv433Ul",
        "colab_type": "code",
        "colab": {}
      },
      "source": [
        "%%time\n",
        "cos = nn.CosineSimilarity(dim=1, eps=1e-6) # for cosine similarity\n",
        "score = defaultdict(list) #store score\n",
        "\n",
        "#iterate over dev and test data loader\n",
        "for name, each_data_loader in zip(['dev', 'test'], [dev_data_loader, test_data_loader]):\n",
        "   \n",
        "  pear_score_list = [] #pearson score\n",
        "  sperman_score_list = [] # sperman score \n",
        "\n",
        "  #iterate over each batchs\n",
        "  for batch in each_data_loader:\n",
        "    \n",
        "    #first sentence\n",
        "    elmo_embeding_1 = elmo_embedder(batch['first_sent']['tokens']['elmo_tokens']) #return token embeding and mask\n",
        "    token_level_embedding_1 = elmo_embeding_1['elmo_representations'][0] # token embedding\n",
        "    sent_level_embedding_1 = token_level_embedding_1.mean(dim=1) # tokens mean pooling\n",
        "    \n",
        "    #second sentence\n",
        "    elmo_embeding_2 = elmo_embedder(batch['second_sent']['tokens']['elmo_tokens'])\n",
        "    token_level_embedding_2 = elmo_embeding_2['elmo_representations'][0]\n",
        "    sent_level_embedding_2 = token_level_embedding_2.mean(dim=1)\n",
        "\n",
        "    #gold score\n",
        "    gold_score = batch['score']\n",
        "    gold_score = gold_score.flatten() # 1d\n",
        "    score[name+'_gold_score'].extend(gold_score) #extend to list\n",
        "    \n",
        "    #calculate cosine similarity between a pair of sentences\n",
        "    cosine_sim = cos(sent_level_embedding_1, sent_level_embedding_2)\n",
        "    cosine_sim = cosine_sim.detach() #numpy\n",
        "    score[name+'_cosine_score'].extend(cosine_sim) #extend to list\n",
        "    \n",
        "    #calcualte Pearson score\n",
        "    person_score, _ = pearsonr(gold_score, cosine_sim) \n",
        "    pear_score_list.append(person_score)\n",
        "  \n",
        "    #calcualte Spearman score\n",
        "    sperman_score, _ = spearmanr(gold_score, cosine_sim) \n",
        "    sperman_score_list.append(sperman_score)\n",
        "  \n",
        "  print('Score in ',name)\n",
        "  print('=='*5)\n",
        "  print('Pearson score: {}'.format(np.mean(pear_score_list)))\n",
        "  print('Spearman score: {}'.format(np.mean(sperman_score_list)))\n",
        "  print()\n",
        "  \n",
        "print('Score in whole data with out batching')\n",
        "print('dev_set score')\n",
        "print('=='*5)\n",
        "print('Pearson score: {}'.format(pearsonr(score['dev_gold_score'], score['dev_cosine_score'])[0]))\n",
        "print('Spearman score: {}'.format(spearmanr(score['dev_gold_score'], score['dev_cosine_score'])[0]))\n",
        "print()\n",
        "print('test_set score')\n",
        "print('=='*5)\n",
        "print('Pearson score: {}'.format(pearsonr(score['test_gold_score'], score['test_cosine_score'])[0]))\n",
        "print('Spearman score: {}'.format(spearmanr(score['test_gold_score'], score['test_cosine_score'])[0]))\n",
        "  \n",
        "  \n"
      ],
      "execution_count": 255,
      "outputs": []
    },
    {
      "cell_type": "code",
      "metadata": {
        "id": "6k8STBc9WiWm",
        "colab_type": "code",
        "colab": {}
      },
      "source": [
        "\n"
      ],
      "execution_count": null,
      "outputs": []
    },
    {
      "cell_type": "code",
      "metadata": {
        "id": "eH5bAMazGRr0",
        "colab_type": "code",
        "colab": {}
      },
      "source": [
        "#define function to extract elmo embedding\n",
        "def elmo_feature_embedding(data: [str], \n",
        "                           elmo_embedder: BasicTextFieldEmbedder,\n",
        "                           tokenizer: Tokenizer, \n",
        "                           token_indexer: ELMoTokenCharactersIndexer, \n",
        "                           vocab: Vocabulary\n",
        "                           ):\n",
        "  '''\n",
        "  Extract elmo embedding of given sequence.\n",
        "\n",
        "    Args:\n",
        "      data(list): list of strings/sequences\n",
        "      elmo_embedder: allennlp elmo TextField embedder object\n",
        "      tokenizer: allennlp SpacyTokenizer object\n",
        "      token_indexer: allennlp ELMoTokenCharactersIndexer object\n",
        "      vocab: allennlp vocabualry object\n",
        "\n",
        "    Returns:\n",
        "       Sentence embedding(2d) of 1024 dimensions\n",
        "  \n",
        "  '''\n",
        "\n",
        "  #empty array to store elmo embedding vectors\n",
        "  sent_embedded = np.empty((0, 1024)) # size(,1024) \n",
        "  \n",
        "  #iterate over sequence \n",
        "  for sequence in data:\n",
        "    tokens = tokenizer.tokenize(sequence) # tokenize sequence\n",
        "    text_field = TextField(tokens, {'elmo_tokens': token_indexer}) #tokens to ELMoTokenCharactersIndexer\n",
        "    text_field.index(vocab) #character_ids based on vocab\n",
        "    padding_lengths = text_field.get_padding_lengths() # get tokens length\n",
        "    tensor_dict = text_field.as_tensor(padding_lengths) #change to TextFieldTensors\n",
        "    batch_tensor_dict = text_field.batch_tensors([tensor_dict]) # batch_tensor\n",
        "    elmo_embedded = elmo_embedder(batch_tensor_dict)# get token embedding\n",
        "    mean_tokens_embed = elmo_embedded.mean(dim=1)# mean pooling over tokens\n",
        "    sent_embedded = np.append(sent_embedded, mean_tokens_embed.detach().numpy(), axis=0) # append vertically\n",
        "    \n",
        "  return sent_embedded\n",
        "  \n"
      ],
      "execution_count": null,
      "outputs": []
    },
    {
      "cell_type": "code",
      "metadata": {
        "id": "ZTPJ5uLBxo-h",
        "colab_type": "code",
        "colab": {}
      },
      "source": [
        ""
      ],
      "execution_count": 255,
      "outputs": []
    },
    {
      "cell_type": "code",
      "metadata": {
        "id": "_FKPvRzXHWKH",
        "colab_type": "code",
        "colab": {}
      },
      "source": [
        "#initiate necessary class object\n",
        "text_tokenizer = SpacyTokenizer() #tokenizer\n",
        "elmo_indexer = ELMoTokenCharactersIndexer() #character Indexer\n",
        "vocab = Vocabulary()# initiate vocab\n",
        "\n",
        "elmo_token_embedder = ElmoTokenEmbedder(options_file, weight_file) #elmo token embedder\n",
        "elmo_textfield_embedder = BasicTextFieldEmbedder({\"elmo_tokens\": elmo_token_embedder}) #textfield embedder\n"
      ],
      "execution_count": null,
      "outputs": []
    },
    {
      "cell_type": "code",
      "metadata": {
        "id": "XMiE3mGAyfwJ",
        "colab_type": "code",
        "colab": {
          "base_uri": "https://localhost:8080/",
          "height": 51
        },
        "outputId": "ff3a3cdd-5c4b-433b-d81d-7696bfc2df67"
      },
      "source": [
        "%%time\n",
        "#extract embedding\n",
        "dev_first_sent_emlo_embeded = elmo_feature_embedding(df_dev.sentence_1.values.tolist(), elmo_textfield_embedder, text_tokenizer, elmo_indexer, vocab )\n",
        "dev_second_sent_emlo_embeded = elmo_feature_embedding(df_dev.sentence_2.values.tolist(), elmo_textfield_embedder, text_tokenizer, elmo_indexer, vocab )\n",
        "test_first_sent_emlo_embeded = elmo_feature_embedding(df_test.sentence_1.values.tolist(), elmo_textfield_embedder, text_tokenizer, elmo_indexer, vocab )\n",
        "test_second_sent_emlo_embeded = elmo_feature_embedding(df_test.sentence_2.values.tolist(), elmo_textfield_embedder, text_tokenizer, elmo_indexer, vocab )\n",
        "\n"
      ],
      "execution_count": null,
      "outputs": [
        {
          "output_type": "stream",
          "text": [
            "CPU times: user 25min 9s, sys: 1.2 s, total: 25min 10s\n",
            "Wall time: 25min 12s\n"
          ],
          "name": "stdout"
        }
      ]
    },
    {
      "cell_type": "code",
      "metadata": {
        "id": "sm_83Yv6H-cC",
        "colab_type": "code",
        "colab": {
          "base_uri": "https://localhost:8080/",
          "height": 51
        },
        "outputId": "b777528d-1233-4b9a-d10d-ffd7239acec1"
      },
      "source": [
        "#calcualte cosine similarity, pearson and spearman score\n",
        "elmo_pear_spear_score = defaultdict(list) #store scores\n",
        "dev_cos = calc_similarity_score(dev_first_sent_emlo_embeded, dev_second_sent_emlo_embeded).flatten()\n",
        "dev_pear, dev_spear = cal_pearson_spearman_score(dev_cos, df_dev.loc[:,'score(0-5)'].values )\n",
        "elmo_pear_spear_score['dev'].append(dev_pear)\n",
        "elmo_pear_spear_score['dev'].append(dev_pear)\n",
        "print('Dev data: Pearson score: {}, Spearman score: {}'.format(dev_pear,dev_spear))\n",
        "\n",
        "test_cos = calc_similarity_score(test_first_sent_emlo_embeded, test_second_sent_emlo_embeded).flatten()\n",
        "test_pear, test_spear = cal_pearson_spearman_score(test_cos, df_test.loc[:,'score(0-5)'].values )\n",
        "print('Test data: Pearson score: {}, Spearman score: {}'.format(test_pear,test_spear))\n",
        "\n",
        "\n"
      ],
      "execution_count": null,
      "outputs": [
        {
          "output_type": "stream",
          "text": [
            "Dev data: Pearson score: 0.6156837140767895, Spearman score: 0.6228056398813422\n",
            "Test data: Pearson score: 0.4802520423636257, Spearman score: 0.4572175016552449\n"
          ],
          "name": "stdout"
        }
      ]
    },
    {
      "cell_type": "code",
      "metadata": {
        "id": "K3FRDsil3Ff7",
        "colab_type": "code",
        "colab": {}
      },
      "source": [
        ""
      ],
      "execution_count": null,
      "outputs": []
    },
    {
      "cell_type": "code",
      "metadata": {
        "id": "AjpKxtQqxD0b",
        "colab_type": "code",
        "colab": {
          "base_uri": "https://localhost:8080/",
          "height": 111
        },
        "outputId": "547a6804-8f1c-4f18-d7ce-fb2da585a2c0"
      },
      "source": [
        "#show in panda dataframe\n",
        "pd.DataFrame.from_dict({'Pearson': [dev_pear, test_pear ] , 'Spearman': [ dev_spear,test_spear ]},\n",
        "                          orient='index',\n",
        "                          columns=['Dev_Data', 'Test_Data']\n",
        "                          )"
      ],
      "execution_count": null,
      "outputs": [
        {
          "output_type": "execute_result",
          "data": {
            "text/html": [
              "<div>\n",
              "<style scoped>\n",
              "    .dataframe tbody tr th:only-of-type {\n",
              "        vertical-align: middle;\n",
              "    }\n",
              "\n",
              "    .dataframe tbody tr th {\n",
              "        vertical-align: top;\n",
              "    }\n",
              "\n",
              "    .dataframe thead th {\n",
              "        text-align: right;\n",
              "    }\n",
              "</style>\n",
              "<table border=\"1\" class=\"dataframe\">\n",
              "  <thead>\n",
              "    <tr style=\"text-align: right;\">\n",
              "      <th></th>\n",
              "      <th>Dev_Data</th>\n",
              "      <th>Test_Data</th>\n",
              "    </tr>\n",
              "  </thead>\n",
              "  <tbody>\n",
              "    <tr>\n",
              "      <th>Pearson</th>\n",
              "      <td>0.615684</td>\n",
              "      <td>0.480252</td>\n",
              "    </tr>\n",
              "    <tr>\n",
              "      <th>Spearman</th>\n",
              "      <td>0.622806</td>\n",
              "      <td>0.457218</td>\n",
              "    </tr>\n",
              "  </tbody>\n",
              "</table>\n",
              "</div>"
            ],
            "text/plain": [
              "          Dev_Data  Test_Data\n",
              "Pearson   0.615684   0.480252\n",
              "Spearman  0.622806   0.457218"
            ]
          },
          "metadata": {
            "tags": []
          },
          "execution_count": 194
        }
      ]
    },
    {
      "cell_type": "code",
      "metadata": {
        "id": "YMVMz2NVOc8N",
        "colab_type": "code",
        "colab": {}
      },
      "source": [
        ""
      ],
      "execution_count": null,
      "outputs": []
    },
    {
      "cell_type": "code",
      "metadata": {
        "id": "VxmTgrBAt2T6",
        "colab_type": "code",
        "colab": {}
      },
      "source": [
        ""
      ],
      "execution_count": null,
      "outputs": []
    },
    {
      "cell_type": "markdown",
      "metadata": {
        "id": "M4tyyAHxt226",
        "colab_type": "text"
      },
      "source": [
        "#ELMO Fine-Tune"
      ]
    },
    {
      "cell_type": "code",
      "metadata": {
        "id": "02233QrFkE5C",
        "colab_type": "code",
        "colab": {}
      },
      "source": [
        "#define custom model for elmo fine-tuning\n",
        "class ElmoSentenceSimilarityModel(Model):\n",
        "  \"\"\" \n",
        "  Extract sentence embedding by meaning pooling over tokens in a sentence.\n",
        "  And, Calculate cosine similarity between extracted embeding of a pair of sentences.\n",
        "  \"\"\"\n",
        "  \n",
        "  def __init__(self, elmo_embedding: BasicTextFieldEmbedder, vocab: Vocabulary):\n",
        "    super().__init__(vocab)\n",
        "    self.elmo_embedding = elmo_embedding.to(device)\n",
        "    self.pearson = PearsonCorrelation()\n",
        "    self.cos = nn.CosineSimilarity(dim=1, eps=1e-6)\n",
        "    self.loss = nn.MSELoss()\n",
        "    \n",
        "  #produce prediction, and computes the loss\n",
        "  def forward(self, first_sent: TextFieldTensors, second_sent: TextFieldTensors, score: torch.Tensor):\n",
        "    \n",
        "\n",
        "    #first sentence embedding\n",
        "    first_token_ids = first_sent['tokens']['elmo_tokens'].to(device) #move to gpu\n",
        "    first_embedding = self.elmo_embedding(first_token_ids) #first sentence\n",
        "    first_tokens_embed = first_embedding['elmo_representations'][0] #token embedding\n",
        "    first_sent_embed = first_tokens_embed.mean(dim=1) # sentence embedding --> mean pooling over tokens\n",
        "    \n",
        "    #second sentence embedding\n",
        "    second_token_ids = second_sent['tokens']['elmo_tokens'].to(device)\n",
        "    second_embedding = self.elmo_embedding(second_token_ids) #second sentence\n",
        "    second_tokens_embed = second_embedding['elmo_representations'][0] \n",
        "    second_sent_embed = second_tokens_embed.mean(dim=1)\n",
        "\n",
        "    #cosine similarity\n",
        "    cosine_sim = self.cos(first_sent_embed, second_sent_embed)\n",
        "    \n",
        "    #check if glod label is given\n",
        "    if score is not None:\n",
        "       gold_score = score.to(device).flatten() #gold score\n",
        "\n",
        "       #compute loss\n",
        "       loss = self.loss(cosine_sim, gold_score) \n",
        "\n",
        "       #compute metric (pearson correlation)\n",
        "       self.pearson(cosine_sim, gold_score) \n",
        "    \n",
        "    #output \n",
        "    output = {'loss': loss, 'cos_sim': cosine_sim.detach().cpu().numpy() }\n",
        "\n",
        "    return output\n",
        "  \n",
        "  #get metric score\n",
        "  def get_metrics(self, reset: bool = False) -> Dict[str, float]:\n",
        "        return {'pearson(r)': self.pearson.get_metric(reset)}\n",
        "  \n",
        "    \n",
        "  "
      ],
      "execution_count": 18,
      "outputs": []
    },
    {
      "cell_type": "code",
      "metadata": {
        "id": "Aq-yNTFy_Oen",
        "colab_type": "code",
        "colab": {}
      },
      "source": [
        ""
      ],
      "execution_count": null,
      "outputs": []
    },
    {
      "cell_type": "code",
      "metadata": {
        "id": "cm9fQ19ITFMR",
        "colab_type": "code",
        "colab": {}
      },
      "source": [
        "\n",
        "batch = next(iter(train_data_loader))\n",
        "batch = util.move_to_device(batch, 0)\n",
        "batch "
      ],
      "execution_count": null,
      "outputs": []
    },
    {
      "cell_type": "code",
      "metadata": {
        "id": "SLNlHMHmwRTt",
        "colab_type": "code",
        "colab": {
          "base_uri": "https://localhost:8080/",
          "height": 153
        },
        "outputId": "0abb3ada-a28a-4441-a8bd-67021d7cb550"
      },
      "source": [
        "torch.manual_seed(1)\n",
        "emodel(batch['first_sent'], \n",
        "       batch['second_sent'], \n",
        "       batch['score']\n",
        "       )"
      ],
      "execution_count": null,
      "outputs": [
        {
          "output_type": "execute_result",
          "data": {
            "text/plain": [
              "{'cos_sim': array([ 0.84641093,  0.22871672,  0.46762115,  0.9001056 ,  0.8584955 ,\n",
              "         0.4211528 ,  0.41627073,  0.88218176,  0.5953551 ,  0.86244404,\n",
              "         0.82402235,  0.89177275,  0.8333887 ,  0.4143513 ,  0.34576544,\n",
              "         0.70232004,  0.6211435 ,  0.19726954,  0.91380817,  0.6690772 ,\n",
              "         0.69988114,  0.9280833 ,  0.6804008 ,  0.8507508 ,  0.31050768,\n",
              "         0.78284997,  0.86650854,  0.76835245,  0.88610476,  0.4545058 ,\n",
              "         0.82804865, -0.03797304], dtype=float32),\n",
              " 'loss': tensor(0.0484, device='cuda:0', grad_fn=<MseLossBackward>)}"
            ]
          },
          "metadata": {
            "tags": []
          },
          "execution_count": 104
        }
      ]
    },
    {
      "cell_type": "code",
      "metadata": {
        "id": "bwXj3mvDf_W3",
        "colab_type": "code",
        "colab": {}
      },
      "source": [
        "elmo_embedder = Elmo( options_file, \n",
        "                     weight_file,\n",
        "                     num_output_representations =1,\n",
        "                     requires_grad = True,\n",
        "                     ) "
      ],
      "execution_count": null,
      "outputs": []
    },
    {
      "cell_type": "code",
      "metadata": {
        "id": "gEYvA_epYcv0",
        "colab_type": "code",
        "colab": {
          "base_uri": "https://localhost:8080/",
          "height": 153
        },
        "outputId": "b982daa3-9e5f-45f1-9c9b-ee632c3b3e74"
      },
      "source": [
        "\n",
        "#elmo_embedderr = elmo_embedder.to(device)\n",
        "emodel(batch['first_sent'],\n",
        "       batch['second_sent'],\n",
        "       batch['score']\n",
        "       )\n"
      ],
      "execution_count": null,
      "outputs": [
        {
          "output_type": "execute_result",
          "data": {
            "text/plain": [
              "{'cos_sim': array([0.5463659 , 0.62613887, 0.68439764, 0.5734607 , 0.5786696 ,\n",
              "        0.60487163, 0.7261458 , 0.55614525, 0.6030174 , 0.54711515,\n",
              "        0.6663646 , 0.60272706, 0.5505538 , 0.65301967, 0.59795034,\n",
              "        0.57376724, 0.6265677 , 0.5509161 , 0.74961257, 0.5938232 ,\n",
              "        0.6433973 , 0.47192073, 0.430308  , 0.53487307, 0.6100597 ,\n",
              "        0.62518144, 0.54516923, 0.59951353, 0.69369376, 0.5142402 ,\n",
              "        0.6328629 , 0.3902581 ], dtype=float32),\n",
              " 'loss': array(0.08893989, dtype=float32)}"
            ]
          },
          "metadata": {
            "tags": []
          },
          "execution_count": 35
        }
      ]
    },
    {
      "cell_type": "code",
      "metadata": {
        "id": "oVXdmVakiK4W",
        "colab_type": "code",
        "colab": {}
      },
      "source": [
        ""
      ],
      "execution_count": null,
      "outputs": []
    },
    {
      "cell_type": "code",
      "metadata": {
        "id": "PW8Z9TNJf9OG",
        "colab_type": "code",
        "colab": {}
      },
      "source": [
        ""
      ],
      "execution_count": null,
      "outputs": []
    },
    {
      "cell_type": "code",
      "metadata": {
        "id": "dzqawdtHwQ-b",
        "colab_type": "code",
        "colab": {
          "base_uri": "https://localhost:8080/",
          "height": 232
        },
        "outputId": "51dbd4db-edad-42f2-e42c-8ff2577e4477"
      },
      "source": [
        "from allennlp.training.trainer import Trainer, GradientDescentTrainer\n",
        "import torch.optim as optim\n",
        "\n",
        "\n",
        "emodel = ElmoSentenceSimilarityModel(elmo_embedder, vocab)\n",
        "emodel = emodel.to(device)#gpu\n",
        "\n",
        "\n",
        "\n",
        "optimizer = optim.Adam(emodel.parameters())\n",
        "serialization_dir = '/content/drive/My Drive/Google_Colab/Elmo'\n",
        "\n",
        "#training setup\n",
        "trainer = GradientDescentTrainer( \n",
        "    model=emodel,\n",
        "    serialization_dir=serialization_dir,\n",
        "    data_loader = train_data_loader,\n",
        "    validation_data_loader = train_data_loader,\n",
        "    num_epochs = 10,\n",
        "    optimizer = optimizer,\n",
        "    cuda_device = 0,\n",
        "    )\n",
        "\n"
      ],
      "execution_count": 15,
      "outputs": [
        {
          "output_type": "error",
          "ename": "NameError",
          "evalue": "ignored",
          "traceback": [
            "\u001b[0;31m---------------------------------------------------------------------------\u001b[0m",
            "\u001b[0;31mNameError\u001b[0m                                 Traceback (most recent call last)",
            "\u001b[0;32m<ipython-input-15-29c04d7dc6d8>\u001b[0m in \u001b[0;36m<module>\u001b[0;34m()\u001b[0m\n\u001b[1;32m      3\u001b[0m \u001b[0;34m\u001b[0m\u001b[0m\n\u001b[1;32m      4\u001b[0m \u001b[0;34m\u001b[0m\u001b[0m\n\u001b[0;32m----> 5\u001b[0;31m \u001b[0memodel\u001b[0m \u001b[0;34m=\u001b[0m \u001b[0mElmoSentenceSimilarityModel\u001b[0m\u001b[0;34m(\u001b[0m\u001b[0melmo_embedder\u001b[0m\u001b[0;34m,\u001b[0m \u001b[0mvocab\u001b[0m\u001b[0;34m)\u001b[0m\u001b[0;34m\u001b[0m\u001b[0;34m\u001b[0m\u001b[0m\n\u001b[0m\u001b[1;32m      6\u001b[0m \u001b[0memodel\u001b[0m \u001b[0;34m=\u001b[0m \u001b[0memodel\u001b[0m\u001b[0;34m.\u001b[0m\u001b[0mto\u001b[0m\u001b[0;34m(\u001b[0m\u001b[0mdevice\u001b[0m\u001b[0;34m)\u001b[0m\u001b[0;31m#gpu\u001b[0m\u001b[0;34m\u001b[0m\u001b[0;34m\u001b[0m\u001b[0m\n\u001b[1;32m      7\u001b[0m \u001b[0;34m\u001b[0m\u001b[0m\n",
            "\u001b[0;31mNameError\u001b[0m: name 'ElmoSentenceSimilarityModel' is not defined"
          ]
        }
      ]
    },
    {
      "cell_type": "code",
      "metadata": {
        "id": "liKDzlD0U8n9",
        "colab_type": "code",
        "colab": {}
      },
      "source": [
        ""
      ],
      "execution_count": null,
      "outputs": []
    },
    {
      "cell_type": "code",
      "metadata": {
        "id": "bCSIaPkeU8Jq",
        "colab_type": "code",
        "colab": {}
      },
      "source": [
        "#import logging\n",
        "#logging.getLogger().setLevel(logging.CRITICAL)"
      ],
      "execution_count": null,
      "outputs": []
    },
    {
      "cell_type": "code",
      "metadata": {
        "id": "5iWzpzYbU7hc",
        "colab_type": "code",
        "colab": {}
      },
      "source": [
        ""
      ],
      "execution_count": null,
      "outputs": []
    },
    {
      "cell_type": "code",
      "metadata": {
        "id": "Eh9ZheDioxjD",
        "colab_type": "code",
        "colab": {
          "base_uri": "https://localhost:8080/"
        },
        "outputId": "00d30ecd-2ffe-4168-b8ce-571016bbd593"
      },
      "source": [
        "print(\"Starting training\\n\")\n",
        "train = trainer.train()\n",
        "print(\"\\nFinished training\")"
      ],
      "execution_count": null,
      "outputs": [
        {
          "output_type": "stream",
          "text": [
            "\n",
            "\n",
            "  0%|          | 0/180 [00:00<?, ?it/s]\u001b[A\u001b[A"
          ],
          "name": "stderr"
        },
        {
          "output_type": "stream",
          "text": [
            "Starting training\n",
            "\n"
          ],
          "name": "stdout"
        },
        {
          "output_type": "stream",
          "text": [
            "\n",
            "\n",
            "pearson(r): 0.5400, loss: 0.0793, reg_loss: 0.0000 ||:   1%|          | 1/180 [00:01<03:43,  1.25s/it]\u001b[A\u001b[A\n",
            "\n",
            "pearson(r): 0.4350, loss: 0.0784, reg_loss: 0.0000 ||:   1%|          | 2/180 [00:02<03:57,  1.34s/it]\u001b[A\u001b[A\n",
            "\n",
            "pearson(r): 0.4734, loss: 0.0695, reg_loss: 0.0000 ||:   2%|▏         | 3/180 [00:03<03:30,  1.19s/it]\u001b[A\u001b[A\n",
            "\n",
            "pearson(r): 0.5136, loss: 0.0710, reg_loss: 0.0000 ||:   2%|▏         | 4/180 [00:05<04:06,  1.40s/it]\u001b[A\u001b[A\n",
            "\n",
            "pearson(r): 0.5184, loss: 0.0639, reg_loss: 0.0000 ||:   3%|▎         | 5/180 [00:07<04:11,  1.44s/it]\u001b[A\u001b[A\n",
            "\n",
            "pearson(r): 0.5139, loss: 0.0665, reg_loss: 0.0000 ||:   3%|▎         | 6/180 [00:09<04:53,  1.69s/it]\u001b[A\u001b[A\n",
            "\n",
            "pearson(r): 0.5484, loss: 0.0615, reg_loss: 0.0000 ||:   4%|▍         | 7/180 [00:10<04:39,  1.62s/it]\u001b[A\u001b[A\n",
            "\n",
            "pearson(r): 0.5473, loss: 0.0618, reg_loss: 0.0000 ||:   4%|▍         | 8/180 [00:12<04:31,  1.58s/it]\u001b[A\u001b[A\n",
            "\n",
            "pearson(r): 0.5632, loss: 0.0614, reg_loss: 0.0000 ||:   5%|▌         | 9/180 [00:13<04:17,  1.50s/it]\u001b[A\u001b[A\n",
            "\n",
            "pearson(r): 0.5629, loss: 0.0600, reg_loss: 0.0000 ||:   6%|▌         | 10/180 [00:14<04:08,  1.46s/it]\u001b[A\u001b[A\n",
            "\n",
            "pearson(r): 0.5587, loss: 0.0594, reg_loss: 0.0000 ||:   6%|▌         | 11/180 [00:16<03:58,  1.41s/it]\u001b[A\u001b[A\n",
            "\n",
            "pearson(r): 0.5541, loss: 0.0607, reg_loss: 0.0000 ||:   7%|▋         | 12/180 [00:17<04:10,  1.49s/it]\u001b[A\u001b[A\n",
            "\n",
            "pearson(r): 0.5655, loss: 0.0604, reg_loss: 0.0000 ||:   7%|▋         | 13/180 [00:20<05:13,  1.88s/it]\u001b[A\u001b[A\n",
            "\n",
            "pearson(r): 0.5641, loss: 0.0592, reg_loss: 0.0000 ||:   8%|▊         | 14/180 [00:22<05:23,  1.95s/it]\u001b[A\u001b[A\n",
            "\n",
            "pearson(r): 0.5836, loss: 0.0585, reg_loss: 0.0000 ||:   8%|▊         | 15/180 [00:23<04:42,  1.71s/it]\u001b[A\u001b[A\n",
            "\n",
            "pearson(r): 0.5859, loss: 0.0582, reg_loss: 0.0000 ||:   9%|▉         | 16/180 [00:26<04:59,  1.82s/it]\u001b[A\u001b[A\n",
            "\n",
            "pearson(r): 0.5869, loss: 0.0580, reg_loss: 0.0000 ||:   9%|▉         | 17/180 [00:27<04:46,  1.76s/it]\u001b[A\u001b[A\n",
            "\n",
            "pearson(r): 0.6018, loss: 0.0565, reg_loss: 0.0000 ||:  10%|█         | 18/180 [00:29<04:39,  1.72s/it]\u001b[A\u001b[A\n",
            "\n",
            "pearson(r): 0.5960, loss: 0.0568, reg_loss: 0.0000 ||:  11%|█         | 19/180 [00:30<04:27,  1.66s/it]\u001b[A\u001b[A\n",
            "\n",
            "pearson(r): 0.5928, loss: 0.0564, reg_loss: 0.0000 ||:  11%|█         | 20/180 [00:32<04:06,  1.54s/it]\u001b[A\u001b[A\n",
            "\n",
            "pearson(r): 0.5947, loss: 0.0554, reg_loss: 0.0000 ||:  12%|█▏        | 21/180 [00:33<03:59,  1.50s/it]\u001b[A\u001b[A\n",
            "\n",
            "pearson(r): 0.6080, loss: 0.0547, reg_loss: 0.0000 ||:  12%|█▏        | 22/180 [00:34<03:36,  1.37s/it]\u001b[A\u001b[A\n",
            "\n",
            "pearson(r): 0.6072, loss: 0.0543, reg_loss: 0.0000 ||:  13%|█▎        | 23/180 [00:35<03:30,  1.34s/it]\u001b[A\u001b[A\n",
            "\n",
            "pearson(r): 0.6152, loss: 0.0540, reg_loss: 0.0000 ||:  13%|█▎        | 24/180 [00:37<03:31,  1.35s/it]\u001b[A\u001b[A\n",
            "\n",
            "pearson(r): 0.6079, loss: 0.0543, reg_loss: 0.0000 ||:  14%|█▍        | 25/180 [00:38<03:48,  1.48s/it]\u001b[A\u001b[A\n",
            "\n",
            "pearson(r): 0.6078, loss: 0.0545, reg_loss: 0.0000 ||:  14%|█▍        | 26/180 [00:40<03:47,  1.48s/it]\u001b[A\u001b[A\n",
            "\n",
            "pearson(r): 0.6098, loss: 0.0546, reg_loss: 0.0000 ||:  15%|█▌        | 27/180 [00:41<03:39,  1.44s/it]\u001b[A\u001b[A\n",
            "\n",
            "pearson(r): 0.6124, loss: 0.0543, reg_loss: 0.0000 ||:  16%|█▌        | 28/180 [00:43<03:50,  1.52s/it]\u001b[A\u001b[A\n",
            "\n",
            "pearson(r): 0.6109, loss: 0.0541, reg_loss: 0.0000 ||:  16%|█▌        | 29/180 [00:44<03:45,  1.50s/it]\u001b[A\u001b[A\n",
            "\n",
            "pearson(r): 0.6106, loss: 0.0546, reg_loss: 0.0000 ||:  17%|█▋        | 30/180 [00:47<04:53,  1.96s/it]\u001b[A\u001b[A\n",
            "\n",
            "pearson(r): 0.6108, loss: 0.0546, reg_loss: 0.0000 ||:  17%|█▋        | 31/180 [00:49<04:26,  1.79s/it]\u001b[A\u001b[A\n",
            "\n",
            "pearson(r): 0.6179, loss: 0.0543, reg_loss: 0.0000 ||:  18%|█▊        | 32/180 [00:50<04:15,  1.73s/it]\u001b[A\u001b[A\n",
            "\n",
            "pearson(r): 0.6181, loss: 0.0540, reg_loss: 0.0000 ||:  18%|█▊        | 33/180 [00:52<04:08,  1.69s/it]\u001b[A\u001b[A\n",
            "\n",
            "pearson(r): 0.6184, loss: 0.0541, reg_loss: 0.0000 ||:  19%|█▉        | 34/180 [00:54<04:08,  1.70s/it]\u001b[A\u001b[A\n",
            "\n",
            "pearson(r): 0.6189, loss: 0.0537, reg_loss: 0.0000 ||:  19%|█▉        | 35/180 [00:55<04:00,  1.66s/it]\u001b[A\u001b[A\n",
            "\n",
            "pearson(r): 0.6126, loss: 0.0540, reg_loss: 0.0000 ||:  20%|██        | 36/180 [00:58<04:26,  1.85s/it]\u001b[A\u001b[A\n",
            "\n",
            "pearson(r): 0.6171, loss: 0.0538, reg_loss: 0.0000 ||:  21%|██        | 37/180 [00:59<04:03,  1.70s/it]\u001b[A\u001b[A\n",
            "\n",
            "pearson(r): 0.6154, loss: 0.0534, reg_loss: 0.0000 ||:  21%|██        | 38/180 [01:00<03:49,  1.61s/it]\u001b[A\u001b[A\n",
            "\n",
            "pearson(r): 0.6169, loss: 0.0533, reg_loss: 0.0000 ||:  22%|██▏       | 39/180 [01:02<03:44,  1.59s/it]\u001b[A\u001b[A\n",
            "\n",
            "pearson(r): 0.6134, loss: 0.0532, reg_loss: 0.0000 ||:  22%|██▏       | 40/180 [01:04<04:14,  1.82s/it]\u001b[A\u001b[A\n",
            "\n",
            "pearson(r): 0.6169, loss: 0.0530, reg_loss: 0.0000 ||:  23%|██▎       | 41/180 [01:05<03:44,  1.61s/it]\u001b[A\u001b[A\n",
            "\n",
            "pearson(r): 0.6188, loss: 0.0529, reg_loss: 0.0000 ||:  23%|██▎       | 42/180 [01:07<03:45,  1.64s/it]\u001b[A\u001b[A\n",
            "\n",
            "pearson(r): 0.6211, loss: 0.0528, reg_loss: 0.0000 ||:  24%|██▍       | 43/180 [01:08<03:31,  1.54s/it]\u001b[A\u001b[A\n",
            "\n",
            "pearson(r): 0.6217, loss: 0.0527, reg_loss: 0.0000 ||:  24%|██▍       | 44/180 [01:10<03:24,  1.51s/it]\u001b[A\u001b[A\n",
            "\n",
            "pearson(r): 0.6194, loss: 0.0531, reg_loss: 0.0000 ||:  25%|██▌       | 45/180 [01:12<03:53,  1.73s/it]\u001b[A\u001b[A\n",
            "\n",
            "pearson(r): 0.6202, loss: 0.0530, reg_loss: 0.0000 ||:  26%|██▌       | 46/180 [01:14<03:47,  1.70s/it]\u001b[A\u001b[A\n",
            "\n",
            "pearson(r): 0.6176, loss: 0.0527, reg_loss: 0.0000 ||:  26%|██▌       | 47/180 [01:15<03:34,  1.61s/it]\u001b[A\u001b[A\n",
            "\n",
            "pearson(r): 0.6179, loss: 0.0527, reg_loss: 0.0000 ||:  27%|██▋       | 48/180 [01:17<03:33,  1.62s/it]\u001b[A\u001b[A\n",
            "\n",
            "pearson(r): 0.6185, loss: 0.0523, reg_loss: 0.0000 ||:  27%|██▋       | 49/180 [01:18<03:21,  1.53s/it]\u001b[A\u001b[A\n",
            "\n",
            "pearson(r): 0.6184, loss: 0.0521, reg_loss: 0.0000 ||:  28%|██▊       | 50/180 [01:20<03:12,  1.48s/it]\u001b[A\u001b[A\n",
            "\n",
            "pearson(r): 0.6178, loss: 0.0522, reg_loss: 0.0000 ||:  28%|██▊       | 51/180 [01:21<03:11,  1.48s/it]\u001b[A\u001b[A\n",
            "\n",
            "pearson(r): 0.6182, loss: 0.0521, reg_loss: 0.0000 ||:  29%|██▉       | 52/180 [01:24<04:08,  1.94s/it]\u001b[A\u001b[A\n",
            "\n",
            "pearson(r): 0.6179, loss: 0.0525, reg_loss: 0.0000 ||:  29%|██▉       | 53/180 [01:27<04:48,  2.27s/it]\u001b[A\u001b[A\n",
            "\n",
            "pearson(r): 0.6179, loss: 0.0524, reg_loss: 0.0000 ||:  30%|███       | 54/180 [01:29<04:49,  2.30s/it]\u001b[A\u001b[A\n",
            "\n",
            "pearson(r): 0.6160, loss: 0.0527, reg_loss: 0.0000 ||:  31%|███       | 55/180 [01:31<04:16,  2.05s/it]\u001b[A\u001b[A\n",
            "\n",
            "pearson(r): 0.6171, loss: 0.0526, reg_loss: 0.0000 ||:  31%|███       | 56/180 [01:32<03:56,  1.90s/it]\u001b[A\u001b[A\n",
            "\n",
            "pearson(r): 0.6183, loss: 0.0523, reg_loss: 0.0000 ||:  32%|███▏      | 57/180 [01:34<03:30,  1.71s/it]\u001b[A\u001b[A\n",
            "\n",
            "pearson(r): 0.6144, loss: 0.0525, reg_loss: 0.0000 ||:  32%|███▏      | 58/180 [01:35<03:22,  1.66s/it]\u001b[A\u001b[A\n",
            "\n",
            "pearson(r): 0.6156, loss: 0.0523, reg_loss: 0.0000 ||:  33%|███▎      | 59/180 [01:37<03:15,  1.62s/it]\u001b[A\u001b[A\n",
            "\n",
            "pearson(r): 0.6158, loss: 0.0524, reg_loss: 0.0000 ||:  33%|███▎      | 60/180 [01:39<03:19,  1.66s/it]\u001b[A\u001b[A\n",
            "\n",
            "pearson(r): 0.6184, loss: 0.0522, reg_loss: 0.0000 ||:  34%|███▍      | 61/180 [01:40<03:09,  1.60s/it]\u001b[A\u001b[A\n",
            "\n",
            "pearson(r): 0.6198, loss: 0.0521, reg_loss: 0.0000 ||:  34%|███▍      | 62/180 [01:41<02:50,  1.45s/it]\u001b[A\u001b[A\n",
            "\n",
            "pearson(r): 0.6162, loss: 0.0524, reg_loss: 0.0000 ||:  35%|███▌      | 63/180 [01:43<03:02,  1.56s/it]\u001b[A\u001b[A\n",
            "\n",
            "pearson(r): 0.6173, loss: 0.0524, reg_loss: 0.0000 ||:  36%|███▌      | 64/180 [01:44<02:53,  1.49s/it]\u001b[A\u001b[A\n",
            "\n",
            "pearson(r): 0.6133, loss: 0.0525, reg_loss: 0.0000 ||:  36%|███▌      | 65/180 [01:47<03:44,  1.96s/it]\u001b[A\u001b[A\n",
            "\n",
            "pearson(r): 0.6131, loss: 0.0525, reg_loss: 0.0000 ||:  37%|███▋      | 66/180 [01:49<03:25,  1.80s/it]\u001b[A\u001b[A\n",
            "\n",
            "pearson(r): 0.6118, loss: 0.0527, reg_loss: 0.0000 ||:  37%|███▋      | 67/180 [01:50<03:08,  1.67s/it]\u001b[A\u001b[A\n",
            "\n",
            "pearson(r): 0.6126, loss: 0.0526, reg_loss: 0.0000 ||:  38%|███▊      | 68/180 [01:52<02:59,  1.60s/it]\u001b[A\u001b[A\n",
            "\n",
            "pearson(r): 0.6125, loss: 0.0528, reg_loss: 0.0000 ||:  38%|███▊      | 69/180 [01:53<02:41,  1.46s/it]\u001b[A\u001b[A\n",
            "\n",
            "pearson(r): 0.6143, loss: 0.0528, reg_loss: 0.0000 ||:  39%|███▉      | 70/180 [01:55<02:55,  1.59s/it]\u001b[A\u001b[A\n",
            "\n",
            "pearson(r): 0.6156, loss: 0.0530, reg_loss: 0.0000 ||:  39%|███▉      | 71/180 [01:56<02:53,  1.59s/it]\u001b[A\u001b[A\n",
            "\n",
            "pearson(r): 0.6144, loss: 0.0531, reg_loss: 0.0000 ||:  40%|████      | 72/180 [01:59<03:37,  2.02s/it]\u001b[A\u001b[A\n",
            "\n",
            "pearson(r): 0.6161, loss: 0.0530, reg_loss: 0.0000 ||:  41%|████      | 73/180 [02:00<03:00,  1.69s/it]\u001b[A\u001b[A\n",
            "\n",
            "pearson(r): 0.6153, loss: 0.0530, reg_loss: 0.0000 ||:  41%|████      | 74/180 [02:02<02:52,  1.62s/it]\u001b[A\u001b[A\n",
            "\n",
            "pearson(r): 0.6168, loss: 0.0527, reg_loss: 0.0000 ||:  42%|████▏     | 75/180 [02:03<02:45,  1.58s/it]\u001b[A\u001b[A\n",
            "\n",
            "pearson(r): 0.6178, loss: 0.0526, reg_loss: 0.0000 ||:  42%|████▏     | 76/180 [02:05<03:04,  1.78s/it]\u001b[A\u001b[A\n",
            "\n",
            "pearson(r): 0.6186, loss: 0.0527, reg_loss: 0.0000 ||:  43%|████▎     | 77/180 [02:07<02:49,  1.65s/it]\u001b[A\u001b[A\n",
            "\n",
            "pearson(r): 0.6191, loss: 0.0525, reg_loss: 0.0000 ||:  43%|████▎     | 78/180 [02:08<02:55,  1.72s/it]\u001b[A\u001b[A\n",
            "\u001b[A\n",
            "\n",
            "  0%|          | 0/180 [05:24<?, ?it/s]\n",
            "\n",
            "pearson(r): 0.6199, loss: 0.0525, reg_loss: 0.0000 ||:  44%|████▍     | 79/180 [02:10<02:47,  1.66s/it]\u001b[A\n",
            "pearson(r): 0.6187, loss: 0.0529, reg_loss: 0.0000 ||:  44%|████▍     | 80/180 [02:12<03:01,  1.81s/it]\u001b[A\n",
            "pearson(r): 0.6172, loss: 0.0530, reg_loss: 0.0000 ||:  45%|████▌     | 81/180 [02:14<02:48,  1.71s/it]\u001b[A\n",
            "pearson(r): 0.6171, loss: 0.0529, reg_loss: 0.0000 ||:  46%|████▌     | 82/180 [02:15<02:39,  1.62s/it]\u001b[A\n",
            "pearson(r): 0.6167, loss: 0.0532, reg_loss: 0.0000 ||:  46%|████▌     | 83/180 [02:18<03:03,  1.90s/it]\u001b[A\n",
            "pearson(r): 0.6140, loss: 0.0533, reg_loss: 0.0000 ||:  47%|████▋     | 84/180 [02:19<02:44,  1.71s/it]\u001b[A\n",
            "pearson(r): 0.6132, loss: 0.0533, reg_loss: 0.0000 ||:  47%|████▋     | 85/180 [02:20<02:34,  1.63s/it]\u001b[A\n",
            "pearson(r): 0.6141, loss: 0.0535, reg_loss: 0.0000 ||:  48%|████▊     | 86/180 [02:22<02:29,  1.59s/it]\u001b[A\n",
            "pearson(r): 0.6151, loss: 0.0535, reg_loss: 0.0000 ||:  48%|████▊     | 87/180 [02:23<02:29,  1.61s/it]\u001b[A\n",
            "pearson(r): 0.6135, loss: 0.0535, reg_loss: 0.0000 ||:  49%|████▉     | 88/180 [02:26<02:40,  1.75s/it]\u001b[A\n",
            "pearson(r): 0.6133, loss: 0.0535, reg_loss: 0.0000 ||:  49%|████▉     | 89/180 [02:27<02:29,  1.64s/it]\u001b[A\n",
            "pearson(r): 0.6134, loss: 0.0534, reg_loss: 0.0000 ||:  50%|█████     | 90/180 [02:28<02:24,  1.61s/it]\u001b[A\n",
            "pearson(r): 0.6116, loss: 0.0535, reg_loss: 0.0000 ||:  51%|█████     | 91/180 [02:30<02:21,  1.59s/it]\u001b[A\n",
            "pearson(r): 0.6116, loss: 0.0534, reg_loss: 0.0000 ||:  51%|█████     | 92/180 [02:31<02:15,  1.54s/it]\u001b[A\n",
            "pearson(r): 0.6111, loss: 0.0532, reg_loss: 0.0000 ||:  52%|█████▏    | 93/180 [02:33<02:08,  1.47s/it]\u001b[A\n",
            "pearson(r): 0.6124, loss: 0.0531, reg_loss: 0.0000 ||:  52%|█████▏    | 94/180 [02:34<02:04,  1.45s/it]\u001b[A\n",
            "pearson(r): 0.6096, loss: 0.0535, reg_loss: 0.0000 ||:  53%|█████▎    | 95/180 [02:36<02:04,  1.47s/it]\u001b[A\n",
            "pearson(r): 0.6085, loss: 0.0536, reg_loss: 0.0000 ||:  53%|█████▎    | 96/180 [02:37<02:00,  1.44s/it]\u001b[A\n",
            "pearson(r): 0.6087, loss: 0.0536, reg_loss: 0.0000 ||:  54%|█████▍    | 97/180 [02:39<02:22,  1.72s/it]\u001b[A\n",
            "pearson(r): 0.6098, loss: 0.0535, reg_loss: 0.0000 ||:  54%|█████▍    | 98/180 [02:41<02:21,  1.73s/it]\u001b[A\n",
            "pearson(r): 0.6079, loss: 0.0536, reg_loss: 0.0000 ||:  55%|█████▌    | 99/180 [02:43<02:15,  1.67s/it]\u001b[A\n",
            "pearson(r): 0.6075, loss: 0.0539, reg_loss: 0.0000 ||:  56%|█████▌    | 100/180 [02:45<02:17,  1.72s/it]\u001b[A\n",
            "pearson(r): 0.6086, loss: 0.0537, reg_loss: 0.0000 ||:  56%|█████▌    | 101/180 [02:46<02:00,  1.52s/it]\u001b[A\n",
            "pearson(r): 0.6077, loss: 0.0537, reg_loss: 0.0000 ||:  57%|█████▋    | 102/180 [02:47<02:02,  1.58s/it]\u001b[A\n",
            "pearson(r): 0.6071, loss: 0.0537, reg_loss: 0.0000 ||:  57%|█████▋    | 103/180 [02:49<02:01,  1.58s/it]\u001b[A\n",
            "pearson(r): 0.6066, loss: 0.0537, reg_loss: 0.0000 ||:  58%|█████▊    | 104/180 [02:50<01:53,  1.49s/it]\u001b[A\n",
            "pearson(r): 0.6069, loss: 0.0537, reg_loss: 0.0000 ||:  58%|█████▊    | 105/180 [02:51<01:46,  1.42s/it]\u001b[A\n",
            "pearson(r): 0.6052, loss: 0.0539, reg_loss: 0.0000 ||:  59%|█████▉    | 106/180 [02:54<02:20,  1.89s/it]\u001b[A\n",
            "pearson(r): 0.6058, loss: 0.0539, reg_loss: 0.0000 ||:  59%|█████▉    | 107/180 [02:56<02:10,  1.78s/it]\u001b[A\n",
            "pearson(r): 0.6061, loss: 0.0538, reg_loss: 0.0000 ||:  60%|██████    | 108/180 [02:57<01:58,  1.64s/it]\u001b[A\n",
            "pearson(r): 0.6059, loss: 0.0538, reg_loss: 0.0000 ||:  61%|██████    | 109/180 [02:59<01:59,  1.68s/it]\u001b[A\n",
            "pearson(r): 0.6056, loss: 0.0538, reg_loss: 0.0000 ||:  61%|██████    | 110/180 [03:01<01:54,  1.64s/it]\u001b[A\n",
            "pearson(r): 0.6066, loss: 0.0538, reg_loss: 0.0000 ||:  62%|██████▏   | 111/180 [03:02<01:52,  1.63s/it]\u001b[A\n",
            "pearson(r): 0.6066, loss: 0.0539, reg_loss: 0.0000 ||:  62%|██████▏   | 112/180 [03:04<01:49,  1.60s/it]\u001b[A\n",
            "pearson(r): 0.6069, loss: 0.0538, reg_loss: 0.0000 ||:  63%|██████▎   | 113/180 [03:05<01:44,  1.57s/it]\u001b[A\n",
            "pearson(r): 0.6071, loss: 0.0538, reg_loss: 0.0000 ||:  63%|██████▎   | 114/180 [03:07<01:38,  1.50s/it]\u001b[A\n",
            "pearson(r): 0.6060, loss: 0.0539, reg_loss: 0.0000 ||:  64%|██████▍   | 115/180 [03:08<01:46,  1.63s/it]\u001b[A\n",
            "pearson(r): 0.6062, loss: 0.0539, reg_loss: 0.0000 ||:  64%|██████▍   | 116/180 [03:10<01:39,  1.56s/it]\u001b[A\n",
            "pearson(r): 0.6042, loss: 0.0539, reg_loss: 0.0000 ||:  65%|██████▌   | 117/180 [03:11<01:39,  1.58s/it]\u001b[A\n",
            "pearson(r): 0.6040, loss: 0.0538, reg_loss: 0.0000 ||:  66%|██████▌   | 118/180 [03:14<01:47,  1.73s/it]\u001b[A\n",
            "pearson(r): 0.6048, loss: 0.0539, reg_loss: 0.0000 ||:  66%|██████▌   | 119/180 [03:15<01:45,  1.72s/it]\u001b[A\n",
            "pearson(r): 0.6059, loss: 0.0537, reg_loss: 0.0000 ||:  67%|██████▋   | 120/180 [03:17<01:38,  1.65s/it]\u001b[A\n",
            "pearson(r): 0.6067, loss: 0.0537, reg_loss: 0.0000 ||:  67%|██████▋   | 121/180 [03:18<01:33,  1.58s/it]\u001b[A\n",
            "pearson(r): 0.6060, loss: 0.0537, reg_loss: 0.0000 ||:  68%|██████▊   | 122/180 [03:20<01:32,  1.59s/it]\u001b[A\n",
            "pearson(r): 0.6061, loss: 0.0537, reg_loss: 0.0000 ||:  68%|██████▊   | 123/180 [03:21<01:31,  1.60s/it]\u001b[A\n",
            "pearson(r): 0.6070, loss: 0.0536, reg_loss: 0.0000 ||:  69%|██████▉   | 124/180 [03:23<01:30,  1.61s/it]\u001b[A\n",
            "pearson(r): 0.6055, loss: 0.0537, reg_loss: 0.0000 ||:  69%|██████▉   | 125/180 [03:25<01:32,  1.69s/it]\u001b[A\n",
            "pearson(r): 0.6061, loss: 0.0537, reg_loss: 0.0000 ||:  70%|███████   | 126/180 [03:26<01:27,  1.62s/it]\u001b[A\n",
            "pearson(r): 0.6065, loss: 0.0538, reg_loss: 0.0000 ||:  71%|███████   | 127/180 [03:28<01:21,  1.54s/it]\u001b[A\n",
            "pearson(r): 0.6054, loss: 0.0538, reg_loss: 0.0000 ||:  71%|███████   | 128/180 [03:30<01:25,  1.64s/it]\u001b[A\n",
            "pearson(r): 0.6042, loss: 0.0540, reg_loss: 0.0000 ||:  72%|███████▏  | 129/180 [03:31<01:22,  1.61s/it]\u001b[A\n",
            "pearson(r): 0.6027, loss: 0.0543, reg_loss: 0.0000 ||:  72%|███████▏  | 130/180 [03:33<01:19,  1.60s/it]\u001b[A\n",
            "pearson(r): 0.6028, loss: 0.0544, reg_loss: 0.0000 ||:  73%|███████▎  | 131/180 [03:34<01:13,  1.51s/it]\u001b[A\n",
            "pearson(r): 0.6027, loss: 0.0544, reg_loss: 0.0000 ||:  73%|███████▎  | 132/180 [03:36<01:13,  1.54s/it]\u001b[A\n",
            "pearson(r): 0.6033, loss: 0.0544, reg_loss: 0.0000 ||:  74%|███████▍  | 133/180 [03:37<01:10,  1.49s/it]\u001b[A\n",
            "pearson(r): 0.6031, loss: 0.0544, reg_loss: 0.0000 ||:  74%|███████▍  | 134/180 [03:38<01:05,  1.42s/it]\u001b[A\n",
            "pearson(r): 0.6030, loss: 0.0545, reg_loss: 0.0000 ||:  75%|███████▌  | 135/180 [03:40<01:03,  1.41s/it]\u001b[A\n",
            "pearson(r): 0.6027, loss: 0.0546, reg_loss: 0.0000 ||:  76%|███████▌  | 136/180 [03:41<01:02,  1.43s/it]\u001b[A\n",
            "pearson(r): 0.6029, loss: 0.0546, reg_loss: 0.0000 ||:  76%|███████▌  | 137/180 [03:43<01:01,  1.44s/it]\u001b[A\n",
            "pearson(r): 0.6014, loss: 0.0546, reg_loss: 0.0000 ||:  77%|███████▋  | 138/180 [03:44<01:00,  1.44s/it]\u001b[A\n",
            "pearson(r): 0.6009, loss: 0.0548, reg_loss: 0.0000 ||:  77%|███████▋  | 139/180 [03:46<00:59,  1.46s/it]\u001b[A\n",
            "pearson(r): 0.6004, loss: 0.0548, reg_loss: 0.0000 ||:  78%|███████▊  | 140/180 [03:47<00:57,  1.44s/it]\u001b[A\n",
            "pearson(r): 0.5999, loss: 0.0549, reg_loss: 0.0000 ||:  78%|███████▊  | 141/180 [03:48<00:54,  1.40s/it]\u001b[A\n",
            "pearson(r): 0.6005, loss: 0.0551, reg_loss: 0.0000 ||:  79%|███████▉  | 142/180 [03:50<01:02,  1.65s/it]\u001b[A\n",
            "pearson(r): 0.5988, loss: 0.0553, reg_loss: 0.0000 ||:  79%|███████▉  | 143/180 [03:53<01:16,  2.06s/it]\u001b[A\n",
            "pearson(r): 0.5980, loss: 0.0553, reg_loss: 0.0000 ||:  80%|████████  | 144/180 [03:55<01:05,  1.82s/it]\u001b[A\n",
            "pearson(r): 0.5973, loss: 0.0554, reg_loss: 0.0000 ||:  81%|████████  | 145/180 [03:56<01:02,  1.78s/it]\u001b[A\n",
            "pearson(r): 0.5960, loss: 0.0556, reg_loss: 0.0000 ||:  81%|████████  | 146/180 [03:58<00:57,  1.68s/it]\u001b[A\n",
            "pearson(r): 0.5948, loss: 0.0557, reg_loss: 0.0000 ||:  82%|████████▏ | 147/180 [04:00<00:57,  1.73s/it]\u001b[A\n",
            "pearson(r): 0.5917, loss: 0.0559, reg_loss: 0.0000 ||:  82%|████████▏ | 148/180 [04:03<01:08,  2.13s/it]\u001b[A\n",
            "pearson(r): 0.5903, loss: 0.0561, reg_loss: 0.0000 ||:  83%|████████▎ | 149/180 [04:04<01:00,  1.94s/it]\u001b[A\n",
            "pearson(r): 0.5884, loss: 0.0563, reg_loss: 0.0000 ||:  83%|████████▎ | 150/180 [04:06<00:55,  1.84s/it]\u001b[A\n",
            "pearson(r): 0.5866, loss: 0.0565, reg_loss: 0.0000 ||:  84%|████████▍ | 151/180 [04:08<00:53,  1.86s/it]\u001b[A\n",
            "pearson(r): 0.5843, loss: 0.0567, reg_loss: 0.0000 ||:  84%|████████▍ | 152/180 [04:09<00:48,  1.72s/it]\u001b[A\n",
            "pearson(r): 0.5823, loss: 0.0571, reg_loss: 0.0000 ||:  85%|████████▌ | 153/180 [04:11<00:44,  1.67s/it]\u001b[A\n",
            "pearson(r): 0.5814, loss: 0.0571, reg_loss: 0.0000 ||:  86%|████████▌ | 154/180 [04:13<00:45,  1.76s/it]\u001b[A\n",
            "pearson(r): 0.5805, loss: 0.0572, reg_loss: 0.0000 ||:  86%|████████▌ | 155/180 [04:14<00:39,  1.57s/it]\u001b[A\n",
            "pearson(r): 0.5788, loss: 0.0573, reg_loss: 0.0000 ||:  87%|████████▋ | 156/180 [04:15<00:35,  1.47s/it]\u001b[A\n",
            "pearson(r): 0.5785, loss: 0.0576, reg_loss: 0.0000 ||:  87%|████████▋ | 157/180 [04:17<00:34,  1.48s/it]\u001b[A\n",
            "pearson(r): 0.5782, loss: 0.0576, reg_loss: 0.0000 ||:  88%|████████▊ | 158/180 [04:18<00:31,  1.45s/it]\u001b[A\n",
            "pearson(r): 0.5782, loss: 0.0575, reg_loss: 0.0000 ||:  88%|████████▊ | 159/180 [04:20<00:31,  1.49s/it]\u001b[A\n",
            "pearson(r): 0.5762, loss: 0.0578, reg_loss: 0.0000 ||:  89%|████████▉ | 160/180 [04:23<00:38,  1.94s/it]\u001b[A\n",
            "pearson(r): 0.5741, loss: 0.0580, reg_loss: 0.0000 ||:  89%|████████▉ | 161/180 [04:24<00:34,  1.81s/it]\u001b[A\n",
            "pearson(r): 0.5706, loss: 0.0583, reg_loss: 0.0000 ||:  90%|█████████ | 162/180 [04:26<00:31,  1.78s/it]\u001b[A\n",
            "pearson(r): 0.5709, loss: 0.0584, reg_loss: 0.0000 ||:  91%|█████████ | 163/180 [04:27<00:28,  1.69s/it]\u001b[A\n",
            "pearson(r): 0.5714, loss: 0.0584, reg_loss: 0.0000 ||:  91%|█████████ | 164/180 [04:29<00:27,  1.70s/it]\u001b[A\n",
            "pearson(r): 0.5704, loss: 0.0585, reg_loss: 0.0000 ||:  92%|█████████▏| 165/180 [04:31<00:25,  1.73s/it]\u001b[A\n",
            "pearson(r): 0.5693, loss: 0.0586, reg_loss: 0.0000 ||:  92%|█████████▏| 166/180 [04:32<00:23,  1.70s/it]\u001b[A\n",
            "pearson(r): 0.5675, loss: 0.0588, reg_loss: 0.0000 ||:  93%|█████████▎| 167/180 [04:35<00:27,  2.11s/it]\u001b[A\n",
            "pearson(r): 0.5681, loss: 0.0589, reg_loss: 0.0000 ||:  93%|█████████▎| 168/180 [04:37<00:24,  2.07s/it]\u001b[A\n",
            "pearson(r): 0.5673, loss: 0.0589, reg_loss: 0.0000 ||:  94%|█████████▍| 169/180 [04:39<00:20,  1.84s/it]\u001b[A\n",
            "pearson(r): 0.5652, loss: 0.0592, reg_loss: 0.0000 ||:  94%|█████████▍| 170/180 [04:40<00:17,  1.70s/it]\u001b[A\n",
            "pearson(r): 0.5647, loss: 0.0592, reg_loss: 0.0000 ||:  95%|█████████▌| 171/180 [04:41<00:13,  1.55s/it]\u001b[A\n",
            "pearson(r): 0.5626, loss: 0.0595, reg_loss: 0.0000 ||:  96%|█████████▌| 172/180 [04:43<00:13,  1.73s/it]\u001b[A\n",
            "pearson(r): 0.5616, loss: 0.0596, reg_loss: 0.0000 ||:  96%|█████████▌| 173/180 [04:46<00:13,  1.91s/it]\u001b[A\n",
            "pearson(r): 0.5597, loss: 0.0598, reg_loss: 0.0000 ||:  97%|█████████▋| 174/180 [04:49<00:13,  2.23s/it]\u001b[A\n",
            "pearson(r): 0.5601, loss: 0.0598, reg_loss: 0.0000 ||:  97%|█████████▋| 175/180 [04:50<00:09,  1.99s/it]\u001b[A\n",
            "pearson(r): 0.5600, loss: 0.0598, reg_loss: 0.0000 ||:  98%|█████████▊| 176/180 [04:52<00:07,  1.86s/it]\u001b[A\n",
            "pearson(r): 0.5597, loss: 0.0598, reg_loss: 0.0000 ||:  98%|█████████▊| 177/180 [04:53<00:05,  1.71s/it]\u001b[A\n",
            "pearson(r): 0.5575, loss: 0.0600, reg_loss: 0.0000 ||:  99%|█████████▉| 178/180 [04:55<00:03,  1.63s/it]\u001b[A\n",
            "pearson(r): 0.5584, loss: 0.0599, reg_loss: 0.0000 ||:  99%|█████████▉| 179/180 [04:56<00:01,  1.54s/it]\u001b[A\n",
            "pearson(r): 0.5578, loss: 0.0599, reg_loss: 0.0000 ||: 100%|██████████| 180/180 [04:57<00:00,  1.65s/it]\n",
            "\n",
            "  0%|          | 0/180 [00:00<?, ?it/s]\u001b[A\n",
            "pearson(r): 0.5372, loss: 0.1189, reg_loss: 0.0000 ||:   1%|          | 1/180 [00:00<00:44,  3.98it/s]\u001b[A\n",
            "pearson(r): 0.6194, loss: 0.1105, reg_loss: 0.0000 ||:   1%|          | 2/180 [00:00<00:45,  3.95it/s]\u001b[A\n",
            "pearson(r): 0.5742, loss: 0.1015, reg_loss: 0.0000 ||:   2%|▏         | 3/180 [00:00<00:47,  3.73it/s]\u001b[A\n",
            "pearson(r): 0.5415, loss: 0.0956, reg_loss: 0.0000 ||:   2%|▏         | 4/180 [00:01<00:46,  3.78it/s]\u001b[A\n",
            "pearson(r): 0.5802, loss: 0.0899, reg_loss: 0.0000 ||:   3%|▎         | 5/180 [00:01<00:46,  3.78it/s]\u001b[A\n",
            "pearson(r): 0.5760, loss: 0.0948, reg_loss: 0.0000 ||:   3%|▎         | 6/180 [00:01<00:46,  3.72it/s]\u001b[A\n",
            "pearson(r): 0.5644, loss: 0.0993, reg_loss: 0.0000 ||:   4%|▍         | 7/180 [00:01<00:46,  3.72it/s]\u001b[A\n",
            "pearson(r): 0.5401, loss: 0.1035, reg_loss: 0.0000 ||:   4%|▍         | 8/180 [00:02<00:49,  3.51it/s]\u001b[A\n",
            "pearson(r): 0.5205, loss: 0.1074, reg_loss: 0.0000 ||:   5%|▌         | 9/180 [00:02<01:01,  2.80it/s]\u001b[A\n",
            "pearson(r): 0.5372, loss: 0.1081, reg_loss: 0.0000 ||:   6%|▌         | 10/180 [00:03<00:57,  2.93it/s]\u001b[A\n",
            "pearson(r): 0.5515, loss: 0.1054, reg_loss: 0.0000 ||:   6%|▌         | 11/180 [00:03<00:54,  3.10it/s]\u001b[A\n",
            "pearson(r): 0.5448, loss: 0.1062, reg_loss: 0.0000 ||:   7%|▋         | 12/180 [00:03<00:55,  3.04it/s]\u001b[A\n",
            "pearson(r): 0.5439, loss: 0.1050, reg_loss: 0.0000 ||:   7%|▋         | 13/180 [00:03<00:51,  3.25it/s]\u001b[A\n",
            "pearson(r): 0.5320, loss: 0.1059, reg_loss: 0.0000 ||:   8%|▊         | 14/180 [00:04<00:55,  2.97it/s]\u001b[A\n",
            "pearson(r): 0.5335, loss: 0.1072, reg_loss: 0.0000 ||:   8%|▊         | 15/180 [00:04<00:55,  2.96it/s]\u001b[A\n",
            "pearson(r): 0.5358, loss: 0.1088, reg_loss: 0.0000 ||:   9%|▉         | 16/180 [00:04<00:51,  3.17it/s]\u001b[A\n",
            "pearson(r): 0.5351, loss: 0.1090, reg_loss: 0.0000 ||:   9%|▉         | 17/180 [00:05<00:46,  3.47it/s]\u001b[A\n",
            "pearson(r): 0.5358, loss: 0.1081, reg_loss: 0.0000 ||:  10%|█         | 18/180 [00:05<00:46,  3.52it/s]\u001b[A\n",
            "pearson(r): 0.5242, loss: 0.1098, reg_loss: 0.0000 ||:  11%|█         | 19/180 [00:05<00:44,  3.62it/s]\u001b[A\n",
            "pearson(r): 0.5255, loss: 0.1125, reg_loss: 0.0000 ||:  11%|█         | 20/180 [00:06<00:50,  3.16it/s]\u001b[A\n",
            "pearson(r): 0.5247, loss: 0.1117, reg_loss: 0.0000 ||:  12%|█▏        | 21/180 [00:06<00:48,  3.30it/s]\u001b[A\n",
            "pearson(r): 0.5159, loss: 0.1120, reg_loss: 0.0000 ||:  12%|█▏        | 22/180 [00:06<00:51,  3.08it/s]\u001b[A\n",
            "pearson(r): 0.5140, loss: 0.1103, reg_loss: 0.0000 ||:  13%|█▎        | 23/180 [00:06<00:44,  3.50it/s]\u001b[A\n",
            "pearson(r): 0.5160, loss: 0.1096, reg_loss: 0.0000 ||:  13%|█▎        | 24/180 [00:07<00:45,  3.44it/s]\u001b[A\n",
            "pearson(r): 0.5128, loss: 0.1090, reg_loss: 0.0000 ||:  14%|█▍        | 25/180 [00:07<00:46,  3.36it/s]\u001b[A\n",
            "pearson(r): 0.5053, loss: 0.1094, reg_loss: 0.0000 ||:  14%|█▍        | 26/180 [00:07<00:44,  3.48it/s]\u001b[A\n",
            "pearson(r): 0.5084, loss: 0.1096, reg_loss: 0.0000 ||:  15%|█▌        | 27/180 [00:08<00:44,  3.44it/s]\u001b[A\n",
            "pearson(r): 0.5070, loss: 0.1086, reg_loss: 0.0000 ||:  16%|█▌        | 28/180 [00:08<00:47,  3.22it/s]\u001b[A\n",
            "pearson(r): 0.5071, loss: 0.1080, reg_loss: 0.0000 ||:  16%|█▌        | 29/180 [00:08<00:51,  2.92it/s]\u001b[A\n",
            "pearson(r): 0.5079, loss: 0.1085, reg_loss: 0.0000 ||:  17%|█▋        | 30/180 [00:09<00:47,  3.13it/s]\u001b[A\n",
            "pearson(r): 0.5078, loss: 0.1083, reg_loss: 0.0000 ||:  17%|█▋        | 31/180 [00:09<00:45,  3.31it/s]\u001b[A\n",
            "pearson(r): 0.5051, loss: 0.1087, reg_loss: 0.0000 ||:  18%|█▊        | 32/180 [00:09<00:44,  3.30it/s]\u001b[A\n",
            "pearson(r): 0.5026, loss: 0.1077, reg_loss: 0.0000 ||:  18%|█▊        | 33/180 [00:10<00:46,  3.15it/s]\u001b[A\n",
            "pearson(r): 0.5054, loss: 0.1067, reg_loss: 0.0000 ||:  19%|█▉        | 34/180 [00:10<00:43,  3.34it/s]\u001b[A\n",
            "pearson(r): 0.5096, loss: 0.1065, reg_loss: 0.0000 ||:  19%|█▉        | 35/180 [00:10<00:42,  3.43it/s]\u001b[A\n",
            "pearson(r): 0.4987, loss: 0.1070, reg_loss: 0.0000 ||:  20%|██        | 36/180 [00:10<00:46,  3.09it/s]\u001b[A\n",
            "pearson(r): 0.4953, loss: 0.1080, reg_loss: 0.0000 ||:  21%|██        | 37/180 [00:11<00:55,  2.58it/s]\u001b[A\n",
            "pearson(r): 0.4981, loss: 0.1081, reg_loss: 0.0000 ||:  21%|██        | 38/180 [00:11<00:48,  2.91it/s]\u001b[A\n",
            "pearson(r): 0.4951, loss: 0.1077, reg_loss: 0.0000 ||:  22%|██▏       | 39/180 [00:12<00:46,  3.01it/s]\u001b[A\n",
            "pearson(r): 0.4888, loss: 0.1077, reg_loss: 0.0000 ||:  22%|██▏       | 40/180 [00:12<00:44,  3.18it/s]\u001b[A\n",
            "pearson(r): 0.4927, loss: 0.1080, reg_loss: 0.0000 ||:  23%|██▎       | 41/180 [00:12<00:40,  3.42it/s]\u001b[A\n",
            "pearson(r): 0.4936, loss: 0.1084, reg_loss: 0.0000 ||:  23%|██▎       | 42/180 [00:12<00:40,  3.41it/s]\u001b[A\n",
            "pearson(r): 0.4884, loss: 0.1090, reg_loss: 0.0000 ||:  24%|██▍       | 43/180 [00:13<00:39,  3.45it/s]\u001b[A\n",
            "pearson(r): 0.4909, loss: 0.1102, reg_loss: 0.0000 ||:  24%|██▍       | 44/180 [00:13<00:48,  2.78it/s]\u001b[A\n",
            "pearson(r): 0.4906, loss: 0.1101, reg_loss: 0.0000 ||:  25%|██▌       | 45/180 [00:13<00:45,  2.97it/s]\u001b[A\n",
            "pearson(r): 0.4870, loss: 0.1104, reg_loss: 0.0000 ||:  26%|██▌       | 46/180 [00:14<00:46,  2.89it/s]\u001b[A\n",
            "pearson(r): 0.4880, loss: 0.1101, reg_loss: 0.0000 ||:  26%|██▌       | 47/180 [00:14<00:41,  3.24it/s]\u001b[A\n",
            "pearson(r): 0.4862, loss: 0.1100, reg_loss: 0.0000 ||:  27%|██▋       | 48/180 [00:14<00:39,  3.34it/s]\u001b[A\n",
            "pearson(r): 0.4849, loss: 0.1106, reg_loss: 0.0000 ||:  27%|██▋       | 49/180 [00:15<00:41,  3.18it/s]\u001b[A\n",
            "pearson(r): 0.4849, loss: 0.1112, reg_loss: 0.0000 ||:  28%|██▊       | 50/180 [00:15<00:37,  3.43it/s]\u001b[A\n",
            "pearson(r): 0.4797, loss: 0.1113, reg_loss: 0.0000 ||:  28%|██▊       | 51/180 [00:15<00:37,  3.43it/s]\u001b[A\n",
            "pearson(r): 0.4804, loss: 0.1118, reg_loss: 0.0000 ||:  29%|██▉       | 52/180 [00:15<00:35,  3.57it/s]\u001b[A\n",
            "pearson(r): 0.4821, loss: 0.1112, reg_loss: 0.0000 ||:  29%|██▉       | 53/180 [00:16<00:34,  3.65it/s]\u001b[A\n",
            "pearson(r): 0.4846, loss: 0.1115, reg_loss: 0.0000 ||:  30%|███       | 54/180 [00:16<00:35,  3.56it/s]\u001b[A\n",
            "pearson(r): 0.4852, loss: 0.1113, reg_loss: 0.0000 ||:  31%|███       | 55/180 [00:16<00:35,  3.47it/s]\u001b[A\n",
            "pearson(r): 0.4862, loss: 0.1115, reg_loss: 0.0000 ||:  31%|███       | 56/180 [00:17<00:34,  3.62it/s]\u001b[A\n",
            "pearson(r): 0.4850, loss: 0.1116, reg_loss: 0.0000 ||:  32%|███▏      | 57/180 [00:17<00:34,  3.60it/s]\u001b[A\n",
            "pearson(r): 0.4838, loss: 0.1110, reg_loss: 0.0000 ||:  32%|███▏      | 58/180 [00:17<00:37,  3.25it/s]\u001b[A\n",
            "pearson(r): 0.4866, loss: 0.1112, reg_loss: 0.0000 ||:  33%|███▎      | 59/180 [00:17<00:35,  3.45it/s]\u001b[A\n",
            "pearson(r): 0.4859, loss: 0.1112, reg_loss: 0.0000 ||:  33%|███▎      | 60/180 [00:18<00:34,  3.51it/s]\u001b[A\n",
            "pearson(r): 0.4854, loss: 0.1112, reg_loss: 0.0000 ||:  34%|███▍      | 61/180 [00:18<00:32,  3.69it/s]\u001b[A\n",
            "pearson(r): 0.4859, loss: 0.1110, reg_loss: 0.0000 ||:  34%|███▍      | 62/180 [00:18<00:30,  3.81it/s]\u001b[A\n",
            "pearson(r): 0.4856, loss: 0.1107, reg_loss: 0.0000 ||:  35%|███▌      | 63/180 [00:19<00:30,  3.78it/s]\u001b[A\n",
            "pearson(r): 0.4854, loss: 0.1113, reg_loss: 0.0000 ||:  36%|███▌      | 64/180 [00:19<00:35,  3.25it/s]\u001b[A\n",
            "pearson(r): 0.4869, loss: 0.1110, reg_loss: 0.0000 ||:  36%|███▌      | 65/180 [00:19<00:35,  3.24it/s]\u001b[A\n",
            "pearson(r): 0.4848, loss: 0.1111, reg_loss: 0.0000 ||:  37%|███▋      | 66/180 [00:20<00:34,  3.29it/s]\u001b[A\n",
            "pearson(r): 0.4836, loss: 0.1116, reg_loss: 0.0000 ||:  37%|███▋      | 67/180 [00:20<00:35,  3.21it/s]\u001b[A\n",
            "pearson(r): 0.4857, loss: 0.1109, reg_loss: 0.0000 ||:  38%|███▊      | 68/180 [00:20<00:34,  3.26it/s]\u001b[A\n",
            "pearson(r): 0.4883, loss: 0.1103, reg_loss: 0.0000 ||:  38%|███▊      | 69/180 [00:20<00:31,  3.47it/s]\u001b[A\n",
            "pearson(r): 0.4949, loss: 0.1104, reg_loss: 0.0000 ||:  39%|███▉      | 70/180 [00:21<00:32,  3.40it/s]\u001b[A\n",
            "pearson(r): 0.4947, loss: 0.1103, reg_loss: 0.0000 ||:  39%|███▉      | 71/180 [00:21<00:33,  3.21it/s]\u001b[A\n",
            "pearson(r): 0.4935, loss: 0.1106, reg_loss: 0.0000 ||:  40%|████      | 72/180 [00:21<00:36,  2.94it/s]\u001b[A\n",
            "pearson(r): 0.4951, loss: 0.1102, reg_loss: 0.0000 ||:  41%|████      | 73/180 [00:22<00:33,  3.18it/s]\u001b[A\n",
            "pearson(r): 0.4927, loss: 0.1100, reg_loss: 0.0000 ||:  41%|████      | 74/180 [00:22<00:33,  3.13it/s]\u001b[A\n",
            "pearson(r): 0.4945, loss: 0.1100, reg_loss: 0.0000 ||:  42%|████▏     | 75/180 [00:22<00:30,  3.40it/s]\u001b[A\n",
            "pearson(r): 0.4924, loss: 0.1096, reg_loss: 0.0000 ||:  42%|████▏     | 76/180 [00:23<00:30,  3.46it/s]\u001b[A\n",
            "pearson(r): 0.4914, loss: 0.1098, reg_loss: 0.0000 ||:  43%|████▎     | 77/180 [00:23<00:29,  3.50it/s]\u001b[A\n",
            "pearson(r): 0.4914, loss: 0.1093, reg_loss: 0.0000 ||:  43%|████▎     | 78/180 [00:23<00:34,  2.99it/s]\u001b[A\n",
            "pearson(r): 0.4879, loss: 0.1098, reg_loss: 0.0000 ||:  44%|████▍     | 79/180 [00:24<00:35,  2.85it/s]\u001b[A\n",
            "pearson(r): 0.4880, loss: 0.1100, reg_loss: 0.0000 ||:  44%|████▍     | 80/180 [00:24<00:30,  3.25it/s]\u001b[A\n",
            "pearson(r): 0.4826, loss: 0.1108, reg_loss: 0.0000 ||:  45%|████▌     | 81/180 [00:24<00:30,  3.27it/s]\u001b[A\n",
            "pearson(r): 0.4828, loss: 0.1107, reg_loss: 0.0000 ||:  46%|████▌     | 82/180 [00:24<00:29,  3.30it/s]\u001b[A\n",
            "pearson(r): 0.4833, loss: 0.1108, reg_loss: 0.0000 ||:  46%|████▌     | 83/180 [00:25<00:27,  3.47it/s]\u001b[A\n",
            "pearson(r): 0.4830, loss: 0.1108, reg_loss: 0.0000 ||:  47%|████▋     | 84/180 [00:25<00:27,  3.54it/s]\u001b[A\n",
            "pearson(r): 0.4795, loss: 0.1109, reg_loss: 0.0000 ||:  47%|████▋     | 85/180 [00:26<00:34,  2.76it/s]\u001b[A\n",
            "pearson(r): 0.4790, loss: 0.1108, reg_loss: 0.0000 ||:  48%|████▊     | 86/180 [00:26<00:32,  2.93it/s]\u001b[A\n",
            "pearson(r): 0.4767, loss: 0.1112, reg_loss: 0.0000 ||:  48%|████▊     | 87/180 [00:26<00:36,  2.52it/s]\u001b[A\n",
            "pearson(r): 0.4793, loss: 0.1109, reg_loss: 0.0000 ||:  49%|████▉     | 88/180 [00:27<00:33,  2.74it/s]\u001b[A\n",
            "pearson(r): 0.4807, loss: 0.1107, reg_loss: 0.0000 ||:  49%|████▉     | 89/180 [00:27<00:31,  2.86it/s]\u001b[A\n",
            "pearson(r): 0.4808, loss: 0.1108, reg_loss: 0.0000 ||:  50%|█████     | 90/180 [00:27<00:29,  3.01it/s]\u001b[A\n",
            "pearson(r): 0.4825, loss: 0.1106, reg_loss: 0.0000 ||:  51%|█████     | 91/180 [00:28<00:27,  3.19it/s]\u001b[A\n",
            "pearson(r): 0.4821, loss: 0.1106, reg_loss: 0.0000 ||:  51%|█████     | 92/180 [00:28<00:33,  2.62it/s]\u001b[A\n",
            "pearson(r): 0.4826, loss: 0.1113, reg_loss: 0.0000 ||:  52%|█████▏    | 93/180 [00:28<00:30,  2.88it/s]\u001b[A\n",
            "pearson(r): 0.4832, loss: 0.1111, reg_loss: 0.0000 ||:  52%|█████▏    | 94/180 [00:29<00:27,  3.17it/s]\u001b[A\n",
            "pearson(r): 0.4818, loss: 0.1113, reg_loss: 0.0000 ||:  53%|█████▎    | 95/180 [00:29<00:28,  2.99it/s]\u001b[A\n",
            "pearson(r): 0.4807, loss: 0.1116, reg_loss: 0.0000 ||:  53%|█████▎    | 96/180 [00:29<00:26,  3.18it/s]\u001b[A\n",
            "pearson(r): 0.4799, loss: 0.1118, reg_loss: 0.0000 ||:  54%|█████▍    | 97/180 [00:30<00:31,  2.64it/s]\u001b[A\n",
            "pearson(r): 0.4790, loss: 0.1115, reg_loss: 0.0000 ||:  54%|█████▍    | 98/180 [00:30<00:28,  2.85it/s]\u001b[A\n",
            "pearson(r): 0.4797, loss: 0.1110, reg_loss: 0.0000 ||:  55%|█████▌    | 99/180 [00:30<00:25,  3.14it/s]\u001b[A\n",
            "pearson(r): 0.4819, loss: 0.1107, reg_loss: 0.0000 ||:  56%|█████▌    | 100/180 [00:31<00:24,  3.23it/s]\u001b[A\n",
            "pearson(r): 0.4816, loss: 0.1111, reg_loss: 0.0000 ||:  56%|█████▌    | 101/180 [00:31<00:24,  3.27it/s]\u001b[A\n",
            "pearson(r): 0.4805, loss: 0.1113, reg_loss: 0.0000 ||:  57%|█████▋    | 102/180 [00:31<00:22,  3.53it/s]\u001b[A\n",
            "pearson(r): 0.4812, loss: 0.1112, reg_loss: 0.0000 ||:  57%|█████▋    | 103/180 [00:31<00:22,  3.38it/s]\u001b[A\n",
            "pearson(r): 0.4808, loss: 0.1110, reg_loss: 0.0000 ||:  58%|█████▊    | 104/180 [00:32<00:23,  3.21it/s]\u001b[A\n",
            "pearson(r): 0.4807, loss: 0.1109, reg_loss: 0.0000 ||:  58%|█████▊    | 105/180 [00:32<00:22,  3.39it/s]\u001b[A\n",
            "pearson(r): 0.4815, loss: 0.1114, reg_loss: 0.0000 ||:  59%|█████▉    | 106/180 [00:32<00:19,  3.88it/s]\u001b[A\n",
            "pearson(r): 0.4817, loss: 0.1114, reg_loss: 0.0000 ||:  59%|█████▉    | 107/180 [00:32<00:18,  3.88it/s]\u001b[A\n",
            "pearson(r): 0.4819, loss: 0.1114, reg_loss: 0.0000 ||:  60%|██████    | 108/180 [00:33<00:18,  4.00it/s]\u001b[A\n",
            "pearson(r): 0.4810, loss: 0.1115, reg_loss: 0.0000 ||:  61%|██████    | 109/180 [00:33<00:17,  3.96it/s]\u001b[A\n",
            "pearson(r): 0.4815, loss: 0.1117, reg_loss: 0.0000 ||:  61%|██████    | 110/180 [00:33<00:23,  2.99it/s]\u001b[A\n",
            "pearson(r): 0.4819, loss: 0.1119, reg_loss: 0.0000 ||:  62%|██████▏   | 111/180 [00:34<00:23,  2.96it/s]\u001b[A\n",
            "pearson(r): 0.4818, loss: 0.1115, reg_loss: 0.0000 ||:  62%|██████▏   | 112/180 [00:34<00:26,  2.54it/s]\u001b[A\n",
            "pearson(r): 0.4835, loss: 0.1116, reg_loss: 0.0000 ||:  63%|██████▎   | 113/180 [00:35<00:23,  2.81it/s]\u001b[A\n",
            "pearson(r): 0.4841, loss: 0.1113, reg_loss: 0.0000 ||:  63%|██████▎   | 114/180 [00:35<00:22,  2.98it/s]\u001b[A\n",
            "pearson(r): 0.4851, loss: 0.1116, reg_loss: 0.0000 ||:  64%|██████▍   | 115/180 [00:35<00:20,  3.15it/s]\u001b[A\n",
            "pearson(r): 0.4864, loss: 0.1114, reg_loss: 0.0000 ||:  64%|██████▍   | 116/180 [00:35<00:19,  3.21it/s]\u001b[A\n",
            "pearson(r): 0.4886, loss: 0.1114, reg_loss: 0.0000 ||:  65%|██████▌   | 117/180 [00:36<00:18,  3.46it/s]\u001b[A\n",
            "pearson(r): 0.4896, loss: 0.1114, reg_loss: 0.0000 ||:  66%|██████▌   | 118/180 [00:36<00:16,  3.65it/s]\u001b[A\n",
            "pearson(r): 0.4913, loss: 0.1111, reg_loss: 0.0000 ||:  66%|██████▌   | 119/180 [00:36<00:14,  4.10it/s]\u001b[A\n",
            "pearson(r): 0.4904, loss: 0.1112, reg_loss: 0.0000 ||:  67%|██████▋   | 120/180 [00:37<00:17,  3.48it/s]\u001b[A\n",
            "pearson(r): 0.4889, loss: 0.1111, reg_loss: 0.0000 ||:  67%|██████▋   | 121/180 [00:37<00:15,  3.75it/s]\u001b[A\n",
            "pearson(r): 0.4882, loss: 0.1112, reg_loss: 0.0000 ||:  68%|██████▊   | 122/180 [00:37<00:14,  3.88it/s]\u001b[A\n",
            "pearson(r): 0.4885, loss: 0.1110, reg_loss: 0.0000 ||:  68%|██████▊   | 123/180 [00:37<00:15,  3.77it/s]\u001b[A\n",
            "pearson(r): 0.4882, loss: 0.1108, reg_loss: 0.0000 ||:  69%|██████▉   | 124/180 [00:38<00:14,  3.83it/s]\u001b[A\n",
            "pearson(r): 0.4903, loss: 0.1109, reg_loss: 0.0000 ||:  69%|██████▉   | 125/180 [00:38<00:14,  3.79it/s]\u001b[A\n",
            "pearson(r): 0.4897, loss: 0.1113, reg_loss: 0.0000 ||:  70%|███████   | 126/180 [00:38<00:13,  4.05it/s]\u001b[A\n",
            "pearson(r): 0.4908, loss: 0.1114, reg_loss: 0.0000 ||:  71%|███████   | 127/180 [00:38<00:13,  4.06it/s]\u001b[A\n",
            "pearson(r): 0.4903, loss: 0.1115, reg_loss: 0.0000 ||:  71%|███████   | 128/180 [00:38<00:12,  4.05it/s]\u001b[A\n",
            "pearson(r): 0.4911, loss: 0.1115, reg_loss: 0.0000 ||:  72%|███████▏  | 129/180 [00:39<00:13,  3.92it/s]\u001b[A\n",
            "pearson(r): 0.4906, loss: 0.1116, reg_loss: 0.0000 ||:  72%|███████▏  | 130/180 [00:39<00:12,  4.09it/s]\u001b[A\n",
            "pearson(r): 0.4933, loss: 0.1115, reg_loss: 0.0000 ||:  73%|███████▎  | 131/180 [00:39<00:14,  3.34it/s]\u001b[A\n",
            "pearson(r): 0.4932, loss: 0.1113, reg_loss: 0.0000 ||:  73%|███████▎  | 132/180 [00:40<00:15,  3.02it/s]\u001b[A\n",
            "pearson(r): 0.4920, loss: 0.1115, reg_loss: 0.0000 ||:  74%|███████▍  | 133/180 [00:40<00:14,  3.31it/s]\u001b[A\n",
            "pearson(r): 0.4937, loss: 0.1118, reg_loss: 0.0000 ||:  74%|███████▍  | 134/180 [00:41<00:17,  2.69it/s]\u001b[A\n",
            "pearson(r): 0.4929, loss: 0.1119, reg_loss: 0.0000 ||:  75%|███████▌  | 135/180 [00:41<00:14,  3.08it/s]\u001b[A\n",
            "pearson(r): 0.4923, loss: 0.1121, reg_loss: 0.0000 ||:  76%|███████▌  | 136/180 [00:41<00:13,  3.22it/s]\u001b[A\n",
            "pearson(r): 0.4942, loss: 0.1120, reg_loss: 0.0000 ||:  76%|███████▌  | 137/180 [00:41<00:12,  3.43it/s]\u001b[A\n",
            "pearson(r): 0.4937, loss: 0.1119, reg_loss: 0.0000 ||:  77%|███████▋  | 138/180 [00:42<00:12,  3.47it/s]\u001b[A\n",
            "pearson(r): 0.4926, loss: 0.1118, reg_loss: 0.0000 ||:  77%|███████▋  | 139/180 [00:42<00:11,  3.62it/s]\u001b[A\n",
            "pearson(r): 0.4930, loss: 0.1119, reg_loss: 0.0000 ||:  78%|███████▊  | 140/180 [00:42<00:11,  3.49it/s]\u001b[A\n",
            "pearson(r): 0.4925, loss: 0.1118, reg_loss: 0.0000 ||:  78%|███████▊  | 141/180 [00:42<00:10,  3.59it/s]\u001b[A\n",
            "pearson(r): 0.4933, loss: 0.1114, reg_loss: 0.0000 ||:  79%|███████▉  | 142/180 [00:43<00:10,  3.65it/s]\u001b[A\n",
            "pearson(r): 0.4925, loss: 0.1117, reg_loss: 0.0000 ||:  79%|███████▉  | 143/180 [00:43<00:10,  3.69it/s]\u001b[A\n",
            "pearson(r): 0.4935, loss: 0.1116, reg_loss: 0.0000 ||:  80%|████████  | 144/180 [00:43<00:09,  3.75it/s]\u001b[A\n",
            "pearson(r): 0.4943, loss: 0.1113, reg_loss: 0.0000 ||:  81%|████████  | 145/180 [00:43<00:09,  3.81it/s]\u001b[A\n",
            "pearson(r): 0.4941, loss: 0.1112, reg_loss: 0.0000 ||:  81%|████████  | 146/180 [00:44<00:08,  3.88it/s]\u001b[A\n",
            "pearson(r): 0.4929, loss: 0.1114, reg_loss: 0.0000 ||:  82%|████████▏ | 147/180 [00:44<00:08,  3.78it/s]\u001b[A\n",
            "pearson(r): 0.4919, loss: 0.1116, reg_loss: 0.0000 ||:  82%|████████▏ | 148/180 [00:44<00:08,  3.78it/s]\u001b[A\n",
            "pearson(r): 0.4920, loss: 0.1115, reg_loss: 0.0000 ||:  83%|████████▎ | 149/180 [00:45<00:08,  3.78it/s]\u001b[A\n",
            "pearson(r): 0.4931, loss: 0.1112, reg_loss: 0.0000 ||:  83%|████████▎ | 150/180 [00:45<00:07,  3.78it/s]\u001b[A\n",
            "pearson(r): 0.4928, loss: 0.1114, reg_loss: 0.0000 ||:  84%|████████▍ | 151/180 [00:45<00:07,  3.82it/s]\u001b[A\n",
            "pearson(r): 0.4910, loss: 0.1116, reg_loss: 0.0000 ||:  84%|████████▍ | 152/180 [00:45<00:07,  3.94it/s]\u001b[A\n",
            "pearson(r): 0.4903, loss: 0.1117, reg_loss: 0.0000 ||:  85%|████████▌ | 153/180 [00:46<00:06,  3.98it/s]\u001b[A\n",
            "pearson(r): 0.4912, loss: 0.1120, reg_loss: 0.0000 ||:  86%|████████▌ | 154/180 [00:46<00:06,  3.81it/s]\u001b[A\n",
            "pearson(r): 0.4912, loss: 0.1121, reg_loss: 0.0000 ||:  86%|████████▌ | 155/180 [00:46<00:06,  4.02it/s]\u001b[A\n",
            "pearson(r): 0.4915, loss: 0.1118, reg_loss: 0.0000 ||:  87%|████████▋ | 156/180 [00:46<00:05,  4.11it/s]\u001b[A\n",
            "pearson(r): 0.4893, loss: 0.1119, reg_loss: 0.0000 ||:  87%|████████▋ | 157/180 [00:47<00:06,  3.42it/s]\u001b[A\n",
            "pearson(r): 0.4893, loss: 0.1119, reg_loss: 0.0000 ||:  88%|████████▊ | 158/180 [00:47<00:06,  3.54it/s]\u001b[A\n",
            "pearson(r): 0.4898, loss: 0.1117, reg_loss: 0.0000 ||:  88%|████████▊ | 159/180 [00:47<00:05,  3.54it/s]\u001b[A\n",
            "pearson(r): 0.4887, loss: 0.1115, reg_loss: 0.0000 ||:  89%|████████▉ | 160/180 [00:48<00:07,  2.81it/s]\u001b[A\n",
            "pearson(r): 0.4888, loss: 0.1115, reg_loss: 0.0000 ||:  89%|████████▉ | 161/180 [00:48<00:06,  3.01it/s]\u001b[A\n",
            "pearson(r): 0.4900, loss: 0.1116, reg_loss: 0.0000 ||:  90%|█████████ | 162/180 [00:48<00:05,  3.14it/s]\u001b[A\n",
            "pearson(r): 0.4900, loss: 0.1118, reg_loss: 0.0000 ||:  91%|█████████ | 163/180 [00:49<00:05,  3.20it/s]\u001b[A\n",
            "pearson(r): 0.4906, loss: 0.1120, reg_loss: 0.0000 ||:  91%|█████████ | 164/180 [00:49<00:04,  3.23it/s]\u001b[A\n",
            "pearson(r): 0.4903, loss: 0.1119, reg_loss: 0.0000 ||:  92%|█████████▏| 165/180 [00:49<00:04,  3.28it/s]\u001b[A\n",
            "pearson(r): 0.4897, loss: 0.1118, reg_loss: 0.0000 ||:  92%|█████████▏| 166/180 [00:50<00:04,  3.03it/s]\u001b[A\n",
            "pearson(r): 0.4889, loss: 0.1119, reg_loss: 0.0000 ||:  93%|█████████▎| 167/180 [00:50<00:04,  3.16it/s]\u001b[A\n",
            "pearson(r): 0.4894, loss: 0.1119, reg_loss: 0.0000 ||:  93%|█████████▎| 168/180 [00:50<00:04,  2.92it/s]\u001b[A\n",
            "pearson(r): 0.4904, loss: 0.1118, reg_loss: 0.0000 ||:  94%|█████████▍| 169/180 [00:51<00:03,  2.95it/s]\u001b[A\n",
            "pearson(r): 0.4910, loss: 0.1118, reg_loss: 0.0000 ||:  94%|█████████▍| 170/180 [00:51<00:03,  3.10it/s]\u001b[A\n",
            "pearson(r): 0.4915, loss: 0.1119, reg_loss: 0.0000 ||:  95%|█████████▌| 171/180 [00:51<00:02,  3.34it/s]\u001b[A\n",
            "pearson(r): 0.4908, loss: 0.1122, reg_loss: 0.0000 ||:  96%|█████████▌| 172/180 [00:51<00:02,  3.43it/s]\u001b[A\n",
            "pearson(r): 0.4898, loss: 0.1123, reg_loss: 0.0000 ||:  96%|█████████▌| 173/180 [00:52<00:02,  3.40it/s]\u001b[A\n",
            "pearson(r): 0.4907, loss: 0.1123, reg_loss: 0.0000 ||:  97%|█████████▋| 174/180 [00:52<00:01,  3.53it/s]\u001b[A\n",
            "pearson(r): 0.4915, loss: 0.1122, reg_loss: 0.0000 ||:  97%|█████████▋| 175/180 [00:52<00:01,  3.47it/s]\u001b[A\n",
            "pearson(r): 0.4920, loss: 0.1120, reg_loss: 0.0000 ||:  98%|█████████▊| 176/180 [00:53<00:01,  2.96it/s]\u001b[A\n",
            "pearson(r): 0.4921, loss: 0.1122, reg_loss: 0.0000 ||:  98%|█████████▊| 177/180 [00:53<00:00,  3.13it/s]\u001b[A\n",
            "pearson(r): 0.4919, loss: 0.1122, reg_loss: 0.0000 ||:  99%|█████████▉| 178/180 [00:53<00:00,  3.17it/s]\u001b[A\n",
            "pearson(r): 0.4923, loss: 0.1123, reg_loss: 0.0000 ||:  99%|█████████▉| 179/180 [00:53<00:00,  3.59it/s]\u001b[A\n",
            "pearson(r): 0.4926, loss: 0.1122, reg_loss: 0.0000 ||: 100%|██████████| 180/180 [00:54<00:00,  3.32it/s]\n",
            "\n",
            "  0%|          | 0/180 [00:00<?, ?it/s]\u001b[A\n",
            "pearson(r): 0.2689, loss: 0.0616, reg_loss: 0.0000 ||:   1%|          | 1/180 [00:01<04:03,  1.36s/it]\u001b[A\n",
            "pearson(r): 0.3705, loss: 0.0787, reg_loss: 0.0000 ||:   1%|          | 2/180 [00:02<04:07,  1.39s/it]\u001b[A\n",
            "pearson(r): 0.4023, loss: 0.0748, reg_loss: 0.0000 ||:   2%|▏         | 3/180 [00:04<04:30,  1.53s/it]\u001b[A\n",
            "pearson(r): 0.4788, loss: 0.0728, reg_loss: 0.0000 ||:   2%|▏         | 4/180 [00:06<04:39,  1.59s/it]\u001b[A\n",
            "pearson(r): 0.5225, loss: 0.0723, reg_loss: 0.0000 ||:   3%|▎         | 5/180 [00:07<04:29,  1.54s/it]\u001b[A\n",
            "pearson(r): 0.5313, loss: 0.0670, reg_loss: 0.0000 ||:   3%|▎         | 6/180 [00:09<04:28,  1.55s/it]\u001b[A\n",
            "pearson(r): 0.5384, loss: 0.0661, reg_loss: 0.0000 ||:   4%|▍         | 7/180 [00:10<04:24,  1.53s/it]\u001b[A\n",
            "pearson(r): 0.5283, loss: 0.0660, reg_loss: 0.0000 ||:   4%|▍         | 8/180 [00:12<04:37,  1.61s/it]\u001b[A\n",
            "pearson(r): 0.5295, loss: 0.0667, reg_loss: 0.0000 ||:   5%|▌         | 9/180 [00:14<04:33,  1.60s/it]\u001b[A\n",
            "pearson(r): 0.5095, loss: 0.0671, reg_loss: 0.0000 ||:   6%|▌         | 10/180 [00:16<05:11,  1.83s/it]\u001b[A\n",
            "pearson(r): 0.5034, loss: 0.0654, reg_loss: 0.0000 ||:   6%|▌         | 11/180 [00:18<05:08,  1.82s/it]\u001b[A\n",
            "pearson(r): 0.5132, loss: 0.0646, reg_loss: 0.0000 ||:   7%|▋         | 12/180 [00:19<04:52,  1.74s/it]\u001b[A\n",
            "pearson(r): 0.5246, loss: 0.0628, reg_loss: 0.0000 ||:   7%|▋         | 13/180 [00:21<04:34,  1.64s/it]\u001b[A\n",
            "pearson(r): 0.5266, loss: 0.0634, reg_loss: 0.0000 ||:   8%|▊         | 14/180 [00:22<04:29,  1.62s/it]\u001b[A\n",
            "pearson(r): 0.5310, loss: 0.0624, reg_loss: 0.0000 ||:   8%|▊         | 15/180 [00:24<04:25,  1.61s/it]\u001b[A\n",
            "pearson(r): 0.5142, loss: 0.0645, reg_loss: 0.0000 ||:   9%|▉         | 16/180 [00:27<05:33,  2.03s/it]\u001b[A\n",
            "pearson(r): 0.5293, loss: 0.0641, reg_loss: 0.0000 ||:   9%|▉         | 17/180 [00:29<05:11,  1.91s/it]\u001b[A\n",
            "pearson(r): 0.5332, loss: 0.0627, reg_loss: 0.0000 ||:  10%|█         | 18/180 [00:30<04:51,  1.80s/it]\u001b[A\n",
            "pearson(r): 0.5546, loss: 0.0623, reg_loss: 0.0000 ||:  11%|█         | 19/180 [00:32<04:35,  1.71s/it]\u001b[A\n",
            "pearson(r): 0.5455, loss: 0.0636, reg_loss: 0.0000 ||:  11%|█         | 20/180 [00:34<04:57,  1.86s/it]\u001b[A\n",
            "pearson(r): 0.5496, loss: 0.0642, reg_loss: 0.0000 ||:  12%|█▏        | 21/180 [00:35<04:27,  1.68s/it]\u001b[A\n",
            "pearson(r): 0.5534, loss: 0.0642, reg_loss: 0.0000 ||:  12%|█▏        | 22/180 [00:37<04:09,  1.58s/it]\u001b[A\n",
            "pearson(r): 0.5494, loss: 0.0638, reg_loss: 0.0000 ||:  13%|█▎        | 23/180 [00:39<04:53,  1.87s/it]\u001b[A\n",
            "pearson(r): 0.5470, loss: 0.0637, reg_loss: 0.0000 ||:  13%|█▎        | 24/180 [00:41<05:04,  1.95s/it]\u001b[A\n",
            "pearson(r): 0.5458, loss: 0.0637, reg_loss: 0.0000 ||:  14%|█▍        | 25/180 [00:43<04:47,  1.86s/it]\u001b[A\n",
            "pearson(r): 0.5482, loss: 0.0634, reg_loss: 0.0000 ||:  14%|█▍        | 26/180 [00:44<04:26,  1.73s/it]\u001b[A\n",
            "pearson(r): 0.5432, loss: 0.0634, reg_loss: 0.0000 ||:  15%|█▌        | 27/180 [00:46<04:12,  1.65s/it]\u001b[A\n",
            "pearson(r): 0.5518, loss: 0.0627, reg_loss: 0.0000 ||:  16%|█▌        | 28/180 [00:47<03:46,  1.49s/it]\u001b[A\n",
            "pearson(r): 0.5511, loss: 0.0627, reg_loss: 0.0000 ||:  16%|█▌        | 29/180 [00:48<03:25,  1.36s/it]\u001b[A\n",
            "pearson(r): 0.5490, loss: 0.0620, reg_loss: 0.0000 ||:  17%|█▋        | 30/180 [00:49<03:28,  1.39s/it]\u001b[A\n",
            "pearson(r): 0.5557, loss: 0.0620, reg_loss: 0.0000 ||:  17%|█▋        | 31/180 [00:51<03:49,  1.54s/it]\u001b[A\n",
            "pearson(r): 0.5512, loss: 0.0623, reg_loss: 0.0000 ||:  18%|█▊        | 32/180 [00:53<04:14,  1.72s/it]\u001b[A\n",
            "pearson(r): 0.5544, loss: 0.0624, reg_loss: 0.0000 ||:  18%|█▊        | 33/180 [00:55<04:19,  1.77s/it]\u001b[A\n",
            "pearson(r): 0.5563, loss: 0.0627, reg_loss: 0.0000 ||:  19%|█▉        | 34/180 [00:57<04:06,  1.69s/it]\u001b[A\n",
            "pearson(r): 0.5506, loss: 0.0632, reg_loss: 0.0000 ||:  19%|█▉        | 35/180 [00:59<04:24,  1.82s/it]\u001b[A\n",
            "pearson(r): 0.5540, loss: 0.0632, reg_loss: 0.0000 ||:  20%|██        | 36/180 [01:00<04:02,  1.69s/it]\u001b[A\n",
            "pearson(r): 0.5515, loss: 0.0631, reg_loss: 0.0000 ||:  21%|██        | 37/180 [01:02<04:01,  1.69s/it]\u001b[A\n",
            "pearson(r): 0.5491, loss: 0.0630, reg_loss: 0.0000 ||:  21%|██        | 38/180 [01:03<03:38,  1.54s/it]\u001b[A\n",
            "pearson(r): 0.5464, loss: 0.0635, reg_loss: 0.0000 ||:  22%|██▏       | 39/180 [01:05<03:37,  1.55s/it]\u001b[A\n",
            "pearson(r): 0.5499, loss: 0.0632, reg_loss: 0.0000 ||:  22%|██▏       | 40/180 [01:07<03:52,  1.66s/it]\u001b[A\n",
            "pearson(r): 0.5501, loss: 0.0630, reg_loss: 0.0000 ||:  23%|██▎       | 41/180 [01:08<03:49,  1.65s/it]\u001b[A\n",
            "pearson(r): 0.5529, loss: 0.0628, reg_loss: 0.0000 ||:  23%|██▎       | 42/180 [01:10<03:48,  1.66s/it]\u001b[A\n",
            "pearson(r): 0.5525, loss: 0.0631, reg_loss: 0.0000 ||:  24%|██▍       | 43/180 [01:11<03:37,  1.59s/it]\u001b[A\n",
            "pearson(r): 0.5521, loss: 0.0631, reg_loss: 0.0000 ||:  24%|██▍       | 44/180 [01:13<03:26,  1.52s/it]\u001b[A\n",
            "pearson(r): 0.5503, loss: 0.0631, reg_loss: 0.0000 ||:  25%|██▌       | 45/180 [01:14<03:26,  1.53s/it]\u001b[A\n",
            "pearson(r): 0.5515, loss: 0.0630, reg_loss: 0.0000 ||:  26%|██▌       | 46/180 [01:16<03:12,  1.43s/it]\u001b[A\n",
            "pearson(r): 0.5508, loss: 0.0628, reg_loss: 0.0000 ||:  26%|██▌       | 47/180 [01:17<03:20,  1.50s/it]\u001b[A\n",
            "pearson(r): 0.5506, loss: 0.0625, reg_loss: 0.0000 ||:  27%|██▋       | 48/180 [01:19<03:19,  1.51s/it]\u001b[A\n",
            "pearson(r): 0.5493, loss: 0.0623, reg_loss: 0.0000 ||:  27%|██▋       | 49/180 [01:20<03:13,  1.47s/it]\u001b[A\n",
            "pearson(r): 0.5476, loss: 0.0626, reg_loss: 0.0000 ||:  28%|██▊       | 50/180 [01:21<03:06,  1.43s/it]\u001b[A\n",
            "pearson(r): 0.5430, loss: 0.0626, reg_loss: 0.0000 ||:  28%|██▊       | 51/180 [01:23<03:06,  1.44s/it]\u001b[A\n",
            "pearson(r): 0.5426, loss: 0.0626, reg_loss: 0.0000 ||:  29%|██▉       | 52/180 [01:24<03:04,  1.44s/it]\u001b[A\n",
            "pearson(r): 0.5420, loss: 0.0626, reg_loss: 0.0000 ||:  29%|██▉       | 53/180 [01:27<03:39,  1.73s/it]\u001b[A\n",
            "pearson(r): 0.5446, loss: 0.0624, reg_loss: 0.0000 ||:  30%|███       | 54/180 [01:28<03:24,  1.62s/it]\u001b[A\n",
            "pearson(r): 0.5415, loss: 0.0625, reg_loss: 0.0000 ||:  31%|███       | 55/180 [01:30<03:18,  1.59s/it]\u001b[A\n",
            "pearson(r): 0.5452, loss: 0.0625, reg_loss: 0.0000 ||:  31%|███       | 56/180 [01:32<03:43,  1.80s/it]\u001b[A\n",
            "pearson(r): 0.5438, loss: 0.0623, reg_loss: 0.0000 ||:  32%|███▏      | 57/180 [01:33<03:27,  1.69s/it]\u001b[A\n",
            "pearson(r): 0.5454, loss: 0.0623, reg_loss: 0.0000 ||:  32%|███▏      | 58/180 [01:35<03:17,  1.62s/it]\u001b[A\n",
            "pearson(r): 0.5495, loss: 0.0621, reg_loss: 0.0000 ||:  33%|███▎      | 59/180 [01:36<03:13,  1.60s/it]\u001b[A\n",
            "pearson(r): 0.5488, loss: 0.0621, reg_loss: 0.0000 ||:  33%|███▎      | 60/180 [01:38<02:55,  1.46s/it]\u001b[A\n",
            "pearson(r): 0.5491, loss: 0.0620, reg_loss: 0.0000 ||:  34%|███▍      | 61/180 [01:39<02:54,  1.47s/it]\u001b[A\n",
            "pearson(r): 0.5483, loss: 0.0621, reg_loss: 0.0000 ||:  34%|███▍      | 62/180 [01:41<02:56,  1.50s/it]\u001b[A\n",
            "pearson(r): 0.5491, loss: 0.0617, reg_loss: 0.0000 ||:  35%|███▌      | 63/180 [01:42<02:56,  1.51s/it]\u001b[A\n",
            "pearson(r): 0.5474, loss: 0.0616, reg_loss: 0.0000 ||:  36%|███▌      | 64/180 [01:44<03:23,  1.76s/it]\u001b[A\n",
            "pearson(r): 0.5490, loss: 0.0614, reg_loss: 0.0000 ||:  36%|███▌      | 65/180 [01:46<03:21,  1.76s/it]\u001b[A\n",
            "pearson(r): 0.5464, loss: 0.0615, reg_loss: 0.0000 ||:  37%|███▋      | 66/180 [01:48<03:08,  1.65s/it]\u001b[A\n",
            "pearson(r): 0.5462, loss: 0.0615, reg_loss: 0.0000 ||:  37%|███▋      | 67/180 [01:50<03:20,  1.77s/it]\u001b[A\n",
            "pearson(r): 0.5482, loss: 0.0614, reg_loss: 0.0000 ||:  38%|███▊      | 68/180 [01:51<03:13,  1.72s/it]\u001b[A\n",
            "pearson(r): 0.5482, loss: 0.0613, reg_loss: 0.0000 ||:  38%|███▊      | 69/180 [01:53<03:10,  1.72s/it]\u001b[A\n",
            "pearson(r): 0.5490, loss: 0.0613, reg_loss: 0.0000 ||:  39%|███▉      | 70/180 [01:55<03:19,  1.81s/it]\u001b[A\n",
            "pearson(r): 0.5489, loss: 0.0612, reg_loss: 0.0000 ||:  39%|███▉      | 71/180 [01:56<02:58,  1.64s/it]\u001b[A\n",
            "pearson(r): 0.5510, loss: 0.0608, reg_loss: 0.0000 ||:  40%|████      | 72/180 [01:58<03:15,  1.81s/it]\u001b[A\n",
            "pearson(r): 0.5512, loss: 0.0608, reg_loss: 0.0000 ||:  41%|████      | 73/180 [02:00<03:05,  1.73s/it]\u001b[A\n",
            "pearson(r): 0.5504, loss: 0.0606, reg_loss: 0.0000 ||:  41%|████      | 74/180 [02:02<03:25,  1.94s/it]\u001b[A\n",
            "pearson(r): 0.5515, loss: 0.0604, reg_loss: 0.0000 ||:  42%|████▏     | 75/180 [02:04<03:07,  1.79s/it]\u001b[A\n",
            "pearson(r): 0.5516, loss: 0.0606, reg_loss: 0.0000 ||:  42%|████▏     | 76/180 [02:05<02:53,  1.67s/it]\u001b[A\n",
            "pearson(r): 0.5534, loss: 0.0605, reg_loss: 0.0000 ||:  43%|████▎     | 77/180 [02:07<02:42,  1.58s/it]\u001b[A\n",
            "pearson(r): 0.5556, loss: 0.0605, reg_loss: 0.0000 ||:  43%|████▎     | 78/180 [02:08<02:31,  1.48s/it]\u001b[A\n",
            "pearson(r): 0.5555, loss: 0.0605, reg_loss: 0.0000 ||:  44%|████▍     | 79/180 [02:09<02:29,  1.48s/it]\u001b[A\n",
            "pearson(r): 0.5553, loss: 0.0605, reg_loss: 0.0000 ||:  44%|████▍     | 80/180 [02:11<02:20,  1.41s/it]\u001b[A\n",
            "pearson(r): 0.5547, loss: 0.0607, reg_loss: 0.0000 ||:  45%|████▌     | 81/180 [02:12<02:19,  1.41s/it]\u001b[A\n",
            "pearson(r): 0.5525, loss: 0.0607, reg_loss: 0.0000 ||:  46%|████▌     | 82/180 [02:13<02:09,  1.33s/it]\u001b[A\n",
            "pearson(r): 0.5519, loss: 0.0605, reg_loss: 0.0000 ||:  46%|████▌     | 83/180 [02:15<02:14,  1.39s/it]\u001b[A\n",
            "pearson(r): 0.5528, loss: 0.0605, reg_loss: 0.0000 ||:  47%|████▋     | 84/180 [02:16<02:13,  1.39s/it]\u001b[A\n",
            "pearson(r): 0.5526, loss: 0.0607, reg_loss: 0.0000 ||:  47%|████▋     | 85/180 [02:19<02:57,  1.87s/it]\u001b[A\n",
            "pearson(r): 0.5532, loss: 0.0609, reg_loss: 0.0000 ||:  48%|████▊     | 86/180 [02:21<02:47,  1.78s/it]\u001b[A\n",
            "pearson(r): 0.5511, loss: 0.0609, reg_loss: 0.0000 ||:  48%|████▊     | 87/180 [02:23<02:53,  1.86s/it]\u001b[A\n",
            "pearson(r): 0.5502, loss: 0.0608, reg_loss: 0.0000 ||:  49%|████▉     | 88/180 [02:25<02:54,  1.89s/it]\u001b[A\n",
            "pearson(r): 0.5515, loss: 0.0606, reg_loss: 0.0000 ||:  49%|████▉     | 89/180 [02:26<02:41,  1.78s/it]\u001b[A\n",
            "pearson(r): 0.5514, loss: 0.0609, reg_loss: 0.0000 ||:  50%|█████     | 90/180 [02:29<03:11,  2.13s/it]\u001b[A\n",
            "pearson(r): 0.5517, loss: 0.0608, reg_loss: 0.0000 ||:  51%|█████     | 91/180 [02:32<03:21,  2.26s/it]\u001b[A\n",
            "pearson(r): 0.5490, loss: 0.0608, reg_loss: 0.0000 ||:  51%|█████     | 92/180 [02:33<03:03,  2.09s/it]\u001b[A\n",
            "pearson(r): 0.5484, loss: 0.0607, reg_loss: 0.0000 ||:  52%|█████▏    | 93/180 [02:35<02:51,  1.98s/it]\u001b[A\n",
            "pearson(r): 0.5478, loss: 0.0610, reg_loss: 0.0000 ||:  52%|█████▏    | 94/180 [02:37<02:36,  1.82s/it]\u001b[A\n",
            "pearson(r): 0.5488, loss: 0.0611, reg_loss: 0.0000 ||:  53%|█████▎    | 95/180 [02:38<02:27,  1.74s/it]\u001b[A\n",
            "pearson(r): 0.5477, loss: 0.0612, reg_loss: 0.0000 ||:  53%|█████▎    | 96/180 [02:40<02:31,  1.80s/it]\u001b[A\n",
            "pearson(r): 0.5454, loss: 0.0615, reg_loss: 0.0000 ||:  54%|█████▍    | 97/180 [02:42<02:23,  1.73s/it]\u001b[A\n",
            "pearson(r): 0.5456, loss: 0.0614, reg_loss: 0.0000 ||:  54%|█████▍    | 98/180 [02:43<02:12,  1.62s/it]\u001b[A\n",
            "pearson(r): 0.5464, loss: 0.0613, reg_loss: 0.0000 ||:  55%|█████▌    | 99/180 [02:45<02:10,  1.61s/it]\u001b[A\n",
            "pearson(r): 0.5452, loss: 0.0614, reg_loss: 0.0000 ||:  56%|█████▌    | 100/180 [02:46<02:05,  1.57s/it]\u001b[A\n",
            "pearson(r): 0.5445, loss: 0.0614, reg_loss: 0.0000 ||:  56%|█████▌    | 101/180 [02:47<02:00,  1.52s/it]\u001b[A\n",
            "pearson(r): 0.5427, loss: 0.0615, reg_loss: 0.0000 ||:  57%|█████▋    | 102/180 [02:49<01:59,  1.54s/it]\u001b[A\n",
            "pearson(r): 0.5417, loss: 0.0615, reg_loss: 0.0000 ||:  57%|█████▋    | 103/180 [02:50<01:56,  1.51s/it]\u001b[A\n",
            "pearson(r): 0.5429, loss: 0.0615, reg_loss: 0.0000 ||:  58%|█████▊    | 104/180 [02:52<01:53,  1.49s/it]\u001b[A\n",
            "pearson(r): 0.5426, loss: 0.0616, reg_loss: 0.0000 ||:  58%|█████▊    | 105/180 [02:53<01:46,  1.41s/it]\u001b[A\n",
            "pearson(r): 0.5431, loss: 0.0615, reg_loss: 0.0000 ||:  59%|█████▉    | 106/180 [02:55<02:03,  1.67s/it]\u001b[A\n",
            "pearson(r): 0.5431, loss: 0.0614, reg_loss: 0.0000 ||:  59%|█████▉    | 107/180 [02:57<01:56,  1.60s/it]\u001b[A\n",
            "pearson(r): 0.5415, loss: 0.0615, reg_loss: 0.0000 ||:  60%|██████    | 108/180 [02:58<01:52,  1.57s/it]\u001b[A\n",
            "pearson(r): 0.5402, loss: 0.0614, reg_loss: 0.0000 ||:  61%|██████    | 109/180 [03:00<01:59,  1.69s/it]\u001b[A\n",
            "pearson(r): 0.5399, loss: 0.0615, reg_loss: 0.0000 ||:  61%|██████    | 110/180 [03:02<01:57,  1.68s/it]\u001b[A\n",
            "pearson(r): 0.5400, loss: 0.0616, reg_loss: 0.0000 ||:  62%|██████▏   | 111/180 [03:03<01:44,  1.51s/it]\u001b[A\n",
            "pearson(r): 0.5407, loss: 0.0616, reg_loss: 0.0000 ||:  62%|██████▏   | 112/180 [03:05<01:40,  1.48s/it]\u001b[A\n",
            "pearson(r): 0.5405, loss: 0.0616, reg_loss: 0.0000 ||:  63%|██████▎   | 113/180 [03:06<01:42,  1.52s/it]\u001b[A\n",
            "pearson(r): 0.5405, loss: 0.0615, reg_loss: 0.0000 ||:  63%|██████▎   | 114/180 [03:07<01:37,  1.47s/it]\u001b[A\n",
            "pearson(r): 0.5403, loss: 0.0615, reg_loss: 0.0000 ||:  64%|██████▍   | 115/180 [03:09<01:37,  1.49s/it]\u001b[A\n",
            "pearson(r): 0.5411, loss: 0.0615, reg_loss: 0.0000 ||:  64%|██████▍   | 116/180 [03:11<01:37,  1.52s/it]\u001b[A\n",
            "pearson(r): 0.5406, loss: 0.0616, reg_loss: 0.0000 ||:  65%|██████▌   | 117/180 [03:12<01:34,  1.49s/it]\u001b[A\n",
            "pearson(r): 0.5404, loss: 0.0616, reg_loss: 0.0000 ||:  66%|██████▌   | 118/180 [03:13<01:30,  1.46s/it]\u001b[A\n",
            "pearson(r): 0.5405, loss: 0.0615, reg_loss: 0.0000 ||:  66%|██████▌   | 119/180 [03:15<01:26,  1.43s/it]\u001b[A\n",
            "pearson(r): 0.5413, loss: 0.0615, reg_loss: 0.0000 ||:  67%|██████▋   | 120/180 [03:18<01:56,  1.94s/it]\u001b[A\n",
            "pearson(r): 0.5389, loss: 0.0618, reg_loss: 0.0000 ||:  67%|██████▋   | 121/180 [03:21<02:13,  2.27s/it]\u001b[A\n",
            "pearson(r): 0.5393, loss: 0.0617, reg_loss: 0.0000 ||:  68%|██████▊   | 122/180 [03:22<01:55,  1.98s/it]\u001b[A\n",
            "pearson(r): 0.5393, loss: 0.0617, reg_loss: 0.0000 ||:  68%|██████▊   | 123/180 [03:24<01:46,  1.88s/it]\u001b[A\n",
            "pearson(r): 0.5393, loss: 0.0618, reg_loss: 0.0000 ||:  69%|██████▉   | 124/180 [03:25<01:37,  1.74s/it]\u001b[A\n",
            "pearson(r): 0.5366, loss: 0.0621, reg_loss: 0.0000 ||:  69%|██████▉   | 125/180 [03:28<01:55,  2.11s/it]\u001b[A\n",
            "pearson(r): 0.5361, loss: 0.0622, reg_loss: 0.0000 ||:  70%|███████   | 126/180 [03:31<02:08,  2.38s/it]\u001b[A\n",
            "pearson(r): 0.5350, loss: 0.0623, reg_loss: 0.0000 ||:  71%|███████   | 127/180 [03:33<01:53,  2.15s/it]\u001b[A\n",
            "pearson(r): 0.5354, loss: 0.0622, reg_loss: 0.0000 ||:  71%|███████   | 128/180 [03:35<01:48,  2.09s/it]\u001b[A\n",
            "pearson(r): 0.5354, loss: 0.0624, reg_loss: 0.0000 ||:  72%|███████▏  | 129/180 [03:36<01:38,  1.93s/it]\u001b[A\n",
            "pearson(r): 0.5354, loss: 0.0626, reg_loss: 0.0000 ||:  72%|███████▏  | 130/180 [03:38<01:26,  1.73s/it]\u001b[A\n",
            "pearson(r): 0.5363, loss: 0.0624, reg_loss: 0.0000 ||:  73%|███████▎  | 131/180 [03:39<01:24,  1.73s/it]\u001b[A\n",
            "pearson(r): 0.5361, loss: 0.0625, reg_loss: 0.0000 ||:  73%|███████▎  | 132/180 [03:42<01:41,  2.12s/it]\u001b[A\n",
            "pearson(r): 0.5367, loss: 0.0625, reg_loss: 0.0000 ||:  74%|███████▍  | 133/180 [03:44<01:32,  1.96s/it]\u001b[A\n",
            "pearson(r): 0.5358, loss: 0.0627, reg_loss: 0.0000 ||:  74%|███████▍  | 134/180 [03:46<01:23,  1.83s/it]\u001b[A\n",
            "pearson(r): 0.5350, loss: 0.0626, reg_loss: 0.0000 ||:  75%|███████▌  | 135/180 [03:47<01:20,  1.78s/it]\u001b[A\n",
            "pearson(r): 0.5340, loss: 0.0627, reg_loss: 0.0000 ||:  76%|███████▌  | 136/180 [03:49<01:12,  1.65s/it]\u001b[A\n",
            "pearson(r): 0.5337, loss: 0.0627, reg_loss: 0.0000 ||:  76%|███████▌  | 137/180 [03:50<01:09,  1.61s/it]\u001b[A\n",
            "pearson(r): 0.5344, loss: 0.0626, reg_loss: 0.0000 ||:  77%|███████▋  | 138/180 [03:51<01:03,  1.52s/it]\u001b[A\n",
            "pearson(r): 0.5323, loss: 0.0627, reg_loss: 0.0000 ||:  77%|███████▋  | 139/180 [03:54<01:21,  1.98s/it]\u001b[A\n",
            "pearson(r): 0.5323, loss: 0.0626, reg_loss: 0.0000 ||:  78%|███████▊  | 140/180 [03:56<01:13,  1.83s/it]\u001b[A\n",
            "pearson(r): 0.5310, loss: 0.0627, reg_loss: 0.0000 ||:  78%|███████▊  | 141/180 [03:57<01:06,  1.69s/it]\u001b[A\n",
            "pearson(r): 0.5313, loss: 0.0627, reg_loss: 0.0000 ||:  79%|███████▉  | 142/180 [03:59<01:02,  1.63s/it]\u001b[A\n",
            "pearson(r): 0.5315, loss: 0.0627, reg_loss: 0.0000 ||:  79%|███████▉  | 143/180 [04:00<01:00,  1.63s/it]\u001b[A\n",
            "pearson(r): 0.5310, loss: 0.0626, reg_loss: 0.0000 ||:  80%|████████  | 144/180 [04:02<00:58,  1.61s/it]\u001b[A\n",
            "pearson(r): 0.5314, loss: 0.0626, reg_loss: 0.0000 ||:  81%|████████  | 145/180 [04:04<00:56,  1.61s/it]\u001b[A\n",
            "pearson(r): 0.5297, loss: 0.0627, reg_loss: 0.0000 ||:  81%|████████  | 146/180 [04:07<01:09,  2.04s/it]\u001b[A\n",
            "pearson(r): 0.5293, loss: 0.0627, reg_loss: 0.0000 ||:  82%|████████▏ | 147/180 [04:09<01:09,  2.09s/it]\u001b[A\n",
            "pearson(r): 0.5290, loss: 0.0627, reg_loss: 0.0000 ||:  82%|████████▏ | 148/180 [04:10<01:00,  1.88s/it]\u001b[A\n",
            "pearson(r): 0.5289, loss: 0.0626, reg_loss: 0.0000 ||:  83%|████████▎ | 149/180 [04:11<00:51,  1.66s/it]\u001b[A\n",
            "pearson(r): 0.5287, loss: 0.0627, reg_loss: 0.0000 ||:  83%|████████▎ | 150/180 [04:13<00:49,  1.64s/it]\u001b[A\n",
            "pearson(r): 0.5287, loss: 0.0626, reg_loss: 0.0000 ||:  84%|████████▍ | 151/180 [04:14<00:46,  1.59s/it]\u001b[A\n",
            "pearson(r): 0.5293, loss: 0.0625, reg_loss: 0.0000 ||:  84%|████████▍ | 152/180 [04:17<00:48,  1.73s/it]\u001b[A\n",
            "pearson(r): 0.5299, loss: 0.0625, reg_loss: 0.0000 ||:  85%|████████▌ | 153/180 [04:18<00:44,  1.64s/it]\u001b[A\n",
            "pearson(r): 0.5295, loss: 0.0626, reg_loss: 0.0000 ||:  86%|████████▌ | 154/180 [04:19<00:41,  1.59s/it]\u001b[A\n",
            "pearson(r): 0.5308, loss: 0.0625, reg_loss: 0.0000 ||:  86%|████████▌ | 155/180 [04:21<00:38,  1.54s/it]\u001b[A\n",
            "pearson(r): 0.5309, loss: 0.0625, reg_loss: 0.0000 ||:  87%|████████▋ | 156/180 [04:22<00:35,  1.50s/it]\u001b[A\n",
            "pearson(r): 0.5295, loss: 0.0626, reg_loss: 0.0000 ||:  87%|████████▋ | 157/180 [04:24<00:35,  1.55s/it]\u001b[A\n",
            "pearson(r): 0.5298, loss: 0.0625, reg_loss: 0.0000 ||:  88%|████████▊ | 158/180 [04:26<00:35,  1.62s/it]\u001b[A\n",
            "pearson(r): 0.5288, loss: 0.0627, reg_loss: 0.0000 ||:  88%|████████▊ | 159/180 [04:28<00:36,  1.74s/it]\u001b[A\n",
            "pearson(r): 0.5286, loss: 0.0626, reg_loss: 0.0000 ||:  89%|████████▉ | 160/180 [04:29<00:33,  1.67s/it]\u001b[A\n",
            "pearson(r): 0.5287, loss: 0.0627, reg_loss: 0.0000 ||:  89%|████████▉ | 161/180 [04:31<00:30,  1.60s/it]\u001b[A\n",
            "pearson(r): 0.5288, loss: 0.0627, reg_loss: 0.0000 ||:  90%|█████████ | 162/180 [04:32<00:28,  1.58s/it]\u001b[A\n",
            "pearson(r): 0.5276, loss: 0.0628, reg_loss: 0.0000 ||:  91%|█████████ | 163/180 [04:34<00:26,  1.58s/it]\u001b[A\n",
            "pearson(r): 0.5276, loss: 0.0628, reg_loss: 0.0000 ||:  91%|█████████ | 164/180 [04:35<00:24,  1.56s/it]\u001b[A\n",
            "pearson(r): 0.5268, loss: 0.0629, reg_loss: 0.0000 ||:  92%|█████████▏| 165/180 [04:37<00:24,  1.66s/it]\u001b[A\n",
            "pearson(r): 0.5267, loss: 0.0630, reg_loss: 0.0000 ||:  92%|█████████▏| 166/180 [04:39<00:24,  1.73s/it]\u001b[A\n",
            "pearson(r): 0.5261, loss: 0.0630, reg_loss: 0.0000 ||:  93%|█████████▎| 167/180 [04:40<00:20,  1.60s/it]\u001b[A\n",
            "pearson(r): 0.5257, loss: 0.0629, reg_loss: 0.0000 ||:  93%|█████████▎| 168/180 [04:42<00:18,  1.54s/it]\u001b[A\n",
            "pearson(r): 0.5250, loss: 0.0629, reg_loss: 0.0000 ||:  94%|█████████▍| 169/180 [04:43<00:16,  1.49s/it]\u001b[A\n",
            "pearson(r): 0.5246, loss: 0.0630, reg_loss: 0.0000 ||:  94%|█████████▍| 170/180 [04:45<00:14,  1.49s/it]\u001b[A\n",
            "pearson(r): 0.5244, loss: 0.0630, reg_loss: 0.0000 ||:  95%|█████████▌| 171/180 [04:46<00:13,  1.47s/it]\u001b[A\n",
            "pearson(r): 0.5251, loss: 0.0631, reg_loss: 0.0000 ||:  96%|█████████▌| 172/180 [04:48<00:11,  1.49s/it]\u001b[A\n",
            "pearson(r): 0.5253, loss: 0.0630, reg_loss: 0.0000 ||:  96%|█████████▌| 173/180 [04:49<00:10,  1.44s/it]\u001b[A\n",
            "pearson(r): 0.5251, loss: 0.0630, reg_loss: 0.0000 ||:  97%|█████████▋| 174/180 [04:51<00:09,  1.51s/it]\u001b[A\n",
            "pearson(r): 0.5245, loss: 0.0631, reg_loss: 0.0000 ||:  97%|█████████▋| 175/180 [04:52<00:07,  1.53s/it]\u001b[A\n",
            "pearson(r): 0.5242, loss: 0.0632, reg_loss: 0.0000 ||:  98%|█████████▊| 176/180 [04:53<00:05,  1.43s/it]\u001b[A\n",
            "pearson(r): 0.5251, loss: 0.0631, reg_loss: 0.0000 ||:  98%|█████████▊| 177/180 [04:55<00:04,  1.45s/it]\u001b[A\n",
            "pearson(r): 0.5250, loss: 0.0632, reg_loss: 0.0000 ||:  99%|█████████▉| 178/180 [04:58<00:03,  1.91s/it]\u001b[A\n",
            "pearson(r): 0.5251, loss: 0.0632, reg_loss: 0.0000 ||:  99%|█████████▉| 179/180 [05:00<00:01,  1.93s/it]\u001b[A\n",
            "pearson(r): 0.5259, loss: 0.0632, reg_loss: 0.0000 ||: 100%|██████████| 180/180 [05:01<00:00,  1.68s/it]\n",
            "\n",
            "  0%|          | 0/180 [00:00<?, ?it/s]\u001b[A\n",
            "pearson(r): 0.7196, loss: 0.0992, reg_loss: 0.0000 ||:   1%|          | 1/180 [00:00<01:36,  1.86it/s]\u001b[A\n",
            "pearson(r): 0.5856, loss: 0.0955, reg_loss: 0.0000 ||:   1%|          | 2/180 [00:00<01:20,  2.21it/s]\u001b[A\n",
            "pearson(r): 0.5946, loss: 0.0911, reg_loss: 0.0000 ||:   2%|▏         | 3/180 [00:01<01:10,  2.51it/s]\u001b[A\n",
            "pearson(r): 0.5837, loss: 0.0865, reg_loss: 0.0000 ||:   2%|▏         | 4/180 [00:01<01:04,  2.74it/s]\u001b[A\n",
            "pearson(r): 0.5522, loss: 0.0877, reg_loss: 0.0000 ||:   3%|▎         | 5/180 [00:01<01:02,  2.79it/s]\u001b[A\n",
            "pearson(r): 0.5484, loss: 0.0860, reg_loss: 0.0000 ||:   3%|▎         | 6/180 [00:02<01:03,  2.75it/s]\u001b[A\n",
            "pearson(r): 0.5570, loss: 0.0833, reg_loss: 0.0000 ||:   4%|▍         | 7/180 [00:02<01:01,  2.80it/s]\u001b[A\n",
            "pearson(r): 0.5841, loss: 0.0792, reg_loss: 0.0000 ||:   4%|▍         | 8/180 [00:02<00:56,  3.05it/s]\u001b[A\n",
            "pearson(r): 0.5983, loss: 0.0801, reg_loss: 0.0000 ||:   5%|▌         | 9/180 [00:02<00:51,  3.34it/s]\u001b[A\n",
            "pearson(r): 0.5980, loss: 0.0775, reg_loss: 0.0000 ||:   6%|▌         | 10/180 [00:03<00:48,  3.49it/s]\u001b[A\n",
            "pearson(r): 0.6144, loss: 0.0755, reg_loss: 0.0000 ||:   6%|▌         | 11/180 [00:03<00:48,  3.50it/s]\u001b[A\n",
            "pearson(r): 0.6129, loss: 0.0748, reg_loss: 0.0000 ||:   7%|▋         | 12/180 [00:03<00:47,  3.54it/s]\u001b[A\n",
            "pearson(r): 0.6186, loss: 0.0721, reg_loss: 0.0000 ||:   7%|▋         | 13/180 [00:03<00:44,  3.76it/s]\u001b[A\n",
            "pearson(r): 0.6106, loss: 0.0732, reg_loss: 0.0000 ||:   8%|▊         | 14/180 [00:04<00:45,  3.62it/s]\u001b[A\n",
            "pearson(r): 0.6146, loss: 0.0752, reg_loss: 0.0000 ||:   8%|▊         | 15/180 [00:04<00:44,  3.73it/s]\u001b[A\n",
            "pearson(r): 0.6193, loss: 0.0755, reg_loss: 0.0000 ||:   9%|▉         | 16/180 [00:04<00:40,  4.01it/s]\u001b[A\n",
            "pearson(r): 0.6169, loss: 0.0757, reg_loss: 0.0000 ||:   9%|▉         | 17/180 [00:05<00:46,  3.53it/s]\u001b[A\n",
            "pearson(r): 0.6205, loss: 0.0759, reg_loss: 0.0000 ||:  10%|█         | 18/180 [00:05<00:45,  3.53it/s]\u001b[A\n",
            "pearson(r): 0.6176, loss: 0.0753, reg_loss: 0.0000 ||:  11%|█         | 19/180 [00:05<00:44,  3.59it/s]\u001b[A\n",
            "pearson(r): 0.6262, loss: 0.0739, reg_loss: 0.0000 ||:  11%|█         | 20/180 [00:06<00:53,  2.96it/s]\u001b[A\n",
            "pearson(r): 0.6147, loss: 0.0753, reg_loss: 0.0000 ||:  12%|█▏        | 21/180 [00:06<00:48,  3.25it/s]\u001b[A\n",
            "pearson(r): 0.6155, loss: 0.0755, reg_loss: 0.0000 ||:  12%|█▏        | 22/180 [00:06<00:45,  3.45it/s]\u001b[A\n",
            "pearson(r): 0.6113, loss: 0.0760, reg_loss: 0.0000 ||:  13%|█▎        | 23/180 [00:06<00:44,  3.51it/s]\u001b[A\n",
            "pearson(r): 0.6129, loss: 0.0753, reg_loss: 0.0000 ||:  13%|█▎        | 24/180 [00:07<00:46,  3.36it/s]\u001b[A\n",
            "pearson(r): 0.6198, loss: 0.0742, reg_loss: 0.0000 ||:  14%|█▍        | 25/180 [00:07<00:42,  3.67it/s]\u001b[A\n",
            "pearson(r): 0.6142, loss: 0.0758, reg_loss: 0.0000 ||:  14%|█▍        | 26/180 [00:07<00:54,  2.84it/s]\u001b[A\n",
            "pearson(r): 0.6126, loss: 0.0767, reg_loss: 0.0000 ||:  15%|█▌        | 27/180 [00:08<00:48,  3.14it/s]\u001b[A\n",
            "pearson(r): 0.6124, loss: 0.0783, reg_loss: 0.0000 ||:  16%|█▌        | 28/180 [00:08<00:42,  3.55it/s]\u001b[A\n",
            "pearson(r): 0.6119, loss: 0.0772, reg_loss: 0.0000 ||:  16%|█▌        | 29/180 [00:08<00:41,  3.67it/s]\u001b[A\n",
            "pearson(r): 0.6071, loss: 0.0787, reg_loss: 0.0000 ||:  17%|█▋        | 30/180 [00:08<00:38,  3.86it/s]\u001b[A\n",
            "pearson(r): 0.6060, loss: 0.0792, reg_loss: 0.0000 ||:  17%|█▋        | 31/180 [00:09<00:43,  3.42it/s]\u001b[A\n",
            "pearson(r): 0.6050, loss: 0.0798, reg_loss: 0.0000 ||:  18%|█▊        | 32/180 [00:09<00:54,  2.74it/s]\u001b[A\n",
            "pearson(r): 0.6047, loss: 0.0807, reg_loss: 0.0000 ||:  18%|█▊        | 33/180 [00:10<00:49,  2.97it/s]\u001b[A\n",
            "pearson(r): 0.6021, loss: 0.0809, reg_loss: 0.0000 ||:  19%|█▉        | 34/180 [00:10<00:43,  3.38it/s]\u001b[A\n",
            "pearson(r): 0.6060, loss: 0.0804, reg_loss: 0.0000 ||:  19%|█▉        | 35/180 [00:10<00:42,  3.42it/s]\u001b[A\n",
            "pearson(r): 0.6069, loss: 0.0803, reg_loss: 0.0000 ||:  20%|██        | 36/180 [00:10<00:40,  3.53it/s]\u001b[A\n",
            "pearson(r): 0.6074, loss: 0.0796, reg_loss: 0.0000 ||:  21%|██        | 37/180 [00:11<00:42,  3.39it/s]\u001b[A\n",
            "pearson(r): 0.6017, loss: 0.0805, reg_loss: 0.0000 ||:  21%|██        | 38/180 [00:11<00:47,  3.00it/s]\u001b[A\n",
            "pearson(r): 0.6007, loss: 0.0809, reg_loss: 0.0000 ||:  22%|██▏       | 39/180 [00:11<00:45,  3.11it/s]\u001b[A\n",
            "pearson(r): 0.6031, loss: 0.0812, reg_loss: 0.0000 ||:  22%|██▏       | 40/180 [00:12<00:42,  3.32it/s]\u001b[A\n",
            "pearson(r): 0.6018, loss: 0.0807, reg_loss: 0.0000 ||:  23%|██▎       | 41/180 [00:12<00:39,  3.48it/s]\u001b[A\n",
            "pearson(r): 0.6005, loss: 0.0811, reg_loss: 0.0000 ||:  23%|██▎       | 42/180 [00:12<00:39,  3.54it/s]\u001b[A\n",
            "pearson(r): 0.6009, loss: 0.0808, reg_loss: 0.0000 ||:  24%|██▍       | 43/180 [00:12<00:42,  3.26it/s]\u001b[A\n",
            "pearson(r): 0.6048, loss: 0.0802, reg_loss: 0.0000 ||:  24%|██▍       | 44/180 [00:13<00:41,  3.30it/s]\u001b[A\n",
            "pearson(r): 0.6012, loss: 0.0803, reg_loss: 0.0000 ||:  25%|██▌       | 45/180 [00:13<00:39,  3.46it/s]\u001b[A\n",
            "pearson(r): 0.6017, loss: 0.0802, reg_loss: 0.0000 ||:  26%|██▌       | 46/180 [00:13<00:44,  3.04it/s]\u001b[A\n",
            "pearson(r): 0.6017, loss: 0.0802, reg_loss: 0.0000 ||:  26%|██▌       | 47/180 [00:14<00:45,  2.91it/s]\u001b[A\n",
            "pearson(r): 0.6034, loss: 0.0800, reg_loss: 0.0000 ||:  27%|██▋       | 48/180 [00:14<00:42,  3.13it/s]\u001b[A\n",
            "pearson(r): 0.6037, loss: 0.0803, reg_loss: 0.0000 ||:  27%|██▋       | 49/180 [00:14<00:40,  3.27it/s]\u001b[A\n",
            "pearson(r): 0.6046, loss: 0.0798, reg_loss: 0.0000 ||:  28%|██▊       | 50/180 [00:15<00:38,  3.41it/s]\u001b[A\n",
            "pearson(r): 0.6068, loss: 0.0792, reg_loss: 0.0000 ||:  28%|██▊       | 51/180 [00:15<00:37,  3.48it/s]\u001b[A\n",
            "pearson(r): 0.6029, loss: 0.0791, reg_loss: 0.0000 ||:  29%|██▉       | 52/180 [00:15<00:41,  3.08it/s]\u001b[A\n",
            "pearson(r): 0.6003, loss: 0.0791, reg_loss: 0.0000 ||:  29%|██▉       | 53/180 [00:16<00:37,  3.37it/s]\u001b[A\n",
            "pearson(r): 0.6003, loss: 0.0787, reg_loss: 0.0000 ||:  30%|███       | 54/180 [00:16<00:37,  3.35it/s]\u001b[A\n",
            "pearson(r): 0.5990, loss: 0.0788, reg_loss: 0.0000 ||:  31%|███       | 55/180 [00:16<00:36,  3.46it/s]\u001b[A\n",
            "pearson(r): 0.5995, loss: 0.0784, reg_loss: 0.0000 ||:  31%|███       | 56/180 [00:16<00:34,  3.57it/s]\u001b[A\n",
            "pearson(r): 0.6015, loss: 0.0781, reg_loss: 0.0000 ||:  32%|███▏      | 57/180 [00:17<00:32,  3.76it/s]\u001b[A\n",
            "pearson(r): 0.6009, loss: 0.0781, reg_loss: 0.0000 ||:  32%|███▏      | 58/180 [00:17<00:37,  3.23it/s]\u001b[A\n",
            "pearson(r): 0.6005, loss: 0.0780, reg_loss: 0.0000 ||:  33%|███▎      | 59/180 [00:17<00:35,  3.40it/s]\u001b[A\n",
            "pearson(r): 0.6011, loss: 0.0780, reg_loss: 0.0000 ||:  33%|███▎      | 60/180 [00:18<00:36,  3.31it/s]\u001b[A\n",
            "pearson(r): 0.5974, loss: 0.0788, reg_loss: 0.0000 ||:  34%|███▍      | 61/180 [00:18<00:44,  2.70it/s]\u001b[A\n",
            "pearson(r): 0.5985, loss: 0.0787, reg_loss: 0.0000 ||:  34%|███▍      | 62/180 [00:18<00:40,  2.91it/s]\u001b[A\n",
            "pearson(r): 0.6000, loss: 0.0788, reg_loss: 0.0000 ||:  35%|███▌      | 63/180 [00:19<00:36,  3.22it/s]\u001b[A\n",
            "pearson(r): 0.5979, loss: 0.0788, reg_loss: 0.0000 ||:  36%|███▌      | 64/180 [00:19<00:33,  3.49it/s]\u001b[A\n",
            "pearson(r): 0.5919, loss: 0.0790, reg_loss: 0.0000 ||:  36%|███▌      | 65/180 [00:19<00:37,  3.09it/s]\u001b[A\n",
            "pearson(r): 0.5941, loss: 0.0788, reg_loss: 0.0000 ||:  37%|███▋      | 66/180 [00:20<00:35,  3.24it/s]\u001b[A\n",
            "pearson(r): 0.5952, loss: 0.0789, reg_loss: 0.0000 ||:  37%|███▋      | 67/180 [00:20<00:31,  3.64it/s]\u001b[A\n",
            "pearson(r): 0.5985, loss: 0.0786, reg_loss: 0.0000 ||:  38%|███▊      | 68/180 [00:20<00:31,  3.60it/s]\u001b[A\n",
            "pearson(r): 0.5970, loss: 0.0786, reg_loss: 0.0000 ||:  38%|███▊      | 69/180 [00:20<00:29,  3.70it/s]\u001b[A\n",
            "pearson(r): 0.5978, loss: 0.0785, reg_loss: 0.0000 ||:  39%|███▉      | 70/180 [00:21<00:29,  3.73it/s]\u001b[A\n",
            "pearson(r): 0.5967, loss: 0.0788, reg_loss: 0.0000 ||:  39%|███▉      | 71/180 [00:21<00:30,  3.52it/s]\u001b[A\n",
            "pearson(r): 0.5962, loss: 0.0788, reg_loss: 0.0000 ||:  40%|████      | 72/180 [00:21<00:29,  3.67it/s]\u001b[A\n",
            "pearson(r): 0.5998, loss: 0.0786, reg_loss: 0.0000 ||:  41%|████      | 73/180 [00:21<00:29,  3.67it/s]\u001b[A\n",
            "pearson(r): 0.6006, loss: 0.0786, reg_loss: 0.0000 ||:  41%|████      | 74/180 [00:22<00:27,  3.84it/s]\u001b[A\n",
            "pearson(r): 0.6007, loss: 0.0785, reg_loss: 0.0000 ||:  42%|████▏     | 75/180 [00:22<00:25,  4.13it/s]\u001b[A\n",
            "pearson(r): 0.6015, loss: 0.0782, reg_loss: 0.0000 ||:  42%|████▏     | 76/180 [00:22<00:26,  3.89it/s]\u001b[A\n",
            "pearson(r): 0.6019, loss: 0.0784, reg_loss: 0.0000 ||:  43%|████▎     | 77/180 [00:22<00:24,  4.18it/s]\u001b[A\n",
            "pearson(r): 0.6021, loss: 0.0782, reg_loss: 0.0000 ||:  43%|████▎     | 78/180 [00:23<00:26,  3.88it/s]\u001b[A\n",
            "pearson(r): 0.6010, loss: 0.0785, reg_loss: 0.0000 ||:  44%|████▍     | 79/180 [00:23<00:25,  3.89it/s]\u001b[A\n",
            "pearson(r): 0.6011, loss: 0.0784, reg_loss: 0.0000 ||:  44%|████▍     | 80/180 [00:23<00:24,  4.10it/s]\u001b[A\n",
            "pearson(r): 0.5997, loss: 0.0786, reg_loss: 0.0000 ||:  45%|████▌     | 81/180 [00:23<00:26,  3.81it/s]\u001b[A\n",
            "pearson(r): 0.6012, loss: 0.0783, reg_loss: 0.0000 ||:  46%|████▌     | 82/180 [00:24<00:25,  3.81it/s]\u001b[A\n",
            "pearson(r): 0.6030, loss: 0.0783, reg_loss: 0.0000 ||:  46%|████▌     | 83/180 [00:24<00:25,  3.85it/s]\u001b[A\n",
            "pearson(r): 0.6022, loss: 0.0783, reg_loss: 0.0000 ||:  47%|████▋     | 84/180 [00:24<00:32,  2.94it/s]\u001b[A\n",
            "pearson(r): 0.6031, loss: 0.0779, reg_loss: 0.0000 ||:  47%|████▋     | 85/180 [00:25<00:30,  3.15it/s]\u001b[A\n",
            "pearson(r): 0.6036, loss: 0.0779, reg_loss: 0.0000 ||:  48%|████▊     | 86/180 [00:25<00:28,  3.31it/s]\u001b[A\n",
            "pearson(r): 0.6017, loss: 0.0778, reg_loss: 0.0000 ||:  48%|████▊     | 87/180 [00:25<00:27,  3.34it/s]\u001b[A\n",
            "pearson(r): 0.6018, loss: 0.0782, reg_loss: 0.0000 ||:  49%|████▉     | 88/180 [00:26<00:33,  2.71it/s]\u001b[A\n",
            "pearson(r): 0.6011, loss: 0.0781, reg_loss: 0.0000 ||:  49%|████▉     | 89/180 [00:26<00:30,  2.96it/s]\u001b[A\n",
            "pearson(r): 0.6002, loss: 0.0780, reg_loss: 0.0000 ||:  50%|█████     | 90/180 [00:26<00:29,  3.09it/s]\u001b[A\n",
            "pearson(r): 0.6000, loss: 0.0778, reg_loss: 0.0000 ||:  51%|█████     | 91/180 [00:27<00:27,  3.20it/s]\u001b[A\n",
            "pearson(r): 0.5998, loss: 0.0780, reg_loss: 0.0000 ||:  51%|█████     | 92/180 [00:27<00:28,  3.09it/s]\u001b[A\n",
            "pearson(r): 0.6009, loss: 0.0777, reg_loss: 0.0000 ||:  52%|█████▏    | 93/180 [00:27<00:26,  3.25it/s]\u001b[A\n",
            "pearson(r): 0.6001, loss: 0.0777, reg_loss: 0.0000 ||:  52%|█████▏    | 94/180 [00:27<00:23,  3.64it/s]\u001b[A\n",
            "pearson(r): 0.5979, loss: 0.0777, reg_loss: 0.0000 ||:  53%|█████▎    | 95/180 [00:28<00:25,  3.31it/s]\u001b[A\n",
            "pearson(r): 0.5985, loss: 0.0776, reg_loss: 0.0000 ||:  53%|█████▎    | 96/180 [00:28<00:24,  3.43it/s]\u001b[A\n",
            "pearson(r): 0.5961, loss: 0.0777, reg_loss: 0.0000 ||:  54%|█████▍    | 97/180 [00:28<00:22,  3.71it/s]\u001b[A\n",
            "pearson(r): 0.5956, loss: 0.0779, reg_loss: 0.0000 ||:  54%|█████▍    | 98/180 [00:29<00:21,  3.84it/s]\u001b[A\n",
            "pearson(r): 0.5947, loss: 0.0778, reg_loss: 0.0000 ||:  55%|█████▌    | 99/180 [00:29<00:21,  3.70it/s]\u001b[A\n",
            "pearson(r): 0.5952, loss: 0.0777, reg_loss: 0.0000 ||:  56%|█████▌    | 100/180 [00:29<00:21,  3.66it/s]\u001b[A\n",
            "pearson(r): 0.5936, loss: 0.0778, reg_loss: 0.0000 ||:  56%|█████▌    | 101/180 [00:29<00:22,  3.57it/s]\u001b[A\n",
            "pearson(r): 0.5947, loss: 0.0775, reg_loss: 0.0000 ||:  57%|█████▋    | 102/180 [00:30<00:23,  3.34it/s]\u001b[A\n",
            "pearson(r): 0.5949, loss: 0.0771, reg_loss: 0.0000 ||:  57%|█████▋    | 103/180 [00:30<00:22,  3.38it/s]\u001b[A\n",
            "pearson(r): 0.5937, loss: 0.0772, reg_loss: 0.0000 ||:  58%|█████▊    | 104/180 [00:31<00:28,  2.71it/s]\u001b[A\n",
            "pearson(r): 0.5923, loss: 0.0772, reg_loss: 0.0000 ||:  58%|█████▊    | 105/180 [00:31<00:25,  2.92it/s]\u001b[A\n",
            "pearson(r): 0.5944, loss: 0.0771, reg_loss: 0.0000 ||:  59%|█████▉    | 106/180 [00:31<00:23,  3.12it/s]\u001b[A\n",
            "pearson(r): 0.5949, loss: 0.0771, reg_loss: 0.0000 ||:  59%|█████▉    | 107/180 [00:31<00:21,  3.32it/s]\u001b[A\n",
            "pearson(r): 0.5955, loss: 0.0772, reg_loss: 0.0000 ||:  60%|██████    | 108/180 [00:32<00:26,  2.69it/s]\u001b[A\n",
            "pearson(r): 0.5972, loss: 0.0771, reg_loss: 0.0000 ||:  61%|██████    | 109/180 [00:32<00:23,  3.04it/s]\u001b[A\n",
            "pearson(r): 0.5970, loss: 0.0771, reg_loss: 0.0000 ||:  61%|██████    | 110/180 [00:32<00:20,  3.40it/s]\u001b[A\n",
            "pearson(r): 0.5979, loss: 0.0771, reg_loss: 0.0000 ||:  62%|██████▏   | 111/180 [00:33<00:22,  3.10it/s]\u001b[A\n",
            "pearson(r): 0.5978, loss: 0.0772, reg_loss: 0.0000 ||:  62%|██████▏   | 112/180 [00:33<00:21,  3.17it/s]\u001b[A\n",
            "pearson(r): 0.5982, loss: 0.0770, reg_loss: 0.0000 ||:  63%|██████▎   | 113/180 [00:33<00:19,  3.51it/s]\u001b[A\n",
            "pearson(r): 0.5985, loss: 0.0770, reg_loss: 0.0000 ||:  63%|██████▎   | 114/180 [00:34<00:18,  3.56it/s]\u001b[A\n",
            "pearson(r): 0.5992, loss: 0.0769, reg_loss: 0.0000 ||:  64%|██████▍   | 115/180 [00:34<00:19,  3.33it/s]\u001b[A\n",
            "pearson(r): 0.6007, loss: 0.0766, reg_loss: 0.0000 ||:  64%|██████▍   | 116/180 [00:34<00:20,  3.09it/s]\u001b[A\n",
            "pearson(r): 0.6003, loss: 0.0766, reg_loss: 0.0000 ||:  65%|██████▌   | 117/180 [00:35<00:19,  3.23it/s]\u001b[A\n",
            "pearson(r): 0.5998, loss: 0.0763, reg_loss: 0.0000 ||:  66%|██████▌   | 118/180 [00:35<00:18,  3.29it/s]\u001b[A\n",
            "pearson(r): 0.6003, loss: 0.0764, reg_loss: 0.0000 ||:  66%|██████▌   | 119/180 [00:35<00:22,  2.71it/s]\u001b[A\n",
            "pearson(r): 0.6003, loss: 0.0766, reg_loss: 0.0000 ||:  67%|██████▋   | 120/180 [00:36<00:20,  2.90it/s]\u001b[A\n",
            "pearson(r): 0.6004, loss: 0.0766, reg_loss: 0.0000 ||:  67%|██████▋   | 121/180 [00:36<00:19,  3.06it/s]\u001b[A\n",
            "pearson(r): 0.5998, loss: 0.0765, reg_loss: 0.0000 ||:  68%|██████▊   | 122/180 [00:36<00:17,  3.24it/s]\u001b[A\n",
            "pearson(r): 0.6003, loss: 0.0765, reg_loss: 0.0000 ||:  68%|██████▊   | 123/180 [00:36<00:17,  3.29it/s]\u001b[A\n",
            "pearson(r): 0.6011, loss: 0.0764, reg_loss: 0.0000 ||:  69%|██████▉   | 124/180 [00:37<00:16,  3.47it/s]\u001b[A\n",
            "pearson(r): 0.5998, loss: 0.0765, reg_loss: 0.0000 ||:  69%|██████▉   | 125/180 [00:37<00:15,  3.53it/s]\u001b[A\n",
            "pearson(r): 0.6003, loss: 0.0768, reg_loss: 0.0000 ||:  70%|███████   | 126/180 [00:37<00:13,  3.89it/s]\u001b[A\n",
            "pearson(r): 0.6000, loss: 0.0768, reg_loss: 0.0000 ||:  71%|███████   | 127/180 [00:37<00:14,  3.76it/s]\u001b[A\n",
            "pearson(r): 0.5986, loss: 0.0768, reg_loss: 0.0000 ||:  71%|███████   | 128/180 [00:38<00:16,  3.24it/s]\u001b[A\n",
            "pearson(r): 0.5997, loss: 0.0766, reg_loss: 0.0000 ||:  72%|███████▏  | 129/180 [00:38<00:17,  2.98it/s]\u001b[A\n",
            "pearson(r): 0.6001, loss: 0.0766, reg_loss: 0.0000 ||:  72%|███████▏  | 130/180 [00:38<00:15,  3.31it/s]\u001b[A\n",
            "pearson(r): 0.6001, loss: 0.0767, reg_loss: 0.0000 ||:  73%|███████▎  | 131/180 [00:39<00:18,  2.66it/s]\u001b[A\n",
            "pearson(r): 0.6010, loss: 0.0768, reg_loss: 0.0000 ||:  73%|███████▎  | 132/180 [00:39<00:16,  2.97it/s]\u001b[A\n",
            "pearson(r): 0.6011, loss: 0.0768, reg_loss: 0.0000 ||:  74%|███████▍  | 133/180 [00:40<00:14,  3.18it/s]\u001b[A\n",
            "pearson(r): 0.6009, loss: 0.0767, reg_loss: 0.0000 ||:  74%|███████▍  | 134/180 [00:40<00:13,  3.46it/s]\u001b[A\n",
            "pearson(r): 0.6014, loss: 0.0768, reg_loss: 0.0000 ||:  75%|███████▌  | 135/180 [00:40<00:12,  3.63it/s]\u001b[A\n",
            "pearson(r): 0.6008, loss: 0.0769, reg_loss: 0.0000 ||:  76%|███████▌  | 136/180 [00:40<00:12,  3.64it/s]\u001b[A\n",
            "pearson(r): 0.5996, loss: 0.0771, reg_loss: 0.0000 ||:  76%|███████▌  | 137/180 [00:41<00:12,  3.47it/s]\u001b[A\n",
            "pearson(r): 0.5983, loss: 0.0771, reg_loss: 0.0000 ||:  77%|███████▋  | 138/180 [00:41<00:12,  3.46it/s]\u001b[A\n",
            "pearson(r): 0.5980, loss: 0.0770, reg_loss: 0.0000 ||:  77%|███████▋  | 139/180 [00:41<00:11,  3.52it/s]\u001b[A\n",
            "pearson(r): 0.5981, loss: 0.0770, reg_loss: 0.0000 ||:  78%|███████▊  | 140/180 [00:41<00:11,  3.49it/s]\u001b[A\n",
            "pearson(r): 0.5977, loss: 0.0772, reg_loss: 0.0000 ||:  78%|███████▊  | 141/180 [00:42<00:12,  3.12it/s]\u001b[A\n",
            "pearson(r): 0.5972, loss: 0.0770, reg_loss: 0.0000 ||:  79%|███████▉  | 142/180 [00:42<00:11,  3.43it/s]\u001b[A\n",
            "pearson(r): 0.5964, loss: 0.0771, reg_loss: 0.0000 ||:  79%|███████▉  | 143/180 [00:42<00:10,  3.62it/s]\u001b[A\n",
            "pearson(r): 0.5954, loss: 0.0771, reg_loss: 0.0000 ||:  80%|████████  | 144/180 [00:43<00:10,  3.49it/s]\u001b[A\n",
            "pearson(r): 0.5942, loss: 0.0774, reg_loss: 0.0000 ||:  81%|████████  | 145/180 [00:43<00:09,  3.52it/s]\u001b[A\n",
            "pearson(r): 0.5955, loss: 0.0772, reg_loss: 0.0000 ||:  81%|████████  | 146/180 [00:43<00:09,  3.71it/s]\u001b[A\n",
            "pearson(r): 0.5958, loss: 0.0773, reg_loss: 0.0000 ||:  82%|████████▏ | 147/180 [00:44<00:09,  3.32it/s]\u001b[A\n",
            "pearson(r): 0.5955, loss: 0.0772, reg_loss: 0.0000 ||:  82%|████████▏ | 148/180 [00:44<00:09,  3.48it/s]\u001b[A\n",
            "pearson(r): 0.5960, loss: 0.0771, reg_loss: 0.0000 ||:  83%|████████▎ | 149/180 [00:44<00:08,  3.62it/s]\u001b[A\n",
            "pearson(r): 0.5957, loss: 0.0771, reg_loss: 0.0000 ||:  83%|████████▎ | 150/180 [00:44<00:09,  3.26it/s]\u001b[A\n",
            "pearson(r): 0.5954, loss: 0.0771, reg_loss: 0.0000 ||:  84%|████████▍ | 151/180 [00:45<00:08,  3.36it/s]\u001b[A\n",
            "pearson(r): 0.5964, loss: 0.0771, reg_loss: 0.0000 ||:  84%|████████▍ | 152/180 [00:45<00:08,  3.30it/s]\u001b[A\n",
            "pearson(r): 0.5964, loss: 0.0772, reg_loss: 0.0000 ||:  85%|████████▌ | 153/180 [00:45<00:07,  3.42it/s]\u001b[A\n",
            "pearson(r): 0.5982, loss: 0.0771, reg_loss: 0.0000 ||:  86%|████████▌ | 154/180 [00:46<00:07,  3.59it/s]\u001b[A\n",
            "pearson(r): 0.5985, loss: 0.0770, reg_loss: 0.0000 ||:  86%|████████▌ | 155/180 [00:46<00:06,  3.63it/s]\u001b[A\n",
            "pearson(r): 0.5978, loss: 0.0771, reg_loss: 0.0000 ||:  87%|████████▋ | 156/180 [00:46<00:06,  3.78it/s]\u001b[A\n",
            "pearson(r): 0.5974, loss: 0.0771, reg_loss: 0.0000 ||:  87%|████████▋ | 157/180 [00:46<00:06,  3.29it/s]\u001b[A\n",
            "pearson(r): 0.5976, loss: 0.0771, reg_loss: 0.0000 ||:  88%|████████▊ | 158/180 [00:47<00:06,  3.43it/s]\u001b[A\n",
            "pearson(r): 0.5975, loss: 0.0771, reg_loss: 0.0000 ||:  88%|████████▊ | 159/180 [00:47<00:06,  3.03it/s]\u001b[A\n",
            "pearson(r): 0.5983, loss: 0.0772, reg_loss: 0.0000 ||:  89%|████████▉ | 160/180 [00:47<00:05,  3.48it/s]\u001b[A\n",
            "pearson(r): 0.5971, loss: 0.0772, reg_loss: 0.0000 ||:  89%|████████▉ | 161/180 [00:48<00:05,  3.20it/s]\u001b[A\n",
            "pearson(r): 0.5970, loss: 0.0772, reg_loss: 0.0000 ||:  90%|█████████ | 162/180 [00:48<00:05,  3.28it/s]\u001b[A\n",
            "pearson(r): 0.5985, loss: 0.0771, reg_loss: 0.0000 ||:  91%|█████████ | 163/180 [00:48<00:05,  3.23it/s]\u001b[A\n",
            "pearson(r): 0.5980, loss: 0.0772, reg_loss: 0.0000 ||:  91%|█████████ | 164/180 [00:49<00:04,  3.37it/s]\u001b[A\n",
            "pearson(r): 0.5990, loss: 0.0771, reg_loss: 0.0000 ||:  92%|█████████▏| 165/180 [00:49<00:04,  3.42it/s]\u001b[A\n",
            "pearson(r): 0.5983, loss: 0.0769, reg_loss: 0.0000 ||:  92%|█████████▏| 166/180 [00:49<00:04,  3.42it/s]\u001b[A\n",
            "pearson(r): 0.5990, loss: 0.0768, reg_loss: 0.0000 ||:  93%|█████████▎| 167/180 [00:49<00:03,  3.57it/s]\u001b[A\n",
            "pearson(r): 0.5981, loss: 0.0768, reg_loss: 0.0000 ||:  93%|█████████▎| 168/180 [00:50<00:03,  3.69it/s]\u001b[A\n",
            "pearson(r): 0.5982, loss: 0.0769, reg_loss: 0.0000 ||:  94%|█████████▍| 169/180 [00:50<00:03,  3.56it/s]\u001b[A\n",
            "pearson(r): 0.5993, loss: 0.0768, reg_loss: 0.0000 ||:  94%|█████████▍| 170/180 [00:50<00:02,  3.65it/s]\u001b[A\n",
            "pearson(r): 0.5985, loss: 0.0770, reg_loss: 0.0000 ||:  95%|█████████▌| 171/180 [00:50<00:02,  3.71it/s]\u001b[A\n",
            "pearson(r): 0.5979, loss: 0.0771, reg_loss: 0.0000 ||:  96%|█████████▌| 172/180 [00:51<00:02,  2.89it/s]\u001b[A\n",
            "pearson(r): 0.5985, loss: 0.0770, reg_loss: 0.0000 ||:  96%|█████████▌| 173/180 [00:51<00:02,  3.11it/s]\u001b[A\n",
            "pearson(r): 0.5991, loss: 0.0771, reg_loss: 0.0000 ||:  97%|█████████▋| 174/180 [00:51<00:01,  3.26it/s]\u001b[A\n",
            "pearson(r): 0.5995, loss: 0.0769, reg_loss: 0.0000 ||:  97%|█████████▋| 175/180 [00:52<00:01,  3.52it/s]\u001b[A\n",
            "pearson(r): 0.5995, loss: 0.0769, reg_loss: 0.0000 ||:  98%|█████████▊| 176/180 [00:52<00:01,  3.31it/s]\u001b[A\n",
            "pearson(r): 0.5979, loss: 0.0770, reg_loss: 0.0000 ||:  98%|█████████▊| 177/180 [00:52<00:00,  3.46it/s]\u001b[A\n",
            "pearson(r): 0.5973, loss: 0.0773, reg_loss: 0.0000 ||:  99%|█████████▉| 178/180 [00:53<00:00,  3.52it/s]\u001b[A\n",
            "pearson(r): 0.5984, loss: 0.0771, reg_loss: 0.0000 ||:  99%|█████████▉| 179/180 [00:53<00:00,  3.65it/s]\u001b[A\n",
            "pearson(r): 0.5983, loss: 0.0771, reg_loss: 0.0000 ||: 100%|██████████| 180/180 [00:53<00:00,  3.36it/s]\n",
            "\n",
            "  0%|          | 0/180 [00:00<?, ?it/s]\u001b[A\n",
            "pearson(r): 0.5906, loss: 0.0627, reg_loss: 0.0000 ||:   1%|          | 1/180 [00:02<07:26,  2.49s/it]\u001b[A\n",
            "pearson(r): 0.6759, loss: 0.0550, reg_loss: 0.0000 ||:   1%|          | 2/180 [00:03<06:28,  2.18s/it]\u001b[A\n",
            "pearson(r): 0.5900, loss: 0.0634, reg_loss: 0.0000 ||:   2%|▏         | 3/180 [00:05<06:00,  2.04s/it]\u001b[A\n",
            "pearson(r): 0.5910, loss: 0.0637, reg_loss: 0.0000 ||:   2%|▏         | 4/180 [00:07<05:26,  1.86s/it]\u001b[A\n",
            "pearson(r): 0.6212, loss: 0.0614, reg_loss: 0.0000 ||:   3%|▎         | 5/180 [00:08<05:02,  1.73s/it]\u001b[A\n",
            "pearson(r): 0.6391, loss: 0.0583, reg_loss: 0.0000 ||:   3%|▎         | 6/180 [00:09<04:43,  1.63s/it]\u001b[A\n",
            "pearson(r): 0.6397, loss: 0.0589, reg_loss: 0.0000 ||:   4%|▍         | 7/180 [00:11<04:38,  1.61s/it]\u001b[A\n",
            "pearson(r): 0.6382, loss: 0.0587, reg_loss: 0.0000 ||:   4%|▍         | 8/180 [00:14<05:26,  1.90s/it]\u001b[A\n",
            "pearson(r): 0.6239, loss: 0.0597, reg_loss: 0.0000 ||:   5%|▌         | 9/180 [00:15<05:22,  1.88s/it]\u001b[A\n",
            "pearson(r): 0.6143, loss: 0.0586, reg_loss: 0.0000 ||:   6%|▌         | 10/180 [00:17<05:13,  1.84s/it]\u001b[A\n",
            "pearson(r): 0.5961, loss: 0.0604, reg_loss: 0.0000 ||:   6%|▌         | 11/180 [00:20<06:10,  2.19s/it]\u001b[A\n",
            "pearson(r): 0.6149, loss: 0.0592, reg_loss: 0.0000 ||:   7%|▋         | 12/180 [00:22<05:46,  2.06s/it]\u001b[A\n",
            "pearson(r): 0.5973, loss: 0.0610, reg_loss: 0.0000 ||:   7%|▋         | 13/180 [00:24<05:26,  1.95s/it]\u001b[A\n",
            "pearson(r): 0.6083, loss: 0.0605, reg_loss: 0.0000 ||:   8%|▊         | 14/180 [00:25<05:00,  1.81s/it]\u001b[A\n",
            "pearson(r): 0.6079, loss: 0.0601, reg_loss: 0.0000 ||:   8%|▊         | 15/180 [00:27<05:12,  1.89s/it]\u001b[A\n",
            "pearson(r): 0.6067, loss: 0.0601, reg_loss: 0.0000 ||:   9%|▉         | 16/180 [00:29<04:45,  1.74s/it]\u001b[A\n",
            "pearson(r): 0.6065, loss: 0.0607, reg_loss: 0.0000 ||:   9%|▉         | 17/180 [00:30<04:31,  1.67s/it]\u001b[A\n",
            "pearson(r): 0.5970, loss: 0.0615, reg_loss: 0.0000 ||:  10%|█         | 18/180 [00:32<04:25,  1.64s/it]\u001b[A\n",
            "pearson(r): 0.5966, loss: 0.0601, reg_loss: 0.0000 ||:  11%|█         | 19/180 [00:33<04:21,  1.62s/it]\u001b[A\n",
            "pearson(r): 0.5957, loss: 0.0604, reg_loss: 0.0000 ||:  11%|█         | 20/180 [00:35<04:08,  1.55s/it]\u001b[A\n",
            "pearson(r): 0.5897, loss: 0.0610, reg_loss: 0.0000 ||:  12%|█▏        | 21/180 [00:36<04:02,  1.53s/it]\u001b[A\n",
            "pearson(r): 0.5703, loss: 0.0616, reg_loss: 0.0000 ||:  12%|█▏        | 22/180 [00:38<04:27,  1.69s/it]\u001b[A\n",
            "pearson(r): 0.5691, loss: 0.0612, reg_loss: 0.0000 ||:  13%|█▎        | 23/180 [00:40<04:19,  1.65s/it]\u001b[A\n",
            "pearson(r): 0.5627, loss: 0.0609, reg_loss: 0.0000 ||:  13%|█▎        | 24/180 [00:41<04:10,  1.60s/it]\u001b[A\n",
            "pearson(r): 0.5610, loss: 0.0606, reg_loss: 0.0000 ||:  14%|█▍        | 25/180 [00:42<03:53,  1.51s/it]\u001b[A\n",
            "pearson(r): 0.5596, loss: 0.0600, reg_loss: 0.0000 ||:  14%|█▍        | 26/180 [00:44<03:53,  1.51s/it]\u001b[A\n",
            "pearson(r): 0.5602, loss: 0.0604, reg_loss: 0.0000 ||:  15%|█▌        | 27/180 [00:45<03:49,  1.50s/it]\u001b[A\n",
            "pearson(r): 0.5624, loss: 0.0605, reg_loss: 0.0000 ||:  16%|█▌        | 28/180 [00:47<03:55,  1.55s/it]\u001b[A\n",
            "pearson(r): 0.5646, loss: 0.0608, reg_loss: 0.0000 ||:  16%|█▌        | 29/180 [00:49<04:27,  1.77s/it]\u001b[A\n",
            "pearson(r): 0.5653, loss: 0.0607, reg_loss: 0.0000 ||:  17%|█▋        | 30/180 [00:51<04:33,  1.82s/it]\u001b[A\n",
            "pearson(r): 0.5698, loss: 0.0602, reg_loss: 0.0000 ||:  17%|█▋        | 31/180 [00:53<04:09,  1.67s/it]\u001b[A\n",
            "pearson(r): 0.5592, loss: 0.0609, reg_loss: 0.0000 ||:  18%|█▊        | 32/180 [00:54<03:55,  1.59s/it]\u001b[A\n",
            "pearson(r): 0.5562, loss: 0.0620, reg_loss: 0.0000 ||:  18%|█▊        | 33/180 [00:56<04:25,  1.81s/it]\u001b[A\n",
            "pearson(r): 0.5584, loss: 0.0622, reg_loss: 0.0000 ||:  19%|█▉        | 34/180 [00:58<04:04,  1.67s/it]\u001b[A\n",
            "pearson(r): 0.5579, loss: 0.0625, reg_loss: 0.0000 ||:  19%|█▉        | 35/180 [00:59<03:39,  1.52s/it]\u001b[A\n",
            "pearson(r): 0.5573, loss: 0.0627, reg_loss: 0.0000 ||:  20%|██        | 36/180 [01:00<03:36,  1.51s/it]\u001b[A\n",
            "pearson(r): 0.5592, loss: 0.0623, reg_loss: 0.0000 ||:  21%|██        | 37/180 [01:03<04:13,  1.77s/it]\u001b[A\n",
            "pearson(r): 0.5607, loss: 0.0613, reg_loss: 0.0000 ||:  21%|██        | 38/180 [01:04<03:59,  1.69s/it]\u001b[A\n",
            "pearson(r): 0.5581, loss: 0.0614, reg_loss: 0.0000 ||:  22%|██▏       | 39/180 [01:07<04:54,  2.09s/it]\u001b[A\n",
            "pearson(r): 0.5602, loss: 0.0612, reg_loss: 0.0000 ||:  22%|██▏       | 40/180 [01:09<04:31,  1.94s/it]\u001b[A\n",
            "pearson(r): 0.5657, loss: 0.0608, reg_loss: 0.0000 ||:  23%|██▎       | 41/180 [01:11<04:19,  1.87s/it]\u001b[A\n",
            "pearson(r): 0.5664, loss: 0.0604, reg_loss: 0.0000 ||:  23%|██▎       | 42/180 [01:14<05:05,  2.22s/it]\u001b[A\n",
            "pearson(r): 0.5628, loss: 0.0606, reg_loss: 0.0000 ||:  24%|██▍       | 43/180 [01:15<04:29,  1.97s/it]\u001b[A\n",
            "pearson(r): 0.5627, loss: 0.0604, reg_loss: 0.0000 ||:  24%|██▍       | 44/180 [01:16<04:06,  1.81s/it]\u001b[A\n",
            "pearson(r): 0.5615, loss: 0.0602, reg_loss: 0.0000 ||:  25%|██▌       | 45/180 [01:18<03:37,  1.61s/it]\u001b[A\n",
            "pearson(r): 0.5608, loss: 0.0602, reg_loss: 0.0000 ||:  26%|██▌       | 46/180 [01:19<03:31,  1.58s/it]\u001b[A\n",
            "pearson(r): 0.5588, loss: 0.0604, reg_loss: 0.0000 ||:  26%|██▌       | 47/180 [01:22<04:28,  2.02s/it]\u001b[A\n",
            "pearson(r): 0.5547, loss: 0.0609, reg_loss: 0.0000 ||:  27%|██▋       | 48/180 [01:24<04:01,  1.83s/it]\u001b[A\n",
            "pearson(r): 0.5584, loss: 0.0607, reg_loss: 0.0000 ||:  27%|██▋       | 49/180 [01:26<04:18,  1.98s/it]\u001b[A\n",
            "pearson(r): 0.5588, loss: 0.0607, reg_loss: 0.0000 ||:  28%|██▊       | 50/180 [01:28<04:14,  1.96s/it]\u001b[A\n",
            "pearson(r): 0.5590, loss: 0.0602, reg_loss: 0.0000 ||:  28%|██▊       | 51/180 [01:30<04:18,  2.00s/it]\u001b[A\n",
            "pearson(r): 0.5553, loss: 0.0610, reg_loss: 0.0000 ||:  29%|██▉       | 52/180 [01:31<03:52,  1.82s/it]\u001b[A\n",
            "pearson(r): 0.5546, loss: 0.0611, reg_loss: 0.0000 ||:  29%|██▉       | 53/180 [01:33<03:48,  1.80s/it]\u001b[A\n",
            "pearson(r): 0.5556, loss: 0.0610, reg_loss: 0.0000 ||:  30%|███       | 54/180 [01:35<03:37,  1.72s/it]\u001b[A\n",
            "pearson(r): 0.5523, loss: 0.0615, reg_loss: 0.0000 ||:  31%|███       | 55/180 [01:36<03:14,  1.56s/it]\u001b[A\n",
            "pearson(r): 0.5534, loss: 0.0615, reg_loss: 0.0000 ||:  31%|███       | 56/180 [01:37<03:11,  1.54s/it]\u001b[A\n",
            "pearson(r): 0.5537, loss: 0.0616, reg_loss: 0.0000 ||:  32%|███▏      | 57/180 [01:39<03:06,  1.52s/it]\u001b[A\n",
            "pearson(r): 0.5520, loss: 0.0621, reg_loss: 0.0000 ||:  32%|███▏      | 58/180 [01:41<03:24,  1.67s/it]\u001b[A\n",
            "pearson(r): 0.5506, loss: 0.0623, reg_loss: 0.0000 ||:  33%|███▎      | 59/180 [01:42<03:20,  1.66s/it]\u001b[A\n",
            "pearson(r): 0.5517, loss: 0.0624, reg_loss: 0.0000 ||:  33%|███▎      | 60/180 [01:44<03:11,  1.60s/it]\u001b[A\n",
            "pearson(r): 0.5523, loss: 0.0626, reg_loss: 0.0000 ||:  34%|███▍      | 61/180 [01:45<03:11,  1.61s/it]\u001b[A\n",
            "pearson(r): 0.5489, loss: 0.0629, reg_loss: 0.0000 ||:  34%|███▍      | 62/180 [01:47<03:05,  1.57s/it]\u001b[A\n",
            "pearson(r): 0.5467, loss: 0.0630, reg_loss: 0.0000 ||:  35%|███▌      | 63/180 [01:48<03:02,  1.56s/it]\u001b[A\n",
            "pearson(r): 0.5470, loss: 0.0632, reg_loss: 0.0000 ||:  36%|███▌      | 64/180 [01:50<02:59,  1.55s/it]\u001b[A\n",
            "pearson(r): 0.5504, loss: 0.0630, reg_loss: 0.0000 ||:  36%|███▌      | 65/180 [01:52<03:16,  1.71s/it]\u001b[A\n",
            "pearson(r): 0.5495, loss: 0.0630, reg_loss: 0.0000 ||:  37%|███▋      | 66/180 [01:54<03:05,  1.63s/it]\u001b[A\n",
            "pearson(r): 0.5497, loss: 0.0629, reg_loss: 0.0000 ||:  37%|███▋      | 67/180 [01:55<03:08,  1.67s/it]\u001b[A\n",
            "pearson(r): 0.5500, loss: 0.0625, reg_loss: 0.0000 ||:  38%|███▊      | 68/180 [01:57<03:06,  1.67s/it]\u001b[A\n",
            "pearson(r): 0.5487, loss: 0.0628, reg_loss: 0.0000 ||:  38%|███▊      | 69/180 [01:58<02:56,  1.59s/it]\u001b[A\n",
            "pearson(r): 0.5488, loss: 0.0627, reg_loss: 0.0000 ||:  39%|███▉      | 70/180 [02:00<02:52,  1.57s/it]\u001b[A\n",
            "pearson(r): 0.5469, loss: 0.0632, reg_loss: 0.0000 ||:  39%|███▉      | 71/180 [02:01<02:48,  1.54s/it]\u001b[A\n",
            "pearson(r): 0.5477, loss: 0.0631, reg_loss: 0.0000 ||:  40%|████      | 72/180 [02:03<02:47,  1.55s/it]\u001b[A\n",
            "pearson(r): 0.5437, loss: 0.0638, reg_loss: 0.0000 ||:  41%|████      | 73/180 [02:06<03:32,  1.98s/it]\u001b[A\n",
            "pearson(r): 0.5423, loss: 0.0644, reg_loss: 0.0000 ||:  41%|████      | 74/180 [02:08<03:35,  2.04s/it]\u001b[A\n",
            "pearson(r): 0.5413, loss: 0.0646, reg_loss: 0.0000 ||:  42%|████▏     | 75/180 [02:09<03:12,  1.83s/it]\u001b[A\n",
            "pearson(r): 0.5433, loss: 0.0644, reg_loss: 0.0000 ||:  42%|████▏     | 76/180 [02:11<02:56,  1.69s/it]\u001b[A\n",
            "pearson(r): 0.5445, loss: 0.0642, reg_loss: 0.0000 ||:  43%|████▎     | 77/180 [02:12<02:43,  1.58s/it]\u001b[A\n",
            "pearson(r): 0.5457, loss: 0.0645, reg_loss: 0.0000 ||:  43%|████▎     | 78/180 [02:14<03:00,  1.77s/it]\u001b[A\n",
            "pearson(r): 0.5455, loss: 0.0644, reg_loss: 0.0000 ||:  44%|████▍     | 79/180 [02:16<02:44,  1.63s/it]\u001b[A\n",
            "pearson(r): 0.5435, loss: 0.0647, reg_loss: 0.0000 ||:  44%|████▍     | 80/180 [02:17<02:27,  1.48s/it]\u001b[A\n",
            "pearson(r): 0.5455, loss: 0.0649, reg_loss: 0.0000 ||:  45%|████▌     | 81/180 [02:18<02:26,  1.48s/it]\u001b[A\n",
            "pearson(r): 0.5446, loss: 0.0650, reg_loss: 0.0000 ||:  46%|████▌     | 82/180 [02:20<02:40,  1.64s/it]\u001b[A\n",
            "pearson(r): 0.5439, loss: 0.0649, reg_loss: 0.0000 ||:  46%|████▌     | 83/180 [02:22<02:38,  1.63s/it]\u001b[A\n",
            "pearson(r): 0.5433, loss: 0.0647, reg_loss: 0.0000 ||:  47%|████▋     | 84/180 [02:23<02:28,  1.54s/it]\u001b[A\n",
            "pearson(r): 0.5452, loss: 0.0645, reg_loss: 0.0000 ||:  47%|████▋     | 85/180 [02:25<02:28,  1.56s/it]\u001b[A\n",
            "pearson(r): 0.5450, loss: 0.0645, reg_loss: 0.0000 ||:  48%|████▊     | 86/180 [02:26<02:20,  1.50s/it]\u001b[A\n",
            "pearson(r): 0.5452, loss: 0.0645, reg_loss: 0.0000 ||:  48%|████▊     | 87/180 [02:29<02:44,  1.77s/it]\u001b[A\n",
            "pearson(r): 0.5442, loss: 0.0644, reg_loss: 0.0000 ||:  49%|████▉     | 88/180 [02:30<02:39,  1.73s/it]\u001b[A\n",
            "pearson(r): 0.5444, loss: 0.0642, reg_loss: 0.0000 ||:  49%|████▉     | 89/180 [02:32<02:27,  1.62s/it]\u001b[A\n",
            "pearson(r): 0.5442, loss: 0.0643, reg_loss: 0.0000 ||:  50%|█████     | 90/180 [02:33<02:24,  1.60s/it]\u001b[A\n",
            "pearson(r): 0.5422, loss: 0.0643, reg_loss: 0.0000 ||:  51%|█████     | 91/180 [02:36<03:01,  2.03s/it]\u001b[A\n",
            "pearson(r): 0.5430, loss: 0.0641, reg_loss: 0.0000 ||:  51%|█████     | 92/180 [02:38<02:47,  1.91s/it]\u001b[A\n",
            "pearson(r): 0.5448, loss: 0.0639, reg_loss: 0.0000 ||:  52%|█████▏    | 93/180 [02:40<02:42,  1.86s/it]\u001b[A\n",
            "pearson(r): 0.5463, loss: 0.0638, reg_loss: 0.0000 ||:  52%|█████▏    | 94/180 [02:41<02:28,  1.73s/it]\u001b[A\n",
            "pearson(r): 0.5471, loss: 0.0636, reg_loss: 0.0000 ||:  53%|█████▎    | 95/180 [02:43<02:21,  1.67s/it]\u001b[A\n",
            "pearson(r): 0.5457, loss: 0.0638, reg_loss: 0.0000 ||:  53%|█████▎    | 96/180 [02:44<02:11,  1.56s/it]\u001b[A\n",
            "pearson(r): 0.5449, loss: 0.0636, reg_loss: 0.0000 ||:  54%|█████▍    | 97/180 [02:45<02:07,  1.53s/it]\u001b[A\n",
            "pearson(r): 0.5464, loss: 0.0637, reg_loss: 0.0000 ||:  54%|█████▍    | 98/180 [02:47<02:04,  1.52s/it]\u001b[A\n",
            "pearson(r): 0.5479, loss: 0.0636, reg_loss: 0.0000 ||:  55%|█████▌    | 99/180 [02:48<02:01,  1.49s/it]\u001b[A\n",
            "pearson(r): 0.5505, loss: 0.0634, reg_loss: 0.0000 ||:  56%|█████▌    | 100/180 [02:50<01:58,  1.49s/it]\u001b[A\n",
            "pearson(r): 0.5475, loss: 0.0636, reg_loss: 0.0000 ||:  56%|█████▌    | 101/180 [02:53<02:34,  1.96s/it]\u001b[A\n",
            "pearson(r): 0.5479, loss: 0.0635, reg_loss: 0.0000 ||:  57%|█████▋    | 102/180 [02:54<02:20,  1.80s/it]\u001b[A\n",
            "pearson(r): 0.5470, loss: 0.0633, reg_loss: 0.0000 ||:  57%|█████▋    | 103/180 [02:56<02:11,  1.70s/it]\u001b[A\n",
            "pearson(r): 0.5458, loss: 0.0635, reg_loss: 0.0000 ||:  58%|█████▊    | 104/180 [02:58<02:18,  1.82s/it]\u001b[A\n",
            "pearson(r): 0.5436, loss: 0.0634, reg_loss: 0.0000 ||:  58%|█████▊    | 105/180 [02:59<02:06,  1.69s/it]\u001b[A\n",
            "pearson(r): 0.5442, loss: 0.0634, reg_loss: 0.0000 ||:  59%|█████▉    | 106/180 [03:01<01:59,  1.61s/it]\u001b[A\n",
            "pearson(r): 0.5437, loss: 0.0634, reg_loss: 0.0000 ||:  59%|█████▉    | 107/180 [03:04<02:27,  2.03s/it]\u001b[A\n",
            "pearson(r): 0.5453, loss: 0.0633, reg_loss: 0.0000 ||:  60%|██████    | 108/180 [03:05<02:11,  1.83s/it]\u001b[A\n",
            "pearson(r): 0.5452, loss: 0.0635, reg_loss: 0.0000 ||:  61%|██████    | 109/180 [03:06<02:02,  1.73s/it]\u001b[A\n",
            "pearson(r): 0.5447, loss: 0.0636, reg_loss: 0.0000 ||:  61%|██████    | 110/180 [03:08<01:51,  1.59s/it]\u001b[A\n",
            "pearson(r): 0.5430, loss: 0.0637, reg_loss: 0.0000 ||:  62%|██████▏   | 111/180 [03:09<01:45,  1.53s/it]\u001b[A\n",
            "pearson(r): 0.5430, loss: 0.0637, reg_loss: 0.0000 ||:  62%|██████▏   | 112/180 [03:11<01:44,  1.54s/it]\u001b[A\n",
            "pearson(r): 0.5424, loss: 0.0636, reg_loss: 0.0000 ||:  63%|██████▎   | 113/180 [03:12<01:38,  1.47s/it]\u001b[A\n",
            "pearson(r): 0.5412, loss: 0.0635, reg_loss: 0.0000 ||:  63%|██████▎   | 114/180 [03:14<01:39,  1.51s/it]\u001b[A\n",
            "pearson(r): 0.5411, loss: 0.0633, reg_loss: 0.0000 ||:  64%|██████▍   | 115/180 [03:15<01:34,  1.45s/it]\u001b[A\n",
            "pearson(r): 0.5419, loss: 0.0632, reg_loss: 0.0000 ||:  64%|██████▍   | 116/180 [03:16<01:34,  1.48s/it]\u001b[A\n",
            "pearson(r): 0.5439, loss: 0.0630, reg_loss: 0.0000 ||:  65%|██████▌   | 117/180 [03:18<01:36,  1.52s/it]\u001b[A\n",
            "pearson(r): 0.5444, loss: 0.0629, reg_loss: 0.0000 ||:  66%|██████▌   | 118/180 [03:19<01:25,  1.37s/it]\u001b[A\n",
            "pearson(r): 0.5443, loss: 0.0629, reg_loss: 0.0000 ||:  66%|██████▌   | 119/180 [03:22<01:54,  1.87s/it]\u001b[A\n",
            "pearson(r): 0.5442, loss: 0.0628, reg_loss: 0.0000 ||:  67%|██████▋   | 120/180 [03:24<01:46,  1.78s/it]\u001b[A\n",
            "pearson(r): 0.5436, loss: 0.0627, reg_loss: 0.0000 ||:  67%|██████▋   | 121/180 [03:25<01:37,  1.65s/it]\u001b[A\n",
            "pearson(r): 0.5426, loss: 0.0626, reg_loss: 0.0000 ||:  68%|██████▊   | 122/180 [03:27<01:37,  1.68s/it]\u001b[A\n",
            "pearson(r): 0.5416, loss: 0.0626, reg_loss: 0.0000 ||:  68%|██████▊   | 123/180 [03:28<01:35,  1.68s/it]\u001b[A\n",
            "pearson(r): 0.5429, loss: 0.0627, reg_loss: 0.0000 ||:  69%|██████▉   | 124/180 [03:30<01:27,  1.56s/it]\u001b[A\n",
            "pearson(r): 0.5421, loss: 0.0628, reg_loss: 0.0000 ||:  69%|██████▉   | 125/180 [03:32<01:34,  1.72s/it]\u001b[A\n",
            "pearson(r): 0.5422, loss: 0.0628, reg_loss: 0.0000 ||:  70%|███████   | 126/180 [03:33<01:27,  1.62s/it]\u001b[A\n",
            "pearson(r): 0.5400, loss: 0.0630, reg_loss: 0.0000 ||:  71%|███████   | 127/180 [03:35<01:35,  1.81s/it]\u001b[A\n",
            "pearson(r): 0.5403, loss: 0.0630, reg_loss: 0.0000 ||:  71%|███████   | 128/180 [03:37<01:28,  1.71s/it]\u001b[A\n",
            "pearson(r): 0.5418, loss: 0.0629, reg_loss: 0.0000 ||:  72%|███████▏  | 129/180 [03:38<01:22,  1.63s/it]\u001b[A\n",
            "pearson(r): 0.5424, loss: 0.0628, reg_loss: 0.0000 ||:  72%|███████▏  | 130/180 [03:40<01:19,  1.58s/it]\u001b[A\n",
            "pearson(r): 0.5422, loss: 0.0626, reg_loss: 0.0000 ||:  73%|███████▎  | 131/180 [03:41<01:16,  1.56s/it]\u001b[A\n",
            "pearson(r): 0.5442, loss: 0.0624, reg_loss: 0.0000 ||:  73%|███████▎  | 132/180 [03:43<01:12,  1.50s/it]\u001b[A\n",
            "pearson(r): 0.5438, loss: 0.0624, reg_loss: 0.0000 ||:  74%|███████▍  | 133/180 [03:45<01:17,  1.66s/it]\u001b[A\n",
            "pearson(r): 0.5441, loss: 0.0623, reg_loss: 0.0000 ||:  74%|███████▍  | 134/180 [03:46<01:13,  1.60s/it]\u001b[A\n",
            "pearson(r): 0.5446, loss: 0.0623, reg_loss: 0.0000 ||:  75%|███████▌  | 135/180 [03:47<01:05,  1.45s/it]\u001b[A\n",
            "pearson(r): 0.5453, loss: 0.0624, reg_loss: 0.0000 ||:  76%|███████▌  | 136/180 [03:49<01:10,  1.61s/it]\u001b[A\n",
            "pearson(r): 0.5461, loss: 0.0624, reg_loss: 0.0000 ||:  76%|███████▌  | 137/180 [03:51<01:05,  1.53s/it]\u001b[A\n",
            "pearson(r): 0.5448, loss: 0.0623, reg_loss: 0.0000 ||:  77%|███████▋  | 138/180 [03:52<01:02,  1.50s/it]\u001b[A\n",
            "pearson(r): 0.5453, loss: 0.0622, reg_loss: 0.0000 ||:  77%|███████▋  | 139/180 [03:54<01:01,  1.49s/it]\u001b[A\n",
            "pearson(r): 0.5453, loss: 0.0621, reg_loss: 0.0000 ||:  78%|███████▊  | 140/180 [03:55<01:00,  1.52s/it]\u001b[A\n",
            "pearson(r): 0.5453, loss: 0.0620, reg_loss: 0.0000 ||:  78%|███████▊  | 141/180 [03:57<01:01,  1.58s/it]\u001b[A\n",
            "pearson(r): 0.5466, loss: 0.0620, reg_loss: 0.0000 ||:  79%|███████▉  | 142/180 [03:58<01:00,  1.58s/it]\u001b[A\n",
            "pearson(r): 0.5471, loss: 0.0619, reg_loss: 0.0000 ||:  79%|███████▉  | 143/180 [04:00<00:55,  1.51s/it]\u001b[A\n",
            "pearson(r): 0.5455, loss: 0.0621, reg_loss: 0.0000 ||:  80%|████████  | 144/180 [04:01<00:54,  1.51s/it]\u001b[A\n",
            "pearson(r): 0.5461, loss: 0.0621, reg_loss: 0.0000 ||:  81%|████████  | 145/180 [04:03<00:58,  1.67s/it]\u001b[A\n",
            "pearson(r): 0.5470, loss: 0.0620, reg_loss: 0.0000 ||:  81%|████████  | 146/180 [04:05<00:53,  1.57s/it]\u001b[A\n",
            "pearson(r): 0.5473, loss: 0.0619, reg_loss: 0.0000 ||:  82%|████████▏ | 147/180 [04:08<01:06,  2.01s/it]\u001b[A\n",
            "pearson(r): 0.5488, loss: 0.0619, reg_loss: 0.0000 ||:  82%|████████▏ | 148/180 [04:09<00:58,  1.83s/it]\u001b[A\n",
            "pearson(r): 0.5487, loss: 0.0620, reg_loss: 0.0000 ||:  83%|████████▎ | 149/180 [04:10<00:52,  1.68s/it]\u001b[A\n",
            "pearson(r): 0.5488, loss: 0.0619, reg_loss: 0.0000 ||:  83%|████████▎ | 150/180 [04:12<00:49,  1.66s/it]\u001b[A\n",
            "pearson(r): 0.5479, loss: 0.0619, reg_loss: 0.0000 ||:  84%|████████▍ | 151/180 [04:14<00:47,  1.62s/it]\u001b[A\n",
            "pearson(r): 0.5484, loss: 0.0619, reg_loss: 0.0000 ||:  84%|████████▍ | 152/180 [04:15<00:44,  1.57s/it]\u001b[A\n",
            "pearson(r): 0.5475, loss: 0.0619, reg_loss: 0.0000 ||:  85%|████████▌ | 153/180 [04:18<00:53,  1.99s/it]\u001b[A\n",
            "pearson(r): 0.5466, loss: 0.0620, reg_loss: 0.0000 ||:  86%|████████▌ | 154/180 [04:19<00:45,  1.75s/it]\u001b[A\n",
            "pearson(r): 0.5471, loss: 0.0620, reg_loss: 0.0000 ||:  86%|████████▌ | 155/180 [04:21<00:40,  1.62s/it]\u001b[A\n",
            "pearson(r): 0.5467, loss: 0.0619, reg_loss: 0.0000 ||:  87%|████████▋ | 156/180 [04:22<00:37,  1.54s/it]\u001b[A\n",
            "pearson(r): 0.5460, loss: 0.0619, reg_loss: 0.0000 ||:  87%|████████▋ | 157/180 [04:24<00:39,  1.70s/it]\u001b[A\n",
            "pearson(r): 0.5452, loss: 0.0619, reg_loss: 0.0000 ||:  88%|████████▊ | 158/180 [04:25<00:33,  1.54s/it]\u001b[A\n",
            "pearson(r): 0.5459, loss: 0.0618, reg_loss: 0.0000 ||:  88%|████████▊ | 159/180 [04:27<00:32,  1.56s/it]\u001b[A\n",
            "pearson(r): 0.5459, loss: 0.0618, reg_loss: 0.0000 ||:  89%|████████▉ | 160/180 [04:28<00:30,  1.51s/it]\u001b[A\n",
            "pearson(r): 0.5466, loss: 0.0616, reg_loss: 0.0000 ||:  89%|████████▉ | 161/180 [04:30<00:29,  1.55s/it]\u001b[A\n",
            "pearson(r): 0.5476, loss: 0.0616, reg_loss: 0.0000 ||:  90%|█████████ | 162/180 [04:32<00:30,  1.67s/it]\u001b[A\n",
            "pearson(r): 0.5462, loss: 0.0617, reg_loss: 0.0000 ||:  91%|█████████ | 163/180 [04:33<00:26,  1.59s/it]\u001b[A\n",
            "pearson(r): 0.5468, loss: 0.0616, reg_loss: 0.0000 ||:  91%|█████████ | 164/180 [04:35<00:25,  1.58s/it]\u001b[A\n",
            "pearson(r): 0.5464, loss: 0.0616, reg_loss: 0.0000 ||:  92%|█████████▏| 165/180 [04:36<00:22,  1.50s/it]\u001b[A\n",
            "pearson(r): 0.5463, loss: 0.0615, reg_loss: 0.0000 ||:  92%|█████████▏| 166/180 [04:37<00:20,  1.47s/it]\u001b[A\n",
            "pearson(r): 0.5464, loss: 0.0615, reg_loss: 0.0000 ||:  93%|█████████▎| 167/180 [04:39<00:19,  1.48s/it]\u001b[A\n",
            "pearson(r): 0.5471, loss: 0.0613, reg_loss: 0.0000 ||:  93%|█████████▎| 168/180 [04:40<00:17,  1.42s/it]\u001b[A\n",
            "pearson(r): 0.5464, loss: 0.0613, reg_loss: 0.0000 ||:  94%|█████████▍| 169/180 [04:42<00:15,  1.44s/it]\u001b[A\n",
            "pearson(r): 0.5463, loss: 0.0612, reg_loss: 0.0000 ||:  94%|█████████▍| 170/180 [04:43<00:14,  1.42s/it]\u001b[A\n",
            "pearson(r): 0.5466, loss: 0.0612, reg_loss: 0.0000 ||:  95%|█████████▌| 171/180 [04:45<00:13,  1.47s/it]\u001b[A\n",
            "pearson(r): 0.5461, loss: 0.0612, reg_loss: 0.0000 ||:  96%|█████████▌| 172/180 [04:46<00:12,  1.51s/it]\u001b[A\n",
            "pearson(r): 0.5465, loss: 0.0611, reg_loss: 0.0000 ||:  96%|█████████▌| 173/180 [04:48<00:10,  1.48s/it]\u001b[A\n",
            "pearson(r): 0.5478, loss: 0.0610, reg_loss: 0.0000 ||:  97%|█████████▋| 174/180 [04:49<00:08,  1.39s/it]\u001b[A\n",
            "pearson(r): 0.5483, loss: 0.0610, reg_loss: 0.0000 ||:  97%|█████████▋| 175/180 [04:50<00:07,  1.44s/it]\u001b[A\n",
            "pearson(r): 0.5487, loss: 0.0609, reg_loss: 0.0000 ||:  98%|█████████▊| 176/180 [04:52<00:05,  1.47s/it]\u001b[A\n",
            "pearson(r): 0.5494, loss: 0.0609, reg_loss: 0.0000 ||:  98%|█████████▊| 177/180 [04:53<00:04,  1.51s/it]\u001b[A\n",
            "pearson(r): 0.5491, loss: 0.0609, reg_loss: 0.0000 ||:  99%|█████████▉| 178/180 [04:55<00:02,  1.46s/it]\u001b[A\n",
            "pearson(r): 0.5491, loss: 0.0609, reg_loss: 0.0000 ||:  99%|█████████▉| 179/180 [04:56<00:01,  1.39s/it]\u001b[A\n",
            "pearson(r): 0.5485, loss: 0.0608, reg_loss: 0.0000 ||: 100%|██████████| 180/180 [04:57<00:00,  1.65s/it]\n",
            "\n",
            "  0%|          | 0/180 [00:00<?, ?it/s]\u001b[A\n",
            "pearson(r): 0.6489, loss: 0.0733, reg_loss: 0.0000 ||:   1%|          | 1/180 [00:00<00:48,  3.66it/s]\u001b[A\n",
            "pearson(r): 0.6259, loss: 0.0710, reg_loss: 0.0000 ||:   1%|          | 2/180 [00:00<00:52,  3.40it/s]\u001b[A\n",
            "pearson(r): 0.5409, loss: 0.0856, reg_loss: 0.0000 ||:   2%|▏         | 3/180 [00:01<01:04,  2.74it/s]\u001b[A\n",
            "pearson(r): 0.5727, loss: 0.0774, reg_loss: 0.0000 ||:   2%|▏         | 4/180 [00:01<00:58,  3.00it/s]\u001b[A\n",
            "pearson(r): 0.5983, loss: 0.0794, reg_loss: 0.0000 ||:   3%|▎         | 5/180 [00:01<00:56,  3.11it/s]\u001b[A\n",
            "pearson(r): 0.6087, loss: 0.0829, reg_loss: 0.0000 ||:   3%|▎         | 6/180 [00:01<00:51,  3.37it/s]\u001b[A\n",
            "pearson(r): 0.6205, loss: 0.0877, reg_loss: 0.0000 ||:   4%|▍         | 7/180 [00:02<00:49,  3.47it/s]\u001b[A\n",
            "pearson(r): 0.6297, loss: 0.0859, reg_loss: 0.0000 ||:   4%|▍         | 8/180 [00:02<00:48,  3.53it/s]\u001b[A\n",
            "pearson(r): 0.6348, loss: 0.0830, reg_loss: 0.0000 ||:   5%|▌         | 9/180 [00:02<00:47,  3.63it/s]\u001b[A\n",
            "pearson(r): 0.6422, loss: 0.0812, reg_loss: 0.0000 ||:   6%|▌         | 10/180 [00:03<00:46,  3.63it/s]\u001b[A\n",
            "pearson(r): 0.6354, loss: 0.0828, reg_loss: 0.0000 ||:   6%|▌         | 11/180 [00:03<00:52,  3.20it/s]\u001b[A\n",
            "pearson(r): 0.6325, loss: 0.0823, reg_loss: 0.0000 ||:   7%|▋         | 12/180 [00:03<01:01,  2.73it/s]\u001b[A\n",
            "pearson(r): 0.6399, loss: 0.0798, reg_loss: 0.0000 ||:   7%|▋         | 13/180 [00:04<00:55,  2.99it/s]\u001b[A\n",
            "pearson(r): 0.6481, loss: 0.0815, reg_loss: 0.0000 ||:   8%|▊         | 14/180 [00:04<00:51,  3.21it/s]\u001b[A\n",
            "pearson(r): 0.6524, loss: 0.0803, reg_loss: 0.0000 ||:   8%|▊         | 15/180 [00:04<00:49,  3.32it/s]\u001b[A\n",
            "pearson(r): 0.6586, loss: 0.0797, reg_loss: 0.0000 ||:   9%|▉         | 16/180 [00:04<00:47,  3.43it/s]\u001b[A\n",
            "pearson(r): 0.6608, loss: 0.0793, reg_loss: 0.0000 ||:   9%|▉         | 17/180 [00:05<00:46,  3.48it/s]\u001b[A\n",
            "pearson(r): 0.6534, loss: 0.0797, reg_loss: 0.0000 ||:  10%|█         | 18/180 [00:05<00:46,  3.51it/s]\u001b[A\n",
            "pearson(r): 0.6464, loss: 0.0810, reg_loss: 0.0000 ||:  11%|█         | 19/180 [00:05<00:44,  3.65it/s]\u001b[A\n",
            "pearson(r): 0.6445, loss: 0.0809, reg_loss: 0.0000 ||:  11%|█         | 20/180 [00:06<00:48,  3.33it/s]\u001b[A\n",
            "pearson(r): 0.6416, loss: 0.0795, reg_loss: 0.0000 ||:  12%|█▏        | 21/180 [00:06<00:43,  3.70it/s]\u001b[A\n",
            "pearson(r): 0.6386, loss: 0.0791, reg_loss: 0.0000 ||:  12%|█▏        | 22/180 [00:06<00:47,  3.36it/s]\u001b[A\n",
            "pearson(r): 0.6348, loss: 0.0801, reg_loss: 0.0000 ||:  13%|█▎        | 23/180 [00:06<00:46,  3.41it/s]\u001b[A\n",
            "pearson(r): 0.6306, loss: 0.0808, reg_loss: 0.0000 ||:  13%|█▎        | 24/180 [00:07<00:44,  3.48it/s]\u001b[A\n",
            "pearson(r): 0.6349, loss: 0.0802, reg_loss: 0.0000 ||:  14%|█▍        | 25/180 [00:07<00:43,  3.55it/s]\u001b[A\n",
            "pearson(r): 0.6365, loss: 0.0801, reg_loss: 0.0000 ||:  14%|█▍        | 26/180 [00:07<00:43,  3.51it/s]\u001b[A\n",
            "pearson(r): 0.6394, loss: 0.0796, reg_loss: 0.0000 ||:  15%|█▌        | 27/180 [00:08<00:41,  3.64it/s]\u001b[A\n",
            "pearson(r): 0.6453, loss: 0.0793, reg_loss: 0.0000 ||:  16%|█▌        | 28/180 [00:08<00:38,  3.97it/s]\u001b[A\n",
            "pearson(r): 0.6440, loss: 0.0810, reg_loss: 0.0000 ||:  16%|█▌        | 29/180 [00:08<00:38,  3.97it/s]\u001b[A\n",
            "pearson(r): 0.6473, loss: 0.0802, reg_loss: 0.0000 ||:  17%|█▋        | 30/180 [00:08<00:38,  3.87it/s]\u001b[A\n",
            "pearson(r): 0.6508, loss: 0.0800, reg_loss: 0.0000 ||:  17%|█▋        | 31/180 [00:09<00:44,  3.35it/s]\u001b[A\n",
            "pearson(r): 0.6541, loss: 0.0796, reg_loss: 0.0000 ||:  18%|█▊        | 32/180 [00:09<00:43,  3.42it/s]\u001b[A\n",
            "pearson(r): 0.6519, loss: 0.0796, reg_loss: 0.0000 ||:  18%|█▊        | 33/180 [00:09<00:41,  3.57it/s]\u001b[A\n",
            "pearson(r): 0.6509, loss: 0.0801, reg_loss: 0.0000 ||:  19%|█▉        | 34/180 [00:10<00:41,  3.52it/s]\u001b[A\n",
            "pearson(r): 0.6525, loss: 0.0800, reg_loss: 0.0000 ||:  19%|█▉        | 35/180 [00:10<00:41,  3.50it/s]\u001b[A\n",
            "pearson(r): 0.6538, loss: 0.0805, reg_loss: 0.0000 ||:  20%|██        | 36/180 [00:10<00:40,  3.57it/s]\u001b[A\n",
            "pearson(r): 0.6569, loss: 0.0801, reg_loss: 0.0000 ||:  21%|██        | 37/180 [00:10<00:40,  3.51it/s]\u001b[A\n",
            "pearson(r): 0.6584, loss: 0.0802, reg_loss: 0.0000 ||:  21%|██        | 38/180 [00:11<00:38,  3.65it/s]\u001b[A\n",
            "pearson(r): 0.6601, loss: 0.0807, reg_loss: 0.0000 ||:  22%|██▏       | 39/180 [00:11<00:37,  3.79it/s]\u001b[A\n",
            "pearson(r): 0.6588, loss: 0.0808, reg_loss: 0.0000 ||:  22%|██▏       | 40/180 [00:11<00:37,  3.76it/s]\u001b[A\n",
            "pearson(r): 0.6605, loss: 0.0812, reg_loss: 0.0000 ||:  23%|██▎       | 41/180 [00:11<00:37,  3.69it/s]\u001b[A\n",
            "pearson(r): 0.6587, loss: 0.0804, reg_loss: 0.0000 ||:  23%|██▎       | 42/180 [00:12<00:40,  3.40it/s]\u001b[A\n",
            "pearson(r): 0.6583, loss: 0.0808, reg_loss: 0.0000 ||:  24%|██▍       | 43/180 [00:12<00:45,  2.99it/s]\u001b[A\n",
            "pearson(r): 0.6592, loss: 0.0805, reg_loss: 0.0000 ||:  24%|██▍       | 44/180 [00:12<00:43,  3.11it/s]\u001b[A\n",
            "pearson(r): 0.6622, loss: 0.0803, reg_loss: 0.0000 ||:  25%|██▌       | 45/180 [00:13<00:39,  3.38it/s]\u001b[A\n",
            "pearson(r): 0.6608, loss: 0.0806, reg_loss: 0.0000 ||:  26%|██▌       | 46/180 [00:13<00:46,  2.90it/s]\u001b[A\n",
            "pearson(r): 0.6589, loss: 0.0810, reg_loss: 0.0000 ||:  26%|██▌       | 47/180 [00:13<00:43,  3.04it/s]\u001b[A\n",
            "pearson(r): 0.6609, loss: 0.0803, reg_loss: 0.0000 ||:  27%|██▋       | 48/180 [00:14<00:40,  3.28it/s]\u001b[A\n",
            "pearson(r): 0.6591, loss: 0.0805, reg_loss: 0.0000 ||:  27%|██▋       | 49/180 [00:14<00:35,  3.67it/s]\u001b[A\n",
            "pearson(r): 0.6595, loss: 0.0803, reg_loss: 0.0000 ||:  28%|██▊       | 50/180 [00:14<00:33,  3.93it/s]\u001b[A\n",
            "pearson(r): 0.6603, loss: 0.0799, reg_loss: 0.0000 ||:  28%|██▊       | 51/180 [00:14<00:35,  3.65it/s]\u001b[A\n",
            "pearson(r): 0.6591, loss: 0.0803, reg_loss: 0.0000 ||:  29%|██▉       | 52/180 [00:15<00:36,  3.53it/s]\u001b[A\n",
            "pearson(r): 0.6584, loss: 0.0806, reg_loss: 0.0000 ||:  29%|██▉       | 53/180 [00:15<00:40,  3.15it/s]\u001b[A\n",
            "pearson(r): 0.6562, loss: 0.0809, reg_loss: 0.0000 ||:  30%|███       | 54/180 [00:15<00:37,  3.37it/s]\u001b[A\n",
            "pearson(r): 0.6572, loss: 0.0806, reg_loss: 0.0000 ||:  31%|███       | 55/180 [00:16<00:36,  3.41it/s]\u001b[A\n",
            "pearson(r): 0.6559, loss: 0.0805, reg_loss: 0.0000 ||:  31%|███       | 56/180 [00:16<00:35,  3.50it/s]\u001b[A\n",
            "pearson(r): 0.6540, loss: 0.0805, reg_loss: 0.0000 ||:  32%|███▏      | 57/180 [00:16<00:34,  3.54it/s]\u001b[A\n",
            "pearson(r): 0.6536, loss: 0.0803, reg_loss: 0.0000 ||:  32%|███▏      | 58/180 [00:16<00:33,  3.62it/s]\u001b[A\n",
            "pearson(r): 0.6530, loss: 0.0806, reg_loss: 0.0000 ||:  33%|███▎      | 59/180 [00:17<00:36,  3.33it/s]\u001b[A\n",
            "pearson(r): 0.6541, loss: 0.0805, reg_loss: 0.0000 ||:  33%|███▎      | 60/180 [00:17<00:34,  3.48it/s]\u001b[A\n",
            "pearson(r): 0.6519, loss: 0.0812, reg_loss: 0.0000 ||:  34%|███▍      | 61/180 [00:18<00:42,  2.78it/s]\u001b[A\n",
            "pearson(r): 0.6522, loss: 0.0809, reg_loss: 0.0000 ||:  34%|███▍      | 62/180 [00:18<00:43,  2.71it/s]\u001b[A\n",
            "pearson(r): 0.6525, loss: 0.0809, reg_loss: 0.0000 ||:  35%|███▌      | 63/180 [00:18<00:40,  2.90it/s]\u001b[A\n",
            "pearson(r): 0.6539, loss: 0.0807, reg_loss: 0.0000 ||:  36%|███▌      | 64/180 [00:19<00:37,  3.11it/s]\u001b[A\n",
            "pearson(r): 0.6549, loss: 0.0807, reg_loss: 0.0000 ||:  36%|███▌      | 65/180 [00:19<00:34,  3.33it/s]\u001b[A\n",
            "pearson(r): 0.6545, loss: 0.0807, reg_loss: 0.0000 ||:  37%|███▋      | 66/180 [00:19<00:35,  3.19it/s]\u001b[A\n",
            "pearson(r): 0.6540, loss: 0.0805, reg_loss: 0.0000 ||:  37%|███▋      | 67/180 [00:19<00:32,  3.49it/s]\u001b[A\n",
            "pearson(r): 0.6532, loss: 0.0810, reg_loss: 0.0000 ||:  38%|███▊      | 68/180 [00:20<00:30,  3.70it/s]\u001b[A\n",
            "pearson(r): 0.6510, loss: 0.0811, reg_loss: 0.0000 ||:  38%|███▊      | 69/180 [00:20<00:38,  2.86it/s]\u001b[A\n",
            "pearson(r): 0.6518, loss: 0.0811, reg_loss: 0.0000 ||:  39%|███▉      | 70/180 [00:20<00:36,  3.06it/s]\u001b[A\n",
            "pearson(r): 0.6520, loss: 0.0806, reg_loss: 0.0000 ||:  39%|███▉      | 71/180 [00:21<00:37,  2.94it/s]\u001b[A\n",
            "pearson(r): 0.6540, loss: 0.0803, reg_loss: 0.0000 ||:  40%|████      | 72/180 [00:21<00:34,  3.16it/s]\u001b[A\n",
            "pearson(r): 0.6520, loss: 0.0806, reg_loss: 0.0000 ||:  41%|████      | 73/180 [00:22<00:41,  2.60it/s]\u001b[A\n",
            "pearson(r): 0.6530, loss: 0.0806, reg_loss: 0.0000 ||:  41%|████      | 74/180 [00:22<00:36,  2.91it/s]\u001b[A\n",
            "pearson(r): 0.6511, loss: 0.0806, reg_loss: 0.0000 ||:  42%|████▏     | 75/180 [00:22<00:36,  2.84it/s]\u001b[A\n",
            "pearson(r): 0.6509, loss: 0.0806, reg_loss: 0.0000 ||:  42%|████▏     | 76/180 [00:23<00:34,  2.99it/s]\u001b[A\n",
            "pearson(r): 0.6496, loss: 0.0807, reg_loss: 0.0000 ||:  43%|████▎     | 77/180 [00:23<00:32,  3.15it/s]\u001b[A\n",
            "pearson(r): 0.6503, loss: 0.0807, reg_loss: 0.0000 ||:  43%|████▎     | 78/180 [00:23<00:38,  2.62it/s]\u001b[A\n",
            "pearson(r): 0.6510, loss: 0.0808, reg_loss: 0.0000 ||:  44%|████▍     | 79/180 [00:24<00:35,  2.85it/s]\u001b[A\n",
            "pearson(r): 0.6501, loss: 0.0809, reg_loss: 0.0000 ||:  44%|████▍     | 80/180 [00:24<00:36,  2.75it/s]\u001b[A\n",
            "pearson(r): 0.6527, loss: 0.0808, reg_loss: 0.0000 ||:  45%|████▌     | 81/180 [00:24<00:33,  2.91it/s]\u001b[A\n",
            "pearson(r): 0.6537, loss: 0.0809, reg_loss: 0.0000 ||:  46%|████▌     | 82/180 [00:25<00:30,  3.19it/s]\u001b[A\n",
            "pearson(r): 0.6542, loss: 0.0811, reg_loss: 0.0000 ||:  46%|████▌     | 83/180 [00:25<00:28,  3.42it/s]\u001b[A\n",
            "pearson(r): 0.6544, loss: 0.0809, reg_loss: 0.0000 ||:  47%|████▋     | 84/180 [00:25<00:27,  3.52it/s]\u001b[A\n",
            "pearson(r): 0.6538, loss: 0.0809, reg_loss: 0.0000 ||:  47%|████▋     | 85/180 [00:25<00:25,  3.71it/s]\u001b[A\n",
            "pearson(r): 0.6515, loss: 0.0811, reg_loss: 0.0000 ||:  48%|████▊     | 86/180 [00:26<00:27,  3.41it/s]\u001b[A\n",
            "pearson(r): 0.6533, loss: 0.0809, reg_loss: 0.0000 ||:  48%|████▊     | 87/180 [00:26<00:25,  3.64it/s]\u001b[A\n",
            "pearson(r): 0.6502, loss: 0.0815, reg_loss: 0.0000 ||:  49%|████▉     | 88/180 [00:26<00:28,  3.20it/s]\u001b[A\n",
            "pearson(r): 0.6499, loss: 0.0814, reg_loss: 0.0000 ||:  49%|████▉     | 89/180 [00:27<00:26,  3.39it/s]\u001b[A\n",
            "pearson(r): 0.6511, loss: 0.0810, reg_loss: 0.0000 ||:  50%|█████     | 90/180 [00:27<00:25,  3.53it/s]\u001b[A\n",
            "pearson(r): 0.6516, loss: 0.0807, reg_loss: 0.0000 ||:  51%|█████     | 91/180 [00:27<00:28,  3.12it/s]\u001b[A\n",
            "pearson(r): 0.6498, loss: 0.0807, reg_loss: 0.0000 ||:  51%|█████     | 92/180 [00:27<00:27,  3.14it/s]\u001b[A\n",
            "pearson(r): 0.6487, loss: 0.0804, reg_loss: 0.0000 ||:  52%|█████▏    | 93/180 [00:28<00:26,  3.29it/s]\u001b[A\n",
            "pearson(r): 0.6495, loss: 0.0804, reg_loss: 0.0000 ||:  52%|█████▏    | 94/180 [00:28<00:24,  3.45it/s]\u001b[A\n",
            "pearson(r): 0.6494, loss: 0.0802, reg_loss: 0.0000 ||:  53%|█████▎    | 95/180 [00:28<00:26,  3.19it/s]\u001b[A\n",
            "pearson(r): 0.6508, loss: 0.0799, reg_loss: 0.0000 ||:  53%|█████▎    | 96/180 [00:29<00:24,  3.46it/s]\u001b[A\n",
            "pearson(r): 0.6510, loss: 0.0800, reg_loss: 0.0000 ||:  54%|█████▍    | 97/180 [00:29<00:22,  3.68it/s]\u001b[A\n",
            "pearson(r): 0.6502, loss: 0.0799, reg_loss: 0.0000 ||:  54%|█████▍    | 98/180 [00:29<00:22,  3.71it/s]\u001b[A\n",
            "pearson(r): 0.6501, loss: 0.0801, reg_loss: 0.0000 ||:  55%|█████▌    | 99/180 [00:29<00:24,  3.30it/s]\u001b[A\n",
            "pearson(r): 0.6494, loss: 0.0799, reg_loss: 0.0000 ||:  56%|█████▌    | 100/180 [00:30<00:24,  3.30it/s]\u001b[A\n",
            "pearson(r): 0.6504, loss: 0.0797, reg_loss: 0.0000 ||:  56%|█████▌    | 101/180 [00:30<00:22,  3.52it/s]\u001b[A\n",
            "pearson(r): 0.6498, loss: 0.0797, reg_loss: 0.0000 ||:  57%|█████▋    | 102/180 [00:30<00:21,  3.58it/s]\u001b[A\n",
            "pearson(r): 0.6485, loss: 0.0799, reg_loss: 0.0000 ||:  57%|█████▋    | 103/180 [00:31<00:21,  3.56it/s]\u001b[A\n",
            "pearson(r): 0.6489, loss: 0.0800, reg_loss: 0.0000 ||:  58%|█████▊    | 104/180 [00:31<00:20,  3.75it/s]\u001b[A\n",
            "pearson(r): 0.6489, loss: 0.0802, reg_loss: 0.0000 ||:  58%|█████▊    | 105/180 [00:31<00:19,  3.80it/s]\u001b[A\n",
            "pearson(r): 0.6506, loss: 0.0801, reg_loss: 0.0000 ||:  59%|█████▉    | 106/180 [00:31<00:20,  3.61it/s]\u001b[A\n",
            "pearson(r): 0.6511, loss: 0.0799, reg_loss: 0.0000 ||:  59%|█████▉    | 107/180 [00:32<00:19,  3.81it/s]\u001b[A\n",
            "pearson(r): 0.6509, loss: 0.0799, reg_loss: 0.0000 ||:  60%|██████    | 108/180 [00:32<00:19,  3.76it/s]\u001b[A\n",
            "pearson(r): 0.6499, loss: 0.0799, reg_loss: 0.0000 ||:  61%|██████    | 109/180 [00:32<00:21,  3.28it/s]\u001b[A\n",
            "pearson(r): 0.6499, loss: 0.0799, reg_loss: 0.0000 ||:  61%|██████    | 110/180 [00:33<00:20,  3.35it/s]\u001b[A\n",
            "pearson(r): 0.6501, loss: 0.0798, reg_loss: 0.0000 ||:  62%|██████▏   | 111/180 [00:33<00:20,  3.40it/s]\u001b[A\n",
            "pearson(r): 0.6509, loss: 0.0797, reg_loss: 0.0000 ||:  62%|██████▏   | 112/180 [00:33<00:21,  3.18it/s]\u001b[A\n",
            "pearson(r): 0.6512, loss: 0.0798, reg_loss: 0.0000 ||:  63%|██████▎   | 113/180 [00:33<00:20,  3.35it/s]\u001b[A\n",
            "pearson(r): 0.6517, loss: 0.0797, reg_loss: 0.0000 ||:  63%|██████▎   | 114/180 [00:34<00:19,  3.33it/s]\u001b[A\n",
            "pearson(r): 0.6518, loss: 0.0795, reg_loss: 0.0000 ||:  64%|██████▍   | 115/180 [00:34<00:19,  3.37it/s]\u001b[A\n",
            "pearson(r): 0.6539, loss: 0.0794, reg_loss: 0.0000 ||:  64%|██████▍   | 116/180 [00:34<00:18,  3.45it/s]\u001b[A\n",
            "pearson(r): 0.6545, loss: 0.0794, reg_loss: 0.0000 ||:  65%|██████▌   | 117/180 [00:35<00:17,  3.61it/s]\u001b[A\n",
            "pearson(r): 0.6553, loss: 0.0793, reg_loss: 0.0000 ||:  66%|██████▌   | 118/180 [00:35<00:18,  3.38it/s]\u001b[A\n",
            "pearson(r): 0.6560, loss: 0.0794, reg_loss: 0.0000 ||:  66%|██████▌   | 119/180 [00:35<00:17,  3.53it/s]\u001b[A\n",
            "pearson(r): 0.6562, loss: 0.0792, reg_loss: 0.0000 ||:  67%|██████▋   | 120/180 [00:35<00:15,  3.84it/s]\u001b[A\n",
            "pearson(r): 0.6568, loss: 0.0792, reg_loss: 0.0000 ||:  67%|██████▋   | 121/180 [00:36<00:15,  3.79it/s]\u001b[A\n",
            "pearson(r): 0.6568, loss: 0.0792, reg_loss: 0.0000 ||:  68%|██████▊   | 122/180 [00:36<00:15,  3.74it/s]\u001b[A\n",
            "pearson(r): 0.6570, loss: 0.0790, reg_loss: 0.0000 ||:  68%|██████▊   | 123/180 [00:36<00:15,  3.75it/s]\u001b[A\n",
            "pearson(r): 0.6567, loss: 0.0791, reg_loss: 0.0000 ||:  69%|██████▉   | 124/180 [00:36<00:15,  3.72it/s]\u001b[A\n",
            "pearson(r): 0.6569, loss: 0.0789, reg_loss: 0.0000 ||:  69%|██████▉   | 125/180 [00:37<00:14,  3.74it/s]\u001b[A\n",
            "pearson(r): 0.6564, loss: 0.0790, reg_loss: 0.0000 ||:  70%|███████   | 126/180 [00:37<00:18,  2.88it/s]\u001b[A\n",
            "pearson(r): 0.6573, loss: 0.0789, reg_loss: 0.0000 ||:  71%|███████   | 127/180 [00:38<00:17,  3.00it/s]\u001b[A\n",
            "pearson(r): 0.6573, loss: 0.0789, reg_loss: 0.0000 ||:  71%|███████   | 128/180 [00:38<00:17,  3.05it/s]\u001b[A\n",
            "pearson(r): 0.6569, loss: 0.0789, reg_loss: 0.0000 ||:  72%|███████▏  | 129/180 [00:38<00:15,  3.25it/s]\u001b[A\n",
            "pearson(r): 0.6569, loss: 0.0788, reg_loss: 0.0000 ||:  72%|███████▏  | 130/180 [00:38<00:15,  3.20it/s]\u001b[A\n",
            "pearson(r): 0.6572, loss: 0.0786, reg_loss: 0.0000 ||:  73%|███████▎  | 131/180 [00:39<00:15,  3.25it/s]\u001b[A\n",
            "pearson(r): 0.6578, loss: 0.0786, reg_loss: 0.0000 ||:  73%|███████▎  | 132/180 [00:39<00:15,  3.04it/s]\u001b[A\n",
            "pearson(r): 0.6572, loss: 0.0785, reg_loss: 0.0000 ||:  74%|███████▍  | 133/180 [00:39<00:14,  3.27it/s]\u001b[A\n",
            "pearson(r): 0.6577, loss: 0.0784, reg_loss: 0.0000 ||:  74%|███████▍  | 134/180 [00:40<00:13,  3.46it/s]\u001b[A\n",
            "pearson(r): 0.6594, loss: 0.0781, reg_loss: 0.0000 ||:  75%|███████▌  | 135/180 [00:40<00:12,  3.56it/s]\u001b[A\n",
            "pearson(r): 0.6592, loss: 0.0783, reg_loss: 0.0000 ||:  76%|███████▌  | 136/180 [00:40<00:11,  3.76it/s]\u001b[A\n",
            "pearson(r): 0.6591, loss: 0.0782, reg_loss: 0.0000 ||:  76%|███████▌  | 137/180 [00:40<00:11,  3.60it/s]\u001b[A\n",
            "pearson(r): 0.6595, loss: 0.0784, reg_loss: 0.0000 ||:  77%|███████▋  | 138/180 [00:41<00:11,  3.51it/s]\u001b[A\n",
            "pearson(r): 0.6597, loss: 0.0783, reg_loss: 0.0000 ||:  77%|███████▋  | 139/180 [00:41<00:11,  3.61it/s]\u001b[A\n",
            "pearson(r): 0.6595, loss: 0.0785, reg_loss: 0.0000 ||:  78%|███████▊  | 140/180 [00:41<00:11,  3.41it/s]\u001b[A\n",
            "pearson(r): 0.6594, loss: 0.0784, reg_loss: 0.0000 ||:  78%|███████▊  | 141/180 [00:42<00:11,  3.44it/s]\u001b[A\n",
            "pearson(r): 0.6589, loss: 0.0784, reg_loss: 0.0000 ||:  79%|███████▉  | 142/180 [00:42<00:10,  3.65it/s]\u001b[A\n",
            "pearson(r): 0.6584, loss: 0.0783, reg_loss: 0.0000 ||:  79%|███████▉  | 143/180 [00:42<00:11,  3.33it/s]\u001b[A\n",
            "pearson(r): 0.6584, loss: 0.0782, reg_loss: 0.0000 ||:  80%|████████  | 144/180 [00:43<00:11,  3.20it/s]\u001b[A\n",
            "pearson(r): 0.6571, loss: 0.0786, reg_loss: 0.0000 ||:  81%|████████  | 145/180 [00:43<00:13,  2.65it/s]\u001b[A\n",
            "pearson(r): 0.6575, loss: 0.0784, reg_loss: 0.0000 ||:  81%|████████  | 146/180 [00:43<00:12,  2.83it/s]\u001b[A\n",
            "pearson(r): 0.6573, loss: 0.0783, reg_loss: 0.0000 ||:  82%|████████▏ | 147/180 [00:44<00:10,  3.07it/s]\u001b[A\n",
            "pearson(r): 0.6562, loss: 0.0785, reg_loss: 0.0000 ||:  82%|████████▏ | 148/180 [00:44<00:09,  3.28it/s]\u001b[A\n",
            "pearson(r): 0.6568, loss: 0.0787, reg_loss: 0.0000 ||:  83%|████████▎ | 149/180 [00:44<00:09,  3.34it/s]\u001b[A\n",
            "pearson(r): 0.6565, loss: 0.0788, reg_loss: 0.0000 ||:  83%|████████▎ | 150/180 [00:44<00:08,  3.48it/s]\u001b[A\n",
            "pearson(r): 0.6566, loss: 0.0788, reg_loss: 0.0000 ||:  84%|████████▍ | 151/180 [00:45<00:07,  3.78it/s]\u001b[A\n",
            "pearson(r): 0.6572, loss: 0.0788, reg_loss: 0.0000 ||:  84%|████████▍ | 152/180 [00:45<00:07,  3.57it/s]\u001b[A\n",
            "pearson(r): 0.6579, loss: 0.0787, reg_loss: 0.0000 ||:  85%|████████▌ | 153/180 [00:45<00:07,  3.74it/s]\u001b[A\n",
            "pearson(r): 0.6583, loss: 0.0786, reg_loss: 0.0000 ||:  86%|████████▌ | 154/180 [00:46<00:08,  2.89it/s]\u001b[A\n",
            "pearson(r): 0.6593, loss: 0.0785, reg_loss: 0.0000 ||:  86%|████████▌ | 155/180 [00:46<00:10,  2.50it/s]\u001b[A\n",
            "pearson(r): 0.6608, loss: 0.0782, reg_loss: 0.0000 ||:  87%|████████▋ | 156/180 [00:47<00:09,  2.56it/s]\u001b[A\n",
            "pearson(r): 0.6603, loss: 0.0782, reg_loss: 0.0000 ||:  87%|████████▋ | 157/180 [00:47<00:08,  2.84it/s]\u001b[A\n",
            "pearson(r): 0.6601, loss: 0.0782, reg_loss: 0.0000 ||:  88%|████████▊ | 158/180 [00:47<00:08,  2.47it/s]\u001b[A\n",
            "pearson(r): 0.6591, loss: 0.0783, reg_loss: 0.0000 ||:  88%|████████▊ | 159/180 [00:48<00:07,  2.75it/s]\u001b[A\n",
            "pearson(r): 0.6590, loss: 0.0783, reg_loss: 0.0000 ||:  89%|████████▉ | 160/180 [00:48<00:06,  2.97it/s]\u001b[A\n",
            "pearson(r): 0.6592, loss: 0.0784, reg_loss: 0.0000 ||:  89%|████████▉ | 161/180 [00:48<00:05,  3.29it/s]\u001b[A\n",
            "pearson(r): 0.6581, loss: 0.0785, reg_loss: 0.0000 ||:  90%|█████████ | 162/180 [00:49<00:05,  3.06it/s]\u001b[A\n",
            "pearson(r): 0.6569, loss: 0.0787, reg_loss: 0.0000 ||:  91%|█████████ | 163/180 [00:49<00:05,  3.18it/s]\u001b[A\n",
            "pearson(r): 0.6567, loss: 0.0786, reg_loss: 0.0000 ||:  91%|█████████ | 164/180 [00:49<00:05,  3.05it/s]\u001b[A\n",
            "pearson(r): 0.6566, loss: 0.0786, reg_loss: 0.0000 ||:  92%|█████████▏| 165/180 [00:49<00:04,  3.31it/s]\u001b[A\n",
            "pearson(r): 0.6566, loss: 0.0786, reg_loss: 0.0000 ||:  92%|█████████▏| 166/180 [00:50<00:04,  3.49it/s]\u001b[A\n",
            "pearson(r): 0.6565, loss: 0.0786, reg_loss: 0.0000 ||:  93%|█████████▎| 167/180 [00:50<00:04,  2.78it/s]\u001b[A\n",
            "pearson(r): 0.6571, loss: 0.0786, reg_loss: 0.0000 ||:  93%|█████████▎| 168/180 [00:51<00:04,  2.92it/s]\u001b[A\n",
            "pearson(r): 0.6576, loss: 0.0787, reg_loss: 0.0000 ||:  94%|█████████▍| 169/180 [00:51<00:03,  2.99it/s]\u001b[A\n",
            "pearson(r): 0.6586, loss: 0.0786, reg_loss: 0.0000 ||:  94%|█████████▍| 170/180 [00:51<00:03,  3.09it/s]\u001b[A\n",
            "pearson(r): 0.6577, loss: 0.0787, reg_loss: 0.0000 ||:  95%|█████████▌| 171/180 [00:52<00:03,  2.95it/s]\u001b[A\n",
            "pearson(r): 0.6581, loss: 0.0786, reg_loss: 0.0000 ||:  96%|█████████▌| 172/180 [00:52<00:02,  3.14it/s]\u001b[A\n",
            "pearson(r): 0.6577, loss: 0.0785, reg_loss: 0.0000 ||:  96%|█████████▌| 173/180 [00:52<00:02,  3.25it/s]\u001b[A\n",
            "pearson(r): 0.6572, loss: 0.0786, reg_loss: 0.0000 ||:  97%|█████████▋| 174/180 [00:52<00:01,  3.34it/s]\u001b[A\n",
            "pearson(r): 0.6564, loss: 0.0785, reg_loss: 0.0000 ||:  97%|█████████▋| 175/180 [00:53<00:01,  3.50it/s]\u001b[A\n",
            "pearson(r): 0.6566, loss: 0.0785, reg_loss: 0.0000 ||:  98%|█████████▊| 176/180 [00:53<00:01,  3.58it/s]\u001b[A\n",
            "pearson(r): 0.6569, loss: 0.0785, reg_loss: 0.0000 ||:  98%|█████████▊| 177/180 [00:53<00:00,  3.67it/s]\u001b[A\n",
            "pearson(r): 0.6571, loss: 0.0785, reg_loss: 0.0000 ||:  99%|█████████▉| 178/180 [00:53<00:00,  3.91it/s]\u001b[A\n",
            "pearson(r): 0.6570, loss: 0.0786, reg_loss: 0.0000 ||:  99%|█████████▉| 179/180 [00:54<00:00,  3.79it/s]\u001b[A\n",
            "pearson(r): 0.6565, loss: 0.0788, reg_loss: 0.0000 ||: 100%|██████████| 180/180 [00:54<00:00,  3.31it/s]\n",
            "\n",
            "  0%|          | 0/180 [00:00<?, ?it/s]\u001b[A\n",
            "pearson(r): 0.6080, loss: 0.0662, reg_loss: 0.0000 ||:   1%|          | 1/180 [00:03<08:58,  3.01s/it]\u001b[A\n",
            "pearson(r): 0.6456, loss: 0.0623, reg_loss: 0.0000 ||:   1%|          | 2/180 [00:04<07:16,  2.45s/it]\u001b[A\n",
            "pearson(r): 0.6901, loss: 0.0546, reg_loss: 0.0000 ||:   2%|▏         | 3/180 [00:05<06:16,  2.13s/it]\u001b[A\n",
            "pearson(r): 0.6555, loss: 0.0550, reg_loss: 0.0000 ||:   2%|▏         | 4/180 [00:06<05:36,  1.91s/it]\u001b[A\n",
            "pearson(r): 0.6684, loss: 0.0537, reg_loss: 0.0000 ||:   3%|▎         | 5/180 [00:09<05:57,  2.04s/it]\u001b[A\n",
            "pearson(r): 0.6410, loss: 0.0577, reg_loss: 0.0000 ||:   3%|▎         | 6/180 [00:11<06:05,  2.10s/it]\u001b[A\n",
            "pearson(r): 0.6231, loss: 0.0577, reg_loss: 0.0000 ||:   4%|▍         | 7/180 [00:13<05:31,  1.92s/it]\u001b[A\n",
            "pearson(r): 0.6368, loss: 0.0559, reg_loss: 0.0000 ||:   4%|▍         | 8/180 [00:14<05:07,  1.79s/it]\u001b[A\n",
            "pearson(r): 0.6312, loss: 0.0550, reg_loss: 0.0000 ||:   5%|▌         | 9/180 [00:15<04:48,  1.69s/it]\u001b[A\n",
            "pearson(r): 0.6061, loss: 0.0567, reg_loss: 0.0000 ||:   6%|▌         | 10/180 [00:18<05:05,  1.80s/it]\u001b[A\n",
            "pearson(r): 0.5991, loss: 0.0567, reg_loss: 0.0000 ||:   6%|▌         | 11/180 [00:19<04:49,  1.71s/it]\u001b[A\n",
            "pearson(r): 0.6182, loss: 0.0554, reg_loss: 0.0000 ||:   7%|▋         | 12/180 [00:21<04:39,  1.66s/it]\u001b[A\n",
            "pearson(r): 0.6115, loss: 0.0553, reg_loss: 0.0000 ||:   7%|▋         | 13/180 [00:22<04:31,  1.63s/it]\u001b[A\n",
            "pearson(r): 0.6229, loss: 0.0541, reg_loss: 0.0000 ||:   8%|▊         | 14/180 [00:25<05:40,  2.05s/it]\u001b[A\n",
            "pearson(r): 0.6185, loss: 0.0542, reg_loss: 0.0000 ||:   8%|▊         | 15/180 [00:27<05:36,  2.04s/it]\u001b[A\n",
            "pearson(r): 0.6211, loss: 0.0534, reg_loss: 0.0000 ||:   9%|▉         | 16/180 [00:29<05:14,  1.92s/it]\u001b[A\n",
            "pearson(r): 0.6205, loss: 0.0533, reg_loss: 0.0000 ||:   9%|▉         | 17/180 [00:30<04:58,  1.83s/it]\u001b[A\n",
            "pearson(r): 0.6154, loss: 0.0535, reg_loss: 0.0000 ||:  10%|█         | 18/180 [00:32<04:47,  1.77s/it]\u001b[A\n",
            "pearson(r): 0.6226, loss: 0.0528, reg_loss: 0.0000 ||:  11%|█         | 19/180 [00:34<04:29,  1.68s/it]\u001b[A\n",
            "pearson(r): 0.6276, loss: 0.0516, reg_loss: 0.0000 ||:  11%|█         | 20/180 [00:35<04:19,  1.62s/it]\u001b[A\n",
            "pearson(r): 0.6282, loss: 0.0514, reg_loss: 0.0000 ||:  12%|█▏        | 21/180 [00:36<04:05,  1.54s/it]\u001b[A\n",
            "pearson(r): 0.6307, loss: 0.0522, reg_loss: 0.0000 ||:  12%|█▏        | 22/180 [00:38<04:02,  1.54s/it]\u001b[A\n",
            "pearson(r): 0.6300, loss: 0.0519, reg_loss: 0.0000 ||:  13%|█▎        | 23/180 [00:39<03:55,  1.50s/it]\u001b[A\n",
            "pearson(r): 0.6394, loss: 0.0513, reg_loss: 0.0000 ||:  13%|█▎        | 24/180 [00:41<03:48,  1.46s/it]\u001b[A\n",
            "pearson(r): 0.6351, loss: 0.0520, reg_loss: 0.0000 ||:  14%|█▍        | 25/180 [00:43<04:15,  1.65s/it]\u001b[A\n",
            "pearson(r): 0.6326, loss: 0.0521, reg_loss: 0.0000 ||:  14%|█▍        | 26/180 [00:44<04:03,  1.58s/it]\u001b[A\n",
            "pearson(r): 0.6308, loss: 0.0527, reg_loss: 0.0000 ||:  15%|█▌        | 27/180 [00:45<03:40,  1.44s/it]\u001b[A\n",
            "pearson(r): 0.6301, loss: 0.0521, reg_loss: 0.0000 ||:  16%|█▌        | 28/180 [00:48<04:18,  1.70s/it]\u001b[A\n",
            "pearson(r): 0.6274, loss: 0.0525, reg_loss: 0.0000 ||:  16%|█▌        | 29/180 [00:49<04:05,  1.63s/it]\u001b[A\n",
            "pearson(r): 0.6329, loss: 0.0517, reg_loss: 0.0000 ||:  17%|█▋        | 30/180 [00:51<04:14,  1.69s/it]\u001b[A\n",
            "pearson(r): 0.6300, loss: 0.0517, reg_loss: 0.0000 ||:  17%|█▋        | 31/180 [00:52<04:02,  1.63s/it]\u001b[A\n",
            "pearson(r): 0.6302, loss: 0.0515, reg_loss: 0.0000 ||:  18%|█▊        | 32/180 [00:54<03:55,  1.59s/it]\u001b[A\n",
            "pearson(r): 0.6255, loss: 0.0519, reg_loss: 0.0000 ||:  18%|█▊        | 33/180 [00:55<03:42,  1.51s/it]\u001b[A\n",
            "pearson(r): 0.6253, loss: 0.0515, reg_loss: 0.0000 ||:  19%|█▉        | 34/180 [00:57<03:31,  1.45s/it]\u001b[A\n",
            "pearson(r): 0.6253, loss: 0.0513, reg_loss: 0.0000 ||:  19%|█▉        | 35/180 [00:58<03:32,  1.47s/it]\u001b[A\n",
            "pearson(r): 0.6280, loss: 0.0511, reg_loss: 0.0000 ||:  20%|██        | 36/180 [00:59<03:16,  1.36s/it]\u001b[A\n",
            "pearson(r): 0.6277, loss: 0.0512, reg_loss: 0.0000 ||:  21%|██        | 37/180 [01:01<03:22,  1.41s/it]\u001b[A\n",
            "pearson(r): 0.6340, loss: 0.0506, reg_loss: 0.0000 ||:  21%|██        | 38/180 [01:02<03:28,  1.47s/it]\u001b[A\n",
            "pearson(r): 0.6327, loss: 0.0503, reg_loss: 0.0000 ||:  22%|██▏       | 39/180 [01:04<03:26,  1.47s/it]\u001b[A\n",
            "pearson(r): 0.6335, loss: 0.0503, reg_loss: 0.0000 ||:  22%|██▏       | 40/180 [01:06<03:38,  1.56s/it]\u001b[A\n",
            "pearson(r): 0.6340, loss: 0.0505, reg_loss: 0.0000 ||:  23%|██▎       | 41/180 [01:08<03:55,  1.69s/it]\u001b[A\n",
            "pearson(r): 0.6373, loss: 0.0503, reg_loss: 0.0000 ||:  23%|██▎       | 42/180 [01:09<03:30,  1.52s/it]\u001b[A\n",
            "pearson(r): 0.6365, loss: 0.0504, reg_loss: 0.0000 ||:  24%|██▍       | 43/180 [01:10<03:12,  1.41s/it]\u001b[A\n",
            "pearson(r): 0.6381, loss: 0.0504, reg_loss: 0.0000 ||:  24%|██▍       | 44/180 [01:11<03:18,  1.46s/it]\u001b[A\n",
            "pearson(r): 0.6375, loss: 0.0504, reg_loss: 0.0000 ||:  25%|██▌       | 45/180 [01:13<03:32,  1.57s/it]\u001b[A\n",
            "pearson(r): 0.6386, loss: 0.0506, reg_loss: 0.0000 ||:  26%|██▌       | 46/180 [01:14<03:19,  1.49s/it]\u001b[A\n",
            "pearson(r): 0.6394, loss: 0.0502, reg_loss: 0.0000 ||:  26%|██▌       | 47/180 [01:16<03:19,  1.50s/it]\u001b[A\n",
            "pearson(r): 0.6389, loss: 0.0501, reg_loss: 0.0000 ||:  27%|██▋       | 48/180 [01:18<03:33,  1.62s/it]\u001b[A\n",
            "pearson(r): 0.6411, loss: 0.0500, reg_loss: 0.0000 ||:  27%|██▋       | 49/180 [01:19<03:13,  1.47s/it]\u001b[A\n",
            "pearson(r): 0.6431, loss: 0.0500, reg_loss: 0.0000 ||:  28%|██▊       | 50/180 [01:21<03:16,  1.51s/it]\u001b[A\n",
            "pearson(r): 0.6408, loss: 0.0501, reg_loss: 0.0000 ||:  28%|██▊       | 51/180 [01:23<03:41,  1.72s/it]\u001b[A\n",
            "pearson(r): 0.6407, loss: 0.0501, reg_loss: 0.0000 ||:  29%|██▉       | 52/180 [01:24<03:28,  1.63s/it]\u001b[A\n",
            "pearson(r): 0.6378, loss: 0.0504, reg_loss: 0.0000 ||:  29%|██▉       | 53/180 [01:26<03:15,  1.54s/it]\u001b[A\n",
            "pearson(r): 0.6400, loss: 0.0503, reg_loss: 0.0000 ||:  30%|███       | 54/180 [01:27<03:06,  1.48s/it]\u001b[A\n",
            "pearson(r): 0.6409, loss: 0.0506, reg_loss: 0.0000 ||:  31%|███       | 55/180 [01:28<02:52,  1.38s/it]\u001b[A\n",
            "pearson(r): 0.6400, loss: 0.0503, reg_loss: 0.0000 ||:  31%|███       | 56/180 [01:29<02:49,  1.37s/it]\u001b[A\n",
            "pearson(r): 0.6364, loss: 0.0502, reg_loss: 0.0000 ||:  32%|███▏      | 57/180 [01:31<02:47,  1.36s/it]\u001b[A\n",
            "pearson(r): 0.6325, loss: 0.0507, reg_loss: 0.0000 ||:  32%|███▏      | 58/180 [01:34<03:47,  1.87s/it]\u001b[A\n",
            "pearson(r): 0.6316, loss: 0.0508, reg_loss: 0.0000 ||:  33%|███▎      | 59/180 [01:35<03:30,  1.74s/it]\u001b[A\n",
            "pearson(r): 0.6328, loss: 0.0509, reg_loss: 0.0000 ||:  33%|███▎      | 60/180 [01:38<04:19,  2.16s/it]\u001b[A\n",
            "pearson(r): 0.6334, loss: 0.0508, reg_loss: 0.0000 ||:  34%|███▍      | 61/180 [01:40<03:56,  1.98s/it]\u001b[A\n",
            "pearson(r): 0.6338, loss: 0.0506, reg_loss: 0.0000 ||:  34%|███▍      | 62/180 [01:41<03:35,  1.83s/it]\u001b[A\n",
            "pearson(r): 0.6303, loss: 0.0508, reg_loss: 0.0000 ||:  35%|███▌      | 63/180 [01:44<04:15,  2.19s/it]\u001b[A\n",
            "pearson(r): 0.6314, loss: 0.0507, reg_loss: 0.0000 ||:  36%|███▌      | 64/180 [01:46<03:55,  2.03s/it]\u001b[A\n",
            "pearson(r): 0.6314, loss: 0.0505, reg_loss: 0.0000 ||:  36%|███▌      | 65/180 [01:48<03:42,  1.93s/it]\u001b[A\n",
            "pearson(r): 0.6336, loss: 0.0504, reg_loss: 0.0000 ||:  37%|███▋      | 66/180 [01:50<03:38,  1.92s/it]\u001b[A\n",
            "pearson(r): 0.6347, loss: 0.0503, reg_loss: 0.0000 ||:  37%|███▋      | 67/180 [01:51<03:17,  1.74s/it]\u001b[A\n",
            "pearson(r): 0.6371, loss: 0.0501, reg_loss: 0.0000 ||:  38%|███▊      | 68/180 [01:53<03:07,  1.68s/it]\u001b[A\n",
            "pearson(r): 0.6353, loss: 0.0500, reg_loss: 0.0000 ||:  38%|███▊      | 69/180 [01:54<02:58,  1.61s/it]\u001b[A\n",
            "pearson(r): 0.6370, loss: 0.0501, reg_loss: 0.0000 ||:  39%|███▉      | 70/180 [01:56<02:52,  1.57s/it]\u001b[A\n",
            "pearson(r): 0.6396, loss: 0.0499, reg_loss: 0.0000 ||:  39%|███▉      | 71/180 [01:57<02:45,  1.52s/it]\u001b[A\n",
            "pearson(r): 0.6416, loss: 0.0497, reg_loss: 0.0000 ||:  40%|████      | 72/180 [01:58<02:41,  1.49s/it]\u001b[A\n",
            "pearson(r): 0.6415, loss: 0.0497, reg_loss: 0.0000 ||:  41%|████      | 73/180 [01:59<02:24,  1.35s/it]\u001b[A\n",
            "pearson(r): 0.6420, loss: 0.0496, reg_loss: 0.0000 ||:  41%|████      | 74/180 [02:01<02:25,  1.38s/it]\u001b[A\n",
            "pearson(r): 0.6399, loss: 0.0497, reg_loss: 0.0000 ||:  42%|████▏     | 75/180 [02:02<02:28,  1.42s/it]\u001b[A\n",
            "pearson(r): 0.6365, loss: 0.0501, reg_loss: 0.0000 ||:  42%|████▏     | 76/180 [02:04<02:31,  1.46s/it]\u001b[A\n",
            "pearson(r): 0.6364, loss: 0.0501, reg_loss: 0.0000 ||:  43%|████▎     | 77/180 [02:06<02:52,  1.68s/it]\u001b[A\n",
            "pearson(r): 0.6384, loss: 0.0499, reg_loss: 0.0000 ||:  43%|████▎     | 78/180 [02:07<02:37,  1.55s/it]\u001b[A\n",
            "pearson(r): 0.6379, loss: 0.0499, reg_loss: 0.0000 ||:  44%|████▍     | 79/180 [02:09<02:29,  1.48s/it]\u001b[A\n",
            "pearson(r): 0.6347, loss: 0.0504, reg_loss: 0.0000 ||:  44%|████▍     | 80/180 [02:12<03:14,  1.95s/it]\u001b[A\n",
            "pearson(r): 0.6330, loss: 0.0504, reg_loss: 0.0000 ||:  45%|████▌     | 81/180 [02:13<03:05,  1.88s/it]\u001b[A\n",
            "pearson(r): 0.6341, loss: 0.0505, reg_loss: 0.0000 ||:  46%|████▌     | 82/180 [02:15<02:48,  1.72s/it]\u001b[A\n",
            "pearson(r): 0.6353, loss: 0.0502, reg_loss: 0.0000 ||:  46%|████▌     | 83/180 [02:16<02:38,  1.63s/it]\u001b[A\n",
            "pearson(r): 0.6348, loss: 0.0502, reg_loss: 0.0000 ||:  47%|████▋     | 84/180 [02:18<02:38,  1.65s/it]\u001b[A\n",
            "pearson(r): 0.6334, loss: 0.0503, reg_loss: 0.0000 ||:  47%|████▋     | 85/180 [02:20<02:55,  1.85s/it]\u001b[A\n",
            "pearson(r): 0.6321, loss: 0.0503, reg_loss: 0.0000 ||:  48%|████▊     | 86/180 [02:22<02:44,  1.75s/it]\u001b[A\n",
            "pearson(r): 0.6332, loss: 0.0502, reg_loss: 0.0000 ||:  48%|████▊     | 87/180 [02:23<02:41,  1.74s/it]\u001b[A\n",
            "pearson(r): 0.6318, loss: 0.0504, reg_loss: 0.0000 ||:  49%|████▉     | 88/180 [02:25<02:33,  1.67s/it]\u001b[A\n",
            "pearson(r): 0.6317, loss: 0.0504, reg_loss: 0.0000 ||:  49%|████▉     | 89/180 [02:26<02:22,  1.57s/it]\u001b[A\n",
            "pearson(r): 0.6312, loss: 0.0505, reg_loss: 0.0000 ||:  50%|█████     | 90/180 [02:27<02:12,  1.47s/it]\u001b[A\n",
            "pearson(r): 0.6308, loss: 0.0504, reg_loss: 0.0000 ||:  51%|█████     | 91/180 [02:29<02:11,  1.48s/it]\u001b[A\n",
            "pearson(r): 0.6305, loss: 0.0505, reg_loss: 0.0000 ||:  51%|█████     | 92/180 [02:30<02:06,  1.44s/it]\u001b[A\n",
            "pearson(r): 0.6313, loss: 0.0505, reg_loss: 0.0000 ||:  52%|█████▏    | 93/180 [02:32<02:13,  1.53s/it]\u001b[A\n",
            "pearson(r): 0.6316, loss: 0.0505, reg_loss: 0.0000 ||:  52%|█████▏    | 94/180 [02:34<02:10,  1.52s/it]\u001b[A\n",
            "pearson(r): 0.6321, loss: 0.0506, reg_loss: 0.0000 ||:  53%|█████▎    | 95/180 [02:35<02:11,  1.55s/it]\u001b[A\n",
            "pearson(r): 0.6322, loss: 0.0506, reg_loss: 0.0000 ||:  53%|█████▎    | 96/180 [02:37<02:12,  1.57s/it]\u001b[A\n",
            "pearson(r): 0.6310, loss: 0.0507, reg_loss: 0.0000 ||:  54%|█████▍    | 97/180 [02:40<02:47,  2.02s/it]\u001b[A\n",
            "pearson(r): 0.6309, loss: 0.0509, reg_loss: 0.0000 ||:  54%|█████▍    | 98/180 [02:43<03:10,  2.32s/it]\u001b[A\n",
            "pearson(r): 0.6306, loss: 0.0508, reg_loss: 0.0000 ||:  55%|█████▌    | 99/180 [02:44<02:50,  2.10s/it]\u001b[A\n",
            "pearson(r): 0.6314, loss: 0.0508, reg_loss: 0.0000 ||:  56%|█████▌    | 100/180 [02:47<03:09,  2.37s/it]\u001b[A\n",
            "pearson(r): 0.6327, loss: 0.0508, reg_loss: 0.0000 ||:  56%|█████▌    | 101/180 [02:50<03:08,  2.39s/it]\u001b[A\n",
            "pearson(r): 0.6330, loss: 0.0507, reg_loss: 0.0000 ||:  57%|█████▋    | 102/180 [02:52<02:48,  2.16s/it]\u001b[A\n",
            "pearson(r): 0.6342, loss: 0.0505, reg_loss: 0.0000 ||:  57%|█████▋    | 103/180 [02:53<02:32,  1.98s/it]\u001b[A\n",
            "pearson(r): 0.6342, loss: 0.0505, reg_loss: 0.0000 ||:  58%|█████▊    | 104/180 [02:55<02:19,  1.83s/it]\u001b[A\n",
            "pearson(r): 0.6337, loss: 0.0506, reg_loss: 0.0000 ||:  58%|█████▊    | 105/180 [02:56<02:18,  1.84s/it]\u001b[A\n",
            "pearson(r): 0.6335, loss: 0.0506, reg_loss: 0.0000 ||:  59%|█████▉    | 106/180 [02:59<02:31,  2.05s/it]\u001b[A\n",
            "pearson(r): 0.6322, loss: 0.0507, reg_loss: 0.0000 ||:  59%|█████▉    | 107/180 [03:01<02:26,  2.01s/it]\u001b[A\n",
            "pearson(r): 0.6299, loss: 0.0508, reg_loss: 0.0000 ||:  60%|██████    | 108/180 [03:02<02:13,  1.85s/it]\u001b[A\n",
            "pearson(r): 0.6298, loss: 0.0509, reg_loss: 0.0000 ||:  61%|██████    | 109/180 [03:04<02:01,  1.72s/it]\u001b[A\n",
            "pearson(r): 0.6283, loss: 0.0510, reg_loss: 0.0000 ||:  61%|██████    | 110/180 [03:05<01:55,  1.65s/it]\u001b[A\n",
            "pearson(r): 0.6273, loss: 0.0513, reg_loss: 0.0000 ||:  62%|██████▏   | 111/180 [03:07<01:58,  1.72s/it]\u001b[A\n",
            "pearson(r): 0.6236, loss: 0.0516, reg_loss: 0.0000 ||:  62%|██████▏   | 112/180 [03:09<01:51,  1.64s/it]\u001b[A\n",
            "pearson(r): 0.6218, loss: 0.0517, reg_loss: 0.0000 ||:  63%|██████▎   | 113/180 [03:10<01:46,  1.59s/it]\u001b[A\n",
            "pearson(r): 0.6194, loss: 0.0519, reg_loss: 0.0000 ||:  63%|██████▎   | 114/180 [03:12<01:45,  1.60s/it]\u001b[A\n",
            "pearson(r): 0.6181, loss: 0.0522, reg_loss: 0.0000 ||:  64%|██████▍   | 115/180 [03:13<01:39,  1.53s/it]\u001b[A\n",
            "pearson(r): 0.6172, loss: 0.0522, reg_loss: 0.0000 ||:  64%|██████▍   | 116/180 [03:15<01:39,  1.55s/it]\u001b[A\n",
            "pearson(r): 0.6163, loss: 0.0523, reg_loss: 0.0000 ||:  65%|██████▌   | 117/180 [03:17<01:49,  1.74s/it]\u001b[A\n",
            "pearson(r): 0.6158, loss: 0.0523, reg_loss: 0.0000 ||:  66%|██████▌   | 118/180 [03:18<01:43,  1.67s/it]\u001b[A\n",
            "pearson(r): 0.6160, loss: 0.0524, reg_loss: 0.0000 ||:  66%|██████▌   | 119/180 [03:20<01:34,  1.54s/it]\u001b[A\n",
            "pearson(r): 0.6155, loss: 0.0524, reg_loss: 0.0000 ||:  67%|██████▋   | 120/180 [03:21<01:27,  1.46s/it]\u001b[A\n",
            "pearson(r): 0.6139, loss: 0.0527, reg_loss: 0.0000 ||:  67%|██████▋   | 121/180 [03:22<01:23,  1.41s/it]\u001b[A\n",
            "pearson(r): 0.6130, loss: 0.0528, reg_loss: 0.0000 ||:  68%|██████▊   | 122/180 [03:23<01:17,  1.34s/it]\u001b[A\n",
            "pearson(r): 0.6121, loss: 0.0530, reg_loss: 0.0000 ||:  68%|██████▊   | 123/180 [03:24<01:12,  1.27s/it]\u001b[A\n",
            "pearson(r): 0.6104, loss: 0.0532, reg_loss: 0.0000 ||:  69%|██████▉   | 124/180 [03:26<01:15,  1.34s/it]\u001b[A\n",
            "pearson(r): 0.6117, loss: 0.0531, reg_loss: 0.0000 ||:  69%|██████▉   | 125/180 [03:28<01:17,  1.41s/it]\u001b[A\n",
            "pearson(r): 0.6113, loss: 0.0531, reg_loss: 0.0000 ||:  70%|███████   | 126/180 [03:30<01:27,  1.62s/it]\u001b[A\n",
            "pearson(r): 0.6096, loss: 0.0534, reg_loss: 0.0000 ||:  71%|███████   | 127/180 [03:31<01:25,  1.62s/it]\u001b[A\n",
            "pearson(r): 0.6091, loss: 0.0535, reg_loss: 0.0000 ||:  71%|███████   | 128/180 [03:33<01:21,  1.57s/it]\u001b[A\n",
            "pearson(r): 0.6091, loss: 0.0536, reg_loss: 0.0000 ||:  72%|███████▏  | 129/180 [03:35<01:24,  1.66s/it]\u001b[A\n",
            "pearson(r): 0.6089, loss: 0.0537, reg_loss: 0.0000 ||:  72%|███████▏  | 130/180 [03:36<01:17,  1.54s/it]\u001b[A\n",
            "pearson(r): 0.6087, loss: 0.0537, reg_loss: 0.0000 ||:  73%|███████▎  | 131/180 [03:38<01:22,  1.68s/it]\u001b[A\n",
            "pearson(r): 0.6079, loss: 0.0537, reg_loss: 0.0000 ||:  73%|███████▎  | 132/180 [03:39<01:18,  1.63s/it]\u001b[A\n",
            "pearson(r): 0.6075, loss: 0.0537, reg_loss: 0.0000 ||:  74%|███████▍  | 133/180 [03:41<01:14,  1.58s/it]\u001b[A\n",
            "pearson(r): 0.6079, loss: 0.0537, reg_loss: 0.0000 ||:  74%|███████▍  | 134/180 [03:42<01:13,  1.59s/it]\u001b[A\n",
            "pearson(r): 0.6072, loss: 0.0538, reg_loss: 0.0000 ||:  75%|███████▌  | 135/180 [03:44<01:13,  1.64s/it]\u001b[A\n",
            "pearson(r): 0.6069, loss: 0.0538, reg_loss: 0.0000 ||:  76%|███████▌  | 136/180 [03:46<01:10,  1.60s/it]\u001b[A\n",
            "pearson(r): 0.6074, loss: 0.0538, reg_loss: 0.0000 ||:  76%|███████▌  | 137/180 [03:47<01:05,  1.53s/it]\u001b[A\n",
            "pearson(r): 0.6056, loss: 0.0540, reg_loss: 0.0000 ||:  77%|███████▋  | 138/180 [03:50<01:23,  1.98s/it]\u001b[A\n",
            "pearson(r): 0.6058, loss: 0.0540, reg_loss: 0.0000 ||:  77%|███████▋  | 139/180 [03:52<01:25,  2.08s/it]\u001b[A\n",
            "pearson(r): 0.6032, loss: 0.0542, reg_loss: 0.0000 ||:  78%|███████▊  | 140/180 [03:54<01:16,  1.92s/it]\u001b[A\n",
            "pearson(r): 0.6030, loss: 0.0543, reg_loss: 0.0000 ||:  78%|███████▊  | 141/180 [03:55<01:09,  1.77s/it]\u001b[A\n",
            "pearson(r): 0.6025, loss: 0.0543, reg_loss: 0.0000 ||:  79%|███████▉  | 142/180 [03:57<01:02,  1.65s/it]\u001b[A\n",
            "pearson(r): 0.6018, loss: 0.0543, reg_loss: 0.0000 ||:  79%|███████▉  | 143/180 [03:58<00:57,  1.56s/it]\u001b[A\n",
            "pearson(r): 0.6024, loss: 0.0543, reg_loss: 0.0000 ||:  80%|████████  | 144/180 [04:00<01:01,  1.71s/it]\u001b[A\n",
            "pearson(r): 0.6018, loss: 0.0543, reg_loss: 0.0000 ||:  81%|████████  | 145/180 [04:01<00:54,  1.56s/it]\u001b[A\n",
            "pearson(r): 0.6020, loss: 0.0543, reg_loss: 0.0000 ||:  81%|████████  | 146/180 [04:03<00:53,  1.56s/it]\u001b[A\n",
            "pearson(r): 0.6018, loss: 0.0543, reg_loss: 0.0000 ||:  82%|████████▏ | 147/180 [04:05<00:56,  1.71s/it]\u001b[A\n",
            "pearson(r): 0.6019, loss: 0.0543, reg_loss: 0.0000 ||:  82%|████████▏ | 148/180 [04:07<00:53,  1.66s/it]\u001b[A\n",
            "pearson(r): 0.6033, loss: 0.0544, reg_loss: 0.0000 ||:  83%|████████▎ | 149/180 [04:08<00:51,  1.66s/it]\u001b[A\n",
            "pearson(r): 0.6015, loss: 0.0546, reg_loss: 0.0000 ||:  83%|████████▎ | 150/180 [04:11<01:01,  2.07s/it]\u001b[A\n",
            "pearson(r): 0.6026, loss: 0.0546, reg_loss: 0.0000 ||:  84%|████████▍ | 151/180 [04:12<00:52,  1.82s/it]\u001b[A\n",
            "pearson(r): 0.6019, loss: 0.0547, reg_loss: 0.0000 ||:  84%|████████▍ | 152/180 [04:14<00:47,  1.69s/it]\u001b[A\n",
            "pearson(r): 0.6018, loss: 0.0547, reg_loss: 0.0000 ||:  85%|████████▌ | 153/180 [04:15<00:42,  1.57s/it]\u001b[A\n",
            "pearson(r): 0.6016, loss: 0.0549, reg_loss: 0.0000 ||:  86%|████████▌ | 154/180 [04:17<00:39,  1.53s/it]\u001b[A\n",
            "pearson(r): 0.6019, loss: 0.0548, reg_loss: 0.0000 ||:  86%|████████▌ | 155/180 [04:18<00:37,  1.49s/it]\u001b[A\n",
            "pearson(r): 0.6012, loss: 0.0549, reg_loss: 0.0000 ||:  87%|████████▋ | 156/180 [04:20<00:40,  1.70s/it]\u001b[A\n",
            "pearson(r): 0.6017, loss: 0.0548, reg_loss: 0.0000 ||:  87%|████████▋ | 157/180 [04:21<00:36,  1.59s/it]\u001b[A\n",
            "pearson(r): 0.6019, loss: 0.0547, reg_loss: 0.0000 ||:  88%|████████▊ | 158/180 [04:23<00:34,  1.55s/it]\u001b[A\n",
            "pearson(r): 0.6028, loss: 0.0546, reg_loss: 0.0000 ||:  88%|████████▊ | 159/180 [04:25<00:33,  1.58s/it]\u001b[A\n",
            "pearson(r): 0.6025, loss: 0.0548, reg_loss: 0.0000 ||:  89%|████████▉ | 160/180 [04:26<00:31,  1.58s/it]\u001b[A\n",
            "pearson(r): 0.6027, loss: 0.0547, reg_loss: 0.0000 ||:  89%|████████▉ | 161/180 [04:28<00:30,  1.58s/it]\u001b[A\n",
            "pearson(r): 0.6019, loss: 0.0548, reg_loss: 0.0000 ||:  90%|█████████ | 162/180 [04:29<00:29,  1.63s/it]\u001b[A\n",
            "pearson(r): 0.6014, loss: 0.0548, reg_loss: 0.0000 ||:  91%|█████████ | 163/180 [04:32<00:29,  1.76s/it]\u001b[A\n",
            "pearson(r): 0.6020, loss: 0.0548, reg_loss: 0.0000 ||:  91%|█████████ | 164/180 [04:33<00:28,  1.77s/it]\u001b[A\n",
            "pearson(r): 0.6009, loss: 0.0550, reg_loss: 0.0000 ||:  92%|█████████▏| 165/180 [04:35<00:25,  1.68s/it]\u001b[A\n",
            "pearson(r): 0.6009, loss: 0.0550, reg_loss: 0.0000 ||:  92%|█████████▏| 166/180 [04:36<00:23,  1.66s/it]\u001b[A\n",
            "pearson(r): 0.6013, loss: 0.0550, reg_loss: 0.0000 ||:  93%|█████████▎| 167/180 [04:38<00:21,  1.62s/it]\u001b[A\n",
            "pearson(r): 0.6025, loss: 0.0549, reg_loss: 0.0000 ||:  93%|█████████▎| 168/180 [04:39<00:18,  1.56s/it]\u001b[A\n",
            "pearson(r): 0.6024, loss: 0.0549, reg_loss: 0.0000 ||:  94%|█████████▍| 169/180 [04:41<00:16,  1.48s/it]\u001b[A\n",
            "pearson(r): 0.6020, loss: 0.0549, reg_loss: 0.0000 ||:  94%|█████████▍| 170/180 [04:43<00:18,  1.81s/it]\u001b[A\n",
            "pearson(r): 0.6020, loss: 0.0549, reg_loss: 0.0000 ||:  95%|█████████▌| 171/180 [04:45<00:15,  1.77s/it]\u001b[A\n",
            "pearson(r): 0.6010, loss: 0.0550, reg_loss: 0.0000 ||:  96%|█████████▌| 172/180 [04:47<00:13,  1.75s/it]\u001b[A\n",
            "pearson(r): 0.6002, loss: 0.0551, reg_loss: 0.0000 ||:  96%|█████████▌| 173/180 [04:48<00:11,  1.68s/it]\u001b[A\n",
            "pearson(r): 0.6006, loss: 0.0550, reg_loss: 0.0000 ||:  97%|█████████▋| 174/180 [04:50<00:09,  1.62s/it]\u001b[A\n",
            "pearson(r): 0.6009, loss: 0.0551, reg_loss: 0.0000 ||:  97%|█████████▋| 175/180 [04:51<00:08,  1.63s/it]\u001b[A\n",
            "pearson(r): 0.6007, loss: 0.0551, reg_loss: 0.0000 ||:  98%|█████████▊| 176/180 [04:53<00:06,  1.64s/it]\u001b[A\n",
            "pearson(r): 0.6006, loss: 0.0552, reg_loss: 0.0000 ||:  98%|█████████▊| 177/180 [04:54<00:04,  1.46s/it]\u001b[A\n",
            "pearson(r): 0.6006, loss: 0.0552, reg_loss: 0.0000 ||:  99%|█████████▉| 178/180 [04:55<00:02,  1.36s/it]\u001b[A\n",
            "pearson(r): 0.5996, loss: 0.0552, reg_loss: 0.0000 ||:  99%|█████████▉| 179/180 [04:56<00:01,  1.36s/it]\u001b[A\n",
            "pearson(r): 0.5995, loss: 0.0553, reg_loss: 0.0000 ||: 100%|██████████| 180/180 [04:58<00:00,  1.66s/it]\n",
            "\n",
            "  0%|          | 0/180 [00:00<?, ?it/s]\u001b[A\n",
            "pearson(r): 0.7091, loss: 0.0773, reg_loss: 0.0000 ||:   1%|          | 1/180 [00:00<00:54,  3.28it/s]\u001b[A\n",
            "pearson(r): 0.6479, loss: 0.0902, reg_loss: 0.0000 ||:   1%|          | 2/180 [00:00<00:50,  3.52it/s]\u001b[A\n",
            "pearson(r): 0.6893, loss: 0.0798, reg_loss: 0.0000 ||:   2%|▏         | 3/180 [00:00<00:47,  3.72it/s]\u001b[A\n",
            "pearson(r): 0.7220, loss: 0.0692, reg_loss: 0.0000 ||:   2%|▏         | 4/180 [00:01<00:48,  3.67it/s]\u001b[A\n",
            "pearson(r): 0.7039, loss: 0.0644, reg_loss: 0.0000 ||:   3%|▎         | 5/180 [00:01<00:50,  3.45it/s]\u001b[A\n",
            "pearson(r): 0.7220, loss: 0.0656, reg_loss: 0.0000 ||:   3%|▎         | 6/180 [00:01<00:46,  3.75it/s]\u001b[A\n",
            "pearson(r): 0.7012, loss: 0.0731, reg_loss: 0.0000 ||:   4%|▍         | 7/180 [00:01<00:45,  3.77it/s]\u001b[A\n",
            "pearson(r): 0.6944, loss: 0.0749, reg_loss: 0.0000 ||:   4%|▍         | 8/180 [00:02<00:45,  3.77it/s]\u001b[A\n",
            "pearson(r): 0.6934, loss: 0.0744, reg_loss: 0.0000 ||:   5%|▌         | 9/180 [00:02<00:45,  3.76it/s]\u001b[A\n",
            "pearson(r): 0.6847, loss: 0.0758, reg_loss: 0.0000 ||:   6%|▌         | 10/180 [00:02<00:42,  4.04it/s]\u001b[A\n",
            "pearson(r): 0.6717, loss: 0.0785, reg_loss: 0.0000 ||:   6%|▌         | 11/180 [00:02<00:42,  3.97it/s]\u001b[A\n",
            "pearson(r): 0.6740, loss: 0.0770, reg_loss: 0.0000 ||:   7%|▋         | 12/180 [00:03<00:41,  4.02it/s]\u001b[A\n",
            "pearson(r): 0.6867, loss: 0.0760, reg_loss: 0.0000 ||:   7%|▋         | 13/180 [00:03<00:55,  3.02it/s]\u001b[A\n",
            "pearson(r): 0.6759, loss: 0.0793, reg_loss: 0.0000 ||:   8%|▊         | 14/180 [00:03<00:51,  3.25it/s]\u001b[A\n",
            "pearson(r): 0.6830, loss: 0.0776, reg_loss: 0.0000 ||:   8%|▊         | 15/180 [00:04<00:45,  3.66it/s]\u001b[A\n",
            "pearson(r): 0.6803, loss: 0.0787, reg_loss: 0.0000 ||:   9%|▉         | 16/180 [00:04<00:44,  3.73it/s]\u001b[A\n",
            "pearson(r): 0.6791, loss: 0.0798, reg_loss: 0.0000 ||:   9%|▉         | 17/180 [00:04<00:43,  3.73it/s]\u001b[A\n",
            "pearson(r): 0.6774, loss: 0.0796, reg_loss: 0.0000 ||:  10%|█         | 18/180 [00:04<00:45,  3.58it/s]\u001b[A\n",
            "pearson(r): 0.6794, loss: 0.0789, reg_loss: 0.0000 ||:  11%|█         | 19/180 [00:05<00:44,  3.60it/s]\u001b[A\n",
            "pearson(r): 0.6692, loss: 0.0799, reg_loss: 0.0000 ||:  11%|█         | 20/180 [00:05<00:46,  3.47it/s]\u001b[A\n",
            "pearson(r): 0.6697, loss: 0.0793, reg_loss: 0.0000 ||:  12%|█▏        | 21/180 [00:05<00:45,  3.51it/s]\u001b[A\n",
            "pearson(r): 0.6696, loss: 0.0791, reg_loss: 0.0000 ||:  12%|█▏        | 22/180 [00:06<00:45,  3.50it/s]\u001b[A\n",
            "pearson(r): 0.6693, loss: 0.0788, reg_loss: 0.0000 ||:  13%|█▎        | 23/180 [00:06<00:44,  3.54it/s]\u001b[A\n",
            "pearson(r): 0.6728, loss: 0.0784, reg_loss: 0.0000 ||:  13%|█▎        | 24/180 [00:06<00:47,  3.25it/s]\u001b[A\n",
            "pearson(r): 0.6746, loss: 0.0773, reg_loss: 0.0000 ||:  14%|█▍        | 25/180 [00:06<00:45,  3.41it/s]\u001b[A\n",
            "pearson(r): 0.6723, loss: 0.0776, reg_loss: 0.0000 ||:  14%|█▍        | 26/180 [00:07<00:40,  3.82it/s]\u001b[A\n",
            "pearson(r): 0.6775, loss: 0.0787, reg_loss: 0.0000 ||:  15%|█▌        | 27/180 [00:07<00:39,  3.87it/s]\u001b[A\n",
            "pearson(r): 0.6721, loss: 0.0789, reg_loss: 0.0000 ||:  16%|█▌        | 28/180 [00:07<00:43,  3.50it/s]\u001b[A\n",
            "pearson(r): 0.6730, loss: 0.0798, reg_loss: 0.0000 ||:  16%|█▌        | 29/180 [00:08<00:47,  3.17it/s]\u001b[A\n",
            "pearson(r): 0.6702, loss: 0.0793, reg_loss: 0.0000 ||:  17%|█▋        | 30/180 [00:08<00:46,  3.22it/s]\u001b[A\n",
            "pearson(r): 0.6715, loss: 0.0789, reg_loss: 0.0000 ||:  17%|█▋        | 31/180 [00:08<00:44,  3.36it/s]\u001b[A\n",
            "pearson(r): 0.6724, loss: 0.0787, reg_loss: 0.0000 ||:  18%|█▊        | 32/180 [00:08<00:39,  3.77it/s]\u001b[A\n",
            "pearson(r): 0.6716, loss: 0.0783, reg_loss: 0.0000 ||:  18%|█▊        | 33/180 [00:09<00:36,  3.98it/s]\u001b[A\n",
            "pearson(r): 0.6717, loss: 0.0785, reg_loss: 0.0000 ||:  19%|█▉        | 34/180 [00:09<00:37,  3.89it/s]\u001b[A\n",
            "pearson(r): 0.6736, loss: 0.0781, reg_loss: 0.0000 ||:  19%|█▉        | 35/180 [00:09<00:40,  3.57it/s]\u001b[A\n",
            "pearson(r): 0.6748, loss: 0.0782, reg_loss: 0.0000 ||:  20%|██        | 36/180 [00:09<00:40,  3.55it/s]\u001b[A\n",
            "pearson(r): 0.6750, loss: 0.0781, reg_loss: 0.0000 ||:  21%|██        | 37/180 [00:10<00:42,  3.37it/s]\u001b[A\n",
            "pearson(r): 0.6764, loss: 0.0776, reg_loss: 0.0000 ||:  21%|██        | 38/180 [00:10<00:46,  3.05it/s]\u001b[A\n",
            "pearson(r): 0.6731, loss: 0.0781, reg_loss: 0.0000 ||:  22%|██▏       | 39/180 [00:11<00:51,  2.76it/s]\u001b[A\n",
            "pearson(r): 0.6737, loss: 0.0782, reg_loss: 0.0000 ||:  22%|██▏       | 40/180 [00:11<00:48,  2.88it/s]\u001b[A\n",
            "pearson(r): 0.6749, loss: 0.0782, reg_loss: 0.0000 ||:  23%|██▎       | 41/180 [00:11<00:46,  2.98it/s]\u001b[A\n",
            "pearson(r): 0.6727, loss: 0.0784, reg_loss: 0.0000 ||:  23%|██▎       | 42/180 [00:12<00:55,  2.47it/s]\u001b[A\n",
            "pearson(r): 0.6720, loss: 0.0785, reg_loss: 0.0000 ||:  24%|██▍       | 43/180 [00:12<00:55,  2.49it/s]\u001b[A\n",
            "pearson(r): 0.6679, loss: 0.0794, reg_loss: 0.0000 ||:  24%|██▍       | 44/180 [00:13<00:49,  2.75it/s]\u001b[A\n",
            "pearson(r): 0.6654, loss: 0.0804, reg_loss: 0.0000 ||:  25%|██▌       | 45/180 [00:13<00:49,  2.70it/s]\u001b[A\n",
            "pearson(r): 0.6635, loss: 0.0807, reg_loss: 0.0000 ||:  26%|██▌       | 46/180 [00:13<00:47,  2.84it/s]\u001b[A\n",
            "pearson(r): 0.6613, loss: 0.0807, reg_loss: 0.0000 ||:  26%|██▌       | 47/180 [00:14<00:47,  2.78it/s]\u001b[A\n",
            "pearson(r): 0.6621, loss: 0.0803, reg_loss: 0.0000 ||:  27%|██▋       | 48/180 [00:14<00:43,  3.03it/s]\u001b[A\n",
            "pearson(r): 0.6625, loss: 0.0808, reg_loss: 0.0000 ||:  27%|██▋       | 49/180 [00:14<00:40,  3.21it/s]\u001b[A\n",
            "pearson(r): 0.6624, loss: 0.0808, reg_loss: 0.0000 ||:  28%|██▊       | 50/180 [00:15<00:43,  2.97it/s]\u001b[A\n",
            "pearson(r): 0.6657, loss: 0.0803, reg_loss: 0.0000 ||:  28%|██▊       | 51/180 [00:15<00:42,  3.00it/s]\u001b[A\n",
            "pearson(r): 0.6647, loss: 0.0805, reg_loss: 0.0000 ||:  29%|██▉       | 52/180 [00:15<00:42,  3.02it/s]\u001b[A\n",
            "pearson(r): 0.6649, loss: 0.0809, reg_loss: 0.0000 ||:  29%|██▉       | 53/180 [00:15<00:40,  3.13it/s]\u001b[A\n",
            "pearson(r): 0.6671, loss: 0.0806, reg_loss: 0.0000 ||:  30%|███       | 54/180 [00:16<00:39,  3.21it/s]\u001b[A\n",
            "pearson(r): 0.6692, loss: 0.0802, reg_loss: 0.0000 ||:  31%|███       | 55/180 [00:16<00:36,  3.40it/s]\u001b[A\n",
            "pearson(r): 0.6687, loss: 0.0807, reg_loss: 0.0000 ||:  31%|███       | 56/180 [00:16<00:35,  3.51it/s]\u001b[A\n",
            "pearson(r): 0.6688, loss: 0.0806, reg_loss: 0.0000 ||:  32%|███▏      | 57/180 [00:17<00:34,  3.52it/s]\u001b[A\n",
            "pearson(r): 0.6697, loss: 0.0803, reg_loss: 0.0000 ||:  32%|███▏      | 58/180 [00:17<00:34,  3.49it/s]\u001b[A\n",
            "pearson(r): 0.6705, loss: 0.0796, reg_loss: 0.0000 ||:  33%|███▎      | 59/180 [00:17<00:32,  3.68it/s]\u001b[A\n",
            "pearson(r): 0.6695, loss: 0.0796, reg_loss: 0.0000 ||:  33%|███▎      | 60/180 [00:18<00:42,  2.85it/s]\u001b[A\n",
            "pearson(r): 0.6702, loss: 0.0796, reg_loss: 0.0000 ||:  34%|███▍      | 61/180 [00:18<00:41,  2.88it/s]\u001b[A\n",
            "pearson(r): 0.6706, loss: 0.0795, reg_loss: 0.0000 ||:  34%|███▍      | 62/180 [00:18<00:38,  3.08it/s]\u001b[A\n",
            "pearson(r): 0.6718, loss: 0.0794, reg_loss: 0.0000 ||:  35%|███▌      | 63/180 [00:18<00:35,  3.26it/s]\u001b[A\n",
            "pearson(r): 0.6716, loss: 0.0793, reg_loss: 0.0000 ||:  36%|███▌      | 64/180 [00:19<00:36,  3.19it/s]\u001b[A\n",
            "pearson(r): 0.6736, loss: 0.0795, reg_loss: 0.0000 ||:  36%|███▌      | 65/180 [00:19<00:35,  3.26it/s]\u001b[A\n",
            "pearson(r): 0.6730, loss: 0.0795, reg_loss: 0.0000 ||:  37%|███▋      | 66/180 [00:19<00:32,  3.47it/s]\u001b[A\n",
            "pearson(r): 0.6741, loss: 0.0795, reg_loss: 0.0000 ||:  37%|███▋      | 67/180 [00:20<00:32,  3.49it/s]\u001b[A\n",
            "pearson(r): 0.6741, loss: 0.0797, reg_loss: 0.0000 ||:  38%|███▊      | 68/180 [00:20<00:30,  3.62it/s]\u001b[A\n",
            "pearson(r): 0.6728, loss: 0.0797, reg_loss: 0.0000 ||:  38%|███▊      | 69/180 [00:20<00:31,  3.52it/s]\u001b[A\n",
            "pearson(r): 0.6710, loss: 0.0801, reg_loss: 0.0000 ||:  39%|███▉      | 70/180 [00:20<00:31,  3.46it/s]\u001b[A\n",
            "pearson(r): 0.6710, loss: 0.0798, reg_loss: 0.0000 ||:  39%|███▉      | 71/180 [00:21<00:31,  3.43it/s]\u001b[A\n",
            "pearson(r): 0.6708, loss: 0.0801, reg_loss: 0.0000 ||:  40%|████      | 72/180 [00:21<00:30,  3.53it/s]\u001b[A\n",
            "pearson(r): 0.6703, loss: 0.0805, reg_loss: 0.0000 ||:  41%|████      | 73/180 [00:21<00:32,  3.25it/s]\u001b[A\n",
            "pearson(r): 0.6699, loss: 0.0812, reg_loss: 0.0000 ||:  41%|████      | 74/180 [00:22<00:30,  3.50it/s]\u001b[A\n",
            "pearson(r): 0.6705, loss: 0.0812, reg_loss: 0.0000 ||:  42%|████▏     | 75/180 [00:22<00:29,  3.56it/s]\u001b[A\n",
            "pearson(r): 0.6703, loss: 0.0811, reg_loss: 0.0000 ||:  42%|████▏     | 76/180 [00:22<00:28,  3.68it/s]\u001b[A\n",
            "pearson(r): 0.6723, loss: 0.0810, reg_loss: 0.0000 ||:  43%|████▎     | 77/180 [00:22<00:28,  3.67it/s]\u001b[A\n",
            "pearson(r): 0.6733, loss: 0.0809, reg_loss: 0.0000 ||:  43%|████▎     | 78/180 [00:23<00:26,  3.91it/s]\u001b[A\n",
            "pearson(r): 0.6747, loss: 0.0808, reg_loss: 0.0000 ||:  44%|████▍     | 79/180 [00:23<00:29,  3.38it/s]\u001b[A\n",
            "pearson(r): 0.6745, loss: 0.0806, reg_loss: 0.0000 ||:  44%|████▍     | 80/180 [00:23<00:30,  3.28it/s]\u001b[A\n",
            "pearson(r): 0.6747, loss: 0.0807, reg_loss: 0.0000 ||:  45%|████▌     | 81/180 [00:24<00:27,  3.57it/s]\u001b[A\n",
            "pearson(r): 0.6752, loss: 0.0806, reg_loss: 0.0000 ||:  46%|████▌     | 82/180 [00:24<00:29,  3.27it/s]\u001b[A\n",
            "pearson(r): 0.6758, loss: 0.0804, reg_loss: 0.0000 ||:  46%|████▌     | 83/180 [00:24<00:31,  3.05it/s]\u001b[A\n",
            "pearson(r): 0.6755, loss: 0.0810, reg_loss: 0.0000 ||:  47%|████▋     | 84/180 [00:25<00:29,  3.26it/s]\u001b[A\n",
            "pearson(r): 0.6759, loss: 0.0807, reg_loss: 0.0000 ||:  47%|████▋     | 85/180 [00:25<00:29,  3.24it/s]\u001b[A\n",
            "pearson(r): 0.6733, loss: 0.0813, reg_loss: 0.0000 ||:  48%|████▊     | 86/180 [00:25<00:35,  2.67it/s]\u001b[A\n",
            "pearson(r): 0.6719, loss: 0.0813, reg_loss: 0.0000 ||:  48%|████▊     | 87/180 [00:26<00:33,  2.74it/s]\u001b[A\n",
            "pearson(r): 0.6713, loss: 0.0814, reg_loss: 0.0000 ||:  49%|████▉     | 88/180 [00:26<00:30,  3.02it/s]\u001b[A\n",
            "pearson(r): 0.6723, loss: 0.0817, reg_loss: 0.0000 ||:  49%|████▉     | 89/180 [00:26<00:28,  3.23it/s]\u001b[A\n",
            "pearson(r): 0.6734, loss: 0.0814, reg_loss: 0.0000 ||:  50%|█████     | 90/180 [00:27<00:26,  3.46it/s]\u001b[A\n",
            "pearson(r): 0.6742, loss: 0.0812, reg_loss: 0.0000 ||:  51%|█████     | 91/180 [00:27<00:25,  3.49it/s]\u001b[A\n",
            "pearson(r): 0.6766, loss: 0.0808, reg_loss: 0.0000 ||:  51%|█████     | 92/180 [00:27<00:24,  3.60it/s]\u001b[A\n",
            "pearson(r): 0.6774, loss: 0.0806, reg_loss: 0.0000 ||:  52%|█████▏    | 93/180 [00:27<00:23,  3.72it/s]\u001b[A\n",
            "pearson(r): 0.6758, loss: 0.0808, reg_loss: 0.0000 ||:  52%|█████▏    | 94/180 [00:28<00:23,  3.62it/s]\u001b[A\n",
            "pearson(r): 0.6769, loss: 0.0808, reg_loss: 0.0000 ||:  53%|█████▎    | 95/180 [00:28<00:22,  3.80it/s]\u001b[A\n",
            "pearson(r): 0.6753, loss: 0.0806, reg_loss: 0.0000 ||:  53%|█████▎    | 96/180 [00:28<00:24,  3.39it/s]\u001b[A\n",
            "pearson(r): 0.6766, loss: 0.0804, reg_loss: 0.0000 ||:  54%|█████▍    | 97/180 [00:29<00:24,  3.34it/s]\u001b[A\n",
            "pearson(r): 0.6768, loss: 0.0800, reg_loss: 0.0000 ||:  54%|█████▍    | 98/180 [00:29<00:23,  3.53it/s]\u001b[A\n",
            "pearson(r): 0.6766, loss: 0.0799, reg_loss: 0.0000 ||:  55%|█████▌    | 99/180 [00:29<00:24,  3.29it/s]\u001b[A\n",
            "pearson(r): 0.6768, loss: 0.0801, reg_loss: 0.0000 ||:  56%|█████▌    | 100/180 [00:29<00:23,  3.44it/s]\u001b[A\n",
            "pearson(r): 0.6781, loss: 0.0798, reg_loss: 0.0000 ||:  56%|█████▌    | 101/180 [00:30<00:20,  3.83it/s]\u001b[A\n",
            "pearson(r): 0.6787, loss: 0.0798, reg_loss: 0.0000 ||:  57%|█████▋    | 102/180 [00:30<00:20,  3.87it/s]\u001b[A\n",
            "pearson(r): 0.6786, loss: 0.0798, reg_loss: 0.0000 ||:  57%|█████▋    | 103/180 [00:30<00:18,  4.12it/s]\u001b[A\n",
            "pearson(r): 0.6784, loss: 0.0800, reg_loss: 0.0000 ||:  58%|█████▊    | 104/180 [00:30<00:20,  3.72it/s]\u001b[A\n",
            "pearson(r): 0.6781, loss: 0.0800, reg_loss: 0.0000 ||:  58%|█████▊    | 105/180 [00:31<00:19,  3.76it/s]\u001b[A\n",
            "pearson(r): 0.6769, loss: 0.0798, reg_loss: 0.0000 ||:  59%|█████▉    | 106/180 [00:31<00:21,  3.38it/s]\u001b[A\n",
            "pearson(r): 0.6788, loss: 0.0795, reg_loss: 0.0000 ||:  59%|█████▉    | 107/180 [00:31<00:20,  3.63it/s]\u001b[A\n",
            "pearson(r): 0.6798, loss: 0.0793, reg_loss: 0.0000 ||:  60%|██████    | 108/180 [00:32<00:19,  3.64it/s]\u001b[A\n",
            "pearson(r): 0.6789, loss: 0.0794, reg_loss: 0.0000 ||:  61%|██████    | 109/180 [00:32<00:25,  2.83it/s]\u001b[A\n",
            "pearson(r): 0.6781, loss: 0.0797, reg_loss: 0.0000 ||:  61%|██████    | 110/180 [00:32<00:23,  2.97it/s]\u001b[A\n",
            "pearson(r): 0.6760, loss: 0.0797, reg_loss: 0.0000 ||:  62%|██████▏   | 111/180 [00:33<00:26,  2.58it/s]\u001b[A\n",
            "pearson(r): 0.6763, loss: 0.0794, reg_loss: 0.0000 ||:  62%|██████▏   | 112/180 [00:33<00:24,  2.82it/s]\u001b[A\n",
            "pearson(r): 0.6770, loss: 0.0793, reg_loss: 0.0000 ||:  63%|██████▎   | 113/180 [00:33<00:21,  3.08it/s]\u001b[A\n",
            "pearson(r): 0.6760, loss: 0.0793, reg_loss: 0.0000 ||:  63%|██████▎   | 114/180 [00:34<00:21,  3.08it/s]\u001b[A\n",
            "pearson(r): 0.6758, loss: 0.0790, reg_loss: 0.0000 ||:  64%|██████▍   | 115/180 [00:34<00:19,  3.30it/s]\u001b[A\n",
            "pearson(r): 0.6759, loss: 0.0790, reg_loss: 0.0000 ||:  64%|██████▍   | 116/180 [00:34<00:19,  3.29it/s]\u001b[A\n",
            "pearson(r): 0.6761, loss: 0.0790, reg_loss: 0.0000 ||:  65%|██████▌   | 117/180 [00:35<00:18,  3.37it/s]\u001b[A\n",
            "pearson(r): 0.6760, loss: 0.0792, reg_loss: 0.0000 ||:  66%|██████▌   | 118/180 [00:35<00:17,  3.51it/s]\u001b[A\n",
            "pearson(r): 0.6745, loss: 0.0793, reg_loss: 0.0000 ||:  66%|██████▌   | 119/180 [00:35<00:21,  2.79it/s]\u001b[A\n",
            "pearson(r): 0.6745, loss: 0.0794, reg_loss: 0.0000 ||:  67%|██████▋   | 120/180 [00:36<00:19,  3.01it/s]\u001b[A\n",
            "pearson(r): 0.6726, loss: 0.0798, reg_loss: 0.0000 ||:  67%|██████▋   | 121/180 [00:36<00:22,  2.57it/s]\u001b[A\n",
            "pearson(r): 0.6718, loss: 0.0802, reg_loss: 0.0000 ||:  68%|██████▊   | 122/180 [00:36<00:20,  2.81it/s]\u001b[A\n",
            "pearson(r): 0.6728, loss: 0.0801, reg_loss: 0.0000 ||:  68%|██████▊   | 123/180 [00:37<00:19,  2.96it/s]\u001b[A\n",
            "pearson(r): 0.6730, loss: 0.0800, reg_loss: 0.0000 ||:  69%|██████▉   | 124/180 [00:37<00:17,  3.11it/s]\u001b[A\n",
            "pearson(r): 0.6735, loss: 0.0798, reg_loss: 0.0000 ||:  69%|██████▉   | 125/180 [00:37<00:19,  2.77it/s]\u001b[A\n",
            "pearson(r): 0.6735, loss: 0.0797, reg_loss: 0.0000 ||:  70%|███████   | 126/180 [00:38<00:17,  3.04it/s]\u001b[A\n",
            "pearson(r): 0.6732, loss: 0.0797, reg_loss: 0.0000 ||:  71%|███████   | 127/180 [00:38<00:15,  3.34it/s]\u001b[A\n",
            "pearson(r): 0.6736, loss: 0.0796, reg_loss: 0.0000 ||:  71%|███████   | 128/180 [00:38<00:13,  3.86it/s]\u001b[A\n",
            "pearson(r): 0.6738, loss: 0.0795, reg_loss: 0.0000 ||:  72%|███████▏  | 129/180 [00:38<00:14,  3.59it/s]\u001b[A\n",
            "pearson(r): 0.6738, loss: 0.0796, reg_loss: 0.0000 ||:  72%|███████▏  | 130/180 [00:39<00:15,  3.23it/s]\u001b[A\n",
            "pearson(r): 0.6750, loss: 0.0795, reg_loss: 0.0000 ||:  73%|███████▎  | 131/180 [00:39<00:14,  3.30it/s]\u001b[A\n",
            "pearson(r): 0.6749, loss: 0.0795, reg_loss: 0.0000 ||:  73%|███████▎  | 132/180 [00:39<00:14,  3.40it/s]\u001b[A\n",
            "pearson(r): 0.6745, loss: 0.0796, reg_loss: 0.0000 ||:  74%|███████▍  | 133/180 [00:40<00:12,  3.74it/s]\u001b[A\n",
            "pearson(r): 0.6747, loss: 0.0796, reg_loss: 0.0000 ||:  74%|███████▍  | 134/180 [00:40<00:11,  3.86it/s]\u001b[A\n",
            "pearson(r): 0.6752, loss: 0.0795, reg_loss: 0.0000 ||:  75%|███████▌  | 135/180 [00:40<00:11,  3.91it/s]\u001b[A\n",
            "pearson(r): 0.6744, loss: 0.0798, reg_loss: 0.0000 ||:  76%|███████▌  | 136/180 [00:40<00:12,  3.63it/s]\u001b[A\n",
            "pearson(r): 0.6740, loss: 0.0796, reg_loss: 0.0000 ||:  76%|███████▌  | 137/180 [00:41<00:11,  3.67it/s]\u001b[A\n",
            "pearson(r): 0.6739, loss: 0.0797, reg_loss: 0.0000 ||:  77%|███████▋  | 138/180 [00:41<00:11,  3.79it/s]\u001b[A\n",
            "pearson(r): 0.6752, loss: 0.0795, reg_loss: 0.0000 ||:  77%|███████▋  | 139/180 [00:41<00:11,  3.69it/s]\u001b[A\n",
            "pearson(r): 0.6763, loss: 0.0794, reg_loss: 0.0000 ||:  78%|███████▊  | 140/180 [00:42<00:13,  2.86it/s]\u001b[A\n",
            "pearson(r): 0.6769, loss: 0.0793, reg_loss: 0.0000 ||:  78%|███████▊  | 141/180 [00:42<00:13,  2.80it/s]\u001b[A\n",
            "pearson(r): 0.6756, loss: 0.0798, reg_loss: 0.0000 ||:  79%|███████▉  | 142/180 [00:43<00:15,  2.45it/s]\u001b[A\n",
            "pearson(r): 0.6753, loss: 0.0798, reg_loss: 0.0000 ||:  79%|███████▉  | 143/180 [00:43<00:14,  2.57it/s]\u001b[A\n",
            "pearson(r): 0.6749, loss: 0.0798, reg_loss: 0.0000 ||:  80%|████████  | 144/180 [00:43<00:13,  2.72it/s]\u001b[A\n",
            "pearson(r): 0.6753, loss: 0.0798, reg_loss: 0.0000 ||:  81%|████████  | 145/180 [00:44<00:13,  2.63it/s]\u001b[A\n",
            "pearson(r): 0.6764, loss: 0.0795, reg_loss: 0.0000 ||:  81%|████████  | 146/180 [00:44<00:12,  2.79it/s]\u001b[A\n",
            "pearson(r): 0.6763, loss: 0.0796, reg_loss: 0.0000 ||:  82%|████████▏ | 147/180 [00:44<00:10,  3.07it/s]\u001b[A\n",
            "pearson(r): 0.6767, loss: 0.0797, reg_loss: 0.0000 ||:  82%|████████▏ | 148/180 [00:44<00:09,  3.32it/s]\u001b[A\n",
            "pearson(r): 0.6751, loss: 0.0800, reg_loss: 0.0000 ||:  83%|████████▎ | 149/180 [00:45<00:08,  3.49it/s]\u001b[A\n",
            "pearson(r): 0.6746, loss: 0.0802, reg_loss: 0.0000 ||:  83%|████████▎ | 150/180 [00:45<00:10,  2.79it/s]\u001b[A\n",
            "pearson(r): 0.6745, loss: 0.0803, reg_loss: 0.0000 ||:  84%|████████▍ | 151/180 [00:46<00:09,  3.00it/s]\u001b[A\n",
            "pearson(r): 0.6744, loss: 0.0802, reg_loss: 0.0000 ||:  84%|████████▍ | 152/180 [00:46<00:08,  3.19it/s]\u001b[A\n",
            "pearson(r): 0.6760, loss: 0.0801, reg_loss: 0.0000 ||:  85%|████████▌ | 153/180 [00:46<00:08,  3.13it/s]\u001b[A\n",
            "pearson(r): 0.6758, loss: 0.0802, reg_loss: 0.0000 ||:  86%|████████▌ | 154/180 [00:47<00:09,  2.61it/s]\u001b[A\n",
            "pearson(r): 0.6769, loss: 0.0801, reg_loss: 0.0000 ||:  86%|████████▌ | 155/180 [00:47<00:08,  2.87it/s]\u001b[A\n",
            "pearson(r): 0.6775, loss: 0.0802, reg_loss: 0.0000 ||:  87%|████████▋ | 156/180 [00:47<00:07,  3.39it/s]\u001b[A\n",
            "pearson(r): 0.6769, loss: 0.0803, reg_loss: 0.0000 ||:  87%|████████▋ | 157/180 [00:47<00:06,  3.56it/s]\u001b[A\n",
            "pearson(r): 0.6768, loss: 0.0803, reg_loss: 0.0000 ||:  88%|████████▊ | 158/180 [00:48<00:05,  3.67it/s]\u001b[A\n",
            "pearson(r): 0.6776, loss: 0.0801, reg_loss: 0.0000 ||:  88%|████████▊ | 159/180 [00:48<00:05,  3.76it/s]\u001b[A\n",
            "pearson(r): 0.6774, loss: 0.0802, reg_loss: 0.0000 ||:  89%|████████▉ | 160/180 [00:48<00:05,  3.94it/s]\u001b[A\n",
            "pearson(r): 0.6777, loss: 0.0803, reg_loss: 0.0000 ||:  89%|████████▉ | 161/180 [00:48<00:04,  3.81it/s]\u001b[A\n",
            "pearson(r): 0.6782, loss: 0.0801, reg_loss: 0.0000 ||:  90%|█████████ | 162/180 [00:49<00:04,  3.72it/s]\u001b[A\n",
            "pearson(r): 0.6778, loss: 0.0800, reg_loss: 0.0000 ||:  91%|█████████ | 163/180 [00:49<00:04,  3.81it/s]\u001b[A\n",
            "pearson(r): 0.6779, loss: 0.0800, reg_loss: 0.0000 ||:  91%|█████████ | 164/180 [00:49<00:04,  3.82it/s]\u001b[A\n",
            "pearson(r): 0.6786, loss: 0.0801, reg_loss: 0.0000 ||:  92%|█████████▏| 165/180 [00:50<00:04,  3.44it/s]\u001b[A\n",
            "pearson(r): 0.6779, loss: 0.0801, reg_loss: 0.0000 ||:  92%|█████████▏| 166/180 [00:50<00:04,  3.10it/s]\u001b[A\n",
            "pearson(r): 0.6776, loss: 0.0801, reg_loss: 0.0000 ||:  93%|█████████▎| 167/180 [00:50<00:04,  3.16it/s]\u001b[A\n",
            "pearson(r): 0.6777, loss: 0.0799, reg_loss: 0.0000 ||:  93%|█████████▎| 168/180 [00:50<00:03,  3.28it/s]\u001b[A\n",
            "pearson(r): 0.6775, loss: 0.0799, reg_loss: 0.0000 ||:  94%|█████████▍| 169/180 [00:51<00:03,  3.33it/s]\u001b[A\n",
            "pearson(r): 0.6785, loss: 0.0798, reg_loss: 0.0000 ||:  94%|█████████▍| 170/180 [00:51<00:02,  3.51it/s]\u001b[A\n",
            "pearson(r): 0.6784, loss: 0.0797, reg_loss: 0.0000 ||:  95%|█████████▌| 171/180 [00:51<00:02,  3.64it/s]\u001b[A\n",
            "pearson(r): 0.6787, loss: 0.0796, reg_loss: 0.0000 ||:  96%|█████████▌| 172/180 [00:52<00:02,  3.24it/s]\u001b[A\n",
            "pearson(r): 0.6788, loss: 0.0797, reg_loss: 0.0000 ||:  96%|█████████▌| 173/180 [00:52<00:02,  3.26it/s]\u001b[A\n",
            "pearson(r): 0.6777, loss: 0.0798, reg_loss: 0.0000 ||:  97%|█████████▋| 174/180 [00:52<00:01,  3.19it/s]\u001b[A\n",
            "pearson(r): 0.6777, loss: 0.0799, reg_loss: 0.0000 ||:  97%|█████████▋| 175/180 [00:53<00:01,  3.30it/s]\u001b[A\n",
            "pearson(r): 0.6777, loss: 0.0799, reg_loss: 0.0000 ||:  98%|█████████▊| 176/180 [00:53<00:01,  3.35it/s]\u001b[A\n",
            "pearson(r): 0.6779, loss: 0.0798, reg_loss: 0.0000 ||:  98%|█████████▊| 177/180 [00:53<00:00,  3.52it/s]\u001b[A\n",
            "pearson(r): 0.6781, loss: 0.0797, reg_loss: 0.0000 ||:  99%|█████████▉| 178/180 [00:53<00:00,  3.61it/s]\u001b[A\n",
            "pearson(r): 0.6788, loss: 0.0796, reg_loss: 0.0000 ||:  99%|█████████▉| 179/180 [00:54<00:00,  3.76it/s]\u001b[A\n",
            "pearson(r): 0.6787, loss: 0.0795, reg_loss: 0.0000 ||: 100%|██████████| 180/180 [00:54<00:00,  3.31it/s]\n",
            "\n",
            "  0%|          | 0/180 [00:00<?, ?it/s]\u001b[A\n",
            "pearson(r): 0.7231, loss: 0.0442, reg_loss: 0.0000 ||:   1%|          | 1/180 [00:01<04:43,  1.58s/it]\u001b[A\n",
            "pearson(r): 0.6749, loss: 0.0429, reg_loss: 0.0000 ||:   1%|          | 2/180 [00:02<04:29,  1.51s/it]\u001b[A\n",
            "pearson(r): 0.6802, loss: 0.0396, reg_loss: 0.0000 ||:   2%|▏         | 3/180 [00:04<04:21,  1.48s/it]\u001b[A\n",
            "pearson(r): 0.7149, loss: 0.0393, reg_loss: 0.0000 ||:   2%|▏         | 4/180 [00:05<04:21,  1.48s/it]\u001b[A\n",
            "pearson(r): 0.7049, loss: 0.0391, reg_loss: 0.0000 ||:   3%|▎         | 5/180 [00:08<05:41,  1.95s/it]\u001b[A\n",
            "pearson(r): 0.7174, loss: 0.0383, reg_loss: 0.0000 ||:   3%|▎         | 6/180 [00:10<05:07,  1.77s/it]\u001b[A\n",
            "pearson(r): 0.7121, loss: 0.0389, reg_loss: 0.0000 ||:   4%|▍         | 7/180 [00:11<04:49,  1.67s/it]\u001b[A\n",
            "pearson(r): 0.6906, loss: 0.0414, reg_loss: 0.0000 ||:   4%|▍         | 8/180 [00:13<04:43,  1.65s/it]\u001b[A\n",
            "pearson(r): 0.6925, loss: 0.0426, reg_loss: 0.0000 ||:   5%|▌         | 9/180 [00:14<04:30,  1.58s/it]\u001b[A\n",
            "pearson(r): 0.6943, loss: 0.0434, reg_loss: 0.0000 ||:   6%|▌         | 10/180 [00:16<04:56,  1.75s/it]\u001b[A\n",
            "pearson(r): 0.6748, loss: 0.0447, reg_loss: 0.0000 ||:   6%|▌         | 11/180 [00:17<04:25,  1.57s/it]\u001b[A\n",
            "pearson(r): 0.6712, loss: 0.0454, reg_loss: 0.0000 ||:   7%|▋         | 12/180 [00:19<04:12,  1.50s/it]\u001b[A\n",
            "pearson(r): 0.6663, loss: 0.0468, reg_loss: 0.0000 ||:   7%|▋         | 13/180 [00:20<04:00,  1.44s/it]\u001b[A\n",
            "pearson(r): 0.6756, loss: 0.0470, reg_loss: 0.0000 ||:   8%|▊         | 14/180 [00:21<03:52,  1.40s/it]\u001b[A\n",
            "pearson(r): 0.6724, loss: 0.0471, reg_loss: 0.0000 ||:   8%|▊         | 15/180 [00:24<04:30,  1.64s/it]\u001b[A\n",
            "pearson(r): 0.6726, loss: 0.0468, reg_loss: 0.0000 ||:   9%|▉         | 16/180 [00:26<05:12,  1.90s/it]\u001b[A\n",
            "pearson(r): 0.6799, loss: 0.0470, reg_loss: 0.0000 ||:   9%|▉         | 17/180 [00:27<04:43,  1.74s/it]\u001b[A\n",
            "pearson(r): 0.6762, loss: 0.0468, reg_loss: 0.0000 ||:  10%|█         | 18/180 [00:29<04:54,  1.82s/it]\u001b[A\n",
            "pearson(r): 0.6797, loss: 0.0460, reg_loss: 0.0000 ||:  11%|█         | 19/180 [00:30<04:13,  1.58s/it]\u001b[A\n",
            "pearson(r): 0.6689, loss: 0.0480, reg_loss: 0.0000 ||:  11%|█         | 20/180 [00:32<04:15,  1.60s/it]\u001b[A\n",
            "pearson(r): 0.6699, loss: 0.0478, reg_loss: 0.0000 ||:  12%|█▏        | 21/180 [00:34<04:12,  1.59s/it]\u001b[A\n",
            "pearson(r): 0.6706, loss: 0.0479, reg_loss: 0.0000 ||:  12%|█▏        | 22/180 [00:35<04:07,  1.57s/it]\u001b[A\n",
            "pearson(r): 0.6710, loss: 0.0475, reg_loss: 0.0000 ||:  13%|█▎        | 23/180 [00:36<03:48,  1.46s/it]\u001b[A\n",
            "pearson(r): 0.6769, loss: 0.0466, reg_loss: 0.0000 ||:  13%|█▎        | 24/180 [00:38<03:45,  1.45s/it]\u001b[A\n",
            "pearson(r): 0.6788, loss: 0.0462, reg_loss: 0.0000 ||:  14%|█▍        | 25/180 [00:40<04:13,  1.64s/it]\u001b[A\n",
            "pearson(r): 0.6808, loss: 0.0462, reg_loss: 0.0000 ||:  14%|█▍        | 26/180 [00:41<04:07,  1.61s/it]\u001b[A\n",
            "pearson(r): 0.6806, loss: 0.0462, reg_loss: 0.0000 ||:  15%|█▌        | 27/180 [00:43<04:03,  1.59s/it]\u001b[A\n",
            "pearson(r): 0.6787, loss: 0.0460, reg_loss: 0.0000 ||:  16%|█▌        | 28/180 [00:45<04:08,  1.63s/it]\u001b[A\n",
            "pearson(r): 0.6784, loss: 0.0457, reg_loss: 0.0000 ||:  16%|█▌        | 29/180 [00:46<04:06,  1.63s/it]\u001b[A\n",
            "pearson(r): 0.6804, loss: 0.0454, reg_loss: 0.0000 ||:  17%|█▋        | 30/180 [00:48<04:16,  1.71s/it]\u001b[A\n",
            "pearson(r): 0.6771, loss: 0.0458, reg_loss: 0.0000 ||:  17%|█▋        | 31/180 [00:50<04:07,  1.66s/it]\u001b[A\n",
            "pearson(r): 0.6744, loss: 0.0457, reg_loss: 0.0000 ||:  18%|█▊        | 32/180 [00:51<03:58,  1.61s/it]\u001b[A\n",
            "pearson(r): 0.6744, loss: 0.0453, reg_loss: 0.0000 ||:  18%|█▊        | 33/180 [00:53<04:01,  1.64s/it]\u001b[A\n",
            "pearson(r): 0.6710, loss: 0.0453, reg_loss: 0.0000 ||:  19%|█▉        | 34/180 [00:54<03:51,  1.59s/it]\u001b[A\n",
            "pearson(r): 0.6715, loss: 0.0458, reg_loss: 0.0000 ||:  19%|█▉        | 35/180 [00:56<03:50,  1.59s/it]\u001b[A\n",
            "pearson(r): 0.6761, loss: 0.0454, reg_loss: 0.0000 ||:  20%|██        | 36/180 [00:57<03:37,  1.51s/it]\u001b[A\n",
            "pearson(r): 0.6728, loss: 0.0457, reg_loss: 0.0000 ||:  21%|██        | 37/180 [00:59<03:55,  1.65s/it]\u001b[A\n",
            "pearson(r): 0.6733, loss: 0.0456, reg_loss: 0.0000 ||:  21%|██        | 38/180 [01:01<03:46,  1.60s/it]\u001b[A\n",
            "pearson(r): 0.6771, loss: 0.0455, reg_loss: 0.0000 ||:  22%|██▏       | 39/180 [01:02<03:39,  1.55s/it]\u001b[A\n",
            "pearson(r): 0.6827, loss: 0.0454, reg_loss: 0.0000 ||:  22%|██▏       | 40/180 [01:04<03:30,  1.51s/it]\u001b[A\n",
            "pearson(r): 0.6871, loss: 0.0451, reg_loss: 0.0000 ||:  23%|██▎       | 41/180 [01:05<03:24,  1.47s/it]\u001b[A\n",
            "pearson(r): 0.6838, loss: 0.0455, reg_loss: 0.0000 ||:  23%|██▎       | 42/180 [01:07<03:29,  1.51s/it]\u001b[A\n",
            "pearson(r): 0.6836, loss: 0.0455, reg_loss: 0.0000 ||:  24%|██▍       | 43/180 [01:08<03:25,  1.50s/it]\u001b[A\n",
            "pearson(r): 0.6816, loss: 0.0455, reg_loss: 0.0000 ||:  24%|██▍       | 44/180 [01:10<03:28,  1.53s/it]\u001b[A\n",
            "pearson(r): 0.6739, loss: 0.0464, reg_loss: 0.0000 ||:  25%|██▌       | 45/180 [01:13<04:27,  1.98s/it]\u001b[A\n",
            "pearson(r): 0.6773, loss: 0.0462, reg_loss: 0.0000 ||:  26%|██▌       | 46/180 [01:15<04:40,  2.09s/it]\u001b[A\n",
            "pearson(r): 0.6750, loss: 0.0463, reg_loss: 0.0000 ||:  26%|██▌       | 47/180 [01:17<04:37,  2.09s/it]\u001b[A\n",
            "pearson(r): 0.6728, loss: 0.0465, reg_loss: 0.0000 ||:  27%|██▋       | 48/180 [01:19<04:33,  2.07s/it]\u001b[A\n",
            "pearson(r): 0.6699, loss: 0.0468, reg_loss: 0.0000 ||:  27%|██▋       | 49/180 [01:21<04:06,  1.88s/it]\u001b[A\n",
            "pearson(r): 0.6695, loss: 0.0468, reg_loss: 0.0000 ||:  28%|██▊       | 50/180 [01:22<03:59,  1.84s/it]\u001b[A\n",
            "pearson(r): 0.6677, loss: 0.0472, reg_loss: 0.0000 ||:  28%|██▊       | 51/180 [01:24<03:42,  1.72s/it]\u001b[A\n",
            "pearson(r): 0.6654, loss: 0.0476, reg_loss: 0.0000 ||:  29%|██▉       | 52/180 [01:25<03:24,  1.60s/it]\u001b[A\n",
            "pearson(r): 0.6608, loss: 0.0481, reg_loss: 0.0000 ||:  29%|██▉       | 53/180 [01:27<03:15,  1.54s/it]\u001b[A\n",
            "pearson(r): 0.6592, loss: 0.0483, reg_loss: 0.0000 ||:  30%|███       | 54/180 [01:28<03:08,  1.50s/it]\u001b[A\n",
            "pearson(r): 0.6595, loss: 0.0483, reg_loss: 0.0000 ||:  31%|███       | 55/180 [01:30<03:27,  1.66s/it]\u001b[A\n",
            "pearson(r): 0.6605, loss: 0.0481, reg_loss: 0.0000 ||:  31%|███       | 56/180 [01:32<03:24,  1.65s/it]\u001b[A\n",
            "pearson(r): 0.6597, loss: 0.0483, reg_loss: 0.0000 ||:  32%|███▏      | 57/180 [01:33<03:17,  1.61s/it]\u001b[A\n",
            "pearson(r): 0.6585, loss: 0.0483, reg_loss: 0.0000 ||:  32%|███▏      | 58/180 [01:35<03:11,  1.57s/it]\u001b[A\n",
            "pearson(r): 0.6596, loss: 0.0483, reg_loss: 0.0000 ||:  33%|███▎      | 59/180 [01:36<03:01,  1.50s/it]\u001b[A\n",
            "pearson(r): 0.6591, loss: 0.0483, reg_loss: 0.0000 ||:  33%|███▎      | 60/180 [01:38<03:02,  1.52s/it]\u001b[A\n",
            "pearson(r): 0.6614, loss: 0.0482, reg_loss: 0.0000 ||:  34%|███▍      | 61/180 [01:41<03:55,  1.98s/it]\u001b[A\n",
            "pearson(r): 0.6597, loss: 0.0485, reg_loss: 0.0000 ||:  34%|███▍      | 62/180 [01:42<03:41,  1.88s/it]\u001b[A\n",
            "pearson(r): 0.6610, loss: 0.0483, reg_loss: 0.0000 ||:  35%|███▌      | 63/180 [01:44<03:37,  1.86s/it]\u001b[A\n",
            "pearson(r): 0.6621, loss: 0.0482, reg_loss: 0.0000 ||:  36%|███▌      | 64/180 [01:45<03:19,  1.72s/it]\u001b[A\n",
            "pearson(r): 0.6619, loss: 0.0483, reg_loss: 0.0000 ||:  36%|███▌      | 65/180 [01:48<03:35,  1.87s/it]\u001b[A\n",
            "pearson(r): 0.6625, loss: 0.0483, reg_loss: 0.0000 ||:  37%|███▋      | 66/180 [01:49<03:12,  1.69s/it]\u001b[A\n",
            "pearson(r): 0.6615, loss: 0.0482, reg_loss: 0.0000 ||:  37%|███▋      | 67/180 [01:50<02:59,  1.59s/it]\u001b[A\n",
            "pearson(r): 0.6610, loss: 0.0483, reg_loss: 0.0000 ||:  38%|███▊      | 68/180 [01:52<02:59,  1.60s/it]\u001b[A\n",
            "pearson(r): 0.6613, loss: 0.0485, reg_loss: 0.0000 ||:  38%|███▊      | 69/180 [01:54<02:58,  1.61s/it]\u001b[A\n",
            "pearson(r): 0.6635, loss: 0.0482, reg_loss: 0.0000 ||:  39%|███▉      | 70/180 [01:55<02:49,  1.54s/it]\u001b[A\n",
            "pearson(r): 0.6631, loss: 0.0483, reg_loss: 0.0000 ||:  39%|███▉      | 71/180 [01:58<03:37,  1.99s/it]\u001b[A\n",
            "pearson(r): 0.6616, loss: 0.0484, reg_loss: 0.0000 ||:  40%|████      | 72/180 [01:59<03:15,  1.81s/it]\u001b[A\n",
            "pearson(r): 0.6609, loss: 0.0485, reg_loss: 0.0000 ||:  41%|████      | 73/180 [02:01<02:56,  1.65s/it]\u001b[A\n",
            "pearson(r): 0.6596, loss: 0.0487, reg_loss: 0.0000 ||:  41%|████      | 74/180 [02:03<03:05,  1.75s/it]\u001b[A\n",
            "pearson(r): 0.6598, loss: 0.0488, reg_loss: 0.0000 ||:  42%|████▏     | 75/180 [02:04<03:03,  1.74s/it]\u001b[A\n",
            "pearson(r): 0.6598, loss: 0.0487, reg_loss: 0.0000 ||:  42%|████▏     | 76/180 [02:06<02:51,  1.65s/it]\u001b[A\n",
            "pearson(r): 0.6624, loss: 0.0486, reg_loss: 0.0000 ||:  43%|████▎     | 77/180 [02:07<02:43,  1.59s/it]\u001b[A\n",
            "pearson(r): 0.6631, loss: 0.0484, reg_loss: 0.0000 ||:  43%|████▎     | 78/180 [02:09<03:00,  1.77s/it]\u001b[A\n",
            "pearson(r): 0.6644, loss: 0.0483, reg_loss: 0.0000 ||:  44%|████▍     | 79/180 [02:11<02:53,  1.72s/it]\u001b[A\n",
            "pearson(r): 0.6655, loss: 0.0482, reg_loss: 0.0000 ||:  44%|████▍     | 80/180 [02:13<02:58,  1.78s/it]\u001b[A\n",
            "pearson(r): 0.6623, loss: 0.0485, reg_loss: 0.0000 ||:  45%|████▌     | 81/180 [02:15<03:06,  1.89s/it]\u001b[A\n",
            "pearson(r): 0.6609, loss: 0.0486, reg_loss: 0.0000 ||:  46%|████▌     | 82/180 [02:17<02:53,  1.77s/it]\u001b[A\n",
            "pearson(r): 0.6608, loss: 0.0485, reg_loss: 0.0000 ||:  46%|████▌     | 83/180 [02:18<02:44,  1.69s/it]\u001b[A\n",
            "pearson(r): 0.6593, loss: 0.0486, reg_loss: 0.0000 ||:  47%|████▋     | 84/180 [02:19<02:30,  1.56s/it]\u001b[A\n",
            "pearson(r): 0.6597, loss: 0.0486, reg_loss: 0.0000 ||:  47%|████▋     | 85/180 [02:22<02:46,  1.75s/it]\u001b[A\n",
            "pearson(r): 0.6588, loss: 0.0486, reg_loss: 0.0000 ||:  48%|████▊     | 86/180 [02:23<02:34,  1.64s/it]\u001b[A\n",
            "pearson(r): 0.6584, loss: 0.0486, reg_loss: 0.0000 ||:  48%|████▊     | 87/180 [02:24<02:26,  1.57s/it]\u001b[A\n",
            "pearson(r): 0.6587, loss: 0.0487, reg_loss: 0.0000 ||:  49%|████▉     | 88/180 [02:26<02:24,  1.57s/it]\u001b[A\n",
            "pearson(r): 0.6565, loss: 0.0488, reg_loss: 0.0000 ||:  49%|████▉     | 89/180 [02:27<02:17,  1.51s/it]\u001b[A\n",
            "pearson(r): 0.6556, loss: 0.0490, reg_loss: 0.0000 ||:  50%|█████     | 90/180 [02:29<02:16,  1.52s/it]\u001b[A\n",
            "pearson(r): 0.6562, loss: 0.0491, reg_loss: 0.0000 ||:  51%|█████     | 91/180 [02:31<02:29,  1.68s/it]\u001b[A\n",
            "pearson(r): 0.6555, loss: 0.0490, reg_loss: 0.0000 ||:  51%|█████     | 92/180 [02:33<02:39,  1.82s/it]\u001b[A\n",
            "pearson(r): 0.6554, loss: 0.0488, reg_loss: 0.0000 ||:  52%|█████▏    | 93/180 [02:34<02:28,  1.71s/it]\u001b[A\n",
            "pearson(r): 0.6554, loss: 0.0487, reg_loss: 0.0000 ||:  52%|█████▏    | 94/180 [02:36<02:23,  1.66s/it]\u001b[A\n",
            "pearson(r): 0.6556, loss: 0.0488, reg_loss: 0.0000 ||:  53%|█████▎    | 95/180 [02:37<02:11,  1.55s/it]\u001b[A\n",
            "pearson(r): 0.6562, loss: 0.0489, reg_loss: 0.0000 ||:  53%|█████▎    | 96/180 [02:39<02:05,  1.49s/it]\u001b[A\n",
            "pearson(r): 0.6548, loss: 0.0488, reg_loss: 0.0000 ||:  54%|█████▍    | 97/180 [02:40<01:57,  1.41s/it]\u001b[A\n",
            "pearson(r): 0.6548, loss: 0.0488, reg_loss: 0.0000 ||:  54%|█████▍    | 98/180 [02:41<01:53,  1.38s/it]\u001b[A\n",
            "pearson(r): 0.6565, loss: 0.0485, reg_loss: 0.0000 ||:  55%|█████▌    | 99/180 [02:43<01:50,  1.36s/it]\u001b[A\n",
            "pearson(r): 0.6562, loss: 0.0486, reg_loss: 0.0000 ||:  56%|█████▌    | 100/180 [02:44<01:46,  1.34s/it]\u001b[A\n",
            "pearson(r): 0.6550, loss: 0.0487, reg_loss: 0.0000 ||:  56%|█████▌    | 101/180 [02:45<01:46,  1.34s/it]\u001b[A\n",
            "pearson(r): 0.6550, loss: 0.0487, reg_loss: 0.0000 ||:  57%|█████▋    | 102/180 [02:47<01:46,  1.36s/it]\u001b[A\n",
            "pearson(r): 0.6542, loss: 0.0488, reg_loss: 0.0000 ||:  57%|█████▋    | 103/180 [02:48<01:46,  1.38s/it]\u001b[A\n",
            "pearson(r): 0.6561, loss: 0.0487, reg_loss: 0.0000 ||:  58%|█████▊    | 104/180 [02:50<01:47,  1.42s/it]\u001b[A\n",
            "pearson(r): 0.6563, loss: 0.0485, reg_loss: 0.0000 ||:  58%|█████▊    | 105/180 [02:51<01:50,  1.48s/it]\u001b[A\n",
            "pearson(r): 0.6568, loss: 0.0485, reg_loss: 0.0000 ||:  59%|█████▉    | 106/180 [02:53<01:51,  1.51s/it]\u001b[A\n",
            "pearson(r): 0.6573, loss: 0.0486, reg_loss: 0.0000 ||:  59%|█████▉    | 107/180 [02:54<01:51,  1.52s/it]\u001b[A\n",
            "pearson(r): 0.6573, loss: 0.0487, reg_loss: 0.0000 ||:  60%|██████    | 108/180 [02:56<01:44,  1.44s/it]\u001b[A\n",
            "pearson(r): 0.6562, loss: 0.0488, reg_loss: 0.0000 ||:  61%|██████    | 109/180 [02:59<02:16,  1.92s/it]\u001b[A\n",
            "pearson(r): 0.6565, loss: 0.0488, reg_loss: 0.0000 ||:  61%|██████    | 110/180 [03:01<02:18,  1.98s/it]\u001b[A\n",
            "pearson(r): 0.6564, loss: 0.0487, reg_loss: 0.0000 ||:  62%|██████▏   | 111/180 [03:02<02:13,  1.93s/it]\u001b[A\n",
            "pearson(r): 0.6560, loss: 0.0488, reg_loss: 0.0000 ||:  62%|██████▏   | 112/180 [03:04<02:00,  1.77s/it]\u001b[A\n",
            "pearson(r): 0.6577, loss: 0.0486, reg_loss: 0.0000 ||:  63%|██████▎   | 113/180 [03:06<01:58,  1.76s/it]\u001b[A\n",
            "pearson(r): 0.6576, loss: 0.0487, reg_loss: 0.0000 ||:  63%|██████▎   | 114/180 [03:08<02:02,  1.85s/it]\u001b[A\n",
            "pearson(r): 0.6567, loss: 0.0488, reg_loss: 0.0000 ||:  64%|██████▍   | 115/180 [03:09<01:53,  1.74s/it]\u001b[A\n",
            "pearson(r): 0.6554, loss: 0.0489, reg_loss: 0.0000 ||:  64%|██████▍   | 116/180 [03:11<02:00,  1.88s/it]\u001b[A\n",
            "pearson(r): 0.6562, loss: 0.0488, reg_loss: 0.0000 ||:  65%|██████▌   | 117/180 [03:13<01:54,  1.82s/it]\u001b[A\n",
            "pearson(r): 0.6569, loss: 0.0487, reg_loss: 0.0000 ||:  66%|██████▌   | 118/180 [03:16<02:06,  2.04s/it]\u001b[A\n",
            "pearson(r): 0.6542, loss: 0.0490, reg_loss: 0.0000 ||:  66%|██████▌   | 119/180 [03:17<01:52,  1.84s/it]\u001b[A\n",
            "pearson(r): 0.6541, loss: 0.0491, reg_loss: 0.0000 ||:  67%|██████▋   | 120/180 [03:18<01:42,  1.71s/it]\u001b[A\n",
            "pearson(r): 0.6536, loss: 0.0492, reg_loss: 0.0000 ||:  67%|██████▋   | 121/180 [03:21<02:03,  2.10s/it]\u001b[A\n",
            "pearson(r): 0.6533, loss: 0.0491, reg_loss: 0.0000 ||:  68%|██████▊   | 122/180 [03:23<01:48,  1.88s/it]\u001b[A\n",
            "pearson(r): 0.6531, loss: 0.0491, reg_loss: 0.0000 ||:  68%|██████▊   | 123/180 [03:24<01:41,  1.77s/it]\u001b[A\n",
            "pearson(r): 0.6537, loss: 0.0490, reg_loss: 0.0000 ||:  69%|██████▉   | 124/180 [03:26<01:29,  1.61s/it]\u001b[A\n",
            "pearson(r): 0.6533, loss: 0.0490, reg_loss: 0.0000 ||:  69%|██████▉   | 125/180 [03:27<01:25,  1.56s/it]\u001b[A\n",
            "pearson(r): 0.6541, loss: 0.0489, reg_loss: 0.0000 ||:  70%|███████   | 126/180 [03:28<01:20,  1.48s/it]\u001b[A\n",
            "pearson(r): 0.6540, loss: 0.0489, reg_loss: 0.0000 ||:  71%|███████   | 127/180 [03:30<01:17,  1.46s/it]\u001b[A\n",
            "pearson(r): 0.6506, loss: 0.0493, reg_loss: 0.0000 ||:  71%|███████   | 128/180 [03:33<01:41,  1.94s/it]\u001b[A\n",
            "pearson(r): 0.6510, loss: 0.0493, reg_loss: 0.0000 ||:  72%|███████▏  | 129/180 [03:34<01:28,  1.73s/it]\u001b[A\n",
            "pearson(r): 0.6516, loss: 0.0492, reg_loss: 0.0000 ||:  72%|███████▏  | 130/180 [03:36<01:24,  1.70s/it]\u001b[A\n",
            "pearson(r): 0.6519, loss: 0.0492, reg_loss: 0.0000 ||:  73%|███████▎  | 131/180 [03:37<01:15,  1.54s/it]\u001b[A\n",
            "pearson(r): 0.6528, loss: 0.0491, reg_loss: 0.0000 ||:  73%|███████▎  | 132/180 [03:38<01:14,  1.55s/it]\u001b[A\n",
            "pearson(r): 0.6533, loss: 0.0491, reg_loss: 0.0000 ||:  74%|███████▍  | 133/180 [03:40<01:09,  1.48s/it]\u001b[A\n",
            "pearson(r): 0.6529, loss: 0.0492, reg_loss: 0.0000 ||:  74%|███████▍  | 134/180 [03:41<01:08,  1.48s/it]\u001b[A\n",
            "pearson(r): 0.6524, loss: 0.0492, reg_loss: 0.0000 ||:  75%|███████▌  | 135/180 [03:43<01:12,  1.61s/it]\u001b[A\n",
            "pearson(r): 0.6525, loss: 0.0492, reg_loss: 0.0000 ||:  76%|███████▌  | 136/180 [03:44<01:08,  1.55s/it]\u001b[A\n",
            "pearson(r): 0.6530, loss: 0.0493, reg_loss: 0.0000 ||:  76%|███████▌  | 137/180 [03:46<01:05,  1.53s/it]\u001b[A\n",
            "pearson(r): 0.6520, loss: 0.0493, reg_loss: 0.0000 ||:  77%|███████▋  | 138/180 [03:48<01:05,  1.55s/it]\u001b[A\n",
            "pearson(r): 0.6523, loss: 0.0493, reg_loss: 0.0000 ||:  77%|███████▋  | 139/180 [03:49<00:59,  1.44s/it]\u001b[A\n",
            "pearson(r): 0.6519, loss: 0.0494, reg_loss: 0.0000 ||:  78%|███████▊  | 140/180 [03:50<00:56,  1.42s/it]\u001b[A\n",
            "pearson(r): 0.6521, loss: 0.0494, reg_loss: 0.0000 ||:  78%|███████▊  | 141/180 [03:52<00:56,  1.44s/it]\u001b[A\n",
            "pearson(r): 0.6525, loss: 0.0494, reg_loss: 0.0000 ||:  79%|███████▉  | 142/180 [03:53<00:56,  1.50s/it]\u001b[A\n",
            "pearson(r): 0.6505, loss: 0.0495, reg_loss: 0.0000 ||:  79%|███████▉  | 143/180 [03:56<01:12,  1.95s/it]\u001b[A\n",
            "pearson(r): 0.6507, loss: 0.0495, reg_loss: 0.0000 ||:  80%|████████  | 144/180 [03:58<01:04,  1.79s/it]\u001b[A\n",
            "pearson(r): 0.6501, loss: 0.0496, reg_loss: 0.0000 ||:  81%|████████  | 145/180 [03:59<01:00,  1.72s/it]\u001b[A\n",
            "pearson(r): 0.6495, loss: 0.0496, reg_loss: 0.0000 ||:  81%|████████  | 146/180 [04:00<00:53,  1.56s/it]\u001b[A\n",
            "pearson(r): 0.6480, loss: 0.0499, reg_loss: 0.0000 ||:  82%|████████▏ | 147/180 [04:04<01:06,  2.03s/it]\u001b[A\n",
            "pearson(r): 0.6481, loss: 0.0499, reg_loss: 0.0000 ||:  82%|████████▏ | 148/180 [04:05<01:01,  1.93s/it]\u001b[A\n",
            "pearson(r): 0.6482, loss: 0.0499, reg_loss: 0.0000 ||:  83%|████████▎ | 149/180 [04:08<01:09,  2.26s/it]\u001b[A\n",
            "pearson(r): 0.6485, loss: 0.0498, reg_loss: 0.0000 ||:  83%|████████▎ | 150/180 [04:10<00:59,  1.97s/it]\u001b[A\n",
            "pearson(r): 0.6491, loss: 0.0498, reg_loss: 0.0000 ||:  84%|████████▍ | 151/180 [04:11<00:54,  1.87s/it]\u001b[A\n",
            "pearson(r): 0.6501, loss: 0.0497, reg_loss: 0.0000 ||:  84%|████████▍ | 152/180 [04:13<00:52,  1.88s/it]\u001b[A\n",
            "pearson(r): 0.6497, loss: 0.0498, reg_loss: 0.0000 ||:  85%|████████▌ | 153/180 [04:14<00:46,  1.73s/it]\u001b[A\n",
            "pearson(r): 0.6504, loss: 0.0497, reg_loss: 0.0000 ||:  86%|████████▌ | 154/180 [04:16<00:44,  1.72s/it]\u001b[A\n",
            "pearson(r): 0.6504, loss: 0.0497, reg_loss: 0.0000 ||:  86%|████████▌ | 155/180 [04:18<00:41,  1.67s/it]\u001b[A\n",
            "pearson(r): 0.6509, loss: 0.0497, reg_loss: 0.0000 ||:  87%|████████▋ | 156/180 [04:20<00:43,  1.82s/it]\u001b[A\n",
            "pearson(r): 0.6504, loss: 0.0497, reg_loss: 0.0000 ||:  87%|████████▋ | 157/180 [04:21<00:39,  1.73s/it]\u001b[A\n",
            "pearson(r): 0.6511, loss: 0.0496, reg_loss: 0.0000 ||:  88%|████████▊ | 158/180 [04:23<00:36,  1.65s/it]\u001b[A\n",
            "pearson(r): 0.6500, loss: 0.0496, reg_loss: 0.0000 ||:  88%|████████▊ | 159/180 [04:24<00:33,  1.58s/it]\u001b[A\n",
            "pearson(r): 0.6495, loss: 0.0496, reg_loss: 0.0000 ||:  89%|████████▉ | 160/180 [04:26<00:30,  1.51s/it]\u001b[A\n",
            "pearson(r): 0.6502, loss: 0.0496, reg_loss: 0.0000 ||:  89%|████████▉ | 161/180 [04:27<00:25,  1.37s/it]\u001b[A\n",
            "pearson(r): 0.6512, loss: 0.0496, reg_loss: 0.0000 ||:  90%|█████████ | 162/180 [04:29<00:28,  1.58s/it]\u001b[A\n",
            "pearson(r): 0.6515, loss: 0.0495, reg_loss: 0.0000 ||:  91%|█████████ | 163/180 [04:31<00:28,  1.69s/it]\u001b[A\n",
            "pearson(r): 0.6519, loss: 0.0495, reg_loss: 0.0000 ||:  91%|█████████ | 164/180 [04:32<00:25,  1.61s/it]\u001b[A\n",
            "pearson(r): 0.6514, loss: 0.0495, reg_loss: 0.0000 ||:  92%|█████████▏| 165/180 [04:34<00:24,  1.64s/it]\u001b[A\n",
            "pearson(r): 0.6505, loss: 0.0496, reg_loss: 0.0000 ||:  92%|█████████▏| 166/180 [04:35<00:23,  1.64s/it]\u001b[A\n",
            "pearson(r): 0.6507, loss: 0.0496, reg_loss: 0.0000 ||:  93%|█████████▎| 167/180 [04:37<00:22,  1.75s/it]\u001b[A\n",
            "pearson(r): 0.6508, loss: 0.0496, reg_loss: 0.0000 ||:  93%|█████████▎| 168/180 [04:39<00:20,  1.68s/it]\u001b[A\n",
            "pearson(r): 0.6500, loss: 0.0497, reg_loss: 0.0000 ||:  94%|█████████▍| 169/180 [04:40<00:16,  1.50s/it]\u001b[A\n",
            "pearson(r): 0.6497, loss: 0.0498, reg_loss: 0.0000 ||:  94%|█████████▍| 170/180 [04:42<00:15,  1.56s/it]\u001b[A\n",
            "pearson(r): 0.6497, loss: 0.0498, reg_loss: 0.0000 ||:  95%|█████████▌| 171/180 [04:43<00:13,  1.51s/it]\u001b[A\n",
            "pearson(r): 0.6486, loss: 0.0498, reg_loss: 0.0000 ||:  96%|█████████▌| 172/180 [04:45<00:12,  1.50s/it]\u001b[A\n",
            "pearson(r): 0.6492, loss: 0.0497, reg_loss: 0.0000 ||:  96%|█████████▌| 173/180 [04:46<00:10,  1.46s/it]\u001b[A\n",
            "pearson(r): 0.6489, loss: 0.0497, reg_loss: 0.0000 ||:  97%|█████████▋| 174/180 [04:47<00:08,  1.42s/it]\u001b[A\n",
            "pearson(r): 0.6490, loss: 0.0497, reg_loss: 0.0000 ||:  97%|█████████▋| 175/180 [04:49<00:08,  1.61s/it]\u001b[A\n",
            "pearson(r): 0.6484, loss: 0.0498, reg_loss: 0.0000 ||:  98%|█████████▊| 176/180 [04:51<00:06,  1.52s/it]\u001b[A\n",
            "pearson(r): 0.6492, loss: 0.0497, reg_loss: 0.0000 ||:  98%|█████████▊| 177/180 [04:52<00:04,  1.46s/it]\u001b[A\n",
            "pearson(r): 0.6498, loss: 0.0496, reg_loss: 0.0000 ||:  99%|█████████▉| 178/180 [04:53<00:02,  1.39s/it]\u001b[A\n",
            "pearson(r): 0.6499, loss: 0.0496, reg_loss: 0.0000 ||:  99%|█████████▉| 179/180 [04:55<00:01,  1.41s/it]\u001b[A\n",
            "pearson(r): 0.6503, loss: 0.0496, reg_loss: 0.0000 ||: 100%|██████████| 180/180 [04:56<00:00,  1.65s/it]\n",
            "\n",
            "  0%|          | 0/180 [00:00<?, ?it/s]\u001b[A\n",
            "pearson(r): 0.8025, loss: 0.0652, reg_loss: 0.0000 ||:   1%|          | 1/180 [00:00<00:47,  3.78it/s]\u001b[A\n",
            "pearson(r): 0.7811, loss: 0.0577, reg_loss: 0.0000 ||:   1%|          | 2/180 [00:00<00:47,  3.75it/s]\u001b[A\n",
            "pearson(r): 0.7635, loss: 0.0625, reg_loss: 0.0000 ||:   2%|▏         | 3/180 [00:00<00:46,  3.78it/s]\u001b[A\n",
            "pearson(r): 0.7657, loss: 0.0629, reg_loss: 0.0000 ||:   2%|▏         | 4/180 [00:01<00:44,  3.99it/s]\u001b[A\n",
            "pearson(r): 0.7506, loss: 0.0649, reg_loss: 0.0000 ||:   3%|▎         | 5/180 [00:01<00:46,  3.79it/s]\u001b[A\n",
            "pearson(r): 0.7603, loss: 0.0644, reg_loss: 0.0000 ||:   3%|▎         | 6/180 [00:01<00:46,  3.72it/s]\u001b[A\n",
            "pearson(r): 0.7555, loss: 0.0653, reg_loss: 0.0000 ||:   4%|▍         | 7/180 [00:01<00:50,  3.44it/s]\u001b[A\n",
            "pearson(r): 0.7498, loss: 0.0648, reg_loss: 0.0000 ||:   4%|▍         | 8/180 [00:02<00:51,  3.34it/s]\u001b[A\n",
            "pearson(r): 0.7421, loss: 0.0661, reg_loss: 0.0000 ||:   5%|▌         | 9/180 [00:02<00:49,  3.43it/s]\u001b[A\n",
            "pearson(r): 0.7484, loss: 0.0637, reg_loss: 0.0000 ||:   6%|▌         | 10/180 [00:02<00:47,  3.61it/s]\u001b[A\n",
            "pearson(r): 0.7564, loss: 0.0634, reg_loss: 0.0000 ||:   6%|▌         | 11/180 [00:03<00:45,  3.71it/s]\u001b[A\n",
            "pearson(r): 0.7532, loss: 0.0646, reg_loss: 0.0000 ||:   7%|▋         | 12/180 [00:03<00:45,  3.66it/s]\u001b[A\n",
            "pearson(r): 0.7535, loss: 0.0644, reg_loss: 0.0000 ||:   7%|▋         | 13/180 [00:03<00:45,  3.67it/s]\u001b[A\n",
            "pearson(r): 0.7585, loss: 0.0632, reg_loss: 0.0000 ||:   8%|▊         | 14/180 [00:03<00:44,  3.72it/s]\u001b[A\n",
            "pearson(r): 0.7648, loss: 0.0624, reg_loss: 0.0000 ||:   8%|▊         | 15/180 [00:04<00:45,  3.65it/s]\u001b[A\n",
            "pearson(r): 0.7625, loss: 0.0620, reg_loss: 0.0000 ||:   9%|▉         | 16/180 [00:04<00:48,  3.41it/s]\u001b[A\n",
            "pearson(r): 0.7527, loss: 0.0632, reg_loss: 0.0000 ||:   9%|▉         | 17/180 [00:04<00:46,  3.53it/s]\u001b[A\n",
            "pearson(r): 0.7524, loss: 0.0639, reg_loss: 0.0000 ||:  10%|█         | 18/180 [00:04<00:44,  3.61it/s]\u001b[A\n",
            "pearson(r): 0.7501, loss: 0.0647, reg_loss: 0.0000 ||:  11%|█         | 19/180 [00:05<00:50,  3.19it/s]\u001b[A\n",
            "pearson(r): 0.7516, loss: 0.0635, reg_loss: 0.0000 ||:  11%|█         | 20/180 [00:05<00:48,  3.33it/s]\u001b[A\n",
            "pearson(r): 0.7406, loss: 0.0652, reg_loss: 0.0000 ||:  12%|█▏        | 21/180 [00:05<00:43,  3.64it/s]\u001b[A\n",
            "pearson(r): 0.7398, loss: 0.0653, reg_loss: 0.0000 ||:  12%|█▏        | 22/180 [00:06<00:43,  3.67it/s]\u001b[A\n",
            "pearson(r): 0.7426, loss: 0.0647, reg_loss: 0.0000 ||:  13%|█▎        | 23/180 [00:06<00:44,  3.55it/s]\u001b[A\n",
            "pearson(r): 0.7438, loss: 0.0650, reg_loss: 0.0000 ||:  13%|█▎        | 24/180 [00:06<00:45,  3.43it/s]\u001b[A\n",
            "pearson(r): 0.7456, loss: 0.0654, reg_loss: 0.0000 ||:  14%|█▍        | 25/180 [00:07<00:45,  3.42it/s]\u001b[A\n",
            "pearson(r): 0.7482, loss: 0.0653, reg_loss: 0.0000 ||:  14%|█▍        | 26/180 [00:07<00:40,  3.81it/s]\u001b[A\n",
            "pearson(r): 0.7507, loss: 0.0653, reg_loss: 0.0000 ||:  15%|█▌        | 27/180 [00:07<00:43,  3.54it/s]\u001b[A\n",
            "pearson(r): 0.7530, loss: 0.0654, reg_loss: 0.0000 ||:  16%|█▌        | 28/180 [00:07<00:44,  3.41it/s]\u001b[A\n",
            "pearson(r): 0.7535, loss: 0.0653, reg_loss: 0.0000 ||:  16%|█▌        | 29/180 [00:08<00:49,  3.05it/s]\u001b[A\n",
            "pearson(r): 0.7552, loss: 0.0651, reg_loss: 0.0000 ||:  17%|█▋        | 30/180 [00:08<00:52,  2.83it/s]\u001b[A\n",
            "pearson(r): 0.7498, loss: 0.0659, reg_loss: 0.0000 ||:  17%|█▋        | 31/180 [00:08<00:46,  3.20it/s]\u001b[A\n",
            "pearson(r): 0.7520, loss: 0.0655, reg_loss: 0.0000 ||:  18%|█▊        | 32/180 [00:09<00:40,  3.65it/s]\u001b[A\n",
            "pearson(r): 0.7540, loss: 0.0649, reg_loss: 0.0000 ||:  18%|█▊        | 33/180 [00:09<00:39,  3.70it/s]\u001b[A\n",
            "pearson(r): 0.7560, loss: 0.0648, reg_loss: 0.0000 ||:  19%|█▉        | 34/180 [00:09<00:39,  3.66it/s]\u001b[A\n",
            "pearson(r): 0.7569, loss: 0.0644, reg_loss: 0.0000 ||:  19%|█▉        | 35/180 [00:09<00:41,  3.53it/s]\u001b[A\n",
            "pearson(r): 0.7580, loss: 0.0639, reg_loss: 0.0000 ||:  20%|██        | 36/180 [00:10<00:42,  3.41it/s]\u001b[A\n",
            "pearson(r): 0.7577, loss: 0.0638, reg_loss: 0.0000 ||:  21%|██        | 37/180 [00:10<00:41,  3.44it/s]\u001b[A\n",
            "pearson(r): 0.7591, loss: 0.0632, reg_loss: 0.0000 ||:  21%|██        | 38/180 [00:10<00:39,  3.56it/s]\u001b[A\n",
            "pearson(r): 0.7546, loss: 0.0643, reg_loss: 0.0000 ||:  22%|██▏       | 39/180 [00:11<00:36,  3.90it/s]\u001b[A\n",
            "pearson(r): 0.7549, loss: 0.0639, reg_loss: 0.0000 ||:  22%|██▏       | 40/180 [00:11<00:36,  3.85it/s]\u001b[A\n",
            "pearson(r): 0.7593, loss: 0.0633, reg_loss: 0.0000 ||:  23%|██▎       | 41/180 [00:11<00:35,  3.90it/s]\u001b[A\n",
            "pearson(r): 0.7589, loss: 0.0630, reg_loss: 0.0000 ||:  23%|██▎       | 42/180 [00:11<00:35,  3.88it/s]\u001b[A\n",
            "pearson(r): 0.7561, loss: 0.0636, reg_loss: 0.0000 ||:  24%|██▍       | 43/180 [00:12<00:41,  3.34it/s]\u001b[A\n",
            "pearson(r): 0.7554, loss: 0.0636, reg_loss: 0.0000 ||:  24%|██▍       | 44/180 [00:12<00:40,  3.36it/s]\u001b[A\n",
            "pearson(r): 0.7558, loss: 0.0638, reg_loss: 0.0000 ||:  25%|██▌       | 45/180 [00:12<00:39,  3.45it/s]\u001b[A\n",
            "pearson(r): 0.7585, loss: 0.0636, reg_loss: 0.0000 ||:  26%|██▌       | 46/180 [00:13<00:38,  3.45it/s]\u001b[A\n",
            "pearson(r): 0.7566, loss: 0.0639, reg_loss: 0.0000 ||:  26%|██▌       | 47/180 [00:13<00:34,  3.88it/s]\u001b[A\n",
            "pearson(r): 0.7573, loss: 0.0635, reg_loss: 0.0000 ||:  27%|██▋       | 48/180 [00:13<00:32,  4.02it/s]\u001b[A\n",
            "pearson(r): 0.7565, loss: 0.0643, reg_loss: 0.0000 ||:  27%|██▋       | 49/180 [00:13<00:43,  2.99it/s]\u001b[A\n",
            "pearson(r): 0.7560, loss: 0.0646, reg_loss: 0.0000 ||:  28%|██▊       | 50/180 [00:14<00:40,  3.19it/s]\u001b[A\n",
            "pearson(r): 0.7558, loss: 0.0644, reg_loss: 0.0000 ||:  28%|██▊       | 51/180 [00:14<00:38,  3.33it/s]\u001b[A\n",
            "pearson(r): 0.7553, loss: 0.0645, reg_loss: 0.0000 ||:  29%|██▉       | 52/180 [00:14<00:33,  3.78it/s]\u001b[A\n",
            "pearson(r): 0.7568, loss: 0.0642, reg_loss: 0.0000 ||:  29%|██▉       | 53/180 [00:14<00:33,  3.84it/s]\u001b[A\n",
            "pearson(r): 0.7571, loss: 0.0643, reg_loss: 0.0000 ||:  30%|███       | 54/180 [00:15<00:33,  3.79it/s]\u001b[A\n",
            "pearson(r): 0.7578, loss: 0.0641, reg_loss: 0.0000 ||:  31%|███       | 55/180 [00:15<00:43,  2.89it/s]\u001b[A\n",
            "pearson(r): 0.7584, loss: 0.0639, reg_loss: 0.0000 ||:  31%|███       | 56/180 [00:16<00:40,  3.07it/s]\u001b[A\n",
            "pearson(r): 0.7576, loss: 0.0638, reg_loss: 0.0000 ||:  32%|███▏      | 57/180 [00:16<00:36,  3.40it/s]\u001b[A\n",
            "pearson(r): 0.7573, loss: 0.0638, reg_loss: 0.0000 ||:  32%|███▏      | 58/180 [00:16<00:33,  3.61it/s]\u001b[A\n",
            "pearson(r): 0.7564, loss: 0.0638, reg_loss: 0.0000 ||:  33%|███▎      | 59/180 [00:16<00:32,  3.70it/s]\u001b[A\n",
            "pearson(r): 0.7553, loss: 0.0640, reg_loss: 0.0000 ||:  33%|███▎      | 60/180 [00:17<00:34,  3.49it/s]\u001b[A\n",
            "pearson(r): 0.7557, loss: 0.0640, reg_loss: 0.0000 ||:  34%|███▍      | 61/180 [00:17<00:32,  3.68it/s]\u001b[A\n",
            "pearson(r): 0.7564, loss: 0.0638, reg_loss: 0.0000 ||:  34%|███▍      | 62/180 [00:17<00:34,  3.44it/s]\u001b[A\n",
            "pearson(r): 0.7553, loss: 0.0639, reg_loss: 0.0000 ||:  35%|███▌      | 63/180 [00:17<00:32,  3.56it/s]\u001b[A\n",
            "pearson(r): 0.7558, loss: 0.0641, reg_loss: 0.0000 ||:  36%|███▌      | 64/180 [00:18<00:31,  3.63it/s]\u001b[A\n",
            "pearson(r): 0.7547, loss: 0.0642, reg_loss: 0.0000 ||:  36%|███▌      | 65/180 [00:18<00:31,  3.69it/s]\u001b[A\n",
            "pearson(r): 0.7560, loss: 0.0639, reg_loss: 0.0000 ||:  37%|███▋      | 66/180 [00:18<00:28,  3.95it/s]\u001b[A\n",
            "pearson(r): 0.7559, loss: 0.0638, reg_loss: 0.0000 ||:  37%|███▋      | 67/180 [00:18<00:31,  3.58it/s]\u001b[A\n",
            "pearson(r): 0.7558, loss: 0.0637, reg_loss: 0.0000 ||:  38%|███▊      | 68/180 [00:19<00:30,  3.68it/s]\u001b[A\n",
            "pearson(r): 0.7549, loss: 0.0637, reg_loss: 0.0000 ||:  38%|███▊      | 69/180 [00:19<00:36,  3.07it/s]\u001b[A\n",
            "pearson(r): 0.7549, loss: 0.0636, reg_loss: 0.0000 ||:  39%|███▉      | 70/180 [00:19<00:33,  3.25it/s]\u001b[A\n",
            "pearson(r): 0.7537, loss: 0.0641, reg_loss: 0.0000 ||:  39%|███▉      | 71/180 [00:20<00:41,  2.65it/s]\u001b[A\n",
            "pearson(r): 0.7536, loss: 0.0641, reg_loss: 0.0000 ||:  40%|████      | 72/180 [00:20<00:40,  2.65it/s]\u001b[A\n",
            "pearson(r): 0.7556, loss: 0.0639, reg_loss: 0.0000 ||:  41%|████      | 73/180 [00:21<00:37,  2.83it/s]\u001b[A\n",
            "pearson(r): 0.7564, loss: 0.0637, reg_loss: 0.0000 ||:  41%|████      | 74/180 [00:21<00:35,  3.03it/s]\u001b[A\n",
            "pearson(r): 0.7578, loss: 0.0635, reg_loss: 0.0000 ||:  42%|████▏     | 75/180 [00:21<00:33,  3.15it/s]\u001b[A\n",
            "pearson(r): 0.7594, loss: 0.0633, reg_loss: 0.0000 ||:  42%|████▏     | 76/180 [00:22<00:31,  3.28it/s]\u001b[A\n",
            "pearson(r): 0.7600, loss: 0.0633, reg_loss: 0.0000 ||:  43%|████▎     | 77/180 [00:22<00:30,  3.43it/s]\u001b[A\n",
            "pearson(r): 0.7596, loss: 0.0634, reg_loss: 0.0000 ||:  43%|████▎     | 78/180 [00:22<00:30,  3.38it/s]\u001b[A\n",
            "pearson(r): 0.7590, loss: 0.0638, reg_loss: 0.0000 ||:  44%|████▍     | 79/180 [00:22<00:28,  3.61it/s]\u001b[A\n",
            "pearson(r): 0.7611, loss: 0.0635, reg_loss: 0.0000 ||:  44%|████▍     | 80/180 [00:23<00:27,  3.63it/s]\u001b[A\n",
            "pearson(r): 0.7601, loss: 0.0635, reg_loss: 0.0000 ||:  45%|████▌     | 81/180 [00:23<00:31,  3.18it/s]\u001b[A\n",
            "pearson(r): 0.7598, loss: 0.0635, reg_loss: 0.0000 ||:  46%|████▌     | 82/180 [00:23<00:32,  2.99it/s]\u001b[A\n",
            "pearson(r): 0.7585, loss: 0.0635, reg_loss: 0.0000 ||:  46%|████▌     | 83/180 [00:24<00:34,  2.84it/s]\u001b[A\n",
            "pearson(r): 0.7580, loss: 0.0636, reg_loss: 0.0000 ||:  47%|████▋     | 84/180 [00:24<00:32,  2.95it/s]\u001b[A\n",
            "pearson(r): 0.7570, loss: 0.0641, reg_loss: 0.0000 ||:  47%|████▋     | 85/180 [00:24<00:31,  2.97it/s]\u001b[A\n",
            "pearson(r): 0.7573, loss: 0.0643, reg_loss: 0.0000 ||:  48%|████▊     | 86/180 [00:25<00:28,  3.29it/s]\u001b[A\n",
            "pearson(r): 0.7586, loss: 0.0641, reg_loss: 0.0000 ||:  48%|████▊     | 87/180 [00:25<00:27,  3.44it/s]\u001b[A\n",
            "pearson(r): 0.7601, loss: 0.0639, reg_loss: 0.0000 ||:  49%|████▉     | 88/180 [00:25<00:26,  3.45it/s]\u001b[A\n",
            "pearson(r): 0.7595, loss: 0.0641, reg_loss: 0.0000 ||:  49%|████▉     | 89/180 [00:26<00:29,  3.05it/s]\u001b[A\n",
            "pearson(r): 0.7597, loss: 0.0640, reg_loss: 0.0000 ||:  50%|█████     | 90/180 [00:26<00:26,  3.36it/s]\u001b[A\n",
            "pearson(r): 0.7602, loss: 0.0640, reg_loss: 0.0000 ||:  51%|█████     | 91/180 [00:26<00:25,  3.48it/s]\u001b[A\n",
            "pearson(r): 0.7596, loss: 0.0643, reg_loss: 0.0000 ||:  51%|█████     | 92/180 [00:27<00:31,  2.76it/s]\u001b[A\n",
            "pearson(r): 0.7593, loss: 0.0644, reg_loss: 0.0000 ||:  52%|█████▏    | 93/180 [00:27<00:30,  2.86it/s]\u001b[A\n",
            "pearson(r): 0.7594, loss: 0.0644, reg_loss: 0.0000 ||:  52%|█████▏    | 94/180 [00:27<00:28,  2.99it/s]\u001b[A\n",
            "pearson(r): 0.7592, loss: 0.0645, reg_loss: 0.0000 ||:  53%|█████▎    | 95/180 [00:27<00:26,  3.23it/s]\u001b[A\n",
            "pearson(r): 0.7593, loss: 0.0641, reg_loss: 0.0000 ||:  53%|█████▎    | 96/180 [00:28<00:24,  3.36it/s]\u001b[A\n",
            "pearson(r): 0.7599, loss: 0.0641, reg_loss: 0.0000 ||:  54%|█████▍    | 97/180 [00:28<00:24,  3.33it/s]\u001b[A\n",
            "pearson(r): 0.7582, loss: 0.0643, reg_loss: 0.0000 ||:  54%|█████▍    | 98/180 [00:29<00:28,  2.91it/s]\u001b[A\n",
            "pearson(r): 0.7582, loss: 0.0643, reg_loss: 0.0000 ||:  55%|█████▌    | 99/180 [00:29<00:24,  3.35it/s]\u001b[A\n",
            "pearson(r): 0.7599, loss: 0.0642, reg_loss: 0.0000 ||:  56%|█████▌    | 100/180 [00:29<00:22,  3.54it/s]\u001b[A\n",
            "pearson(r): 0.7594, loss: 0.0642, reg_loss: 0.0000 ||:  56%|█████▌    | 101/180 [00:29<00:22,  3.44it/s]\u001b[A\n",
            "pearson(r): 0.7589, loss: 0.0645, reg_loss: 0.0000 ||:  57%|█████▋    | 102/180 [00:30<00:24,  3.16it/s]\u001b[A\n",
            "pearson(r): 0.7591, loss: 0.0645, reg_loss: 0.0000 ||:  57%|█████▋    | 103/180 [00:30<00:28,  2.66it/s]\u001b[A\n",
            "pearson(r): 0.7588, loss: 0.0647, reg_loss: 0.0000 ||:  58%|█████▊    | 104/180 [00:30<00:26,  2.92it/s]\u001b[A\n",
            "pearson(r): 0.7577, loss: 0.0649, reg_loss: 0.0000 ||:  58%|█████▊    | 105/180 [00:31<00:27,  2.75it/s]\u001b[A\n",
            "pearson(r): 0.7565, loss: 0.0653, reg_loss: 0.0000 ||:  59%|█████▉    | 106/180 [00:31<00:30,  2.41it/s]\u001b[A\n",
            "pearson(r): 0.7552, loss: 0.0653, reg_loss: 0.0000 ||:  59%|█████▉    | 107/180 [00:32<00:27,  2.63it/s]\u001b[A\n",
            "pearson(r): 0.7542, loss: 0.0655, reg_loss: 0.0000 ||:  60%|██████    | 108/180 [00:32<00:26,  2.72it/s]\u001b[A\n",
            "pearson(r): 0.7537, loss: 0.0656, reg_loss: 0.0000 ||:  61%|██████    | 109/180 [00:32<00:22,  3.12it/s]\u001b[A\n",
            "pearson(r): 0.7534, loss: 0.0656, reg_loss: 0.0000 ||:  61%|██████    | 110/180 [00:32<00:21,  3.26it/s]\u001b[A\n",
            "pearson(r): 0.7528, loss: 0.0659, reg_loss: 0.0000 ||:  62%|██████▏   | 111/180 [00:33<00:20,  3.35it/s]\u001b[A\n",
            "pearson(r): 0.7537, loss: 0.0657, reg_loss: 0.0000 ||:  62%|██████▏   | 112/180 [00:33<00:22,  3.06it/s]\u001b[A\n",
            "pearson(r): 0.7531, loss: 0.0657, reg_loss: 0.0000 ||:  63%|██████▎   | 113/180 [00:33<00:20,  3.25it/s]\u001b[A\n",
            "pearson(r): 0.7543, loss: 0.0654, reg_loss: 0.0000 ||:  63%|██████▎   | 114/180 [00:34<00:20,  3.26it/s]\u001b[A\n",
            "pearson(r): 0.7542, loss: 0.0654, reg_loss: 0.0000 ||:  64%|██████▍   | 115/180 [00:34<00:19,  3.34it/s]\u001b[A\n",
            "pearson(r): 0.7543, loss: 0.0653, reg_loss: 0.0000 ||:  64%|██████▍   | 116/180 [00:34<00:18,  3.51it/s]\u001b[A\n",
            "pearson(r): 0.7544, loss: 0.0652, reg_loss: 0.0000 ||:  65%|██████▌   | 117/180 [00:35<00:18,  3.40it/s]\u001b[A\n",
            "pearson(r): 0.7541, loss: 0.0651, reg_loss: 0.0000 ||:  66%|██████▌   | 118/180 [00:35<00:17,  3.55it/s]\u001b[A\n",
            "pearson(r): 0.7537, loss: 0.0651, reg_loss: 0.0000 ||:  66%|██████▌   | 119/180 [00:35<00:19,  3.13it/s]\u001b[A\n",
            "pearson(r): 0.7545, loss: 0.0652, reg_loss: 0.0000 ||:  67%|██████▋   | 120/180 [00:35<00:17,  3.37it/s]\u001b[A\n",
            "pearson(r): 0.7536, loss: 0.0653, reg_loss: 0.0000 ||:  67%|██████▋   | 121/180 [00:36<00:17,  3.46it/s]\u001b[A\n",
            "pearson(r): 0.7542, loss: 0.0651, reg_loss: 0.0000 ||:  68%|██████▊   | 122/180 [00:36<00:16,  3.52it/s]\u001b[A\n",
            "pearson(r): 0.7537, loss: 0.0652, reg_loss: 0.0000 ||:  68%|██████▊   | 123/180 [00:36<00:15,  3.76it/s]\u001b[A\n",
            "pearson(r): 0.7523, loss: 0.0657, reg_loss: 0.0000 ||:  69%|██████▉   | 124/180 [00:37<00:19,  2.91it/s]\u001b[A\n",
            "pearson(r): 0.7523, loss: 0.0657, reg_loss: 0.0000 ||:  69%|██████▉   | 125/180 [00:37<00:19,  2.88it/s]\u001b[A\n",
            "pearson(r): 0.7535, loss: 0.0656, reg_loss: 0.0000 ||:  70%|███████   | 126/180 [00:37<00:17,  3.10it/s]\u001b[A\n",
            "pearson(r): 0.7528, loss: 0.0657, reg_loss: 0.0000 ||:  71%|███████   | 127/180 [00:38<00:18,  2.83it/s]\u001b[A\n",
            "pearson(r): 0.7527, loss: 0.0658, reg_loss: 0.0000 ||:  71%|███████   | 128/180 [00:38<00:17,  2.99it/s]\u001b[A\n",
            "pearson(r): 0.7536, loss: 0.0658, reg_loss: 0.0000 ||:  72%|███████▏  | 129/180 [00:38<00:15,  3.20it/s]\u001b[A\n",
            "pearson(r): 0.7543, loss: 0.0657, reg_loss: 0.0000 ||:  72%|███████▏  | 130/180 [00:39<00:13,  3.59it/s]\u001b[A\n",
            "pearson(r): 0.7538, loss: 0.0658, reg_loss: 0.0000 ||:  73%|███████▎  | 131/180 [00:39<00:13,  3.55it/s]\u001b[A\n",
            "pearson(r): 0.7536, loss: 0.0658, reg_loss: 0.0000 ||:  73%|███████▎  | 132/180 [00:39<00:13,  3.56it/s]\u001b[A\n",
            "pearson(r): 0.7529, loss: 0.0658, reg_loss: 0.0000 ||:  74%|███████▍  | 133/180 [00:39<00:13,  3.60it/s]\u001b[A\n",
            "pearson(r): 0.7529, loss: 0.0658, reg_loss: 0.0000 ||:  74%|███████▍  | 134/180 [00:40<00:16,  2.82it/s]\u001b[A\n",
            "pearson(r): 0.7525, loss: 0.0658, reg_loss: 0.0000 ||:  75%|███████▌  | 135/180 [00:40<00:14,  3.01it/s]\u001b[A\n",
            "pearson(r): 0.7526, loss: 0.0659, reg_loss: 0.0000 ||:  76%|███████▌  | 136/180 [00:40<00:13,  3.17it/s]\u001b[A\n",
            "pearson(r): 0.7518, loss: 0.0659, reg_loss: 0.0000 ||:  76%|███████▌  | 137/180 [00:41<00:14,  3.03it/s]\u001b[A\n",
            "pearson(r): 0.7524, loss: 0.0658, reg_loss: 0.0000 ||:  77%|███████▋  | 138/180 [00:41<00:13,  3.21it/s]\u001b[A\n",
            "pearson(r): 0.7521, loss: 0.0659, reg_loss: 0.0000 ||:  77%|███████▋  | 139/180 [00:41<00:12,  3.40it/s]\u001b[A\n",
            "pearson(r): 0.7512, loss: 0.0660, reg_loss: 0.0000 ||:  78%|███████▊  | 140/180 [00:42<00:11,  3.58it/s]\u001b[A\n",
            "pearson(r): 0.7514, loss: 0.0659, reg_loss: 0.0000 ||:  78%|███████▊  | 141/180 [00:42<00:10,  3.67it/s]\u001b[A\n",
            "pearson(r): 0.7517, loss: 0.0659, reg_loss: 0.0000 ||:  79%|███████▉  | 142/180 [00:42<00:10,  3.55it/s]\u001b[A\n",
            "pearson(r): 0.7518, loss: 0.0657, reg_loss: 0.0000 ||:  79%|███████▉  | 143/180 [00:43<00:11,  3.21it/s]\u001b[A\n",
            "pearson(r): 0.7514, loss: 0.0658, reg_loss: 0.0000 ||:  80%|████████  | 144/180 [00:43<00:11,  3.26it/s]\u001b[A\n",
            "pearson(r): 0.7518, loss: 0.0657, reg_loss: 0.0000 ||:  81%|████████  | 145/180 [00:43<00:10,  3.28it/s]\u001b[A\n",
            "pearson(r): 0.7516, loss: 0.0657, reg_loss: 0.0000 ||:  81%|████████  | 146/180 [00:44<00:11,  2.99it/s]\u001b[A\n",
            "pearson(r): 0.7513, loss: 0.0658, reg_loss: 0.0000 ||:  82%|████████▏ | 147/180 [00:44<00:10,  3.28it/s]\u001b[A\n",
            "pearson(r): 0.7511, loss: 0.0658, reg_loss: 0.0000 ||:  82%|████████▏ | 148/180 [00:44<00:08,  3.62it/s]\u001b[A\n",
            "pearson(r): 0.7511, loss: 0.0658, reg_loss: 0.0000 ||:  83%|████████▎ | 149/180 [00:44<00:08,  3.74it/s]\u001b[A\n",
            "pearson(r): 0.7510, loss: 0.0659, reg_loss: 0.0000 ||:  83%|████████▎ | 150/180 [00:45<00:08,  3.73it/s]\u001b[A\n",
            "pearson(r): 0.7517, loss: 0.0658, reg_loss: 0.0000 ||:  84%|████████▍ | 151/180 [00:45<00:07,  3.71it/s]\u001b[A\n",
            "pearson(r): 0.7513, loss: 0.0658, reg_loss: 0.0000 ||:  84%|████████▍ | 152/180 [00:45<00:07,  3.69it/s]\u001b[A\n",
            "pearson(r): 0.7515, loss: 0.0658, reg_loss: 0.0000 ||:  85%|████████▌ | 153/180 [00:45<00:07,  3.43it/s]\u001b[A\n",
            "pearson(r): 0.7509, loss: 0.0657, reg_loss: 0.0000 ||:  86%|████████▌ | 154/180 [00:46<00:09,  2.75it/s]\u001b[A\n",
            "pearson(r): 0.7500, loss: 0.0660, reg_loss: 0.0000 ||:  86%|████████▌ | 155/180 [00:46<00:08,  2.98it/s]\u001b[A\n",
            "pearson(r): 0.7507, loss: 0.0659, reg_loss: 0.0000 ||:  87%|████████▋ | 156/180 [00:46<00:07,  3.18it/s]\u001b[A\n",
            "pearson(r): 0.7508, loss: 0.0659, reg_loss: 0.0000 ||:  87%|████████▋ | 157/180 [00:47<00:06,  3.30it/s]\u001b[A\n",
            "pearson(r): 0.7508, loss: 0.0659, reg_loss: 0.0000 ||:  88%|████████▊ | 158/180 [00:47<00:06,  3.63it/s]\u001b[A\n",
            "pearson(r): 0.7509, loss: 0.0660, reg_loss: 0.0000 ||:  88%|████████▊ | 159/180 [00:47<00:05,  3.55it/s]\u001b[A\n",
            "pearson(r): 0.7517, loss: 0.0659, reg_loss: 0.0000 ||:  89%|████████▉ | 160/180 [00:48<00:06,  3.16it/s]\u001b[A\n",
            "pearson(r): 0.7510, loss: 0.0660, reg_loss: 0.0000 ||:  89%|████████▉ | 161/180 [00:48<00:07,  2.61it/s]\u001b[A\n",
            "pearson(r): 0.7515, loss: 0.0660, reg_loss: 0.0000 ||:  90%|█████████ | 162/180 [00:48<00:06,  2.94it/s]\u001b[A\n",
            "pearson(r): 0.7508, loss: 0.0662, reg_loss: 0.0000 ||:  91%|█████████ | 163/180 [00:49<00:06,  2.83it/s]\u001b[A\n",
            "pearson(r): 0.7506, loss: 0.0664, reg_loss: 0.0000 ||:  91%|█████████ | 164/180 [00:49<00:05,  3.15it/s]\u001b[A\n",
            "pearson(r): 0.7505, loss: 0.0666, reg_loss: 0.0000 ||:  92%|█████████▏| 165/180 [00:50<00:05,  2.63it/s]\u001b[A\n",
            "pearson(r): 0.7500, loss: 0.0666, reg_loss: 0.0000 ||:  92%|█████████▏| 166/180 [00:50<00:04,  2.89it/s]\u001b[A\n",
            "pearson(r): 0.7500, loss: 0.0666, reg_loss: 0.0000 ||:  93%|█████████▎| 167/180 [00:50<00:04,  3.03it/s]\u001b[A\n",
            "pearson(r): 0.7490, loss: 0.0667, reg_loss: 0.0000 ||:  93%|█████████▎| 168/180 [00:50<00:03,  3.22it/s]\u001b[A\n",
            "pearson(r): 0.7490, loss: 0.0668, reg_loss: 0.0000 ||:  94%|█████████▍| 169/180 [00:51<00:02,  3.74it/s]\u001b[A\n",
            "pearson(r): 0.7487, loss: 0.0668, reg_loss: 0.0000 ||:  94%|█████████▍| 170/180 [00:51<00:02,  3.80it/s]\u001b[A\n",
            "pearson(r): 0.7490, loss: 0.0667, reg_loss: 0.0000 ||:  95%|█████████▌| 171/180 [00:51<00:02,  3.77it/s]\u001b[A\n",
            "pearson(r): 0.7493, loss: 0.0667, reg_loss: 0.0000 ||:  96%|█████████▌| 172/180 [00:51<00:02,  3.68it/s]\u001b[A\n",
            "pearson(r): 0.7492, loss: 0.0666, reg_loss: 0.0000 ||:  96%|█████████▌| 173/180 [00:52<00:01,  3.73it/s]\u001b[A\n",
            "pearson(r): 0.7488, loss: 0.0668, reg_loss: 0.0000 ||:  97%|█████████▋| 174/180 [00:52<00:01,  3.74it/s]\u001b[A\n",
            "pearson(r): 0.7486, loss: 0.0668, reg_loss: 0.0000 ||:  97%|█████████▋| 175/180 [00:52<00:01,  2.90it/s]\u001b[A\n",
            "pearson(r): 0.7479, loss: 0.0670, reg_loss: 0.0000 ||:  98%|█████████▊| 176/180 [00:53<00:01,  3.09it/s]\u001b[A\n",
            "pearson(r): 0.7478, loss: 0.0670, reg_loss: 0.0000 ||:  98%|█████████▊| 177/180 [00:53<00:00,  3.01it/s]\u001b[A\n",
            "pearson(r): 0.7482, loss: 0.0670, reg_loss: 0.0000 ||:  99%|█████████▉| 178/180 [00:53<00:00,  3.10it/s]\u001b[A\n",
            "pearson(r): 0.7478, loss: 0.0669, reg_loss: 0.0000 ||:  99%|█████████▉| 179/180 [00:54<00:00,  3.52it/s]\u001b[A\n",
            "pearson(r): 0.7480, loss: 0.0669, reg_loss: 0.0000 ||: 100%|██████████| 180/180 [00:54<00:00,  3.31it/s]\n",
            "\n",
            "  0%|          | 0/180 [00:00<?, ?it/s]\u001b[A\n",
            "pearson(r): 0.6221, loss: 0.0442, reg_loss: 0.0000 ||:   1%|          | 1/180 [00:01<05:01,  1.69s/it]\u001b[A\n",
            "pearson(r): 0.6404, loss: 0.0459, reg_loss: 0.0000 ||:   1%|          | 2/180 [00:03<04:41,  1.58s/it]\u001b[A\n",
            "pearson(r): 0.6175, loss: 0.0449, reg_loss: 0.0000 ||:   2%|▏         | 3/180 [00:04<04:21,  1.48s/it]\u001b[A\n",
            "pearson(r): 0.6147, loss: 0.0492, reg_loss: 0.0000 ||:   2%|▏         | 4/180 [00:07<05:43,  1.95s/it]\u001b[A\n",
            "pearson(r): 0.6606, loss: 0.0473, reg_loss: 0.0000 ||:   3%|▎         | 5/180 [00:09<05:40,  1.95s/it]\u001b[A\n",
            "pearson(r): 0.6770, loss: 0.0482, reg_loss: 0.0000 ||:   3%|▎         | 6/180 [00:10<05:13,  1.80s/it]\u001b[A\n",
            "pearson(r): 0.6853, loss: 0.0477, reg_loss: 0.0000 ||:   4%|▍         | 7/180 [00:11<04:33,  1.58s/it]\u001b[A\n",
            "pearson(r): 0.6863, loss: 0.0481, reg_loss: 0.0000 ||:   4%|▍         | 8/180 [00:13<04:19,  1.51s/it]\u001b[A\n",
            "pearson(r): 0.6915, loss: 0.0479, reg_loss: 0.0000 ||:   5%|▌         | 9/180 [00:14<04:29,  1.58s/it]\u001b[A\n",
            "pearson(r): 0.6981, loss: 0.0475, reg_loss: 0.0000 ||:   6%|▌         | 10/180 [00:16<04:40,  1.65s/it]\u001b[A\n",
            "pearson(r): 0.6952, loss: 0.0473, reg_loss: 0.0000 ||:   6%|▌         | 11/180 [00:18<04:52,  1.73s/it]\u001b[A\n",
            "pearson(r): 0.6917, loss: 0.0474, reg_loss: 0.0000 ||:   7%|▋         | 12/180 [00:20<05:13,  1.86s/it]\u001b[A\n",
            "pearson(r): 0.6958, loss: 0.0466, reg_loss: 0.0000 ||:   7%|▋         | 13/180 [00:22<05:11,  1.87s/it]\u001b[A\n",
            "pearson(r): 0.7111, loss: 0.0458, reg_loss: 0.0000 ||:   8%|▊         | 14/180 [00:24<04:53,  1.77s/it]\u001b[A\n",
            "pearson(r): 0.7162, loss: 0.0449, reg_loss: 0.0000 ||:   8%|▊         | 15/180 [00:25<04:39,  1.70s/it]\u001b[A\n",
            "pearson(r): 0.7196, loss: 0.0446, reg_loss: 0.0000 ||:   9%|▉         | 16/180 [00:27<04:33,  1.67s/it]\u001b[A\n",
            "pearson(r): 0.7143, loss: 0.0450, reg_loss: 0.0000 ||:   9%|▉         | 17/180 [00:30<05:37,  2.07s/it]\u001b[A\n",
            "pearson(r): 0.7204, loss: 0.0443, reg_loss: 0.0000 ||:  10%|█         | 18/180 [00:31<05:07,  1.90s/it]\u001b[A\n",
            "pearson(r): 0.7237, loss: 0.0445, reg_loss: 0.0000 ||:  11%|█         | 19/180 [00:33<04:41,  1.75s/it]\u001b[A\n",
            "pearson(r): 0.7236, loss: 0.0444, reg_loss: 0.0000 ||:  11%|█         | 20/180 [00:34<04:27,  1.67s/it]\u001b[A\n",
            "pearson(r): 0.7237, loss: 0.0436, reg_loss: 0.0000 ||:  12%|█▏        | 21/180 [00:36<04:31,  1.71s/it]\u001b[A\n",
            "pearson(r): 0.7188, loss: 0.0438, reg_loss: 0.0000 ||:  12%|█▏        | 22/180 [00:37<04:15,  1.61s/it]\u001b[A\n",
            "pearson(r): 0.7181, loss: 0.0436, reg_loss: 0.0000 ||:  13%|█▎        | 23/180 [00:39<04:07,  1.57s/it]\u001b[A\n",
            "pearson(r): 0.7176, loss: 0.0435, reg_loss: 0.0000 ||:  13%|█▎        | 24/180 [00:40<04:05,  1.57s/it]\u001b[A\n",
            "pearson(r): 0.7158, loss: 0.0432, reg_loss: 0.0000 ||:  14%|█▍        | 25/180 [00:42<04:03,  1.57s/it]\u001b[A\n",
            "pearson(r): 0.7191, loss: 0.0425, reg_loss: 0.0000 ||:  14%|█▍        | 26/180 [00:43<03:56,  1.54s/it]\u001b[A\n",
            "pearson(r): 0.7218, loss: 0.0422, reg_loss: 0.0000 ||:  15%|█▌        | 27/180 [00:45<03:37,  1.42s/it]\u001b[A\n",
            "pearson(r): 0.7221, loss: 0.0419, reg_loss: 0.0000 ||:  16%|█▌        | 28/180 [00:46<03:47,  1.49s/it]\u001b[A\n",
            "pearson(r): 0.7244, loss: 0.0417, reg_loss: 0.0000 ||:  16%|█▌        | 29/180 [00:48<03:52,  1.54s/it]\u001b[A\n",
            "pearson(r): 0.7184, loss: 0.0427, reg_loss: 0.0000 ||:  17%|█▋        | 30/180 [00:49<03:46,  1.51s/it]\u001b[A\n",
            "pearson(r): 0.7148, loss: 0.0435, reg_loss: 0.0000 ||:  17%|█▋        | 31/180 [00:51<03:49,  1.54s/it]\u001b[A\n",
            "pearson(r): 0.7158, loss: 0.0438, reg_loss: 0.0000 ||:  18%|█▊        | 32/180 [00:53<03:47,  1.54s/it]\u001b[A\n",
            "pearson(r): 0.7187, loss: 0.0435, reg_loss: 0.0000 ||:  18%|█▊        | 33/180 [00:55<04:13,  1.73s/it]\u001b[A\n",
            "pearson(r): 0.7176, loss: 0.0431, reg_loss: 0.0000 ||:  19%|█▉        | 34/180 [00:56<04:05,  1.68s/it]\u001b[A\n",
            "pearson(r): 0.7162, loss: 0.0429, reg_loss: 0.0000 ||:  19%|█▉        | 35/180 [00:58<04:15,  1.76s/it]\u001b[A\n",
            "pearson(r): 0.7157, loss: 0.0433, reg_loss: 0.0000 ||:  20%|██        | 36/180 [01:01<05:08,  2.14s/it]\u001b[A\n",
            "pearson(r): 0.7155, loss: 0.0431, reg_loss: 0.0000 ||:  21%|██        | 37/180 [01:03<04:39,  1.95s/it]\u001b[A\n",
            "pearson(r): 0.7120, loss: 0.0436, reg_loss: 0.0000 ||:  21%|██        | 38/180 [01:06<05:24,  2.28s/it]\u001b[A\n",
            "pearson(r): 0.7137, loss: 0.0435, reg_loss: 0.0000 ||:  22%|██▏       | 39/180 [01:07<04:46,  2.03s/it]\u001b[A\n",
            "pearson(r): 0.7139, loss: 0.0437, reg_loss: 0.0000 ||:  22%|██▏       | 40/180 [01:09<04:25,  1.89s/it]\u001b[A\n",
            "pearson(r): 0.7095, loss: 0.0442, reg_loss: 0.0000 ||:  23%|██▎       | 41/180 [01:11<04:32,  1.96s/it]\u001b[A\n",
            "pearson(r): 0.7095, loss: 0.0440, reg_loss: 0.0000 ||:  23%|██▎       | 42/180 [01:12<04:08,  1.80s/it]\u001b[A\n",
            "pearson(r): 0.7098, loss: 0.0439, reg_loss: 0.0000 ||:  24%|██▍       | 43/180 [01:14<03:54,  1.71s/it]\u001b[A\n",
            "pearson(r): 0.7069, loss: 0.0444, reg_loss: 0.0000 ||:  24%|██▍       | 44/180 [01:15<03:34,  1.58s/it]\u001b[A\n",
            "pearson(r): 0.7031, loss: 0.0450, reg_loss: 0.0000 ||:  25%|██▌       | 45/180 [01:18<04:32,  2.01s/it]\u001b[A\n",
            "pearson(r): 0.7001, loss: 0.0453, reg_loss: 0.0000 ||:  26%|██▌       | 46/180 [01:20<04:21,  1.95s/it]\u001b[A\n",
            "pearson(r): 0.6971, loss: 0.0453, reg_loss: 0.0000 ||:  26%|██▌       | 47/180 [01:21<03:46,  1.70s/it]\u001b[A\n",
            "pearson(r): 0.6963, loss: 0.0452, reg_loss: 0.0000 ||:  27%|██▋       | 48/180 [01:22<03:30,  1.59s/it]\u001b[A\n",
            "pearson(r): 0.6960, loss: 0.0451, reg_loss: 0.0000 ||:  27%|██▋       | 49/180 [01:24<03:20,  1.53s/it]\u001b[A\n",
            "pearson(r): 0.6972, loss: 0.0450, reg_loss: 0.0000 ||:  28%|██▊       | 50/180 [01:25<03:18,  1.52s/it]\u001b[A\n",
            "pearson(r): 0.6980, loss: 0.0449, reg_loss: 0.0000 ||:  28%|██▊       | 51/180 [01:27<03:14,  1.51s/it]\u001b[A\n",
            "pearson(r): 0.6982, loss: 0.0447, reg_loss: 0.0000 ||:  29%|██▉       | 52/180 [01:28<03:09,  1.48s/it]\u001b[A\n",
            "pearson(r): 0.6988, loss: 0.0444, reg_loss: 0.0000 ||:  29%|██▉       | 53/180 [01:29<02:55,  1.38s/it]\u001b[A\n",
            "pearson(r): 0.6983, loss: 0.0447, reg_loss: 0.0000 ||:  30%|███       | 54/180 [01:31<02:46,  1.32s/it]\u001b[A\n",
            "pearson(r): 0.6999, loss: 0.0445, reg_loss: 0.0000 ||:  31%|███       | 55/180 [01:32<02:50,  1.37s/it]\u001b[A\n",
            "pearson(r): 0.7005, loss: 0.0447, reg_loss: 0.0000 ||:  31%|███       | 56/180 [01:33<02:51,  1.38s/it]\u001b[A\n",
            "pearson(r): 0.7023, loss: 0.0446, reg_loss: 0.0000 ||:  32%|███▏      | 57/180 [01:35<02:51,  1.39s/it]\u001b[A\n",
            "pearson(r): 0.7002, loss: 0.0446, reg_loss: 0.0000 ||:  32%|███▏      | 58/180 [01:38<03:49,  1.88s/it]\u001b[A\n",
            "pearson(r): 0.7001, loss: 0.0449, reg_loss: 0.0000 ||:  33%|███▎      | 59/180 [01:39<03:30,  1.74s/it]\u001b[A\n",
            "pearson(r): 0.7020, loss: 0.0451, reg_loss: 0.0000 ||:  33%|███▎      | 60/180 [01:41<03:19,  1.66s/it]\u001b[A\n",
            "pearson(r): 0.7043, loss: 0.0446, reg_loss: 0.0000 ||:  34%|███▍      | 61/180 [01:42<03:16,  1.65s/it]\u001b[A\n",
            "pearson(r): 0.7054, loss: 0.0443, reg_loss: 0.0000 ||:  34%|███▍      | 62/180 [01:44<03:09,  1.61s/it]\u001b[A\n",
            "pearson(r): 0.7073, loss: 0.0441, reg_loss: 0.0000 ||:  35%|███▌      | 63/180 [01:46<03:12,  1.65s/it]\u001b[A\n",
            "pearson(r): 0.7091, loss: 0.0440, reg_loss: 0.0000 ||:  36%|███▌      | 64/180 [01:47<03:04,  1.59s/it]\u001b[A\n",
            "pearson(r): 0.7102, loss: 0.0439, reg_loss: 0.0000 ||:  36%|███▌      | 65/180 [01:49<02:57,  1.54s/it]\u001b[A\n",
            "pearson(r): 0.7123, loss: 0.0437, reg_loss: 0.0000 ||:  37%|███▋      | 66/180 [01:50<02:56,  1.55s/it]\u001b[A\n",
            "pearson(r): 0.7138, loss: 0.0436, reg_loss: 0.0000 ||:  37%|███▋      | 67/180 [01:51<02:49,  1.50s/it]\u001b[A\n",
            "pearson(r): 0.7109, loss: 0.0440, reg_loss: 0.0000 ||:  38%|███▊      | 68/180 [01:53<02:59,  1.60s/it]\u001b[A\n",
            "pearson(r): 0.7118, loss: 0.0439, reg_loss: 0.0000 ||:  38%|███▊      | 69/180 [01:55<02:55,  1.58s/it]\u001b[A\n",
            "pearson(r): 0.7110, loss: 0.0438, reg_loss: 0.0000 ||:  39%|███▉      | 70/180 [01:57<02:57,  1.62s/it]\u001b[A\n",
            "pearson(r): 0.7112, loss: 0.0437, reg_loss: 0.0000 ||:  39%|███▉      | 71/180 [01:58<02:59,  1.65s/it]\u001b[A\n",
            "pearson(r): 0.7124, loss: 0.0435, reg_loss: 0.0000 ||:  40%|████      | 72/180 [02:00<02:52,  1.60s/it]\u001b[A\n",
            "pearson(r): 0.7123, loss: 0.0434, reg_loss: 0.0000 ||:  41%|████      | 73/180 [02:01<02:46,  1.56s/it]\u001b[A\n",
            "pearson(r): 0.7132, loss: 0.0432, reg_loss: 0.0000 ||:  41%|████      | 74/180 [02:03<02:37,  1.49s/it]\u001b[A\n",
            "pearson(r): 0.7123, loss: 0.0434, reg_loss: 0.0000 ||:  42%|████▏     | 75/180 [02:04<02:31,  1.44s/it]\u001b[A\n",
            "pearson(r): 0.7122, loss: 0.0434, reg_loss: 0.0000 ||:  42%|████▏     | 76/180 [02:06<03:04,  1.77s/it]\u001b[A\n",
            "pearson(r): 0.7114, loss: 0.0433, reg_loss: 0.0000 ||:  43%|████▎     | 77/180 [02:08<02:53,  1.68s/it]\u001b[A\n",
            "pearson(r): 0.7091, loss: 0.0434, reg_loss: 0.0000 ||:  43%|████▎     | 78/180 [02:09<02:41,  1.58s/it]\u001b[A\n",
            "pearson(r): 0.7082, loss: 0.0436, reg_loss: 0.0000 ||:  44%|████▍     | 79/180 [02:11<02:42,  1.61s/it]\u001b[A\n",
            "pearson(r): 0.7078, loss: 0.0435, reg_loss: 0.0000 ||:  44%|████▍     | 80/180 [02:12<02:31,  1.52s/it]\u001b[A\n",
            "pearson(r): 0.7093, loss: 0.0433, reg_loss: 0.0000 ||:  45%|████▌     | 81/180 [02:14<02:51,  1.73s/it]\u001b[A\n",
            "pearson(r): 0.7108, loss: 0.0431, reg_loss: 0.0000 ||:  46%|████▌     | 82/180 [02:16<02:37,  1.61s/it]\u001b[A\n",
            "pearson(r): 0.7090, loss: 0.0432, reg_loss: 0.0000 ||:  46%|████▌     | 83/180 [02:17<02:27,  1.52s/it]\u001b[A\n",
            "pearson(r): 0.7084, loss: 0.0433, reg_loss: 0.0000 ||:  47%|████▋     | 84/180 [02:19<02:30,  1.57s/it]\u001b[A\n",
            "pearson(r): 0.7086, loss: 0.0433, reg_loss: 0.0000 ||:  47%|████▋     | 85/180 [02:21<02:35,  1.64s/it]\u001b[A\n",
            "pearson(r): 0.7093, loss: 0.0433, reg_loss: 0.0000 ||:  48%|████▊     | 86/180 [02:22<02:28,  1.58s/it]\u001b[A\n",
            "pearson(r): 0.7109, loss: 0.0431, reg_loss: 0.0000 ||:  48%|████▊     | 87/180 [02:24<02:37,  1.70s/it]\u001b[A\n",
            "pearson(r): 0.7114, loss: 0.0430, reg_loss: 0.0000 ||:  49%|████▉     | 88/180 [02:25<02:28,  1.62s/it]\u001b[A\n",
            "pearson(r): 0.7127, loss: 0.0427, reg_loss: 0.0000 ||:  49%|████▉     | 89/180 [02:27<02:24,  1.58s/it]\u001b[A\n",
            "pearson(r): 0.7129, loss: 0.0425, reg_loss: 0.0000 ||:  50%|█████     | 90/180 [02:28<02:22,  1.58s/it]\u001b[A\n",
            "pearson(r): 0.7141, loss: 0.0425, reg_loss: 0.0000 ||:  51%|█████     | 91/180 [02:30<02:16,  1.53s/it]\u001b[A\n",
            "pearson(r): 0.7156, loss: 0.0424, reg_loss: 0.0000 ||:  51%|█████     | 92/180 [02:31<02:12,  1.50s/it]\u001b[A\n",
            "pearson(r): 0.7151, loss: 0.0423, reg_loss: 0.0000 ||:  52%|█████▏    | 93/180 [02:33<02:08,  1.47s/it]\u001b[A\n",
            "pearson(r): 0.7141, loss: 0.0423, reg_loss: 0.0000 ||:  52%|█████▏    | 94/180 [02:34<02:04,  1.45s/it]\u001b[A\n",
            "pearson(r): 0.7146, loss: 0.0423, reg_loss: 0.0000 ||:  53%|█████▎    | 95/180 [02:36<02:08,  1.51s/it]\u001b[A\n",
            "pearson(r): 0.7140, loss: 0.0424, reg_loss: 0.0000 ||:  53%|█████▎    | 96/180 [02:38<02:24,  1.73s/it]\u001b[A\n",
            "pearson(r): 0.7123, loss: 0.0427, reg_loss: 0.0000 ||:  54%|█████▍    | 97/180 [02:40<02:18,  1.67s/it]\u001b[A\n",
            "pearson(r): 0.7125, loss: 0.0427, reg_loss: 0.0000 ||:  54%|█████▍    | 98/180 [02:41<02:14,  1.64s/it]\u001b[A\n",
            "pearson(r): 0.7115, loss: 0.0428, reg_loss: 0.0000 ||:  55%|█████▌    | 99/180 [02:43<02:14,  1.65s/it]\u001b[A\n",
            "pearson(r): 0.7111, loss: 0.0429, reg_loss: 0.0000 ||:  56%|█████▌    | 100/180 [02:46<02:42,  2.03s/it]\u001b[A\n",
            "pearson(r): 0.7111, loss: 0.0429, reg_loss: 0.0000 ||:  56%|█████▌    | 101/180 [02:47<02:19,  1.76s/it]\u001b[A\n",
            "pearson(r): 0.7114, loss: 0.0428, reg_loss: 0.0000 ||:  57%|█████▋    | 102/180 [02:48<02:10,  1.67s/it]\u001b[A\n",
            "pearson(r): 0.7114, loss: 0.0428, reg_loss: 0.0000 ||:  57%|█████▋    | 103/180 [02:50<02:19,  1.81s/it]\u001b[A\n",
            "pearson(r): 0.7110, loss: 0.0428, reg_loss: 0.0000 ||:  58%|█████▊    | 104/180 [02:52<02:10,  1.72s/it]\u001b[A\n",
            "pearson(r): 0.7104, loss: 0.0428, reg_loss: 0.0000 ||:  58%|█████▊    | 105/180 [02:55<02:37,  2.10s/it]\u001b[A\n",
            "pearson(r): 0.7090, loss: 0.0430, reg_loss: 0.0000 ||:  59%|█████▉    | 106/180 [02:56<02:14,  1.82s/it]\u001b[A\n",
            "pearson(r): 0.7094, loss: 0.0431, reg_loss: 0.0000 ||:  59%|█████▉    | 107/180 [02:58<02:17,  1.88s/it]\u001b[A\n",
            "pearson(r): 0.7089, loss: 0.0431, reg_loss: 0.0000 ||:  60%|██████    | 108/180 [03:00<02:08,  1.79s/it]\u001b[A\n",
            "pearson(r): 0.7080, loss: 0.0431, reg_loss: 0.0000 ||:  61%|██████    | 109/180 [03:02<02:11,  1.86s/it]\u001b[A\n",
            "pearson(r): 0.7087, loss: 0.0431, reg_loss: 0.0000 ||:  61%|██████    | 110/180 [03:03<02:04,  1.78s/it]\u001b[A\n",
            "pearson(r): 0.7089, loss: 0.0432, reg_loss: 0.0000 ||:  62%|██████▏   | 111/180 [03:05<01:54,  1.66s/it]\u001b[A\n",
            "pearson(r): 0.7092, loss: 0.0432, reg_loss: 0.0000 ||:  62%|██████▏   | 112/180 [03:06<01:47,  1.58s/it]\u001b[A\n",
            "pearson(r): 0.7091, loss: 0.0432, reg_loss: 0.0000 ||:  63%|██████▎   | 113/180 [03:08<01:44,  1.56s/it]\u001b[A\n",
            "pearson(r): 0.7085, loss: 0.0433, reg_loss: 0.0000 ||:  63%|██████▎   | 114/180 [03:11<02:11,  1.99s/it]\u001b[A\n",
            "pearson(r): 0.7084, loss: 0.0433, reg_loss: 0.0000 ||:  64%|██████▍   | 115/180 [03:12<02:02,  1.88s/it]\u001b[A\n",
            "pearson(r): 0.7077, loss: 0.0433, reg_loss: 0.0000 ||:  64%|██████▍   | 116/180 [03:14<01:51,  1.74s/it]\u001b[A\n",
            "pearson(r): 0.7063, loss: 0.0435, reg_loss: 0.0000 ||:  65%|██████▌   | 117/180 [03:15<01:40,  1.59s/it]\u001b[A\n",
            "pearson(r): 0.7064, loss: 0.0435, reg_loss: 0.0000 ||:  66%|██████▌   | 118/180 [03:17<01:42,  1.66s/it]\u001b[A\n",
            "pearson(r): 0.7078, loss: 0.0434, reg_loss: 0.0000 ||:  66%|██████▌   | 119/180 [03:18<01:37,  1.60s/it]\u001b[A\n",
            "pearson(r): 0.7066, loss: 0.0435, reg_loss: 0.0000 ||:  67%|██████▋   | 120/180 [03:19<01:29,  1.50s/it]\u001b[A\n",
            "pearson(r): 0.7065, loss: 0.0434, reg_loss: 0.0000 ||:  67%|██████▋   | 121/180 [03:22<01:55,  1.96s/it]\u001b[A\n",
            "pearson(r): 0.7052, loss: 0.0434, reg_loss: 0.0000 ||:  68%|██████▊   | 122/180 [03:24<01:46,  1.83s/it]\u001b[A\n",
            "pearson(r): 0.7059, loss: 0.0434, reg_loss: 0.0000 ||:  68%|██████▊   | 123/180 [03:26<01:41,  1.77s/it]\u001b[A\n",
            "pearson(r): 0.7069, loss: 0.0432, reg_loss: 0.0000 ||:  69%|██████▉   | 124/180 [03:27<01:33,  1.66s/it]\u001b[A\n",
            "pearson(r): 0.7077, loss: 0.0431, reg_loss: 0.0000 ||:  69%|██████▉   | 125/180 [03:28<01:25,  1.56s/it]\u001b[A\n",
            "pearson(r): 0.7077, loss: 0.0430, reg_loss: 0.0000 ||:  70%|███████   | 126/180 [03:30<01:18,  1.45s/it]\u001b[A\n",
            "pearson(r): 0.7074, loss: 0.0430, reg_loss: 0.0000 ||:  71%|███████   | 127/180 [03:31<01:16,  1.44s/it]\u001b[A\n",
            "pearson(r): 0.7071, loss: 0.0431, reg_loss: 0.0000 ||:  71%|███████   | 128/180 [03:32<01:15,  1.45s/it]\u001b[A\n",
            "pearson(r): 0.7068, loss: 0.0430, reg_loss: 0.0000 ||:  72%|███████▏  | 129/180 [03:34<01:15,  1.48s/it]\u001b[A\n",
            "pearson(r): 0.7056, loss: 0.0432, reg_loss: 0.0000 ||:  72%|███████▏  | 130/180 [03:35<01:11,  1.43s/it]\u001b[A\n",
            "pearson(r): 0.7067, loss: 0.0430, reg_loss: 0.0000 ||:  73%|███████▎  | 131/180 [03:37<01:07,  1.37s/it]\u001b[A\n",
            "pearson(r): 0.7076, loss: 0.0428, reg_loss: 0.0000 ||:  73%|███████▎  | 132/180 [03:39<01:17,  1.61s/it]\u001b[A\n",
            "pearson(r): 0.7079, loss: 0.0428, reg_loss: 0.0000 ||:  74%|███████▍  | 133/180 [03:40<01:11,  1.53s/it]\u001b[A\n",
            "pearson(r): 0.7089, loss: 0.0427, reg_loss: 0.0000 ||:  74%|███████▍  | 134/180 [03:42<01:11,  1.55s/it]\u001b[A\n",
            "pearson(r): 0.7089, loss: 0.0427, reg_loss: 0.0000 ||:  75%|███████▌  | 135/180 [03:43<01:12,  1.60s/it]\u001b[A\n",
            "pearson(r): 0.7088, loss: 0.0426, reg_loss: 0.0000 ||:  76%|███████▌  | 136/180 [03:45<01:12,  1.65s/it]\u001b[A\n",
            "pearson(r): 0.7085, loss: 0.0426, reg_loss: 0.0000 ||:  76%|███████▌  | 137/180 [03:47<01:12,  1.68s/it]\u001b[A\n",
            "pearson(r): 0.7090, loss: 0.0425, reg_loss: 0.0000 ||:  77%|███████▋  | 138/180 [03:49<01:11,  1.70s/it]\u001b[A\n",
            "pearson(r): 0.7096, loss: 0.0424, reg_loss: 0.0000 ||:  77%|███████▋  | 139/180 [03:52<01:26,  2.11s/it]\u001b[A\n",
            "pearson(r): 0.7098, loss: 0.0425, reg_loss: 0.0000 ||:  78%|███████▊  | 140/180 [03:53<01:16,  1.91s/it]\u001b[A\n",
            "pearson(r): 0.7100, loss: 0.0424, reg_loss: 0.0000 ||:  78%|███████▊  | 141/180 [03:55<01:10,  1.80s/it]\u001b[A\n",
            "pearson(r): 0.7103, loss: 0.0425, reg_loss: 0.0000 ||:  79%|███████▉  | 142/180 [03:56<01:05,  1.71s/it]\u001b[A\n",
            "pearson(r): 0.7109, loss: 0.0424, reg_loss: 0.0000 ||:  79%|███████▉  | 143/180 [03:57<00:54,  1.48s/it]\u001b[A\n",
            "pearson(r): 0.7104, loss: 0.0424, reg_loss: 0.0000 ||:  80%|████████  | 144/180 [03:59<00:53,  1.49s/it]\u001b[A\n",
            "pearson(r): 0.7104, loss: 0.0424, reg_loss: 0.0000 ||:  81%|████████  | 145/180 [04:00<00:49,  1.42s/it]\u001b[A\n",
            "pearson(r): 0.7089, loss: 0.0425, reg_loss: 0.0000 ||:  81%|████████  | 146/180 [04:02<00:55,  1.63s/it]\u001b[A\n",
            "pearson(r): 0.7075, loss: 0.0426, reg_loss: 0.0000 ||:  82%|████████▏ | 147/180 [04:03<00:51,  1.55s/it]\u001b[A\n",
            "pearson(r): 0.7069, loss: 0.0427, reg_loss: 0.0000 ||:  82%|████████▏ | 148/180 [04:05<00:53,  1.67s/it]\u001b[A\n",
            "pearson(r): 0.7077, loss: 0.0427, reg_loss: 0.0000 ||:  83%|████████▎ | 149/180 [04:06<00:46,  1.49s/it]\u001b[A\n",
            "pearson(r): 0.7069, loss: 0.0426, reg_loss: 0.0000 ||:  83%|████████▎ | 150/180 [04:08<00:46,  1.55s/it]\u001b[A\n",
            "pearson(r): 0.7067, loss: 0.0427, reg_loss: 0.0000 ||:  84%|████████▍ | 151/180 [04:10<00:43,  1.52s/it]\u001b[A\n",
            "pearson(r): 0.7062, loss: 0.0426, reg_loss: 0.0000 ||:  84%|████████▍ | 152/180 [04:11<00:41,  1.50s/it]\u001b[A\n",
            "pearson(r): 0.7049, loss: 0.0429, reg_loss: 0.0000 ||:  85%|████████▌ | 153/180 [04:14<00:52,  1.95s/it]\u001b[A\n",
            "pearson(r): 0.7042, loss: 0.0429, reg_loss: 0.0000 ||:  86%|████████▌ | 154/180 [04:16<00:47,  1.84s/it]\u001b[A\n",
            "pearson(r): 0.7037, loss: 0.0431, reg_loss: 0.0000 ||:  86%|████████▌ | 155/180 [04:17<00:43,  1.75s/it]\u001b[A\n",
            "pearson(r): 0.7036, loss: 0.0431, reg_loss: 0.0000 ||:  87%|████████▋ | 156/180 [04:19<00:40,  1.70s/it]\u001b[A\n",
            "pearson(r): 0.7030, loss: 0.0433, reg_loss: 0.0000 ||:  87%|████████▋ | 157/180 [04:20<00:35,  1.56s/it]\u001b[A\n",
            "pearson(r): 0.7031, loss: 0.0432, reg_loss: 0.0000 ||:  88%|████████▊ | 158/180 [04:21<00:33,  1.51s/it]\u001b[A\n",
            "pearson(r): 0.7033, loss: 0.0432, reg_loss: 0.0000 ||:  88%|████████▊ | 159/180 [04:24<00:36,  1.73s/it]\u001b[A\n",
            "pearson(r): 0.7035, loss: 0.0432, reg_loss: 0.0000 ||:  89%|████████▉ | 160/180 [04:26<00:37,  1.88s/it]\u001b[A\n",
            "pearson(r): 0.7036, loss: 0.0433, reg_loss: 0.0000 ||:  89%|████████▉ | 161/180 [04:28<00:38,  2.00s/it]\u001b[A\n",
            "pearson(r): 0.7041, loss: 0.0433, reg_loss: 0.0000 ||:  90%|█████████ | 162/180 [04:30<00:37,  2.08s/it]\u001b[A\n",
            "pearson(r): 0.7044, loss: 0.0433, reg_loss: 0.0000 ||:  91%|█████████ | 163/180 [04:32<00:32,  1.90s/it]\u001b[A\n",
            "pearson(r): 0.7054, loss: 0.0432, reg_loss: 0.0000 ||:  91%|█████████ | 164/180 [04:33<00:28,  1.76s/it]\u001b[A\n",
            "pearson(r): 0.7056, loss: 0.0431, reg_loss: 0.0000 ||:  92%|█████████▏| 165/180 [04:35<00:26,  1.76s/it]\u001b[A\n",
            "pearson(r): 0.7064, loss: 0.0431, reg_loss: 0.0000 ||:  92%|█████████▏| 166/180 [04:36<00:22,  1.60s/it]\u001b[A\n",
            "pearson(r): 0.7062, loss: 0.0432, reg_loss: 0.0000 ||:  93%|█████████▎| 167/180 [04:38<00:20,  1.57s/it]\u001b[A\n",
            "pearson(r): 0.7068, loss: 0.0431, reg_loss: 0.0000 ||:  93%|█████████▎| 168/180 [04:39<00:19,  1.62s/it]\u001b[A\n",
            "pearson(r): 0.7072, loss: 0.0430, reg_loss: 0.0000 ||:  94%|█████████▍| 169/180 [04:41<00:16,  1.52s/it]\u001b[A\n",
            "pearson(r): 0.7077, loss: 0.0429, reg_loss: 0.0000 ||:  94%|█████████▍| 170/180 [04:42<00:14,  1.50s/it]\u001b[A\n",
            "pearson(r): 0.7083, loss: 0.0429, reg_loss: 0.0000 ||:  95%|█████████▌| 171/180 [04:44<00:12,  1.44s/it]\u001b[A\n",
            "pearson(r): 0.7076, loss: 0.0429, reg_loss: 0.0000 ||:  96%|█████████▌| 172/180 [04:45<00:11,  1.42s/it]\u001b[A\n",
            "pearson(r): 0.7081, loss: 0.0429, reg_loss: 0.0000 ||:  96%|█████████▌| 173/180 [04:46<00:09,  1.41s/it]\u001b[A\n",
            "pearson(r): 0.7071, loss: 0.0430, reg_loss: 0.0000 ||:  97%|█████████▋| 174/180 [04:48<00:08,  1.37s/it]\u001b[A\n",
            "pearson(r): 0.7068, loss: 0.0430, reg_loss: 0.0000 ||:  97%|█████████▋| 175/180 [04:49<00:06,  1.36s/it]\u001b[A\n",
            "pearson(r): 0.7065, loss: 0.0430, reg_loss: 0.0000 ||:  98%|█████████▊| 176/180 [04:51<00:05,  1.48s/it]\u001b[A\n",
            "pearson(r): 0.7064, loss: 0.0430, reg_loss: 0.0000 ||:  98%|█████████▊| 177/180 [04:54<00:05,  1.94s/it]\u001b[A\n",
            "pearson(r): 0.7069, loss: 0.0429, reg_loss: 0.0000 ||:  99%|█████████▉| 178/180 [04:55<00:03,  1.78s/it]\u001b[A\n",
            "pearson(r): 0.7074, loss: 0.0429, reg_loss: 0.0000 ||:  99%|█████████▉| 179/180 [04:57<00:01,  1.93s/it]\u001b[A\n",
            "pearson(r): 0.7075, loss: 0.0429, reg_loss: 0.0000 ||: 100%|██████████| 180/180 [04:59<00:00,  1.66s/it]\n",
            "\n",
            "  0%|          | 0/180 [00:00<?, ?it/s]\u001b[A\n",
            "pearson(r): 0.5298, loss: 0.0402, reg_loss: 0.0000 ||:   1%|          | 1/180 [00:00<00:54,  3.31it/s]\u001b[A\n",
            "pearson(r): 0.8414, loss: 0.0423, reg_loss: 0.0000 ||:   1%|          | 2/180 [00:00<00:52,  3.39it/s]\u001b[A\n",
            "pearson(r): 0.8090, loss: 0.0455, reg_loss: 0.0000 ||:   2%|▏         | 3/180 [00:01<00:59,  2.99it/s]\u001b[A\n",
            "pearson(r): 0.7921, loss: 0.0502, reg_loss: 0.0000 ||:   2%|▏         | 4/180 [00:01<00:55,  3.19it/s]\u001b[A\n",
            "pearson(r): 0.8009, loss: 0.0488, reg_loss: 0.0000 ||:   3%|▎         | 5/180 [00:01<00:52,  3.34it/s]\u001b[A\n",
            "pearson(r): 0.7959, loss: 0.0491, reg_loss: 0.0000 ||:   3%|▎         | 6/180 [00:01<00:49,  3.53it/s]\u001b[A\n",
            "pearson(r): 0.7994, loss: 0.0487, reg_loss: 0.0000 ||:   4%|▍         | 7/180 [00:02<00:47,  3.61it/s]\u001b[A\n",
            "pearson(r): 0.7911, loss: 0.0503, reg_loss: 0.0000 ||:   4%|▍         | 8/180 [00:02<00:46,  3.72it/s]\u001b[A\n",
            "pearson(r): 0.7960, loss: 0.0505, reg_loss: 0.0000 ||:   5%|▌         | 9/180 [00:02<00:51,  3.34it/s]\u001b[A\n",
            "pearson(r): 0.7973, loss: 0.0520, reg_loss: 0.0000 ||:   6%|▌         | 10/180 [00:03<00:54,  3.14it/s]\u001b[A\n",
            "pearson(r): 0.7891, loss: 0.0534, reg_loss: 0.0000 ||:   6%|▌         | 11/180 [00:03<00:50,  3.36it/s]\u001b[A\n",
            "pearson(r): 0.7913, loss: 0.0535, reg_loss: 0.0000 ||:   7%|▋         | 12/180 [00:03<00:48,  3.44it/s]\u001b[A\n",
            "pearson(r): 0.7966, loss: 0.0539, reg_loss: 0.0000 ||:   7%|▋         | 13/180 [00:03<00:49,  3.38it/s]\u001b[A\n",
            "pearson(r): 0.7954, loss: 0.0536, reg_loss: 0.0000 ||:   8%|▊         | 14/180 [00:04<00:48,  3.45it/s]\u001b[A\n",
            "pearson(r): 0.7893, loss: 0.0534, reg_loss: 0.0000 ||:   8%|▊         | 15/180 [00:04<00:47,  3.47it/s]\u001b[A\n",
            "pearson(r): 0.7940, loss: 0.0533, reg_loss: 0.0000 ||:   9%|▉         | 16/180 [00:04<00:59,  2.77it/s]\u001b[A\n",
            "pearson(r): 0.7913, loss: 0.0530, reg_loss: 0.0000 ||:   9%|▉         | 17/180 [00:05<00:54,  2.98it/s]\u001b[A\n",
            "pearson(r): 0.7829, loss: 0.0537, reg_loss: 0.0000 ||:  10%|█         | 18/180 [00:05<00:51,  3.14it/s]\u001b[A\n",
            "pearson(r): 0.7806, loss: 0.0537, reg_loss: 0.0000 ||:  11%|█         | 19/180 [00:05<00:51,  3.14it/s]\u001b[A\n",
            "pearson(r): 0.7821, loss: 0.0535, reg_loss: 0.0000 ||:  11%|█         | 20/180 [00:06<00:48,  3.30it/s]\u001b[A\n",
            "pearson(r): 0.7863, loss: 0.0529, reg_loss: 0.0000 ||:  12%|█▏        | 21/180 [00:06<00:47,  3.34it/s]\u001b[A\n",
            "pearson(r): 0.7836, loss: 0.0527, reg_loss: 0.0000 ||:  12%|█▏        | 22/180 [00:06<00:46,  3.41it/s]\u001b[A\n",
            "pearson(r): 0.7856, loss: 0.0520, reg_loss: 0.0000 ||:  13%|█▎        | 23/180 [00:06<00:45,  3.44it/s]\u001b[A\n",
            "pearson(r): 0.7844, loss: 0.0517, reg_loss: 0.0000 ||:  13%|█▎        | 24/180 [00:07<00:41,  3.77it/s]\u001b[A\n",
            "pearson(r): 0.7826, loss: 0.0522, reg_loss: 0.0000 ||:  14%|█▍        | 25/180 [00:07<00:46,  3.30it/s]\u001b[A\n",
            "pearson(r): 0.7827, loss: 0.0521, reg_loss: 0.0000 ||:  14%|█▍        | 26/180 [00:07<00:44,  3.47it/s]\u001b[A\n",
            "pearson(r): 0.7830, loss: 0.0519, reg_loss: 0.0000 ||:  15%|█▌        | 27/180 [00:08<00:42,  3.57it/s]\u001b[A\n",
            "pearson(r): 0.7802, loss: 0.0529, reg_loss: 0.0000 ||:  16%|█▌        | 28/180 [00:08<00:44,  3.44it/s]\u001b[A\n",
            "pearson(r): 0.7794, loss: 0.0534, reg_loss: 0.0000 ||:  16%|█▌        | 29/180 [00:08<00:44,  3.42it/s]\u001b[A\n",
            "pearson(r): 0.7842, loss: 0.0527, reg_loss: 0.0000 ||:  17%|█▋        | 30/180 [00:08<00:44,  3.39it/s]\u001b[A\n",
            "pearson(r): 0.7831, loss: 0.0534, reg_loss: 0.0000 ||:  17%|█▋        | 31/180 [00:09<00:43,  3.45it/s]\u001b[A\n",
            "pearson(r): 0.7839, loss: 0.0534, reg_loss: 0.0000 ||:  18%|█▊        | 32/180 [00:09<00:44,  3.34it/s]\u001b[A\n",
            "pearson(r): 0.7827, loss: 0.0532, reg_loss: 0.0000 ||:  18%|█▊        | 33/180 [00:09<00:43,  3.35it/s]\u001b[A\n",
            "pearson(r): 0.7801, loss: 0.0536, reg_loss: 0.0000 ||:  19%|█▉        | 34/180 [00:10<00:39,  3.74it/s]\u001b[A\n",
            "pearson(r): 0.7802, loss: 0.0536, reg_loss: 0.0000 ||:  19%|█▉        | 35/180 [00:10<00:50,  2.90it/s]\u001b[A\n",
            "pearson(r): 0.7792, loss: 0.0535, reg_loss: 0.0000 ||:  20%|██        | 36/180 [00:10<00:52,  2.76it/s]\u001b[A\n",
            "pearson(r): 0.7781, loss: 0.0542, reg_loss: 0.0000 ||:  21%|██        | 37/180 [00:11<00:44,  3.19it/s]\u001b[A\n",
            "pearson(r): 0.7758, loss: 0.0541, reg_loss: 0.0000 ||:  21%|██        | 38/180 [00:11<00:48,  2.91it/s]\u001b[A\n",
            "pearson(r): 0.7741, loss: 0.0547, reg_loss: 0.0000 ||:  22%|██▏       | 39/180 [00:11<00:43,  3.27it/s]\u001b[A\n",
            "pearson(r): 0.7747, loss: 0.0544, reg_loss: 0.0000 ||:  22%|██▏       | 40/180 [00:12<00:41,  3.37it/s]\u001b[A\n",
            "pearson(r): 0.7756, loss: 0.0541, reg_loss: 0.0000 ||:  23%|██▎       | 41/180 [00:12<00:36,  3.79it/s]\u001b[A\n",
            "pearson(r): 0.7754, loss: 0.0538, reg_loss: 0.0000 ||:  23%|██▎       | 42/180 [00:12<00:36,  3.77it/s]\u001b[A\n",
            "pearson(r): 0.7767, loss: 0.0537, reg_loss: 0.0000 ||:  24%|██▍       | 43/180 [00:12<00:35,  3.82it/s]\u001b[A\n",
            "pearson(r): 0.7779, loss: 0.0531, reg_loss: 0.0000 ||:  24%|██▍       | 44/180 [00:13<00:36,  3.73it/s]\u001b[A\n",
            "pearson(r): 0.7767, loss: 0.0535, reg_loss: 0.0000 ||:  25%|██▌       | 45/180 [00:13<00:38,  3.54it/s]\u001b[A\n",
            "pearson(r): 0.7754, loss: 0.0540, reg_loss: 0.0000 ||:  26%|██▌       | 46/180 [00:13<00:40,  3.34it/s]\u001b[A\n",
            "pearson(r): 0.7757, loss: 0.0541, reg_loss: 0.0000 ||:  26%|██▌       | 47/180 [00:13<00:36,  3.60it/s]\u001b[A\n",
            "pearson(r): 0.7763, loss: 0.0540, reg_loss: 0.0000 ||:  27%|██▋       | 48/180 [00:14<00:38,  3.41it/s]\u001b[A\n",
            "pearson(r): 0.7770, loss: 0.0542, reg_loss: 0.0000 ||:  27%|██▋       | 49/180 [00:14<00:36,  3.61it/s]\u001b[A\n",
            "pearson(r): 0.7758, loss: 0.0543, reg_loss: 0.0000 ||:  28%|██▊       | 50/180 [00:14<00:38,  3.39it/s]\u001b[A\n",
            "pearson(r): 0.7757, loss: 0.0540, reg_loss: 0.0000 ||:  28%|██▊       | 51/180 [00:15<00:36,  3.52it/s]\u001b[A\n",
            "pearson(r): 0.7763, loss: 0.0537, reg_loss: 0.0000 ||:  29%|██▉       | 52/180 [00:15<00:35,  3.56it/s]\u001b[A\n",
            "pearson(r): 0.7761, loss: 0.0535, reg_loss: 0.0000 ||:  29%|██▉       | 53/180 [00:15<00:35,  3.54it/s]\u001b[A\n",
            "pearson(r): 0.7765, loss: 0.0537, reg_loss: 0.0000 ||:  30%|███       | 54/180 [00:15<00:36,  3.47it/s]\u001b[A\n",
            "pearson(r): 0.7767, loss: 0.0534, reg_loss: 0.0000 ||:  31%|███       | 55/180 [00:16<00:39,  3.19it/s]\u001b[A\n",
            "pearson(r): 0.7761, loss: 0.0536, reg_loss: 0.0000 ||:  31%|███       | 56/180 [00:16<00:36,  3.36it/s]\u001b[A\n",
            "pearson(r): 0.7736, loss: 0.0537, reg_loss: 0.0000 ||:  32%|███▏      | 57/180 [00:17<00:40,  3.07it/s]\u001b[A\n",
            "pearson(r): 0.7727, loss: 0.0537, reg_loss: 0.0000 ||:  32%|███▏      | 58/180 [00:17<00:47,  2.57it/s]\u001b[A\n",
            "pearson(r): 0.7739, loss: 0.0535, reg_loss: 0.0000 ||:  33%|███▎      | 59/180 [00:17<00:41,  2.89it/s]\u001b[A\n",
            "pearson(r): 0.7732, loss: 0.0536, reg_loss: 0.0000 ||:  33%|███▎      | 60/180 [00:18<00:38,  3.14it/s]\u001b[A\n",
            "pearson(r): 0.7724, loss: 0.0535, reg_loss: 0.0000 ||:  34%|███▍      | 61/180 [00:18<00:36,  3.27it/s]\u001b[A\n",
            "pearson(r): 0.7741, loss: 0.0533, reg_loss: 0.0000 ||:  34%|███▍      | 62/180 [00:18<00:32,  3.58it/s]\u001b[A\n",
            "pearson(r): 0.7753, loss: 0.0530, reg_loss: 0.0000 ||:  35%|███▌      | 63/180 [00:18<00:32,  3.59it/s]\u001b[A\n",
            "pearson(r): 0.7762, loss: 0.0528, reg_loss: 0.0000 ||:  36%|███▌      | 64/180 [00:19<00:34,  3.33it/s]\u001b[A\n",
            "pearson(r): 0.7775, loss: 0.0527, reg_loss: 0.0000 ||:  36%|███▌      | 65/180 [00:19<00:33,  3.47it/s]\u001b[A\n",
            "pearson(r): 0.7774, loss: 0.0530, reg_loss: 0.0000 ||:  37%|███▋      | 66/180 [00:19<00:32,  3.53it/s]\u001b[A\n",
            "pearson(r): 0.7761, loss: 0.0533, reg_loss: 0.0000 ||:  37%|███▋      | 67/180 [00:19<00:32,  3.52it/s]\u001b[A\n",
            "pearson(r): 0.7762, loss: 0.0535, reg_loss: 0.0000 ||:  38%|███▊      | 68/180 [00:20<00:31,  3.55it/s]\u001b[A\n",
            "pearson(r): 0.7760, loss: 0.0536, reg_loss: 0.0000 ||:  38%|███▊      | 69/180 [00:20<00:30,  3.64it/s]\u001b[A\n",
            "pearson(r): 0.7741, loss: 0.0540, reg_loss: 0.0000 ||:  39%|███▉      | 70/180 [00:20<00:29,  3.75it/s]\u001b[A\n",
            "pearson(r): 0.7738, loss: 0.0540, reg_loss: 0.0000 ||:  39%|███▉      | 71/180 [00:21<00:30,  3.63it/s]\u001b[A\n",
            "pearson(r): 0.7745, loss: 0.0540, reg_loss: 0.0000 ||:  40%|████      | 72/180 [00:21<00:29,  3.69it/s]\u001b[A\n",
            "pearson(r): 0.7751, loss: 0.0539, reg_loss: 0.0000 ||:  41%|████      | 73/180 [00:21<00:28,  3.76it/s]\u001b[A\n",
            "pearson(r): 0.7763, loss: 0.0539, reg_loss: 0.0000 ||:  41%|████      | 74/180 [00:21<00:27,  3.85it/s]\u001b[A\n",
            "pearson(r): 0.7759, loss: 0.0537, reg_loss: 0.0000 ||:  42%|████▏     | 75/180 [00:22<00:28,  3.71it/s]\u001b[A\n",
            "pearson(r): 0.7759, loss: 0.0537, reg_loss: 0.0000 ||:  42%|████▏     | 76/180 [00:22<00:27,  3.84it/s]\u001b[A\n",
            "pearson(r): 0.7763, loss: 0.0537, reg_loss: 0.0000 ||:  43%|████▎     | 77/180 [00:22<00:29,  3.48it/s]\u001b[A\n",
            "pearson(r): 0.7768, loss: 0.0537, reg_loss: 0.0000 ||:  43%|████▎     | 78/180 [00:22<00:28,  3.63it/s]\u001b[A\n",
            "pearson(r): 0.7754, loss: 0.0542, reg_loss: 0.0000 ||:  44%|████▍     | 79/180 [00:23<00:26,  3.81it/s]\u001b[A\n",
            "pearson(r): 0.7761, loss: 0.0540, reg_loss: 0.0000 ||:  44%|████▍     | 80/180 [00:23<00:26,  3.83it/s]\u001b[A\n",
            "pearson(r): 0.7738, loss: 0.0545, reg_loss: 0.0000 ||:  45%|████▌     | 81/180 [00:23<00:33,  2.93it/s]\u001b[A\n",
            "pearson(r): 0.7737, loss: 0.0544, reg_loss: 0.0000 ||:  46%|████▌     | 82/180 [00:24<00:31,  3.16it/s]\u001b[A\n",
            "pearson(r): 0.7721, loss: 0.0546, reg_loss: 0.0000 ||:  46%|████▌     | 83/180 [00:24<00:32,  3.01it/s]\u001b[A\n",
            "pearson(r): 0.7731, loss: 0.0544, reg_loss: 0.0000 ||:  47%|████▋     | 84/180 [00:24<00:31,  3.07it/s]\u001b[A\n",
            "pearson(r): 0.7733, loss: 0.0544, reg_loss: 0.0000 ||:  47%|████▋     | 85/180 [00:25<00:30,  3.13it/s]\u001b[A\n",
            "pearson(r): 0.7730, loss: 0.0545, reg_loss: 0.0000 ||:  48%|████▊     | 86/180 [00:25<00:28,  3.36it/s]\u001b[A\n",
            "pearson(r): 0.7734, loss: 0.0543, reg_loss: 0.0000 ||:  48%|████▊     | 87/180 [00:25<00:29,  3.18it/s]\u001b[A\n",
            "pearson(r): 0.7718, loss: 0.0545, reg_loss: 0.0000 ||:  49%|████▉     | 88/180 [00:26<00:28,  3.20it/s]\u001b[A\n",
            "pearson(r): 0.7711, loss: 0.0546, reg_loss: 0.0000 ||:  49%|████▉     | 89/180 [00:26<00:28,  3.21it/s]\u001b[A\n",
            "pearson(r): 0.7702, loss: 0.0549, reg_loss: 0.0000 ||:  50%|█████     | 90/180 [00:26<00:24,  3.61it/s]\u001b[A\n",
            "pearson(r): 0.7696, loss: 0.0551, reg_loss: 0.0000 ||:  51%|█████     | 91/180 [00:26<00:23,  3.78it/s]\u001b[A\n",
            "pearson(r): 0.7701, loss: 0.0549, reg_loss: 0.0000 ||:  51%|█████     | 92/180 [00:27<00:23,  3.75it/s]\u001b[A\n",
            "pearson(r): 0.7704, loss: 0.0549, reg_loss: 0.0000 ||:  52%|█████▏    | 93/180 [00:27<00:23,  3.66it/s]\u001b[A\n",
            "pearson(r): 0.7697, loss: 0.0549, reg_loss: 0.0000 ||:  52%|█████▏    | 94/180 [00:27<00:24,  3.56it/s]\u001b[A\n",
            "pearson(r): 0.7705, loss: 0.0548, reg_loss: 0.0000 ||:  53%|█████▎    | 95/180 [00:28<00:23,  3.61it/s]\u001b[A\n",
            "pearson(r): 0.7709, loss: 0.0547, reg_loss: 0.0000 ||:  53%|█████▎    | 96/180 [00:28<00:21,  3.82it/s]\u001b[A\n",
            "pearson(r): 0.7697, loss: 0.0549, reg_loss: 0.0000 ||:  54%|█████▍    | 97/180 [00:28<00:21,  3.83it/s]\u001b[A\n",
            "pearson(r): 0.7686, loss: 0.0549, reg_loss: 0.0000 ||:  54%|█████▍    | 98/180 [00:28<00:25,  3.28it/s]\u001b[A\n",
            "pearson(r): 0.7690, loss: 0.0550, reg_loss: 0.0000 ||:  55%|█████▌    | 99/180 [00:29<00:24,  3.37it/s]\u001b[A\n",
            "pearson(r): 0.7692, loss: 0.0550, reg_loss: 0.0000 ||:  56%|█████▌    | 100/180 [00:29<00:22,  3.51it/s]\u001b[A\n",
            "pearson(r): 0.7700, loss: 0.0549, reg_loss: 0.0000 ||:  56%|█████▌    | 101/180 [00:29<00:25,  3.11it/s]\u001b[A\n",
            "pearson(r): 0.7693, loss: 0.0550, reg_loss: 0.0000 ||:  57%|█████▋    | 102/180 [00:30<00:27,  2.81it/s]\u001b[A\n",
            "pearson(r): 0.7689, loss: 0.0550, reg_loss: 0.0000 ||:  57%|█████▋    | 103/180 [00:30<00:26,  2.92it/s]\u001b[A\n",
            "pearson(r): 0.7673, loss: 0.0552, reg_loss: 0.0000 ||:  58%|█████▊    | 104/180 [00:31<00:30,  2.50it/s]\u001b[A\n",
            "pearson(r): 0.7670, loss: 0.0553, reg_loss: 0.0000 ||:  58%|█████▊    | 105/180 [00:31<00:27,  2.71it/s]\u001b[A\n",
            "pearson(r): 0.7669, loss: 0.0553, reg_loss: 0.0000 ||:  59%|█████▉    | 106/180 [00:31<00:24,  2.97it/s]\u001b[A\n",
            "pearson(r): 0.7674, loss: 0.0553, reg_loss: 0.0000 ||:  59%|█████▉    | 107/180 [00:31<00:23,  3.10it/s]\u001b[A\n",
            "pearson(r): 0.7670, loss: 0.0553, reg_loss: 0.0000 ||:  60%|██████    | 108/180 [00:32<00:25,  2.86it/s]\u001b[A\n",
            "pearson(r): 0.7666, loss: 0.0552, reg_loss: 0.0000 ||:  61%|██████    | 109/180 [00:32<00:23,  3.07it/s]\u001b[A\n",
            "pearson(r): 0.7671, loss: 0.0552, reg_loss: 0.0000 ||:  61%|██████    | 110/180 [00:32<00:21,  3.28it/s]\u001b[A\n",
            "pearson(r): 0.7678, loss: 0.0552, reg_loss: 0.0000 ||:  62%|██████▏   | 111/180 [00:33<00:19,  3.46it/s]\u001b[A\n",
            "pearson(r): 0.7676, loss: 0.0553, reg_loss: 0.0000 ||:  62%|██████▏   | 112/180 [00:33<00:19,  3.42it/s]\u001b[A\n",
            "pearson(r): 0.7678, loss: 0.0553, reg_loss: 0.0000 ||:  63%|██████▎   | 113/180 [00:33<00:18,  3.53it/s]\u001b[A\n",
            "pearson(r): 0.7668, loss: 0.0554, reg_loss: 0.0000 ||:  63%|██████▎   | 114/180 [00:34<00:20,  3.23it/s]\u001b[A\n",
            "pearson(r): 0.7671, loss: 0.0553, reg_loss: 0.0000 ||:  64%|██████▍   | 115/180 [00:34<00:19,  3.33it/s]\u001b[A\n",
            "pearson(r): 0.7676, loss: 0.0552, reg_loss: 0.0000 ||:  64%|██████▍   | 116/180 [00:34<00:18,  3.45it/s]\u001b[A\n",
            "pearson(r): 0.7678, loss: 0.0552, reg_loss: 0.0000 ||:  65%|██████▌   | 117/180 [00:34<00:17,  3.50it/s]\u001b[A\n",
            "pearson(r): 0.7681, loss: 0.0552, reg_loss: 0.0000 ||:  66%|██████▌   | 118/180 [00:35<00:19,  3.23it/s]\u001b[A\n",
            "pearson(r): 0.7686, loss: 0.0551, reg_loss: 0.0000 ||:  66%|██████▌   | 119/180 [00:35<00:21,  2.84it/s]\u001b[A\n",
            "pearson(r): 0.7679, loss: 0.0553, reg_loss: 0.0000 ||:  67%|██████▋   | 120/180 [00:36<00:21,  2.73it/s]\u001b[A\n",
            "pearson(r): 0.7690, loss: 0.0552, reg_loss: 0.0000 ||:  67%|██████▋   | 121/180 [00:36<00:20,  2.93it/s]\u001b[A\n",
            "pearson(r): 0.7701, loss: 0.0551, reg_loss: 0.0000 ||:  68%|██████▊   | 122/180 [00:36<00:18,  3.14it/s]\u001b[A\n",
            "pearson(r): 0.7706, loss: 0.0552, reg_loss: 0.0000 ||:  68%|██████▊   | 123/180 [00:36<00:17,  3.30it/s]\u001b[A\n",
            "pearson(r): 0.7703, loss: 0.0551, reg_loss: 0.0000 ||:  69%|██████▉   | 124/180 [00:37<00:16,  3.45it/s]\u001b[A\n",
            "pearson(r): 0.7704, loss: 0.0552, reg_loss: 0.0000 ||:  69%|██████▉   | 125/180 [00:37<00:15,  3.60it/s]\u001b[A\n",
            "pearson(r): 0.7696, loss: 0.0554, reg_loss: 0.0000 ||:  70%|███████   | 126/180 [00:37<00:14,  3.73it/s]\u001b[A\n",
            "pearson(r): 0.7682, loss: 0.0556, reg_loss: 0.0000 ||:  71%|███████   | 127/180 [00:38<00:18,  2.90it/s]\u001b[A\n",
            "pearson(r): 0.7684, loss: 0.0556, reg_loss: 0.0000 ||:  71%|███████   | 128/180 [00:38<00:18,  2.88it/s]\u001b[A\n",
            "pearson(r): 0.7689, loss: 0.0555, reg_loss: 0.0000 ||:  72%|███████▏  | 129/180 [00:38<00:16,  3.13it/s]\u001b[A\n",
            "pearson(r): 0.7683, loss: 0.0556, reg_loss: 0.0000 ||:  72%|███████▏  | 130/180 [00:39<00:14,  3.35it/s]\u001b[A\n",
            "pearson(r): 0.7677, loss: 0.0557, reg_loss: 0.0000 ||:  73%|███████▎  | 131/180 [00:39<00:18,  2.71it/s]\u001b[A\n",
            "pearson(r): 0.7681, loss: 0.0557, reg_loss: 0.0000 ||:  73%|███████▎  | 132/180 [00:40<00:20,  2.37it/s]\u001b[A\n",
            "pearson(r): 0.7682, loss: 0.0557, reg_loss: 0.0000 ||:  74%|███████▍  | 133/180 [00:40<00:17,  2.66it/s]\u001b[A\n",
            "pearson(r): 0.7689, loss: 0.0557, reg_loss: 0.0000 ||:  74%|███████▍  | 134/180 [00:40<00:15,  2.92it/s]\u001b[A\n",
            "pearson(r): 0.7686, loss: 0.0556, reg_loss: 0.0000 ||:  75%|███████▌  | 135/180 [00:41<00:15,  2.81it/s]\u001b[A\n",
            "pearson(r): 0.7689, loss: 0.0555, reg_loss: 0.0000 ||:  76%|███████▌  | 136/180 [00:41<00:15,  2.91it/s]\u001b[A\n",
            "pearson(r): 0.7685, loss: 0.0555, reg_loss: 0.0000 ||:  76%|███████▌  | 137/180 [00:41<00:14,  3.03it/s]\u001b[A\n",
            "pearson(r): 0.7681, loss: 0.0557, reg_loss: 0.0000 ||:  77%|███████▋  | 138/180 [00:42<00:16,  2.56it/s]\u001b[A\n",
            "pearson(r): 0.7684, loss: 0.0556, reg_loss: 0.0000 ||:  77%|███████▋  | 139/180 [00:42<00:14,  2.87it/s]\u001b[A\n",
            "pearson(r): 0.7681, loss: 0.0556, reg_loss: 0.0000 ||:  78%|███████▊  | 140/180 [00:42<00:12,  3.12it/s]\u001b[A\n",
            "pearson(r): 0.7671, loss: 0.0558, reg_loss: 0.0000 ||:  78%|███████▊  | 141/180 [00:42<00:11,  3.29it/s]\u001b[A\n",
            "pearson(r): 0.7679, loss: 0.0556, reg_loss: 0.0000 ||:  79%|███████▉  | 142/180 [00:43<00:10,  3.49it/s]\u001b[A\n",
            "pearson(r): 0.7670, loss: 0.0558, reg_loss: 0.0000 ||:  79%|███████▉  | 143/180 [00:43<00:11,  3.25it/s]\u001b[A\n",
            "pearson(r): 0.7670, loss: 0.0558, reg_loss: 0.0000 ||:  80%|████████  | 144/180 [00:43<00:10,  3.42it/s]\u001b[A\n",
            "pearson(r): 0.7680, loss: 0.0558, reg_loss: 0.0000 ||:  81%|████████  | 145/180 [00:44<00:09,  3.68it/s]\u001b[A\n",
            "pearson(r): 0.7687, loss: 0.0558, reg_loss: 0.0000 ||:  81%|████████  | 146/180 [00:44<00:09,  3.56it/s]\u001b[A\n",
            "pearson(r): 0.7693, loss: 0.0557, reg_loss: 0.0000 ||:  82%|████████▏ | 147/180 [00:44<00:08,  3.75it/s]\u001b[A\n",
            "pearson(r): 0.7692, loss: 0.0557, reg_loss: 0.0000 ||:  82%|████████▏ | 148/180 [00:44<00:09,  3.30it/s]\u001b[A\n",
            "pearson(r): 0.7692, loss: 0.0556, reg_loss: 0.0000 ||:  83%|████████▎ | 149/180 [00:45<00:09,  3.34it/s]\u001b[A\n",
            "pearson(r): 0.7689, loss: 0.0558, reg_loss: 0.0000 ||:  83%|████████▎ | 150/180 [00:45<00:08,  3.67it/s]\u001b[A\n",
            "pearson(r): 0.7687, loss: 0.0557, reg_loss: 0.0000 ||:  84%|████████▍ | 151/180 [00:45<00:07,  3.67it/s]\u001b[A\n",
            "pearson(r): 0.7683, loss: 0.0557, reg_loss: 0.0000 ||:  84%|████████▍ | 152/180 [00:46<00:07,  3.69it/s]\u001b[A\n",
            "pearson(r): 0.7689, loss: 0.0556, reg_loss: 0.0000 ||:  85%|████████▌ | 153/180 [00:46<00:07,  3.73it/s]\u001b[A\n",
            "pearson(r): 0.7680, loss: 0.0558, reg_loss: 0.0000 ||:  86%|████████▌ | 154/180 [00:46<00:09,  2.89it/s]\u001b[A\n",
            "pearson(r): 0.7683, loss: 0.0558, reg_loss: 0.0000 ||:  86%|████████▌ | 155/180 [00:47<00:10,  2.49it/s]\u001b[A\n",
            "pearson(r): 0.7687, loss: 0.0557, reg_loss: 0.0000 ||:  87%|████████▋ | 156/180 [00:47<00:08,  2.72it/s]\u001b[A\n",
            "pearson(r): 0.7691, loss: 0.0556, reg_loss: 0.0000 ||:  87%|████████▋ | 157/180 [00:48<00:08,  2.70it/s]\u001b[A\n",
            "pearson(r): 0.7693, loss: 0.0556, reg_loss: 0.0000 ||:  88%|████████▊ | 158/180 [00:48<00:07,  2.98it/s]\u001b[A\n",
            "pearson(r): 0.7699, loss: 0.0556, reg_loss: 0.0000 ||:  88%|████████▊ | 159/180 [00:48<00:06,  3.19it/s]\u001b[A\n",
            "pearson(r): 0.7696, loss: 0.0557, reg_loss: 0.0000 ||:  89%|████████▉ | 160/180 [00:48<00:05,  3.46it/s]\u001b[A\n",
            "pearson(r): 0.7700, loss: 0.0556, reg_loss: 0.0000 ||:  89%|████████▉ | 161/180 [00:49<00:05,  3.54it/s]\u001b[A\n",
            "pearson(r): 0.7702, loss: 0.0557, reg_loss: 0.0000 ||:  90%|█████████ | 162/180 [00:49<00:04,  3.78it/s]\u001b[A\n",
            "pearson(r): 0.7703, loss: 0.0558, reg_loss: 0.0000 ||:  91%|█████████ | 163/180 [00:49<00:04,  3.80it/s]\u001b[A\n",
            "pearson(r): 0.7706, loss: 0.0558, reg_loss: 0.0000 ||:  91%|█████████ | 164/180 [00:49<00:04,  3.87it/s]\u001b[A\n",
            "pearson(r): 0.7704, loss: 0.0557, reg_loss: 0.0000 ||:  92%|█████████▏| 165/180 [00:49<00:03,  4.15it/s]\u001b[A\n",
            "pearson(r): 0.7704, loss: 0.0558, reg_loss: 0.0000 ||:  92%|█████████▏| 166/180 [00:50<00:03,  4.22it/s]\u001b[A\n",
            "pearson(r): 0.7702, loss: 0.0557, reg_loss: 0.0000 ||:  93%|█████████▎| 167/180 [00:50<00:03,  4.18it/s]\u001b[A\n",
            "pearson(r): 0.7705, loss: 0.0557, reg_loss: 0.0000 ||:  93%|█████████▎| 168/180 [00:50<00:03,  3.97it/s]\u001b[A\n",
            "pearson(r): 0.7708, loss: 0.0557, reg_loss: 0.0000 ||:  94%|█████████▍| 169/180 [00:51<00:03,  3.52it/s]\u001b[A\n",
            "pearson(r): 0.7712, loss: 0.0557, reg_loss: 0.0000 ||:  94%|█████████▍| 170/180 [00:51<00:02,  3.85it/s]\u001b[A\n",
            "pearson(r): 0.7712, loss: 0.0558, reg_loss: 0.0000 ||:  95%|█████████▌| 171/180 [00:51<00:02,  3.66it/s]\u001b[A\n",
            "pearson(r): 0.7715, loss: 0.0558, reg_loss: 0.0000 ||:  96%|█████████▌| 172/180 [00:51<00:02,  3.84it/s]\u001b[A\n",
            "pearson(r): 0.7715, loss: 0.0558, reg_loss: 0.0000 ||:  96%|█████████▌| 173/180 [00:52<00:01,  3.80it/s]\u001b[A\n",
            "pearson(r): 0.7711, loss: 0.0558, reg_loss: 0.0000 ||:  97%|█████████▋| 174/180 [00:52<00:01,  3.19it/s]\u001b[A\n",
            "pearson(r): 0.7716, loss: 0.0558, reg_loss: 0.0000 ||:  97%|█████████▋| 175/180 [00:52<00:01,  3.43it/s]\u001b[A\n",
            "pearson(r): 0.7713, loss: 0.0558, reg_loss: 0.0000 ||:  98%|█████████▊| 176/180 [00:53<00:01,  3.49it/s]\u001b[A\n",
            "pearson(r): 0.7714, loss: 0.0557, reg_loss: 0.0000 ||:  98%|█████████▊| 177/180 [00:53<00:00,  3.97it/s]\u001b[A\n",
            "pearson(r): 0.7711, loss: 0.0557, reg_loss: 0.0000 ||:  99%|█████████▉| 178/180 [00:53<00:00,  3.90it/s]\u001b[A\n",
            "pearson(r): 0.7710, loss: 0.0557, reg_loss: 0.0000 ||:  99%|█████████▉| 179/180 [00:53<00:00,  3.89it/s]\u001b[A\n",
            "pearson(r): 0.7707, loss: 0.0558, reg_loss: 0.0000 ||: 100%|██████████| 180/180 [00:53<00:00,  3.34it/s]\n",
            "\n",
            "  0%|          | 0/180 [00:00<?, ?it/s]\u001b[A\n",
            "pearson(r): 0.7855, loss: 0.0368, reg_loss: 0.0000 ||:   1%|          | 1/180 [00:00<02:47,  1.07it/s]\u001b[A\n",
            "pearson(r): 0.6871, loss: 0.0463, reg_loss: 0.0000 ||:   1%|          | 2/180 [00:02<03:12,  1.08s/it]\u001b[A\n",
            "pearson(r): 0.7262, loss: 0.0411, reg_loss: 0.0000 ||:   2%|▏         | 3/180 [00:04<03:55,  1.33s/it]\u001b[A\n",
            "pearson(r): 0.7340, loss: 0.0389, reg_loss: 0.0000 ||:   2%|▏         | 4/180 [00:05<04:10,  1.42s/it]\u001b[A\n",
            "pearson(r): 0.7784, loss: 0.0360, reg_loss: 0.0000 ||:   3%|▎         | 5/180 [00:07<04:01,  1.38s/it]\u001b[A\n",
            "pearson(r): 0.7694, loss: 0.0358, reg_loss: 0.0000 ||:   3%|▎         | 6/180 [00:08<04:00,  1.38s/it]\u001b[A\n",
            "pearson(r): 0.7659, loss: 0.0380, reg_loss: 0.0000 ||:   4%|▍         | 7/180 [00:09<03:52,  1.34s/it]\u001b[A\n",
            "pearson(r): 0.7621, loss: 0.0391, reg_loss: 0.0000 ||:   4%|▍         | 8/180 [00:11<03:43,  1.30s/it]\u001b[A\n",
            "pearson(r): 0.7730, loss: 0.0390, reg_loss: 0.0000 ||:   5%|▌         | 9/180 [00:12<03:52,  1.36s/it]\u001b[A\n",
            "pearson(r): 0.7712, loss: 0.0384, reg_loss: 0.0000 ||:   6%|▌         | 10/180 [00:13<03:45,  1.33s/it]\u001b[A\n",
            "pearson(r): 0.7765, loss: 0.0371, reg_loss: 0.0000 ||:   6%|▌         | 11/180 [00:15<04:02,  1.44s/it]\u001b[A\n",
            "pearson(r): 0.7822, loss: 0.0369, reg_loss: 0.0000 ||:   7%|▋         | 12/180 [00:16<03:47,  1.36s/it]\u001b[A\n",
            "pearson(r): 0.7831, loss: 0.0369, reg_loss: 0.0000 ||:   7%|▋         | 13/180 [00:17<03:33,  1.28s/it]\u001b[A\n",
            "pearson(r): 0.7703, loss: 0.0373, reg_loss: 0.0000 ||:   8%|▊         | 14/180 [00:19<03:46,  1.37s/it]\u001b[A\n",
            "pearson(r): 0.7713, loss: 0.0367, reg_loss: 0.0000 ||:   8%|▊         | 15/180 [00:20<03:51,  1.40s/it]\u001b[A\n",
            "pearson(r): 0.7726, loss: 0.0357, reg_loss: 0.0000 ||:   9%|▉         | 16/180 [00:22<03:55,  1.43s/it]\u001b[A\n",
            "pearson(r): 0.7723, loss: 0.0352, reg_loss: 0.0000 ||:   9%|▉         | 17/180 [00:23<03:57,  1.45s/it]\u001b[A\n",
            "pearson(r): 0.7754, loss: 0.0358, reg_loss: 0.0000 ||:  10%|█         | 18/180 [00:25<04:00,  1.49s/it]\u001b[A\n",
            "pearson(r): 0.7746, loss: 0.0356, reg_loss: 0.0000 ||:  11%|█         | 19/180 [00:27<04:10,  1.55s/it]\u001b[A\n",
            "pearson(r): 0.7773, loss: 0.0353, reg_loss: 0.0000 ||:  11%|█         | 20/180 [00:28<04:07,  1.55s/it]\u001b[A\n",
            "pearson(r): 0.7775, loss: 0.0351, reg_loss: 0.0000 ||:  12%|█▏        | 21/180 [00:30<04:03,  1.53s/it]\u001b[A\n",
            "pearson(r): 0.7750, loss: 0.0356, reg_loss: 0.0000 ||:  12%|█▏        | 22/180 [00:31<03:48,  1.45s/it]\u001b[A\n",
            "pearson(r): 0.7730, loss: 0.0361, reg_loss: 0.0000 ||:  13%|█▎        | 23/180 [00:33<04:03,  1.55s/it]\u001b[A\n",
            "pearson(r): 0.7727, loss: 0.0357, reg_loss: 0.0000 ||:  13%|█▎        | 24/180 [00:34<04:04,  1.57s/it]\u001b[A\n",
            "pearson(r): 0.7691, loss: 0.0361, reg_loss: 0.0000 ||:  14%|█▍        | 25/180 [00:36<04:34,  1.77s/it]\u001b[A\n",
            "pearson(r): 0.7680, loss: 0.0361, reg_loss: 0.0000 ||:  14%|█▍        | 26/180 [00:39<04:45,  1.86s/it]\u001b[A\n",
            "pearson(r): 0.7650, loss: 0.0365, reg_loss: 0.0000 ||:  15%|█▌        | 27/180 [00:42<05:37,  2.21s/it]\u001b[A\n",
            "pearson(r): 0.7637, loss: 0.0363, reg_loss: 0.0000 ||:  16%|█▌        | 28/180 [00:43<05:04,  2.00s/it]\u001b[A\n",
            "pearson(r): 0.7641, loss: 0.0364, reg_loss: 0.0000 ||:  16%|█▌        | 29/180 [00:45<04:44,  1.88s/it]\u001b[A\n",
            "pearson(r): 0.7670, loss: 0.0362, reg_loss: 0.0000 ||:  17%|█▋        | 30/180 [00:46<04:14,  1.70s/it]\u001b[A\n",
            "pearson(r): 0.7662, loss: 0.0365, reg_loss: 0.0000 ||:  17%|█▋        | 31/180 [00:47<03:55,  1.58s/it]\u001b[A\n",
            "pearson(r): 0.7651, loss: 0.0367, reg_loss: 0.0000 ||:  18%|█▊        | 32/180 [00:49<03:42,  1.51s/it]\u001b[A\n",
            "pearson(r): 0.7671, loss: 0.0367, reg_loss: 0.0000 ||:  18%|█▊        | 33/180 [00:50<03:26,  1.40s/it]\u001b[A\n",
            "pearson(r): 0.7682, loss: 0.0362, reg_loss: 0.0000 ||:  19%|█▉        | 34/180 [00:51<03:25,  1.41s/it]\u001b[A\n",
            "pearson(r): 0.7670, loss: 0.0363, reg_loss: 0.0000 ||:  19%|█▉        | 35/180 [00:53<03:35,  1.49s/it]\u001b[A\n",
            "pearson(r): 0.7675, loss: 0.0361, reg_loss: 0.0000 ||:  20%|██        | 36/180 [00:55<03:41,  1.54s/it]\u001b[A\n",
            "pearson(r): 0.7645, loss: 0.0364, reg_loss: 0.0000 ||:  21%|██        | 37/180 [00:56<03:36,  1.51s/it]\u001b[A\n",
            "pearson(r): 0.7654, loss: 0.0365, reg_loss: 0.0000 ||:  21%|██        | 38/180 [00:57<03:35,  1.52s/it]\u001b[A\n",
            "pearson(r): 0.7655, loss: 0.0362, reg_loss: 0.0000 ||:  22%|██▏       | 39/180 [00:59<03:34,  1.52s/it]\u001b[A\n",
            "pearson(r): 0.7599, loss: 0.0367, reg_loss: 0.0000 ||:  22%|██▏       | 40/180 [01:01<03:36,  1.54s/it]\u001b[A\n",
            "pearson(r): 0.7580, loss: 0.0369, reg_loss: 0.0000 ||:  23%|██▎       | 41/180 [01:02<03:34,  1.54s/it]\u001b[A\n",
            "pearson(r): 0.7591, loss: 0.0369, reg_loss: 0.0000 ||:  23%|██▎       | 42/180 [01:03<03:23,  1.47s/it]\u001b[A\n",
            "pearson(r): 0.7572, loss: 0.0369, reg_loss: 0.0000 ||:  24%|██▍       | 43/180 [01:05<03:12,  1.40s/it]\u001b[A\n",
            "pearson(r): 0.7583, loss: 0.0368, reg_loss: 0.0000 ||:  24%|██▍       | 44/180 [01:07<03:37,  1.60s/it]\u001b[A\n",
            "pearson(r): 0.7536, loss: 0.0374, reg_loss: 0.0000 ||:  25%|██▌       | 45/180 [01:09<03:58,  1.76s/it]\u001b[A\n",
            "pearson(r): 0.7533, loss: 0.0377, reg_loss: 0.0000 ||:  26%|██▌       | 46/180 [01:10<03:47,  1.70s/it]\u001b[A\n",
            "pearson(r): 0.7496, loss: 0.0378, reg_loss: 0.0000 ||:  26%|██▌       | 47/180 [01:12<03:48,  1.72s/it]\u001b[A\n",
            "pearson(r): 0.7483, loss: 0.0379, reg_loss: 0.0000 ||:  27%|██▋       | 48/180 [01:14<03:30,  1.60s/it]\u001b[A\n",
            "pearson(r): 0.7477, loss: 0.0381, reg_loss: 0.0000 ||:  27%|██▋       | 49/180 [01:15<03:19,  1.52s/it]\u001b[A\n",
            "pearson(r): 0.7468, loss: 0.0383, reg_loss: 0.0000 ||:  28%|██▊       | 50/180 [01:16<03:11,  1.47s/it]\u001b[A\n",
            "pearson(r): 0.7454, loss: 0.0385, reg_loss: 0.0000 ||:  28%|██▊       | 51/180 [01:18<03:06,  1.45s/it]\u001b[A\n",
            "pearson(r): 0.7433, loss: 0.0389, reg_loss: 0.0000 ||:  29%|██▉       | 52/180 [01:19<03:04,  1.44s/it]\u001b[A\n",
            "pearson(r): 0.7424, loss: 0.0389, reg_loss: 0.0000 ||:  29%|██▉       | 53/180 [01:21<03:04,  1.45s/it]\u001b[A\n",
            "pearson(r): 0.7413, loss: 0.0390, reg_loss: 0.0000 ||:  30%|███       | 54/180 [01:22<03:03,  1.45s/it]\u001b[A\n",
            "pearson(r): 0.7402, loss: 0.0393, reg_loss: 0.0000 ||:  31%|███       | 55/180 [01:23<02:52,  1.38s/it]\u001b[A\n",
            "pearson(r): 0.7398, loss: 0.0393, reg_loss: 0.0000 ||:  31%|███       | 56/180 [01:24<02:29,  1.21s/it]\u001b[A\n",
            "pearson(r): 0.7379, loss: 0.0396, reg_loss: 0.0000 ||:  32%|███▏      | 57/180 [01:25<02:35,  1.26s/it]\u001b[A\n",
            "pearson(r): 0.7347, loss: 0.0399, reg_loss: 0.0000 ||:  32%|███▏      | 58/180 [01:26<02:27,  1.21s/it]\u001b[A\n",
            "pearson(r): 0.7344, loss: 0.0400, reg_loss: 0.0000 ||:  33%|███▎      | 59/180 [01:28<02:30,  1.25s/it]\u001b[A\n",
            "pearson(r): 0.7355, loss: 0.0400, reg_loss: 0.0000 ||:  33%|███▎      | 60/180 [01:29<02:32,  1.27s/it]\u001b[A\n",
            "pearson(r): 0.7363, loss: 0.0399, reg_loss: 0.0000 ||:  34%|███▍      | 61/180 [01:31<02:34,  1.30s/it]\u001b[A\n",
            "pearson(r): 0.7373, loss: 0.0398, reg_loss: 0.0000 ||:  34%|███▍      | 62/180 [01:32<02:44,  1.40s/it]\u001b[A\n",
            "pearson(r): 0.7375, loss: 0.0400, reg_loss: 0.0000 ||:  35%|███▌      | 63/180 [01:33<02:36,  1.34s/it]\u001b[A\n",
            "pearson(r): 0.7353, loss: 0.0404, reg_loss: 0.0000 ||:  36%|███▌      | 64/180 [01:36<03:11,  1.65s/it]\u001b[A\n",
            "pearson(r): 0.7361, loss: 0.0405, reg_loss: 0.0000 ||:  36%|███▌      | 65/180 [01:37<03:01,  1.57s/it]\u001b[A\n",
            "pearson(r): 0.7358, loss: 0.0405, reg_loss: 0.0000 ||:  37%|███▋      | 66/180 [01:39<03:00,  1.58s/it]\u001b[A\n",
            "pearson(r): 0.7337, loss: 0.0407, reg_loss: 0.0000 ||:  37%|███▋      | 67/180 [01:40<03:03,  1.62s/it]\u001b[A\n",
            "pearson(r): 0.7343, loss: 0.0405, reg_loss: 0.0000 ||:  38%|███▊      | 68/180 [01:42<02:57,  1.59s/it]\u001b[A\n",
            "pearson(r): 0.7337, loss: 0.0404, reg_loss: 0.0000 ||:  38%|███▊      | 69/180 [01:43<02:51,  1.54s/it]\u001b[A\n",
            "pearson(r): 0.7326, loss: 0.0404, reg_loss: 0.0000 ||:  39%|███▉      | 70/180 [01:46<03:38,  1.98s/it]\u001b[A\n",
            "pearson(r): 0.7329, loss: 0.0404, reg_loss: 0.0000 ||:  39%|███▉      | 71/180 [01:48<03:23,  1.87s/it]\u001b[A\n",
            "pearson(r): 0.7319, loss: 0.0405, reg_loss: 0.0000 ||:  40%|████      | 72/180 [01:50<03:17,  1.83s/it]\u001b[A\n",
            "pearson(r): 0.7319, loss: 0.0405, reg_loss: 0.0000 ||:  41%|████      | 73/180 [01:52<03:26,  1.93s/it]\u001b[A\n",
            "pearson(r): 0.7329, loss: 0.0404, reg_loss: 0.0000 ||:  41%|████      | 74/180 [01:53<03:07,  1.77s/it]\u001b[A\n",
            "pearson(r): 0.7339, loss: 0.0403, reg_loss: 0.0000 ||:  42%|████▏     | 75/180 [01:55<02:54,  1.66s/it]\u001b[A\n",
            "pearson(r): 0.7316, loss: 0.0405, reg_loss: 0.0000 ||:  42%|████▏     | 76/180 [01:56<02:44,  1.58s/it]\u001b[A\n",
            "pearson(r): 0.7313, loss: 0.0406, reg_loss: 0.0000 ||:  43%|████▎     | 77/180 [01:58<02:55,  1.70s/it]\u001b[A\n",
            "pearson(r): 0.7307, loss: 0.0407, reg_loss: 0.0000 ||:  43%|████▎     | 78/180 [01:59<02:44,  1.62s/it]\u001b[A\n",
            "pearson(r): 0.7302, loss: 0.0408, reg_loss: 0.0000 ||:  44%|████▍     | 79/180 [02:02<03:01,  1.80s/it]\u001b[A\n",
            "pearson(r): 0.7295, loss: 0.0410, reg_loss: 0.0000 ||:  44%|████▍     | 80/180 [02:03<02:52,  1.73s/it]\u001b[A\n",
            "pearson(r): 0.7308, loss: 0.0409, reg_loss: 0.0000 ||:  45%|████▌     | 81/180 [02:05<02:55,  1.77s/it]\u001b[A\n",
            "pearson(r): 0.7312, loss: 0.0408, reg_loss: 0.0000 ||:  46%|████▌     | 82/180 [02:06<02:34,  1.58s/it]\u001b[A\n",
            "pearson(r): 0.7310, loss: 0.0409, reg_loss: 0.0000 ||:  46%|████▌     | 83/180 [02:08<02:25,  1.50s/it]\u001b[A\n",
            "pearson(r): 0.7324, loss: 0.0407, reg_loss: 0.0000 ||:  47%|████▋     | 84/180 [02:09<02:28,  1.55s/it]\u001b[A\n",
            "pearson(r): 0.7319, loss: 0.0409, reg_loss: 0.0000 ||:  47%|████▋     | 85/180 [02:11<02:32,  1.61s/it]\u001b[A\n",
            "pearson(r): 0.7327, loss: 0.0407, reg_loss: 0.0000 ||:  48%|████▊     | 86/180 [02:13<02:30,  1.60s/it]\u001b[A\n",
            "pearson(r): 0.7315, loss: 0.0408, reg_loss: 0.0000 ||:  48%|████▊     | 87/180 [02:14<02:30,  1.62s/it]\u001b[A\n",
            "pearson(r): 0.7307, loss: 0.0408, reg_loss: 0.0000 ||:  49%|████▉     | 88/180 [02:16<02:19,  1.52s/it]\u001b[A\n",
            "pearson(r): 0.7296, loss: 0.0407, reg_loss: 0.0000 ||:  49%|████▉     | 89/180 [02:17<02:17,  1.51s/it]\u001b[A\n",
            "pearson(r): 0.7287, loss: 0.0408, reg_loss: 0.0000 ||:  50%|█████     | 90/180 [02:18<02:10,  1.44s/it]\u001b[A\n",
            "pearson(r): 0.7276, loss: 0.0409, reg_loss: 0.0000 ||:  51%|█████     | 91/180 [02:20<02:20,  1.58s/it]\u001b[A\n",
            "pearson(r): 0.7279, loss: 0.0409, reg_loss: 0.0000 ||:  51%|█████     | 92/180 [02:22<02:15,  1.54s/it]\u001b[A\n",
            "pearson(r): 0.7265, loss: 0.0410, reg_loss: 0.0000 ||:  52%|█████▏    | 93/180 [02:24<02:27,  1.70s/it]\u001b[A\n",
            "pearson(r): 0.7266, loss: 0.0409, reg_loss: 0.0000 ||:  52%|█████▏    | 94/180 [02:25<02:24,  1.68s/it]\u001b[A\n",
            "pearson(r): 0.7264, loss: 0.0410, reg_loss: 0.0000 ||:  53%|█████▎    | 95/180 [02:27<02:14,  1.58s/it]\u001b[A\n",
            "pearson(r): 0.7271, loss: 0.0409, reg_loss: 0.0000 ||:  53%|█████▎    | 96/180 [02:29<02:23,  1.71s/it]\u001b[A\n",
            "pearson(r): 0.7247, loss: 0.0412, reg_loss: 0.0000 ||:  54%|█████▍    | 97/180 [02:32<02:55,  2.11s/it]\u001b[A\n",
            "pearson(r): 0.7255, loss: 0.0412, reg_loss: 0.0000 ||:  54%|█████▍    | 98/180 [02:33<02:40,  1.96s/it]\u001b[A\n",
            "pearson(r): 0.7251, loss: 0.0412, reg_loss: 0.0000 ||:  55%|█████▌    | 99/180 [02:35<02:29,  1.84s/it]\u001b[A\n",
            "pearson(r): 0.7263, loss: 0.0412, reg_loss: 0.0000 ||:  56%|█████▌    | 100/180 [02:36<02:19,  1.74s/it]\u001b[A\n",
            "pearson(r): 0.7276, loss: 0.0411, reg_loss: 0.0000 ||:  56%|█████▌    | 101/180 [02:38<02:08,  1.63s/it]\u001b[A\n",
            "pearson(r): 0.7277, loss: 0.0411, reg_loss: 0.0000 ||:  57%|█████▋    | 102/180 [02:39<01:58,  1.53s/it]\u001b[A\n",
            "pearson(r): 0.7274, loss: 0.0411, reg_loss: 0.0000 ||:  57%|█████▋    | 103/180 [02:41<01:55,  1.50s/it]\u001b[A\n",
            "pearson(r): 0.7242, loss: 0.0414, reg_loss: 0.0000 ||:  58%|█████▊    | 104/180 [02:44<02:28,  1.96s/it]\u001b[A\n",
            "pearson(r): 0.7237, loss: 0.0414, reg_loss: 0.0000 ||:  58%|█████▊    | 105/180 [02:45<02:15,  1.80s/it]\u001b[A\n",
            "pearson(r): 0.7242, loss: 0.0414, reg_loss: 0.0000 ||:  59%|█████▉    | 106/180 [02:47<02:19,  1.88s/it]\u001b[A\n",
            "pearson(r): 0.7248, loss: 0.0413, reg_loss: 0.0000 ||:  59%|█████▉    | 107/180 [02:48<02:05,  1.72s/it]\u001b[A\n",
            "pearson(r): 0.7256, loss: 0.0412, reg_loss: 0.0000 ||:  60%|██████    | 108/180 [02:50<02:04,  1.73s/it]\u001b[A\n",
            "pearson(r): 0.7253, loss: 0.0412, reg_loss: 0.0000 ||:  61%|██████    | 109/180 [02:52<01:57,  1.65s/it]\u001b[A\n",
            "pearson(r): 0.7246, loss: 0.0412, reg_loss: 0.0000 ||:  61%|██████    | 110/180 [02:53<01:44,  1.50s/it]\u001b[A\n",
            "pearson(r): 0.7245, loss: 0.0413, reg_loss: 0.0000 ||:  62%|██████▏   | 111/180 [02:54<01:40,  1.46s/it]\u001b[A\n",
            "pearson(r): 0.7257, loss: 0.0412, reg_loss: 0.0000 ||:  62%|██████▏   | 112/180 [02:56<01:53,  1.67s/it]\u001b[A\n",
            "pearson(r): 0.7255, loss: 0.0412, reg_loss: 0.0000 ||:  63%|██████▎   | 113/180 [02:58<01:45,  1.58s/it]\u001b[A\n",
            "pearson(r): 0.7258, loss: 0.0411, reg_loss: 0.0000 ||:  63%|██████▎   | 114/180 [02:59<01:40,  1.52s/it]\u001b[A\n",
            "pearson(r): 0.7232, loss: 0.0413, reg_loss: 0.0000 ||:  64%|██████▍   | 115/180 [03:02<02:07,  1.97s/it]\u001b[A\n",
            "pearson(r): 0.7234, loss: 0.0412, reg_loss: 0.0000 ||:  64%|██████▍   | 116/180 [03:03<01:56,  1.81s/it]\u001b[A\n",
            "pearson(r): 0.7230, loss: 0.0413, reg_loss: 0.0000 ||:  65%|██████▌   | 117/180 [03:06<02:16,  2.17s/it]\u001b[A\n",
            "pearson(r): 0.7226, loss: 0.0413, reg_loss: 0.0000 ||:  66%|██████▌   | 118/180 [03:08<01:54,  1.85s/it]\u001b[A\n",
            "pearson(r): 0.7230, loss: 0.0412, reg_loss: 0.0000 ||:  66%|██████▌   | 119/180 [03:09<01:44,  1.72s/it]\u001b[A\n",
            "pearson(r): 0.7234, loss: 0.0411, reg_loss: 0.0000 ||:  67%|██████▋   | 120/180 [03:11<01:41,  1.70s/it]\u001b[A\n",
            "pearson(r): 0.7234, loss: 0.0411, reg_loss: 0.0000 ||:  67%|██████▋   | 121/180 [03:12<01:37,  1.66s/it]\u001b[A\n",
            "pearson(r): 0.7232, loss: 0.0411, reg_loss: 0.0000 ||:  68%|██████▊   | 122/180 [03:14<01:36,  1.66s/it]\u001b[A\n",
            "pearson(r): 0.7246, loss: 0.0409, reg_loss: 0.0000 ||:  68%|██████▊   | 123/180 [03:15<01:32,  1.62s/it]\u001b[A\n",
            "pearson(r): 0.7243, loss: 0.0409, reg_loss: 0.0000 ||:  69%|██████▉   | 124/180 [03:17<01:32,  1.66s/it]\u001b[A\n",
            "pearson(r): 0.7230, loss: 0.0410, reg_loss: 0.0000 ||:  69%|██████▉   | 125/180 [03:20<01:53,  2.06s/it]\u001b[A\n",
            "pearson(r): 0.7230, loss: 0.0411, reg_loss: 0.0000 ||:  70%|███████   | 126/180 [03:21<01:38,  1.83s/it]\u001b[A\n",
            "pearson(r): 0.7233, loss: 0.0411, reg_loss: 0.0000 ||:  71%|███████   | 127/180 [03:23<01:31,  1.73s/it]\u001b[A\n",
            "pearson(r): 0.7232, loss: 0.0411, reg_loss: 0.0000 ||:  71%|███████   | 128/180 [03:25<01:37,  1.87s/it]\u001b[A\n",
            "pearson(r): 0.7232, loss: 0.0410, reg_loss: 0.0000 ||:  72%|███████▏  | 129/180 [03:27<01:28,  1.74s/it]\u001b[A\n",
            "pearson(r): 0.7225, loss: 0.0412, reg_loss: 0.0000 ||:  72%|███████▏  | 130/180 [03:30<01:46,  2.13s/it]\u001b[A\n",
            "pearson(r): 0.7222, loss: 0.0413, reg_loss: 0.0000 ||:  73%|███████▎  | 131/180 [03:31<01:34,  1.93s/it]\u001b[A\n",
            "pearson(r): 0.7216, loss: 0.0413, reg_loss: 0.0000 ||:  73%|███████▎  | 132/180 [03:32<01:24,  1.76s/it]\u001b[A\n",
            "pearson(r): 0.7214, loss: 0.0413, reg_loss: 0.0000 ||:  74%|███████▍  | 133/180 [03:34<01:15,  1.61s/it]\u001b[A\n",
            "pearson(r): 0.7229, loss: 0.0412, reg_loss: 0.0000 ||:  74%|███████▍  | 134/180 [03:35<01:11,  1.56s/it]\u001b[A\n",
            "pearson(r): 0.7221, loss: 0.0413, reg_loss: 0.0000 ||:  75%|███████▌  | 135/180 [03:37<01:09,  1.54s/it]\u001b[A\n",
            "pearson(r): 0.7219, loss: 0.0413, reg_loss: 0.0000 ||:  76%|███████▌  | 136/180 [03:38<01:01,  1.40s/it]\u001b[A\n",
            "pearson(r): 0.7214, loss: 0.0413, reg_loss: 0.0000 ||:  76%|███████▌  | 137/180 [03:40<01:05,  1.52s/it]\u001b[A\n",
            "pearson(r): 0.7214, loss: 0.0413, reg_loss: 0.0000 ||:  77%|███████▋  | 138/180 [03:43<01:23,  1.98s/it]\u001b[A\n",
            "pearson(r): 0.7218, loss: 0.0414, reg_loss: 0.0000 ||:  77%|███████▋  | 139/180 [03:45<01:22,  2.00s/it]\u001b[A\n",
            "pearson(r): 0.7217, loss: 0.0412, reg_loss: 0.0000 ||:  78%|███████▊  | 140/180 [03:46<01:13,  1.84s/it]\u001b[A\n",
            "pearson(r): 0.7215, loss: 0.0413, reg_loss: 0.0000 ||:  78%|███████▊  | 141/180 [03:48<01:15,  1.94s/it]\u001b[A\n",
            "pearson(r): 0.7224, loss: 0.0411, reg_loss: 0.0000 ||:  79%|███████▉  | 142/180 [03:50<01:08,  1.79s/it]\u001b[A\n",
            "pearson(r): 0.7217, loss: 0.0412, reg_loss: 0.0000 ||:  79%|███████▉  | 143/180 [03:51<01:02,  1.68s/it]\u001b[A\n",
            "pearson(r): 0.7195, loss: 0.0414, reg_loss: 0.0000 ||:  80%|████████  | 144/180 [03:54<01:10,  1.97s/it]\u001b[A\n",
            "pearson(r): 0.7199, loss: 0.0413, reg_loss: 0.0000 ||:  81%|████████  | 145/180 [03:55<01:04,  1.85s/it]\u001b[A\n",
            "pearson(r): 0.7195, loss: 0.0413, reg_loss: 0.0000 ||:  81%|████████  | 146/180 [03:57<01:00,  1.77s/it]\u001b[A\n",
            "pearson(r): 0.7185, loss: 0.0413, reg_loss: 0.0000 ||:  82%|████████▏ | 147/180 [03:58<00:54,  1.65s/it]\u001b[A\n",
            "pearson(r): 0.7182, loss: 0.0413, reg_loss: 0.0000 ||:  82%|████████▏ | 148/180 [04:00<00:49,  1.56s/it]\u001b[A\n",
            "pearson(r): 0.7186, loss: 0.0413, reg_loss: 0.0000 ||:  83%|████████▎ | 149/180 [04:01<00:47,  1.53s/it]\u001b[A\n",
            "pearson(r): 0.7188, loss: 0.0412, reg_loss: 0.0000 ||:  83%|████████▎ | 150/180 [04:03<00:46,  1.57s/it]\u001b[A\n",
            "pearson(r): 0.7186, loss: 0.0413, reg_loss: 0.0000 ||:  84%|████████▍ | 151/180 [04:04<00:44,  1.54s/it]\u001b[A\n",
            "pearson(r): 0.7190, loss: 0.0412, reg_loss: 0.0000 ||:  84%|████████▍ | 152/180 [04:06<00:47,  1.70s/it]\u001b[A\n",
            "pearson(r): 0.7186, loss: 0.0412, reg_loss: 0.0000 ||:  85%|████████▌ | 153/180 [04:08<00:46,  1.74s/it]\u001b[A\n",
            "pearson(r): 0.7181, loss: 0.0413, reg_loss: 0.0000 ||:  86%|████████▌ | 154/180 [04:10<00:47,  1.83s/it]\u001b[A\n",
            "pearson(r): 0.7185, loss: 0.0412, reg_loss: 0.0000 ||:  86%|████████▌ | 155/180 [04:12<00:44,  1.77s/it]\u001b[A\n",
            "pearson(r): 0.7186, loss: 0.0412, reg_loss: 0.0000 ||:  87%|████████▋ | 156/180 [04:13<00:41,  1.71s/it]\u001b[A\n",
            "pearson(r): 0.7196, loss: 0.0411, reg_loss: 0.0000 ||:  87%|████████▋ | 157/180 [04:15<00:36,  1.61s/it]\u001b[A\n",
            "pearson(r): 0.7201, loss: 0.0411, reg_loss: 0.0000 ||:  88%|████████▊ | 158/180 [04:16<00:33,  1.53s/it]\u001b[A\n",
            "pearson(r): 0.7208, loss: 0.0411, reg_loss: 0.0000 ||:  88%|████████▊ | 159/180 [04:18<00:31,  1.49s/it]\u001b[A\n",
            "pearson(r): 0.7209, loss: 0.0411, reg_loss: 0.0000 ||:  89%|████████▉ | 160/180 [04:19<00:29,  1.48s/it]\u001b[A\n",
            "pearson(r): 0.7207, loss: 0.0411, reg_loss: 0.0000 ||:  89%|████████▉ | 161/180 [04:22<00:35,  1.87s/it]\u001b[A\n",
            "pearson(r): 0.7200, loss: 0.0412, reg_loss: 0.0000 ||:  90%|█████████ | 162/180 [04:23<00:31,  1.76s/it]\u001b[A\n",
            "pearson(r): 0.7203, loss: 0.0411, reg_loss: 0.0000 ||:  91%|█████████ | 163/180 [04:25<00:30,  1.78s/it]\u001b[A\n",
            "pearson(r): 0.7205, loss: 0.0411, reg_loss: 0.0000 ||:  91%|█████████ | 164/180 [04:26<00:26,  1.67s/it]\u001b[A\n",
            "pearson(r): 0.7209, loss: 0.0411, reg_loss: 0.0000 ||:  92%|█████████▏| 165/180 [04:28<00:23,  1.56s/it]\u001b[A\n",
            "pearson(r): 0.7221, loss: 0.0410, reg_loss: 0.0000 ||:  92%|█████████▏| 166/180 [04:29<00:21,  1.52s/it]\u001b[A\n",
            "pearson(r): 0.7218, loss: 0.0410, reg_loss: 0.0000 ||:  93%|█████████▎| 167/180 [04:31<00:22,  1.73s/it]\u001b[A\n",
            "pearson(r): 0.7220, loss: 0.0410, reg_loss: 0.0000 ||:  93%|█████████▎| 168/180 [04:33<00:19,  1.65s/it]\u001b[A\n",
            "pearson(r): 0.7216, loss: 0.0410, reg_loss: 0.0000 ||:  94%|█████████▍| 169/180 [04:34<00:17,  1.60s/it]\u001b[A\n",
            "pearson(r): 0.7220, loss: 0.0410, reg_loss: 0.0000 ||:  94%|█████████▍| 170/180 [04:36<00:15,  1.56s/it]\u001b[A\n",
            "pearson(r): 0.7221, loss: 0.0409, reg_loss: 0.0000 ||:  95%|█████████▌| 171/180 [04:39<00:18,  2.00s/it]\u001b[A\n",
            "pearson(r): 0.7222, loss: 0.0410, reg_loss: 0.0000 ||:  96%|█████████▌| 172/180 [04:41<00:16,  2.06s/it]\u001b[A\n",
            "pearson(r): 0.7218, loss: 0.0411, reg_loss: 0.0000 ||:  96%|█████████▌| 173/180 [04:43<00:13,  1.90s/it]\u001b[A\n",
            "pearson(r): 0.7219, loss: 0.0411, reg_loss: 0.0000 ||:  97%|█████████▋| 174/180 [04:44<00:10,  1.70s/it]\u001b[A\n",
            "pearson(r): 0.7218, loss: 0.0411, reg_loss: 0.0000 ||:  97%|█████████▋| 175/180 [04:45<00:08,  1.62s/it]\u001b[A\n",
            "pearson(r): 0.7210, loss: 0.0412, reg_loss: 0.0000 ||:  98%|█████████▊| 176/180 [04:48<00:08,  2.04s/it]\u001b[A\n",
            "pearson(r): 0.7198, loss: 0.0414, reg_loss: 0.0000 ||:  98%|█████████▊| 177/180 [04:51<00:06,  2.33s/it]\u001b[A\n",
            "pearson(r): 0.7201, loss: 0.0414, reg_loss: 0.0000 ||:  99%|█████████▉| 178/180 [04:53<00:04,  2.05s/it]\u001b[A\n",
            "pearson(r): 0.7198, loss: 0.0414, reg_loss: 0.0000 ||:  99%|█████████▉| 179/180 [04:54<00:01,  1.96s/it]\u001b[A\n",
            "pearson(r): 0.7207, loss: 0.0413, reg_loss: 0.0000 ||: 100%|██████████| 180/180 [04:56<00:00,  1.65s/it]\n",
            "\n",
            "  0%|          | 0/180 [00:00<?, ?it/s]\u001b[A\n",
            "pearson(r): 0.7552, loss: 0.0379, reg_loss: 0.0000 ||:   1%|          | 1/180 [00:00<00:56,  3.19it/s]\u001b[A\n",
            "pearson(r): 0.8338, loss: 0.0378, reg_loss: 0.0000 ||:   1%|          | 2/180 [00:00<00:55,  3.24it/s]\u001b[A\n",
            "pearson(r): 0.7968, loss: 0.0446, reg_loss: 0.0000 ||:   2%|▏         | 3/180 [00:00<00:50,  3.50it/s]\u001b[A\n",
            "pearson(r): 0.8126, loss: 0.0441, reg_loss: 0.0000 ||:   2%|▏         | 4/180 [00:01<00:52,  3.37it/s]\u001b[A\n",
            "pearson(r): 0.7929, loss: 0.0495, reg_loss: 0.0000 ||:   3%|▎         | 5/180 [00:01<00:50,  3.45it/s]\u001b[A\n",
            "pearson(r): 0.7913, loss: 0.0511, reg_loss: 0.0000 ||:   3%|▎         | 6/180 [00:01<00:50,  3.48it/s]\u001b[A\n",
            "pearson(r): 0.7881, loss: 0.0507, reg_loss: 0.0000 ||:   4%|▍         | 7/180 [00:02<00:54,  3.17it/s]\u001b[A\n",
            "pearson(r): 0.7977, loss: 0.0509, reg_loss: 0.0000 ||:   4%|▍         | 8/180 [00:02<00:51,  3.35it/s]\u001b[A\n",
            "pearson(r): 0.7954, loss: 0.0526, reg_loss: 0.0000 ||:   5%|▌         | 9/180 [00:02<00:48,  3.56it/s]\u001b[A\n",
            "pearson(r): 0.8108, loss: 0.0499, reg_loss: 0.0000 ||:   6%|▌         | 10/180 [00:02<00:47,  3.61it/s]\u001b[A\n",
            "pearson(r): 0.8087, loss: 0.0498, reg_loss: 0.0000 ||:   6%|▌         | 11/180 [00:03<00:46,  3.64it/s]\u001b[A\n",
            "pearson(r): 0.8146, loss: 0.0495, reg_loss: 0.0000 ||:   7%|▋         | 12/180 [00:03<00:45,  3.70it/s]\u001b[A\n",
            "pearson(r): 0.8212, loss: 0.0487, reg_loss: 0.0000 ||:   7%|▋         | 13/180 [00:03<00:44,  3.77it/s]\u001b[A\n",
            "pearson(r): 0.8193, loss: 0.0483, reg_loss: 0.0000 ||:   8%|▊         | 14/180 [00:03<00:45,  3.63it/s]\u001b[A\n",
            "pearson(r): 0.8143, loss: 0.0494, reg_loss: 0.0000 ||:   8%|▊         | 15/180 [00:04<00:43,  3.81it/s]\u001b[A\n",
            "pearson(r): 0.8107, loss: 0.0501, reg_loss: 0.0000 ||:   9%|▉         | 16/180 [00:04<00:48,  3.40it/s]\u001b[A\n",
            "pearson(r): 0.8090, loss: 0.0498, reg_loss: 0.0000 ||:   9%|▉         | 17/180 [00:04<00:45,  3.55it/s]\u001b[A\n",
            "pearson(r): 0.8087, loss: 0.0501, reg_loss: 0.0000 ||:  10%|█         | 18/180 [00:05<00:41,  3.88it/s]\u001b[A\n",
            "pearson(r): 0.8093, loss: 0.0501, reg_loss: 0.0000 ||:  11%|█         | 19/180 [00:05<00:41,  3.92it/s]\u001b[A\n",
            "pearson(r): 0.8100, loss: 0.0498, reg_loss: 0.0000 ||:  11%|█         | 20/180 [00:05<00:41,  3.82it/s]\u001b[A\n",
            "pearson(r): 0.8047, loss: 0.0511, reg_loss: 0.0000 ||:  12%|█▏        | 21/180 [00:05<00:41,  3.86it/s]\u001b[A\n",
            "pearson(r): 0.7989, loss: 0.0519, reg_loss: 0.0000 ||:  12%|█▏        | 22/180 [00:06<00:42,  3.70it/s]\u001b[A\n",
            "pearson(r): 0.7992, loss: 0.0518, reg_loss: 0.0000 ||:  13%|█▎        | 23/180 [00:06<00:42,  3.71it/s]\u001b[A\n",
            "pearson(r): 0.8002, loss: 0.0513, reg_loss: 0.0000 ||:  13%|█▎        | 24/180 [00:06<00:41,  3.72it/s]\u001b[A\n",
            "pearson(r): 0.8028, loss: 0.0510, reg_loss: 0.0000 ||:  14%|█▍        | 25/180 [00:07<00:48,  3.17it/s]\u001b[A\n",
            "pearson(r): 0.8013, loss: 0.0509, reg_loss: 0.0000 ||:  14%|█▍        | 26/180 [00:07<00:46,  3.30it/s]\u001b[A\n",
            "pearson(r): 0.8028, loss: 0.0504, reg_loss: 0.0000 ||:  15%|█▌        | 27/180 [00:07<00:42,  3.59it/s]\u001b[A\n",
            "pearson(r): 0.7998, loss: 0.0509, reg_loss: 0.0000 ||:  16%|█▌        | 28/180 [00:07<00:43,  3.52it/s]\u001b[A\n",
            "pearson(r): 0.7981, loss: 0.0508, reg_loss: 0.0000 ||:  16%|█▌        | 29/180 [00:08<00:43,  3.51it/s]\u001b[A\n",
            "pearson(r): 0.7975, loss: 0.0507, reg_loss: 0.0000 ||:  17%|█▋        | 30/180 [00:08<00:41,  3.63it/s]\u001b[A\n",
            "pearson(r): 0.7993, loss: 0.0502, reg_loss: 0.0000 ||:  17%|█▋        | 31/180 [00:08<00:39,  3.75it/s]\u001b[A\n",
            "pearson(r): 0.7953, loss: 0.0504, reg_loss: 0.0000 ||:  18%|█▊        | 32/180 [00:09<00:52,  2.84it/s]\u001b[A\n",
            "pearson(r): 0.7965, loss: 0.0502, reg_loss: 0.0000 ||:  18%|█▊        | 33/180 [00:09<00:47,  3.07it/s]\u001b[A\n",
            "pearson(r): 0.7967, loss: 0.0499, reg_loss: 0.0000 ||:  19%|█▉        | 34/180 [00:09<00:43,  3.37it/s]\u001b[A\n",
            "pearson(r): 0.7916, loss: 0.0509, reg_loss: 0.0000 ||:  19%|█▉        | 35/180 [00:09<00:42,  3.44it/s]\u001b[A\n",
            "pearson(r): 0.7958, loss: 0.0503, reg_loss: 0.0000 ||:  20%|██        | 36/180 [00:10<00:40,  3.53it/s]\u001b[A\n",
            "pearson(r): 0.7921, loss: 0.0513, reg_loss: 0.0000 ||:  21%|██        | 37/180 [00:10<00:38,  3.68it/s]\u001b[A\n",
            "pearson(r): 0.7919, loss: 0.0517, reg_loss: 0.0000 ||:  21%|██        | 38/180 [00:10<00:43,  3.28it/s]\u001b[A\n",
            "pearson(r): 0.7950, loss: 0.0512, reg_loss: 0.0000 ||:  22%|██▏       | 39/180 [00:11<00:40,  3.50it/s]\u001b[A\n",
            "pearson(r): 0.7908, loss: 0.0520, reg_loss: 0.0000 ||:  22%|██▏       | 40/180 [00:11<00:50,  2.78it/s]\u001b[A\n",
            "pearson(r): 0.7902, loss: 0.0520, reg_loss: 0.0000 ||:  23%|██▎       | 41/180 [00:11<00:46,  2.98it/s]\u001b[A\n",
            "pearson(r): 0.7934, loss: 0.0516, reg_loss: 0.0000 ||:  23%|██▎       | 42/180 [00:12<00:38,  3.54it/s]\u001b[A\n",
            "pearson(r): 0.7941, loss: 0.0513, reg_loss: 0.0000 ||:  24%|██▍       | 43/180 [00:12<00:36,  3.80it/s]\u001b[A\n",
            "pearson(r): 0.7961, loss: 0.0507, reg_loss: 0.0000 ||:  24%|██▍       | 44/180 [00:12<00:34,  3.91it/s]\u001b[A\n",
            "pearson(r): 0.7959, loss: 0.0507, reg_loss: 0.0000 ||:  25%|██▌       | 45/180 [00:12<00:33,  3.99it/s]\u001b[A\n",
            "pearson(r): 0.7960, loss: 0.0506, reg_loss: 0.0000 ||:  26%|██▌       | 46/180 [00:13<00:36,  3.70it/s]\u001b[A\n",
            "pearson(r): 0.7946, loss: 0.0508, reg_loss: 0.0000 ||:  26%|██▌       | 47/180 [00:13<00:36,  3.67it/s]\u001b[A\n",
            "pearson(r): 0.7940, loss: 0.0509, reg_loss: 0.0000 ||:  27%|██▋       | 48/180 [00:13<00:35,  3.68it/s]\u001b[A\n",
            "pearson(r): 0.7925, loss: 0.0513, reg_loss: 0.0000 ||:  27%|██▋       | 49/180 [00:13<00:36,  3.57it/s]\u001b[A\n",
            "pearson(r): 0.7928, loss: 0.0511, reg_loss: 0.0000 ||:  28%|██▊       | 50/180 [00:14<00:34,  3.74it/s]\u001b[A\n",
            "pearson(r): 0.7923, loss: 0.0509, reg_loss: 0.0000 ||:  28%|██▊       | 51/180 [00:14<00:34,  3.74it/s]\u001b[A\n",
            "pearson(r): 0.7931, loss: 0.0507, reg_loss: 0.0000 ||:  29%|██▉       | 52/180 [00:14<00:33,  3.81it/s]\u001b[A\n",
            "pearson(r): 0.7909, loss: 0.0511, reg_loss: 0.0000 ||:  29%|██▉       | 53/180 [00:14<00:33,  3.84it/s]\u001b[A\n",
            "pearson(r): 0.7925, loss: 0.0509, reg_loss: 0.0000 ||:  30%|███       | 54/180 [00:15<00:37,  3.40it/s]\u001b[A\n",
            "pearson(r): 0.7922, loss: 0.0509, reg_loss: 0.0000 ||:  31%|███       | 55/180 [00:15<00:36,  3.46it/s]\u001b[A\n",
            "pearson(r): 0.7915, loss: 0.0510, reg_loss: 0.0000 ||:  31%|███       | 56/180 [00:15<00:36,  3.38it/s]\u001b[A\n",
            "pearson(r): 0.7929, loss: 0.0510, reg_loss: 0.0000 ||:  32%|███▏      | 57/180 [00:16<00:36,  3.36it/s]\u001b[A\n",
            "pearson(r): 0.7940, loss: 0.0507, reg_loss: 0.0000 ||:  32%|███▏      | 58/180 [00:16<00:36,  3.38it/s]\u001b[A\n",
            "pearson(r): 0.7946, loss: 0.0507, reg_loss: 0.0000 ||:  33%|███▎      | 59/180 [00:16<00:35,  3.43it/s]\u001b[A\n",
            "pearson(r): 0.7952, loss: 0.0505, reg_loss: 0.0000 ||:  33%|███▎      | 60/180 [00:17<00:34,  3.46it/s]\u001b[A\n",
            "pearson(r): 0.7938, loss: 0.0507, reg_loss: 0.0000 ||:  34%|███▍      | 61/180 [00:17<00:33,  3.54it/s]\u001b[A\n",
            "pearson(r): 0.7936, loss: 0.0509, reg_loss: 0.0000 ||:  34%|███▍      | 62/180 [00:17<00:35,  3.30it/s]\u001b[A\n",
            "pearson(r): 0.7941, loss: 0.0507, reg_loss: 0.0000 ||:  35%|███▌      | 63/180 [00:17<00:32,  3.58it/s]\u001b[A\n",
            "pearson(r): 0.7954, loss: 0.0503, reg_loss: 0.0000 ||:  36%|███▌      | 64/180 [00:18<00:32,  3.55it/s]\u001b[A\n",
            "pearson(r): 0.7946, loss: 0.0505, reg_loss: 0.0000 ||:  36%|███▌      | 65/180 [00:18<00:33,  3.46it/s]\u001b[A\n",
            "pearson(r): 0.7954, loss: 0.0503, reg_loss: 0.0000 ||:  37%|███▋      | 66/180 [00:18<00:30,  3.74it/s]\u001b[A\n",
            "pearson(r): 0.7956, loss: 0.0503, reg_loss: 0.0000 ||:  37%|███▋      | 67/180 [00:19<00:33,  3.36it/s]\u001b[A\n",
            "pearson(r): 0.7957, loss: 0.0506, reg_loss: 0.0000 ||:  38%|███▊      | 68/180 [00:19<00:41,  2.71it/s]\u001b[A\n",
            "pearson(r): 0.7964, loss: 0.0507, reg_loss: 0.0000 ||:  38%|███▊      | 69/180 [00:19<00:36,  3.07it/s]\u001b[A\n",
            "pearson(r): 0.7966, loss: 0.0506, reg_loss: 0.0000 ||:  39%|███▉      | 70/180 [00:20<00:35,  3.08it/s]\u001b[A\n",
            "pearson(r): 0.7971, loss: 0.0505, reg_loss: 0.0000 ||:  39%|███▉      | 71/180 [00:20<00:33,  3.26it/s]\u001b[A\n",
            "pearson(r): 0.7967, loss: 0.0504, reg_loss: 0.0000 ||:  40%|████      | 72/180 [00:20<00:36,  2.98it/s]\u001b[A\n",
            "pearson(r): 0.7954, loss: 0.0505, reg_loss: 0.0000 ||:  41%|████      | 73/180 [00:21<00:32,  3.31it/s]\u001b[A\n",
            "pearson(r): 0.7951, loss: 0.0505, reg_loss: 0.0000 ||:  41%|████      | 74/180 [00:21<00:31,  3.37it/s]\u001b[A\n",
            "pearson(r): 0.7932, loss: 0.0507, reg_loss: 0.0000 ||:  42%|████▏     | 75/180 [00:21<00:38,  2.72it/s]\u001b[A\n",
            "pearson(r): 0.7937, loss: 0.0506, reg_loss: 0.0000 ||:  42%|████▏     | 76/180 [00:22<00:38,  2.70it/s]\u001b[A\n",
            "pearson(r): 0.7949, loss: 0.0504, reg_loss: 0.0000 ||:  43%|████▎     | 77/180 [00:22<00:36,  2.84it/s]\u001b[A\n",
            "pearson(r): 0.7930, loss: 0.0507, reg_loss: 0.0000 ||:  43%|████▎     | 78/180 [00:22<00:34,  2.99it/s]\u001b[A\n",
            "pearson(r): 0.7935, loss: 0.0506, reg_loss: 0.0000 ||:  44%|████▍     | 79/180 [00:23<00:30,  3.35it/s]\u001b[A\n",
            "pearson(r): 0.7922, loss: 0.0511, reg_loss: 0.0000 ||:  44%|████▍     | 80/180 [00:23<00:28,  3.46it/s]\u001b[A\n",
            "pearson(r): 0.7904, loss: 0.0513, reg_loss: 0.0000 ||:  45%|████▌     | 81/180 [00:23<00:26,  3.74it/s]\u001b[A\n",
            "pearson(r): 0.7908, loss: 0.0509, reg_loss: 0.0000 ||:  46%|████▌     | 82/180 [00:23<00:25,  3.86it/s]\u001b[A\n",
            "pearson(r): 0.7910, loss: 0.0508, reg_loss: 0.0000 ||:  46%|████▌     | 83/180 [00:24<00:32,  2.94it/s]\u001b[A\n",
            "pearson(r): 0.7914, loss: 0.0508, reg_loss: 0.0000 ||:  47%|████▋     | 84/180 [00:24<00:30,  3.10it/s]\u001b[A\n",
            "pearson(r): 0.7923, loss: 0.0507, reg_loss: 0.0000 ||:  47%|████▋     | 85/180 [00:24<00:31,  2.98it/s]\u001b[A\n",
            "pearson(r): 0.7932, loss: 0.0506, reg_loss: 0.0000 ||:  48%|████▊     | 86/180 [00:25<00:34,  2.69it/s]\u001b[A\n",
            "pearson(r): 0.7938, loss: 0.0505, reg_loss: 0.0000 ||:  48%|████▊     | 87/180 [00:25<00:31,  2.93it/s]\u001b[A\n",
            "pearson(r): 0.7951, loss: 0.0504, reg_loss: 0.0000 ||:  49%|████▉     | 88/180 [00:25<00:29,  3.14it/s]\u001b[A\n",
            "pearson(r): 0.7961, loss: 0.0502, reg_loss: 0.0000 ||:  49%|████▉     | 89/180 [00:26<00:26,  3.47it/s]\u001b[A\n",
            "pearson(r): 0.7963, loss: 0.0502, reg_loss: 0.0000 ||:  50%|█████     | 90/180 [00:26<00:26,  3.39it/s]\u001b[A\n",
            "pearson(r): 0.7965, loss: 0.0502, reg_loss: 0.0000 ||:  51%|█████     | 91/180 [00:26<00:26,  3.39it/s]\u001b[A\n",
            "pearson(r): 0.7966, loss: 0.0502, reg_loss: 0.0000 ||:  51%|█████     | 92/180 [00:26<00:23,  3.67it/s]\u001b[A\n",
            "pearson(r): 0.7970, loss: 0.0500, reg_loss: 0.0000 ||:  52%|█████▏    | 93/180 [00:27<00:22,  3.91it/s]\u001b[A\n",
            "pearson(r): 0.7972, loss: 0.0499, reg_loss: 0.0000 ||:  52%|█████▏    | 94/180 [00:27<00:22,  3.89it/s]\u001b[A\n",
            "pearson(r): 0.7982, loss: 0.0497, reg_loss: 0.0000 ||:  53%|█████▎    | 95/180 [00:27<00:22,  3.84it/s]\u001b[A\n",
            "pearson(r): 0.7969, loss: 0.0496, reg_loss: 0.0000 ||:  53%|█████▎    | 96/180 [00:28<00:25,  3.23it/s]\u001b[A\n",
            "pearson(r): 0.7969, loss: 0.0496, reg_loss: 0.0000 ||:  54%|█████▍    | 97/180 [00:28<00:24,  3.34it/s]\u001b[A\n",
            "pearson(r): 0.7962, loss: 0.0498, reg_loss: 0.0000 ||:  54%|█████▍    | 98/180 [00:28<00:27,  3.00it/s]\u001b[A\n",
            "pearson(r): 0.7981, loss: 0.0497, reg_loss: 0.0000 ||:  55%|█████▌    | 99/180 [00:29<00:23,  3.44it/s]\u001b[A\n",
            "pearson(r): 0.7976, loss: 0.0498, reg_loss: 0.0000 ||:  56%|█████▌    | 100/180 [00:29<00:23,  3.37it/s]\u001b[A\n",
            "pearson(r): 0.7969, loss: 0.0498, reg_loss: 0.0000 ||:  56%|█████▌    | 101/180 [00:29<00:23,  3.38it/s]\u001b[A\n",
            "pearson(r): 0.7979, loss: 0.0496, reg_loss: 0.0000 ||:  57%|█████▋    | 102/180 [00:29<00:22,  3.47it/s]\u001b[A\n",
            "pearson(r): 0.7980, loss: 0.0496, reg_loss: 0.0000 ||:  57%|█████▋    | 103/180 [00:30<00:21,  3.58it/s]\u001b[A\n",
            "pearson(r): 0.7984, loss: 0.0495, reg_loss: 0.0000 ||:  58%|█████▊    | 104/180 [00:30<00:19,  3.82it/s]\u001b[A\n",
            "pearson(r): 0.7974, loss: 0.0496, reg_loss: 0.0000 ||:  58%|█████▊    | 105/180 [00:30<00:19,  3.90it/s]\u001b[A\n",
            "pearson(r): 0.7969, loss: 0.0497, reg_loss: 0.0000 ||:  59%|█████▉    | 106/180 [00:30<00:19,  3.75it/s]\u001b[A\n",
            "pearson(r): 0.7984, loss: 0.0495, reg_loss: 0.0000 ||:  59%|█████▉    | 107/180 [00:31<00:21,  3.41it/s]\u001b[A\n",
            "pearson(r): 0.7982, loss: 0.0496, reg_loss: 0.0000 ||:  60%|██████    | 108/180 [00:31<00:20,  3.56it/s]\u001b[A\n",
            "pearson(r): 0.7986, loss: 0.0495, reg_loss: 0.0000 ||:  61%|██████    | 109/180 [00:31<00:17,  3.98it/s]\u001b[A\n",
            "pearson(r): 0.7980, loss: 0.0495, reg_loss: 0.0000 ||:  61%|██████    | 110/180 [00:31<00:18,  3.86it/s]\u001b[A\n",
            "pearson(r): 0.7976, loss: 0.0495, reg_loss: 0.0000 ||:  62%|██████▏   | 111/180 [00:32<00:23,  2.92it/s]\u001b[A\n",
            "pearson(r): 0.7978, loss: 0.0494, reg_loss: 0.0000 ||:  62%|██████▏   | 112/180 [00:32<00:22,  3.01it/s]\u001b[A\n",
            "pearson(r): 0.7984, loss: 0.0496, reg_loss: 0.0000 ||:  63%|██████▎   | 113/180 [00:33<00:20,  3.26it/s]\u001b[A\n",
            "pearson(r): 0.7983, loss: 0.0495, reg_loss: 0.0000 ||:  63%|██████▎   | 114/180 [00:33<00:19,  3.44it/s]\u001b[A\n",
            "pearson(r): 0.7983, loss: 0.0496, reg_loss: 0.0000 ||:  64%|██████▍   | 115/180 [00:33<00:18,  3.53it/s]\u001b[A\n",
            "pearson(r): 0.7985, loss: 0.0495, reg_loss: 0.0000 ||:  64%|██████▍   | 116/180 [00:34<00:20,  3.07it/s]\u001b[A\n",
            "pearson(r): 0.7983, loss: 0.0495, reg_loss: 0.0000 ||:  65%|██████▌   | 117/180 [00:34<00:19,  3.24it/s]\u001b[A\n",
            "pearson(r): 0.7987, loss: 0.0494, reg_loss: 0.0000 ||:  66%|██████▌   | 118/180 [00:34<00:20,  3.04it/s]\u001b[A\n",
            "pearson(r): 0.7987, loss: 0.0493, reg_loss: 0.0000 ||:  66%|██████▌   | 119/180 [00:34<00:20,  3.03it/s]\u001b[A\n",
            "pearson(r): 0.7987, loss: 0.0494, reg_loss: 0.0000 ||:  67%|██████▋   | 120/180 [00:35<00:19,  3.04it/s]\u001b[A\n",
            "pearson(r): 0.7989, loss: 0.0494, reg_loss: 0.0000 ||:  67%|██████▋   | 121/180 [00:35<00:17,  3.32it/s]\u001b[A\n",
            "pearson(r): 0.7992, loss: 0.0495, reg_loss: 0.0000 ||:  68%|██████▊   | 122/180 [00:35<00:16,  3.45it/s]\u001b[A\n",
            "pearson(r): 0.7994, loss: 0.0495, reg_loss: 0.0000 ||:  68%|██████▊   | 123/180 [00:36<00:15,  3.63it/s]\u001b[A\n",
            "pearson(r): 0.7987, loss: 0.0497, reg_loss: 0.0000 ||:  69%|██████▉   | 124/180 [00:36<00:14,  3.82it/s]\u001b[A\n",
            "pearson(r): 0.7995, loss: 0.0496, reg_loss: 0.0000 ||:  69%|██████▉   | 125/180 [00:36<00:12,  4.31it/s]\u001b[A\n",
            "pearson(r): 0.7995, loss: 0.0497, reg_loss: 0.0000 ||:  70%|███████   | 126/180 [00:36<00:13,  4.10it/s]\u001b[A\n",
            "pearson(r): 0.7988, loss: 0.0499, reg_loss: 0.0000 ||:  71%|███████   | 127/180 [00:36<00:13,  3.99it/s]\u001b[A\n",
            "pearson(r): 0.7990, loss: 0.0498, reg_loss: 0.0000 ||:  71%|███████   | 128/180 [00:37<00:13,  3.94it/s]\u001b[A\n",
            "pearson(r): 0.7984, loss: 0.0498, reg_loss: 0.0000 ||:  72%|███████▏  | 129/180 [00:37<00:17,  2.99it/s]\u001b[A\n",
            "pearson(r): 0.7982, loss: 0.0499, reg_loss: 0.0000 ||:  72%|███████▏  | 130/180 [00:38<00:16,  2.98it/s]\u001b[A\n",
            "pearson(r): 0.7983, loss: 0.0500, reg_loss: 0.0000 ||:  73%|███████▎  | 131/180 [00:38<00:17,  2.82it/s]\u001b[A\n",
            "pearson(r): 0.7985, loss: 0.0499, reg_loss: 0.0000 ||:  73%|███████▎  | 132/180 [00:38<00:15,  3.04it/s]\u001b[A\n",
            "pearson(r): 0.7985, loss: 0.0498, reg_loss: 0.0000 ||:  74%|███████▍  | 133/180 [00:39<00:14,  3.15it/s]\u001b[A\n",
            "pearson(r): 0.7992, loss: 0.0498, reg_loss: 0.0000 ||:  74%|███████▍  | 134/180 [00:39<00:14,  3.07it/s]\u001b[A\n",
            "pearson(r): 0.7989, loss: 0.0497, reg_loss: 0.0000 ||:  75%|███████▌  | 135/180 [00:39<00:17,  2.56it/s]\u001b[A\n",
            "pearson(r): 0.7990, loss: 0.0497, reg_loss: 0.0000 ||:  76%|███████▌  | 136/180 [00:40<00:15,  2.82it/s]\u001b[A\n",
            "pearson(r): 0.7989, loss: 0.0496, reg_loss: 0.0000 ||:  76%|███████▌  | 137/180 [00:40<00:14,  3.03it/s]\u001b[A\n",
            "pearson(r): 0.7995, loss: 0.0494, reg_loss: 0.0000 ||:  77%|███████▋  | 138/180 [00:40<00:13,  3.18it/s]\u001b[A\n",
            "pearson(r): 0.8000, loss: 0.0494, reg_loss: 0.0000 ||:  77%|███████▋  | 139/180 [00:41<00:12,  3.26it/s]\u001b[A\n",
            "pearson(r): 0.8004, loss: 0.0492, reg_loss: 0.0000 ||:  78%|███████▊  | 140/180 [00:41<00:11,  3.45it/s]\u001b[A\n",
            "pearson(r): 0.8010, loss: 0.0491, reg_loss: 0.0000 ||:  78%|███████▊  | 141/180 [00:41<00:10,  3.59it/s]\u001b[A\n",
            "pearson(r): 0.8012, loss: 0.0491, reg_loss: 0.0000 ||:  79%|███████▉  | 142/180 [00:41<00:11,  3.27it/s]\u001b[A\n",
            "pearson(r): 0.8013, loss: 0.0490, reg_loss: 0.0000 ||:  79%|███████▉  | 143/180 [00:42<00:10,  3.67it/s]\u001b[A\n",
            "pearson(r): 0.8014, loss: 0.0490, reg_loss: 0.0000 ||:  80%|████████  | 144/180 [00:42<00:09,  3.73it/s]\u001b[A\n",
            "pearson(r): 0.8013, loss: 0.0489, reg_loss: 0.0000 ||:  81%|████████  | 145/180 [00:42<00:09,  3.77it/s]\u001b[A\n",
            "pearson(r): 0.8018, loss: 0.0488, reg_loss: 0.0000 ||:  81%|████████  | 146/180 [00:42<00:09,  3.74it/s]\u001b[A\n",
            "pearson(r): 0.8019, loss: 0.0488, reg_loss: 0.0000 ||:  82%|████████▏ | 147/180 [00:43<00:08,  3.73it/s]\u001b[A\n",
            "pearson(r): 0.8021, loss: 0.0487, reg_loss: 0.0000 ||:  82%|████████▏ | 148/180 [00:43<00:08,  3.79it/s]\u001b[A\n",
            "pearson(r): 0.8020, loss: 0.0487, reg_loss: 0.0000 ||:  83%|████████▎ | 149/180 [00:43<00:09,  3.43it/s]\u001b[A\n",
            "pearson(r): 0.8022, loss: 0.0487, reg_loss: 0.0000 ||:  83%|████████▎ | 150/180 [00:44<00:07,  3.76it/s]\u001b[A\n",
            "pearson(r): 0.8022, loss: 0.0487, reg_loss: 0.0000 ||:  84%|████████▍ | 151/180 [00:44<00:07,  3.85it/s]\u001b[A\n",
            "pearson(r): 0.8024, loss: 0.0487, reg_loss: 0.0000 ||:  84%|████████▍ | 152/180 [00:44<00:06,  4.04it/s]\u001b[A\n",
            "pearson(r): 0.8022, loss: 0.0487, reg_loss: 0.0000 ||:  85%|████████▌ | 153/180 [00:45<00:08,  3.01it/s]\u001b[A\n",
            "pearson(r): 0.8018, loss: 0.0488, reg_loss: 0.0000 ||:  86%|████████▌ | 154/180 [00:45<00:07,  3.26it/s]\u001b[A\n",
            "pearson(r): 0.8013, loss: 0.0489, reg_loss: 0.0000 ||:  86%|████████▌ | 155/180 [00:45<00:07,  3.40it/s]\u001b[A\n",
            "pearson(r): 0.8013, loss: 0.0489, reg_loss: 0.0000 ||:  87%|████████▋ | 156/180 [00:46<00:08,  2.78it/s]\u001b[A\n",
            "pearson(r): 0.8012, loss: 0.0489, reg_loss: 0.0000 ||:  87%|████████▋ | 157/180 [00:46<00:07,  2.94it/s]\u001b[A\n",
            "pearson(r): 0.8009, loss: 0.0490, reg_loss: 0.0000 ||:  88%|████████▊ | 158/180 [00:46<00:06,  3.18it/s]\u001b[A\n",
            "pearson(r): 0.8007, loss: 0.0490, reg_loss: 0.0000 ||:  88%|████████▊ | 159/180 [00:47<00:08,  2.61it/s]\u001b[A\n",
            "pearson(r): 0.8000, loss: 0.0492, reg_loss: 0.0000 ||:  89%|████████▉ | 160/180 [00:47<00:07,  2.83it/s]\u001b[A\n",
            "pearson(r): 0.7996, loss: 0.0492, reg_loss: 0.0000 ||:  89%|████████▉ | 161/180 [00:47<00:06,  3.09it/s]\u001b[A\n",
            "pearson(r): 0.7992, loss: 0.0493, reg_loss: 0.0000 ||:  90%|█████████ | 162/180 [00:48<00:06,  2.72it/s]\u001b[A\n",
            "pearson(r): 0.7989, loss: 0.0492, reg_loss: 0.0000 ||:  91%|█████████ | 163/180 [00:48<00:07,  2.41it/s]\u001b[A\n",
            "pearson(r): 0.7989, loss: 0.0492, reg_loss: 0.0000 ||:  91%|█████████ | 164/180 [00:48<00:06,  2.60it/s]\u001b[A\n",
            "pearson(r): 0.7986, loss: 0.0493, reg_loss: 0.0000 ||:  92%|█████████▏| 165/180 [00:49<00:05,  2.70it/s]\u001b[A\n",
            "pearson(r): 0.7980, loss: 0.0493, reg_loss: 0.0000 ||:  92%|█████████▏| 166/180 [00:49<00:04,  2.84it/s]\u001b[A\n",
            "pearson(r): 0.7976, loss: 0.0494, reg_loss: 0.0000 ||:  93%|█████████▎| 167/180 [00:49<00:04,  2.99it/s]\u001b[A\n",
            "pearson(r): 0.7977, loss: 0.0494, reg_loss: 0.0000 ||:  93%|█████████▎| 168/180 [00:50<00:03,  3.14it/s]\u001b[A\n",
            "pearson(r): 0.7970, loss: 0.0496, reg_loss: 0.0000 ||:  94%|█████████▍| 169/180 [00:50<00:03,  2.98it/s]\u001b[A\n",
            "pearson(r): 0.7972, loss: 0.0496, reg_loss: 0.0000 ||:  94%|█████████▍| 170/180 [00:50<00:03,  3.06it/s]\u001b[A\n",
            "pearson(r): 0.7974, loss: 0.0495, reg_loss: 0.0000 ||:  95%|█████████▌| 171/180 [00:51<00:02,  3.17it/s]\u001b[A\n",
            "pearson(r): 0.7977, loss: 0.0495, reg_loss: 0.0000 ||:  96%|█████████▌| 172/180 [00:51<00:02,  3.25it/s]\u001b[A\n",
            "pearson(r): 0.7977, loss: 0.0495, reg_loss: 0.0000 ||:  96%|█████████▌| 173/180 [00:51<00:02,  3.33it/s]\u001b[A\n",
            "pearson(r): 0.7984, loss: 0.0495, reg_loss: 0.0000 ||:  97%|█████████▋| 174/180 [00:52<00:01,  3.30it/s]\u001b[A\n",
            "pearson(r): 0.7986, loss: 0.0495, reg_loss: 0.0000 ||:  97%|█████████▋| 175/180 [00:52<00:01,  3.52it/s]\u001b[A\n",
            "pearson(r): 0.7990, loss: 0.0495, reg_loss: 0.0000 ||:  98%|█████████▊| 176/180 [00:52<00:01,  3.55it/s]\u001b[A\n",
            "pearson(r): 0.7991, loss: 0.0494, reg_loss: 0.0000 ||:  98%|█████████▊| 177/180 [00:52<00:00,  3.52it/s]\u001b[A\n",
            "pearson(r): 0.7992, loss: 0.0494, reg_loss: 0.0000 ||:  99%|█████████▉| 178/180 [00:53<00:00,  3.55it/s]\u001b[A\n",
            "pearson(r): 0.7994, loss: 0.0493, reg_loss: 0.0000 ||:  99%|█████████▉| 179/180 [00:53<00:00,  3.60it/s]\u001b[A\n",
            "pearson(r): 0.7991, loss: 0.0494, reg_loss: 0.0000 ||: 100%|██████████| 180/180 [00:53<00:00,  3.35it/s]\n",
            "\n",
            "  0%|          | 0/180 [00:00<?, ?it/s]\u001b[A\n",
            "pearson(r): 0.7910, loss: 0.0364, reg_loss: 0.0000 ||:   1%|          | 1/180 [00:01<04:35,  1.54s/it]\u001b[A\n",
            "pearson(r): 0.7885, loss: 0.0336, reg_loss: 0.0000 ||:   1%|          | 2/180 [00:03<04:47,  1.61s/it]\u001b[A\n",
            "pearson(r): 0.7886, loss: 0.0359, reg_loss: 0.0000 ||:   2%|▏         | 3/180 [00:04<04:41,  1.59s/it]\u001b[A\n",
            "pearson(r): 0.7937, loss: 0.0349, reg_loss: 0.0000 ||:   2%|▏         | 4/180 [00:06<04:19,  1.48s/it]\u001b[A\n",
            "pearson(r): 0.7974, loss: 0.0343, reg_loss: 0.0000 ||:   3%|▎         | 5/180 [00:08<04:51,  1.67s/it]\u001b[A\n",
            "pearson(r): 0.8035, loss: 0.0339, reg_loss: 0.0000 ||:   3%|▎         | 6/180 [00:09<04:41,  1.62s/it]\u001b[A\n",
            "pearson(r): 0.8047, loss: 0.0328, reg_loss: 0.0000 ||:   4%|▍         | 7/180 [00:11<04:30,  1.56s/it]\u001b[A\n",
            "pearson(r): 0.8083, loss: 0.0312, reg_loss: 0.0000 ||:   4%|▍         | 8/180 [00:13<04:57,  1.73s/it]\u001b[A\n",
            "pearson(r): 0.8099, loss: 0.0306, reg_loss: 0.0000 ||:   5%|▌         | 9/180 [00:14<04:55,  1.73s/it]\u001b[A\n",
            "pearson(r): 0.8132, loss: 0.0300, reg_loss: 0.0000 ||:   6%|▌         | 10/180 [00:16<04:46,  1.69s/it]\u001b[A\n",
            "pearson(r): 0.8190, loss: 0.0300, reg_loss: 0.0000 ||:   6%|▌         | 11/180 [00:18<04:34,  1.63s/it]\u001b[A\n",
            "pearson(r): 0.8129, loss: 0.0313, reg_loss: 0.0000 ||:   7%|▋         | 12/180 [00:20<05:39,  2.02s/it]\u001b[A\n",
            "pearson(r): 0.8172, loss: 0.0308, reg_loss: 0.0000 ||:   7%|▋         | 13/180 [00:22<05:03,  1.82s/it]\u001b[A\n",
            "pearson(r): 0.8142, loss: 0.0312, reg_loss: 0.0000 ||:   8%|▊         | 14/180 [00:23<04:40,  1.69s/it]\u001b[A\n",
            "pearson(r): 0.8156, loss: 0.0306, reg_loss: 0.0000 ||:   8%|▊         | 15/180 [00:24<04:15,  1.55s/it]\u001b[A\n",
            "pearson(r): 0.8083, loss: 0.0312, reg_loss: 0.0000 ||:   9%|▉         | 16/180 [00:27<05:27,  2.00s/it]\u001b[A\n",
            "pearson(r): 0.8070, loss: 0.0308, reg_loss: 0.0000 ||:   9%|▉         | 17/180 [00:29<05:02,  1.86s/it]\u001b[A\n",
            "pearson(r): 0.8095, loss: 0.0302, reg_loss: 0.0000 ||:  10%|█         | 18/180 [00:31<04:53,  1.81s/it]\u001b[A\n",
            "pearson(r): 0.8065, loss: 0.0312, reg_loss: 0.0000 ||:  11%|█         | 19/180 [00:32<04:42,  1.76s/it]\u001b[A\n",
            "pearson(r): 0.8068, loss: 0.0311, reg_loss: 0.0000 ||:  11%|█         | 20/180 [00:34<04:31,  1.70s/it]\u001b[A\n",
            "pearson(r): 0.8059, loss: 0.0310, reg_loss: 0.0000 ||:  12%|█▏        | 21/180 [00:36<04:59,  1.88s/it]\u001b[A\n",
            "pearson(r): 0.8052, loss: 0.0314, reg_loss: 0.0000 ||:  12%|█▏        | 22/180 [00:38<04:36,  1.75s/it]\u001b[A\n",
            "pearson(r): 0.8014, loss: 0.0315, reg_loss: 0.0000 ||:  13%|█▎        | 23/180 [00:39<04:24,  1.69s/it]\u001b[A\n",
            "pearson(r): 0.8015, loss: 0.0314, reg_loss: 0.0000 ||:  13%|█▎        | 24/180 [00:41<04:06,  1.58s/it]\u001b[A\n",
            "pearson(r): 0.7965, loss: 0.0320, reg_loss: 0.0000 ||:  14%|█▍        | 25/180 [00:42<03:44,  1.45s/it]\u001b[A\n",
            "pearson(r): 0.7996, loss: 0.0316, reg_loss: 0.0000 ||:  14%|█▍        | 26/180 [00:43<03:35,  1.40s/it]\u001b[A\n",
            "pearson(r): 0.8003, loss: 0.0314, reg_loss: 0.0000 ||:  15%|█▌        | 27/180 [00:45<03:54,  1.53s/it]\u001b[A\n",
            "pearson(r): 0.8017, loss: 0.0314, reg_loss: 0.0000 ||:  16%|█▌        | 28/180 [00:46<03:29,  1.38s/it]\u001b[A\n",
            "pearson(r): 0.8017, loss: 0.0314, reg_loss: 0.0000 ||:  16%|█▌        | 29/180 [00:47<03:32,  1.41s/it]\u001b[A\n",
            "pearson(r): 0.7939, loss: 0.0321, reg_loss: 0.0000 ||:  17%|█▋        | 30/180 [00:49<03:44,  1.50s/it]\u001b[A\n",
            "pearson(r): 0.7906, loss: 0.0321, reg_loss: 0.0000 ||:  17%|█▋        | 31/180 [00:50<03:37,  1.46s/it]\u001b[A\n",
            "pearson(r): 0.7869, loss: 0.0322, reg_loss: 0.0000 ||:  18%|█▊        | 32/180 [00:53<04:44,  1.92s/it]\u001b[A\n",
            "pearson(r): 0.7867, loss: 0.0323, reg_loss: 0.0000 ||:  18%|█▊        | 33/180 [00:55<04:23,  1.79s/it]\u001b[A\n",
            "pearson(r): 0.7871, loss: 0.0322, reg_loss: 0.0000 ||:  19%|█▉        | 34/180 [00:56<04:01,  1.65s/it]\u001b[A\n",
            "pearson(r): 0.7862, loss: 0.0324, reg_loss: 0.0000 ||:  19%|█▉        | 35/180 [00:58<03:52,  1.61s/it]\u001b[A\n",
            "pearson(r): 0.7850, loss: 0.0324, reg_loss: 0.0000 ||:  20%|██        | 36/180 [00:59<04:00,  1.67s/it]\u001b[A\n",
            "pearson(r): 0.7826, loss: 0.0326, reg_loss: 0.0000 ||:  21%|██        | 37/180 [01:01<03:49,  1.61s/it]\u001b[A\n",
            "pearson(r): 0.7837, loss: 0.0325, reg_loss: 0.0000 ||:  21%|██        | 38/180 [01:02<03:30,  1.48s/it]\u001b[A\n",
            "pearson(r): 0.7825, loss: 0.0324, reg_loss: 0.0000 ||:  22%|██▏       | 39/180 [01:04<03:26,  1.47s/it]\u001b[A\n",
            "pearson(r): 0.7827, loss: 0.0326, reg_loss: 0.0000 ||:  22%|██▏       | 40/180 [01:06<04:04,  1.74s/it]\u001b[A\n",
            "pearson(r): 0.7831, loss: 0.0327, reg_loss: 0.0000 ||:  23%|██▎       | 41/180 [01:08<04:01,  1.74s/it]\u001b[A\n",
            "pearson(r): 0.7837, loss: 0.0325, reg_loss: 0.0000 ||:  23%|██▎       | 42/180 [01:09<03:51,  1.68s/it]\u001b[A\n",
            "pearson(r): 0.7803, loss: 0.0330, reg_loss: 0.0000 ||:  24%|██▍       | 43/180 [01:12<04:48,  2.11s/it]\u001b[A\n",
            "pearson(r): 0.7754, loss: 0.0335, reg_loss: 0.0000 ||:  24%|██▍       | 44/180 [01:14<04:17,  1.89s/it]\u001b[A\n",
            "pearson(r): 0.7774, loss: 0.0334, reg_loss: 0.0000 ||:  25%|██▌       | 45/180 [01:15<03:57,  1.76s/it]\u001b[A\n",
            "pearson(r): 0.7789, loss: 0.0335, reg_loss: 0.0000 ||:  26%|██▌       | 46/180 [01:17<03:51,  1.72s/it]\u001b[A\n",
            "pearson(r): 0.7776, loss: 0.0335, reg_loss: 0.0000 ||:  26%|██▌       | 47/180 [01:18<03:34,  1.62s/it]\u001b[A\n",
            "pearson(r): 0.7774, loss: 0.0335, reg_loss: 0.0000 ||:  27%|██▋       | 48/180 [01:20<03:25,  1.56s/it]\u001b[A\n",
            "pearson(r): 0.7753, loss: 0.0336, reg_loss: 0.0000 ||:  27%|██▋       | 49/180 [01:23<04:18,  1.97s/it]\u001b[A\n",
            "pearson(r): 0.7745, loss: 0.0338, reg_loss: 0.0000 ||:  28%|██▊       | 50/180 [01:24<04:03,  1.87s/it]\u001b[A\n",
            "pearson(r): 0.7777, loss: 0.0336, reg_loss: 0.0000 ||:  28%|██▊       | 51/180 [01:26<03:41,  1.72s/it]\u001b[A\n",
            "pearson(r): 0.7782, loss: 0.0334, reg_loss: 0.0000 ||:  29%|██▉       | 52/180 [01:28<03:52,  1.82s/it]\u001b[A\n",
            "pearson(r): 0.7807, loss: 0.0332, reg_loss: 0.0000 ||:  29%|██▉       | 53/180 [01:29<03:43,  1.76s/it]\u001b[A\n",
            "pearson(r): 0.7798, loss: 0.0333, reg_loss: 0.0000 ||:  30%|███       | 54/180 [01:31<03:29,  1.66s/it]\u001b[A\n",
            "pearson(r): 0.7786, loss: 0.0334, reg_loss: 0.0000 ||:  31%|███       | 55/180 [01:32<03:24,  1.64s/it]\u001b[A\n",
            "pearson(r): 0.7784, loss: 0.0333, reg_loss: 0.0000 ||:  31%|███       | 56/180 [01:34<03:17,  1.59s/it]\u001b[A\n",
            "pearson(r): 0.7794, loss: 0.0331, reg_loss: 0.0000 ||:  32%|███▏      | 57/180 [01:35<03:15,  1.59s/it]\u001b[A\n",
            "pearson(r): 0.7802, loss: 0.0331, reg_loss: 0.0000 ||:  32%|███▏      | 58/180 [01:37<03:08,  1.54s/it]\u001b[A\n",
            "pearson(r): 0.7808, loss: 0.0332, reg_loss: 0.0000 ||:  33%|███▎      | 59/180 [01:38<03:03,  1.51s/it]\u001b[A\n",
            "pearson(r): 0.7828, loss: 0.0329, reg_loss: 0.0000 ||:  33%|███▎      | 60/180 [01:40<03:08,  1.57s/it]\u001b[A\n",
            "pearson(r): 0.7832, loss: 0.0329, reg_loss: 0.0000 ||:  34%|███▍      | 61/180 [01:42<03:08,  1.59s/it]\u001b[A\n",
            "pearson(r): 0.7829, loss: 0.0328, reg_loss: 0.0000 ||:  34%|███▍      | 62/180 [01:43<02:54,  1.47s/it]\u001b[A\n",
            "pearson(r): 0.7827, loss: 0.0328, reg_loss: 0.0000 ||:  35%|███▌      | 63/180 [01:44<02:54,  1.50s/it]\u001b[A\n",
            "pearson(r): 0.7843, loss: 0.0328, reg_loss: 0.0000 ||:  36%|███▌      | 64/180 [01:46<02:53,  1.50s/it]\u001b[A\n",
            "pearson(r): 0.7828, loss: 0.0329, reg_loss: 0.0000 ||:  36%|███▌      | 65/180 [01:48<03:12,  1.68s/it]\u001b[A\n",
            "pearson(r): 0.7828, loss: 0.0329, reg_loss: 0.0000 ||:  37%|███▋      | 66/180 [01:49<03:00,  1.58s/it]\u001b[A\n",
            "pearson(r): 0.7823, loss: 0.0329, reg_loss: 0.0000 ||:  37%|███▋      | 67/180 [01:51<02:52,  1.53s/it]\u001b[A\n",
            "pearson(r): 0.7814, loss: 0.0329, reg_loss: 0.0000 ||:  38%|███▊      | 68/180 [01:52<02:49,  1.51s/it]\u001b[A\n",
            "pearson(r): 0.7806, loss: 0.0329, reg_loss: 0.0000 ||:  38%|███▊      | 69/180 [01:54<02:49,  1.53s/it]\u001b[A\n",
            "pearson(r): 0.7801, loss: 0.0329, reg_loss: 0.0000 ||:  39%|███▉      | 70/180 [01:55<02:53,  1.58s/it]\u001b[A\n",
            "pearson(r): 0.7811, loss: 0.0330, reg_loss: 0.0000 ||:  39%|███▉      | 71/180 [01:57<03:05,  1.70s/it]\u001b[A\n",
            "pearson(r): 0.7811, loss: 0.0329, reg_loss: 0.0000 ||:  40%|████      | 72/180 [01:59<02:50,  1.57s/it]\u001b[A\n",
            "pearson(r): 0.7805, loss: 0.0330, reg_loss: 0.0000 ||:  41%|████      | 73/180 [02:00<02:34,  1.45s/it]\u001b[A\n",
            "pearson(r): 0.7811, loss: 0.0329, reg_loss: 0.0000 ||:  41%|████      | 74/180 [02:01<02:30,  1.42s/it]\u001b[A\n",
            "pearson(r): 0.7828, loss: 0.0327, reg_loss: 0.0000 ||:  42%|████▏     | 75/180 [02:03<02:36,  1.49s/it]\u001b[A\n",
            "pearson(r): 0.7827, loss: 0.0328, reg_loss: 0.0000 ||:  42%|████▏     | 76/180 [02:04<02:20,  1.36s/it]\u001b[A\n",
            "pearson(r): 0.7813, loss: 0.0329, reg_loss: 0.0000 ||:  43%|████▎     | 77/180 [02:05<02:19,  1.36s/it]\u001b[A\n",
            "pearson(r): 0.7815, loss: 0.0329, reg_loss: 0.0000 ||:  43%|████▎     | 78/180 [02:07<02:25,  1.42s/it]\u001b[A\n",
            "pearson(r): 0.7807, loss: 0.0331, reg_loss: 0.0000 ||:  44%|████▍     | 79/180 [02:10<03:12,  1.90s/it]\u001b[A\n",
            "pearson(r): 0.7809, loss: 0.0330, reg_loss: 0.0000 ||:  44%|████▍     | 80/180 [02:11<03:02,  1.82s/it]\u001b[A\n",
            "pearson(r): 0.7818, loss: 0.0330, reg_loss: 0.0000 ||:  45%|████▌     | 81/180 [02:13<02:47,  1.69s/it]\u001b[A\n",
            "pearson(r): 0.7813, loss: 0.0331, reg_loss: 0.0000 ||:  46%|████▌     | 82/180 [02:16<03:18,  2.03s/it]\u001b[A\n",
            "pearson(r): 0.7823, loss: 0.0330, reg_loss: 0.0000 ||:  46%|████▌     | 83/180 [02:17<02:51,  1.77s/it]\u001b[A\n",
            "pearson(r): 0.7823, loss: 0.0330, reg_loss: 0.0000 ||:  47%|████▋     | 84/180 [02:18<02:43,  1.71s/it]\u001b[A\n",
            "pearson(r): 0.7822, loss: 0.0331, reg_loss: 0.0000 ||:  47%|████▋     | 85/180 [02:20<02:51,  1.81s/it]\u001b[A\n",
            "pearson(r): 0.7819, loss: 0.0331, reg_loss: 0.0000 ||:  48%|████▊     | 86/180 [02:22<02:38,  1.69s/it]\u001b[A\n",
            "pearson(r): 0.7826, loss: 0.0329, reg_loss: 0.0000 ||:  48%|████▊     | 87/180 [02:24<02:44,  1.77s/it]\u001b[A\n",
            "pearson(r): 0.7831, loss: 0.0328, reg_loss: 0.0000 ||:  49%|████▉     | 88/180 [02:25<02:35,  1.69s/it]\u001b[A\n",
            "pearson(r): 0.7837, loss: 0.0327, reg_loss: 0.0000 ||:  49%|████▉     | 89/180 [02:28<02:48,  1.86s/it]\u001b[A\n",
            "pearson(r): 0.7835, loss: 0.0326, reg_loss: 0.0000 ||:  50%|█████     | 90/180 [02:29<02:36,  1.74s/it]\u001b[A\n",
            "pearson(r): 0.7827, loss: 0.0327, reg_loss: 0.0000 ||:  51%|█████     | 91/180 [02:31<02:33,  1.72s/it]\u001b[A\n",
            "pearson(r): 0.7825, loss: 0.0326, reg_loss: 0.0000 ||:  51%|█████     | 92/180 [02:32<02:24,  1.64s/it]\u001b[A\n",
            "pearson(r): 0.7830, loss: 0.0328, reg_loss: 0.0000 ||:  52%|█████▏    | 93/180 [02:34<02:18,  1.59s/it]\u001b[A\n",
            "pearson(r): 0.7839, loss: 0.0328, reg_loss: 0.0000 ||:  52%|█████▏    | 94/180 [02:35<02:18,  1.61s/it]\u001b[A\n",
            "pearson(r): 0.7839, loss: 0.0328, reg_loss: 0.0000 ||:  53%|█████▎    | 95/180 [02:37<02:16,  1.61s/it]\u001b[A\n",
            "pearson(r): 0.7840, loss: 0.0327, reg_loss: 0.0000 ||:  53%|█████▎    | 96/180 [02:38<02:15,  1.61s/it]\u001b[A\n",
            "pearson(r): 0.7853, loss: 0.0326, reg_loss: 0.0000 ||:  54%|█████▍    | 97/180 [02:40<02:09,  1.56s/it]\u001b[A\n",
            "pearson(r): 0.7852, loss: 0.0325, reg_loss: 0.0000 ||:  54%|█████▍    | 98/180 [02:41<01:57,  1.43s/it]\u001b[A\n",
            "pearson(r): 0.7851, loss: 0.0325, reg_loss: 0.0000 ||:  55%|█████▌    | 99/180 [02:43<01:58,  1.46s/it]\u001b[A\n",
            "pearson(r): 0.7855, loss: 0.0324, reg_loss: 0.0000 ||:  56%|█████▌    | 100/180 [02:44<01:55,  1.44s/it]\u001b[A\n",
            "pearson(r): 0.7854, loss: 0.0324, reg_loss: 0.0000 ||:  56%|█████▌    | 101/180 [02:45<01:53,  1.44s/it]\u001b[A\n",
            "pearson(r): 0.7851, loss: 0.0325, reg_loss: 0.0000 ||:  57%|█████▋    | 102/180 [02:47<01:50,  1.42s/it]\u001b[A\n",
            "pearson(r): 0.7855, loss: 0.0324, reg_loss: 0.0000 ||:  57%|█████▋    | 103/180 [02:48<01:53,  1.47s/it]\u001b[A\n",
            "pearson(r): 0.7847, loss: 0.0325, reg_loss: 0.0000 ||:  58%|█████▊    | 104/180 [02:50<01:57,  1.55s/it]\u001b[A\n",
            "pearson(r): 0.7847, loss: 0.0325, reg_loss: 0.0000 ||:  58%|█████▊    | 105/180 [02:52<01:53,  1.51s/it]\u001b[A\n",
            "pearson(r): 0.7835, loss: 0.0327, reg_loss: 0.0000 ||:  59%|█████▉    | 106/180 [02:54<02:04,  1.68s/it]\u001b[A\n",
            "pearson(r): 0.7832, loss: 0.0327, reg_loss: 0.0000 ||:  59%|█████▉    | 107/180 [02:56<02:16,  1.87s/it]\u001b[A\n",
            "pearson(r): 0.7829, loss: 0.0327, reg_loss: 0.0000 ||:  60%|██████    | 108/180 [02:57<02:05,  1.74s/it]\u001b[A\n",
            "pearson(r): 0.7831, loss: 0.0327, reg_loss: 0.0000 ||:  61%|██████    | 109/180 [02:59<01:56,  1.64s/it]\u001b[A\n",
            "pearson(r): 0.7827, loss: 0.0328, reg_loss: 0.0000 ||:  61%|██████    | 110/180 [03:00<01:48,  1.55s/it]\u001b[A\n",
            "pearson(r): 0.7822, loss: 0.0329, reg_loss: 0.0000 ||:  62%|██████▏   | 111/180 [03:02<01:44,  1.52s/it]\u001b[A\n",
            "pearson(r): 0.7827, loss: 0.0329, reg_loss: 0.0000 ||:  62%|██████▏   | 112/180 [03:04<01:52,  1.66s/it]\u001b[A\n",
            "pearson(r): 0.7830, loss: 0.0329, reg_loss: 0.0000 ||:  63%|██████▎   | 113/180 [03:05<01:46,  1.60s/it]\u001b[A\n",
            "pearson(r): 0.7816, loss: 0.0331, reg_loss: 0.0000 ||:  63%|██████▎   | 114/180 [03:08<02:14,  2.04s/it]\u001b[A\n",
            "pearson(r): 0.7816, loss: 0.0331, reg_loss: 0.0000 ||:  64%|██████▍   | 115/180 [03:10<02:02,  1.88s/it]\u001b[A\n",
            "pearson(r): 0.7823, loss: 0.0330, reg_loss: 0.0000 ||:  64%|██████▍   | 116/180 [03:11<01:51,  1.74s/it]\u001b[A\n",
            "pearson(r): 0.7829, loss: 0.0329, reg_loss: 0.0000 ||:  65%|██████▌   | 117/180 [03:12<01:41,  1.61s/it]\u001b[A\n",
            "pearson(r): 0.7829, loss: 0.0330, reg_loss: 0.0000 ||:  66%|██████▌   | 118/180 [03:14<01:38,  1.59s/it]\u001b[A\n",
            "pearson(r): 0.7810, loss: 0.0332, reg_loss: 0.0000 ||:  66%|██████▌   | 119/180 [03:17<02:03,  2.02s/it]\u001b[A\n",
            "pearson(r): 0.7813, loss: 0.0332, reg_loss: 0.0000 ||:  67%|██████▋   | 120/180 [03:18<01:45,  1.75s/it]\u001b[A\n",
            "pearson(r): 0.7819, loss: 0.0331, reg_loss: 0.0000 ||:  67%|██████▋   | 121/180 [03:19<01:36,  1.64s/it]\u001b[A\n",
            "pearson(r): 0.7823, loss: 0.0331, reg_loss: 0.0000 ||:  68%|██████▊   | 122/180 [03:21<01:38,  1.70s/it]\u001b[A\n",
            "pearson(r): 0.7820, loss: 0.0331, reg_loss: 0.0000 ||:  68%|██████▊   | 123/180 [03:23<01:30,  1.59s/it]\u001b[A\n",
            "pearson(r): 0.7824, loss: 0.0330, reg_loss: 0.0000 ||:  69%|██████▉   | 124/180 [03:24<01:34,  1.70s/it]\u001b[A\n",
            "pearson(r): 0.7819, loss: 0.0331, reg_loss: 0.0000 ||:  69%|██████▉   | 125/180 [03:26<01:28,  1.61s/it]\u001b[A\n",
            "pearson(r): 0.7816, loss: 0.0331, reg_loss: 0.0000 ||:  70%|███████   | 126/180 [03:27<01:26,  1.60s/it]\u001b[A\n",
            "pearson(r): 0.7810, loss: 0.0333, reg_loss: 0.0000 ||:  71%|███████   | 127/180 [03:30<01:47,  2.02s/it]\u001b[A\n",
            "pearson(r): 0.7808, loss: 0.0333, reg_loss: 0.0000 ||:  71%|███████   | 128/180 [03:33<02:00,  2.32s/it]\u001b[A\n",
            "pearson(r): 0.7810, loss: 0.0333, reg_loss: 0.0000 ||:  72%|███████▏  | 129/180 [03:35<01:46,  2.09s/it]\u001b[A\n",
            "pearson(r): 0.7813, loss: 0.0333, reg_loss: 0.0000 ||:  72%|███████▏  | 130/180 [03:37<01:44,  2.08s/it]\u001b[A\n",
            "pearson(r): 0.7819, loss: 0.0333, reg_loss: 0.0000 ||:  73%|███████▎  | 131/180 [03:39<01:35,  1.95s/it]\u001b[A\n",
            "pearson(r): 0.7820, loss: 0.0333, reg_loss: 0.0000 ||:  73%|███████▎  | 132/180 [03:40<01:25,  1.78s/it]\u001b[A\n",
            "pearson(r): 0.7826, loss: 0.0333, reg_loss: 0.0000 ||:  74%|███████▍  | 133/180 [03:42<01:21,  1.73s/it]\u001b[A\n",
            "pearson(r): 0.7830, loss: 0.0332, reg_loss: 0.0000 ||:  74%|███████▍  | 134/180 [03:43<01:16,  1.67s/it]\u001b[A\n",
            "pearson(r): 0.7827, loss: 0.0332, reg_loss: 0.0000 ||:  75%|███████▌  | 135/180 [03:45<01:12,  1.62s/it]\u001b[A\n",
            "pearson(r): 0.7827, loss: 0.0332, reg_loss: 0.0000 ||:  76%|███████▌  | 136/180 [03:48<01:26,  1.97s/it]\u001b[A\n",
            "pearson(r): 0.7824, loss: 0.0332, reg_loss: 0.0000 ||:  76%|███████▌  | 137/180 [03:50<01:28,  2.07s/it]\u001b[A\n",
            "pearson(r): 0.7820, loss: 0.0333, reg_loss: 0.0000 ||:  77%|███████▋  | 138/180 [03:51<01:18,  1.88s/it]\u001b[A\n",
            "pearson(r): 0.7827, loss: 0.0331, reg_loss: 0.0000 ||:  77%|███████▋  | 139/180 [03:53<01:09,  1.69s/it]\u001b[A\n",
            "pearson(r): 0.7823, loss: 0.0331, reg_loss: 0.0000 ||:  78%|███████▊  | 140/180 [03:54<01:05,  1.65s/it]\u001b[A\n",
            "pearson(r): 0.7808, loss: 0.0333, reg_loss: 0.0000 ||:  78%|███████▊  | 141/180 [03:55<00:58,  1.50s/it]\u001b[A\n",
            "pearson(r): 0.7804, loss: 0.0334, reg_loss: 0.0000 ||:  79%|███████▉  | 142/180 [03:57<00:57,  1.50s/it]\u001b[A\n",
            "pearson(r): 0.7800, loss: 0.0335, reg_loss: 0.0000 ||:  79%|███████▉  | 143/180 [03:58<00:52,  1.41s/it]\u001b[A\n",
            "pearson(r): 0.7789, loss: 0.0336, reg_loss: 0.0000 ||:  80%|████████  | 144/180 [03:59<00:51,  1.43s/it]\u001b[A\n",
            "pearson(r): 0.7795, loss: 0.0335, reg_loss: 0.0000 ||:  81%|████████  | 145/180 [04:01<00:50,  1.43s/it]\u001b[A\n",
            "pearson(r): 0.7790, loss: 0.0336, reg_loss: 0.0000 ||:  81%|████████  | 146/180 [04:02<00:50,  1.48s/it]\u001b[A\n",
            "pearson(r): 0.7791, loss: 0.0336, reg_loss: 0.0000 ||:  82%|████████▏ | 147/180 [04:04<00:48,  1.47s/it]\u001b[A\n",
            "pearson(r): 0.7773, loss: 0.0339, reg_loss: 0.0000 ||:  82%|████████▏ | 148/180 [04:05<00:48,  1.50s/it]\u001b[A\n",
            "pearson(r): 0.7769, loss: 0.0339, reg_loss: 0.0000 ||:  83%|████████▎ | 149/180 [04:07<00:45,  1.45s/it]\u001b[A\n",
            "pearson(r): 0.7765, loss: 0.0340, reg_loss: 0.0000 ||:  83%|████████▎ | 150/180 [04:08<00:42,  1.43s/it]\u001b[A\n",
            "pearson(r): 0.7765, loss: 0.0340, reg_loss: 0.0000 ||:  84%|████████▍ | 151/180 [04:10<00:49,  1.69s/it]\u001b[A\n",
            "pearson(r): 0.7760, loss: 0.0341, reg_loss: 0.0000 ||:  84%|████████▍ | 152/180 [04:12<00:44,  1.59s/it]\u001b[A\n",
            "pearson(r): 0.7755, loss: 0.0341, reg_loss: 0.0000 ||:  85%|████████▌ | 153/180 [04:14<00:48,  1.79s/it]\u001b[A\n",
            "pearson(r): 0.7753, loss: 0.0341, reg_loss: 0.0000 ||:  86%|████████▌ | 154/180 [04:16<00:45,  1.76s/it]\u001b[A\n",
            "pearson(r): 0.7742, loss: 0.0342, reg_loss: 0.0000 ||:  86%|████████▌ | 155/180 [04:19<00:53,  2.15s/it]\u001b[A\n",
            "pearson(r): 0.7745, loss: 0.0342, reg_loss: 0.0000 ||:  87%|████████▋ | 156/180 [04:20<00:46,  1.95s/it]\u001b[A\n",
            "pearson(r): 0.7744, loss: 0.0342, reg_loss: 0.0000 ||:  87%|████████▋ | 157/180 [04:22<00:41,  1.79s/it]\u001b[A\n",
            "pearson(r): 0.7734, loss: 0.0343, reg_loss: 0.0000 ||:  88%|████████▊ | 158/180 [04:23<00:38,  1.74s/it]\u001b[A\n",
            "pearson(r): 0.7729, loss: 0.0344, reg_loss: 0.0000 ||:  88%|████████▊ | 159/180 [04:25<00:35,  1.68s/it]\u001b[A\n",
            "pearson(r): 0.7733, loss: 0.0344, reg_loss: 0.0000 ||:  89%|████████▉ | 160/180 [04:26<00:32,  1.64s/it]\u001b[A\n",
            "pearson(r): 0.7733, loss: 0.0344, reg_loss: 0.0000 ||:  89%|████████▉ | 161/180 [04:29<00:34,  1.81s/it]\u001b[A\n",
            "pearson(r): 0.7733, loss: 0.0344, reg_loss: 0.0000 ||:  90%|█████████ | 162/180 [04:30<00:31,  1.75s/it]\u001b[A\n",
            "pearson(r): 0.7725, loss: 0.0346, reg_loss: 0.0000 ||:  91%|█████████ | 163/180 [04:32<00:27,  1.61s/it]\u001b[A\n",
            "pearson(r): 0.7728, loss: 0.0345, reg_loss: 0.0000 ||:  91%|█████████ | 164/180 [04:35<00:32,  2.03s/it]\u001b[A\n",
            "pearson(r): 0.7732, loss: 0.0346, reg_loss: 0.0000 ||:  92%|█████████▏| 165/180 [04:36<00:27,  1.81s/it]\u001b[A\n",
            "pearson(r): 0.7729, loss: 0.0347, reg_loss: 0.0000 ||:  92%|█████████▏| 166/180 [04:37<00:24,  1.75s/it]\u001b[A\n",
            "pearson(r): 0.7729, loss: 0.0347, reg_loss: 0.0000 ||:  93%|█████████▎| 167/180 [04:39<00:22,  1.70s/it]\u001b[A\n",
            "pearson(r): 0.7723, loss: 0.0348, reg_loss: 0.0000 ||:  93%|█████████▎| 168/180 [04:40<00:19,  1.60s/it]\u001b[A\n",
            "pearson(r): 0.7718, loss: 0.0349, reg_loss: 0.0000 ||:  94%|█████████▍| 169/180 [04:42<00:16,  1.48s/it]\u001b[A\n",
            "pearson(r): 0.7724, loss: 0.0348, reg_loss: 0.0000 ||:  94%|█████████▍| 170/180 [04:43<00:15,  1.60s/it]\u001b[A\n",
            "pearson(r): 0.7728, loss: 0.0348, reg_loss: 0.0000 ||:  95%|█████████▌| 171/180 [04:46<00:15,  1.74s/it]\u001b[A\n",
            "pearson(r): 0.7729, loss: 0.0348, reg_loss: 0.0000 ||:  96%|█████████▌| 172/180 [04:48<00:14,  1.85s/it]\u001b[A\n",
            "pearson(r): 0.7725, loss: 0.0349, reg_loss: 0.0000 ||:  96%|█████████▌| 173/180 [04:49<00:11,  1.66s/it]\u001b[A\n",
            "pearson(r): 0.7725, loss: 0.0349, reg_loss: 0.0000 ||:  97%|█████████▋| 174/180 [04:51<00:10,  1.76s/it]\u001b[A\n",
            "pearson(r): 0.7721, loss: 0.0348, reg_loss: 0.0000 ||:  97%|█████████▋| 175/180 [04:52<00:08,  1.66s/it]\u001b[A\n",
            "pearson(r): 0.7724, loss: 0.0348, reg_loss: 0.0000 ||:  98%|█████████▊| 176/180 [04:54<00:06,  1.67s/it]\u001b[A\n",
            "pearson(r): 0.7726, loss: 0.0348, reg_loss: 0.0000 ||:  98%|█████████▊| 177/180 [04:55<00:04,  1.55s/it]\u001b[A\n",
            "pearson(r): 0.7723, loss: 0.0347, reg_loss: 0.0000 ||:  99%|█████████▉| 178/180 [04:57<00:02,  1.49s/it]\u001b[A\n",
            "pearson(r): 0.7721, loss: 0.0347, reg_loss: 0.0000 ||:  99%|█████████▉| 179/180 [04:59<00:01,  1.74s/it]\u001b[A\n",
            "pearson(r): 0.7719, loss: 0.0348, reg_loss: 0.0000 ||: 100%|██████████| 180/180 [05:00<00:00,  1.67s/it]\n",
            "\n",
            "  0%|          | 0/180 [00:00<?, ?it/s]\u001b[A\n",
            "pearson(r): 0.9029, loss: 0.0329, reg_loss: 0.0000 ||:   1%|          | 1/180 [00:00<00:45,  3.96it/s]\u001b[A\n",
            "pearson(r): 0.8898, loss: 0.0377, reg_loss: 0.0000 ||:   1%|          | 2/180 [00:00<00:52,  3.40it/s]\u001b[A\n",
            "pearson(r): 0.8743, loss: 0.0425, reg_loss: 0.0000 ||:   2%|▏         | 3/180 [00:00<00:51,  3.43it/s]\u001b[A\n",
            "pearson(r): 0.8609, loss: 0.0428, reg_loss: 0.0000 ||:   2%|▏         | 4/180 [00:01<01:04,  2.72it/s]\u001b[A\n",
            "pearson(r): 0.8570, loss: 0.0416, reg_loss: 0.0000 ||:   3%|▎         | 5/180 [00:01<01:04,  2.72it/s]\u001b[A"
          ],
          "name": "stderr"
        }
      ]
    },
    {
      "cell_type": "code",
      "metadata": {
        "id": "nFka63P0EAWV",
        "colab_type": "code",
        "colab": {
          "base_uri": "https://localhost:8080/",
          "height": 323
        },
        "outputId": "dc43aefe-5aa5-484a-b8ce-2b68aad4fad7"
      },
      "source": [
        "train\n"
      ],
      "execution_count": null,
      "outputs": [
        {
          "output_type": "execute_result",
          "data": {
            "text/plain": [
              "{'best_epoch': 4,\n",
              " 'best_validation_loss': 0.04422299886743228,\n",
              " 'best_validation_pearson': 0.8080389196795864,\n",
              " 'best_validation_reg_loss': 0.0,\n",
              " 'epoch': 4,\n",
              " 'peak_gpu_0_memory_MB': 7599,\n",
              " 'peak_worker_0_memory_MB': 5581.7,\n",
              " 'training_duration': '0:29:50.721154',\n",
              " 'training_epochs': 4,\n",
              " 'training_gpu_0_memory_MB': 7599,\n",
              " 'training_loss': 0.0415545004626943,\n",
              " 'training_pearson': 0.7186851943178267,\n",
              " 'training_reg_loss': 0.0,\n",
              " 'training_start_epoch': 0,\n",
              " 'training_worker_0_memory_MB': 5581.7,\n",
              " 'validation_loss': 0.04422299886743228,\n",
              " 'validation_pearson': 0.8080389196795864,\n",
              " 'validation_reg_loss': 0.0}"
            ]
          },
          "metadata": {
            "tags": []
          },
          "execution_count": 78
        }
      ]
    },
    {
      "cell_type": "code",
      "metadata": {
        "id": "nd29w0FX64-8",
        "colab_type": "code",
        "colab": {}
      },
      "source": [
        ""
      ],
      "execution_count": null,
      "outputs": []
    },
    {
      "cell_type": "code",
      "metadata": {
        "id": "KqrnoH3165ke",
        "colab_type": "code",
        "colab": {}
      },
      "source": [
        ""
      ],
      "execution_count": null,
      "outputs": []
    },
    {
      "cell_type": "code",
      "metadata": {
        "id": "wlyW6BPt5jAC",
        "colab_type": "code",
        "colab": {
          "base_uri": "https://localhost:8080/",
          "height": 51
        },
        "outputId": "b974f67c-4951-43c5-c50e-f2cdefd1a78c"
      },
      "source": [
        "#evaluate on test data\n",
        "test_evaluate = evaluate(emodel, test_data_loader)\n",
        "test_evaluate\n"
      ],
      "execution_count": null,
      "outputs": [
        {
          "output_type": "stream",
          "text": [
            "pearson: 0.61, loss: 0.08 ||: : 44it [00:11,  3.98it/s]\n"
          ],
          "name": "stderr"
        },
        {
          "output_type": "execute_result",
          "data": {
            "text/plain": [
              "{'loss': 0.0828661983832717, 'pearson': 0.6100706243663699}"
            ]
          },
          "metadata": {
            "tags": []
          },
          "execution_count": 83
        }
      ]
    },
    {
      "cell_type": "code",
      "metadata": {
        "id": "lgxsIjLP5juA",
        "colab_type": "code",
        "colab": {}
      },
      "source": [
        "from allennlp.predictors.sentence_tagger import SentenceTaggerPredictor"
      ],
      "execution_count": null,
      "outputs": []
    },
    {
      "cell_type": "code",
      "metadata": {
        "id": "ByaA1h0zzmud",
        "colab_type": "code",
        "colab": {}
      },
      "source": [
        ""
      ],
      "execution_count": null,
      "outputs": []
    },
    {
      "cell_type": "code",
      "metadata": {
        "id": "ismpol_m693G",
        "colab_type": "code",
        "colab": {}
      },
      "source": [
        "#save model\n",
        "# Here's how to save the model.\n",
        "with open(serialization_dir + \"/model.th\", 'wb') as f: #location\n",
        "    torch.save(model.state_dict(), f)\n",
        "\n",
        "#save  vocab\n",
        "vocab.save_to_files(serialization_dir + \"/vocabulary\")"
      ],
      "execution_count": null,
      "outputs": []
    },
    {
      "cell_type": "code",
      "metadata": {
        "id": "GQATb3hT76Ws",
        "colab_type": "code",
        "colab": {}
      },
      "source": [
        "#reload the model.\n",
        "vocab2 = Vocabulary.from_files(serialization_dir +\"/vocabulary\")\n",
        "model2 = LstmTagger(word_embeddings, lstm, vocab2)\n",
        "with open(\"/tmp/model.th\", 'rb') as f:\n",
        "    model2.load_state_dict(torch.load(f))"
      ],
      "execution_count": null,
      "outputs": []
    },
    {
      "cell_type": "code",
      "metadata": {
        "id": "pf-lzdex76EL",
        "colab_type": "code",
        "colab": {}
      },
      "source": [
        ""
      ],
      "execution_count": null,
      "outputs": []
    },
    {
      "cell_type": "code",
      "metadata": {
        "id": "tYG6Bblq-n3f",
        "colab_type": "code",
        "colab": {
          "base_uri": "https://localhost:8080/",
          "height": 170
        },
        "outputId": "9a32a4d1-cfad-4a05-9bdc-99c77c07ff47"
      },
      "source": [
        "for x in train_instances:\n",
        "  print(x)\n",
        "  break"
      ],
      "execution_count": 20,
      "outputs": [
        {
          "output_type": "stream",
          "text": [
            "Instance with fields:\n",
            " \t first_sent: TextField of length 6 with text: \n",
            " \t\t[A, plane, is, taking, off, .]\n",
            " \t\tand TokenIndexers : {'tokens': 'ELMoTokenCharactersIndexer'} \n",
            " \t second_sent: TextField of length 7 with text: \n",
            " \t\t[An, air, plane, is, taking, off, .]\n",
            " \t\tand TokenIndexers : {'tokens': 'ELMoTokenCharactersIndexer'} \n",
            " \t score: ArrayField with shape: (1,) and dtype: <class 'numpy.float32'>. \n",
            "\n"
          ],
          "name": "stdout"
        }
      ]
    },
    {
      "cell_type": "code",
      "metadata": {
        "id": "MpGEgGqP-nmi",
        "colab_type": "code",
        "colab": {}
      },
      "source": [
        ""
      ],
      "execution_count": 64,
      "outputs": []
    },
    {
      "cell_type": "code",
      "metadata": {
        "id": "b4Jk2LSO-nTB",
        "colab_type": "code",
        "colab": {}
      },
      "source": [
        ""
      ],
      "execution_count": null,
      "outputs": []
    },
    {
      "cell_type": "code",
      "metadata": {
        "id": "9UwXzNJ7rVYY",
        "colab_type": "code",
        "colab": {
          "base_uri": "https://localhost:8080/",
          "height": 153
        },
        "outputId": "fcb02049-44f9-415b-ed7f-8333749eab72"
      },
      "source": [
        "for x,y in emodel.named_parameters():\n",
        "  if y.requires_grad:\n",
        "    print(x,y)"
      ],
      "execution_count": null,
      "outputs": [
        {
          "output_type": "stream",
          "text": [
            "elmo_embedding.scalar_mix_0.gamma Parameter containing:\n",
            "tensor([1.], requires_grad=True)\n",
            "elmo_embedding.scalar_mix_0.scalar_parameters.0 Parameter containing:\n",
            "tensor([0.], requires_grad=True)\n",
            "elmo_embedding.scalar_mix_0.scalar_parameters.1 Parameter containing:\n",
            "tensor([0.], requires_grad=True)\n",
            "elmo_embedding.scalar_mix_0.scalar_parameters.2 Parameter containing:\n",
            "tensor([0.], requires_grad=True)\n"
          ],
          "name": "stdout"
        }
      ]
    },
    {
      "cell_type": "code",
      "metadata": {
        "id": "Vkjmw3WCDFke",
        "colab_type": "code",
        "colab": {}
      },
      "source": [
        ""
      ],
      "execution_count": null,
      "outputs": []
    },
    {
      "cell_type": "code",
      "metadata": {
        "id": "WbrNE-MeDFL0",
        "colab_type": "code",
        "colab": {}
      },
      "source": [
        ""
      ],
      "execution_count": null,
      "outputs": []
    },
    {
      "cell_type": "code",
      "metadata": {
        "id": "Kve2YrG46U4O",
        "colab_type": "code",
        "colab": {}
      },
      "source": [
        "class SemanticTextDataReader(DatasetReader):\n",
        "  def __init__(self, \n",
        "               lazy: bool = False, \n",
        "               tokenizer = None, \n",
        "               token_indexers: Dict[str, TokenIndexer] = None, \n",
        "               max_tokens: int = None\n",
        "               ):\n",
        "    super().__init__(lazy)\n",
        "    self.tokenizer = tokenizer or WhitespaceTokenizer()\n",
        "    self.token_indexers = token_indexers or {'tokens': SingleIdTokenIndexer()}\n",
        "    self.max_tokens = max_tokens\n",
        "    \n",
        "\n",
        "  #convert given text into instance\n",
        "  @overrides\n",
        "  def text_to_instance(self, sent_1: str, sent_2: str, gold_score: float = None) -> Instance:\n",
        "    \n",
        "    #tokenize text\n",
        "    token_1 = self.tokenizer.tokenize(sent_1) \n",
        "    token_2 = self.tokenizer.tokenize(sent_2)\n",
        "    \n",
        "    #tokens\n",
        "    if self.max_tokens:\n",
        "            token_1 = token_1[:self.max_tokens]\n",
        "            token_2 = token_2[:self.max_tokens]\n",
        "    \n",
        "    #Textfield\n",
        "    text_field_1 = TextField(token_1, self.token_indexers) \n",
        "    text_field_2 = TextField(token_2, self.token_indexers)\n",
        "\n",
        "    #fields contain 'Textfield' and 'LabelField'\n",
        "    fields = {'first_sent': text_field_1, 'second_sent': text_field_2 } \n",
        "    \n",
        "    #check score/label is given or not\n",
        "    if gold_score is not None:\n",
        "      fields['score'] = ArrayField(np.array([gold_score])) # labelfield\n",
        "   \n",
        "    return Instance(fields) #instance with inputs and outputs fields \n",
        "\n",
        "    \n",
        "  #Read dataset and convert them to Iterable Instance\n",
        "  @overrides\n",
        "  def _read(self, file_path: str) -> Iterable[Instance]:\n",
        "    \n",
        "    #read data with pandas\n",
        "    df = pd.read_csv(file_path, \n",
        "              delimiter=',' , \n",
        "              header= None,\n",
        "              names= col_names\n",
        "              )\n",
        "    \n",
        "    #scale down gold-score(0-5) to (0-1) since cosine-simialrity score(0-1)\n",
        "    df['scaled_score(0-1)'] = MinMaxScaler(feature_range=(0,1)).fit_transform(df[['score(0-5)']])\n",
        "    print('Data reading started .....')\n",
        "    \n",
        "    \n",
        "    #iterate over rows in df\n",
        "    for index, row in df.iterrows():\n",
        "      sent_1 = row['sentence_1']#first sent\n",
        "      sent_2 = row['sentence_2']#second sent\n",
        "      gold_score = row['scaled_score(0-1)']#score\n",
        "      yield self.text_to_instance(sent_1, sent_2, gold_score) #iterable\n",
        "\n",
        "    print('...... Completed.')\n",
        "    print()\n",
        "  \n",
        "    "
      ],
      "execution_count": 143,
      "outputs": []
    },
    {
      "cell_type": "code",
      "metadata": {
        "id": "5jQCJebO_Pez",
        "colab_type": "code",
        "colab": {}
      },
      "source": [
        ""
      ],
      "execution_count": null,
      "outputs": []
    },
    {
      "cell_type": "code",
      "metadata": {
        "id": "eQJpr7HyFqXt",
        "colab_type": "code",
        "colab": {}
      },
      "source": [
        "from allennlp.data import Vocabulary\n",
        "from allennlp.modules.text_field_embedders import BasicTextFieldEmbedder\n",
        "from allennlp.modules.token_embedders import Embedding"
      ],
      "execution_count": 131,
      "outputs": []
    },
    {
      "cell_type": "code",
      "metadata": {
        "id": "TmbnAdmq_QDs",
        "colab_type": "code",
        "colab": {
          "base_uri": "https://localhost:8080/",
          "height": 221
        },
        "outputId": "21caf0d4-a3f6-4d8d-8173-1e13a68dbba1"
      },
      "source": [
        "#Read dataset\n",
        "file_path = \"/content/drive/My Drive/Google_Colab/stsbenchmark_dataset/\" #file path\n",
        "dataset_types = [ \"sts-train.csv\", \"sts-dev.csv\", \"sts-test.csv\",] # 3 datasets\n",
        "col_names = [\"genre\", \"file\", \"years\", \"_\", \"score(0-5)\", \"sentence_1\", \"sentence_2\"] #columns names\n",
        "\n",
        "\n",
        "text_tokenizer = SpacyTokenizer() #tokenizer\n",
        "dataset_reader = SemanticTextDataReader(tokenizer= text_tokenizer, token_indexers= {'tokens': SingleIdTokenIndexer()},  max_tokens=70) #initiate dataset reader\n",
        "train_instances_glove, dev_instances_glove, test_instances_glove = (dataset_reader.read(os.path.join(file_path, file_name)) for file_name in dataset_types)\n"
      ],
      "execution_count": 224,
      "outputs": [
        {
          "output_type": "stream",
          "text": [
            "456it [00:00, 2122.92it/s]"
          ],
          "name": "stderr"
        },
        {
          "output_type": "stream",
          "text": [
            "Data reading started .....\n"
          ],
          "name": "stdout"
        },
        {
          "output_type": "stream",
          "text": [
            "5749it [00:02, 2051.65it/s]\n",
            "234it [00:00, 2334.59it/s]"
          ],
          "name": "stderr"
        },
        {
          "output_type": "stream",
          "text": [
            "...... Completed.\n",
            "\n",
            "Data reading started .....\n"
          ],
          "name": "stdout"
        },
        {
          "output_type": "stream",
          "text": [
            "1500it [00:00, 1695.53it/s]\n",
            "240it [00:00, 2395.27it/s]"
          ],
          "name": "stderr"
        },
        {
          "output_type": "stream",
          "text": [
            "...... Completed.\n",
            "\n",
            "Data reading started .....\n"
          ],
          "name": "stdout"
        },
        {
          "output_type": "stream",
          "text": [
            "1379it [00:01, 1061.18it/s]"
          ],
          "name": "stderr"
        },
        {
          "output_type": "stream",
          "text": [
            "...... Completed.\n",
            "\n"
          ],
          "name": "stdout"
        },
        {
          "output_type": "stream",
          "text": [
            "\n"
          ],
          "name": "stderr"
        }
      ]
    },
    {
      "cell_type": "code",
      "metadata": {
        "id": "qpqWeyE_YVFo",
        "colab_type": "code",
        "colab": {
          "base_uri": "https://localhost:8080/",
          "height": 170
        },
        "outputId": "c2bc79c6-a59a-4f70-e979-2ab8c8d31105"
      },
      "source": [
        "for x in train_instances_glove:\n",
        "  print(x)\n",
        "  break"
      ],
      "execution_count": 145,
      "outputs": [
        {
          "output_type": "stream",
          "text": [
            "Instance with fields:\n",
            " \t first_sent: TextField of length 6 with text: \n",
            " \t\t[A, plane, is, taking, off, .]\n",
            " \t\tand TokenIndexers : {'tokens': 'SingleIdTokenIndexer'} \n",
            " \t second_sent: TextField of length 7 with text: \n",
            " \t\t[An, air, plane, is, taking, off, .]\n",
            " \t\tand TokenIndexers : {'tokens': 'SingleIdTokenIndexer'} \n",
            " \t score: ArrayField with shape: (1,) and dtype: <class 'numpy.float32'>. \n",
            "\n"
          ],
          "name": "stdout"
        }
      ]
    },
    {
      "cell_type": "code",
      "metadata": {
        "id": "nbkF1pKTPr7S",
        "colab_type": "code",
        "colab": {}
      },
      "source": [
        "#counts number of time words/tokens appear in corpus\n",
        "count_tokens = defaultdict(Counter)\n",
        "for x in train_instances_glove+dev_instances_glove +test_instances_glove:\n",
        "  x.count_vocab_items(count_tokens) #instance counter\n",
        "  \n",
        " "
      ],
      "execution_count": 227,
      "outputs": []
    },
    {
      "cell_type": "code",
      "metadata": {
        "id": "NzKqq157Znqi",
        "colab_type": "code",
        "colab": {}
      },
      "source": [
        ""
      ],
      "execution_count": 197,
      "outputs": []
    },
    {
      "cell_type": "code",
      "metadata": {
        "id": "wtNydgC0_PMB",
        "colab_type": "code",
        "colab": {
          "base_uri": "https://localhost:8080/",
          "height": 51
        },
        "outputId": "ebad7361-0a9d-4a23-b78b-4a6b7fefc84f"
      },
      "source": [
        "#set glove vocab\n",
        "vocab_glove = Vocabulary(counter=count_tokens)\n",
        "vocab_glove.from_instances(train_instances_glove + dev_instances_glove + test_instances_glove )\n",
        "    "
      ],
      "execution_count": 228,
      "outputs": [
        {
          "output_type": "stream",
          "text": [
            "100%|██████████| 8628/8628 [00:00<00:00, 41381.55it/s]\n"
          ],
          "name": "stderr"
        },
        {
          "output_type": "execute_result",
          "data": {
            "text/plain": [
              "Vocabulary with namespaces:  tokens, Size: 17739 || Non Padded Namespaces: {'*tags', '*labels'}"
            ]
          },
          "metadata": {
            "tags": []
          },
          "execution_count": 228
        }
      ]
    },
    {
      "cell_type": "code",
      "metadata": {
        "id": "TMRyH0RoDreJ",
        "colab_type": "code",
        "colab": {
          "base_uri": "https://localhost:8080/",
          "height": 35
        },
        "outputId": "8950910b-23ca-4cd4-98da-4f37be7b5dec"
      },
      "source": [
        "#check index to token\n",
        "vocab_glove.get_token_from_index(2)"
      ],
      "execution_count": 219,
      "outputs": [
        {
          "output_type": "execute_result",
          "data": {
            "application/vnd.google.colaboratory.intrinsic": {
              "type": "string"
            },
            "text/plain": [
              "'.'"
            ]
          },
          "metadata": {
            "tags": []
          },
          "execution_count": 219
        }
      ]
    },
    {
      "cell_type": "code",
      "metadata": {
        "id": "1UuzkdKcfTWs",
        "colab_type": "code",
        "colab": {
          "base_uri": "https://localhost:8080/",
          "height": 34
        },
        "outputId": "eac983ac-2b87-4d41-9f70-910f1657dcc5"
      },
      "source": [
        "#check vocab size\n",
        "vocab_glove.get_vocab_size()"
      ],
      "execution_count": 229,
      "outputs": [
        {
          "output_type": "execute_result",
          "data": {
            "text/plain": [
              "17739"
            ]
          },
          "metadata": {
            "tags": []
          },
          "execution_count": 229
        }
      ]
    },
    {
      "cell_type": "code",
      "metadata": {
        "id": "u-QchPnoSKS4",
        "colab_type": "code",
        "colab": {}
      },
      "source": [
        "#index tokens into ids\n",
        "train_instances_glove.index_with(vocab_glove)\n",
        "dev_instances_glove.index_with(vocab_glove)\n",
        "test_instances_glove.index_with(vocab_glove)"
      ],
      "execution_count": 232,
      "outputs": []
    },
    {
      "cell_type": "code",
      "metadata": {
        "id": "s-rv-NhSSQO_",
        "colab_type": "code",
        "colab": {
          "base_uri": "https://localhost:8080/",
          "height": 34
        },
        "outputId": "85e67a22-34fa-436f-85b6-f735a48cf8a3"
      },
      "source": [
        ""
      ],
      "execution_count": 70,
      "outputs": [
        {
          "output_type": "execute_result",
          "data": {
            "text/plain": [
              "2"
            ]
          },
          "metadata": {
            "tags": []
          },
          "execution_count": 70
        }
      ]
    },
    {
      "cell_type": "code",
      "metadata": {
        "id": "2PMEddjzRDHG",
        "colab_type": "code",
        "colab": {}
      },
      "source": [
        "#random sample and batch train data\n",
        "sampler_tr = RandomSampler(data_source=train_instances) \n",
        "batch_sampler_tr = BasicBatchSampler(sampler_tr, batch_size=32, drop_last=False) \n",
        "train_data_loader = DataLoader( train_instances_glove, batch_sampler= batch_sampler_tr)\n",
        "\n",
        "#random sample and batch dev data\n",
        "sampler_dev = RandomSampler(data_source=dev_instances) \n",
        "batch_sampler_dev = BasicBatchSampler(sampler_dev, batch_size=32, drop_last=False)\n",
        "dev_data_loader = DataLoader(dev_instances_glove, batch_sampler=batch_sampler_dev) #dev data\n",
        "\n",
        "\n",
        "#random sample and batch test data\n",
        "sampler_test = RandomSampler(data_source=test_instances) \n",
        "batch_sampler_test = BasicBatchSampler(sampler_test, batch_size=32, drop_last=False)\n",
        "test_data_loader = DataLoader(test_instances_glove, batch_sampler= batch_sampler_test) "
      ],
      "execution_count": 235,
      "outputs": []
    },
    {
      "cell_type": "code",
      "metadata": {
        "id": "Srk9uLR3_PIm",
        "colab_type": "code",
        "colab": {
          "base_uri": "https://localhost:8080/",
          "height": 785
        },
        "outputId": "b503e4bc-8745-4f8a-8156-472150ca25e9"
      },
      "source": [
        "for x in train_data_loader:\n",
        "  print(x)\n",
        "  break"
      ],
      "execution_count": 236,
      "outputs": [
        {
          "output_type": "stream",
          "text": [
            "{'first_sent': {'tokens': {'tokens': tensor([[  15, 4820,   11,  ...,    0,    0,    0],\n",
            "        [ 267, 1564,    5,  ...,    0,    0,    0],\n",
            "        [   7,   64,    8,  ...,    0,    0,    0],\n",
            "        ...,\n",
            "        [   7,   42,  108,  ...,    0,    0,    0],\n",
            "        [2471, 7414, 1795,  ...,    0,    0,    0],\n",
            "        [   7,   14,  326,  ...,    0,    0,    0]])}}, 'second_sent': {'tokens': {'tokens': tensor([[  15, 4820,   11,  ...,    0,    0,    0],\n",
            "        [ 267, 1564,    5,  ...,    0,    0,    0],\n",
            "        [   7,   14,    8,  ...,    0,    0,    0],\n",
            "        ...,\n",
            "        [   7,  108, 1898,  ...,    0,    0,    0],\n",
            "        [ 445, 1129,   37,  ...,    0,    0,    0],\n",
            "        [   7,   14,    8,  ...,    0,    0,    0]])}}, 'score': tensor([[0.8000],\n",
            "        [0.7200],\n",
            "        [0.5600],\n",
            "        [0.7500],\n",
            "        [0.2000],\n",
            "        [0.4500],\n",
            "        [0.1600],\n",
            "        [0.4400],\n",
            "        [0.6800],\n",
            "        [0.0800],\n",
            "        [0.7600],\n",
            "        [0.0800],\n",
            "        [0.0500],\n",
            "        [0.5200],\n",
            "        [0.2800],\n",
            "        [0.5600],\n",
            "        [0.7600],\n",
            "        [0.4000],\n",
            "        [0.1600],\n",
            "        [0.8000],\n",
            "        [0.8800],\n",
            "        [0.4400],\n",
            "        [0.8000],\n",
            "        [0.5600],\n",
            "        [0.1000],\n",
            "        [0.5334],\n",
            "        [0.5200],\n",
            "        [0.6000],\n",
            "        [0.2800],\n",
            "        [0.8000],\n",
            "        [0.7600],\n",
            "        [0.4000]])}\n"
          ],
          "name": "stdout"
        }
      ]
    },
    {
      "cell_type": "code",
      "metadata": {
        "id": "X2EmxZIyDW9c",
        "colab_type": "code",
        "colab": {
          "base_uri": "https://localhost:8080/",
          "height": 34
        },
        "outputId": "c8d4b937-a8bf-4783-9481-561954fcc2fb"
      },
      "source": [
        "#glove embedding\n",
        "glove_file = '/content/drive/My Drive/Google_Colab/glove/glove.6B.300d.txt'\n",
        "embedding = Embedding(num_embeddings= vocab_glove.get_vocab_size(),\n",
        "                      embedding_dim=300,\n",
        "                      pretrained_file=glove_file,\n",
        "                      vocab = vocab_glove)"
      ],
      "execution_count": 237,
      "outputs": [
        {
          "output_type": "stream",
          "text": [
            "400000it [00:08, 49128.82it/s]\n"
          ],
          "name": "stderr"
        }
      ]
    },
    {
      "cell_type": "code",
      "metadata": {
        "id": "a2joLejOIIXb",
        "colab_type": "code",
        "colab": {}
      },
      "source": [
        "#Textfield embedder\n",
        "glove_embedder = BasicTextFieldEmbedder(token_embedders={'tokens': embedding})"
      ],
      "execution_count": 259,
      "outputs": []
    },
    {
      "cell_type": "code",
      "metadata": {
        "id": "QBzcrW7ZOAMr",
        "colab_type": "code",
        "colab": {
          "base_uri": "https://localhost:8080/",
          "height": 799
        },
        "outputId": "44c195f3-6e9a-44e7-e262-9155f703097b"
      },
      "source": [
        "#check batch\n",
        "batch = next(iter(train_data_loader))\n",
        "batch"
      ],
      "execution_count": 263,
      "outputs": [
        {
          "output_type": "execute_result",
          "data": {
            "text/plain": [
              "{'first_sent': {'tokens': {'tokens': tensor([[  57,   17,  380,  ...,    0,    0,    0],\n",
              "           [9474,    5,    3,  ...,    0,    0,    0],\n",
              "           [  38,   11,    4,  ...,    0,    0,    0],\n",
              "           ...,\n",
              "           [ 267,   10, 3602,  ...,    0,    0,    0],\n",
              "           [ 153,  176,   16,  ...,    0,    0,    0],\n",
              "           [3175,  273,  115,  ...,    0,    0,    0]])}},\n",
              " 'score': tensor([[0.8000],\n",
              "         [0.8000],\n",
              "         [0.6500],\n",
              "         [0.8000],\n",
              "         [0.1200],\n",
              "         [0.8400],\n",
              "         [0.9200],\n",
              "         [0.4400],\n",
              "         [0.1200],\n",
              "         [0.9600],\n",
              "         [0.9600],\n",
              "         [0.0000],\n",
              "         [0.0000],\n",
              "         [0.5000],\n",
              "         [0.0000],\n",
              "         [0.2400],\n",
              "         [0.8000],\n",
              "         [0.6000],\n",
              "         [0.0000],\n",
              "         [0.2400],\n",
              "         [0.6666],\n",
              "         [0.5600],\n",
              "         [0.6800],\n",
              "         [0.9200],\n",
              "         [0.3600],\n",
              "         [0.1600],\n",
              "         [0.0000],\n",
              "         [0.8400],\n",
              "         [0.2800],\n",
              "         [0.0400],\n",
              "         [0.6400],\n",
              "         [0.6000]]),\n",
              " 'second_sent': {'tokens': {'tokens': tensor([[  149,  1263,   481,  ...,     0,     0,     0],\n",
              "           [ 1499,  9474,   455,  ...,     0,     0,     0],\n",
              "           [ 1587,  7879,     6,  ...,     0,     0,     0],\n",
              "           ...,\n",
              "           [  267,  1651,    10,  ...,     0,     0,     0],\n",
              "           [  153,  4394, 14296,  ...,     0,     0,     0],\n",
              "           [ 3175,   273,   115,  ...,     0,     0,     0]])}}}"
            ]
          },
          "metadata": {
            "tags": []
          },
          "execution_count": 263
        }
      ]
    },
    {
      "cell_type": "code",
      "metadata": {
        "id": "hnxViMdaissi",
        "colab_type": "code",
        "colab": {
          "base_uri": "https://localhost:8080/",
          "height": 867
        },
        "outputId": "6893b60c-2165-4444-b598-2c2f0bca54ca"
      },
      "source": [
        "glove_embedder(batch['first_sent'])"
      ],
      "execution_count": 264,
      "outputs": [
        {
          "output_type": "execute_result",
          "data": {
            "text/plain": [
              "tensor([[[-0.0615,  0.1084,  0.7885,  ...,  0.3642, -0.7808,  0.8409],\n",
              "         [-0.0013,  0.3651, -0.0774,  ..., -0.1836, -0.7652,  0.3921],\n",
              "         [ 0.4449,  0.0927, -0.0925,  ...,  0.0595, -0.9138,  0.4311],\n",
              "         ...,\n",
              "         [-0.0092,  0.2107,  0.0735,  ..., -0.6152,  0.1192,  0.5948],\n",
              "         [-0.0092,  0.2107,  0.0735,  ..., -0.6152,  0.1192,  0.5948],\n",
              "         [-0.0092,  0.2107,  0.0735,  ..., -0.6152,  0.1192,  0.5948]],\n",
              "\n",
              "        [[-0.8988,  0.1483,  0.1223,  ...,  0.0976, -0.0756,  0.3552],\n",
              "         [-0.4440,  0.1282, -0.2525,  ..., -0.2004, -0.0822, -0.0626],\n",
              "         [-0.2971,  0.0940, -0.0967,  ...,  0.0597, -0.2285,  0.2960],\n",
              "         ...,\n",
              "         [-0.0092,  0.2107,  0.0735,  ..., -0.6152,  0.1192,  0.5948],\n",
              "         [-0.0092,  0.2107,  0.0735,  ..., -0.6152,  0.1192,  0.5948],\n",
              "         [-0.0092,  0.2107,  0.0735,  ..., -0.6152,  0.1192,  0.5948]],\n",
              "\n",
              "        [[-0.0431,  0.4088,  0.4765,  ...,  0.4686, -0.2677, -0.4158],\n",
              "         [-0.0769, -0.0212,  0.2127,  ...,  0.1835, -0.2918, -0.0465],\n",
              "         [ 0.0466,  0.2132, -0.0074,  ...,  0.0091, -0.2099,  0.0539],\n",
              "         ...,\n",
              "         [-0.0092,  0.2107,  0.0735,  ..., -0.6152,  0.1192,  0.5948],\n",
              "         [-0.0092,  0.2107,  0.0735,  ..., -0.6152,  0.1192,  0.5948],\n",
              "         [-0.0092,  0.2107,  0.0735,  ..., -0.6152,  0.1192,  0.5948]],\n",
              "\n",
              "        ...,\n",
              "\n",
              "        [[ 0.1807,  0.3121,  0.1129,  ..., -0.8834, -0.6066, -0.2716],\n",
              "         [-0.2576, -0.0571, -0.6719,  ..., -0.1604,  0.0467, -0.0706],\n",
              "         [-0.4514, -0.0386, -0.5384,  ...,  0.1165, -0.2985, -0.3950],\n",
              "         ...,\n",
              "         [-0.0092,  0.2107,  0.0735,  ..., -0.6152,  0.1192,  0.5948],\n",
              "         [-0.0092,  0.2107,  0.0735,  ..., -0.6152,  0.1192,  0.5948],\n",
              "         [-0.0092,  0.2107,  0.0735,  ..., -0.6152,  0.1192,  0.5948]],\n",
              "\n",
              "        [[-0.2101, -0.5001, -0.8718,  ..., -0.6656, -0.4254,  0.9596],\n",
              "         [ 0.0971, -0.3955,  0.5006,  ..., -0.0371,  0.1450, -0.2002],\n",
              "         [ 0.0406, -0.0284,  0.2501,  ..., -0.7256, -0.1930,  0.2275],\n",
              "         ...,\n",
              "         [-0.0092,  0.2107,  0.0735,  ..., -0.6152,  0.1192,  0.5948],\n",
              "         [-0.0092,  0.2107,  0.0735,  ..., -0.6152,  0.1192,  0.5948],\n",
              "         [-0.0092,  0.2107,  0.0735,  ..., -0.6152,  0.1192,  0.5948]],\n",
              "\n",
              "        [[ 0.0808, -0.4380,  0.8254,  ..., -0.0897,  0.4911, -0.3279],\n",
              "         [-0.2295,  0.3255, -0.0927,  ...,  0.5378, -1.0023,  0.8747],\n",
              "         [-0.2671,  0.2390, -0.2607,  ...,  0.1964, -0.5405,  0.3338],\n",
              "         ...,\n",
              "         [-0.0092,  0.2107,  0.0735,  ..., -0.6152,  0.1192,  0.5948],\n",
              "         [-0.0092,  0.2107,  0.0735,  ..., -0.6152,  0.1192,  0.5948],\n",
              "         [-0.0092,  0.2107,  0.0735,  ..., -0.6152,  0.1192,  0.5948]]],\n",
              "       grad_fn=<CatBackward>)"
            ]
          },
          "metadata": {
            "tags": []
          },
          "execution_count": 264
        }
      ]
    },
    {
      "cell_type": "code",
      "metadata": {
        "id": "zuU_VD2al5jJ",
        "colab_type": "code",
        "colab": {}
      },
      "source": [
        ""
      ],
      "execution_count": null,
      "outputs": []
    }
  ]
}
