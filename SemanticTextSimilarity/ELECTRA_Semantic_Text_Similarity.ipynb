{
  "nbformat": 4,
  "nbformat_minor": 0,
  "metadata": {
    "colab": {
      "name": "ELECTRA  Semantic Text Similarity.ipynb",
      "provenance": [],
      "collapsed_sections": [
        "PADp4hO9_uhO"
      ],
      "toc_visible": true,
      "authorship_tag": "ABX9TyMY3LHXUU+eLsJnBPr2xZM0",
      "include_colab_link": true
    },
    "kernelspec": {
      "name": "python3",
      "display_name": "Python 3"
    },
    "accelerator": "GPU",
    "widgets": {
      "application/vnd.jupyter.widget-state+json": {
        "ce3983cca06142d49cbbf101b28cf3d9": {
          "model_module": "@jupyter-widgets/controls",
          "model_name": "HBoxModel",
          "state": {
            "_view_name": "HBoxView",
            "_dom_classes": [],
            "_model_name": "HBoxModel",
            "_view_module": "@jupyter-widgets/controls",
            "_model_module_version": "1.5.0",
            "_view_count": null,
            "_view_module_version": "1.5.0",
            "box_style": "",
            "layout": "IPY_MODEL_678f946a99af41968a18db63a841e0e9",
            "_model_module": "@jupyter-widgets/controls",
            "children": [
              "IPY_MODEL_6edf8b8caef149ab98271915a5126eac",
              "IPY_MODEL_b75609f89e264b059eb0a5f9a46cc7f6"
            ]
          }
        },
        "678f946a99af41968a18db63a841e0e9": {
          "model_module": "@jupyter-widgets/base",
          "model_name": "LayoutModel",
          "state": {
            "_view_name": "LayoutView",
            "grid_template_rows": null,
            "right": null,
            "justify_content": null,
            "_view_module": "@jupyter-widgets/base",
            "overflow": null,
            "_model_module_version": "1.2.0",
            "_view_count": null,
            "flex_flow": null,
            "width": null,
            "min_width": null,
            "border": null,
            "align_items": null,
            "bottom": null,
            "_model_module": "@jupyter-widgets/base",
            "top": null,
            "grid_column": null,
            "overflow_y": null,
            "overflow_x": null,
            "grid_auto_flow": null,
            "grid_area": null,
            "grid_template_columns": null,
            "flex": null,
            "_model_name": "LayoutModel",
            "justify_items": null,
            "grid_row": null,
            "max_height": null,
            "align_content": null,
            "visibility": null,
            "align_self": null,
            "height": null,
            "min_height": null,
            "padding": null,
            "grid_auto_rows": null,
            "grid_gap": null,
            "max_width": null,
            "order": null,
            "_view_module_version": "1.2.0",
            "grid_template_areas": null,
            "object_position": null,
            "object_fit": null,
            "grid_auto_columns": null,
            "margin": null,
            "display": null,
            "left": null
          }
        },
        "6edf8b8caef149ab98271915a5126eac": {
          "model_module": "@jupyter-widgets/controls",
          "model_name": "FloatProgressModel",
          "state": {
            "_view_name": "ProgressView",
            "style": "IPY_MODEL_fc4c682557204486b130ab67985ef32c",
            "_dom_classes": [],
            "description": "Downloading: 100%",
            "_model_name": "FloatProgressModel",
            "bar_style": "success",
            "max": 467,
            "_view_module": "@jupyter-widgets/controls",
            "_model_module_version": "1.5.0",
            "value": 467,
            "_view_count": null,
            "_view_module_version": "1.5.0",
            "orientation": "horizontal",
            "min": 0,
            "description_tooltip": null,
            "_model_module": "@jupyter-widgets/controls",
            "layout": "IPY_MODEL_b06674f688a4438e8f7d11dd137ffe94"
          }
        },
        "b75609f89e264b059eb0a5f9a46cc7f6": {
          "model_module": "@jupyter-widgets/controls",
          "model_name": "HTMLModel",
          "state": {
            "_view_name": "HTMLView",
            "style": "IPY_MODEL_950bb8f2c0794397a5125b3819e4a43d",
            "_dom_classes": [],
            "description": "",
            "_model_name": "HTMLModel",
            "placeholder": "​",
            "_view_module": "@jupyter-widgets/controls",
            "_model_module_version": "1.5.0",
            "value": " 467/467 [00:08&lt;00:00, 55.2B/s]",
            "_view_count": null,
            "_view_module_version": "1.5.0",
            "description_tooltip": null,
            "_model_module": "@jupyter-widgets/controls",
            "layout": "IPY_MODEL_c2228155806d4bf6b8f59d2e5f251e91"
          }
        },
        "fc4c682557204486b130ab67985ef32c": {
          "model_module": "@jupyter-widgets/controls",
          "model_name": "ProgressStyleModel",
          "state": {
            "_view_name": "StyleView",
            "_model_name": "ProgressStyleModel",
            "description_width": "initial",
            "_view_module": "@jupyter-widgets/base",
            "_model_module_version": "1.5.0",
            "_view_count": null,
            "_view_module_version": "1.2.0",
            "bar_color": null,
            "_model_module": "@jupyter-widgets/controls"
          }
        },
        "b06674f688a4438e8f7d11dd137ffe94": {
          "model_module": "@jupyter-widgets/base",
          "model_name": "LayoutModel",
          "state": {
            "_view_name": "LayoutView",
            "grid_template_rows": null,
            "right": null,
            "justify_content": null,
            "_view_module": "@jupyter-widgets/base",
            "overflow": null,
            "_model_module_version": "1.2.0",
            "_view_count": null,
            "flex_flow": null,
            "width": null,
            "min_width": null,
            "border": null,
            "align_items": null,
            "bottom": null,
            "_model_module": "@jupyter-widgets/base",
            "top": null,
            "grid_column": null,
            "overflow_y": null,
            "overflow_x": null,
            "grid_auto_flow": null,
            "grid_area": null,
            "grid_template_columns": null,
            "flex": null,
            "_model_name": "LayoutModel",
            "justify_items": null,
            "grid_row": null,
            "max_height": null,
            "align_content": null,
            "visibility": null,
            "align_self": null,
            "height": null,
            "min_height": null,
            "padding": null,
            "grid_auto_rows": null,
            "grid_gap": null,
            "max_width": null,
            "order": null,
            "_view_module_version": "1.2.0",
            "grid_template_areas": null,
            "object_position": null,
            "object_fit": null,
            "grid_auto_columns": null,
            "margin": null,
            "display": null,
            "left": null
          }
        },
        "950bb8f2c0794397a5125b3819e4a43d": {
          "model_module": "@jupyter-widgets/controls",
          "model_name": "DescriptionStyleModel",
          "state": {
            "_view_name": "StyleView",
            "_model_name": "DescriptionStyleModel",
            "description_width": "",
            "_view_module": "@jupyter-widgets/base",
            "_model_module_version": "1.5.0",
            "_view_count": null,
            "_view_module_version": "1.2.0",
            "_model_module": "@jupyter-widgets/controls"
          }
        },
        "c2228155806d4bf6b8f59d2e5f251e91": {
          "model_module": "@jupyter-widgets/base",
          "model_name": "LayoutModel",
          "state": {
            "_view_name": "LayoutView",
            "grid_template_rows": null,
            "right": null,
            "justify_content": null,
            "_view_module": "@jupyter-widgets/base",
            "overflow": null,
            "_model_module_version": "1.2.0",
            "_view_count": null,
            "flex_flow": null,
            "width": null,
            "min_width": null,
            "border": null,
            "align_items": null,
            "bottom": null,
            "_model_module": "@jupyter-widgets/base",
            "top": null,
            "grid_column": null,
            "overflow_y": null,
            "overflow_x": null,
            "grid_auto_flow": null,
            "grid_area": null,
            "grid_template_columns": null,
            "flex": null,
            "_model_name": "LayoutModel",
            "justify_items": null,
            "grid_row": null,
            "max_height": null,
            "align_content": null,
            "visibility": null,
            "align_self": null,
            "height": null,
            "min_height": null,
            "padding": null,
            "grid_auto_rows": null,
            "grid_gap": null,
            "max_width": null,
            "order": null,
            "_view_module_version": "1.2.0",
            "grid_template_areas": null,
            "object_position": null,
            "object_fit": null,
            "grid_auto_columns": null,
            "margin": null,
            "display": null,
            "left": null
          }
        },
        "3957196b6c8b4572935d00dd78b3b056": {
          "model_module": "@jupyter-widgets/controls",
          "model_name": "HBoxModel",
          "state": {
            "_view_name": "HBoxView",
            "_dom_classes": [],
            "_model_name": "HBoxModel",
            "_view_module": "@jupyter-widgets/controls",
            "_model_module_version": "1.5.0",
            "_view_count": null,
            "_view_module_version": "1.5.0",
            "box_style": "",
            "layout": "IPY_MODEL_8055d0ac75654a5ea8ebc1e712cf0ef1",
            "_model_module": "@jupyter-widgets/controls",
            "children": [
              "IPY_MODEL_3036b3bd4a4d4d1891530f8df259317e",
              "IPY_MODEL_863b14e4780c4452bd911dfcddfe4219"
            ]
          }
        },
        "8055d0ac75654a5ea8ebc1e712cf0ef1": {
          "model_module": "@jupyter-widgets/base",
          "model_name": "LayoutModel",
          "state": {
            "_view_name": "LayoutView",
            "grid_template_rows": null,
            "right": null,
            "justify_content": null,
            "_view_module": "@jupyter-widgets/base",
            "overflow": null,
            "_model_module_version": "1.2.0",
            "_view_count": null,
            "flex_flow": null,
            "width": null,
            "min_width": null,
            "border": null,
            "align_items": null,
            "bottom": null,
            "_model_module": "@jupyter-widgets/base",
            "top": null,
            "grid_column": null,
            "overflow_y": null,
            "overflow_x": null,
            "grid_auto_flow": null,
            "grid_area": null,
            "grid_template_columns": null,
            "flex": null,
            "_model_name": "LayoutModel",
            "justify_items": null,
            "grid_row": null,
            "max_height": null,
            "align_content": null,
            "visibility": null,
            "align_self": null,
            "height": null,
            "min_height": null,
            "padding": null,
            "grid_auto_rows": null,
            "grid_gap": null,
            "max_width": null,
            "order": null,
            "_view_module_version": "1.2.0",
            "grid_template_areas": null,
            "object_position": null,
            "object_fit": null,
            "grid_auto_columns": null,
            "margin": null,
            "display": null,
            "left": null
          }
        },
        "3036b3bd4a4d4d1891530f8df259317e": {
          "model_module": "@jupyter-widgets/controls",
          "model_name": "FloatProgressModel",
          "state": {
            "_view_name": "ProgressView",
            "style": "IPY_MODEL_3acd58850e954797b9f87811504096e5",
            "_dom_classes": [],
            "description": "Downloading: 100%",
            "_model_name": "FloatProgressModel",
            "bar_style": "success",
            "max": 440343552,
            "_view_module": "@jupyter-widgets/controls",
            "_model_module_version": "1.5.0",
            "value": 440343552,
            "_view_count": null,
            "_view_module_version": "1.5.0",
            "orientation": "horizontal",
            "min": 0,
            "description_tooltip": null,
            "_model_module": "@jupyter-widgets/controls",
            "layout": "IPY_MODEL_36591ad71cec45138c172aadfbd5d157"
          }
        },
        "863b14e4780c4452bd911dfcddfe4219": {
          "model_module": "@jupyter-widgets/controls",
          "model_name": "HTMLModel",
          "state": {
            "_view_name": "HTMLView",
            "style": "IPY_MODEL_2261e2cd10f74c75ae19890db5a9b1d2",
            "_dom_classes": [],
            "description": "",
            "_model_name": "HTMLModel",
            "placeholder": "​",
            "_view_module": "@jupyter-widgets/controls",
            "_model_module_version": "1.5.0",
            "value": " 440M/440M [00:07&lt;00:00, 58.5MB/s]",
            "_view_count": null,
            "_view_module_version": "1.5.0",
            "description_tooltip": null,
            "_model_module": "@jupyter-widgets/controls",
            "layout": "IPY_MODEL_6669284c25a64c79abfc63fd0b7377f2"
          }
        },
        "3acd58850e954797b9f87811504096e5": {
          "model_module": "@jupyter-widgets/controls",
          "model_name": "ProgressStyleModel",
          "state": {
            "_view_name": "StyleView",
            "_model_name": "ProgressStyleModel",
            "description_width": "initial",
            "_view_module": "@jupyter-widgets/base",
            "_model_module_version": "1.5.0",
            "_view_count": null,
            "_view_module_version": "1.2.0",
            "bar_color": null,
            "_model_module": "@jupyter-widgets/controls"
          }
        },
        "36591ad71cec45138c172aadfbd5d157": {
          "model_module": "@jupyter-widgets/base",
          "model_name": "LayoutModel",
          "state": {
            "_view_name": "LayoutView",
            "grid_template_rows": null,
            "right": null,
            "justify_content": null,
            "_view_module": "@jupyter-widgets/base",
            "overflow": null,
            "_model_module_version": "1.2.0",
            "_view_count": null,
            "flex_flow": null,
            "width": null,
            "min_width": null,
            "border": null,
            "align_items": null,
            "bottom": null,
            "_model_module": "@jupyter-widgets/base",
            "top": null,
            "grid_column": null,
            "overflow_y": null,
            "overflow_x": null,
            "grid_auto_flow": null,
            "grid_area": null,
            "grid_template_columns": null,
            "flex": null,
            "_model_name": "LayoutModel",
            "justify_items": null,
            "grid_row": null,
            "max_height": null,
            "align_content": null,
            "visibility": null,
            "align_self": null,
            "height": null,
            "min_height": null,
            "padding": null,
            "grid_auto_rows": null,
            "grid_gap": null,
            "max_width": null,
            "order": null,
            "_view_module_version": "1.2.0",
            "grid_template_areas": null,
            "object_position": null,
            "object_fit": null,
            "grid_auto_columns": null,
            "margin": null,
            "display": null,
            "left": null
          }
        },
        "2261e2cd10f74c75ae19890db5a9b1d2": {
          "model_module": "@jupyter-widgets/controls",
          "model_name": "DescriptionStyleModel",
          "state": {
            "_view_name": "StyleView",
            "_model_name": "DescriptionStyleModel",
            "description_width": "",
            "_view_module": "@jupyter-widgets/base",
            "_model_module_version": "1.5.0",
            "_view_count": null,
            "_view_module_version": "1.2.0",
            "_model_module": "@jupyter-widgets/controls"
          }
        },
        "6669284c25a64c79abfc63fd0b7377f2": {
          "model_module": "@jupyter-widgets/base",
          "model_name": "LayoutModel",
          "state": {
            "_view_name": "LayoutView",
            "grid_template_rows": null,
            "right": null,
            "justify_content": null,
            "_view_module": "@jupyter-widgets/base",
            "overflow": null,
            "_model_module_version": "1.2.0",
            "_view_count": null,
            "flex_flow": null,
            "width": null,
            "min_width": null,
            "border": null,
            "align_items": null,
            "bottom": null,
            "_model_module": "@jupyter-widgets/base",
            "top": null,
            "grid_column": null,
            "overflow_y": null,
            "overflow_x": null,
            "grid_auto_flow": null,
            "grid_area": null,
            "grid_template_columns": null,
            "flex": null,
            "_model_name": "LayoutModel",
            "justify_items": null,
            "grid_row": null,
            "max_height": null,
            "align_content": null,
            "visibility": null,
            "align_self": null,
            "height": null,
            "min_height": null,
            "padding": null,
            "grid_auto_rows": null,
            "grid_gap": null,
            "max_width": null,
            "order": null,
            "_view_module_version": "1.2.0",
            "grid_template_areas": null,
            "object_position": null,
            "object_fit": null,
            "grid_auto_columns": null,
            "margin": null,
            "display": null,
            "left": null
          }
        }
      }
    }
  },
  "cells": [
    {
      "cell_type": "markdown",
      "metadata": {
        "id": "view-in-github",
        "colab_type": "text"
      },
      "source": [
        "<a href=\"https://colab.research.google.com/github/glingden/Natural-Language-Processing-NLP/blob/master/ELECTRA_Semantic_Text_Similarity.ipynb\" target=\"_parent\"><img src=\"https://colab.research.google.com/assets/colab-badge.svg\" alt=\"Open In Colab\"/></a>"
      ]
    },
    {
      "cell_type": "markdown",
      "metadata": {
        "id": "szrWqOlB9-R7",
        "colab_type": "text"
      },
      "source": [
        "# Electra Semantic Text Similarity\n",
        "In this notebook, the Electra (electra-base-discriminator) model is used for finding  semantic text similarity between the pair of sentences.  The [STS_B benchmark](https://ixa2.si.ehu.es/stswiki/index.php/STSbenchmark) dataset is used for this work. This dataset consists of separate training, validation and test data. The work in this notebook contains two parts:\n",
        "1. Sentence level embedding extraction from the pre-trained  bert model and apply cosine similarity between the pair sentences (No fine-tunned, but only using sentence vector representation from the pretrained model)\n",
        "\n",
        "2. Fine-tune: The STS_B train dataset is used for fine tunning the model and validaiton dataset is used for model validation. And, the fine-tunned model is used to predict the test dataset."
      ]
    },
    {
      "cell_type": "code",
      "metadata": {
        "id": "1xo41bKl99NK",
        "colab_type": "code",
        "colab": {}
      },
      "source": [
        "#import necessary libraries\n",
        "import numpy as np\n",
        "import pandas as pd\n",
        "import tensorflow as tf\n",
        "import torch\n"
      ],
      "execution_count": 47,
      "outputs": []
    },
    {
      "cell_type": "code",
      "metadata": {
        "id": "PFT-i2ACvRGA",
        "colab_type": "code",
        "colab": {
          "base_uri": "https://localhost:8080/",
          "height": 85
        },
        "outputId": "cb0e00ce-17d6-42cb-a9f2-aabeaabcb549"
      },
      "source": [
        "#check version\n",
        "print(torch.__version__, tf.__version__)\n",
        "print()\n",
        "print(np.__version__, pd.__version__)\n",
        "!python -V"
      ],
      "execution_count": 48,
      "outputs": [
        {
          "output_type": "stream",
          "text": [
            "1.5.1+cu101 2.2.0\n",
            "\n",
            "1.18.5 1.0.5\n",
            "Python 3.6.9\n"
          ],
          "name": "stdout"
        }
      ]
    },
    {
      "cell_type": "code",
      "metadata": {
        "id": "6_AtOWHBi-Rv",
        "colab_type": "code",
        "colab": {
          "base_uri": "https://localhost:8080/",
          "height": 34
        },
        "outputId": "1dcc3892-4c94-4257-fda7-d930f673d1ec"
      },
      "source": [
        "#check GPU is available or not \n",
        "if torch.cuda.is_available():\n",
        "\n",
        "  device = torch.device(\"cuda\")\n",
        "  print('Found GPU :', torch.cuda.get_device_name(0))\n",
        "\n",
        "else:\n",
        "    print('Not found, use CPU instead')\n",
        "    device = torch.device(\"cpu\")"
      ],
      "execution_count": 49,
      "outputs": [
        {
          "output_type": "stream",
          "text": [
            "Found GPU : Tesla K80\n"
          ],
          "name": "stdout"
        }
      ]
    },
    {
      "cell_type": "code",
      "metadata": {
        "id": "bRXVmlCHi-Wn",
        "colab_type": "code",
        "colab": {
          "base_uri": "https://localhost:8080/",
          "height": 54
        },
        "outputId": "70439c02-9870-42ba-e130-944c257ce966"
      },
      "source": [
        "#mount drive \n",
        "from google.colab import drive\n",
        "drive.mount('/content/drive')"
      ],
      "execution_count": 50,
      "outputs": [
        {
          "output_type": "stream",
          "text": [
            "Drive already mounted at /content/drive; to attempt to forcibly remount, call drive.mount(\"/content/drive\", force_remount=True).\n"
          ],
          "name": "stdout"
        }
      ]
    },
    {
      "cell_type": "code",
      "metadata": {
        "id": "4T322tS-jLB9",
        "colab_type": "code",
        "colab": {}
      },
      "source": [
        "#load dataset\n",
        "dataset_types = [ \"sts-train.csv\", \"sts-dev.csv\", \"sts-test.csv\",] # 3 datasets\n",
        "col_names = [\"genre\", \"file\", \"years\", \"_\", \"score(0-5)\", \"sentence_1\", \"sentence_2\"] #columns names\n",
        "\n",
        "#collect as a list of pandas dataframes\n",
        "df_list = []\n",
        "for dataset in dataset_types:\n",
        "  df = pd.read_csv(\"/content/drive/My Drive/Google_Colab/stsbenchmark_dataset/\"+ dataset, \n",
        "                 delimiter=',' , \n",
        "                 header= None,\n",
        "                 names= col_names\n",
        "                )\n",
        "  \n",
        "\n",
        "  df_list.append(df)"
      ],
      "execution_count": 51,
      "outputs": []
    },
    {
      "cell_type": "code",
      "metadata": {
        "id": "fixJuX1YjM6Y",
        "colab_type": "code",
        "colab": {}
      },
      "source": [
        "#separate dataset (train, dev and test)\n",
        "df_train = df_list[0]\n",
        "df_dev = df_list[1]\n",
        "df_test = df_list[2]\n"
      ],
      "execution_count": 52,
      "outputs": []
    },
    {
      "cell_type": "code",
      "metadata": {
        "id": "2zQkG31GjPXd",
        "colab_type": "code",
        "colab": {
          "base_uri": "https://localhost:8080/",
          "height": 374
        },
        "outputId": "28521823-a474-4d1d-e3f8-e29cb8529bbc"
      },
      "source": [
        "#show random 5 rows in each dataset (train, dev and test)\n",
        "print(\"Show train_data shape: {}\".format(df_train.shape))\n",
        "print(\"Show dev_data shape: {}\".format(df_dev.shape))\n",
        "print(\"Show test_data shape: {}\".format(df_test.shape))\n",
        "print(\"Show Random 5 rows:\")\n",
        "df_train.sample(5)"
      ],
      "execution_count": 8,
      "outputs": [
        {
          "output_type": "stream",
          "text": [
            "Show train_data shape: (5749, 7)\n",
            "Show dev_data shape: (1500, 7)\n",
            "Show test_data shape: (1379, 7)\n",
            "Show Random 5 rows:\n"
          ],
          "name": "stdout"
        },
        {
          "output_type": "execute_result",
          "data": {
            "text/html": [
              "<div>\n",
              "<style scoped>\n",
              "    .dataframe tbody tr th:only-of-type {\n",
              "        vertical-align: middle;\n",
              "    }\n",
              "\n",
              "    .dataframe tbody tr th {\n",
              "        vertical-align: top;\n",
              "    }\n",
              "\n",
              "    .dataframe thead th {\n",
              "        text-align: right;\n",
              "    }\n",
              "</style>\n",
              "<table border=\"1\" class=\"dataframe\">\n",
              "  <thead>\n",
              "    <tr style=\"text-align: right;\">\n",
              "      <th></th>\n",
              "      <th>genre</th>\n",
              "      <th>file</th>\n",
              "      <th>years</th>\n",
              "      <th>_</th>\n",
              "      <th>score(0-5)</th>\n",
              "      <th>sentence_1</th>\n",
              "      <th>sentence_2</th>\n",
              "    </tr>\n",
              "  </thead>\n",
              "  <tbody>\n",
              "    <tr>\n",
              "      <th>1468</th>\n",
              "      <td>main-captions</td>\n",
              "      <td>images</td>\n",
              "      <td>2014</td>\n",
              "      <td>702</td>\n",
              "      <td>3.2</td>\n",
              "      <td>a black and white photo of cows in their stalls.</td>\n",
              "      <td>A black and white photo of cattle at a trough.</td>\n",
              "    </tr>\n",
              "    <tr>\n",
              "      <th>5266</th>\n",
              "      <td>main-news</td>\n",
              "      <td>headlines</td>\n",
              "      <td>2015</td>\n",
              "      <td>778</td>\n",
              "      <td>3.0</td>\n",
              "      <td>Headlines in major Iranian newspapers on Sept 30</td>\n",
              "      <td>Headlines in major Iranian newspapers on Nov 21</td>\n",
              "    </tr>\n",
              "    <tr>\n",
              "      <th>1379</th>\n",
              "      <td>main-captions</td>\n",
              "      <td>images</td>\n",
              "      <td>2014</td>\n",
              "      <td>561</td>\n",
              "      <td>0.8</td>\n",
              "      <td>a close up of a small cactus in a pot.</td>\n",
              "      <td>a close up of a woman holding a white puppy.</td>\n",
              "    </tr>\n",
              "    <tr>\n",
              "      <th>1736</th>\n",
              "      <td>main-captions</td>\n",
              "      <td>images</td>\n",
              "      <td>2015</td>\n",
              "      <td>713</td>\n",
              "      <td>0.4</td>\n",
              "      <td>A man is scalling a sheer rock face with a rop...</td>\n",
              "      <td>A young man is doing a ski jump with a purple ...</td>\n",
              "    </tr>\n",
              "    <tr>\n",
              "      <th>855</th>\n",
              "      <td>main-captions</td>\n",
              "      <td>MSRvid</td>\n",
              "      <td>2012train</td>\n",
              "      <td>527</td>\n",
              "      <td>2.5</td>\n",
              "      <td>A man is pouring chili into a bowl.</td>\n",
              "      <td>A man opens a can and pours the contents into ...</td>\n",
              "    </tr>\n",
              "  </tbody>\n",
              "</table>\n",
              "</div>"
            ],
            "text/plain": [
              "              genre  ...                                         sentence_2\n",
              "1468  main-captions  ...     A black and white photo of cattle at a trough.\n",
              "5266      main-news  ...    Headlines in major Iranian newspapers on Nov 21\n",
              "1379  main-captions  ...       a close up of a woman holding a white puppy.\n",
              "1736  main-captions  ...  A young man is doing a ski jump with a purple ...\n",
              "855   main-captions  ...  A man opens a can and pours the contents into ...\n",
              "\n",
              "[5 rows x 7 columns]"
            ]
          },
          "metadata": {
            "tags": []
          },
          "execution_count": 8
        }
      ]
    },
    {
      "cell_type": "code",
      "metadata": {
        "id": "vIBUF4k4jPfR",
        "colab_type": "code",
        "colab": {}
      },
      "source": [
        ""
      ],
      "execution_count": 8,
      "outputs": []
    },
    {
      "cell_type": "markdown",
      "metadata": {
        "id": "n_wq1Y2fjhNX",
        "colab_type": "text"
      },
      "source": [
        "# **Text Preprocessing**\n",
        "Prepare text data according to Electra format as same as BERT. We have to tokenize the text sequences/sentences as per the Electra requirements before feeding them into Model. For this, we will use ElectraTokenizer from hugging face."
      ]
    },
    {
      "cell_type": "code",
      "metadata": {
        "id": "3l3vNjfmXtn6",
        "colab_type": "code",
        "colab": {
          "base_uri": "https://localhost:8080/",
          "height": 360
        },
        "outputId": "987e8c23-5153-4a96-fb4c-f37c4fffe1d8"
      },
      "source": [
        "#tranformer library from Hugging face\n",
        "!pip install transformers"
      ],
      "execution_count": 53,
      "outputs": [
        {
          "output_type": "stream",
          "text": [
            "Requirement already satisfied: transformers in /usr/local/lib/python3.6/dist-packages (3.0.2)\n",
            "Requirement already satisfied: sacremoses in /usr/local/lib/python3.6/dist-packages (from transformers) (0.0.43)\n",
            "Requirement already satisfied: filelock in /usr/local/lib/python3.6/dist-packages (from transformers) (3.0.12)\n",
            "Requirement already satisfied: tqdm>=4.27 in /usr/local/lib/python3.6/dist-packages (from transformers) (4.41.1)\n",
            "Requirement already satisfied: sentencepiece!=0.1.92 in /usr/local/lib/python3.6/dist-packages (from transformers) (0.1.91)\n",
            "Requirement already satisfied: requests in /usr/local/lib/python3.6/dist-packages (from transformers) (2.23.0)\n",
            "Requirement already satisfied: dataclasses; python_version < \"3.7\" in /usr/local/lib/python3.6/dist-packages (from transformers) (0.7)\n",
            "Requirement already satisfied: packaging in /usr/local/lib/python3.6/dist-packages (from transformers) (20.4)\n",
            "Requirement already satisfied: numpy in /usr/local/lib/python3.6/dist-packages (from transformers) (1.18.5)\n",
            "Requirement already satisfied: tokenizers==0.8.1.rc1 in /usr/local/lib/python3.6/dist-packages (from transformers) (0.8.1rc1)\n",
            "Requirement already satisfied: regex!=2019.12.17 in /usr/local/lib/python3.6/dist-packages (from transformers) (2019.12.20)\n",
            "Requirement already satisfied: six in /usr/local/lib/python3.6/dist-packages (from sacremoses->transformers) (1.15.0)\n",
            "Requirement already satisfied: click in /usr/local/lib/python3.6/dist-packages (from sacremoses->transformers) (7.1.2)\n",
            "Requirement already satisfied: joblib in /usr/local/lib/python3.6/dist-packages (from sacremoses->transformers) (0.16.0)\n",
            "Requirement already satisfied: urllib3!=1.25.0,!=1.25.1,<1.26,>=1.21.1 in /usr/local/lib/python3.6/dist-packages (from requests->transformers) (1.24.3)\n",
            "Requirement already satisfied: idna<3,>=2.5 in /usr/local/lib/python3.6/dist-packages (from requests->transformers) (2.10)\n",
            "Requirement already satisfied: chardet<4,>=3.0.2 in /usr/local/lib/python3.6/dist-packages (from requests->transformers) (3.0.4)\n",
            "Requirement already satisfied: certifi>=2017.4.17 in /usr/local/lib/python3.6/dist-packages (from requests->transformers) (2020.6.20)\n",
            "Requirement already satisfied: pyparsing>=2.0.2 in /usr/local/lib/python3.6/dist-packages (from packaging->transformers) (2.4.7)\n"
          ],
          "name": "stdout"
        }
      ]
    },
    {
      "cell_type": "code",
      "metadata": {
        "id": "tFQycZnUZPQI",
        "colab_type": "code",
        "colab": {}
      },
      "source": [
        "#import libraries from hugging face\n",
        "from transformers import ElectraModel, ElectraTokenizer\n",
        "tokenizer= ElectraTokenizer.from_pretrained('google/electra-base-discriminator') #initiate tokenizer "
      ],
      "execution_count": 54,
      "outputs": []
    },
    {
      "cell_type": "markdown",
      "metadata": {
        "id": "Wg8A1suSpg_3",
        "colab_type": "text"
      },
      "source": [
        "# Hugging Face Tokenizer\n",
        "Example of  tokenizer "
      ]
    },
    {
      "cell_type": "code",
      "metadata": {
        "id": "V1iP_RrDnTvn",
        "colab_type": "code",
        "colab": {
          "base_uri": "https://localhost:8080/",
          "height": 102
        },
        "outputId": "11aab7b5-ae78-4bd5-8dfa-f0892921d0cb"
      },
      "source": [
        "#text\n",
        "text = df_train.sentence_1[0]\n",
        "print(text)\n",
        "\n",
        "#Tokenize the text\n",
        "tokenize = tokenizer.tokenize(text)\n",
        "print(tokenize)\n",
        "\n",
        "#encode text\n",
        "input_ids =tokenizer.encode(text) # add '[CLS]' and '[SEP]' tokens\n",
        "print(input_ids)\n",
        "\n",
        "#convert input_ids back to tokens\n",
        "ids_to_tokens= tokenizer.convert_ids_to_tokens(input_ids)\n",
        "print(ids_to_tokens)\n",
        "\n",
        "#convert tokens back to input_ids\n",
        "ids_to_tokens= tokenizer.convert_tokens_to_ids(ids_to_tokens)\n",
        "print(ids_to_tokens)"
      ],
      "execution_count": null,
      "outputs": [
        {
          "output_type": "stream",
          "text": [
            "A plane is taking off.\n",
            "['a', 'plane', 'is', 'taking', 'off', '.']\n",
            "[101, 1037, 4946, 2003, 2635, 2125, 1012, 102]\n",
            "['[CLS]', 'a', 'plane', 'is', 'taking', 'off', '.', '[SEP]']\n",
            "[101, 1037, 4946, 2003, 2635, 2125, 1012, 102]\n"
          ],
          "name": "stdout"
        }
      ]
    },
    {
      "cell_type": "code",
      "metadata": {
        "id": "ROj6x33Hnwcn",
        "colab_type": "code",
        "colab": {}
      },
      "source": [
        ""
      ],
      "execution_count": null,
      "outputs": []
    },
    {
      "cell_type": "markdown",
      "metadata": {
        "id": "m23okuXjv0Vv",
        "colab_type": "text"
      },
      "source": [
        "#Count tokens in Sequences\n",
        "Since we have to have equal length of every sequence, check the maximun token length in every sentences in all datasets and  we will use this max length for all sequences as fix-length size while doing sequence padding.\n",
        "\n",
        "Or, we may use the other  best max-length. So that there is no risk of loss of much tokens while doing truncating/padding  in the sequences."
      ]
    },
    {
      "cell_type": "code",
      "metadata": {
        "id": "nom7ekL4nwZ8",
        "colab_type": "code",
        "colab": {
          "base_uri": "https://localhost:8080/",
          "height": 187
        },
        "outputId": "c7d2d265-8fcc-4e47-dd13-0d5524b47e3c"
      },
      "source": [
        "#counts tokens in sequences\n",
        "dataset_all = [df_train.sentence_1, df_train.sentence_2, df_dev.sentence_1, df_dev.sentence_2,df_test.sentence_1,df_test.sentence_2] #list of all dataset\n",
        "dataset_type_name = ['df_train.sentence_1', 'df_train.sentence_2', 'df_dev.sentence_1', 'df_dev.sentence_2', 'df_test.sentence_1', 'df_test.sentence_2'] #name of dataset\n",
        "\n",
        "max_len = 0 # tokens max count in overall datasets\n",
        "token_len_list = [] #store token counts for each dataset\n",
        "higest_token_len = {} # store higest token counts in each dataset\n",
        "\n",
        "\n",
        "#zip and iterate over all datasets\n",
        "for nam_data, each_dataset in zip(dataset_type_name, dataset_all):\n",
        "  token_len_dataset = [] #store each sequence count of each dataset\n",
        "  max_len_seq= 0 # max count of  sequence in each dataset \n",
        "\n",
        "  #iterate over sequences in each dataset\n",
        "  for sent in each_dataset:\n",
        "    tokens = tokenizer.encode(sent) #tokenize\n",
        "    tokens_len = len(tokens) # count length\n",
        "    token_len_dataset.append(tokens_len) \n",
        "    \n",
        "    \n",
        "    # keep tracking the higest counts in each dataset\n",
        "    if tokens_len > max_len_seq:\n",
        "      max_len_seq = tokens_len\n",
        "    \n",
        "    #higest count overall dataset\n",
        "    if max_len_seq > max_len:\n",
        "      max_len = max_len_seq\n",
        "       \n",
        "  higest_token_len[nam_data] =  max_len_seq \n",
        "  token_len_list.append(token_len_dataset)\n",
        "\n",
        "print(\"Higest tokens number in 3 datasets: %s .\" % (max_len))\n",
        "print()\n",
        "print('Higest counts in each dataset:\\n')\n",
        "higest_token_len\n",
        "\n"
      ],
      "execution_count": 11,
      "outputs": [
        {
          "output_type": "stream",
          "text": [
            "Higest tokens number in 3 datasets: 70 .\n",
            "\n",
            "Higest counts in each dataset:\n",
            "\n"
          ],
          "name": "stdout"
        },
        {
          "output_type": "execute_result",
          "data": {
            "text/plain": [
              "{'df_dev.sentence_1': 45,\n",
              " 'df_dev.sentence_2': 53,\n",
              " 'df_test.sentence_1': 43,\n",
              " 'df_test.sentence_2': 46,\n",
              " 'df_train.sentence_1': 70,\n",
              " 'df_train.sentence_2': 63}"
            ]
          },
          "metadata": {
            "tags": []
          },
          "execution_count": 11
        }
      ]
    },
    {
      "cell_type": "code",
      "metadata": {
        "id": "jG-zdvMRv_T-",
        "colab_type": "code",
        "colab": {
          "base_uri": "https://localhost:8080/",
          "height": 788
        },
        "outputId": "d533353a-61d7-4083-bd7b-7f54daad210b"
      },
      "source": [
        "#Plot the diagram to show the tokens' length distribution in dataset\n",
        "import seaborn as sns\n",
        "from matplotlib import pyplot as plt\n",
        "\n",
        "# data to plot\n",
        "data = token_len_list \n",
        "\n",
        "#creates subplots  with nrows=3, ncols=2\n",
        "fig, axes = plt.subplots(nrows=3, ncols=2, figsize=(12,11))\n",
        "sns.set(style='darkgrid') #set plot style\n",
        "\n",
        "#change 'axes' to 1d, zip and emumerate\n",
        "for i, (name, axe)  in enumerate(zip(dataset_type_name, axes.flatten())):\n",
        "  sns.distplot(token_len_list[i], axlabel ='Tokens Count', ax=axe) #distplot type\n",
        "  name = name + ': (tokens_max_count= '+ str(higest_token_len[name]) + ')' #title (for example: df_train.sentence_1:(max_count=70))\n",
        "  axe.set_title(name) #title for each suplots\n",
        "fig.tight_layout()#fit nicely\n",
        "plt.show()\n"
      ],
      "execution_count": 13,
      "outputs": [
        {
          "output_type": "display_data",
          "data": {
            "image/png": "[encoded data removed]",
            "text/plain": [
              "<Figure size 864x792 with 6 Axes>"
            ]
          },
          "metadata": {
            "tags": []
          }
        }
      ]
    },
    {
      "cell_type": "markdown",
      "metadata": {
        "id": "Y1Kpor7awXk6",
        "colab_type": "text"
      },
      "source": [
        "**Observation**:  The max tokens count  in a sequence is 70 in all dataset. Among all dataset, the train dataset(both in sentence1 and sentence 2) have higer tokens count of 70 and 63 respectively. But, the majority of tokens length are about 40 counts. \n",
        "\n",
        "So, this gives us the good idea for selecting the max-length of tokens in a sequence.  We may put our max-length of 60, so that we will not truncate more tokens(loss information) and also don't have to do more padding.\n",
        "\n",
        "But, we may use 120 tokens length (double of a single sequence) for the model architecure where a pair of sentence are required to feed together."
      ]
    },
    {
      "cell_type": "code",
      "metadata": {
        "id": "StH2fjqtwcD3",
        "colab_type": "code",
        "colab": {}
      },
      "source": [
        ""
      ],
      "execution_count": null,
      "outputs": []
    },
    {
      "cell_type": "markdown",
      "metadata": {
        "id": "bmAcWXS6_UP5",
        "colab_type": "text"
      },
      "source": [
        "# Part-1: Sentence Level Embedding Extraction\n",
        "For Sentence Embedding Extraction, last 4 hidden layers are concatenated and mean pooling of words in a sequence/sentence is done. So, the final dimension of a sentence vector representation is 768*4 =3072."
      ]
    },
    {
      "cell_type": "code",
      "metadata": {
        "id": "VbHtY2_Ta2aC",
        "colab_type": "code",
        "colab": {}
      },
      "source": [
        "#function to extract sentence level embedding from Bert Model\n",
        "def sent_embedding(sent, model):\n",
        "  \"\"\"\n",
        "   Concatenate from last 4 layers and Mean pooling of words in sentences\n",
        "\n",
        "  Args:\n",
        "     sent: list of sentences\n",
        "     model: BERT pre-trained model\n",
        "\n",
        "  Returns:\n",
        "     sent_embedding: 2d tensor \n",
        "\n",
        "  \"\"\"\n",
        "  # tokenize  each sequence into fix-length size of 70 tokens\n",
        "  tokens = tokenizer.batch_encode_plus( sent,\n",
        "                                       max_length= 70, # each sequence size\n",
        "                                       padding= 'max_length', # padding\n",
        "                                       add_special_tokens = True, # add '[CLS]'and '[SEP]'\n",
        "                                       return_attention_mask = True, # attention mask \n",
        "                                       return_tensors='pt',  # return PyTorch tensors\n",
        "                                      )\n",
        "   \n",
        "  \n",
        "\n",
        "  #feed input_ids to BERT model\n",
        "  with torch.no_grad():  # reduces memory consumption\n",
        "        outputs = model(tokens['input_ids'], tokens['attention_mask'] ) # feed input_ids, attention_mask\n",
        "        hidden_states = outputs[1] # all hidden layers\n",
        "\n",
        "  concat_embeding = torch.cat(tuple([hidden_states[i] for i in [-4,-3,-2,-1]]), dim = 2) #concatenate last 4 hidden layers\n",
        "  print('Dimension after Last_four_layers concatenation: ',concat_embeding.shape )\n",
        "  padded = tokens['attention_mask'].unsqueeze(2) # insert size one at 2 position\n",
        "  mul_out = torch.mul(concat_embeding, padded)# make zeros vector for paddding tokens\n",
        "  sent_embeding = mul_out.mean(dim=1) # average pooling  of tokens\n",
        "  print('Sentence embedding dimension: ',sent_embeding.shape )\n",
        "   \n",
        "  return sent_embeding\n",
        "\n"
      ],
      "execution_count": 15,
      "outputs": []
    },
    {
      "cell_type": "code",
      "metadata": {
        "id": "WlPSjJWFahXI",
        "colab_type": "code",
        "colab": {
          "base_uri": "https://localhost:8080/",
          "height": 1000,
          "referenced_widgets": [
            "ce3983cca06142d49cbbf101b28cf3d9",
            "678f946a99af41968a18db63a841e0e9",
            "6edf8b8caef149ab98271915a5126eac",
            "b75609f89e264b059eb0a5f9a46cc7f6",
            "fc4c682557204486b130ab67985ef32c",
            "b06674f688a4438e8f7d11dd137ffe94",
            "950bb8f2c0794397a5125b3819e4a43d",
            "c2228155806d4bf6b8f59d2e5f251e91",
            "3957196b6c8b4572935d00dd78b3b056",
            "8055d0ac75654a5ea8ebc1e712cf0ef1",
            "3036b3bd4a4d4d1891530f8df259317e",
            "863b14e4780c4452bd911dfcddfe4219",
            "3acd58850e954797b9f87811504096e5",
            "36591ad71cec45138c172aadfbd5d157",
            "2261e2cd10f74c75ae19890db5a9b1d2",
            "6669284c25a64c79abfc63fd0b7377f2"
          ]
        },
        "outputId": "8fb51b64-6b27-4de9-9426-87eeffa200be"
      },
      "source": [
        "# initiate the pre-trained model\n",
        "model = ElectraModel.from_pretrained( 'google/electra-base-discriminator',\n",
        "                                     output_hidden_states = True # return all hidden-states\n",
        "                                    )\n",
        "#put model in evaluation\n",
        "model.eval()"
      ],
      "execution_count": 16,
      "outputs": [
        {
          "output_type": "display_data",
          "data": {
            "application/vnd.jupyter.widget-view+json": {
              "model_id": "ce3983cca06142d49cbbf101b28cf3d9",
              "version_minor": 0,
              "version_major": 2
            },
            "text/plain": [
              "HBox(children=(FloatProgress(value=0.0, description='Downloading', max=467.0, style=ProgressStyle(description_…"
            ]
          },
          "metadata": {
            "tags": []
          }
        },
        {
          "output_type": "stream",
          "text": [
            "\n"
          ],
          "name": "stdout"
        },
        {
          "output_type": "display_data",
          "data": {
            "application/vnd.jupyter.widget-view+json": {
              "model_id": "3957196b6c8b4572935d00dd78b3b056",
              "version_minor": 0,
              "version_major": 2
            },
            "text/plain": [
              "HBox(children=(FloatProgress(value=0.0, description='Downloading', max=440343552.0, style=ProgressStyle(descri…"
            ]
          },
          "metadata": {
            "tags": []
          }
        },
        {
          "output_type": "stream",
          "text": [
            "\n"
          ],
          "name": "stdout"
        },
        {
          "output_type": "stream",
          "text": [
            "Some weights of the model checkpoint at google/electra-base-discriminator were not used when initializing ElectraModel: ['electra.embeddings_project.weight', 'electra.embeddings_project.bias']\n",
            "- This IS expected if you are initializing ElectraModel from the checkpoint of a model trained on another task or with another architecture (e.g. initializing a BertForSequenceClassification model from a BertForPretraining model).\n",
            "- This IS NOT expected if you are initializing ElectraModel from the checkpoint of a model that you expect to be exactly identical (initializing a BertForSequenceClassification model from a BertForSequenceClassification model).\n"
          ],
          "name": "stderr"
        },
        {
          "output_type": "execute_result",
          "data": {
            "text/plain": [
              "ElectraModel(\n",
              "  (embeddings): ElectraEmbeddings(\n",
              "    (word_embeddings): Embedding(30522, 768, padding_idx=0)\n",
              "    (position_embeddings): Embedding(512, 768)\n",
              "    (token_type_embeddings): Embedding(2, 768)\n",
              "    (LayerNorm): LayerNorm((768,), eps=1e-12, elementwise_affine=True)\n",
              "    (dropout): Dropout(p=0.1, inplace=False)\n",
              "  )\n",
              "  (encoder): BertEncoder(\n",
              "    (layer): ModuleList(\n",
              "      (0): BertLayer(\n",
              "        (attention): BertAttention(\n",
              "          (self): BertSelfAttention(\n",
              "            (query): Linear(in_features=768, out_features=768, bias=True)\n",
              "            (key): Linear(in_features=768, out_features=768, bias=True)\n",
              "            (value): Linear(in_features=768, out_features=768, bias=True)\n",
              "            (dropout): Dropout(p=0.1, inplace=False)\n",
              "          )\n",
              "          (output): BertSelfOutput(\n",
              "            (dense): Linear(in_features=768, out_features=768, bias=True)\n",
              "            (LayerNorm): LayerNorm((768,), eps=1e-12, elementwise_affine=True)\n",
              "            (dropout): Dropout(p=0.1, inplace=False)\n",
              "          )\n",
              "        )\n",
              "        (intermediate): BertIntermediate(\n",
              "          (dense): Linear(in_features=768, out_features=3072, bias=True)\n",
              "        )\n",
              "        (output): BertOutput(\n",
              "          (dense): Linear(in_features=3072, out_features=768, bias=True)\n",
              "          (LayerNorm): LayerNorm((768,), eps=1e-12, elementwise_affine=True)\n",
              "          (dropout): Dropout(p=0.1, inplace=False)\n",
              "        )\n",
              "      )\n",
              "      (1): BertLayer(\n",
              "        (attention): BertAttention(\n",
              "          (self): BertSelfAttention(\n",
              "            (query): Linear(in_features=768, out_features=768, bias=True)\n",
              "            (key): Linear(in_features=768, out_features=768, bias=True)\n",
              "            (value): Linear(in_features=768, out_features=768, bias=True)\n",
              "            (dropout): Dropout(p=0.1, inplace=False)\n",
              "          )\n",
              "          (output): BertSelfOutput(\n",
              "            (dense): Linear(in_features=768, out_features=768, bias=True)\n",
              "            (LayerNorm): LayerNorm((768,), eps=1e-12, elementwise_affine=True)\n",
              "            (dropout): Dropout(p=0.1, inplace=False)\n",
              "          )\n",
              "        )\n",
              "        (intermediate): BertIntermediate(\n",
              "          (dense): Linear(in_features=768, out_features=3072, bias=True)\n",
              "        )\n",
              "        (output): BertOutput(\n",
              "          (dense): Linear(in_features=3072, out_features=768, bias=True)\n",
              "          (LayerNorm): LayerNorm((768,), eps=1e-12, elementwise_affine=True)\n",
              "          (dropout): Dropout(p=0.1, inplace=False)\n",
              "        )\n",
              "      )\n",
              "      (2): BertLayer(\n",
              "        (attention): BertAttention(\n",
              "          (self): BertSelfAttention(\n",
              "            (query): Linear(in_features=768, out_features=768, bias=True)\n",
              "            (key): Linear(in_features=768, out_features=768, bias=True)\n",
              "            (value): Linear(in_features=768, out_features=768, bias=True)\n",
              "            (dropout): Dropout(p=0.1, inplace=False)\n",
              "          )\n",
              "          (output): BertSelfOutput(\n",
              "            (dense): Linear(in_features=768, out_features=768, bias=True)\n",
              "            (LayerNorm): LayerNorm((768,), eps=1e-12, elementwise_affine=True)\n",
              "            (dropout): Dropout(p=0.1, inplace=False)\n",
              "          )\n",
              "        )\n",
              "        (intermediate): BertIntermediate(\n",
              "          (dense): Linear(in_features=768, out_features=3072, bias=True)\n",
              "        )\n",
              "        (output): BertOutput(\n",
              "          (dense): Linear(in_features=3072, out_features=768, bias=True)\n",
              "          (LayerNorm): LayerNorm((768,), eps=1e-12, elementwise_affine=True)\n",
              "          (dropout): Dropout(p=0.1, inplace=False)\n",
              "        )\n",
              "      )\n",
              "      (3): BertLayer(\n",
              "        (attention): BertAttention(\n",
              "          (self): BertSelfAttention(\n",
              "            (query): Linear(in_features=768, out_features=768, bias=True)\n",
              "            (key): Linear(in_features=768, out_features=768, bias=True)\n",
              "            (value): Linear(in_features=768, out_features=768, bias=True)\n",
              "            (dropout): Dropout(p=0.1, inplace=False)\n",
              "          )\n",
              "          (output): BertSelfOutput(\n",
              "            (dense): Linear(in_features=768, out_features=768, bias=True)\n",
              "            (LayerNorm): LayerNorm((768,), eps=1e-12, elementwise_affine=True)\n",
              "            (dropout): Dropout(p=0.1, inplace=False)\n",
              "          )\n",
              "        )\n",
              "        (intermediate): BertIntermediate(\n",
              "          (dense): Linear(in_features=768, out_features=3072, bias=True)\n",
              "        )\n",
              "        (output): BertOutput(\n",
              "          (dense): Linear(in_features=3072, out_features=768, bias=True)\n",
              "          (LayerNorm): LayerNorm((768,), eps=1e-12, elementwise_affine=True)\n",
              "          (dropout): Dropout(p=0.1, inplace=False)\n",
              "        )\n",
              "      )\n",
              "      (4): BertLayer(\n",
              "        (attention): BertAttention(\n",
              "          (self): BertSelfAttention(\n",
              "            (query): Linear(in_features=768, out_features=768, bias=True)\n",
              "            (key): Linear(in_features=768, out_features=768, bias=True)\n",
              "            (value): Linear(in_features=768, out_features=768, bias=True)\n",
              "            (dropout): Dropout(p=0.1, inplace=False)\n",
              "          )\n",
              "          (output): BertSelfOutput(\n",
              "            (dense): Linear(in_features=768, out_features=768, bias=True)\n",
              "            (LayerNorm): LayerNorm((768,), eps=1e-12, elementwise_affine=True)\n",
              "            (dropout): Dropout(p=0.1, inplace=False)\n",
              "          )\n",
              "        )\n",
              "        (intermediate): BertIntermediate(\n",
              "          (dense): Linear(in_features=768, out_features=3072, bias=True)\n",
              "        )\n",
              "        (output): BertOutput(\n",
              "          (dense): Linear(in_features=3072, out_features=768, bias=True)\n",
              "          (LayerNorm): LayerNorm((768,), eps=1e-12, elementwise_affine=True)\n",
              "          (dropout): Dropout(p=0.1, inplace=False)\n",
              "        )\n",
              "      )\n",
              "      (5): BertLayer(\n",
              "        (attention): BertAttention(\n",
              "          (self): BertSelfAttention(\n",
              "            (query): Linear(in_features=768, out_features=768, bias=True)\n",
              "            (key): Linear(in_features=768, out_features=768, bias=True)\n",
              "            (value): Linear(in_features=768, out_features=768, bias=True)\n",
              "            (dropout): Dropout(p=0.1, inplace=False)\n",
              "          )\n",
              "          (output): BertSelfOutput(\n",
              "            (dense): Linear(in_features=768, out_features=768, bias=True)\n",
              "            (LayerNorm): LayerNorm((768,), eps=1e-12, elementwise_affine=True)\n",
              "            (dropout): Dropout(p=0.1, inplace=False)\n",
              "          )\n",
              "        )\n",
              "        (intermediate): BertIntermediate(\n",
              "          (dense): Linear(in_features=768, out_features=3072, bias=True)\n",
              "        )\n",
              "        (output): BertOutput(\n",
              "          (dense): Linear(in_features=3072, out_features=768, bias=True)\n",
              "          (LayerNorm): LayerNorm((768,), eps=1e-12, elementwise_affine=True)\n",
              "          (dropout): Dropout(p=0.1, inplace=False)\n",
              "        )\n",
              "      )\n",
              "      (6): BertLayer(\n",
              "        (attention): BertAttention(\n",
              "          (self): BertSelfAttention(\n",
              "            (query): Linear(in_features=768, out_features=768, bias=True)\n",
              "            (key): Linear(in_features=768, out_features=768, bias=True)\n",
              "            (value): Linear(in_features=768, out_features=768, bias=True)\n",
              "            (dropout): Dropout(p=0.1, inplace=False)\n",
              "          )\n",
              "          (output): BertSelfOutput(\n",
              "            (dense): Linear(in_features=768, out_features=768, bias=True)\n",
              "            (LayerNorm): LayerNorm((768,), eps=1e-12, elementwise_affine=True)\n",
              "            (dropout): Dropout(p=0.1, inplace=False)\n",
              "          )\n",
              "        )\n",
              "        (intermediate): BertIntermediate(\n",
              "          (dense): Linear(in_features=768, out_features=3072, bias=True)\n",
              "        )\n",
              "        (output): BertOutput(\n",
              "          (dense): Linear(in_features=3072, out_features=768, bias=True)\n",
              "          (LayerNorm): LayerNorm((768,), eps=1e-12, elementwise_affine=True)\n",
              "          (dropout): Dropout(p=0.1, inplace=False)\n",
              "        )\n",
              "      )\n",
              "      (7): BertLayer(\n",
              "        (attention): BertAttention(\n",
              "          (self): BertSelfAttention(\n",
              "            (query): Linear(in_features=768, out_features=768, bias=True)\n",
              "            (key): Linear(in_features=768, out_features=768, bias=True)\n",
              "            (value): Linear(in_features=768, out_features=768, bias=True)\n",
              "            (dropout): Dropout(p=0.1, inplace=False)\n",
              "          )\n",
              "          (output): BertSelfOutput(\n",
              "            (dense): Linear(in_features=768, out_features=768, bias=True)\n",
              "            (LayerNorm): LayerNorm((768,), eps=1e-12, elementwise_affine=True)\n",
              "            (dropout): Dropout(p=0.1, inplace=False)\n",
              "          )\n",
              "        )\n",
              "        (intermediate): BertIntermediate(\n",
              "          (dense): Linear(in_features=768, out_features=3072, bias=True)\n",
              "        )\n",
              "        (output): BertOutput(\n",
              "          (dense): Linear(in_features=3072, out_features=768, bias=True)\n",
              "          (LayerNorm): LayerNorm((768,), eps=1e-12, elementwise_affine=True)\n",
              "          (dropout): Dropout(p=0.1, inplace=False)\n",
              "        )\n",
              "      )\n",
              "      (8): BertLayer(\n",
              "        (attention): BertAttention(\n",
              "          (self): BertSelfAttention(\n",
              "            (query): Linear(in_features=768, out_features=768, bias=True)\n",
              "            (key): Linear(in_features=768, out_features=768, bias=True)\n",
              "            (value): Linear(in_features=768, out_features=768, bias=True)\n",
              "            (dropout): Dropout(p=0.1, inplace=False)\n",
              "          )\n",
              "          (output): BertSelfOutput(\n",
              "            (dense): Linear(in_features=768, out_features=768, bias=True)\n",
              "            (LayerNorm): LayerNorm((768,), eps=1e-12, elementwise_affine=True)\n",
              "            (dropout): Dropout(p=0.1, inplace=False)\n",
              "          )\n",
              "        )\n",
              "        (intermediate): BertIntermediate(\n",
              "          (dense): Linear(in_features=768, out_features=3072, bias=True)\n",
              "        )\n",
              "        (output): BertOutput(\n",
              "          (dense): Linear(in_features=3072, out_features=768, bias=True)\n",
              "          (LayerNorm): LayerNorm((768,), eps=1e-12, elementwise_affine=True)\n",
              "          (dropout): Dropout(p=0.1, inplace=False)\n",
              "        )\n",
              "      )\n",
              "      (9): BertLayer(\n",
              "        (attention): BertAttention(\n",
              "          (self): BertSelfAttention(\n",
              "            (query): Linear(in_features=768, out_features=768, bias=True)\n",
              "            (key): Linear(in_features=768, out_features=768, bias=True)\n",
              "            (value): Linear(in_features=768, out_features=768, bias=True)\n",
              "            (dropout): Dropout(p=0.1, inplace=False)\n",
              "          )\n",
              "          (output): BertSelfOutput(\n",
              "            (dense): Linear(in_features=768, out_features=768, bias=True)\n",
              "            (LayerNorm): LayerNorm((768,), eps=1e-12, elementwise_affine=True)\n",
              "            (dropout): Dropout(p=0.1, inplace=False)\n",
              "          )\n",
              "        )\n",
              "        (intermediate): BertIntermediate(\n",
              "          (dense): Linear(in_features=768, out_features=3072, bias=True)\n",
              "        )\n",
              "        (output): BertOutput(\n",
              "          (dense): Linear(in_features=3072, out_features=768, bias=True)\n",
              "          (LayerNorm): LayerNorm((768,), eps=1e-12, elementwise_affine=True)\n",
              "          (dropout): Dropout(p=0.1, inplace=False)\n",
              "        )\n",
              "      )\n",
              "      (10): BertLayer(\n",
              "        (attention): BertAttention(\n",
              "          (self): BertSelfAttention(\n",
              "            (query): Linear(in_features=768, out_features=768, bias=True)\n",
              "            (key): Linear(in_features=768, out_features=768, bias=True)\n",
              "            (value): Linear(in_features=768, out_features=768, bias=True)\n",
              "            (dropout): Dropout(p=0.1, inplace=False)\n",
              "          )\n",
              "          (output): BertSelfOutput(\n",
              "            (dense): Linear(in_features=768, out_features=768, bias=True)\n",
              "            (LayerNorm): LayerNorm((768,), eps=1e-12, elementwise_affine=True)\n",
              "            (dropout): Dropout(p=0.1, inplace=False)\n",
              "          )\n",
              "        )\n",
              "        (intermediate): BertIntermediate(\n",
              "          (dense): Linear(in_features=768, out_features=3072, bias=True)\n",
              "        )\n",
              "        (output): BertOutput(\n",
              "          (dense): Linear(in_features=3072, out_features=768, bias=True)\n",
              "          (LayerNorm): LayerNorm((768,), eps=1e-12, elementwise_affine=True)\n",
              "          (dropout): Dropout(p=0.1, inplace=False)\n",
              "        )\n",
              "      )\n",
              "      (11): BertLayer(\n",
              "        (attention): BertAttention(\n",
              "          (self): BertSelfAttention(\n",
              "            (query): Linear(in_features=768, out_features=768, bias=True)\n",
              "            (key): Linear(in_features=768, out_features=768, bias=True)\n",
              "            (value): Linear(in_features=768, out_features=768, bias=True)\n",
              "            (dropout): Dropout(p=0.1, inplace=False)\n",
              "          )\n",
              "          (output): BertSelfOutput(\n",
              "            (dense): Linear(in_features=768, out_features=768, bias=True)\n",
              "            (LayerNorm): LayerNorm((768,), eps=1e-12, elementwise_affine=True)\n",
              "            (dropout): Dropout(p=0.1, inplace=False)\n",
              "          )\n",
              "        )\n",
              "        (intermediate): BertIntermediate(\n",
              "          (dense): Linear(in_features=768, out_features=3072, bias=True)\n",
              "        )\n",
              "        (output): BertOutput(\n",
              "          (dense): Linear(in_features=3072, out_features=768, bias=True)\n",
              "          (LayerNorm): LayerNorm((768,), eps=1e-12, elementwise_affine=True)\n",
              "          (dropout): Dropout(p=0.1, inplace=False)\n",
              "        )\n",
              "      )\n",
              "    )\n",
              "  )\n",
              ")"
            ]
          },
          "metadata": {
            "tags": []
          },
          "execution_count": 16
        }
      ]
    },
    {
      "cell_type": "code",
      "metadata": {
        "id": "4eYGVHu1sOl-",
        "colab_type": "code",
        "colab": {
          "base_uri": "https://localhost:8080/",
          "height": 442
        },
        "outputId": "76d962bb-fd38-4711-ef81-9edbc36aaacd"
      },
      "source": [
        "#check paramerts in model\n",
        "params = list(model.named_parameters())\n",
        "#len(model.state_dict())\n",
        "print('total different named paramerters: {}'.format(len(params)))\n",
        "print()\n",
        "for p in params[0:5]:\n",
        "    print(\"{:<55} {:>12}\".format(p[0], str(tuple(p[1].size()))))\n",
        "\n",
        "print()\n",
        "print()\n",
        "for p in params[-16:]:\n",
        "    print(\"{:<55} {:>12}\".format(p[0], str(tuple(p[1].size()))))"
      ],
      "execution_count": 17,
      "outputs": [
        {
          "output_type": "stream",
          "text": [
            "total different named paramerters: 197\n",
            "\n",
            "embeddings.word_embeddings.weight                       (30522, 768)\n",
            "embeddings.position_embeddings.weight                     (512, 768)\n",
            "embeddings.token_type_embeddings.weight                     (2, 768)\n",
            "embeddings.LayerNorm.weight                                   (768,)\n",
            "embeddings.LayerNorm.bias                                     (768,)\n",
            "\n",
            "\n",
            "encoder.layer.11.attention.self.query.weight              (768, 768)\n",
            "encoder.layer.11.attention.self.query.bias                    (768,)\n",
            "encoder.layer.11.attention.self.key.weight                (768, 768)\n",
            "encoder.layer.11.attention.self.key.bias                      (768,)\n",
            "encoder.layer.11.attention.self.value.weight              (768, 768)\n",
            "encoder.layer.11.attention.self.value.bias                    (768,)\n",
            "encoder.layer.11.attention.output.dense.weight            (768, 768)\n",
            "encoder.layer.11.attention.output.dense.bias                  (768,)\n",
            "encoder.layer.11.attention.output.LayerNorm.weight            (768,)\n",
            "encoder.layer.11.attention.output.LayerNorm.bias              (768,)\n",
            "encoder.layer.11.intermediate.dense.weight               (3072, 768)\n",
            "encoder.layer.11.intermediate.dense.bias                     (3072,)\n",
            "encoder.layer.11.output.dense.weight                     (768, 3072)\n",
            "encoder.layer.11.output.dense.bias                            (768,)\n",
            "encoder.layer.11.output.LayerNorm.weight                      (768,)\n",
            "encoder.layer.11.output.LayerNorm.bias                        (768,)\n"
          ],
          "name": "stdout"
        }
      ]
    },
    {
      "cell_type": "code",
      "metadata": {
        "id": "88eYimtbxApr",
        "colab_type": "code",
        "colab": {}
      },
      "source": [
        ""
      ],
      "execution_count": null,
      "outputs": []
    },
    {
      "cell_type": "markdown",
      "metadata": {
        "id": "PADp4hO9_uhO",
        "colab_type": "text"
      },
      "source": [
        "# Extract Sentence embedding\n",
        "Now, lets extract sentence level vector representation for all datasets."
      ]
    },
    {
      "cell_type": "code",
      "metadata": {
        "id": "8aaghiCIsRYl",
        "colab_type": "code",
        "colab": {
          "base_uri": "https://localhost:8080/",
          "height": 119
        },
        "outputId": "a19f5d3a-9dc3-4a9d-d038-887b03d5cf62"
      },
      "source": [
        "%%time\n",
        "#dev dataset\n",
        "df_dev_sentence_1 = sent_embedding(df_dev.sentence_1, model)\n",
        "df_dev_sentence_2 = sent_embedding(df_dev.sentence_2, model)"
      ],
      "execution_count": 18,
      "outputs": [
        {
          "output_type": "stream",
          "text": [
            "Dimension after Last_four_layers concatenation:  torch.Size([1500, 70, 3072])\n",
            "Sentence embedding dimension:  torch.Size([1500, 3072])\n",
            "Dimension after Last_four_layers concatenation:  torch.Size([1500, 70, 3072])\n",
            "Sentence embedding dimension:  torch.Size([1500, 3072])\n",
            "CPU times: user 10min 10s, sys: 8.42 s, total: 10min 18s\n",
            "Wall time: 10min 19s\n"
          ],
          "name": "stdout"
        }
      ]
    },
    {
      "cell_type": "code",
      "metadata": {
        "id": "laHXhy-7sVt5",
        "colab_type": "code",
        "colab": {
          "base_uri": "https://localhost:8080/",
          "height": 119
        },
        "outputId": "08052f41-fa7a-4d1a-cba2-d681f0750eb4"
      },
      "source": [
        "%%time\n",
        "#test dataset\n",
        "df_test_sentence_1 = sent_embedding(df_test.sentence_1, model)\n",
        "df_test_sentence_2 = sent_embedding(df_test.sentence_2, model)"
      ],
      "execution_count": 19,
      "outputs": [
        {
          "output_type": "stream",
          "text": [
            "Dimension after Last_four_layers concatenation:  torch.Size([1379, 70, 3072])\n",
            "Sentence embedding dimension:  torch.Size([1379, 3072])\n",
            "Dimension after Last_four_layers concatenation:  torch.Size([1379, 70, 3072])\n",
            "Sentence embedding dimension:  torch.Size([1379, 3072])\n",
            "CPU times: user 9min 35s, sys: 2.29 s, total: 9min 37s\n",
            "Wall time: 9min 38s\n"
          ],
          "name": "stdout"
        }
      ]
    },
    {
      "cell_type": "code",
      "metadata": {
        "id": "S7Z5qnojyu9Q",
        "colab_type": "code",
        "colab": {
          "base_uri": "https://localhost:8080/",
          "height": 323
        },
        "outputId": "c025aab7-4cd2-4001-afc2-1418ecd1b288"
      },
      "source": [
        "%%time\n",
        "#train dataset\n",
        "train_embed_sentence_1 =  []\n",
        "train_embed_sentence_2 =  []\n",
        "\n",
        "#make batches\n",
        "for x in range(0, df_train.shape[0], 1500):\n",
        "  embed_1= sent_embedding(df_train.sentence_1[x: x+1500], model)\n",
        "  embed_2= sent_embedding(df_train.sentence_2[x: x+1500], model)\n",
        "  train_embed_sentence_1.extend(embed_1)\n",
        "  train_embed_sentence_2.extend(embed_2)\n",
        "\n",
        "#sentence level vector represetnation in train dataset\n",
        "df_train_sentence_1 = torch.stack(train_embed_sentence_1) # change list of tensors >>> 2d tensor\n",
        "df_train_sentence_2 = torch.stack(train_embed_sentence_2) # change list of tensors >>> 2d tensor\n"
      ],
      "execution_count": 20,
      "outputs": [
        {
          "output_type": "stream",
          "text": [
            "Dimension after Last_four_layers concatenation:  torch.Size([1500, 70, 3072])\n",
            "Sentence embedding dimension:  torch.Size([1500, 3072])\n",
            "Dimension after Last_four_layers concatenation:  torch.Size([1500, 70, 3072])\n",
            "Sentence embedding dimension:  torch.Size([1500, 3072])\n",
            "Dimension after Last_four_layers concatenation:  torch.Size([1500, 70, 3072])\n",
            "Sentence embedding dimension:  torch.Size([1500, 3072])\n",
            "Dimension after Last_four_layers concatenation:  torch.Size([1500, 70, 3072])\n",
            "Sentence embedding dimension:  torch.Size([1500, 3072])\n",
            "Dimension after Last_four_layers concatenation:  torch.Size([1500, 70, 3072])\n",
            "Sentence embedding dimension:  torch.Size([1500, 3072])\n",
            "Dimension after Last_four_layers concatenation:  torch.Size([1500, 70, 3072])\n",
            "Sentence embedding dimension:  torch.Size([1500, 3072])\n",
            "Dimension after Last_four_layers concatenation:  torch.Size([1249, 70, 3072])\n",
            "Sentence embedding dimension:  torch.Size([1249, 3072])\n",
            "Dimension after Last_four_layers concatenation:  torch.Size([1249, 70, 3072])\n",
            "Sentence embedding dimension:  torch.Size([1249, 3072])\n",
            "CPU times: user 39min 22s, sys: 9.74 s, total: 39min 31s\n",
            "Wall time: 39min 33s\n"
          ],
          "name": "stdout"
        }
      ]
    },
    {
      "cell_type": "markdown",
      "metadata": {
        "id": "fasnOCPPsddz",
        "colab_type": "text"
      },
      "source": [
        "# Calculate Cosine Similarity\n",
        "Now, sentence level vector representation of each pair sentence is used to find the cosine similarity. Cosine similarity is calculated on all 'dev' and 'test' datasets."
      ]
    },
    {
      "cell_type": "code",
      "metadata": {
        "id": "EBP8ADEusgJw",
        "colab_type": "code",
        "colab": {}
      },
      "source": [
        "from scipy.spatial.distance import cosine #cosine distance\n",
        "from sklearn.preprocessing import MinMaxScaler # minmax scaling\n",
        "from scipy.stats import pearsonr # pearson correlation\n",
        "from scipy.stats import spearmanr # spearman correlation\n",
        "from collections import defaultdict #store scores"
      ],
      "execution_count": 55,
      "outputs": []
    },
    {
      "cell_type": "code",
      "metadata": {
        "id": "BcvdIlgGsniC",
        "colab_type": "code",
        "colab": {}
      },
      "source": [
        "#function to calculate similarity score \n",
        "def calc_similarity_score(embed_1, embed_2):\n",
        "  \"\"\"\n",
        "  Args:\n",
        "    embed_1(numpy array): first sentence embedding\n",
        "    embed_2(numpy array): second sentence embedding\n",
        "\n",
        "  Return:\n",
        "    scaled_cosine_score(list) : cosine score between embed_1 and embed_2 \n",
        "    with range (0,5)\n",
        "\n",
        "\n",
        "  \"\"\"\n",
        "  \n",
        "  #collect similarity score\n",
        "  cosine_sim_score = []\n",
        "  \n",
        "  for x,y in zip(embed_1, embed_2):\n",
        "\n",
        "    distance = cosine(x, y) # cosine distance\n",
        "    cosine_sim = 1 - distance # cosine similarity\n",
        "    cosine_sim_score.append(cosine_sim) \n",
        "\n",
        "  \n",
        "\n",
        "\n",
        "  #scaled the similarity score to (0,5)\n",
        "  scaler = MinMaxScaler(feature_range=(0,5)) # initiate minmaxscaler\n",
        "  scaled_cosine_score = scaler.fit_transform(np.transpose([cosine_sim_score])) #scaled to (0,5)\n",
        "  \n",
        "  return scaled_cosine_score.round(3)\n",
        "  "
      ],
      "execution_count": 25,
      "outputs": []
    },
    {
      "cell_type": "code",
      "metadata": {
        "id": "pTPZtZu_xdrO",
        "colab_type": "code",
        "colab": {
          "base_uri": "https://localhost:8080/",
          "height": 272
        },
        "outputId": "385c6e3e-1c50-48cc-c446-5e23f8a03e65"
      },
      "source": [
        "#Pearson and Spearman score\n",
        "first_sent_embd = [df_train_sentence_1, df_dev_sentence_1, df_test_sentence_1] #first sentence embedding\n",
        "second_sent_embd = [df_train_sentence_2, df_dev_sentence_2, df_test_sentence_2] #second sentence embedding\n",
        "gold_labels = [df_train.loc[:,'score(0-5)'].values, df_dev.loc[:,'score(0-5)'].values, df_test.loc[:,'score(0-5)'].values ] #gold scores\n",
        "data_type = ['Train', 'Validation', 'Test'] #datasets names\n",
        "\n",
        "pear_spear_score = defaultdict(list) #store scores\n",
        "\n",
        "#zip and enumerate 'first_sent_embd' and 'second_sent_embd'\n",
        "for i, (first_sent, second_sent) in enumerate(zip(first_sent_embd,second_sent_embd)):\n",
        "  cosine_sim_score = calc_similarity_score(first_sent, second_sent) #cosine similarity score\n",
        "  cosine_sim_score = cosine_sim_score.flatten()# change to 1d\n",
        "\n",
        "  person_score, _ = pearsonr(gold_labels[i], cosine_sim_score) #pearson score\n",
        "  pear_spear_score['pearson'].append(person_score)\n",
        "  \n",
        "\n",
        "  sperman_score, _ = spearmanr(gold_labels[i], cosine_sim_score)#spearman score\n",
        "  pear_spear_score['spearman'].append(sperman_score)\n",
        "\n",
        "  print(data_type[i], 'data: ')\n",
        "  print('=='*6)\n",
        "  print(\"Pearson score: {} \\nSpearman score: {}\".format(person_score, sperman_score))\n",
        "  print()\n",
        "  \n"
      ],
      "execution_count": 29,
      "outputs": [
        {
          "output_type": "stream",
          "text": [
            "Train data: \n",
            "============\n",
            "Pearson score: 0.3521128219242041 \n",
            "Spearman score: 0.354980844369472\n",
            "\n",
            "Validation data: \n",
            "============\n",
            "Pearson score: 0.4676935776575393 \n",
            "Spearman score: 0.5036069569686787\n",
            "\n",
            "Test data: \n",
            "============\n",
            "Pearson score: 0.31468780026124793 \n",
            "Spearman score: 0.3382698422445761\n",
            "\n"
          ],
          "name": "stdout"
        }
      ]
    },
    {
      "cell_type": "code",
      "metadata": {
        "id": "y1lIpMQzCpem",
        "colab_type": "code",
        "colab": {}
      },
      "source": [
        ""
      ],
      "execution_count": 40,
      "outputs": []
    },
    {
      "cell_type": "code",
      "metadata": {
        "id": "O1GHAFYbxeGi",
        "colab_type": "code",
        "colab": {
          "base_uri": "https://localhost:8080/",
          "height": 111
        },
        "outputId": "3552564e-343a-4321-9e18-387c749b6132"
      },
      "source": [
        "#show in panda dataframe\n",
        "df_score = pd.DataFrame.from_dict(pear_spear_score,\n",
        "                          orient='index',\n",
        "                          columns=['Train', 'Dev', 'Test']\n",
        "                          )\n",
        "df_score.drop('Train', 1) #only train and test \n"
      ],
      "execution_count": 49,
      "outputs": [
        {
          "output_type": "execute_result",
          "data": {
            "text/html": [
              "<div>\n",
              "<style scoped>\n",
              "    .dataframe tbody tr th:only-of-type {\n",
              "        vertical-align: middle;\n",
              "    }\n",
              "\n",
              "    .dataframe tbody tr th {\n",
              "        vertical-align: top;\n",
              "    }\n",
              "\n",
              "    .dataframe thead th {\n",
              "        text-align: right;\n",
              "    }\n",
              "</style>\n",
              "<table border=\"1\" class=\"dataframe\">\n",
              "  <thead>\n",
              "    <tr style=\"text-align: right;\">\n",
              "      <th></th>\n",
              "      <th>Dev</th>\n",
              "      <th>Test</th>\n",
              "    </tr>\n",
              "  </thead>\n",
              "  <tbody>\n",
              "    <tr>\n",
              "      <th>pearson</th>\n",
              "      <td>0.467694</td>\n",
              "      <td>0.314688</td>\n",
              "    </tr>\n",
              "    <tr>\n",
              "      <th>spearman</th>\n",
              "      <td>0.503607</td>\n",
              "      <td>0.338270</td>\n",
              "    </tr>\n",
              "  </tbody>\n",
              "</table>\n",
              "</div>"
            ],
            "text/plain": [
              "               Dev      Test\n",
              "pearson   0.467694  0.314688\n",
              "spearman  0.503607  0.338270"
            ]
          },
          "metadata": {
            "tags": []
          },
          "execution_count": 49
        }
      ]
    },
    {
      "cell_type": "code",
      "metadata": {
        "id": "NV_sssxGGvnj",
        "colab_type": "code",
        "colab": {}
      },
      "source": [
        ""
      ],
      "execution_count": null,
      "outputs": []
    },
    {
      "cell_type": "code",
      "metadata": {
        "id": "c90Bk95_xiA2",
        "colab_type": "code",
        "colab": {}
      },
      "source": [
        ""
      ],
      "execution_count": null,
      "outputs": []
    },
    {
      "cell_type": "code",
      "metadata": {
        "id": "ikNSWXvG6Q0S",
        "colab_type": "code",
        "colab": {}
      },
      "source": [
        ""
      ],
      "execution_count": null,
      "outputs": []
    },
    {
      "cell_type": "markdown",
      "metadata": {
        "id": "upIBtMuw6VHL",
        "colab_type": "text"
      },
      "source": [
        "# Part-2: Fine-Tune Electra\n",
        "The custom model is defined using pytorch nn.module. And, The pre-trained ELECTRA(electra-base-discriminator) model is fine-tunned with STS-b 'train' dataset and evulate on 'dev' test"
      ]
    },
    {
      "cell_type": "code",
      "metadata": {
        "id": "HIlP2NMr6Q7Z",
        "colab_type": "code",
        "colab": {}
      },
      "source": [
        "#import necessary libraries\n",
        "import torch.nn as nn\n",
        "from torch.utils.data import Dataset, DataLoader #pytorch dataset and dataloader\n",
        "from transformers import  AdamW, get_linear_schedule_with_warmup #optimizer and learning rate scheduler\n",
        "from collections import defaultdict  #store scores"
      ],
      "execution_count": 68,
      "outputs": []
    },
    {
      "cell_type": "markdown",
      "metadata": {
        "id": "ZLKG-hSh6mDp",
        "colab_type": "text"
      },
      "source": [
        "# Custom Model\n",
        "The two different network stuctures are tried  for fine-tuning the pre-trained model. They are as follows:\n",
        "\n",
        "1. Siamese Network: In this Siamese Network structure, two different sentences(a pair of sentences) are encoded separetely meaning they are encoded one by one, and their final vecotors are used to calculate the cosine similarity.  The output layer is just the cosine similairty. No additonal layers.  The vector representation of a sentence is the concatenation of the last 4 hidden layers, and mean pooling of the tokens in a inputed sequence. \n",
        "\n",
        "2. Regression Model: In this fine-tuning, the Linear Regression output layer is added on the top of Bert. The two sentences(a pair of sentences) are feeded and encoded together. And, the final output is the regression ouput.\n",
        "\n",
        "The Mean Square Error(MSE) Loss is used as loss function  for both the Netowrk structures."
      ]
    },
    {
      "cell_type": "code",
      "metadata": {
        "id": "X6t4-irI6nh8",
        "colab_type": "code",
        "colab": {}
      },
      "source": [
        "#define custom model cosine-similarity output\n",
        "class ElectraSentenceSimilarityModelCos(nn.Module):\n",
        "  \"\"\"\n",
        "  Model extracts sentence embedding of a pair of sentences one by one and\n",
        "  return  cosine similarity between them.\n",
        "  \"\"\"\n",
        "  \n",
        "  def __init__(self):\n",
        "    super().__init__()\n",
        "    self.electra = ElectraModel.from_pretrained( 'google/electra-base-discriminator',\n",
        "                                     output_hidden_states = True) # all hidden-states\n",
        "    self.cosine_sim = nn.CosineSimilarity(dim=1, eps=1e-6)#cosine similarity\n",
        "   \n",
        "  #feed a pair of sentences' input_ids and attention_ids \n",
        "  def forward(self, input_ids_1, atten_ids_1, input_ids_2, atten_ids_2):\n",
        "    \"\"\"\n",
        "        Args:\n",
        "          input_ids_1(tensor) : input_ids of first sentence\n",
        "          input_ids_2(tensor) : input_ids of second sentence\n",
        "          atten_ids_1(tensor): attention_mask of first sentence\n",
        "          atten_ids_2(tensor): attention_mask of second sentence\n",
        "       Returns:\n",
        "          cosine_score(2d tensor): Cosine similarity between a pair of sentences\n",
        "    \"\"\"\n",
        "    \n",
        "    #first sentence embedding\n",
        "    output_1 = self.electra(input_ids = input_ids_1, attention_mask = atten_ids_1)\n",
        "    hidden_states_1 = output_1[1] # all layers hidden-states\n",
        "    concat_embeding_1 = torch.cat(tuple(hidden_states_1[i] for i in [-4,-3,-2,-1]), dim = 2) # concatenate last four hidden layers\n",
        "    padded_1 = atten_ids_1.unsqueeze(2) #insert size one at position 2\n",
        "    mul_out_1 = torch.mul(concat_embeding_1, padded_1)#make zeros vector for paddding tokens\n",
        "    sent_embeding_1 = mul_out_1.mean(dim=1) # pooling average of tokens\n",
        "  \n",
        "    #second sentence embedding\n",
        "    output_2 = self.electra(input_ids = input_ids_2,attention_mask = atten_ids_2)\n",
        "    hidden_states_2 = output_2[1]\n",
        "    concat_embeding_2 = torch.cat(tuple(hidden_states_2[i] for i in [-4,-3,-2,-1]), dim = 2) # last four layers\n",
        "    padded_2 = atten_ids_2.unsqueeze(2) \n",
        "    mul_out_2 = torch.mul(concat_embeding_2, padded_2)\n",
        "    sent_embeding_2 = mul_out_2.mean(dim=1)\n",
        "\n",
        "    #calculate cosine similarity\n",
        "    cosine_score = self.cosine_sim(sent_embeding_1, sent_embeding_2)\n",
        "    return cosine_score\n",
        "    \n",
        "  "
      ],
      "execution_count": 69,
      "outputs": []
    },
    {
      "cell_type": "code",
      "metadata": {
        "id": "1gRZvZhBymEh",
        "colab_type": "code",
        "colab": {}
      },
      "source": [
        "#define custom model Regression output\n",
        "class ElectraSentenceSimilarityModelReg(nn.Module):\n",
        "  \"\"\"This model takes a pair of sentences at a time and returns regression output \"\"\"\n",
        "  \n",
        "  def __init__(self):\n",
        "    super().__init__()\n",
        "    self.electra = ElectraModel.from_pretrained( 'google/electra-base-discriminator',\n",
        "                                     output_hidden_states = True) # all hidden-states\n",
        "    self.drop = nn.Dropout(p=0.1) #droupout\n",
        "    self.regression = nn.Linear(self.electra.config.hidden_size,1) #output regresion layer\n",
        "      \n",
        "  #forward pass\n",
        "  def forward(self, input_ids, attention_masks, token_type_ids):\n",
        "    \"\"\"\n",
        "      Args:\n",
        "          input_ids_1(tensor) : input_ids of a pair of sentence\n",
        "          attention_mask_1(tensor): attention_mask of a pair of sentence\n",
        "\n",
        "       Returns:\n",
        "          regre_output(1d tensor) : regression output\n",
        "    \"\"\"\n",
        "  \n",
        "    #initiate pre-trained model\n",
        "    electra_output = self.electra( input_ids = input_ids, attention_mask = attention_masks,token_type_ids = token_type_ids)\n",
        "    #hidden_state = electra_output[0]# last_hidden_state\n",
        "    hidden_state = electra_output[0][:,0,:] #['CLS'] token of last hidden_state\n",
        "    drop_out =  self.drop(hidden_state) \n",
        "    regre_output =  self.regression(drop_out)# apply linnear tranformation\n",
        "    return regre_output\n",
        "\n",
        "  \n",
        "    "
      ],
      "execution_count": 70,
      "outputs": []
    },
    {
      "cell_type": "markdown",
      "metadata": {
        "id": "JQjZvLq-6z-v",
        "colab_type": "text"
      },
      "source": [
        "# Create Pytorch Dataset\n",
        "Pytorch dataset is created that returns input_ids, attention_mask, token_type_ids, and gold_score from each input sequence.\n",
        "\n",
        "Since  we are trying two different model network architectures for fine-tuning, the way of feeding the pair of sentences are different from one architecture to another. For example, in a regression model, we feed a pair of sentences together while in Siamese network model, we feed one sentence and take sentence level embedding and same goes to its pair sentence. \n",
        "\n",
        "Thus, a function  is written that returns the pytorch dataset which fit for both the model architectures."
      ]
    },
    {
      "cell_type": "code",
      "metadata": {
        "id": "7mM94Pmg610O",
        "colab_type": "code",
        "colab": {}
      },
      "source": [
        "#define function to pytorch Dataset\n",
        "class SimilarityDataset(Dataset):\n",
        "  \"\"\" \n",
        "  Pytorch dataset that returns input_ids, attension_mask a pair of sentences, and \n",
        "  gold_score  of STS-B dataset. Dataset is return based on the model type \n",
        "  i.e. either ('regresion' or 'cosine'). Default is Siamese network structure.\n",
        "  \"\"\"\n",
        "\n",
        "  def __init__(self, sent_1s, sent_2s, scores, tokenizer, max_len, model_type = 'cosine'):\n",
        "    \"\"\"\n",
        "     Args:\n",
        "       sent_1s(numpy array): Array of first sentences\n",
        "       sent_2s(numpy array): Array of second sentences\n",
        "       scores(float): Gold score (0-5)\n",
        "       tokenizer: Higging Face Bert Tokenizer\n",
        "       max_len(int): Maximun token length\n",
        "       model_type(str): type of model architecture to calculate \n",
        "       ouput(for example, 'regression' or 'cosine')\n",
        "      \n",
        "    \"\"\"\n",
        "    self.sent_1s = sent_1s\n",
        "    self.sent_2s = sent_2s\n",
        "    self.scores = scores\n",
        "    self.tokenizer = tokenizer\n",
        "    self.max_len = max_len\n",
        "    self.model_type = model_type\n",
        "\n",
        "\n",
        "  def __len__(self):\n",
        "    return len(self.sent_1s) #total no. of samples\n",
        "\n",
        "\n",
        "  def __getitem__(self, item):\n",
        "    first_sent = self.sent_1s[item]  #first sentencs\n",
        "    second_sent = self.sent_2s[item] #second sentence\n",
        "    score = self.scores[item]\n",
        "\n",
        "    #print('model_type is: {}'.format(self.model_type))\n",
        "    # model type is 'Siamese Network'\n",
        "    if self.model_type == 'cosine':\n",
        "\n",
        "      #encode first sentence\n",
        "      first_sent_encoding = self.tokenizer( first_sent,\n",
        "                                            add_special_tokens=True, #add ['CLS'] and ['SEP']\n",
        "                                            max_length=self.max_len, # set max len for padding\n",
        "                                            return_token_type_ids=False, #set false to segment_ids\n",
        "                                            padding='max_length', # padding\n",
        "                                            return_attention_mask=True,  # return attention mask\n",
        "                                            return_tensors='pt', # pytorch tensor\n",
        "                                            )\n",
        "      \n",
        "\n",
        "\n",
        "      #encode second sentence\n",
        "      second_sent_encoding = self.tokenizer( second_sent,\n",
        "                                            add_special_tokens=True,\n",
        "                                            max_length=self.max_len,\n",
        "                                            return_token_type_ids=False,\n",
        "                                            padding= 'max_length',\n",
        "                                            return_attention_mask=True,\n",
        "                                            return_tensors='pt',\n",
        "                                            )\n",
        "      \n",
        "      return {\n",
        "          'input_ids' :{ \n",
        "              'first_sent' : first_sent_encoding['input_ids'].flatten(),\n",
        "              'second_sent' : second_sent_encoding['input_ids'].flatten()},\n",
        "\n",
        "          'attention_ids' :{\n",
        "              'first_sent' :first_sent_encoding['attention_mask'].flatten(),\n",
        "              'second_sent' :second_sent_encoding['attention_mask'].flatten()},\n",
        "\n",
        "          'score' : torch.tensor(score)}\n",
        "\n",
        "\n",
        "\n",
        "    #if model's out is regression type\n",
        "    else:\n",
        "\n",
        "      #encode input sequences\n",
        "      sent_encoding = self.tokenizer(   first_sent, second_sent,\n",
        "                                        add_special_tokens=True,\n",
        "                                        max_length=self.max_len,\n",
        "                                        return_token_type_ids=True,\n",
        "                                        padding= 'max_length',\n",
        "                                        truncation = True,\n",
        "                                        return_attention_mask=True,\n",
        "                                        return_tensors='pt',\n",
        "                                      )\n",
        "      return {\n",
        "            'input_ids' : sent_encoding['input_ids'].flatten(),\n",
        "            'attention_ids' : sent_encoding['attention_mask'].flatten(),\n",
        "            'token_type_ids' : sent_encoding['token_type_ids'].flatten(),\n",
        "            'score' : torch.tensor(score),}\n",
        "\n",
        "    \n"
      ],
      "execution_count": 71,
      "outputs": []
    },
    {
      "cell_type": "code",
      "metadata": {
        "id": "i5RFb-3T3UHe",
        "colab_type": "code",
        "colab": {}
      },
      "source": [
        ""
      ],
      "execution_count": null,
      "outputs": []
    },
    {
      "cell_type": "markdown",
      "metadata": {
        "id": "RPK2Mnn67TPP",
        "colab_type": "text"
      },
      "source": [
        "# Pytorch Data Loader\n",
        "It provides an iterable over the given dataset."
      ]
    },
    {
      "cell_type": "code",
      "metadata": {
        "id": "wKt6oJZX7X2L",
        "colab_type": "code",
        "colab": {}
      },
      "source": [
        "#define pytorch data loader\n",
        "def pytorch_data_loader(df, tokenizer, max_len, batch_size, model_type='cosine'):\n",
        "  \"\"\"\n",
        "    Agrs:\n",
        "       df(panda dataframe): dataset\n",
        "       tokenizer(Hugging face tokeniser): Bert Tokonizer\n",
        "       max_len(int): Maximun tokens length in a sequence/sentence\n",
        "       batch_size(int): Number of samples in a batch\n",
        "       model_type(str): type of model architecture to calculate \n",
        "       ouputs(for example, 'regression' or 'cosine')\n",
        "\n",
        "    Return:\n",
        "      Dataloader(pytorch dataloader): Dataset with given batch size\n",
        "  \"\"\"\n",
        "  dataset = SimilarityDataset(\n",
        "      sent_1s =df.sentence_1.to_numpy(), #first sequence\n",
        "      sent_2s =df.sentence_2.to_numpy(), #second sequence\n",
        "      scores =df.loc[:,'scaled_score(0-1)'].to_numpy(), #gold score\n",
        "      tokenizer=tokenizer, #hugging face tokenizer\n",
        "      max_len=max_len, #max length for padding\n",
        "      model_type = model_type # return dataset as per model type\n",
        "  )\n",
        "\n",
        "  return DataLoader( \n",
        "      dataset,\n",
        "      batch_size=batch_size,\n",
        "      shuffle= True\n",
        "  )"
      ],
      "execution_count": 72,
      "outputs": []
    },
    {
      "cell_type": "code",
      "metadata": {
        "id": "OYdy9FCmEe7S",
        "colab_type": "code",
        "colab": {}
      },
      "source": [
        ""
      ],
      "execution_count": null,
      "outputs": []
    },
    {
      "cell_type": "code",
      "metadata": {
        "id": "1mpWgfw_EfuQ",
        "colab_type": "code",
        "colab": {}
      },
      "source": [
        "#define model training function\n",
        "def model_train(model, dataloader, device, loss_fun, optimizer, scheduler, model_type):\n",
        "  \"\"\"\n",
        "     Args:\n",
        "       model: Custom model\n",
        "       dataloader: Pytorh data loader\n",
        "       device: device to compute\n",
        "       loss_fun:  loss function( MES loss)\n",
        "       optimizer: optimizer (Adamw)\n",
        "       scheduler: learning rate schedule\n",
        "       model_type(str): type of model architecture('regression' or 'cosine')\n",
        "\n",
        "    Returns:\n",
        "       training loss, and Pearson correlation between gold_score and predicted score\n",
        "       \n",
        "  \"\"\"\n",
        "  print('Model is training based on {} ouput!!!'.format(model_type))\n",
        "\n",
        "  #put model in training mode\n",
        "  model.train()\n",
        "\n",
        "  losses = [] # store loss from each batch\n",
        "  pearson_score = [] #pearson score from each batch\n",
        "\n",
        "  #Siamese Model type(Cosine output)\n",
        "  if model_type == 'cosine':\n",
        "  \n",
        "    #iterate over each batch of training data\n",
        "    for batch in dataloader:\n",
        "\n",
        "      #first sent\n",
        "      input_ids_1 = batch['input_ids']['first_sent'].to(device)\n",
        "      atten_ids_1= batch['attention_ids']['first_sent'].to(device)\n",
        "      #second sent\n",
        "      input_ids_2 = batch['input_ids']['second_sent'].to(device)\n",
        "      atten_ids_2 = batch['attention_ids']['second_sent'].to(device)\n",
        "\n",
        "      #gold score\n",
        "      gold_score = batch['score'].to(device).float() # change to float dtype as same as model output\n",
        "      \n",
        "      #clear previously calculated gradients\n",
        "      model.zero_grad()\n",
        "\n",
        "      #model forward pass\n",
        "      output = model(input_ids_1, atten_ids_1, input_ids_2, atten_ids_2) # output dtype --> float tenosr \n",
        "      \n",
        "      #Calculate Pearson Correlation score\n",
        "      p_score = pearsonr(output.detach().cpu(), gold_score.detach().cpu())\n",
        "      pearson_score.append(p_score[0])\n",
        "      \n",
        "      #perform loss\n",
        "      loss = loss_fun(output, gold_score)\n",
        "      losses.append(loss.item()) \n",
        "\n",
        "      loss.backward() # perform backward pass to calculate gradients\n",
        "      nn.utils.clip_grad_norm_(model.parameters(), max_norm=1.0)# clip the norm of the gradients to 1.0.\n",
        "      optimizer.step() #update parameters\n",
        "      scheduler.step() #update learning rate\n",
        "      \n",
        "    return np.mean(losses), np.mean(pearson_score)\n",
        "\n",
        "  #Regression model type\n",
        "  elif model_type == 'regression':\n",
        "\n",
        "    #iterate over each batch of training data\n",
        "    for batch in dataloader:\n",
        "      \n",
        "      #Input sequence \n",
        "      input_ids = batch['input_ids'].to(device)\n",
        "      atten_ids = batch['attention_ids'].to(device)\n",
        "      tok_type_ids = batch['token_type_ids'].to(device)\n",
        "\n",
        "      #gold score\n",
        "      gold_score = batch['score'].to(device).float() # change to float dtype as same as model output\n",
        "      \n",
        "      #clear previously calculated gradients\n",
        "      model.zero_grad()\n",
        "\n",
        "      #model forward pass\n",
        "      output = model(input_ids, atten_ids, tok_type_ids) # output dtype --> float tenosr \n",
        "      output = output.flatten()\n",
        "      \n",
        "      #Calculate Pearson Correlation score\n",
        "      p_score = pearsonr(output.detach().cpu(), gold_score.detach().cpu())\n",
        "      pearson_score.append(p_score[0])\n",
        "      \n",
        "      #perform loss\n",
        "      loss = loss_fun(output, gold_score)\n",
        "      losses.append(loss.item()) \n",
        "\n",
        "      loss.backward() # perform backward pass to calculate gradients\n",
        "      nn.utils.clip_grad_norm_(model.parameters(), max_norm=1.0)# clip the norm of the gradients to 1.0.\n",
        "      optimizer.step() #update parameters\n",
        "      scheduler.step() #update learning rate\n",
        "    return np.mean(losses), np.mean(pearson_score)\n",
        "\n",
        "  else:\n",
        "    print('Pleae specify the model type for training !!!')\n",
        "\n",
        "  \n"
      ],
      "execution_count": 73,
      "outputs": []
    },
    {
      "cell_type": "code",
      "metadata": {
        "id": "K7TwtESiEkAi",
        "colab_type": "code",
        "colab": {}
      },
      "source": [
        "# define evaluation function\n",
        "def model_eval(model, dataloader, device, loss_fun, model_type):\n",
        "  \"\"\"\n",
        "     Args:\n",
        "       model: Custom model\n",
        "       dataloader: pytorch data loader\n",
        "       device: device to compute\n",
        "       loss_fun:  loss function( MES loss)\n",
        "       \n",
        "    Returns:\n",
        "       Evaluation loss, and Pearson & Spearman correlation between gold_score and predicted score\n",
        "       \n",
        "  \"\"\"\n",
        "  #print('Model is validation based on {} ouput!!!'.format(model_type))\n",
        "\n",
        "  #put model in evaluation mode\n",
        "  model.eval()\n",
        "  losses = []\n",
        "  pearson_score = []\n",
        "  sparman_score = []\n",
        "  \n",
        "  #tell model not to compute or store gradients\n",
        "  with torch.no_grad():\n",
        "    \n",
        "    #Siamese model type(cosine)\n",
        "    if model_type == 'cosine':\n",
        "      \n",
        "      #each batch of evaluation data\n",
        "      for batch in dataloader:\n",
        "        #first sentence\n",
        "        input_ids_1 = batch['input_ids']['first_sent'].to(device)\n",
        "        atten_ids_1 = batch['attention_ids']['first_sent'].to(device)\n",
        "\n",
        "        #second sentence\n",
        "        input_ids_2 = batch['input_ids']['second_sent'].to(device)\n",
        "        atten_ids_2 = batch['attention_ids']['second_sent'].to(device)\n",
        "\n",
        "        #gold score\n",
        "        gold_score = batch['score'].to(device).float() # change to float dtype as same as model output\n",
        "\n",
        "        #model forward pass\n",
        "        model = model\n",
        "        output = model(input_ids_1, atten_ids_1, input_ids_2, atten_ids_2) # output type --> float tensor \n",
        "        output = output.flatten()\n",
        "\n",
        "        #perform loss\n",
        "        loss = loss_fun(output, gold_score)\n",
        "        losses.append(loss.item()) \n",
        "        \n",
        "        #Calculate Pearson Correlation score\n",
        "        p_score = pearsonr(output.detach().cpu(), gold_score.detach().cpu())\n",
        "        pearson_score.append(p_score[0])\n",
        "\n",
        "        #Calculate Spearman Correlation score\n",
        "        sp_score = spearmanr(output.detach().cpu(), gold_score.detach().cpu())\n",
        "        sparman_score.append(sp_score[0])\n",
        "      return np.mean(losses), np.mean(pearson_score), np.mean(sparman_score)\n",
        "    \n",
        "\n",
        "    #regression model type\n",
        "    elif model_type == 'regression':\n",
        "\n",
        "      #each batch of evaluation data\n",
        "      for batch in dataloader:\n",
        "        #first sentence\n",
        "        input_ids = batch['input_ids'].to(device)\n",
        "        atten_ids = batch['attention_ids'].to(device)\n",
        "        tok_type_ids = batch['token_type_ids'].to(device)\n",
        "\n",
        "        #gold score\n",
        "        gold_score = batch['score'].to(device).float() # change to float dtype as same as model output\n",
        "\n",
        "        #model forward pass\n",
        "        model = model\n",
        "        output = model(input_ids, atten_ids, tok_type_ids) # output type --> float tensor \n",
        "        output= output.flatten()\n",
        "        \n",
        "        #perform loss\n",
        "        loss = loss_fun(output, gold_score)\n",
        "        losses.append(loss.item()) \n",
        "        \n",
        "        #Calculate Pearson Correlation score\n",
        "        p_score = pearsonr(output.detach().cpu(), gold_score.detach().cpu())\n",
        "        pearson_score.append(p_score[0])\n",
        "\n",
        "        #Calculate Spearman Correlation score\n",
        "        sp_score = spearmanr(output.detach().cpu(), gold_score.detach().cpu())\n",
        "        sparman_score.append(sp_score[0])\n",
        "\n",
        "      return np.mean(losses), np.mean(pearson_score), np.mean(sparman_score)\n",
        "\n",
        "    else:\n",
        "      print('Please specify the model type for evaluation !!!')\n",
        "\n",
        "  \n"
      ],
      "execution_count": 74,
      "outputs": []
    },
    {
      "cell_type": "code",
      "metadata": {
        "id": "xlzBysrgEguH",
        "colab_type": "code",
        "colab": {}
      },
      "source": [
        ""
      ],
      "execution_count": null,
      "outputs": []
    },
    {
      "cell_type": "markdown",
      "metadata": {
        "id": "lzi2R2EX7chd",
        "colab_type": "text"
      },
      "source": [
        "# Re-scaled gold score from (0-5) to (0,1)\n",
        "Before making the Data to Pytorch Dataloader, lets re-scaled the 'gold score' to (0,1). This is done because the cosine similarity score is (0,1). So, it makes sense to calculate the loss during the model training."
      ]
    },
    {
      "cell_type": "code",
      "metadata": {
        "id": "k-vLmDhkCdkU",
        "colab_type": "code",
        "colab": {}
      },
      "source": [
        "#re-scale to all datasets\n",
        "df_train['scaled_score(0-1)'] = MinMaxScaler(feature_range=(0,1)).fit_transform(df_train[['score(0-5)']])\n",
        "df_dev['scaled_score(0-1)'] = MinMaxScaler(feature_range=(0,1)).fit_transform(df_dev[['score(0-5)']])\n",
        "df_test['scaled_score(0-1)'] = MinMaxScaler(feature_range=(0,1)).fit_transform(df_test[['score(0-5)']])\n"
      ],
      "execution_count": 75,
      "outputs": []
    },
    {
      "cell_type": "code",
      "metadata": {
        "id": "SDsoWPjW7Y-D",
        "colab_type": "code",
        "colab": {}
      },
      "source": [
        "#Create data loader for Regression model\n",
        "BATCH_SIZE = 32\n",
        "train_data_loader_reg = pytorch_data_loader( df_train.sample(frac=1.0), tokenizer, 120, BATCH_SIZE, 'regression') # train data loader\n",
        "dev_data_loader_reg = pytorch_data_loader(df_dev, tokenizer, 120, BATCH_SIZE , 'regression', )# dev data loader\n",
        "test_data_loader_reg = pytorch_data_loader(df_test, tokenizer, 120, BATCH_SIZE, 'regression' )# test data loader"
      ],
      "execution_count": 76,
      "outputs": []
    },
    {
      "cell_type": "code",
      "metadata": {
        "id": "kHCzCPv64FNS",
        "colab_type": "code",
        "colab": {}
      },
      "source": [
        "#Create data loader for  cosine similarity output\n",
        "train_data_loader_cos = pytorch_data_loader( df_train.sample(frac=1.0), tokenizer, 70, BATCH_SIZE) # train data loader\n",
        "dev_data_loader_cos= pytorch_data_loader(df_dev, tokenizer, 70, BATCH_SIZE )# dev data loader\n",
        "test_data_loader_cos = pytorch_data_loader(df_test, tokenizer, 70, BATCH_SIZE)# test data loader\n"
      ],
      "execution_count": 77,
      "outputs": []
    },
    {
      "cell_type": "code",
      "metadata": {
        "id": "XhJ2sNk07j_A",
        "colab_type": "code",
        "colab": {
          "base_uri": "https://localhost:8080/",
          "height": 442
        },
        "outputId": "33b2f49a-4977-4014-9875-7889ce68902b"
      },
      "source": [
        "data = next(iter(train_data_loader_reg))\n",
        "data\n"
      ],
      "execution_count": 66,
      "outputs": [
        {
          "output_type": "execute_result",
          "data": {
            "text/plain": [
              "{'attention_ids': tensor([[1, 1, 1,  ..., 0, 0, 0],\n",
              "         [1, 1, 1,  ..., 0, 0, 0],\n",
              "         [1, 1, 1,  ..., 0, 0, 0],\n",
              "         ...,\n",
              "         [1, 1, 1,  ..., 0, 0, 0],\n",
              "         [1, 1, 1,  ..., 0, 0, 0],\n",
              "         [1, 1, 1,  ..., 0, 0, 0]]),\n",
              " 'input_ids': tensor([[  101,  1037,  2450,  ...,     0,     0,     0],\n",
              "         [  101,  1037,  2158,  ...,     0,     0,     0],\n",
              "         [  101,  1996,  2048,  ...,     0,     0,     0],\n",
              "         ...,\n",
              "         [  101,  1037,  2158,  ...,     0,     0,     0],\n",
              "         [  101, 10079, 14369,  ...,     0,     0,     0],\n",
              "         [  101,  1037,  2304,  ...,     0,     0,     0]]),\n",
              " 'score': tensor([0.2800, 0.0000, 0.3000, 0.1200, 0.7600, 0.9600, 0.7200, 0.6000, 0.0000,\n",
              "         0.3000, 0.2000, 0.9600, 0.2800, 0.6666, 0.7600, 0.4000, 0.9200, 0.7600,\n",
              "         0.6112, 0.3200, 0.2400, 0.6800, 0.8800, 0.2000, 0.2800, 0.0800, 0.4666,\n",
              "         0.1600, 0.0000, 0.2800, 0.2400, 0.6000], dtype=torch.float64),\n",
              " 'token_type_ids': tensor([[0, 0, 0,  ..., 0, 0, 0],\n",
              "         [0, 0, 0,  ..., 0, 0, 0],\n",
              "         [0, 0, 0,  ..., 0, 0, 0],\n",
              "         ...,\n",
              "         [0, 0, 0,  ..., 0, 0, 0],\n",
              "         [0, 0, 0,  ..., 0, 0, 0],\n",
              "         [0, 0, 0,  ..., 0, 0, 0]])}"
            ]
          },
          "metadata": {
            "tags": []
          },
          "execution_count": 66
        }
      ]
    },
    {
      "cell_type": "code",
      "metadata": {
        "id": "3U21lLkcil0L",
        "colab_type": "code",
        "colab": {}
      },
      "source": [
        "#define custom model Regression output\n",
        "class BertSentenceSimilarityModelReg(nn.Module):\n",
        "  \"\"\"This model takes a pair of sentences at a time and returns regression output \"\"\"\n",
        "  \n",
        "  def __init__(self):\n",
        "    super().__init__()\n",
        "    self.bert = BertModel.from_pretrained('bert-base-uncased', output_hidden_states = True )#pretrained bert \n",
        "    self.drop = nn.Dropout(p=0.3) #droupout\n",
        "    self.regression = nn.Linear(self.bert.config.hidden_size,1) #output regresion layer\n",
        "    \n",
        "    \n",
        "  #forward pass\n",
        "  def forward(self, input_ids, attention_masks, token_type_ids):\n",
        "    \"\"\"\n",
        "      Args:\n",
        "          input_ids_1(tensor) : input_ids of a pair of sentence\n",
        "          attention_mask_1(tensor): attention_mask of a pair of sentence\n",
        "\n",
        "       Returns:\n",
        "          regre_output(1d tensor) : regression output\n",
        "    \"\"\"\n",
        "  \n",
        "    #initiate pre-trained model\n",
        "    bert_output = self.bert( input_ids = input_ids, attention_mask = attention_masks,token_type_ids = token_type_ids)\n",
        "    #hidden_state = bert_output[0]# last_hidden_state\n",
        "    hidden_state = bert_output[1] #['CLS'] token of last hidden_state\n",
        "    drop_out =  self.drop(hidden_state) \n",
        "    regre_output =  self.regression(drop_out)# apply linnear tranformation\n",
        "    return regre_output\n",
        "\n",
        "  \n",
        "    "
      ],
      "execution_count": 38,
      "outputs": []
    },
    {
      "cell_type": "code",
      "metadata": {
        "id": "J4NIIol57nn2",
        "colab_type": "code",
        "colab": {}
      },
      "source": [
        ""
      ],
      "execution_count": 45,
      "outputs": []
    },
    {
      "cell_type": "markdown",
      "metadata": {
        "id": "LsvkA72b8Qdc",
        "colab_type": "text"
      },
      "source": [
        "# Training Process"
      ]
    },
    {
      "cell_type": "code",
      "metadata": {
        "id": "c5dhHU858R_x",
        "colab_type": "code",
        "colab": {
          "base_uri": "https://localhost:8080/",
          "height": 139
        },
        "outputId": "06d3dabd-27f6-413e-9561-c89a2375f4c7"
      },
      "source": [
        "#initiate model\n",
        "custom_model_cos = ElectraSentenceSimilarityModelCos()\n",
        "custom_model_cos = custom_model_cos.to(device)\n",
        "\n",
        "custom_model_reg = ElectraSentenceSimilarityModelReg()\n",
        "custom_model_reg = custom_model_reg.to(device)"
      ],
      "execution_count": 78,
      "outputs": [
        {
          "output_type": "stream",
          "text": [
            "Some weights of the model checkpoint at google/electra-base-discriminator were not used when initializing ElectraModel: ['electra.embeddings_project.weight', 'electra.embeddings_project.bias']\n",
            "- This IS expected if you are initializing ElectraModel from the checkpoint of a model trained on another task or with another architecture (e.g. initializing a BertForSequenceClassification model from a BertForPretraining model).\n",
            "- This IS NOT expected if you are initializing ElectraModel from the checkpoint of a model that you expect to be exactly identical (initializing a BertForSequenceClassification model from a BertForSequenceClassification model).\n",
            "Some weights of the model checkpoint at google/electra-base-discriminator were not used when initializing ElectraModel: ['electra.embeddings_project.weight', 'electra.embeddings_project.bias']\n",
            "- This IS expected if you are initializing ElectraModel from the checkpoint of a model trained on another task or with another architecture (e.g. initializing a BertForSequenceClassification model from a BertForPretraining model).\n",
            "- This IS NOT expected if you are initializing ElectraModel from the checkpoint of a model that you expect to be exactly identical (initializing a BertForSequenceClassification model from a BertForSequenceClassification model).\n"
          ],
          "name": "stderr"
        }
      ]
    },
    {
      "cell_type": "code",
      "metadata": {
        "id": "1kpeHjm2LgId",
        "colab_type": "code",
        "colab": {}
      },
      "source": [
        ""
      ],
      "execution_count": 23,
      "outputs": []
    },
    {
      "cell_type": "code",
      "metadata": {
        "id": "Qw6h03Wy8YoH",
        "colab_type": "code",
        "colab": {}
      },
      "source": [
        "#setup hyper-parameter\n",
        "EPOCHS = 10 # raining epoch\n",
        "optimizer_cos =AdamW( custom_model_cos.parameters(), lr=1e-4, betas=(0.9, 0.999), eps=1e-6) #optimizer\n",
        "optimizer_reg =AdamW(custom_model_reg.parameters(), lr=1e-4,betas=(0.9, 0.999), eps=1e-6) #optimizer\n",
        "total_steps = len(train_data_loader_cos) * EPOCHS # total number training steps\n",
        "\n",
        "#learning rate scheduler\n",
        "scheduler_cos = get_linear_schedule_with_warmup(  \n",
        "  optimizer_cos,  \n",
        "  num_warmup_steps=0,\n",
        "  num_training_steps=total_steps\n",
        ")  \n",
        "scheduler_reg = get_linear_schedule_with_warmup(  \n",
        "  optimizer_reg,  \n",
        "  num_warmup_steps=0,\n",
        "  num_training_steps=total_steps\n",
        ")  \n",
        "\n",
        "#MSE loss function\n",
        "loss_fn = nn.MSELoss().to(device)"
      ],
      "execution_count": 79,
      "outputs": []
    },
    {
      "cell_type": "code",
      "metadata": {
        "id": "MUijnI2i8ZwF",
        "colab_type": "code",
        "colab": {
          "base_uri": "https://localhost:8080/",
          "height": 1000
        },
        "outputId": "4844f4d3-775c-4e8d-9662-5853093209d6"
      },
      "source": [
        "%%time\n",
        "#Training process start\n",
        "epochs_score = defaultdict(list) #store score from each epochs\n",
        "val_score = 0 # validation score\n",
        "model_type = ['regression', 'cosine']\n",
        "\n",
        "for epoch in range(EPOCHS):\n",
        "  print('Epoch {:}/{:}'.format(epoch + 1, EPOCHS))\n",
        "  print('=='*5)\n",
        "  print()\n",
        "  \n",
        "  #model training initiate\n",
        "  train_loss, train_Pearson_score = model_train(custom_model_cos, train_data_loader_cos, device, loss_fn, optimizer_cos, scheduler_cos, model_type[1])\n",
        "  print('Train loss is: {}, train_Pearson_score is {}'.format(train_loss,train_Pearson_score))\n",
        "  #store values\n",
        "  epochs_score['train_loss'].append(train_loss) #train losss\n",
        "  epochs_score['train_Pearson_score'].append(train_Pearson_score) # pearson correlation\n",
        "\n",
        "\n",
        "  #model validatiaon initiate\n",
        "  val_loss, val_Pearson_score, val_Spearman_score = model_eval(custom_model_cos, dev_data_loader_cos, device, loss_fn, model_type[1])\n",
        "  print('Validation loss is: {}, Validation_Pearson_score is {}'.format(val_loss,val_Pearson_score))\n",
        "  print()\n",
        "  #store values\n",
        "  epochs_score['val_loss'].append(val_loss) #train losss\n",
        "  epochs_score['val_Pearson_score'].append(val_Pearson_score) # pearson correlation\n",
        "  epochs_score['val_Spearman_score'].append(val_Spearman_score) # Spearman correlation\n",
        "\n",
        "  #save model with high validaiton score\n",
        "  if val_Pearson_score >  val_score:\n",
        "    val_score = val_Pearson_score\n",
        "    torch.save(custom_model_cos.state_dict(), 'cos_best_model.bin')\n",
        "\n",
        "print()\n",
        "print('Training completed......')\n"
      ],
      "execution_count": 26,
      "outputs": [
        {
          "output_type": "stream",
          "text": [
            "Epoch 1/10\n",
            "==========\n",
            "\n",
            "Model is training based on cosine ouput!!!\n",
            "Train loss is: 0.06721318654922975, train_Pearson_score is 0.505748393289914\n",
            "Validation loss is: 0.05166431270698284, Validation_Pearson_score is 0.7666440227231173\n",
            "\n",
            "Epoch 2/10\n",
            "==========\n",
            "\n",
            "Model is training based on cosine ouput!!!\n",
            "Train loss is: 0.03819747253631552, train_Pearson_score is 0.7489706918937107\n",
            "Validation loss is: 0.04103465786481157, Validation_Pearson_score is 0.7774047862783082\n",
            "\n",
            "Epoch 3/10\n",
            "==========\n",
            "\n",
            "Model is training based on cosine ouput!!!\n",
            "Train loss is: 0.023388380391730204, train_Pearson_score is 0.8532917597861421\n",
            "Validation loss is: 0.040673195721304164, Validation_Pearson_score is 0.7786711708869402\n",
            "\n",
            "Epoch 4/10\n",
            "==========\n",
            "\n",
            "Model is training based on cosine ouput!!!\n",
            "Train loss is: 0.014527619508509006, train_Pearson_score is 0.9118233719149048\n",
            "Validation loss is: 0.03809026957667889, Validation_Pearson_score is 0.8027401121307874\n",
            "\n",
            "Epoch 5/10\n",
            "==========\n",
            "\n",
            "Model is training based on cosine ouput!!!\n",
            "Train loss is: 0.009775912828950418, train_Pearson_score is 0.9418164793768625\n",
            "Validation loss is: 0.03746376020160127, Validation_Pearson_score is 0.806730015622528\n",
            "\n",
            "Epoch 6/10\n",
            "==========\n",
            "\n",
            "Model is training based on cosine ouput!!!\n",
            "Train loss is: 0.007280272821016196, train_Pearson_score is 0.9574011034534604\n",
            "Validation loss is: 0.037445574325132874, Validation_Pearson_score is 0.8036570806026312\n",
            "\n",
            "Epoch 7/10\n",
            "==========\n",
            "\n",
            "Model is training based on cosine ouput!!!\n",
            "Train loss is: 0.005820775557205908, train_Pearson_score is 0.9658414698571084\n",
            "Validation loss is: 0.0360274316465601, Validation_Pearson_score is 0.8140667396023961\n",
            "\n",
            "Epoch 8/10\n",
            "==========\n",
            "\n",
            "Model is training based on cosine ouput!!!\n",
            "Train loss is: 0.004902235122992553, train_Pearson_score is 0.9710574576634114\n",
            "Validation loss is: 0.036482736072007645, Validation_Pearson_score is 0.806326500338032\n",
            "\n",
            "Epoch 9/10\n",
            "==========\n",
            "\n",
            "Model is training based on cosine ouput!!!\n",
            "Train loss is: 0.004149818598266898, train_Pearson_score is 0.9757572164698355\n",
            "Validation loss is: 0.0364344484628515, Validation_Pearson_score is 0.8089526687557238\n",
            "\n",
            "Epoch 10/10\n",
            "==========\n",
            "\n",
            "Model is training based on cosine ouput!!!\n",
            "Train loss is: 0.0037270875570053854, train_Pearson_score is 0.9784310492146066\n",
            "Validation loss is: 0.0368860034232444, Validation_Pearson_score is 0.8132525014697854\n",
            "\n",
            "\n",
            "Training completed......\n",
            "CPU times: user 29min 9s, sys: 16min 24s, total: 45min 33s\n",
            "Wall time: 45min 39s\n"
          ],
          "name": "stdout"
        }
      ]
    },
    {
      "cell_type": "code",
      "metadata": {
        "id": "9U7kDLmgijkT",
        "colab_type": "code",
        "colab": {}
      },
      "source": [
        ""
      ],
      "execution_count": 26,
      "outputs": []
    },
    {
      "cell_type": "markdown",
      "metadata": {
        "id": "qwUCkEZR9bTU",
        "colab_type": "text"
      },
      "source": [
        "#Plot Model Learning Curve"
      ]
    },
    {
      "cell_type": "code",
      "metadata": {
        "id": "10AYfmaw8ht1",
        "colab_type": "code",
        "colab": {
          "base_uri": "https://localhost:8080/",
          "height": 410
        },
        "outputId": "408e6796-c23b-4ac1-ec3e-cac2daf0f221"
      },
      "source": [
        "#plot training and validation curve for cosine similarity output\n",
        "import matplotlib.pyplot as plt\n",
        "import seaborn as sns\n",
        "train_score = epochs_score['train_Pearson_score'] # train_score\n",
        "valid_score = epochs_score['val_Pearson_score'] # valid_score\n",
        " \n",
        "\n",
        "sns.set(style='darkgrid') #set plot style\n",
        "sns.set(rc={'figure.figsize':(9,6)}) # set figure size\n",
        "plt.plot(train_score ,'o-b', label= 'Train_score' )#plot train score\n",
        "plt.plot(valid_score, '^-r', label='Valid_score') # plot valid score\n",
        "plt.xticks(range(0, EPOCHS, 1)) #set xlabel location\n",
        "plt.title('Model Training Curve(Siamese Network)') #  title\n",
        "plt.ylabel('Pearson Coefficient') # ylabel\n",
        "plt.xlabel('No. of epochs') # xlabel\n",
        "plt.ylim([0.2,1]) #set the ylabel limit\n",
        "plt.legend(loc=4) #set label location\n",
        "plt.show()\n"
      ],
      "execution_count": 29,
      "outputs": [
        {
          "output_type": "display_data",
          "data": {
            "image/png": "[encoded data removed]",
            "text/plain": [
              "<Figure size 648x432 with 1 Axes>"
            ]
          },
          "metadata": {
            "tags": []
          }
        }
      ]
    },
    {
      "cell_type": "code",
      "metadata": {
        "id": "r_vPbfRCfH_l",
        "colab_type": "code",
        "colab": {}
      },
      "source": [
        ""
      ],
      "execution_count": null,
      "outputs": []
    },
    {
      "cell_type": "code",
      "metadata": {
        "id": "FflGTmV3fH4w",
        "colab_type": "code",
        "colab": {
          "base_uri": "https://localhost:8080/",
          "height": 1000
        },
        "outputId": "6241f9c2-586a-4bc6-c299-518450abdd3b"
      },
      "source": [
        "%%time\n",
        "#Training process start\n",
        "epochs_score_reg = defaultdict(list) #store score from each epochs\n",
        "val_score_reg = 0 # validation score\n",
        "\n",
        "for epoch in range(EPOCHS):\n",
        "  print('Epoch {:}/{:}'.format(epoch + 1, EPOCHS))\n",
        "  print('=='*5)\n",
        "  print()\n",
        "  \n",
        "  #model training initiate\n",
        "  train_loss, train_Pearson_score = model_train(custom_model_reg, train_data_loader_reg, device, loss_fn, optimizer_reg, scheduler_reg, model_type[0])\n",
        "  print('Train loss is: {}, train_Pearson_score is {}'.format(train_loss,train_Pearson_score))\n",
        "  #store values\n",
        "  epochs_score_reg['train_loss'].append(train_loss) #train losss\n",
        "  epochs_score_reg['train_Pearson_score'].append(train_Pearson_score) # pearson correlation\n",
        "\n",
        "\n",
        "  #model validatiaon initiate\n",
        "  val_loss, val_Pearson_score, val_Spearman_score = model_eval(custom_model_reg, dev_data_loader_reg, device, loss_fn, model_type[0])\n",
        "  print('Validation loss is: {}, Validation_Pearson_score is {}'.format(val_loss,val_Pearson_score))\n",
        "  print()\n",
        "  #store values\n",
        "  epochs_score_reg['val_loss'].append(val_loss) #train losss\n",
        "  epochs_score_reg['val_Pearson_score'].append(val_Pearson_score) # pearson correlation\n",
        "  epochs_score_reg['val_Spearman_score'].append(val_Spearman_score) # Spearman correlation\n",
        "\n",
        "  #save model with high validaiton score\n",
        "  if val_Pearson_score >  val_score_reg:\n",
        "    val_score_reg = val_Pearson_score\n",
        "    torch.save(custom_model_reg.state_dict(), 'Electra_reg_best_model.bin')\n",
        "\n",
        "print()\n",
        "print('Training completed......')\n"
      ],
      "execution_count": 80,
      "outputs": [
        {
          "output_type": "stream",
          "text": [
            "Epoch 1/10\n",
            "==========\n",
            "\n",
            "Model is training based on regression ouput!!!\n",
            "Train loss is: 0.03860733582534724, train_Pearson_score is 0.7847727745691557\n",
            "Validation loss is: 0.02207690731008002, Validation_Pearson_score is 0.8938423669833894\n",
            "\n",
            "Epoch 2/10\n",
            "==========\n",
            "\n",
            "Model is training based on regression ouput!!!\n",
            "Train loss is: 0.018672303658806615, train_Pearson_score is 0.8958137206723273\n",
            "Validation loss is: 0.01738536314285816, Validation_Pearson_score is 0.909097782047033\n",
            "\n",
            "Epoch 3/10\n",
            "==========\n",
            "\n",
            "Model is training based on regression ouput!!!\n",
            "Train loss is: 0.011788705123278002, train_Pearson_score is 0.9364361976206226\n",
            "Validation loss is: 0.015055979166100634, Validation_Pearson_score is 0.9126420093184657\n",
            "\n",
            "Epoch 4/10\n",
            "==========\n",
            "\n",
            "Model is training based on regression ouput!!!\n",
            "Train loss is: 0.008317088943699168, train_Pearson_score is 0.9541251354541599\n",
            "Validation loss is: 0.016050668492754723, Validation_Pearson_score is 0.9108887015231714\n",
            "\n",
            "Epoch 5/10\n",
            "==========\n",
            "\n",
            "Model is training based on regression ouput!!!\n",
            "Train loss is: 0.006233051712883429, train_Pearson_score is 0.9652509380234174\n",
            "Validation loss is: 0.015394459637080101, Validation_Pearson_score is 0.9165065513430497\n",
            "\n",
            "Epoch 6/10\n",
            "==========\n",
            "\n",
            "Model is training based on regression ouput!!!\n",
            "Train loss is: 0.0047126160649996664, train_Pearson_score is 0.9733975045109187\n",
            "Validation loss is: 0.017036611333172372, Validation_Pearson_score is 0.9119728251102828\n",
            "\n",
            "Epoch 7/10\n",
            "==========\n",
            "\n",
            "Model is training based on regression ouput!!!\n",
            "Train loss is: 0.004002806270081136, train_Pearson_score is 0.9778484237309172\n",
            "Validation loss is: 0.014968388040173562, Validation_Pearson_score is 0.9126562059752474\n",
            "\n",
            "Epoch 8/10\n",
            "==========\n",
            "\n",
            "Model is training based on regression ouput!!!\n",
            "Train loss is: 0.003325342393428501, train_Pearson_score is 0.9816634727164626\n",
            "Validation loss is: 0.015593963278893461, Validation_Pearson_score is 0.9093182648813103\n",
            "\n",
            "Epoch 9/10\n",
            "==========\n",
            "\n",
            "Model is training based on regression ouput!!!\n",
            "Train loss is: 0.0027548620923577498, train_Pearson_score is 0.9842377861545344\n",
            "Validation loss is: 0.015943572242209252, Validation_Pearson_score is 0.9137281802397653\n",
            "\n",
            "Epoch 10/10\n",
            "==========\n",
            "\n",
            "Model is training based on regression ouput!!!\n",
            "Train loss is: 0.002432959506404586, train_Pearson_score is 0.9858718346839273\n",
            "Validation loss is: 0.015536157265701827, Validation_Pearson_score is 0.914230530277969\n",
            "\n",
            "\n",
            "Training completed......\n",
            "CPU times: user 23min 39s, sys: 13min 45s, total: 37min 24s\n",
            "Wall time: 37min 30s\n"
          ],
          "name": "stdout"
        }
      ]
    },
    {
      "cell_type": "code",
      "metadata": {
        "id": "BaDuyqKnnIZb",
        "colab_type": "code",
        "colab": {}
      },
      "source": [
        "#clear unused GPU\n",
        "with torch.no_grad():\n",
        "  torch.cuda.empty_cache()"
      ],
      "execution_count": null,
      "outputs": []
    },
    {
      "cell_type": "code",
      "metadata": {
        "id": "xEAG5aZyg1Pb",
        "colab_type": "code",
        "colab": {
          "base_uri": "https://localhost:8080/",
          "height": 410
        },
        "outputId": "4fd80b10-5577-4f78-c785-e74adcf1b1f0"
      },
      "source": [
        "#plot training and validation curve for Regression\n",
        "import matplotlib.pyplot as plt\n",
        "import seaborn as sns\n",
        "train_score_reg = epochs_score_reg['train_Pearson_score'] # train_score\n",
        "valid_score_reg = epochs_score_reg['val_Pearson_score'] # valid_score\n",
        " \n",
        "\n",
        "sns.set(style='darkgrid') #set plot style\n",
        "sns.set(rc={'figure.figsize':(9,6)}) # set figure size\n",
        "plt.plot(train_score_reg ,'o-b', label= 'Train_score' )#plot train score\n",
        "plt.plot(valid_score_reg, '^-r', label='Valid_score') # plot valid score\n",
        "plt.xticks(range(0, 6, 1)) #set xlabel location\n",
        "plt.title('Model Training Curve(Regression Output)') #  title\n",
        "plt.ylabel('Pearson Coefficient') # ylabel\n",
        "plt.xlabel('No. of epochs') # xlabel\n",
        "plt.ylim([0,1]) #set the ylabel limit\n",
        "plt.legend(loc=4) #set label location\n",
        "plt.show()\n"
      ],
      "execution_count": 81,
      "outputs": [
        {
          "output_type": "display_data",
          "data": {
            "image/png": "[encoded data removed]",
            "text/plain": [
              "<Figure size 648x432 with 1 Axes>"
            ]
          },
          "metadata": {
            "tags": []
          }
        }
      ]
    },
    {
      "cell_type": "code",
      "metadata": {
        "id": "k6BS7y1_4tdP",
        "colab_type": "code",
        "colab": {
          "base_uri": "https://localhost:8080/",
          "height": 884
        },
        "outputId": "9993ff9d-60c5-472d-b32a-7a789cc91683"
      },
      "source": [
        "epochs_score_reg"
      ],
      "execution_count": 82,
      "outputs": [
        {
          "output_type": "execute_result",
          "data": {
            "text/plain": [
              "defaultdict(list,\n",
              "            {'train_Pearson_score': [0.7847727745691557,\n",
              "              0.8958137206723273,\n",
              "              0.9364361976206226,\n",
              "              0.9541251354541599,\n",
              "              0.9652509380234174,\n",
              "              0.9733975045109187,\n",
              "              0.9778484237309172,\n",
              "              0.9816634727164626,\n",
              "              0.9842377861545344,\n",
              "              0.9858718346839273],\n",
              "             'train_loss': [0.03860733582534724,\n",
              "              0.018672303658806615,\n",
              "              0.011788705123278002,\n",
              "              0.008317088943699168,\n",
              "              0.006233051712883429,\n",
              "              0.0047126160649996664,\n",
              "              0.004002806270081136,\n",
              "              0.003325342393428501,\n",
              "              0.0027548620923577498,\n",
              "              0.002432959506404586],\n",
              "             'val_Pearson_score': [0.8938423669833894,\n",
              "              0.909097782047033,\n",
              "              0.9126420093184657,\n",
              "              0.9108887015231714,\n",
              "              0.9165065513430497,\n",
              "              0.9119728251102828,\n",
              "              0.9126562059752474,\n",
              "              0.9093182648813103,\n",
              "              0.9137281802397653,\n",
              "              0.914230530277969],\n",
              "             'val_Spearman_score': [0.8796239784880422,\n",
              "              0.8988869539059742,\n",
              "              0.8983720857336731,\n",
              "              0.8998375206864024,\n",
              "              0.8976246576956984,\n",
              "              0.9003922357994069,\n",
              "              0.8972292856669707,\n",
              "              0.8897017222733385,\n",
              "              0.8931731061774003,\n",
              "              0.9056492132408828],\n",
              "             'val_loss': [0.02207690731008002,\n",
              "              0.01738536314285816,\n",
              "              0.015055979166100634,\n",
              "              0.016050668492754723,\n",
              "              0.015394459637080101,\n",
              "              0.017036611333172372,\n",
              "              0.014968388040173562,\n",
              "              0.015593963278893461,\n",
              "              0.015943572242209252,\n",
              "              0.015536157265701827]})"
            ]
          },
          "metadata": {
            "tags": []
          },
          "execution_count": 82
        }
      ]
    },
    {
      "cell_type": "markdown",
      "metadata": {
        "id": "Pu3t_l3K8mtB",
        "colab_type": "text"
      },
      "source": [
        "# Evaluate on test"
      ]
    },
    {
      "cell_type": "code",
      "metadata": {
        "id": "tIIrRO1H8qC2",
        "colab_type": "code",
        "colab": {
          "base_uri": "https://localhost:8080/",
          "height": 34
        },
        "outputId": "f0ed8756-db4b-4168-f70c-6828bcca3e22"
      },
      "source": [
        "#evaluate on test data\n",
        "test_loss, test_Pearson_score = model_eval(\n",
        "                                      custom_model, \n",
        "                                      test_data_loader, \n",
        "                                      device, \n",
        "                                      loss_fn)\n",
        "print(test_loss, test_Pearson_score)"
      ],
      "execution_count": null,
      "outputs": [
        {
          "output_type": "stream",
          "text": [
            "0.04094556158130196 0.7794279529544211\n"
          ],
          "name": "stdout"
        }
      ]
    },
    {
      "cell_type": "markdown",
      "metadata": {
        "id": "05tRdGLV9Ekl",
        "colab_type": "text"
      },
      "source": [
        "# Save and Load model"
      ]
    },
    {
      "cell_type": "code",
      "metadata": {
        "id": "5uAlwxqe9FuM",
        "colab_type": "code",
        "colab": {}
      },
      "source": [
        "#save model\n",
        "torch.save(custom_model.state_dict(), '/content/drive/My Drive/Google_Colab/Electra_best_model.bin')"
      ],
      "execution_count": null,
      "outputs": []
    },
    {
      "cell_type": "code",
      "metadata": {
        "id": "1K7gOPwO9WBJ",
        "colab_type": "code",
        "colab": {
          "base_uri": "https://localhost:8080/",
          "height": 105
        },
        "outputId": "884151d7-ad7a-4815-8a70-f16feabf31a0"
      },
      "source": [
        "#load model and evaluate on test data\n",
        "fine_tuned_model = SentenceSimilarityModel()\n",
        "fine_tuned_model.load_state_dict(torch.load('/content/best_model.bin'))\n",
        "test_loss, test_Pearson_score = model_eval(\n",
        "                                      fine_tuned_model.to(device),\n",
        "                                      test_data_loader, \n",
        "                                      device, \n",
        "                                      loss_fn)\n",
        "print(test_loss, test_Pearson_score)"
      ],
      "execution_count": null,
      "outputs": [
        {
          "output_type": "stream",
          "text": [
            "Some weights of the model checkpoint at google/electra-base-discriminator were not used when initializing ElectraModel: ['electra.embeddings_project.weight', 'electra.embeddings_project.bias']\n",
            "- This IS expected if you are initializing ElectraModel from the checkpoint of a model trained on another task or with another architecture (e.g. initializing a BertForSequenceClassification model from a BertForPretraining model).\n",
            "- This IS NOT expected if you are initializing ElectraModel from the checkpoint of a model that you expect to be exactly identical (initializing a BertForSequenceClassification model from a BertForSequenceClassification model).\n"
          ],
          "name": "stderr"
        },
        {
          "output_type": "stream",
          "text": [
            "0.04113160383127544 0.7887276552132803\n"
          ],
          "name": "stdout"
        }
      ]
    },
    {
      "cell_type": "code",
      "metadata": {
        "id": "sXTrnu_YNDaJ",
        "colab_type": "code",
        "colab": {}
      },
      "source": [
        ""
      ],
      "execution_count": null,
      "outputs": []
    },
    {
      "cell_type": "code",
      "metadata": {
        "id": "yxesJFuINE8O",
        "colab_type": "code",
        "colab": {}
      },
      "source": [
        "#clear unused GPU\n",
        "with torch.cuda.device('cuda:0'):\n",
        "   torch.cuda.empty_cache()"
      ],
      "execution_count": null,
      "outputs": []
    },
    {
      "cell_type": "code",
      "metadata": {
        "id": "qcOSebH3NFnO",
        "colab_type": "code",
        "colab": {}
      },
      "source": [
        ""
      ],
      "execution_count": null,
      "outputs": []
    },
    {
      "cell_type": "markdown",
      "metadata": {
        "id": "DHn2AAjryE3y",
        "colab_type": "text"
      },
      "source": [
        "# References:\n",
        "1. Chris McCormick and Nick Ryan. (2019, May 14). BERT Word Embeddings Tutorial. Retrieved from http://www.mccormickml.com , https://mccormickml.com/2019/05/14/BERT-word-embeddings-tutorial/\n",
        "\n",
        "2. [Sentiment Analysis with BERT](https://colab.research.google.com/drive/1PHv-IRLPCtv7oTcIGbsgZHqrB5LPvB7S#scrollTo=1zhHoFNsxufs&forceEdit=true&sandboxMode=true)\n",
        "\n",
        "3. [Hugging Face Transformer](https://huggingface.co/transformers/)\n",
        "\n",
        "4. [The Illustrated BERT, ELMo, and co. (How NLP Cracked Transfer Learning)](https://jalammar.github.io/illustrated-bert/)\n",
        "\n",
        "5. [ELECTRA: Pre-training Text Encoders as Discriminators Rather Than Generators](https://arxiv.org/abs/2003.10555)\n"
      ]
    }
  ]
}
