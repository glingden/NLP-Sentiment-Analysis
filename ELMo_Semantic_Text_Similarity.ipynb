{
  "nbformat": 4,
  "nbformat_minor": 0,
  "metadata": {
    "colab": {
      "name": "ELMo Semantic Text Similarity",
      "provenance": [],
      "toc_visible": true,
      "authorship_tag": "ABX9TyNZ04n+C/5NGmchc5hs8qDW",
      "include_colab_link": true
    },
    "kernelspec": {
      "name": "python3",
      "display_name": "Python 3"
    },
    "accelerator": "GPU"
  },
  "cells": [
    {
      "cell_type": "markdown",
      "metadata": {
        "id": "view-in-github",
        "colab_type": "text"
      },
      "source": [
        "<a href=\"https://colab.research.google.com/github/glingden/Natural-Language-Processing-NLP/blob/master/ELMo_Semantic_Text_Similarity.ipynb\" target=\"_parent\"><img src=\"https://colab.research.google.com/assets/colab-badge.svg\" alt=\"Open In Colab\"/></a>"
      ]
    },
    {
      "cell_type": "markdown",
      "metadata": {
        "id": "Bv8PlCFwtLVR",
        "colab_type": "text"
      },
      "source": [
        "# ELMo Semantic Text Similarity\n",
        "In this notebook, the ELMo (original) model is used for finding  semantic text similarity between a pair of sentences.  The [STS_B benchmark](https://ixa2.si.ehu.es/stswiki/index.php/STSbenchmark) dataset is used for this work. This dataset consists of separate training, validation and test data. The [allenlp framework](https://github.com/allenai/allennlp) is used to carry out the work. The work in this notebook contains two parts:\n",
        "1. Sentence level embedding extraction from the pre-trained  model and apply cosine similarity between the pair sentences (No fine-tunned, but only using sentence vector representation from the pretrained model)\n",
        "\n",
        "2. Fine-tune: The STS_B train dataset is used for fine tunning the model and validation dataset is used for model validation. And, the fine-tunned model is used to predict the test dataset. For fine-tunning, Siamese Network with cosine similarity output is used."
      ]
    },
    {
      "cell_type": "code",
      "metadata": {
        "id": "qAOJH5dVu2sF",
        "colab_type": "code",
        "colab": {}
      },
      "source": [
        "#import necessary dependencies\n",
        "import os\n",
        "import numpy as np\n",
        "import pandas as pd\n",
        "import torch\n",
        "import torch.nn as nn\n",
        "from  torch import optim\n",
        "from typing import Dict, Iterable, List, Union #for argument type\n",
        "from sklearn.preprocessing import MinMaxScaler # minmax scaling\n",
        "from scipy.spatial.distance import cosine #cosine distance\n",
        "from scipy.stats import pearsonr, spearmanr # pearson and spearman correlation\n",
        "from collections import defaultdict, Counter #store scores\n"
      ],
      "execution_count": 2,
      "outputs": []
    },
    {
      "cell_type": "code",
      "metadata": {
        "id": "29n1AjEBuGJF",
        "colab_type": "code",
        "colab": {
          "base_uri": "https://localhost:8080/",
          "height": 51
        },
        "outputId": "929e43af-c0e9-463f-a656-31ebea165c12"
      },
      "source": [
        "#check GPU is available or not \n",
        "if torch.cuda.is_available():\n",
        "  device = torch.device(\"cuda\")\n",
        "  current_dev = torch.cuda.current_device()\n",
        "  print('Found GPU :', torch.cuda.get_device_name(0))\n",
        "  print(current_dev)\n",
        "  \n",
        "else:\n",
        "    print('Not found, use CPU instead')\n",
        "    device = torch.device(\"cpu\")\n",
        "  "
      ],
      "execution_count": 3,
      "outputs": [
        {
          "output_type": "stream",
          "text": [
            "Found GPU : Tesla K80\n",
            "0\n"
          ],
          "name": "stdout"
        }
      ]
    },
    {
      "cell_type": "markdown",
      "metadata": {
        "id": "7aFaxUequbiM",
        "colab_type": "text"
      },
      "source": [
        "#Load Dataset\n",
        "Dataset is stored at Google drive. So, google drive is mounted at '/content/drive' to access them."
      ]
    },
    {
      "cell_type": "code",
      "metadata": {
        "id": "p7my5BW_ueGo",
        "colab_type": "code",
        "colab": {
          "base_uri": "https://localhost:8080/",
          "height": 122
        },
        "outputId": "503dde4b-ab3b-4b33-e1d0-3af386ebb70b"
      },
      "source": [
        "#mount the drive \n",
        "from google.colab import drive\n",
        "drive.mount('/content/drive')"
      ],
      "execution_count": 4,
      "outputs": [
        {
          "output_type": "stream",
          "text": [
            "Go to this URL in a browser: https://accounts.google.com/o/oauth2/auth?client_id=947318989803-6bn6qk8qdgf4n4g3pfee6491hc0brc4i.apps.googleusercontent.com&redirect_uri=urn%3aietf%3awg%3aoauth%3a2.0%3aoob&response_type=code&scope=email%20https%3a%2f%2fwww.googleapis.com%2fauth%2fdocs.test%20https%3a%2f%2fwww.googleapis.com%2fauth%2fdrive%20https%3a%2f%2fwww.googleapis.com%2fauth%2fdrive.photos.readonly%20https%3a%2f%2fwww.googleapis.com%2fauth%2fpeopleapi.readonly\n",
            "\n",
            "Enter your authorization code:\n",
            "··········\n",
            "Mounted at /content/drive\n"
          ],
          "name": "stdout"
        }
      ]
    },
    {
      "cell_type": "code",
      "metadata": {
        "id": "lvF5Gn1PuhPV",
        "colab_type": "code",
        "colab": {
          "base_uri": "https://localhost:8080/",
          "height": 306
        },
        "outputId": "360366fd-6b25-4931-80b5-ef2cb9bf68eb"
      },
      "source": [
        "#load dataset\n",
        "dataset_types = [ \"sts-train.csv\", \"sts-dev.csv\", \"sts-test.csv\",] # 3 datasets\n",
        "col_names = [\"genre\", \"file\", \"years\", \"_\", \"score(0-5)\", \"sentence_1\", \"sentence_2\"] #columns names\n",
        "\n",
        "#collect as a list of pandas dataframes\n",
        "df_list = []\n",
        "for dataset in dataset_types:\n",
        "  df = pd.read_csv(\"/content/drive/My Drive/Google_Colab/stsbenchmark_dataset/\"+ dataset, \n",
        "                 delimiter=',' , \n",
        "                 header= None,\n",
        "                 names= col_names\n",
        "                )\n",
        "  df_list.append(df)#append\n",
        "\n",
        "#separate dataset (train, dev and test)\n",
        "df_train = df_list[0]\n",
        "df_dev = df_list[1]\n",
        "df_test = df_list[2]\n",
        "df_train.sample(5)"
      ],
      "execution_count": 5,
      "outputs": [
        {
          "output_type": "execute_result",
          "data": {
            "text/html": [
              "<div>\n",
              "<style scoped>\n",
              "    .dataframe tbody tr th:only-of-type {\n",
              "        vertical-align: middle;\n",
              "    }\n",
              "\n",
              "    .dataframe tbody tr th {\n",
              "        vertical-align: top;\n",
              "    }\n",
              "\n",
              "    .dataframe thead th {\n",
              "        text-align: right;\n",
              "    }\n",
              "</style>\n",
              "<table border=\"1\" class=\"dataframe\">\n",
              "  <thead>\n",
              "    <tr style=\"text-align: right;\">\n",
              "      <th></th>\n",
              "      <th>genre</th>\n",
              "      <th>file</th>\n",
              "      <th>years</th>\n",
              "      <th>_</th>\n",
              "      <th>score(0-5)</th>\n",
              "      <th>sentence_1</th>\n",
              "      <th>sentence_2</th>\n",
              "    </tr>\n",
              "  </thead>\n",
              "  <tbody>\n",
              "    <tr>\n",
              "      <th>2382</th>\n",
              "      <td>main-forum</td>\n",
              "      <td>deft-forum</td>\n",
              "      <td>2014</td>\n",
              "      <td>382</td>\n",
              "      <td>3.80</td>\n",
              "      <td>Just so long as the tax on that sale is paid.</td>\n",
              "      <td>Just so long as the tax is paid.</td>\n",
              "    </tr>\n",
              "    <tr>\n",
              "      <th>4372</th>\n",
              "      <td>main-news</td>\n",
              "      <td>headlines</td>\n",
              "      <td>2014</td>\n",
              "      <td>28</td>\n",
              "      <td>0.60</td>\n",
              "      <td>Apple revenue misses again, iPhone disappoints</td>\n",
              "      <td>U.S. trade agency rules for Samsung, bans iPho...</td>\n",
              "    </tr>\n",
              "    <tr>\n",
              "      <th>3865</th>\n",
              "      <td>main-news</td>\n",
              "      <td>headlines</td>\n",
              "      <td>2013</td>\n",
              "      <td>144</td>\n",
              "      <td>1.60</td>\n",
              "      <td>Panetta says Afghanistan role to shift from co...</td>\n",
              "      <td>Panetta: Afghanistan Tops NATO Conference Topics</td>\n",
              "    </tr>\n",
              "    <tr>\n",
              "      <th>281</th>\n",
              "      <td>main-captions</td>\n",
              "      <td>MSRvid</td>\n",
              "      <td>2012test</td>\n",
              "      <td>417</td>\n",
              "      <td>3.25</td>\n",
              "      <td>A person is folding a square paper piece.</td>\n",
              "      <td>A man is folding paper.</td>\n",
              "    </tr>\n",
              "    <tr>\n",
              "      <th>4942</th>\n",
              "      <td>main-news</td>\n",
              "      <td>headlines</td>\n",
              "      <td>2014</td>\n",
              "      <td>734</td>\n",
              "      <td>4.00</td>\n",
              "      <td>Thieves snatch English Channel swimmer's custo...</td>\n",
              "      <td>Thieves steal Channel swimmer's wheelchair</td>\n",
              "    </tr>\n",
              "  </tbody>\n",
              "</table>\n",
              "</div>"
            ],
            "text/plain": [
              "              genre  ...                                         sentence_2\n",
              "2382     main-forum  ...                   Just so long as the tax is paid.\n",
              "4372      main-news  ...  U.S. trade agency rules for Samsung, bans iPho...\n",
              "3865      main-news  ...   Panetta: Afghanistan Tops NATO Conference Topics\n",
              "281   main-captions  ...                            A man is folding paper.\n",
              "4942      main-news  ...         Thieves steal Channel swimmer's wheelchair\n",
              "\n",
              "[5 rows x 7 columns]"
            ]
          },
          "metadata": {
            "tags": []
          },
          "execution_count": 5
        }
      ]
    },
    {
      "cell_type": "code",
      "metadata": {
        "id": "cWIT6kbjvv8c",
        "colab_type": "code",
        "colab": {}
      },
      "source": [
        ""
      ],
      "execution_count": null,
      "outputs": []
    },
    {
      "cell_type": "code",
      "metadata": {
        "id": "j1ctCfU3dg-V",
        "colab_type": "code",
        "colab": {
          "base_uri": "https://localhost:8080/",
          "height": 1000
        },
        "outputId": "bca7b5ab-d255-42dd-ad64-c78bf8ac176b"
      },
      "source": [
        "#install allennlp framework \n",
        "!pip install allennlp"
      ],
      "execution_count": 6,
      "outputs": [
        {
          "output_type": "stream",
          "text": [
            "Collecting allennlp\n",
            "\u001b[?25l  Downloading https://files.pythonhosted.org/packages/2c/49/bf0ec241496a82c9dd2f0b6ff6f8156b6b2b72b849df8c00a4f2bcf61485/allennlp-1.0.0-py3-none-any.whl (473kB)\n",
            "\u001b[K     |████████████████████████████████| 481kB 2.8MB/s \n",
            "\u001b[?25hRequirement already satisfied: torch<1.6.0,>=1.5.0 in /usr/local/lib/python3.6/dist-packages (from allennlp) (1.5.1+cu101)\n",
            "Requirement already satisfied: boto3 in /usr/local/lib/python3.6/dist-packages (from allennlp) (1.14.24)\n",
            "Requirement already satisfied: requests>=2.18 in /usr/local/lib/python3.6/dist-packages (from allennlp) (2.23.0)\n",
            "Requirement already satisfied: nltk in /usr/local/lib/python3.6/dist-packages (from allennlp) (3.2.5)\n",
            "Collecting jsonpickle\n",
            "  Downloading https://files.pythonhosted.org/packages/af/ca/4fee219cc4113a5635e348ad951cf8a2e47fed2e3342312493f5b73d0007/jsonpickle-1.4.1-py2.py3-none-any.whl\n",
            "Requirement already satisfied: tqdm>=4.19 in /usr/local/lib/python3.6/dist-packages (from allennlp) (4.41.1)\n",
            "Collecting jsonnet>=0.10.0; sys_platform != \"win32\"\n",
            "\u001b[?25l  Downloading https://files.pythonhosted.org/packages/86/70/ed1ba808a87d896b9f4d25400dda54e089ca7a97e87cee620b3744997c89/jsonnet-0.16.0.tar.gz (256kB)\n",
            "\u001b[K     |████████████████████████████████| 266kB 11.7MB/s \n",
            "\u001b[?25hCollecting tensorboardX>=1.2\n",
            "\u001b[?25l  Downloading https://files.pythonhosted.org/packages/af/0c/4f41bcd45db376e6fe5c619c01100e9b7531c55791b7244815bac6eac32c/tensorboardX-2.1-py2.py3-none-any.whl (308kB)\n",
            "\u001b[K     |████████████████████████████████| 317kB 12.7MB/s \n",
            "\u001b[?25hRequirement already satisfied: filelock<3.1,>=3.0 in /usr/local/lib/python3.6/dist-packages (from allennlp) (3.0.12)\n",
            "Collecting overrides==3.0.0\n",
            "  Downloading https://files.pythonhosted.org/packages/42/8d/caa729f809ecdf8e76fac3c1ff7d3f0b72c398c9dd8a6919927a30a873b3/overrides-3.0.0.tar.gz\n",
            "Requirement already satisfied: dataclasses; python_version < \"3.7\" in /usr/local/lib/python3.6/dist-packages (from allennlp) (0.7)\n",
            "Requirement already satisfied: scikit-learn in /usr/local/lib/python3.6/dist-packages (from allennlp) (0.22.2.post1)\n",
            "Requirement already satisfied: numpy in /usr/local/lib/python3.6/dist-packages (from allennlp) (1.18.5)\n",
            "Requirement already satisfied: h5py in /usr/local/lib/python3.6/dist-packages (from allennlp) (2.10.0)\n",
            "Collecting transformers<2.12,>=2.9\n",
            "\u001b[?25l  Downloading https://files.pythonhosted.org/packages/48/35/ad2c5b1b8f99feaaf9d7cdadaeef261f098c6e1a6a2935d4d07662a6b780/transformers-2.11.0-py3-none-any.whl (674kB)\n",
            "\u001b[K     |████████████████████████████████| 675kB 16.4MB/s \n",
            "\u001b[?25hRequirement already satisfied: spacy<2.3,>=2.1.0 in /usr/local/lib/python3.6/dist-packages (from allennlp) (2.2.4)\n",
            "Requirement already satisfied: scipy in /usr/local/lib/python3.6/dist-packages (from allennlp) (1.4.1)\n",
            "Requirement already satisfied: pytest in /usr/local/lib/python3.6/dist-packages (from allennlp) (3.6.4)\n",
            "Requirement already satisfied: future in /usr/local/lib/python3.6/dist-packages (from torch<1.6.0,>=1.5.0->allennlp) (0.16.0)\n",
            "Requirement already satisfied: s3transfer<0.4.0,>=0.3.0 in /usr/local/lib/python3.6/dist-packages (from boto3->allennlp) (0.3.3)\n",
            "Requirement already satisfied: botocore<1.18.0,>=1.17.24 in /usr/local/lib/python3.6/dist-packages (from boto3->allennlp) (1.17.24)\n",
            "Requirement already satisfied: jmespath<1.0.0,>=0.7.1 in /usr/local/lib/python3.6/dist-packages (from boto3->allennlp) (0.10.0)\n",
            "Requirement already satisfied: idna<3,>=2.5 in /usr/local/lib/python3.6/dist-packages (from requests>=2.18->allennlp) (2.10)\n",
            "Requirement already satisfied: certifi>=2017.4.17 in /usr/local/lib/python3.6/dist-packages (from requests>=2.18->allennlp) (2020.6.20)\n",
            "Requirement already satisfied: urllib3!=1.25.0,!=1.25.1,<1.26,>=1.21.1 in /usr/local/lib/python3.6/dist-packages (from requests>=2.18->allennlp) (1.24.3)\n",
            "Requirement already satisfied: chardet<4,>=3.0.2 in /usr/local/lib/python3.6/dist-packages (from requests>=2.18->allennlp) (3.0.4)\n",
            "Requirement already satisfied: six in /usr/local/lib/python3.6/dist-packages (from nltk->allennlp) (1.15.0)\n",
            "Requirement already satisfied: importlib-metadata in /usr/local/lib/python3.6/dist-packages (from jsonpickle->allennlp) (1.7.0)\n",
            "Requirement already satisfied: protobuf>=3.8.0 in /usr/local/lib/python3.6/dist-packages (from tensorboardX>=1.2->allennlp) (3.12.2)\n",
            "Requirement already satisfied: joblib>=0.11 in /usr/local/lib/python3.6/dist-packages (from scikit-learn->allennlp) (0.16.0)\n",
            "Requirement already satisfied: regex!=2019.12.17 in /usr/local/lib/python3.6/dist-packages (from transformers<2.12,>=2.9->allennlp) (2019.12.20)\n",
            "Collecting tokenizers==0.7.0\n",
            "\u001b[?25l  Downloading https://files.pythonhosted.org/packages/14/e5/a26eb4716523808bb0a799fcfdceb6ebf77a18169d9591b2f46a9adb87d9/tokenizers-0.7.0-cp36-cp36m-manylinux1_x86_64.whl (3.8MB)\n",
            "\u001b[K     |████████████████████████████████| 3.8MB 13.0MB/s \n",
            "\u001b[?25hCollecting sentencepiece\n",
            "\u001b[?25l  Downloading https://files.pythonhosted.org/packages/d4/a4/d0a884c4300004a78cca907a6ff9a5e9fe4f090f5d95ab341c53d28cbc58/sentencepiece-0.1.91-cp36-cp36m-manylinux1_x86_64.whl (1.1MB)\n",
            "\u001b[K     |████████████████████████████████| 1.1MB 41.6MB/s \n",
            "\u001b[?25hRequirement already satisfied: packaging in /usr/local/lib/python3.6/dist-packages (from transformers<2.12,>=2.9->allennlp) (20.4)\n",
            "Collecting sacremoses\n",
            "\u001b[?25l  Downloading https://files.pythonhosted.org/packages/7d/34/09d19aff26edcc8eb2a01bed8e98f13a1537005d31e95233fd48216eed10/sacremoses-0.0.43.tar.gz (883kB)\n",
            "\u001b[K     |████████████████████████████████| 890kB 40.1MB/s \n",
            "\u001b[?25hRequirement already satisfied: wasabi<1.1.0,>=0.4.0 in /usr/local/lib/python3.6/dist-packages (from spacy<2.3,>=2.1.0->allennlp) (0.7.1)\n",
            "Requirement already satisfied: thinc==7.4.0 in /usr/local/lib/python3.6/dist-packages (from spacy<2.3,>=2.1.0->allennlp) (7.4.0)\n",
            "Requirement already satisfied: srsly<1.1.0,>=1.0.2 in /usr/local/lib/python3.6/dist-packages (from spacy<2.3,>=2.1.0->allennlp) (1.0.2)\n",
            "Requirement already satisfied: setuptools in /usr/local/lib/python3.6/dist-packages (from spacy<2.3,>=2.1.0->allennlp) (49.1.0)\n",
            "Requirement already satisfied: blis<0.5.0,>=0.4.0 in /usr/local/lib/python3.6/dist-packages (from spacy<2.3,>=2.1.0->allennlp) (0.4.1)\n",
            "Requirement already satisfied: cymem<2.1.0,>=2.0.2 in /usr/local/lib/python3.6/dist-packages (from spacy<2.3,>=2.1.0->allennlp) (2.0.3)\n",
            "Requirement already satisfied: preshed<3.1.0,>=3.0.2 in /usr/local/lib/python3.6/dist-packages (from spacy<2.3,>=2.1.0->allennlp) (3.0.2)\n",
            "Requirement already satisfied: plac<1.2.0,>=0.9.6 in /usr/local/lib/python3.6/dist-packages (from spacy<2.3,>=2.1.0->allennlp) (1.1.3)\n",
            "Requirement already satisfied: catalogue<1.1.0,>=0.0.7 in /usr/local/lib/python3.6/dist-packages (from spacy<2.3,>=2.1.0->allennlp) (1.0.0)\n",
            "Requirement already satisfied: murmurhash<1.1.0,>=0.28.0 in /usr/local/lib/python3.6/dist-packages (from spacy<2.3,>=2.1.0->allennlp) (1.0.2)\n",
            "Requirement already satisfied: py>=1.5.0 in /usr/local/lib/python3.6/dist-packages (from pytest->allennlp) (1.9.0)\n",
            "Requirement already satisfied: pluggy<0.8,>=0.5 in /usr/local/lib/python3.6/dist-packages (from pytest->allennlp) (0.7.1)\n",
            "Requirement already satisfied: attrs>=17.4.0 in /usr/local/lib/python3.6/dist-packages (from pytest->allennlp) (19.3.0)\n",
            "Requirement already satisfied: atomicwrites>=1.0 in /usr/local/lib/python3.6/dist-packages (from pytest->allennlp) (1.4.0)\n",
            "Requirement already satisfied: more-itertools>=4.0.0 in /usr/local/lib/python3.6/dist-packages (from pytest->allennlp) (8.4.0)\n",
            "Requirement already satisfied: docutils<0.16,>=0.10 in /usr/local/lib/python3.6/dist-packages (from botocore<1.18.0,>=1.17.24->boto3->allennlp) (0.15.2)\n",
            "Requirement already satisfied: python-dateutil<3.0.0,>=2.1 in /usr/local/lib/python3.6/dist-packages (from botocore<1.18.0,>=1.17.24->boto3->allennlp) (2.8.1)\n",
            "Requirement already satisfied: zipp>=0.5 in /usr/local/lib/python3.6/dist-packages (from importlib-metadata->jsonpickle->allennlp) (3.1.0)\n",
            "Requirement already satisfied: pyparsing>=2.0.2 in /usr/local/lib/python3.6/dist-packages (from packaging->transformers<2.12,>=2.9->allennlp) (2.4.7)\n",
            "Requirement already satisfied: click in /usr/local/lib/python3.6/dist-packages (from sacremoses->transformers<2.12,>=2.9->allennlp) (7.1.2)\n",
            "Building wheels for collected packages: jsonnet, overrides, sacremoses\n",
            "  Building wheel for jsonnet (setup.py) ... \u001b[?25l\u001b[?25hdone\n",
            "  Created wheel for jsonnet: filename=jsonnet-0.16.0-cp36-cp36m-linux_x86_64.whl size=3321564 sha256=bc6376e460e65dabd185c5a4c2b71414d428857c871c934003499e6a6ec028f9\n",
            "  Stored in directory: /root/.cache/pip/wheels/64/a9/43/bc5e0463deeec89dfca928a2a64595f1bdb520c891f6fbd09c\n",
            "  Building wheel for overrides (setup.py) ... \u001b[?25l\u001b[?25hdone\n",
            "  Created wheel for overrides: filename=overrides-3.0.0-cp36-none-any.whl size=5669 sha256=df6c14cd885439f9838b0016e5ddfc1448e88c80be344b86febf8b51bac81223\n",
            "  Stored in directory: /root/.cache/pip/wheels/6f/1b/ec/6c71a1eb823df7f850d956b2d8c50a6d49c191e1063d73b9be\n",
            "  Building wheel for sacremoses (setup.py) ... \u001b[?25l\u001b[?25hdone\n",
            "  Created wheel for sacremoses: filename=sacremoses-0.0.43-cp36-none-any.whl size=893260 sha256=d6e10628e2b6aab3661a156a237e977041c759b507623a31d733b5a031d06a62\n",
            "  Stored in directory: /root/.cache/pip/wheels/29/3c/fd/7ce5c3f0666dab31a50123635e6fb5e19ceb42ce38d4e58f45\n",
            "Successfully built jsonnet overrides sacremoses\n",
            "Installing collected packages: jsonpickle, jsonnet, tensorboardX, overrides, tokenizers, sentencepiece, sacremoses, transformers, allennlp\n",
            "Successfully installed allennlp-1.0.0 jsonnet-0.16.0 jsonpickle-1.4.1 overrides-3.0.0 sacremoses-0.0.43 sentencepiece-0.1.91 tensorboardX-2.1 tokenizers-0.7.0 transformers-2.11.0\n"
          ],
          "name": "stdout"
        }
      ]
    },
    {
      "cell_type": "code",
      "metadata": {
        "id": "z1IAdC6kdmwd",
        "colab_type": "code",
        "colab": {}
      },
      "source": [
        "#import allennlp libraries\n",
        "from overrides import overrides\n",
        "from allennlp.data import DatasetReader, Instance, DataLoader, Vocabulary \n",
        "from allennlp.data.fields import  TextField, ArrayField #textfield and arrayfield\n",
        "from allennlp.data.fields.text_field import TextFieldTensors #change textfild to tensor\n",
        "from allennlp.data.tokenizers import Tokenizer, SpacyTokenizer, WhitespaceTokenizer #tokenizer\n",
        "from allennlp.data.token_indexers import TokenIndexer, SingleIdTokenIndexer #indexing\n",
        "from allennlp.data.samplers import BasicBatchSampler, BucketBatchSampler, RandomSampler #sampling\n",
        "from allennlp.modules import Seq2VecEncoder#encoder\n",
        "from allennlp.training.metrics import PearsonCorrelation#metric\n",
        "from allennlp.training.util import evaluate #evaluation\n",
        "from allennlp.nn.util import get_text_field_mask, move_to_device #masking and gpu\n",
        "from allennlp.nn import util# utilis\n",
        "from allennlp.models import Model # model\n",
        "from allennlp.predictors import Predictor# prediction\n",
        "\n",
        "#elmo modules\n",
        "from allennlp.modules.elmo import Elmo, batch_to_ids #elmo modules \n",
        "from allennlp.modules.text_field_embedders import BasicTextFieldEmbedder #textfield embedder\n",
        "from allennlp.modules.token_embedders import ElmoTokenEmbedder #Token embedder\n",
        "from allennlp.data.token_indexers.elmo_indexer import ELMoTokenCharactersIndexer #elmo characters\n",
        "\n",
        "#model training\n",
        "from allennlp.modules.seq2vec_encoders import Seq2VecEncoder, BagOfEmbeddingsEncoder, PytorchSeq2VecWrapper #encoder\n",
        "from allennlp.training.trainer import Trainer, GradientDescentTrainer #training\n",
        "from allennlp.training import TensorboardWriter #tensorboard\n",
        "from allennlp.training.optimizers import AdamOptimizer #optimizer\n",
        "from allennlp.common import JsonDict #metric store\n"
      ],
      "execution_count": 7,
      "outputs": []
    },
    {
      "cell_type": "markdown",
      "metadata": {
        "id": "ahtrlqrpvY2Q",
        "colab_type": "text"
      },
      "source": [
        "#Count tokens in Sequences\n",
        "Since we have to have equal length of every sequence in a batch, check the maximun token length in every sentences in all datasets. We will use this max length while preparing dataset. More details in 'Prepare dataset' section.\n",
        "\n",
        "Or, we may use the other best max-length. So that there is no risk of loss of much tokens while doing truncating and not require  much padding in the sequences."
      ]
    },
    {
      "cell_type": "code",
      "metadata": {
        "id": "hwUW7EIqvaCb",
        "colab_type": "code",
        "colab": {
          "base_uri": "https://localhost:8080/",
          "height": 187
        },
        "outputId": "9d2742df-d445-45a5-8242-4b5056dd2b9e"
      },
      "source": [
        "#counts tokens in sequences\n",
        "dataset_all = [df_train.sentence_1, df_train.sentence_2, df_dev.sentence_1, df_dev.sentence_2,df_test.sentence_1,df_test.sentence_2] #list of all dataset\n",
        "dataset_type_name = ['df_train.sentence_1', 'df_train.sentence_2', 'df_dev.sentence_1', 'df_dev.sentence_2', 'df_test.sentence_1', 'df_test.sentence_2'] #name of dataset\n",
        "\n",
        "max_len = 0 # tokens max count in overall datasets\n",
        "token_len_list = [] #store token counts for each dataset\n",
        "higest_token_len = {} # store higest token counts in each dataset\n",
        "\n",
        "\n",
        "#zip and iterate over all datasets\n",
        "for nam_data, each_dataset in zip(dataset_type_name, dataset_all):\n",
        "  token_len_dataset = [] #store each sequence count of each dataset\n",
        "  max_len_seq= 0 # max count of  sequence in each dataset \n",
        "\n",
        "  #iterate over sequences in each dataset\n",
        "  for sent in each_dataset:\n",
        "    tokenizer = SpacyTokenizer()# tokenizer\n",
        "    #tokenizer = WhitespaceTokenizer()# tokenizer\n",
        "    tokens = tokenizer.tokenize(sent) #tokenize\n",
        "    tokens_len = len(tokens) # count length\n",
        "    token_len_dataset.append(tokens_len) \n",
        "    \n",
        "    \n",
        "    # keep tracking the higest counts in each dataset\n",
        "    if tokens_len > max_len_seq:\n",
        "      max_len_seq = tokens_len\n",
        "    \n",
        "    #higest count overall dataset\n",
        "    if max_len_seq > max_len:\n",
        "      max_len = max_len_seq\n",
        "       \n",
        "  higest_token_len[nam_data] =  max_len_seq \n",
        "  token_len_list.append(token_len_dataset)\n",
        "\n",
        "print(\"Higest tokens number among 3 datasets: %s .\" % (max_len))\n",
        "print()\n",
        "print('Higest counts in each dataset:\\n')\n",
        "higest_token_len\n"
      ],
      "execution_count": 8,
      "outputs": [
        {
          "output_type": "stream",
          "text": [
            "Higest tokens number among 3 datasets: 137 .\n",
            "\n",
            "Higest counts in each dataset:\n",
            "\n"
          ],
          "name": "stdout"
        },
        {
          "output_type": "execute_result",
          "data": {
            "text/plain": [
              "{'df_dev.sentence_1': 39,\n",
              " 'df_dev.sentence_2': 37,\n",
              " 'df_test.sentence_1': 37,\n",
              " 'df_test.sentence_2': 34,\n",
              " 'df_train.sentence_1': 135,\n",
              " 'df_train.sentence_2': 137}"
            ]
          },
          "metadata": {
            "tags": []
          },
          "execution_count": 8
        }
      ]
    },
    {
      "cell_type": "code",
      "metadata": {
        "id": "udVMh6givdK8",
        "colab_type": "code",
        "colab": {}
      },
      "source": [
        ""
      ],
      "execution_count": null,
      "outputs": []
    },
    {
      "cell_type": "code",
      "metadata": {
        "id": "4yOwV_PK0PDH",
        "colab_type": "code",
        "colab": {
          "base_uri": "https://localhost:8080/",
          "height": 793
        },
        "outputId": "dd30067a-d127-4d32-a7d4-0cf8d013d2ac"
      },
      "source": [
        "#Plot the diagram to show the tokens' length distribution in dataset\n",
        "import seaborn as sns\n",
        "from matplotlib import pyplot as plt\n",
        "\n",
        "# data to plot\n",
        "data = token_len_list \n",
        "\n",
        "#creates subplots  with nrows=3, ncols=2\n",
        "fig, axes = plt.subplots(nrows=3, ncols=2, figsize=(12,11))\n",
        "sns.set(style='darkgrid') #set plot style\n",
        "\n",
        "#change 'axes' to 1d, zip and emumerate\n",
        "for i, (name, axe)  in enumerate(zip(dataset_type_name, axes.flatten())):\n",
        "  sns.distplot(token_len_list[i], axlabel ='Tokens Count', ax=axe) #distplot type\n",
        "  name = name + ': (tokens_max_count= '+ str(higest_token_len[name]) + ')' #title (for example: df_train.sentence_1:(max_count=70))\n",
        "  axe.set_title(name) #title for each suplots\n",
        "fig.tight_layout()#fit nicely\n",
        "plt.show()\n"
      ],
      "execution_count": 10,
      "outputs": [
        {
          "output_type": "display_data",
          "data": {
            "image/png": "[encoded data removed]",
            "text/plain": [
              "<Figure size 864x792 with 6 Axes>"
            ]
          },
          "metadata": {
            "tags": []
          }
        }
      ]
    },
    {
      "cell_type": "code",
      "metadata": {
        "id": "eh254IS4c1Px",
        "colab_type": "code",
        "colab": {}
      },
      "source": [
        ""
      ],
      "execution_count": null,
      "outputs": []
    },
    {
      "cell_type": "markdown",
      "metadata": {
        "id": "wlEva5jM1xRz",
        "colab_type": "text"
      },
      "source": [
        "#Prepare Dataset\n",
        "Allennlp frame requires their own type of dataset object  while modeling the algorithms. So, \n",
        "we prepare as per the requirement of it."
      ]
    },
    {
      "cell_type": "code",
      "metadata": {
        "id": "KOVX-ym-1vV2",
        "colab_type": "code",
        "colab": {}
      },
      "source": [
        "#dataset reader class\n",
        "class SemanticTextDataReader(DatasetReader):\n",
        "  '''' Read the dataset and return allennlp instance of  each data '''\n",
        "  def __init__(self, \n",
        "               lazy: bool = False, \n",
        "               tokenizer = None, \n",
        "               token_indexers: Dict[str, TokenIndexer] = None, \n",
        "               max_tokens: int = None\n",
        "               ):\n",
        "    super().__init__(lazy)\n",
        "    self.tokenizer = tokenizer or WhitespaceTokenizer() #tokenizer\n",
        "    self.token_indexers = token_indexers or {'tokens': SingleIdTokenIndexer()} #token indexer\n",
        "    self.max_tokens = max_tokens #set max_tokens for padding or truncating\n",
        "    \n",
        "\n",
        "  #convert given text into instance\n",
        "  @overrides\n",
        "  def text_to_instance(self, sent_1: str, sent_2: str, gold_score: float = None) -> Instance:\n",
        "    ''' Return given sequence into allennlp Instance '''\n",
        "    \n",
        "    #tokenize text\n",
        "    token_1 = self.tokenizer.tokenize(sent_1) #first sent\n",
        "    token_2 = self.tokenizer.tokenize(sent_2) #second sent\n",
        "    \n",
        "    #tokens upto max token-size\n",
        "    if self.max_tokens:\n",
        "            token_1 = token_1[:self.max_tokens]\n",
        "            token_2 = token_2[:self.max_tokens]\n",
        "    \n",
        "    #Textfield\n",
        "    text_field_1 = TextField(token_1, self.token_indexers) \n",
        "    text_field_2 = TextField(token_2, self.token_indexers)\n",
        "\n",
        "    #fields contain 'Textfield' and 'LabelField'\n",
        "    fields = {'first_sent': text_field_1, 'second_sent': text_field_2 } \n",
        "    \n",
        "    #check score/label is given or not\n",
        "    if gold_score is not None:\n",
        "      fields['score'] = ArrayField(np.array([gold_score])) # labelfield\n",
        "   \n",
        "    return Instance(fields) #instance with inputs and outputs fields \n",
        "\n",
        "    \n",
        "  #Read dataset and convert them to Iterable Instance\n",
        "  @overrides\n",
        "  def _read(self, file_path: str) -> Iterable[Instance]:\n",
        "    ''' Read dataset and process them '''\n",
        "    \n",
        "    #read data with pandas\n",
        "    df = pd.read_csv(file_path, \n",
        "              delimiter=',' , \n",
        "              header= None,\n",
        "              names= col_names\n",
        "              )\n",
        "    \n",
        "    #scale down gold-score(0-5) to (0-1) since cosine-simialrity score(0-1)\n",
        "    df['scaled_score(0-1)'] = MinMaxScaler(feature_range=(0,1)).fit_transform(df[['score(0-5)']])\n",
        "    print('Data reading started .....')\n",
        "    \n",
        "    \n",
        "    #iterate over rows in df\n",
        "    for index, row in df.iterrows():\n",
        "      sent_1 = row['sentence_1']#first sent\n",
        "      sent_2 = row['sentence_2']#second sent\n",
        "      gold_score = row['scaled_score(0-1)']#score\n",
        "      yield self.text_to_instance(sent_1, sent_2, gold_score) #iterable\n",
        "\n",
        "    print('...... Completed.')\n",
        "    print()\n",
        "  \n",
        "    "
      ],
      "execution_count": 11,
      "outputs": []
    },
    {
      "cell_type": "code",
      "metadata": {
        "id": "fzJXUvFQ2zep",
        "colab_type": "code",
        "colab": {
          "base_uri": "https://localhost:8080/",
          "height": 292
        },
        "outputId": "9486a6a6-c707-46d7-aacd-c87787b4d279"
      },
      "source": [
        "#Read dataset\n",
        "file_path = \"/content/drive/My Drive/Google_Colab/stsbenchmark_dataset/\" #file path\n",
        "dataset_types = [ \"sts-train.csv\", \"sts-dev.csv\", \"sts-test.csv\",] # 3 datasets\n",
        "col_names = [\"genre\", \"file\", \"years\", \"_\", \"score(0-5)\", \"sentence_1\", \"sentence_2\"] #columns names\n",
        "max_tokens = [137, 39, 37] #max-tokens for each dataset\n",
        "\n",
        "text_tokenizer = SpacyTokenizer() #tokenizer\n",
        "elmo_indexer = ELMoTokenCharactersIndexer() #Elmocharacter Indexer\n",
        "\n",
        "dataset_instances = {}\n",
        "\n",
        "#use max-token length based on data\n",
        "for i ,x in enumerate(dataset_types):\n",
        "  if x == dataset_types[i]:\n",
        "    max_token = max_tokens[i]\n",
        "    dataset_reader = SemanticTextDataReader(tokenizer= text_tokenizer,  token_indexers={'elmo_tokens': elmo_indexer}, max_tokens=max_token) #initia datareader\n",
        "    instances = dataset_reader.read(os.path.join(file_path, dataset_types[i]))\n",
        "    dataset_instances[x]  = instances\n",
        "  \n",
        "import pprint\n",
        "pprint.pprint(dataset_instances)"
      ],
      "execution_count": 12,
      "outputs": [
        {
          "output_type": "stream",
          "text": [
            "392it [00:00, 1765.27it/s]"
          ],
          "name": "stderr"
        },
        {
          "output_type": "stream",
          "text": [
            "Data reading started .....\n"
          ],
          "name": "stdout"
        },
        {
          "output_type": "stream",
          "text": [
            "5749it [00:03, 1565.34it/s]\n",
            "164it [00:00, 1636.46it/s]"
          ],
          "name": "stderr"
        },
        {
          "output_type": "stream",
          "text": [
            "...... Completed.\n",
            "\n",
            "Data reading started .....\n"
          ],
          "name": "stdout"
        },
        {
          "output_type": "stream",
          "text": [
            "1500it [00:01, 1351.80it/s]\n",
            "180it [00:00, 1798.51it/s]"
          ],
          "name": "stderr"
        },
        {
          "output_type": "stream",
          "text": [
            "...... Completed.\n",
            "\n",
            "Data reading started .....\n"
          ],
          "name": "stdout"
        },
        {
          "output_type": "stream",
          "text": [
            "1379it [00:01, 1221.63it/s]"
          ],
          "name": "stderr"
        },
        {
          "output_type": "stream",
          "text": [
            "...... Completed.\n",
            "\n",
            "{'sts-dev.csv': <allennlp.data.dataset_readers.dataset_reader.AllennlpDataset object at 0x7fcb97f2bc88>,\n",
            " 'sts-test.csv': <allennlp.data.dataset_readers.dataset_reader.AllennlpDataset object at 0x7fcc4bfbca90>,\n",
            " 'sts-train.csv': <allennlp.data.dataset_readers.dataset_reader.AllennlpDataset object at 0x7fcb97e9d9b0>}\n"
          ],
          "name": "stdout"
        },
        {
          "output_type": "stream",
          "text": [
            "\n"
          ],
          "name": "stderr"
        }
      ]
    },
    {
      "cell_type": "code",
      "metadata": {
        "id": "k8MrA2wKoOlz",
        "colab_type": "code",
        "colab": {
          "base_uri": "https://localhost:8080/",
          "height": 170
        },
        "outputId": "7855616d-1316-4953-d09d-387621b70025"
      },
      "source": [
        "#check the dataset instances\n",
        "for x in dataset_instances['sts-train.csv']:\n",
        "  print(x)\n",
        "  break"
      ],
      "execution_count": 13,
      "outputs": [
        {
          "output_type": "stream",
          "text": [
            "Instance with fields:\n",
            " \t first_sent: TextField of length 6 with text: \n",
            " \t\t[A, plane, is, taking, off, .]\n",
            " \t\tand TokenIndexers : {'elmo_tokens': 'ELMoTokenCharactersIndexer'} \n",
            " \t second_sent: TextField of length 7 with text: \n",
            " \t\t[An, air, plane, is, taking, off, .]\n",
            " \t\tand TokenIndexers : {'elmo_tokens': 'ELMoTokenCharactersIndexer'} \n",
            " \t score: ArrayField with shape: (1,) and dtype: <class 'numpy.float32'>. \n",
            "\n"
          ],
          "name": "stdout"
        }
      ]
    },
    {
      "cell_type": "code",
      "metadata": {
        "id": "YHsg8zKGkgGh",
        "colab_type": "code",
        "colab": {}
      },
      "source": [
        ""
      ],
      "execution_count": null,
      "outputs": []
    },
    {
      "cell_type": "markdown",
      "metadata": {
        "id": "L2E6cSkQBjNk",
        "colab_type": "text"
      },
      "source": [
        "#Prepare Vocabulary and DataLoader\n",
        "Eventhough we don't have to make new vocabulary here, we have to create vocab object and have to do indexing to all the dataset instances. So, each token/character get certain index(integer value) according to ELMO pretrained model. Allenlp Dataloader handles instances to convert into batch to token ids."
      ]
    },
    {
      "cell_type": "code",
      "metadata": {
        "id": "HztJShABBl12",
        "colab_type": "code",
        "colab": {}
      },
      "source": [
        "#initiate vocabulary \n",
        "vocab = Vocabulary() \n",
        "dataset_instances['sts-train.csv'].index_with(vocab) #token indexing \n",
        "dataset_instances['sts-dev.csv'].index_with(vocab)\n",
        "dataset_instances['sts-test.csv'].index_with(vocab)\n",
        "\n",
        "#random sample and batch train data\n",
        "sampler_tr = RandomSampler(data_source=dataset_instances['sts-train.csv']) \n",
        "batch_sampler_tr = BasicBatchSampler(sampler_tr, batch_size=32, drop_last=False) \n",
        "train_data_loader = DataLoader(dataset_instances['sts-train.csv'], batch_sampler=batch_sampler_tr)\n",
        "\n",
        "#batch dev data\n",
        "dev_data_loader = DataLoader(dataset_instances['sts-dev.csv'], batch_size=32,)\n",
        "\n",
        "#batch test data\n",
        "test_data_loader = DataLoader(dataset_instances['sts-test.csv'], batch_size=32,) \n",
        "\n"
      ],
      "execution_count": 14,
      "outputs": []
    },
    {
      "cell_type": "code",
      "metadata": {
        "id": "SOEz12AaB-L7",
        "colab_type": "code",
        "colab": {
          "base_uri": "https://localhost:8080/",
          "height": 1000
        },
        "outputId": "0e0244b5-c1fe-411b-e01d-3ab97da415d3"
      },
      "source": [
        "#check train dataloader \n",
        "batch = next(iter(train_data_loader))\n",
        "batch"
      ],
      "execution_count": 15,
      "outputs": [
        {
          "output_type": "execute_result",
          "data": {
            "text/plain": [
              "{'first_sent': {'elmo_tokens': {'elmo_tokens': tensor([[[259,  67, 118,  ..., 261, 261, 261],\n",
              "            [259, 116, 112,  ..., 261, 261, 261],\n",
              "            [259, 109, 106,  ..., 261, 261, 261],\n",
              "            ...,\n",
              "            [  0,   0,   0,  ...,   0,   0,   0],\n",
              "            [  0,   0,   0,  ...,   0,   0,   0],\n",
              "            [  0,   0,   0,  ...,   0,   0,   0]],\n",
              "   \n",
              "           [[259,  66, 260,  ..., 261, 261, 261],\n",
              "            [259, 100, 115,  ..., 261, 261, 261],\n",
              "            [259, 109, 106,  ..., 261, 261, 261],\n",
              "            ...,\n",
              "            [  0,   0,   0,  ...,   0,   0,   0],\n",
              "            [  0,   0,   0,  ...,   0,   0,   0],\n",
              "            [  0,   0,   0,  ...,   0,   0,   0]],\n",
              "   \n",
              "           [[259,  73, 112,  ..., 261, 261, 261],\n",
              "            [259,  98,  99,  ..., 261, 261, 261],\n",
              "            [259, 116, 112,  ..., 261, 261, 261],\n",
              "            ...,\n",
              "            [  0,   0,   0,  ...,   0,   0,   0],\n",
              "            [  0,   0,   0,  ...,   0,   0,   0],\n",
              "            [  0,   0,   0,  ...,   0,   0,   0]],\n",
              "   \n",
              "           ...,\n",
              "   \n",
              "           [[259,  81, 105,  ..., 261, 261, 261],\n",
              "            [259,  99, 102,  ..., 261, 261, 261],\n",
              "            [259, 108, 106,  ..., 261, 261, 261],\n",
              "            ...,\n",
              "            [  0,   0,   0,  ...,   0,   0,   0],\n",
              "            [  0,   0,   0,  ...,   0,   0,   0],\n",
              "            [  0,   0,   0,  ...,   0,   0,   0]],\n",
              "   \n",
              "           [[259,  66, 105,  ..., 261, 261, 261],\n",
              "            [259, 105,  98,  ..., 261, 261, 261],\n",
              "            [259,  45, 260,  ..., 261, 261, 261],\n",
              "            ...,\n",
              "            [  0,   0,   0,  ...,   0,   0,   0],\n",
              "            [  0,   0,   0,  ...,   0,   0,   0],\n",
              "            [  0,   0,   0,  ...,   0,   0,   0]],\n",
              "   \n",
              "           [[259,  80,  99,  ..., 261, 261, 261],\n",
              "            [259, 115, 102,  ..., 261, 261, 261],\n",
              "            [259, 101, 102,  ..., 261, 261, 261],\n",
              "            ...,\n",
              "            [  0,   0,   0,  ...,   0,   0,   0],\n",
              "            [  0,   0,   0,  ...,   0,   0,   0],\n",
              "            [  0,   0,   0,  ...,   0,   0,   0]]])}},\n",
              " 'score': tensor([[1.0000],\n",
              "         [0.6400],\n",
              "         [0.6000],\n",
              "         [0.3600],\n",
              "         [0.0000],\n",
              "         [1.0000],\n",
              "         [0.0000],\n",
              "         [0.8000],\n",
              "         [0.7200],\n",
              "         [0.0400],\n",
              "         [0.2000],\n",
              "         [0.0000],\n",
              "         [0.5200],\n",
              "         [0.8000],\n",
              "         [0.7600],\n",
              "         [0.9600],\n",
              "         [0.8000],\n",
              "         [0.0800],\n",
              "         [0.3600],\n",
              "         [0.2400],\n",
              "         [0.0000],\n",
              "         [0.4000],\n",
              "         [0.9600],\n",
              "         [0.0400],\n",
              "         [0.2000],\n",
              "         [0.7500],\n",
              "         [0.9000],\n",
              "         [0.3000],\n",
              "         [0.9200],\n",
              "         [0.8000],\n",
              "         [0.9000],\n",
              "         [0.8000]]),\n",
              " 'second_sent': {'elmo_tokens': {'elmo_tokens': tensor([[[259,  77, 106,  ..., 261, 261, 261],\n",
              "            [259, 116,  98,  ..., 261, 261, 261],\n",
              "            [259,  45, 260,  ..., 261, 261, 261],\n",
              "            ...,\n",
              "            [  0,   0,   0,  ...,   0,   0,   0],\n",
              "            [  0,   0,   0,  ...,   0,   0,   0],\n",
              "            [  0,   0,   0,  ...,   0,   0,   0]],\n",
              "   \n",
              "           [[259,  66, 260,  ..., 261, 261, 261],\n",
              "            [259, 100, 115,  ..., 261, 261, 261],\n",
              "            [259, 116, 105,  ..., 261, 261, 261],\n",
              "            ...,\n",
              "            [  0,   0,   0,  ...,   0,   0,   0],\n",
              "            [  0,   0,   0,  ...,   0,   0,   0],\n",
              "            [  0,   0,   0,  ...,   0,   0,   0]],\n",
              "   \n",
              "           [[259,  66, 109,  ..., 261, 261, 261],\n",
              "            [259,  45, 260,  ..., 261, 261, 261],\n",
              "            [259, 120, 105,  ..., 261, 261, 261],\n",
              "            ...,\n",
              "            [  0,   0,   0,  ...,   0,   0,   0],\n",
              "            [  0,   0,   0,  ...,   0,   0,   0],\n",
              "            [  0,   0,   0,  ...,   0,   0,   0]],\n",
              "   \n",
              "           ...,\n",
              "   \n",
              "           [[259,  81, 105,  ..., 261, 261, 261],\n",
              "            [259,  98, 116,  ..., 261, 261, 261],\n",
              "            [259, 117, 105,  ..., 261, 261, 261],\n",
              "            ...,\n",
              "            [  0,   0,   0,  ...,   0,   0,   0],\n",
              "            [  0,   0,   0,  ...,   0,   0,   0],\n",
              "            [  0,   0,   0,  ...,   0,   0,   0]],\n",
              "   \n",
              "           [[259,  73,  98,  ..., 261, 261, 261],\n",
              "            [259,  45, 260,  ..., 261, 261, 261],\n",
              "            [259, 105,  98,  ..., 261, 261, 261],\n",
              "            ...,\n",
              "            [  0,   0,   0,  ...,   0,   0,   0],\n",
              "            [  0,   0,   0,  ...,   0,   0,   0],\n",
              "            [  0,   0,   0,  ...,   0,   0,   0]],\n",
              "   \n",
              "           [[259,  86,  47,  ..., 261, 261, 261],\n",
              "            [259, 115, 102,  ..., 261, 261, 261],\n",
              "            [259, 101, 102,  ..., 261, 261, 261],\n",
              "            ...,\n",
              "            [  0,   0,   0,  ...,   0,   0,   0],\n",
              "            [  0,   0,   0,  ...,   0,   0,   0],\n",
              "            [  0,   0,   0,  ...,   0,   0,   0]]])}}}"
            ]
          },
          "metadata": {
            "tags": []
          },
          "execution_count": 15
        }
      ]
    },
    {
      "cell_type": "code",
      "metadata": {
        "id": "3oobyFOSCAJc",
        "colab_type": "code",
        "colab": {}
      },
      "source": [
        ""
      ],
      "execution_count": null,
      "outputs": []
    },
    {
      "cell_type": "code",
      "metadata": {
        "id": "HI3E7btXDbKT",
        "colab_type": "code",
        "colab": {}
      },
      "source": [
        ""
      ],
      "execution_count": null,
      "outputs": []
    },
    {
      "cell_type": "markdown",
      "metadata": {
        "id": "E7ALUhpHDcIN",
        "colab_type": "text"
      },
      "source": [
        "# ElMo CharacterTokenizer"
      ]
    },
    {
      "cell_type": "markdown",
      "metadata": {
        "id": "ZtRQ4oCnCWvt",
        "colab_type": "text"
      },
      "source": [
        "In ELMo, as like other  pretained model, the sequence is tokenized. And, the tokenized token is further splited into characters  with of 50 dimensions."
      ]
    },
    {
      "cell_type": "code",
      "metadata": {
        "id": "_pkQiMqICP8m",
        "colab_type": "code",
        "colab": {
          "base_uri": "https://localhost:8080/",
          "height": 187
        },
        "outputId": "0812975d-100d-4224-cac8-96ddf0d1e003"
      },
      "source": [
        "#a single batch contains collection of tokens and  single token is ocnverted into array of  character ids of 50 size\n",
        "print('Batch shape :', batch['first_sent']['elmo_tokens']['elmo_tokens'].shape) #(batch size, token length, char dim)\n",
        "print()\n",
        "print('tokens in a sequence: ')\n",
        "batch['first_sent']['elmo_tokens']['elmo_tokens'][0]"
      ],
      "execution_count": null,
      "outputs": [
        {
          "output_type": "stream",
          "text": [
            "Batch shape : torch.Size([32, 31, 50])\n",
            "\n",
            "tokens in a sequence: \n"
          ],
          "name": "stdout"
        },
        {
          "output_type": "execute_result",
          "data": {
            "text/plain": [
              "tensor([[259,  66, 260,  ..., 261, 261, 261],\n",
              "        [259, 110,  98,  ..., 261, 261, 261],\n",
              "        [259, 106, 116,  ..., 261, 261, 261],\n",
              "        ...,\n",
              "        [  0,   0,   0,  ...,   0,   0,   0],\n",
              "        [  0,   0,   0,  ...,   0,   0,   0],\n",
              "        [  0,   0,   0,  ...,   0,   0,   0]])"
            ]
          },
          "metadata": {
            "tags": []
          },
          "execution_count": 12
        }
      ]
    },
    {
      "cell_type": "code",
      "metadata": {
        "id": "gLg-72Bet2MD",
        "colab_type": "code",
        "colab": {}
      },
      "source": [
        ""
      ],
      "execution_count": null,
      "outputs": []
    },
    {
      "cell_type": "markdown",
      "metadata": {
        "id": "OyIx1Ymyt5Cb",
        "colab_type": "text"
      },
      "source": [
        "#Part-1 ELMo Embedding Extraction\n",
        "Extract sentence level embedding is extracted with mean pooling over tokens in a sentence. The original elmo model is used  and the cosine similarity between a pair of sentence is calculated.  And, finally the pearson and spearman correlation score is computed between the gold-score and computed cosine similarity.\n",
        "\n"
      ]
    },
    {
      "cell_type": "code",
      "metadata": {
        "id": "4b2kjD8Vk6Xv",
        "colab_type": "code",
        "colab": {
          "base_uri": "https://localhost:8080/",
          "height": 51
        },
        "outputId": "cff5d30e-7193-4f83-a85c-0a45e0e761a6"
      },
      "source": [
        "weight_file = 'https://s3-us-west-2.amazonaws.com/allennlp/models/elmo/2x4096_512_2048cnn_2xhighway/elmo_2x4096_512_2048cnn_2xhighway_weights.hdf5'\n",
        "options_file = 'https://s3-us-west-2.amazonaws.com/allennlp/models/elmo/2x4096_512_2048cnn_2xhighway/elmo_2x4096_512_2048cnn_2xhighway_options.json'\n",
        " \n",
        "#Two ways  ELMo representation can be computated in Allennlp\n",
        "# 1. ElmoTokenEmbeder \n",
        "elmo_embedding = ElmoTokenEmbedder(options_file = options_file, weight_file = weight_file, requires_grad = False)\n",
        "word_embedding = BasicTextFieldEmbedder({\"elmo_tokens\": elmo_embedding}) \n",
        "\n",
        "#2.direclty Elmo module\n",
        "elmo_embedder = Elmo(options_file, \n",
        "                     weight_file,\n",
        "                     num_output_representations =1,\n",
        "                     requires_grad = False,\n",
        "                     ) "
      ],
      "execution_count": null,
      "outputs": [
        {
          "output_type": "stream",
          "text": [
            "100%|██████████| 336/336 [00:00<00:00, 633387.03B/s]\n",
            "100%|██████████| 374434792/374434792 [00:23<00:00, 16012614.08B/s]\n"
          ],
          "name": "stderr"
        }
      ]
    },
    {
      "cell_type": "code",
      "metadata": {
        "id": "qhqQvsIHtqMb",
        "colab_type": "code",
        "colab": {}
      },
      "source": [
        ""
      ],
      "execution_count": null,
      "outputs": []
    },
    {
      "cell_type": "code",
      "metadata": {
        "id": "FLTYc79Ew-4l",
        "colab_type": "code",
        "colab": {}
      },
      "source": [
        "#data loader\n",
        "#extract embedding, calcuate pearson and spearman correlation\n",
        "def batch_elmo_embedder(dataset: DataLoader, elmo_embedder: BasicTextFieldEmbedder, cos:nn.CosineSimilarity):\n",
        "  pear_score_list = [] #pearson score\n",
        "  sperman_score_list = [] # sperman score \n",
        "\n",
        "  #iterate over each batchs\n",
        "  for batch in dataset:\n",
        "    \n",
        "    #first sentence\n",
        "    elmo_embeding_1 = elmo_embedder(batch['first_sent']['elmo_tokens']['elmo_tokens']) #return token embeding and mask\n",
        "    token_level_embedding_1 = elmo_embeding_1['elmo_representations'][0] # token embedding\n",
        "    sent_level_embedding_1 = token_level_embedding_1.mean(dim=1) # tokens mean pooling\n",
        "    \n",
        "\n",
        "    #second sentence\n",
        "    elmo_embeding_2 = elmo_embedder(batch['second_sent']['elmo_tokens']['elmo_tokens']) #return token embeding and mask\n",
        "    token_level_embedding_2 = elmo_embeding_2['elmo_representations'][0] # token embedding\n",
        "    sent_level_embedding_2 = token_level_embedding_2.mean(dim=1) # tokens mean pooling\n",
        "    \n",
        "    #gold score\n",
        "    score = batch['score']\n",
        "    score = score.flatten() # 1d\n",
        "    \n",
        "    #calculate cosine similarity between a pair of sentences\n",
        "    cosine_sim = cos(sent_level_embedding_1, sent_level_embedding_2)\n",
        "    cosine_sim = cosine_sim.flatten().detach() #numpy\n",
        " \n",
        "    #calcualte Pearson score\n",
        "    person_score, _ = pearsonr(score, cosine_sim) \n",
        "    pear_score_list.append(person_score)\n",
        "  \n",
        "    #calcualte Spearman score\n",
        "    sperman_score, _ = spearmanr(score, cosine_sim) \n",
        "    sperman_score_list.append(sperman_score)\n",
        "  \n",
        "  return np.mean(pear_score_list), np.mean(sperman_score_list)\n",
        "\n",
        "    "
      ],
      "execution_count": null,
      "outputs": []
    },
    {
      "cell_type": "code",
      "metadata": {
        "id": "6hokNQor_VB4",
        "colab_type": "code",
        "colab": {
          "base_uri": "https://localhost:8080/",
          "height": 34
        },
        "outputId": "f48d4e13-5107-4781-8427-48ba99c4db22"
      },
      "source": [
        "#compute pearsons and spearman\n",
        "cos = nn.CosineSimilarity(dim=1, eps=1e-6)\n",
        "batch_elmo_embedder(test_data_loader, elmo_embedder, cos)"
      ],
      "execution_count": null,
      "outputs": [
        {
          "output_type": "execute_result",
          "data": {
            "text/plain": [
              "(0.4216247397002849, 0.39283990917588335)"
            ]
          },
          "metadata": {
            "tags": []
          },
          "execution_count": 21
        }
      ]
    },
    {
      "cell_type": "code",
      "metadata": {
        "id": "dFMsdaFyFo39",
        "colab_type": "code",
        "colab": {}
      },
      "source": [
        ""
      ],
      "execution_count": null,
      "outputs": []
    },
    {
      "cell_type": "code",
      "metadata": {
        "id": "xPaJB8jNurLl",
        "colab_type": "code",
        "colab": {}
      },
      "source": [
        "#extract elmo embedding from list of string\n",
        "def elmo_feature_embedding(data: List[str], \n",
        "                           elmo_embedder: BasicTextFieldEmbedder,\n",
        "                           tokenizer: Tokenizer, \n",
        "                           token_indexer: ELMoTokenCharactersIndexer, \n",
        "                           vocab: Vocabulary\n",
        "                           ):\n",
        "  '''\n",
        "  Extract elmo embedding of given sequence.\n",
        "\n",
        "    Args:\n",
        "      data(list): list of strings/sequences\n",
        "      elmo_embedder: allennlp elmo TextField embedder object\n",
        "      tokenizer: allennlp SpacyTokenizer object\n",
        "      token_indexer: allennlp ELMoTokenCharactersIndexer object\n",
        "      vocab: allennlp vocabualry object\n",
        "\n",
        "    Returns:\n",
        "       Sentence embedding(2d) of 1024 dimensions\n",
        "  \n",
        "  '''\n",
        "\n",
        "  #empty array to store elmo embedding vectors\n",
        "  sent_embedded = np.empty((0, elmo_embedder.get_output_dim())) # size(,1024) \n",
        "  \n",
        "  #iterate over sequence \n",
        "  for sequence in data:\n",
        "    tokens = tokenizer.tokenize(sequence) # tokenize sequence\n",
        "    text_field = TextField(tokens, {'elmo_tokens': token_indexer}) #tokens to ELMoTokenCharactersIndexer\n",
        "    text_field.index(vocab) #character_ids based on vocab\n",
        "    padding_lengths = text_field.get_padding_lengths() # get tokens length\n",
        "    tensor_dict = text_field.as_tensor(padding_lengths) #change to TextFieldTensors\n",
        "    batch_tensor_dict = text_field.batch_tensors([tensor_dict]) # batch_tensor\n",
        "    elmo_embedded = elmo_embedder(batch_tensor_dict)# get token embedding\n",
        "    mean_tokens_embed = elmo_embedded.mean(dim=1)# mean pooling over tokens\n",
        "    sent_embedded = np.append(sent_embedded, mean_tokens_embed.detach(), axis=0) # append vertically\n",
        "    \n",
        "  return sent_embedded\n",
        "  \n"
      ],
      "execution_count": null,
      "outputs": []
    },
    {
      "cell_type": "code",
      "metadata": {
        "id": "Rokj7D-g6VDr",
        "colab_type": "code",
        "colab": {}
      },
      "source": [
        "#function to calculate similarity score \n",
        "def calc_similarity_score(embed_1, embed_2):\n",
        "\n",
        "  \"\"\"\n",
        "  Calcualte cosine simialrity between a pair of sentences.\n",
        "  \n",
        "    Args:\n",
        "      embed_1(numpy array): first sentence embedding\n",
        "      embed_2(numpy array): second sentence embedding\n",
        "\n",
        "    Return:\n",
        "      scaled_cosine_score(list) : cosine score between embed_1 \n",
        "      and embed_2 with range (0,5)\n",
        "  \"\"\"\n",
        "  \n",
        "  #collect similarity score\n",
        "  cosine_sim_score = []\n",
        "  \n",
        "  for x,y in zip(embed_1, embed_2):\n",
        "\n",
        "    distance = cosine(x, y) # cosine distance\n",
        "    cosine_sim = 1 - distance # cosine similarity\n",
        "    cosine_sim_score.append(cosine_sim) \n",
        "\n",
        "  #scaled the similarity score to (0,5)\n",
        "  scaler = MinMaxScaler(feature_range=(0,5)) # initiate minmaxscaler\n",
        "  scaled_cosine_score = scaler.fit_transform(np.transpose([cosine_sim_score])) #scaled to (0,5)\n",
        "  \n",
        "  return scaled_cosine_score.round(3)\n",
        "  "
      ],
      "execution_count": null,
      "outputs": []
    },
    {
      "cell_type": "code",
      "metadata": {
        "id": "1DpMNaMK7KRQ",
        "colab_type": "code",
        "colab": {}
      },
      "source": [
        "#calculate pearson and spearman correlation\n",
        "def cal_pearson_spearman_score(x, y):\n",
        "  '''\n",
        "  Calculate Pearson and Spearman correlation between x, y.\n",
        "  Agrs:\n",
        "    x: array_like\n",
        "    y: array_like\n",
        "\n",
        "  Returns:\n",
        "    Pearson and Spearman score\n",
        "  '''\n",
        "\n",
        "  pearson_score, _ = pearsonr(x, y)#pearson score\n",
        "  sperman_score, _ = spearmanr(x, y)#spearman score\n",
        "\n",
        "  return pearson_score , sperman_score\n",
        "\n"
      ],
      "execution_count": null,
      "outputs": []
    },
    {
      "cell_type": "code",
      "metadata": {
        "id": "oMc8Dbg2fLbe",
        "colab_type": "code",
        "colab": {}
      },
      "source": [
        ""
      ],
      "execution_count": null,
      "outputs": []
    },
    {
      "cell_type": "code",
      "metadata": {
        "id": "7FT-J-9IusW_",
        "colab_type": "code",
        "colab": {}
      },
      "source": [
        "#initiate necessary class object\n",
        "text_tokenizer = SpacyTokenizer() #tokenizer\n",
        "elmo_indexer = ELMoTokenCharactersIndexer() #character Indexer\n",
        "#vocab = Vocabulary()# initiate vocab\n",
        "\n",
        "elmo_token_embedder = ElmoTokenEmbedder(options_file, weight_file) #elmo token embedder\n",
        "elmo_textfield_embedder = BasicTextFieldEmbedder({\"elmo_tokens\": elmo_token_embedder}) #textfield embedder"
      ],
      "execution_count": null,
      "outputs": []
    },
    {
      "cell_type": "code",
      "metadata": {
        "id": "PKsqXqz9u5Px",
        "colab_type": "code",
        "colab": {
          "base_uri": "https://localhost:8080/",
          "height": 51
        },
        "outputId": "00598234-e3a1-4239-dbbd-0e6348237fd4"
      },
      "source": [
        "%%time\n",
        "#extract embedding\n",
        "dev_first_sent_emlo_embeded = elmo_feature_embedding(df_dev.sentence_1.values.tolist(), elmo_textfield_embedder, text_tokenizer, elmo_indexer, vocab )\n",
        "dev_second_sent_emlo_embeded = elmo_feature_embedding(df_dev.sentence_2.values.tolist(), elmo_textfield_embedder, text_tokenizer, elmo_indexer, vocab )\n",
        "test_first_sent_emlo_embeded = elmo_feature_embedding(df_test.sentence_1.values.tolist(), elmo_textfield_embedder, text_tokenizer, elmo_indexer, vocab )\n",
        "test_second_sent_emlo_embeded = elmo_feature_embedding(df_test.sentence_2.values.tolist(), elmo_textfield_embedder, text_tokenizer, elmo_indexer, vocab )\n"
      ],
      "execution_count": null,
      "outputs": [
        {
          "output_type": "stream",
          "text": [
            "CPU times: user 59min 48s, sys: 2.67 s, total: 59min 51s\n",
            "Wall time: 1h\n"
          ],
          "name": "stdout"
        }
      ]
    },
    {
      "cell_type": "code",
      "metadata": {
        "id": "Wbz6DqF8vG9U",
        "colab_type": "code",
        "colab": {
          "base_uri": "https://localhost:8080/",
          "height": 51
        },
        "outputId": "966f6b90-7526-44a8-fae8-40ac256f9901"
      },
      "source": [
        "a=cos(torch.from_numpy(dev_first_sent_emlo_embeded), torch.from_numpy(dev_second_sent_emlo_embeded))\n",
        "a.numpy()"
      ],
      "execution_count": null,
      "outputs": [
        {
          "output_type": "execute_result",
          "data": {
            "text/plain": [
              "array([0.66594839, 0.68869909, 0.72214178, ..., 0.36107587, 0.30654463,\n",
              "       0.51424753])"
            ]
          },
          "metadata": {
            "tags": []
          },
          "execution_count": 66
        }
      ]
    },
    {
      "cell_type": "code",
      "metadata": {
        "id": "KPciWGOgvSVZ",
        "colab_type": "code",
        "colab": {
          "base_uri": "https://localhost:8080/",
          "height": 51
        },
        "outputId": "a16b894a-ad68-4c24-b08c-a37db0049ac4"
      },
      "source": [
        "#calcualte cosine similarity, pearson and spearman score\n",
        "elmo_pear_spear_score = defaultdict(list) #store scores\n",
        "\n",
        "dev_cos = calc_similarity_score(dev_first_sent_emlo_embeded, dev_first_sent_emlo_embeded).flatten()\n",
        "dev_pear, dev_spear = cal_pearson_spearman_score(a.numpy(), df_dev.loc[:,'score(0-5)'].values )\n",
        "elmo_pear_spear_score['Pearson'].append(dev_pear)#append\n",
        "elmo_pear_spear_score['Spearman'].append(dev_spear)\n",
        "print('Dev data: Pearson score: {}, Spearman score: {}'.format(dev_pear,dev_spear))\n",
        "\n",
        "test_cos = calc_similarity_score(test_first_sent_emlo_embeded, test_second_sent_emlo_embeded).flatten()\n",
        "test_pear, test_spear = cal_pearson_spearman_score(test_cos, df_test.loc[:,'score(0-5)'].values )\n",
        "print('Test data: Pearson score: {}, Spearman score: {}'.format(test_pear,test_spear))\n",
        "elmo_pear_spear_score['Pearson'].append(test_pear)#append\n",
        "elmo_pear_spear_score['Spearman'].append(test_spear)\n"
      ],
      "execution_count": null,
      "outputs": [
        {
          "output_type": "stream",
          "text": [
            "Dev data: Pearson score: 0.6196890136540286, Spearman score: 0.6283901882108268\n",
            "Test data: Pearson score: 0.48265564454946847, Spearman score: 0.4577991238702316\n"
          ],
          "name": "stdout"
        }
      ]
    },
    {
      "cell_type": "code",
      "metadata": {
        "id": "7VJjmWiKvVrj",
        "colab_type": "code",
        "colab": {
          "base_uri": "https://localhost:8080/",
          "height": 111
        },
        "outputId": "06fc0f2b-9e26-4110-9f7a-42e1be499fda"
      },
      "source": [
        "#show in panda dataframe\n",
        "pd.DataFrame.from_dict(elmo_pear_spear_score,\n",
        "                       orient='index',\n",
        "                       columns=['Dev_Data', 'Test_Data']\n",
        "                       )"
      ],
      "execution_count": null,
      "outputs": [
        {
          "output_type": "execute_result",
          "data": {
            "text/html": [
              "<div>\n",
              "<style scoped>\n",
              "    .dataframe tbody tr th:only-of-type {\n",
              "        vertical-align: middle;\n",
              "    }\n",
              "\n",
              "    .dataframe tbody tr th {\n",
              "        vertical-align: top;\n",
              "    }\n",
              "\n",
              "    .dataframe thead th {\n",
              "        text-align: right;\n",
              "    }\n",
              "</style>\n",
              "<table border=\"1\" class=\"dataframe\">\n",
              "  <thead>\n",
              "    <tr style=\"text-align: right;\">\n",
              "      <th></th>\n",
              "      <th>Dev_Data</th>\n",
              "      <th>Test_Data</th>\n",
              "    </tr>\n",
              "  </thead>\n",
              "  <tbody>\n",
              "    <tr>\n",
              "      <th>Pearson</th>\n",
              "      <td>0.619689</td>\n",
              "      <td>0.482656</td>\n",
              "    </tr>\n",
              "    <tr>\n",
              "      <th>Spearman</th>\n",
              "      <td>0.628390</td>\n",
              "      <td>0.457799</td>\n",
              "    </tr>\n",
              "  </tbody>\n",
              "</table>\n",
              "</div>"
            ],
            "text/plain": [
              "          Dev_Data  Test_Data\n",
              "Pearson   0.619689   0.482656\n",
              "Spearman  0.628390   0.457799"
            ]
          },
          "metadata": {
            "tags": []
          },
          "execution_count": 80
        }
      ]
    },
    {
      "cell_type": "code",
      "metadata": {
        "id": "6LnbnszwyPYr",
        "colab_type": "code",
        "colab": {}
      },
      "source": [
        ""
      ],
      "execution_count": null,
      "outputs": []
    },
    {
      "cell_type": "markdown",
      "metadata": {
        "id": "Yg4CyVqHyQpA",
        "colab_type": "text"
      },
      "source": [
        "#Part-2: ELMO Fine-Tune\n",
        "We have used Siamese network structure to fine-tune the ELMO orginal pretrained model. The MSELos is used as loss function. The cosine similarity is used as output of the model. Pearsons correlation is used for model metric to evaluate the model."
      ]
    },
    {
      "cell_type": "code",
      "metadata": {
        "id": "I4X4lMtSySxq",
        "colab_type": "code",
        "colab": {}
      },
      "source": [
        "#define custom model for elmo fine-tuning\n",
        "class ElmoSentenceSimilarityModel(Model):\n",
        "  \"\"\" \n",
        "  Extract sentence embedding by meaning pooling over tokens in a sentence.\n",
        "  And, Calculate cosine similarity between extracted embeding of a pair of sentences.\n",
        "  \"\"\"\n",
        "  \n",
        "  def __init__(self, encoder:Seq2VecEncoder, vocab: Vocabulary, model_type: str):\n",
        "    super().__init__(vocab)\n",
        "    weight_file = 'https://s3-us-west-2.amazonaws.com/allennlp/models/elmo/2x4096_512_2048cnn_2xhighway/elmo_2x4096_512_2048cnn_2xhighway_weights.hdf5'\n",
        "    options_file = 'https://s3-us-west-2.amazonaws.com/allennlp/models/elmo/2x4096_512_2048cnn_2xhighway/elmo_2x4096_512_2048cnn_2xhighway_options.json'\n",
        "    #elmo embedding using elmo module\n",
        "    self.elmo_embedder = Elmo(options_file=options_file, \n",
        "                              weight_file=weight_file,\n",
        "                              num_output_representations =1,\n",
        "                              requires_grad = True,\n",
        "                              #scalar_mix_parameters=[0.0, 0.0, 20.0]\n",
        "                              )\n",
        "    #elmo embedding using BasicTextFieldEmbedder\n",
        "    elmo_embedding = ElmoTokenEmbedder(options_file = options_file, weight_file = weight_file, requires_grad = True)\n",
        "    self.word_embedding = BasicTextFieldEmbedder({\"elmo_tokens\": elmo_embedding})\n",
        "    self.encoder = encoder #encoder\n",
        "    self.model_type = model_type \n",
        "    self.pearson = PearsonCorrelation()#metric\n",
        "    self.cos = nn.CosineSimilarity(dim=1, eps=1e-6)#cosine similarity\n",
        "    self.loss = nn.MSELoss()#loss\n",
        "    \n",
        "    \n",
        "  #Evalutate, and computes the loss\n",
        "  def forward(self, first_sent: TextFieldTensors, second_sent: TextFieldTensors, score: torch.Tensor=None):\n",
        "    #print('Computed with', self.model_type)\n",
        "  \n",
        "    #with Elmo module\n",
        "    if self.model_type =='Elmo':\n",
        "      #for first sentence embedding\n",
        "      first_token_ids = move_to_device(first_sent['elmo_tokens']['elmo_tokens'], device)#take tensor_ids and move to gpu\n",
        "      first_ouput = self.elmo_embedder(first_token_ids) #return token embedding and mask\n",
        "      first_embedding = first_ouput['elmo_representations'][0] #take token embedding\n",
        "      first_mask = first_ouput['mask'] #mask\n",
        "      first_sent_embed = self.encoder(first_embedding, first_mask)#encoder\n",
        "\n",
        "      #for second sentence embedding\n",
        "      second_token_ids = move_to_device(second_sent['elmo_tokens']['elmo_tokens'], device)\n",
        "      second_ouput = self.elmo_embedder(second_token_ids) \n",
        "      second_embedding = second_ouput['elmo_representations'][0]\n",
        "      second_mask = second_ouput['mask'] \n",
        "      second_sent_embed = self.encoder(second_embedding, second_mask)\n",
        "      \n",
        "      \n",
        "   #with ElmoTextFieldEmbedder\n",
        "    elif self.model_type == 'BasicTextFieldEmbedder':\n",
        "      #first sentence\n",
        "      first_sent = move_to_device(first_sent, device)#move to device\n",
        "      first_embedding = self.word_embedding(first_sent)#get embedding\n",
        "      first_mask = get_text_field_mask(first_sent)#get mask\n",
        "      first_sent_embed = self.encoder(first_embedding,first_mask)#encoder\n",
        "      \n",
        "      #second sentence\n",
        "      second_sent = move_to_device(second_sent, device)\n",
        "      second_embedding = self.word_embedding(second_sent) \n",
        "      second_mask = get_text_field_mask(second_sent)\n",
        "      second_sent_embed = self.encoder(second_embedding,second_mask) \n",
        "\n",
        "    else:\n",
        "      return \"Enter model_type: 'Elmo' or 'BasicTextFieldEmbedder'\"\n",
        "\n",
        "    #cosine similarity\n",
        "    cosine_sim = self.cos(first_sent_embed, second_sent_embed)\n",
        "    \n",
        "    #output to return \n",
        "    output = {'cos_sim': cosine_sim.detach().cpu().numpy()}\n",
        "    \n",
        "    #check if glod label is given\n",
        "    if score is not None:\n",
        "       gold_score = score.to(device).flatten() #gold score\n",
        "       #compute loss\n",
        "       loss = self.loss(cosine_sim, gold_score) \n",
        "       output['loss'] = loss \n",
        "       #compute metric (pearson correlation)\n",
        "       self.pearson(cosine_sim, gold_score) \n",
        "       output['pearson(r)'] =self.pearson.get_metric()\n",
        "    return output\n",
        "  \n",
        "  #get metric score\n",
        "  def get_metrics(self, reset: bool = False) -> Dict[str, float]:\n",
        "        return {'pearson(r)': self.pearson.get_metric(reset)}\n"
      ],
      "execution_count": 16,
      "outputs": []
    },
    {
      "cell_type": "code",
      "metadata": {
        "id": "SjNylIGNmSWY",
        "colab_type": "code",
        "colab": {
          "base_uri": "https://localhost:8080/",
          "height": 34
        },
        "outputId": "57055b52-bdb4-47fa-c1ff-e3048c04745f"
      },
      "source": [
        "#Sanity check using Boe(Bag of embedding)\n",
        "vocab = Vocabulary()#vocabuarry\n",
        "seq2vec = BagOfEmbeddingsEncoder(embedding_dim=1024, averaged=True)#encoder\n",
        "our_model = ElmoSentenceSimilarityModel(seq2vec, vocab, 'Elmo')\n",
        "our_model= our_model.to(device)\n",
        "se2_dim = our_model.word_embedding.get_output_dim() #output dimension(1024)\n",
        "se2_dim\n"
      ],
      "execution_count": null,
      "outputs": [
        {
          "output_type": "execute_result",
          "data": {
            "text/plain": [
              "1024"
            ]
          },
          "metadata": {
            "tags": []
          },
          "execution_count": 76
        }
      ]
    },
    {
      "cell_type": "code",
      "metadata": {
        "id": "uU3QrL1Ca_SL",
        "colab_type": "code",
        "colab": {
          "base_uri": "https://localhost:8080/",
          "height": 136
        },
        "outputId": "68b4bd97-e160-4cff-c6b6-b58f4e35dab7"
      },
      "source": [
        "#test with batch\n",
        "our_model(**batch)\n"
      ],
      "execution_count": null,
      "outputs": [
        {
          "output_type": "execute_result",
          "data": {
            "text/plain": [
              "{'cos_sim': array([0.48549902, 0.685466  , 0.6290068 , 0.6830893 , 0.6877267 ,\n",
              "        0.5591924 , 0.581956  , 0.6352639 , 0.6399453 , 0.7872099 ,\n",
              "        0.562044  , 0.6691464 , 0.6133359 , 0.603463  , 0.7537554 ,\n",
              "        0.54089236, 0.5057302 , 0.71754014, 0.6359052 , 0.24367765,\n",
              "        0.44226447], dtype=float32),\n",
              " 'loss': tensor(0.0790, device='cuda:0', grad_fn=<MseLossBackward>),\n",
              " 'pearson(r)': 0.5082532882256241}"
            ]
          },
          "metadata": {
            "tags": []
          },
          "execution_count": 90
        }
      ]
    },
    {
      "cell_type": "code",
      "metadata": {
        "id": "r7fUGgTolOO_",
        "colab_type": "code",
        "colab": {}
      },
      "source": [
        ""
      ],
      "execution_count": null,
      "outputs": []
    },
    {
      "cell_type": "code",
      "metadata": {
        "id": "wYRm_VobD6Iz",
        "colab_type": "code",
        "colab": {
          "base_uri": "https://localhost:8080/",
          "height": 34
        },
        "outputId": "6de72fbc-f7d2-4b56-b0c9-ae97c893bcf8"
      },
      "source": [
        "#Sanity for seq2vec_lstm encoder\n",
        "seq2vec_lstm = PytorchSeq2VecWrapper(nn.LSTM( 1024, 128, bidirectional=True, batch_first=True))#lstm encoder\n",
        "our_model = ElmoSentenceSimilarityModel(seq2vec_lstm, vocab, 'Elmo')\n",
        "our_model= our_model.to(device)\n",
        "word_embedding = our_model.word_embedding(move_to_device(batch['first_sent'], device))\n",
        "mask = get_text_field_mask(batch['first_sent'])\n",
        "enocded = our_model.encoder(word_embedding,move_to_device(mask,device))\n",
        "enocded.shape"
      ],
      "execution_count": null,
      "outputs": [
        {
          "output_type": "execute_result",
          "data": {
            "text/plain": [
              "torch.Size([32, 256])"
            ]
          },
          "metadata": {
            "tags": []
          },
          "execution_count": 61
        }
      ]
    },
    {
      "cell_type": "code",
      "metadata": {
        "id": "GyHeEIDij3X9",
        "colab_type": "code",
        "colab": {}
      },
      "source": [
        ""
      ],
      "execution_count": null,
      "outputs": []
    },
    {
      "cell_type": "markdown",
      "metadata": {
        "id": "VPbPJpP8ir3l",
        "colab_type": "text"
      },
      "source": [
        "#Train Model\n"
      ]
    },
    {
      "cell_type": "code",
      "metadata": {
        "id": "b7QqHTOlzML2",
        "colab_type": "code",
        "colab": {
          "base_uri": "https://localhost:8080/",
          "height": 51
        },
        "outputId": "f896cd19-97a1-4748-dff3-d14dc6153355"
      },
      "source": [
        "#encoder\n",
        "seq2vec_boe = BagOfEmbeddingsEncoder(embedding_dim=1024, averaged=True) #average pooling of tokens\n",
        "seq2vec_lstm = PytorchSeq2VecWrapper(nn.LSTM( 1024, 128, bidirectional=True, batch_first=True))#bilstm encoder\n",
        "\n",
        "#initiate our model\n",
        "emodel_boe = ElmoSentenceSimilarityModel(seq2vec_boe, vocab, 'Elmo')# with boe enocoder\n",
        "emodel_lstm = ElmoSentenceSimilarityModel(seq2vec_lstm, vocab, 'Elmo')#with lstm encoder\n",
        "emodel =  emodel_boe.to(device)#move to device(i.e gpu or cpu)\n",
        "emodel =  emodel_lstm.to(device)\n",
        "\n",
        "#set optimizer\n",
        "optimizer = optim.Adam(params=emodel_boe.parameters(), lr=0.003) \n",
        "#parameters = [[n, p] for n, p in emodel.named_parameters() if p.requires_grad] #parameters\n",
        "#optimizer = AdamOptimizer(model_parameters= parameters,  lr=0.001)\n",
        "\n",
        "#location to save result\n",
        "serialization_dir_lstm = '/content/drive/My Drive/Google_Colab/Elmo/lstm' #lstm\n",
        "serialization_dir_boe = '/content/drive/My Drive/Google_Colab/Elmo/boe' #boe\n",
        "\n",
        "#training setup ofr boe model\n",
        "trainer_boe = GradientDescentTrainer(       \n",
        "    model=emodel_boe,\n",
        "    serialization_dir=serialization_dir_boe,\n",
        "    data_loader = train_data_loader,\n",
        "    validation_data_loader = dev_data_loader,\n",
        "    num_epochs = 20,\n",
        "    optimizer = optimizer,\n",
        "    patience = 4,\n",
        "    cuda_device = 0,\n",
        "    )\n",
        "\n",
        "#training setup ofr lstm model\n",
        "trainer_lstm = GradientDescentTrainer(       \n",
        "    model=emodel_boe,\n",
        "    serialization_dir=serialization_dir_lstm,\n",
        "    data_loader = train_data_loader,\n",
        "    validation_data_loader = dev_data_loader,\n",
        "    num_epochs = 20,\n",
        "    optimizer = optimizer,\n",
        "    patience = 4,\n",
        "    cuda_device = 0,\n",
        "    )"
      ],
      "execution_count": 18,
      "outputs": [
        {
          "output_type": "stream",
          "text": [
            "100%|██████████| 336/336 [00:00<00:00, 1005914.45B/s]\n",
            "100%|██████████| 374434792/374434792 [00:13<00:00, 27095627.42B/s]\n"
          ],
          "name": "stderr"
        }
      ]
    },
    {
      "cell_type": "code",
      "metadata": {
        "id": "7Ao7HEDvn154",
        "colab_type": "code",
        "colab": {}
      },
      "source": [
        "# check list of parameteres \n",
        "''' \n",
        "for x,y in emodel.named_parameters():\n",
        "  if y.requires_grad:\n",
        "    print(x,y)\n",
        "'''\n",
        "\n",
        "for name,param in emodel_lstm.named_parameters():\n",
        "        print(name)\n"
      ],
      "execution_count": null,
      "outputs": []
    },
    {
      "cell_type": "code",
      "metadata": {
        "id": "zvHZ-V2tzYTe",
        "colab_type": "code",
        "colab": {}
      },
      "source": [
        "import logging, torch\n",
        "torch.manual_seed(1)\n",
        "logging.getLogger().setLevel(logging.CRITICAL)\n"
      ],
      "execution_count": 19,
      "outputs": []
    },
    {
      "cell_type": "markdown",
      "metadata": {
        "id": "2XdPDlov5Fy1",
        "colab_type": "text"
      },
      "source": [
        "#### Training with additional bilstm layer. ELmo embedding are taken as input vectors(feature extraction) for bilstm layer. For this, the elmo weights are freezed. Only bilstm parameters are updated/trained."
      ]
    },
    {
      "cell_type": "code",
      "metadata": {
        "id": "UXm7vJeOtxLQ",
        "colab_type": "code",
        "colab": {
          "base_uri": "https://localhost:8080/",
          "height": 581
        },
        "outputId": "f502f5ca-e4bd-4834-8ae1-1fd775db3f8b"
      },
      "source": [
        "%%time\n",
        "print(\"Starting training\\n\")\n",
        "train_lstm = trainer_lstm.train()\n",
        "print(\"\\nFinished training\")"
      ],
      "execution_count": null,
      "outputs": [
        {
          "output_type": "stream",
          "text": [
            "\r  0%|          | 0/180 [00:00<?, ?it/s]"
          ],
          "name": "stderr"
        },
        {
          "output_type": "stream",
          "text": [
            "Starting training\n",
            "\n"
          ],
          "name": "stdout"
        },
        {
          "output_type": "stream",
          "text": [
            "pearson(r): 0.5362, loss: 0.0615, reg_loss: 0.0000 ||: 100%|██████████| 180/180 [02:13<00:00,  1.35it/s]\n",
            "pearson(r): 0.6880, loss: 0.0782, reg_loss: 0.0000 ||: 100%|██████████| 47/47 [00:22<00:00,  2.11it/s]\n",
            "pearson(r): 0.6869, loss: 0.0460, reg_loss: 0.0000 ||: 100%|██████████| 180/180 [02:14<00:00,  1.34it/s]\n",
            "pearson(r): 0.7077, loss: 0.0736, reg_loss: 0.0000 ||: 100%|██████████| 47/47 [00:21<00:00,  2.14it/s]\n",
            "pearson(r): 0.7458, loss: 0.0386, reg_loss: 0.0000 ||: 100%|██████████| 180/180 [02:12<00:00,  1.36it/s]\n",
            "pearson(r): 0.6932, loss: 0.0684, reg_loss: 0.0000 ||: 100%|██████████| 47/47 [00:22<00:00,  2.13it/s]\n",
            "pearson(r): 0.7933, loss: 0.0323, reg_loss: 0.0000 ||: 100%|██████████| 180/180 [02:12<00:00,  1.36it/s]\n",
            "pearson(r): 0.7086, loss: 0.0689, reg_loss: 0.0000 ||: 100%|██████████| 47/47 [00:22<00:00,  2.13it/s]\n",
            "pearson(r): 0.8307, loss: 0.0271, reg_loss: 0.0000 ||: 100%|██████████| 180/180 [02:10<00:00,  1.38it/s]\n",
            "pearson(r): 0.7221, loss: 0.0657, reg_loss: 0.0000 ||: 100%|██████████| 47/47 [00:22<00:00,  2.13it/s]\n",
            "pearson(r): 0.8546, loss: 0.0236, reg_loss: 0.0000 ||: 100%|██████████| 180/180 [02:12<00:00,  1.35it/s]\n",
            "pearson(r): 0.7173, loss: 0.0668, reg_loss: 0.0000 ||: 100%|██████████| 47/47 [00:22<00:00,  2.14it/s]\n",
            "pearson(r): 0.8786, loss: 0.0199, reg_loss: 0.0000 ||: 100%|██████████| 180/180 [02:11<00:00,  1.37it/s]\n",
            "pearson(r): 0.7162, loss: 0.0676, reg_loss: 0.0000 ||: 100%|██████████| 47/47 [00:22<00:00,  2.14it/s]\n",
            "pearson(r): 0.8907, loss: 0.0181, reg_loss: 0.0000 ||: 100%|██████████| 180/180 [02:11<00:00,  1.37it/s]\n",
            "pearson(r): 0.7316, loss: 0.0583, reg_loss: 0.0000 ||: 100%|██████████| 47/47 [00:22<00:00,  2.14it/s]\n",
            "pearson(r): 0.9022, loss: 0.0163, reg_loss: 0.0000 ||: 100%|██████████| 180/180 [02:12<00:00,  1.36it/s]\n",
            "pearson(r): 0.7427, loss: 0.0575, reg_loss: 0.0000 ||: 100%|██████████| 47/47 [00:21<00:00,  2.14it/s]\n",
            "pearson(r): 0.9131, loss: 0.0145, reg_loss: 0.0000 ||: 100%|██████████| 180/180 [02:11<00:00,  1.37it/s]\n",
            "pearson(r): 0.7326, loss: 0.0637, reg_loss: 0.0000 ||: 100%|██████████| 47/47 [00:21<00:00,  2.14it/s]\n",
            "pearson(r): 0.9218, loss: 0.0132, reg_loss: 0.0000 ||: 100%|██████████| 180/180 [02:11<00:00,  1.37it/s]\n",
            "pearson(r): 0.7244, loss: 0.0647, reg_loss: 0.0000 ||: 100%|██████████| 47/47 [00:21<00:00,  2.14it/s]\n",
            "pearson(r): 0.9276, loss: 0.0122, reg_loss: 0.0000 ||: 100%|██████████| 180/180 [02:11<00:00,  1.37it/s]\n",
            "pearson(r): 0.7332, loss: 0.0603, reg_loss: 0.0000 ||: 100%|██████████| 47/47 [00:22<00:00,  2.14it/s]\n",
            "pearson(r): 0.9339, loss: 0.0112, reg_loss: 0.0000 ||: 100%|██████████| 180/180 [02:12<00:00,  1.36it/s]\n",
            "pearson(r): 0.7300, loss: 0.0607, reg_loss: 0.0000 ||: 100%|██████████| 47/47 [00:21<00:00,  2.14it/s]\n"
          ],
          "name": "stderr"
        },
        {
          "output_type": "stream",
          "text": [
            "\n",
            "Finished training\n",
            "CPU times: user 25min 21s, sys: 8min 16s, total: 33min 38s\n",
            "Wall time: 34min 44s\n"
          ],
          "name": "stdout"
        }
      ]
    },
    {
      "cell_type": "code",
      "metadata": {
        "id": "Oc0b4bTkZOuL",
        "colab_type": "code",
        "colab": {
          "base_uri": "https://localhost:8080/",
          "height": 323
        },
        "outputId": "7c1a49c4-91a9-43a5-d290-12ac2c4d8626"
      },
      "source": [
        "#show best vaidation score\n",
        "train_lstm"
      ],
      "execution_count": null,
      "outputs": [
        {
          "output_type": "execute_result",
          "data": {
            "text/plain": [
              "{'best_epoch': 8,\n",
              " 'best_validation_loss': 0.05745569053799548,\n",
              " 'best_validation_pearson(r)': 0.7427268251363959,\n",
              " 'best_validation_reg_loss': 0.0,\n",
              " 'epoch': 11,\n",
              " 'peak_gpu_0_memory_MB': 4805,\n",
              " 'peak_worker_0_memory_MB': 4092.84,\n",
              " 'training_duration': '0:31:52.375732',\n",
              " 'training_epochs': 11,\n",
              " 'training_gpu_0_memory_MB': 4805,\n",
              " 'training_loss': 0.012171866674907505,\n",
              " 'training_pearson(r)': 0.9276155399483744,\n",
              " 'training_reg_loss': 0.0,\n",
              " 'training_start_epoch': 0,\n",
              " 'training_worker_0_memory_MB': 4092.84,\n",
              " 'validation_loss': 0.06033941564407754,\n",
              " 'validation_pearson(r)': 0.733211117873761,\n",
              " 'validation_reg_loss': 0.0}"
            ]
          },
          "metadata": {
            "tags": []
          },
          "execution_count": 22
        }
      ]
    },
    {
      "cell_type": "code",
      "metadata": {
        "id": "8f4hi54wZTT6",
        "colab_type": "code",
        "colab": {}
      },
      "source": [
        "#clear unused GPU\n",
        "with torch.no_grad():\n",
        "   torch.cuda.empty_cache()"
      ],
      "execution_count": 26,
      "outputs": []
    },
    {
      "cell_type": "code",
      "metadata": {
        "id": "VH_0xNxFmaIr",
        "colab_type": "code",
        "colab": {}
      },
      "source": [
        ""
      ],
      "execution_count": null,
      "outputs": []
    },
    {
      "cell_type": "code",
      "metadata": {
        "id": "jxbjAnPH4s9a",
        "colab_type": "code",
        "colab": {}
      },
      "source": [
        ""
      ],
      "execution_count": null,
      "outputs": []
    },
    {
      "cell_type": "markdown",
      "metadata": {
        "id": "JdeVc9p04tlF",
        "colab_type": "text"
      },
      "source": [
        "####Training(fine-tuning) with without additional layers, but Cosine similarity as the ouput of the model."
      ]
    },
    {
      "cell_type": "code",
      "metadata": {
        "id": "rZfwzbRZKlzy",
        "colab_type": "code",
        "colab": {
          "base_uri": "https://localhost:8080/",
          "height": 479
        },
        "outputId": "c89609b4-9d45-4b9c-bfaf-b3c61b097655"
      },
      "source": [
        "%%time\n",
        "print(\"Starting training\\n\")\n",
        "train_boe = trainer_boe.train()\n",
        "print(\"\\nFinished training\")"
      ],
      "execution_count": 20,
      "outputs": [
        {
          "output_type": "stream",
          "text": [
            "\r  0%|          | 0/180 [00:00<?, ?it/s]"
          ],
          "name": "stderr"
        },
        {
          "output_type": "stream",
          "text": [
            "Starting training\n",
            "\n"
          ],
          "name": "stdout"
        },
        {
          "output_type": "stream",
          "text": [
            "pearson(r): 0.4279, loss: 0.0729, reg_loss: 0.0000 ||: 100%|██████████| 180/180 [07:02<00:00,  2.35s/it]\n",
            "pearson(r): 0.5409, loss: 0.1364, reg_loss: 0.0000 ||: 100%|██████████| 47/47 [00:22<00:00,  2.05it/s]\n",
            "pearson(r): 0.5877, loss: 0.0562, reg_loss: 0.0000 ||: 100%|██████████| 180/180 [07:02<00:00,  2.35s/it]\n",
            "pearson(r): 0.5983, loss: 0.1478, reg_loss: 0.0000 ||: 100%|██████████| 47/47 [00:22<00:00,  2.08it/s]\n",
            "pearson(r): 0.6759, loss: 0.0471, reg_loss: 0.0000 ||: 100%|██████████| 180/180 [07:03<00:00,  2.35s/it]\n",
            "pearson(r): 0.5923, loss: 0.1382, reg_loss: 0.0000 ||: 100%|██████████| 47/47 [00:22<00:00,  2.07it/s]\n",
            "pearson(r): 0.7470, loss: 0.0389, reg_loss: 0.0000 ||: 100%|██████████| 180/180 [07:00<00:00,  2.33s/it]\n",
            "pearson(r): 0.5978, loss: 0.1345, reg_loss: 0.0000 ||: 100%|██████████| 47/47 [00:22<00:00,  2.05it/s]\n",
            "pearson(r): 0.7964, loss: 0.0327, reg_loss: 0.0000 ||: 100%|██████████| 180/180 [07:01<00:00,  2.34s/it]\n",
            "pearson(r): 0.5900, loss: 0.1377, reg_loss: 0.0000 ||: 100%|██████████| 47/47 [00:22<00:00,  2.06it/s]\n",
            "pearson(r): 0.8253, loss: 0.0285, reg_loss: 0.0000 ||: 100%|██████████| 180/180 [07:00<00:00,  2.34s/it]\n",
            "pearson(r): 0.5951, loss: 0.1213, reg_loss: 0.0000 ||: 100%|██████████| 47/47 [00:22<00:00,  2.08it/s]\n",
            "pearson(r): 0.8453, loss: 0.0258, reg_loss: 0.0000 ||: 100%|██████████| 180/180 [07:01<00:00,  2.34s/it]\n",
            "pearson(r): 0.5853, loss: 0.1344, reg_loss: 0.0000 ||: 100%|██████████| 47/47 [00:22<00:00,  2.08it/s]\n",
            "pearson(r): 0.8620, loss: 0.0231, reg_loss: 0.0000 ||: 100%|██████████| 180/180 [06:59<00:00,  2.33s/it]\n",
            "pearson(r): 0.5960, loss: 0.1252, reg_loss: 0.0000 ||: 100%|██████████| 47/47 [00:22<00:00,  2.08it/s]\n",
            "pearson(r): 0.8712, loss: 0.0219, reg_loss: 0.0000 ||: 100%|██████████| 180/180 [07:00<00:00,  2.34s/it]\n",
            "pearson(r): 0.5914, loss: 0.1288, reg_loss: 0.0000 ||: 100%|██████████| 47/47 [00:22<00:00,  2.07it/s]\n",
            "pearson(r): 0.8749, loss: 0.0213, reg_loss: 0.0000 ||: 100%|██████████| 180/180 [07:03<00:00,  2.36s/it]\n",
            "pearson(r): 0.5715, loss: 0.1223, reg_loss: 0.0000 ||: 100%|██████████| 47/47 [00:22<00:00,  2.08it/s]\n"
          ],
          "name": "stderr"
        },
        {
          "output_type": "stream",
          "text": [
            "\n",
            "Finished training\n",
            "CPU times: user 55min 54s, sys: 18min 17s, total: 1h 14min 11s\n",
            "Wall time: 1h 16min 30s\n"
          ],
          "name": "stdout"
        }
      ]
    },
    {
      "cell_type": "code",
      "metadata": {
        "id": "j-H3F0v6bOtv",
        "colab_type": "code",
        "colab": {
          "base_uri": "https://localhost:8080/",
          "height": 323
        },
        "outputId": "37ae21ac-8c60-4ea4-fa84-685bb49800f1"
      },
      "source": [
        "#show best validaiton score\n",
        "train_boe"
      ],
      "execution_count": 21,
      "outputs": [
        {
          "output_type": "execute_result",
          "data": {
            "text/plain": [
              "{'best_epoch': 5,\n",
              " 'best_validation_loss': 0.12131807144652022,\n",
              " 'best_validation_pearson(r)': 0.5951483642093407,\n",
              " 'best_validation_reg_loss': 0.0,\n",
              " 'epoch': 8,\n",
              " 'peak_gpu_0_memory_MB': 7799,\n",
              " 'peak_worker_0_memory_MB': 4618.2,\n",
              " 'training_duration': '1:08:35.664021',\n",
              " 'training_epochs': 8,\n",
              " 'training_gpu_0_memory_MB': 7799,\n",
              " 'training_loss': 0.021859699482512145,\n",
              " 'training_pearson(r)': 0.8712047270215926,\n",
              " 'training_reg_loss': 0.0,\n",
              " 'training_start_epoch': 0,\n",
              " 'training_worker_0_memory_MB': 4618.2,\n",
              " 'validation_loss': 0.1288273368585617,\n",
              " 'validation_pearson(r)': 0.5913963617354139,\n",
              " 'validation_reg_loss': 0.0}"
            ]
          },
          "metadata": {
            "tags": []
          },
          "execution_count": 21
        }
      ]
    },
    {
      "cell_type": "code",
      "metadata": {
        "id": "UvnFo18E_QHG",
        "colab_type": "code",
        "colab": {}
      },
      "source": [
        ""
      ],
      "execution_count": null,
      "outputs": []
    },
    {
      "cell_type": "code",
      "metadata": {
        "id": "NBBUajfVY4zY",
        "colab_type": "code",
        "colab": {}
      },
      "source": [
        ""
      ],
      "execution_count": null,
      "outputs": []
    },
    {
      "cell_type": "markdown",
      "metadata": {
        "id": "yNphSsrbz9o7",
        "colab_type": "text"
      },
      "source": [
        "#Evalutate on Test Data\n",
        "We will use allennlp 'evaluate' api to evaluate our model."
      ]
    },
    {
      "cell_type": "code",
      "metadata": {
        "id": "p07gohfh0AFf",
        "colab_type": "code",
        "colab": {
          "base_uri": "https://localhost:8080/",
          "height": 102
        },
        "outputId": "9e2e9c75-a058-4b4d-8124-d8166f875c52"
      },
      "source": [
        "#evaluate on test data with train_lstm model\n",
        "test_evaluate_el = evaluate(emodel_lstm, test_data_loader)\n",
        "dev_evaluate_el = evaluate(emodel_lstm, dev_data_loader)\n",
        "print()\n",
        "print('Test data: ', test_evaluate_el)\n",
        "print('Dev data: ',dev_evaluate_el)\n"
      ],
      "execution_count": null,
      "outputs": [
        {
          "output_type": "stream",
          "text": [
            "pearson(r): 0.68, loss: 0.07 ||: : 44it [00:19,  2.27it/s]\n",
            "pearson(r): 0.74, loss: 0.06 ||: : 47it [00:22,  2.11it/s]"
          ],
          "name": "stderr"
        },
        {
          "output_type": "stream",
          "text": [
            "\n",
            "Test data:  {'pearson(r)': 0.6817223681329345, 'loss': 0.06646210522475568}\n",
            "Dev data:  {'pearson(r)': 0.742735725938856, 'loss': 0.05745163179458456}\n"
          ],
          "name": "stdout"
        },
        {
          "output_type": "stream",
          "text": [
            "\n"
          ],
          "name": "stderr"
        }
      ]
    },
    {
      "cell_type": "code",
      "metadata": {
        "id": "eBi-W3T6U0xo",
        "colab_type": "code",
        "colab": {}
      },
      "source": [
        ""
      ],
      "execution_count": null,
      "outputs": []
    },
    {
      "cell_type": "code",
      "metadata": {
        "id": "ucFfPB91_F5U",
        "colab_type": "code",
        "colab": {
          "base_uri": "https://localhost:8080/",
          "height": 102
        },
        "outputId": "d48395eb-e7ec-40fe-871a-36e534db5e4b"
      },
      "source": [
        "#evaluate on test data with train_boe model\n",
        "test_evaluate_boe = evaluate(emodel_boe, test_data_loader)\n",
        "dev_evaluate_boe = evaluate(emodel_boe, dev_data_loader)\n",
        "print()\n",
        "print(test_evaluate_boe)\n",
        "print(dev_evaluate_boe)\n"
      ],
      "execution_count": 27,
      "outputs": [
        {
          "output_type": "stream",
          "text": [
            "pearson(r): 0.58, loss: 0.12 ||: : 44it [00:19,  2.22it/s]\n",
            "pearson(r): 0.60, loss: 0.12 ||: : 47it [00:22,  2.07it/s]"
          ],
          "name": "stderr"
        },
        {
          "output_type": "stream",
          "text": [
            "\n",
            "{'pearson(r)': 0.5789505976947361, 'loss': 0.12268764940513806}\n",
            "{'pearson(r)': 0.5952203171778999, 'loss': 0.12127362136194046}\n"
          ],
          "name": "stdout"
        },
        {
          "output_type": "stream",
          "text": [
            "\n"
          ],
          "name": "stderr"
        }
      ]
    },
    {
      "cell_type": "markdown",
      "metadata": {
        "id": "2j8oUKAkra2x",
        "colab_type": "text"
      },
      "source": [
        "#Predict new sentence pair\n",
        "We will make a prediction class for prediction that inheritated from allenlp 'Predictor'. The code is taken from [allennlp](https://guide.allennlp.org/training-and-prediction#4) and is modified as per our problem."
      ]
    },
    {
      "cell_type": "code",
      "metadata": {
        "id": "5TIXthUPfpme",
        "colab_type": "code",
        "colab": {}
      },
      "source": [
        "#prediction class\n",
        "class SentencePairPredictor(Predictor):\n",
        "    def predict(self, sent_1: str, sent_2: str) -> JsonDict:\n",
        "        # This method is implemented in the base class.\n",
        "        return self.predict_json({\"sent_1\": sent_1, \"sent_2\": sent_2})\n",
        "\n",
        "    def _json_to_instance(self, json_dict: JsonDict) -> Instance:\n",
        "        sent_1, sent_2  = json_dict[\"sent_1\"], json_dict[\"sent_2\"]\n",
        "        return self._dataset_reader.text_to_instance(sent_1, sent_2)"
      ],
      "execution_count": null,
      "outputs": []
    },
    {
      "cell_type": "code",
      "metadata": {
        "id": "fk8621wOfpe9",
        "colab_type": "code",
        "colab": {
          "base_uri": "https://localhost:8080/",
          "height": 272
        },
        "outputId": "e2bd57b3-3e07-4cd8-8acd-23b10fd1f810"
      },
      "source": [
        "#lets predict a pair of sentences from test data\n",
        "predictor = SentencePairPredictor(emodel, dataset_reader) #initiate predictor\n",
        "for i in range(5): #first 5 rows \n",
        "  a= df_test.loc[:,'sentence_1'].values.tolist()[i]#first sentence\n",
        "  b= df_test.loc[:,'sentence_2'].values.tolist()[i]#second setnence\n",
        "  print(a, b)\n",
        "  print(predictor.predict(a, b)) #predict cosine similarity\n",
        "  print()"
      ],
      "execution_count": null,
      "outputs": [
        {
          "output_type": "stream",
          "text": [
            "A girl is styling her hair. A girl is brushing her hair.\n",
            "{'cos_sim': 0.765171468257904}\n",
            "\n",
            "A group of men play soccer on the beach. A group of boys are playing soccer on the beach.\n",
            "{'cos_sim': 0.9080790281295776}\n",
            "\n",
            "One woman is measuring another woman's ankle. A woman measures another woman's ankle.\n",
            "{'cos_sim': 0.9444469809532166}\n",
            "\n",
            "A man is cutting up a cucumber. A man is slicing a cucumber.\n",
            "{'cos_sim': 0.8942216038703918}\n",
            "\n",
            "A man is playing a harp. A man is playing a keyboard.\n",
            "{'cos_sim': 0.5917351245880127}\n",
            "\n"
          ],
          "name": "stdout"
        }
      ]
    },
    {
      "cell_type": "code",
      "metadata": {
        "id": "Yrrg22bzJNzM",
        "colab_type": "code",
        "colab": {}
      },
      "source": [
        ""
      ],
      "execution_count": null,
      "outputs": []
    },
    {
      "cell_type": "code",
      "metadata": {
        "id": "sJUxJwW270di",
        "colab_type": "code",
        "colab": {
          "base_uri": "https://localhost:8080/",
          "height": 272
        },
        "outputId": "efe46c96-e205-4694-d81e-cb9a2b5b880f"
      },
      "source": [
        "#load the saved model and predict\n",
        "model2 = ElmoSentenceSimilarityModel(seq2vec_lstm, vocab,'Elmo')\n",
        "with open(serialization_dir +\"/best.th\", 'rb') as f:\n",
        "    model2.load_state_dict(torch.load(f)) #load weights\n",
        "\n",
        "#predict with the loaded model\n",
        "predictor_loaded = SentencePairPredictor(model2.to(device), dataset_reader) #initiate predictor\n",
        "for i in range(5): #first 5 rows \n",
        "  a= df_test.loc[:,'sentence_1'].values.tolist()[i]#first sentence\n",
        "  b= df_test.loc[:,'sentence_2'].values.tolist()[i]#second setnence\n",
        "  print(a, b)\n",
        "  print(predictor_loaded.predict(a, b)) #predict cosine similarity\n",
        "  print()"
      ],
      "execution_count": null,
      "outputs": [
        {
          "output_type": "stream",
          "text": [
            "A girl is styling her hair. A girl is brushing her hair.\n",
            "{'cos_sim': 0.7655909061431885}\n",
            "\n",
            "A group of men play soccer on the beach. A group of boys are playing soccer on the beach.\n",
            "{'cos_sim': 0.9080769419670105}\n",
            "\n",
            "One woman is measuring another woman's ankle. A woman measures another woman's ankle.\n",
            "{'cos_sim': 0.9444470405578613}\n",
            "\n",
            "A man is cutting up a cucumber. A man is slicing a cucumber.\n",
            "{'cos_sim': 0.8942216038703918}\n",
            "\n",
            "A man is playing a harp. A man is playing a keyboard.\n",
            "{'cos_sim': 0.5917351245880127}\n",
            "\n"
          ],
          "name": "stdout"
        }
      ]
    },
    {
      "cell_type": "code",
      "metadata": {
        "id": "gHqIHQj380H1",
        "colab_type": "code",
        "colab": {}
      },
      "source": [
        ""
      ],
      "execution_count": null,
      "outputs": []
    },
    {
      "cell_type": "code",
      "metadata": {
        "id": "Biw9b5Ag91_j",
        "colab_type": "code",
        "colab": {}
      },
      "source": [
        ""
      ],
      "execution_count": null,
      "outputs": []
    }
  ]
}