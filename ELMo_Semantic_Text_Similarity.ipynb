{
  "nbformat": 4,
  "nbformat_minor": 0,
  "metadata": {
    "colab": {
      "name": "Untitled",
      "provenance": [],
      "toc_visible": true,
      "authorship_tag": "ABX9TyOwLi+Z1GcbBRDRMjPJdfnU",
      "include_colab_link": true
    },
    "kernelspec": {
      "name": "python3",
      "display_name": "Python 3"
    },
    "accelerator": "GPU"
  },
  "cells": [
    {
      "cell_type": "markdown",
      "metadata": {
        "id": "view-in-github",
        "colab_type": "text"
      },
      "source": [
        "<a href=\"https://colab.research.google.com/github/glingden/Natural-Language-Processing-NLP/blob/master/ELMo_Semantic_Text_Similarity.ipynb\" target=\"_parent\"><img src=\"https://colab.research.google.com/assets/colab-badge.svg\" alt=\"Open In Colab\"/></a>"
      ]
    },
    {
      "cell_type": "code",
      "metadata": {
        "id": "bEoQXujKs2a7",
        "colab_type": "code",
        "colab": {}
      },
      "source": [
        ""
      ],
      "execution_count": null,
      "outputs": []
    },
    {
      "cell_type": "markdown",
      "metadata": {
        "id": "Bv8PlCFwtLVR",
        "colab_type": "text"
      },
      "source": [
        "# ELMo Semantic Text Similarity\n",
        "In this notebook, the ELMo (original) model is used for finding  semantic text similarity between a pair of sentences.  The [STS_B benchmark](https://ixa2.si.ehu.es/stswiki/index.php/STSbenchmark) dataset is used for this work. This dataset consists of separate training, validation and test data. The work in this notebook contains two parts. The [allenlp framework](https://github.com/allenai/allennlp) is used to carry out the work:\n",
        "1. Sentence level embedding extraction from the pre-trained  model and apply cosine similarity between the pair sentences (No fine-tunned, but only using sentence vector representation from the pretrained model)\n",
        "\n",
        "2. Fine-tune: The STS_B train dataset is used for fine tunning the model and validaiton dataset is used for model validation. And, the fine-tunned model is used to predict the test dataset. For fine-tunning, Siamese Network with cosine similarity output is used."
      ]
    },
    {
      "cell_type": "code",
      "metadata": {
        "id": "z257XE5jt4vd",
        "colab_type": "code",
        "colab": {}
      },
      "source": [
        ""
      ],
      "execution_count": null,
      "outputs": []
    },
    {
      "cell_type": "code",
      "metadata": {
        "id": "qAOJH5dVu2sF",
        "colab_type": "code",
        "colab": {}
      },
      "source": [
        "#import necessary dependencies\n",
        "import os\n",
        "import numpy as np\n",
        "import pandas as pd\n",
        "from sklearn.preprocessing import MinMaxScaler # minmax scaling\n",
        "from scipy.spatial.distance import cosine #cosine distance\n",
        "from scipy.stats import pearsonr # pearson correlation\n",
        "from scipy.stats import spearmanr # spearman correlation\n",
        "from collections import defaultdict, Counter #store scores\n",
        "import torch\n",
        "import torch.nn as nn\n",
        "from typing import Dict, Iterable, List #for parameter types\n",
        "\n"
      ],
      "execution_count": 27,
      "outputs": []
    },
    {
      "cell_type": "code",
      "metadata": {
        "id": "zc5TCFuMvHqL",
        "colab_type": "code",
        "colab": {}
      },
      "source": [
        ""
      ],
      "execution_count": null,
      "outputs": []
    },
    {
      "cell_type": "markdown",
      "metadata": {
        "id": "a7okYOiguEj_",
        "colab_type": "text"
      },
      "source": [
        "GPU from Google Colab is used in this work. So, check if GPU is avaiable, and if not rasie error. We have to identify and specify GPU as device use it. "
      ]
    },
    {
      "cell_type": "code",
      "metadata": {
        "id": "29n1AjEBuGJF",
        "colab_type": "code",
        "colab": {
          "base_uri": "https://localhost:8080/",
          "height": 51
        },
        "outputId": "57a7f895-4897-481a-8582-cf534d375440"
      },
      "source": [
        "#check GPU is available or not \n",
        "if torch.cuda.is_available():\n",
        "\n",
        "  device = torch.device(\"cuda\")\n",
        "  current_dev = torch.cuda.current_device()\n",
        "  print('Found GPU :', torch.cuda.get_device_name(0))\n",
        "  print(current_dev)\n",
        "  \n",
        "\n",
        "else:\n",
        "    print('Not found, use CPU instead')\n",
        "    device = torch.device(\"cpu\")\n",
        "  \n"
      ],
      "execution_count": 28,
      "outputs": [
        {
          "output_type": "stream",
          "text": [
            "Found GPU : Tesla T4\n",
            "0\n"
          ],
          "name": "stdout"
        }
      ]
    },
    {
      "cell_type": "code",
      "metadata": {
        "id": "QIXt0MioucXO",
        "colab_type": "code",
        "colab": {}
      },
      "source": [
        ""
      ],
      "execution_count": null,
      "outputs": []
    },
    {
      "cell_type": "markdown",
      "metadata": {
        "id": "7aFaxUequbiM",
        "colab_type": "text"
      },
      "source": [
        "#Load Dataset\n",
        "Dataset is stored at Google drive. So, google drive is mounted at '/content/drive' to access them."
      ]
    },
    {
      "cell_type": "code",
      "metadata": {
        "id": "p7my5BW_ueGo",
        "colab_type": "code",
        "colab": {
          "base_uri": "https://localhost:8080/",
          "height": 54
        },
        "outputId": "74adbe4e-7459-4de0-89be-4e473489101e"
      },
      "source": [
        "#mount the drive \n",
        "from google.colab import drive\n",
        "drive.mount('/content/drive')"
      ],
      "execution_count": 29,
      "outputs": [
        {
          "output_type": "stream",
          "text": [
            "Drive already mounted at /content/drive; to attempt to forcibly remount, call drive.mount(\"/content/drive\", force_remount=True).\n"
          ],
          "name": "stdout"
        }
      ]
    },
    {
      "cell_type": "code",
      "metadata": {
        "id": "lvF5Gn1PuhPV",
        "colab_type": "code",
        "colab": {}
      },
      "source": [
        "#load dataset\n",
        "dataset_types = [ \"sts-train.csv\", \"sts-dev.csv\", \"sts-test.csv\",] # 3 datasets\n",
        "col_names = [\"genre\", \"file\", \"years\", \"_\", \"score(0-5)\", \"sentence_1\", \"sentence_2\"] #columns names\n",
        "\n",
        "#collect as a list of pandas dataframes\n",
        "df_list = []\n",
        "for dataset in dataset_types:\n",
        "  df = pd.read_csv(\"/content/drive/My Drive/Google_Colab/stsbenchmark_dataset/\"+ dataset, \n",
        "                 delimiter=',' , \n",
        "                 header= None,\n",
        "                 names= col_names\n",
        "                )\n",
        "  \n",
        "\n",
        "  df_list.append(df)"
      ],
      "execution_count": 30,
      "outputs": []
    },
    {
      "cell_type": "code",
      "metadata": {
        "id": "M94UX0W3vXZu",
        "colab_type": "code",
        "colab": {
          "base_uri": "https://localhost:8080/",
          "height": 306
        },
        "outputId": "0ac3cddc-6c15-48ad-d2ee-9680facaa031"
      },
      "source": [
        "#separate dataset (train, dev and test)\n",
        "df_train = df_list[0]\n",
        "df_dev = df_list[1]\n",
        "df_test = df_list[2]\n",
        "df_train.sample(5)"
      ],
      "execution_count": null,
      "outputs": [
        {
          "output_type": "execute_result",
          "data": {
            "text/html": [
              "<div>\n",
              "<style scoped>\n",
              "    .dataframe tbody tr th:only-of-type {\n",
              "        vertical-align: middle;\n",
              "    }\n",
              "\n",
              "    .dataframe tbody tr th {\n",
              "        vertical-align: top;\n",
              "    }\n",
              "\n",
              "    .dataframe thead th {\n",
              "        text-align: right;\n",
              "    }\n",
              "</style>\n",
              "<table border=\"1\" class=\"dataframe\">\n",
              "  <thead>\n",
              "    <tr style=\"text-align: right;\">\n",
              "      <th></th>\n",
              "      <th>genre</th>\n",
              "      <th>file</th>\n",
              "      <th>years</th>\n",
              "      <th>_</th>\n",
              "      <th>score(0-5)</th>\n",
              "      <th>sentence_1</th>\n",
              "      <th>sentence_2</th>\n",
              "    </tr>\n",
              "  </thead>\n",
              "  <tbody>\n",
              "    <tr>\n",
              "      <th>5022</th>\n",
              "      <td>main-news</td>\n",
              "      <td>headlines</td>\n",
              "      <td>2015</td>\n",
              "      <td>168</td>\n",
              "      <td>2.6</td>\n",
              "      <td>Moscow's Crimea success could lead to it redra...</td>\n",
              "      <td>Merkel: Russian actions could lead to a catast...</td>\n",
              "    </tr>\n",
              "    <tr>\n",
              "      <th>411</th>\n",
              "      <td>main-captions</td>\n",
              "      <td>MSRvid</td>\n",
              "      <td>2012test</td>\n",
              "      <td>620</td>\n",
              "      <td>1.5</td>\n",
              "      <td>The woman is putting paste into a dish.</td>\n",
              "      <td>A woman is pulling some kind of sticky goo out...</td>\n",
              "    </tr>\n",
              "    <tr>\n",
              "      <th>3920</th>\n",
              "      <td>main-news</td>\n",
              "      <td>headlines</td>\n",
              "      <td>2013</td>\n",
              "      <td>208</td>\n",
              "      <td>3.2</td>\n",
              "      <td>Russian TV reports foiled attempt on Putin</td>\n",
              "      <td>Russia, Ukraine foiled plot to kill Putin, rep...</td>\n",
              "    </tr>\n",
              "    <tr>\n",
              "      <th>4980</th>\n",
              "      <td>main-news</td>\n",
              "      <td>headlines</td>\n",
              "      <td>2015</td>\n",
              "      <td>61</td>\n",
              "      <td>1.0</td>\n",
              "      <td>10 dead, five injured in SW China road accident</td>\n",
              "      <td>5 hurt in Gaza City car accident</td>\n",
              "    </tr>\n",
              "    <tr>\n",
              "      <th>3767</th>\n",
              "      <td>main-news</td>\n",
              "      <td>headlines</td>\n",
              "      <td>2013</td>\n",
              "      <td>20</td>\n",
              "      <td>0.2</td>\n",
              "      <td>Indian finance minister quits to run for presi...</td>\n",
              "      <td>Julian Assange Plans to Run for Australian Senate</td>\n",
              "    </tr>\n",
              "  </tbody>\n",
              "</table>\n",
              "</div>"
            ],
            "text/plain": [
              "              genre  ...                                         sentence_2\n",
              "5022      main-news  ...  Merkel: Russian actions could lead to a catast...\n",
              "411   main-captions  ...  A woman is pulling some kind of sticky goo out...\n",
              "3920      main-news  ...  Russia, Ukraine foiled plot to kill Putin, rep...\n",
              "4980      main-news  ...                   5 hurt in Gaza City car accident\n",
              "3767      main-news  ...  Julian Assange Plans to Run for Australian Senate\n",
              "\n",
              "[5 rows x 7 columns]"
            ]
          },
          "metadata": {
            "tags": []
          },
          "execution_count": 5
        }
      ]
    },
    {
      "cell_type": "code",
      "metadata": {
        "id": "cWIT6kbjvv8c",
        "colab_type": "code",
        "colab": {}
      },
      "source": [
        ""
      ],
      "execution_count": null,
      "outputs": []
    },
    {
      "cell_type": "code",
      "metadata": {
        "id": "b7xJZN34zSR0",
        "colab_type": "code",
        "colab": {
          "base_uri": "https://localhost:8080/",
          "height": 989
        },
        "outputId": "5e1bba97-d346-4288-b332-fee23c9e9687"
      },
      "source": [
        "#install allen nlp\n",
        "!pip install allennlp"
      ],
      "execution_count": 31,
      "outputs": [
        {
          "output_type": "stream",
          "text": [
            "Requirement already satisfied: allennlp in /usr/local/lib/python3.6/dist-packages (1.0.0)\n",
            "Requirement already satisfied: boto3 in /usr/local/lib/python3.6/dist-packages (from allennlp) (1.14.20)\n",
            "Requirement already satisfied: tensorboardX>=1.2 in /usr/local/lib/python3.6/dist-packages (from allennlp) (2.1)\n",
            "Requirement already satisfied: jsonpickle in /usr/local/lib/python3.6/dist-packages (from allennlp) (1.4.1)\n",
            "Requirement already satisfied: torch<1.6.0,>=1.5.0 in /usr/local/lib/python3.6/dist-packages (from allennlp) (1.5.1+cu101)\n",
            "Requirement already satisfied: numpy in /usr/local/lib/python3.6/dist-packages (from allennlp) (1.18.5)\n",
            "Requirement already satisfied: h5py in /usr/local/lib/python3.6/dist-packages (from allennlp) (2.10.0)\n",
            "Requirement already satisfied: nltk in /usr/local/lib/python3.6/dist-packages (from allennlp) (3.2.5)\n",
            "Requirement already satisfied: transformers<2.12,>=2.9 in /usr/local/lib/python3.6/dist-packages (from allennlp) (2.11.0)\n",
            "Requirement already satisfied: requests>=2.18 in /usr/local/lib/python3.6/dist-packages (from allennlp) (2.23.0)\n",
            "Requirement already satisfied: overrides==3.0.0 in /usr/local/lib/python3.6/dist-packages (from allennlp) (3.0.0)\n",
            "Requirement already satisfied: scikit-learn in /usr/local/lib/python3.6/dist-packages (from allennlp) (0.22.2.post1)\n",
            "Requirement already satisfied: filelock<3.1,>=3.0 in /usr/local/lib/python3.6/dist-packages (from allennlp) (3.0.12)\n",
            "Requirement already satisfied: tqdm>=4.19 in /usr/local/lib/python3.6/dist-packages (from allennlp) (4.41.1)\n",
            "Requirement already satisfied: dataclasses; python_version < \"3.7\" in /usr/local/lib/python3.6/dist-packages (from allennlp) (0.7)\n",
            "Requirement already satisfied: jsonnet>=0.10.0; sys_platform != \"win32\" in /usr/local/lib/python3.6/dist-packages (from allennlp) (0.16.0)\n",
            "Requirement already satisfied: spacy<2.3,>=2.1.0 in /usr/local/lib/python3.6/dist-packages (from allennlp) (2.2.4)\n",
            "Requirement already satisfied: pytest in /usr/local/lib/python3.6/dist-packages (from allennlp) (3.6.4)\n",
            "Requirement already satisfied: scipy in /usr/local/lib/python3.6/dist-packages (from allennlp) (1.4.1)\n",
            "Requirement already satisfied: s3transfer<0.4.0,>=0.3.0 in /usr/local/lib/python3.6/dist-packages (from boto3->allennlp) (0.3.3)\n",
            "Requirement already satisfied: botocore<1.18.0,>=1.17.20 in /usr/local/lib/python3.6/dist-packages (from boto3->allennlp) (1.17.20)\n",
            "Requirement already satisfied: jmespath<1.0.0,>=0.7.1 in /usr/local/lib/python3.6/dist-packages (from boto3->allennlp) (0.10.0)\n",
            "Requirement already satisfied: six in /usr/local/lib/python3.6/dist-packages (from tensorboardX>=1.2->allennlp) (1.12.0)\n",
            "Requirement already satisfied: protobuf>=3.8.0 in /usr/local/lib/python3.6/dist-packages (from tensorboardX>=1.2->allennlp) (3.12.2)\n",
            "Requirement already satisfied: importlib-metadata in /usr/local/lib/python3.6/dist-packages (from jsonpickle->allennlp) (1.7.0)\n",
            "Requirement already satisfied: future in /usr/local/lib/python3.6/dist-packages (from torch<1.6.0,>=1.5.0->allennlp) (0.16.0)\n",
            "Requirement already satisfied: packaging in /usr/local/lib/python3.6/dist-packages (from transformers<2.12,>=2.9->allennlp) (20.4)\n",
            "Requirement already satisfied: tokenizers==0.7.0 in /usr/local/lib/python3.6/dist-packages (from transformers<2.12,>=2.9->allennlp) (0.7.0)\n",
            "Requirement already satisfied: sentencepiece in /usr/local/lib/python3.6/dist-packages (from transformers<2.12,>=2.9->allennlp) (0.1.91)\n",
            "Requirement already satisfied: regex!=2019.12.17 in /usr/local/lib/python3.6/dist-packages (from transformers<2.12,>=2.9->allennlp) (2019.12.20)\n",
            "Requirement already satisfied: sacremoses in /usr/local/lib/python3.6/dist-packages (from transformers<2.12,>=2.9->allennlp) (0.0.43)\n",
            "Requirement already satisfied: urllib3!=1.25.0,!=1.25.1,<1.26,>=1.21.1 in /usr/local/lib/python3.6/dist-packages (from requests>=2.18->allennlp) (1.24.3)\n",
            "Requirement already satisfied: chardet<4,>=3.0.2 in /usr/local/lib/python3.6/dist-packages (from requests>=2.18->allennlp) (3.0.4)\n",
            "Requirement already satisfied: idna<3,>=2.5 in /usr/local/lib/python3.6/dist-packages (from requests>=2.18->allennlp) (2.10)\n",
            "Requirement already satisfied: certifi>=2017.4.17 in /usr/local/lib/python3.6/dist-packages (from requests>=2.18->allennlp) (2020.6.20)\n",
            "Requirement already satisfied: joblib>=0.11 in /usr/local/lib/python3.6/dist-packages (from scikit-learn->allennlp) (0.16.0)\n",
            "Requirement already satisfied: blis<0.5.0,>=0.4.0 in /usr/local/lib/python3.6/dist-packages (from spacy<2.3,>=2.1.0->allennlp) (0.4.1)\n",
            "Requirement already satisfied: srsly<1.1.0,>=1.0.2 in /usr/local/lib/python3.6/dist-packages (from spacy<2.3,>=2.1.0->allennlp) (1.0.2)\n",
            "Requirement already satisfied: plac<1.2.0,>=0.9.6 in /usr/local/lib/python3.6/dist-packages (from spacy<2.3,>=2.1.0->allennlp) (1.1.3)\n",
            "Requirement already satisfied: setuptools in /usr/local/lib/python3.6/dist-packages (from spacy<2.3,>=2.1.0->allennlp) (49.1.0)\n",
            "Requirement already satisfied: wasabi<1.1.0,>=0.4.0 in /usr/local/lib/python3.6/dist-packages (from spacy<2.3,>=2.1.0->allennlp) (0.7.0)\n",
            "Requirement already satisfied: thinc==7.4.0 in /usr/local/lib/python3.6/dist-packages (from spacy<2.3,>=2.1.0->allennlp) (7.4.0)\n",
            "Requirement already satisfied: murmurhash<1.1.0,>=0.28.0 in /usr/local/lib/python3.6/dist-packages (from spacy<2.3,>=2.1.0->allennlp) (1.0.2)\n",
            "Requirement already satisfied: catalogue<1.1.0,>=0.0.7 in /usr/local/lib/python3.6/dist-packages (from spacy<2.3,>=2.1.0->allennlp) (1.0.0)\n",
            "Requirement already satisfied: cymem<2.1.0,>=2.0.2 in /usr/local/lib/python3.6/dist-packages (from spacy<2.3,>=2.1.0->allennlp) (2.0.3)\n",
            "Requirement already satisfied: preshed<3.1.0,>=3.0.2 in /usr/local/lib/python3.6/dist-packages (from spacy<2.3,>=2.1.0->allennlp) (3.0.2)\n",
            "Requirement already satisfied: pluggy<0.8,>=0.5 in /usr/local/lib/python3.6/dist-packages (from pytest->allennlp) (0.7.1)\n",
            "Requirement already satisfied: more-itertools>=4.0.0 in /usr/local/lib/python3.6/dist-packages (from pytest->allennlp) (8.4.0)\n",
            "Requirement already satisfied: py>=1.5.0 in /usr/local/lib/python3.6/dist-packages (from pytest->allennlp) (1.9.0)\n",
            "Requirement already satisfied: atomicwrites>=1.0 in /usr/local/lib/python3.6/dist-packages (from pytest->allennlp) (1.4.0)\n",
            "Requirement already satisfied: attrs>=17.4.0 in /usr/local/lib/python3.6/dist-packages (from pytest->allennlp) (19.3.0)\n",
            "Requirement already satisfied: docutils<0.16,>=0.10 in /usr/local/lib/python3.6/dist-packages (from botocore<1.18.0,>=1.17.20->boto3->allennlp) (0.15.2)\n",
            "Requirement already satisfied: python-dateutil<3.0.0,>=2.1 in /usr/local/lib/python3.6/dist-packages (from botocore<1.18.0,>=1.17.20->boto3->allennlp) (2.8.1)\n",
            "Requirement already satisfied: zipp>=0.5 in /usr/local/lib/python3.6/dist-packages (from importlib-metadata->jsonpickle->allennlp) (3.1.0)\n",
            "Requirement already satisfied: pyparsing>=2.0.2 in /usr/local/lib/python3.6/dist-packages (from packaging->transformers<2.12,>=2.9->allennlp) (2.4.7)\n",
            "Requirement already satisfied: click in /usr/local/lib/python3.6/dist-packages (from sacremoses->transformers<2.12,>=2.9->allennlp) (7.1.2)\n"
          ],
          "name": "stdout"
        }
      ]
    },
    {
      "cell_type": "code",
      "metadata": {
        "id": "5IeZVGQzzSVf",
        "colab_type": "code",
        "colab": {}
      },
      "source": [
        "#allennlp libraries\n",
        "from overrides import overrides\n",
        "from allennlp.data import DatasetReader, Instance, DataLoader, Vocabulary\n",
        "from allennlp.data.fields import  TextField, ArrayField\n",
        "from allennlp.data.fields.text_field import TextFieldTensors\n",
        "from allennlp.data.tokenizers import SpacyTokenizer, Token, Tokenizer, WhitespaceTokenizer\n",
        "from allennlp.data.token_indexers import TokenIndexer, SingleIdTokenIndexer\n",
        "from allennlp.data.samplers import BasicBatchSampler, BucketBatchSampler, RandomSampler\n",
        "from allennlp.modules import Seq2VecEncoder\n",
        "from allennlp.training.metrics import PearsonCorrelation\n",
        "from allennlp.training.util import evaluate\n",
        "from allennlp.nn import util\n",
        "from allennlp.models import Model\n",
        "#elmo module\n",
        "from allennlp.modules.elmo import Elmo, batch_to_ids \n",
        "from allennlp.modules.text_field_embedders import BasicTextFieldEmbedder\n",
        "from allennlp.modules.token_embedders import ElmoTokenEmbedder\n",
        "from allennlp.data.token_indexers.elmo_indexer import ELMoTokenCharactersIndexer"
      ],
      "execution_count": 32,
      "outputs": []
    },
    {
      "cell_type": "code",
      "metadata": {
        "id": "AbktPEM_zeok",
        "colab_type": "code",
        "colab": {}
      },
      "source": [
        ""
      ],
      "execution_count": null,
      "outputs": []
    },
    {
      "cell_type": "markdown",
      "metadata": {
        "id": "ahtrlqrpvY2Q",
        "colab_type": "text"
      },
      "source": [
        "#Count tokens in Sequences\n",
        "Since we have to have equal length of every sequence in a batch, check the maximun token length in every sentences in all datasets. We will use this max length while preparing dataset. More details in 'Prepare dataset' section.\n",
        "\n",
        "Or, we may use the other best max-length. So that there is no risk of loss of much tokens while doing truncating and not require  much padding in the sequences."
      ]
    },
    {
      "cell_type": "code",
      "metadata": {
        "id": "hwUW7EIqvaCb",
        "colab_type": "code",
        "colab": {
          "base_uri": "https://localhost:8080/",
          "height": 266
        },
        "outputId": "759ba143-3968-42fc-f513-f9863efd8a30"
      },
      "source": [
        "#counts tokens in sequences\n",
        "dataset_all = [df_train.sentence_1, df_train.sentence_2, df_dev.sentence_1, df_dev.sentence_2,df_test.sentence_1,df_test.sentence_2] #list of all dataset\n",
        "dataset_type_name = ['df_train.sentence_1', 'df_train.sentence_2', 'df_dev.sentence_1', 'df_dev.sentence_2', 'df_test.sentence_1', 'df_test.sentence_2'] #name of dataset\n",
        "\n",
        "max_len = 0 # tokens max count in overall datasets\n",
        "token_len_list = [] #store token counts for each dataset\n",
        "higest_token_len = {} # store higest token counts in each dataset\n",
        "\n",
        "\n",
        "#zip and iterate over all datasets\n",
        "for nam_data, each_dataset in zip(dataset_type_name, dataset_all):\n",
        "  token_len_dataset = [] #store each sequence count of each dataset\n",
        "  max_len_seq= 0 # max count of  sequence in each dataset \n",
        "\n",
        "  #iterate over sequences in each dataset\n",
        "  for sent in each_dataset:\n",
        "    tokenizer = SpacyTokenizer()# tokenizer\n",
        "    #tokenizer = WhitespaceTokenizer()# tokenizer\n",
        "    tokens = tokenizer.tokenize(sent) #tokenize\n",
        "    tokens_len = len(tokens) # count length\n",
        "    token_len_dataset.append(tokens_len) \n",
        "    \n",
        "    \n",
        "    # keep tracking the higest counts in each dataset\n",
        "    if tokens_len > max_len_seq:\n",
        "      max_len_seq = tokens_len\n",
        "    \n",
        "    #higest count overall dataset\n",
        "    if max_len_seq > max_len:\n",
        "      max_len = max_len_seq\n",
        "       \n",
        "  higest_token_len[nam_data] =  max_len_seq \n",
        "  token_len_list.append(token_len_dataset)\n",
        "\n",
        "print(\"Higest tokens number among 3 datasets: %s .\" % (max_len))\n",
        "print()\n",
        "print('Higest counts in each dataset:\\n')\n",
        "higest_token_len\n"
      ],
      "execution_count": 33,
      "outputs": [
        {
          "output_type": "error",
          "ename": "NameError",
          "evalue": "ignored",
          "traceback": [
            "\u001b[0;31m---------------------------------------------------------------------------\u001b[0m",
            "\u001b[0;31mNameError\u001b[0m                                 Traceback (most recent call last)",
            "\u001b[0;32m<ipython-input-33-20019be71f1f>\u001b[0m in \u001b[0;36m<module>\u001b[0;34m()\u001b[0m\n\u001b[1;32m      1\u001b[0m \u001b[0;31m#counts tokens in sequences\u001b[0m\u001b[0;34m\u001b[0m\u001b[0;34m\u001b[0m\u001b[0;34m\u001b[0m\u001b[0m\n\u001b[0;32m----> 2\u001b[0;31m \u001b[0mdataset_all\u001b[0m \u001b[0;34m=\u001b[0m \u001b[0;34m[\u001b[0m\u001b[0mdf_train\u001b[0m\u001b[0;34m.\u001b[0m\u001b[0msentence_1\u001b[0m\u001b[0;34m,\u001b[0m \u001b[0mdf_train\u001b[0m\u001b[0;34m.\u001b[0m\u001b[0msentence_2\u001b[0m\u001b[0;34m,\u001b[0m \u001b[0mdf_dev\u001b[0m\u001b[0;34m.\u001b[0m\u001b[0msentence_1\u001b[0m\u001b[0;34m,\u001b[0m \u001b[0mdf_dev\u001b[0m\u001b[0;34m.\u001b[0m\u001b[0msentence_2\u001b[0m\u001b[0;34m,\u001b[0m\u001b[0mdf_test\u001b[0m\u001b[0;34m.\u001b[0m\u001b[0msentence_1\u001b[0m\u001b[0;34m,\u001b[0m\u001b[0mdf_test\u001b[0m\u001b[0;34m.\u001b[0m\u001b[0msentence_2\u001b[0m\u001b[0;34m]\u001b[0m \u001b[0;31m#list of all dataset\u001b[0m\u001b[0;34m\u001b[0m\u001b[0;34m\u001b[0m\u001b[0m\n\u001b[0m\u001b[1;32m      3\u001b[0m \u001b[0mdataset_type_name\u001b[0m \u001b[0;34m=\u001b[0m \u001b[0;34m[\u001b[0m\u001b[0;34m'df_train.sentence_1'\u001b[0m\u001b[0;34m,\u001b[0m \u001b[0;34m'df_train.sentence_2'\u001b[0m\u001b[0;34m,\u001b[0m \u001b[0;34m'df_dev.sentence_1'\u001b[0m\u001b[0;34m,\u001b[0m \u001b[0;34m'df_dev.sentence_2'\u001b[0m\u001b[0;34m,\u001b[0m \u001b[0;34m'df_test.sentence_1'\u001b[0m\u001b[0;34m,\u001b[0m \u001b[0;34m'df_test.sentence_2'\u001b[0m\u001b[0;34m]\u001b[0m \u001b[0;31m#name of dataset\u001b[0m\u001b[0;34m\u001b[0m\u001b[0;34m\u001b[0m\u001b[0m\n\u001b[1;32m      4\u001b[0m \u001b[0;34m\u001b[0m\u001b[0m\n\u001b[1;32m      5\u001b[0m \u001b[0mmax_len\u001b[0m \u001b[0;34m=\u001b[0m \u001b[0;36m0\u001b[0m \u001b[0;31m# tokens max count in overall datasets\u001b[0m\u001b[0;34m\u001b[0m\u001b[0;34m\u001b[0m\u001b[0m\n",
            "\u001b[0;31mNameError\u001b[0m: name 'df_train' is not defined"
          ]
        }
      ]
    },
    {
      "cell_type": "code",
      "metadata": {
        "id": "udVMh6givdK8",
        "colab_type": "code",
        "colab": {}
      },
      "source": [
        ""
      ],
      "execution_count": null,
      "outputs": []
    },
    {
      "cell_type": "code",
      "metadata": {
        "id": "4yOwV_PK0PDH",
        "colab_type": "code",
        "colab": {
          "base_uri": "https://localhost:8080/",
          "height": 816
        },
        "outputId": "43ca6564-057f-4c1e-ba87-45d4ee0d16c1"
      },
      "source": [
        "#Plot the diagram to show the tokens' length distribution in dataset\n",
        "import seaborn as sns\n",
        "from matplotlib import pyplot as plt\n",
        "\n",
        "# data to plot\n",
        "data = token_len_list \n",
        "\n",
        "#creates subplots  with nrows=3, ncols=2\n",
        "fig, axes = plt.subplots(nrows=3, ncols=2, figsize=(12,11))\n",
        "sns.set(style='darkgrid') #set plot style\n",
        "\n",
        "#change 'axes' to 1d, zip and emumerate\n",
        "for i, (name, axe)  in enumerate(zip(dataset_type_name, axes.flatten())):\n",
        "  sns.distplot(token_len_list[i], axlabel ='Tokens Count', ax=axe) #distplot type\n",
        "  name = name + ': (tokens_max_count= '+ str(higest_token_len[name]) + ')' #title (for example: df_train.sentence_1:(max_count=70))\n",
        "  axe.set_title(name) #title for each suplots\n",
        "fig.tight_layout()#fit nicely\n",
        "plt.show()\n"
      ],
      "execution_count": null,
      "outputs": [
        {
          "output_type": "stream",
          "text": [
            "/usr/local/lib/python3.6/dist-packages/statsmodels/tools/_testing.py:19: FutureWarning: pandas.util.testing is deprecated. Use the functions in the public API at pandas.testing instead.\n",
            "  import pandas.util.testing as tm\n"
          ],
          "name": "stderr"
        },
        {
          "output_type": "display_data",
          "data": {
            "image/png": "[encoded data removed]",
            "text/plain": [
              "<Figure size 864x792 with 6 Axes>"
            ]
          },
          "metadata": {
            "tags": [],
            "needs_background": "light"
          }
        }
      ]
    },
    {
      "cell_type": "code",
      "metadata": {
        "id": "Dgbu7Nmd0RFH",
        "colab_type": "code",
        "colab": {}
      },
      "source": [
        ""
      ],
      "execution_count": null,
      "outputs": []
    },
    {
      "cell_type": "markdown",
      "metadata": {
        "id": "wlEva5jM1xRz",
        "colab_type": "text"
      },
      "source": [
        "#Prepare Dataset\n",
        "Allennlp frame requires their own type of dataset object  while modeling the algorithms. So, \n",
        "we prepare as per the requirement of it."
      ]
    },
    {
      "cell_type": "code",
      "metadata": {
        "id": "KOVX-ym-1vV2",
        "colab_type": "code",
        "colab": {}
      },
      "source": [
        "#dataset reader class\n",
        "class SemanticTextDataReader(DatasetReader):\n",
        "  '''' Read the dataset and return allennlp instance of  each data '''\n",
        "  def __init__(self, \n",
        "               lazy: bool = False, \n",
        "               tokenizer = None, \n",
        "               token_indexers: Dict[str, TokenIndexer] = None, \n",
        "               max_tokens: int = None\n",
        "               ):\n",
        "    super().__init__(lazy)\n",
        "    self.tokenizer = tokenizer or WhitespaceTokenizer() #tokenizer\n",
        "    self.token_indexers = token_indexers or {'tokens': SingleIdTokenIndexer()} #token indexer\n",
        "    self.max_tokens = max_tokens #set max_tokens for padding or truncating\n",
        "    \n",
        "\n",
        "  #convert given text into instance\n",
        "  @overrides\n",
        "  def text_to_instance(self, sent_1: str, sent_2: str, gold_score: float = None) -> Instance:\n",
        "    ''' Return given sequence into allennlp Instance '''\n",
        "    \n",
        "    #tokenize text\n",
        "    token_1 = self.tokenizer.tokenize(sent_1) #first sent\n",
        "    token_2 = self.tokenizer.tokenize(sent_2) #second sent\n",
        "    \n",
        "    #tokens upto max token-size\n",
        "    if self.max_tokens:\n",
        "            token_1 = token_1[:self.max_tokens]\n",
        "            token_2 = token_2[:self.max_tokens]\n",
        "    \n",
        "    #Textfield\n",
        "    text_field_1 = TextField(token_1, self.token_indexers) \n",
        "    text_field_2 = TextField(token_2, self.token_indexers)\n",
        "\n",
        "    #fields contain 'Textfield' and 'LabelField'\n",
        "    fields = {'first_sent': text_field_1, 'second_sent': text_field_2 } \n",
        "    \n",
        "    #check score/label is given or not\n",
        "    if gold_score is not None:\n",
        "      fields['score'] = ArrayField(np.array([gold_score])) # labelfield\n",
        "   \n",
        "    return Instance(fields) #instance with inputs and outputs fields \n",
        "\n",
        "    \n",
        "  #Read dataset and convert them to Iterable Instance\n",
        "  @overrides\n",
        "  def _read(self, file_path: str) -> Iterable[Instance]:\n",
        "    ''' Read dataset and process them '''\n",
        "    \n",
        "    #read data with pandas\n",
        "    df = pd.read_csv(file_path, \n",
        "              delimiter=',' , \n",
        "              header= None,\n",
        "              names= col_names\n",
        "              )\n",
        "    \n",
        "    #scale down gold-score(0-5) to (0-1) since cosine-simialrity score(0-1)\n",
        "    df['scaled_score(0-1)'] = MinMaxScaler(feature_range=(0,1)).fit_transform(df[['score(0-5)']])\n",
        "    print('Data reading started .....')\n",
        "    \n",
        "    \n",
        "    #iterate over rows in df\n",
        "    for index, row in df.iterrows():\n",
        "      sent_1 = row['sentence_1']#first sent\n",
        "      sent_2 = row['sentence_2']#second sent\n",
        "      gold_score = row['scaled_score(0-1)']#score\n",
        "      yield self.text_to_instance(sent_1, sent_2, gold_score) #iterable\n",
        "\n",
        "    print('...... Completed.')\n",
        "    print()\n",
        "  \n",
        "    "
      ],
      "execution_count": 34,
      "outputs": []
    },
    {
      "cell_type": "code",
      "metadata": {
        "id": "fzJXUvFQ2zep",
        "colab_type": "code",
        "colab": {
          "base_uri": "https://localhost:8080/",
          "height": 309
        },
        "outputId": "d05e9c1a-ddd6-42b1-a2dc-2f8a5c9ad900"
      },
      "source": [
        "#Read dataset\n",
        "file_path = \"/content/drive/My Drive/Google_Colab/stsbenchmark_dataset/\" #file path\n",
        "dataset_types = [ \"sts-train.csv\", \"sts-dev.csv\", \"sts-test.csv\",] # 3 datasets\n",
        "col_names = [\"genre\", \"file\", \"years\", \"_\", \"score(0-5)\", \"sentence_1\", \"sentence_2\"] #columns names\n",
        "max_tokens = [137, 39, 37] #max-tokens for each dataset\n",
        "\n",
        "text_tokenizer = SpacyTokenizer() #tokenizer\n",
        "elmo_indexer = ELMoTokenCharactersIndexer() #Elmocharacter Indexer\n",
        "\n",
        "dataset_instances = {}\n",
        "#use max-token length based on data\n",
        "for i ,x in enumerate(dataset_types):\n",
        "  if x == dataset_types[i]:\n",
        "    max_token = max_tokens[i]\n",
        "    dataset_reader = SemanticTextDataReader(tokenizer= text_tokenizer,  token_indexers={'tokens': elmo_indexer}, max_tokens=max_token) #initia datareader\n",
        "    instances = dataset_reader.read(os.path.join(file_path, dataset_types[i]))\n",
        "    dataset_instances[x]  = instances\n",
        "  \n"
      ],
      "execution_count": 35,
      "outputs": [
        {
          "output_type": "stream",
          "text": [
            "\n",
            "0it [00:00, ?it/s]\u001b[A\n",
            "151it [00:00, 1506.54it/s]\u001b[A"
          ],
          "name": "stderr"
        },
        {
          "output_type": "stream",
          "text": [
            "Data reading started .....\n"
          ],
          "name": "stdout"
        },
        {
          "output_type": "stream",
          "text": [
            "\n",
            "pearson(r): 0.2660, loss: 0.0928, reg_loss: 0.0000 ||:  41%|████      | 73/180 [28:46<42:09, 23.64s/it]\n",
            "5749it [00:03, 1866.09it/s]\n",
            "280it [00:00, 516.50it/s] "
          ],
          "name": "stderr"
        },
        {
          "output_type": "stream",
          "text": [
            "...... Completed.\n",
            "\n",
            "Data reading started .....\n"
          ],
          "name": "stdout"
        },
        {
          "output_type": "stream",
          "text": [
            "1500it [00:01, 1237.02it/s]\n",
            "240it [00:00, 2397.64it/s]"
          ],
          "name": "stderr"
        },
        {
          "output_type": "stream",
          "text": [
            "...... Completed.\n",
            "\n",
            "Data reading started .....\n"
          ],
          "name": "stdout"
        },
        {
          "output_type": "stream",
          "text": [
            "1379it [00:00, 2015.60it/s]"
          ],
          "name": "stderr"
        },
        {
          "output_type": "stream",
          "text": [
            "...... Completed.\n",
            "\n"
          ],
          "name": "stdout"
        },
        {
          "output_type": "stream",
          "text": [
            "\n"
          ],
          "name": "stderr"
        }
      ]
    },
    {
      "cell_type": "code",
      "metadata": {
        "id": "k8MrA2wKoOlz",
        "colab_type": "code",
        "colab": {}
      },
      "source": [
        ""
      ],
      "execution_count": null,
      "outputs": []
    },
    {
      "cell_type": "code",
      "metadata": {
        "id": "NPROQ2zj3QTS",
        "colab_type": "code",
        "colab": {
          "base_uri": "https://localhost:8080/",
          "height": 170
        },
        "outputId": "3ca69124-a14b-480e-8edd-d5fd9c98cc4c"
      },
      "source": [
        "#check the dataset instances\n",
        "for x in dataset_instances['sts-train.csv']:\n",
        "  print(x)\n",
        "  break"
      ],
      "execution_count": null,
      "outputs": [
        {
          "output_type": "stream",
          "text": [
            "Instance with fields:\n",
            " \t first_sent: TextField of length 6 with text: \n",
            " \t\t[A, plane, is, taking, off, .]\n",
            " \t\tand TokenIndexers : {'tokens': 'ELMoTokenCharactersIndexer'} \n",
            " \t second_sent: TextField of length 7 with text: \n",
            " \t\t[An, air, plane, is, taking, off, .]\n",
            " \t\tand TokenIndexers : {'tokens': 'ELMoTokenCharactersIndexer'} \n",
            " \t score: ArrayField with shape: (1,) and dtype: <class 'numpy.float32'>. \n",
            "\n"
          ],
          "name": "stdout"
        }
      ]
    },
    {
      "cell_type": "code",
      "metadata": {
        "id": "xuhHumosAOT_",
        "colab_type": "code",
        "colab": {}
      },
      "source": [
        ""
      ],
      "execution_count": null,
      "outputs": []
    },
    {
      "cell_type": "code",
      "metadata": {
        "id": "YHsg8zKGkgGh",
        "colab_type": "code",
        "colab": {}
      },
      "source": [
        ""
      ],
      "execution_count": null,
      "outputs": []
    },
    {
      "cell_type": "markdown",
      "metadata": {
        "id": "L2E6cSkQBjNk",
        "colab_type": "text"
      },
      "source": [
        "#Prepare Vocabulary and DataLoader\n",
        "Eventhough we don't have to make new vocabulary here, we have to create vocab object and have to do indexing to all the dataset instances. So, each token/character get certain index(integer value) according to ELMO pretrained model."
      ]
    },
    {
      "cell_type": "code",
      "metadata": {
        "id": "HztJShABBl12",
        "colab_type": "code",
        "colab": {}
      },
      "source": [
        " \n",
        "vocab = Vocabulary() #initiate vocabulary \n",
        "dataset_instances['sts-train.csv'].index_with(vocab) #token indexing \n",
        "dataset_instances['sts-dev.csv'].index_with(vocab)\n",
        "dataset_instances['sts-test.csv'].index_with(vocab)\n",
        "\n",
        "#random sample and batch train data\n",
        "sampler_tr = RandomSampler(data_source=dataset_instances['sts-train.csv']) \n",
        "batch_sampler_tr = BasicBatchSampler(sampler_tr, batch_size=32, drop_last=False) \n",
        "train_data_loader = DataLoader(dataset_instances['sts-train.csv'], batch_sampler=batch_sampler_tr)\n",
        "\n",
        "#batch dev data\n",
        "dev_data_loader = DataLoader(dataset_instances['sts-dev.csv'], batch_size=32,)\n",
        "\n",
        "#batch test data\n",
        "test_data_loader = DataLoader(dataset_instances['sts-test.csv'], batch_size=32,) \n",
        "\n"
      ],
      "execution_count": null,
      "outputs": []
    },
    {
      "cell_type": "code",
      "metadata": {
        "id": "VUKAhw9RsoPt",
        "colab_type": "code",
        "colab": {}
      },
      "source": [
        ""
      ],
      "execution_count": null,
      "outputs": []
    },
    {
      "cell_type": "code",
      "metadata": {
        "id": "SOEz12AaB-L7",
        "colab_type": "code",
        "colab": {
          "base_uri": "https://localhost:8080/",
          "height": 1000
        },
        "outputId": "55de9d8d-a2e9-4959-9f12-71901d70e25a"
      },
      "source": [
        "#check train dataloader \n",
        "batch = next(iter(train_data_loader))\n",
        "batch"
      ],
      "execution_count": null,
      "outputs": [
        {
          "output_type": "execute_result",
          "data": {
            "text/plain": [
              "{'first_sent': {'tokens': {'elmo_tokens': tensor([[[259,  84, 100,  ..., 261, 261, 261],\n",
              "            [259, 100,  98,  ..., 261, 261, 261],\n",
              "            [259, 105, 106,  ..., 261, 261, 261],\n",
              "            ...,\n",
              "            [  0,   0,   0,  ...,   0,   0,   0],\n",
              "            [  0,   0,   0,  ...,   0,   0,   0],\n",
              "            [  0,   0,   0,  ...,   0,   0,   0]],\n",
              "   \n",
              "           [[259,  69, 112,  ..., 261, 261, 261],\n",
              "            [259, 104,  98,  ..., 261, 261, 261],\n",
              "            [259,  99, 109,  ..., 261, 261, 261],\n",
              "            ...,\n",
              "            [  0,   0,   0,  ...,   0,   0,   0],\n",
              "            [  0,   0,   0,  ...,   0,   0,   0],\n",
              "            [  0,   0,   0,  ...,   0,   0,   0]],\n",
              "   \n",
              "           [[259,  85, 105,  ..., 261, 261, 261],\n",
              "            [259, 110,  98,  ..., 261, 261, 261],\n",
              "            [259, 106, 116,  ..., 261, 261, 261],\n",
              "            ...,\n",
              "            [  0,   0,   0,  ...,   0,   0,   0],\n",
              "            [  0,   0,   0,  ...,   0,   0,   0],\n",
              "            [  0,   0,   0,  ...,   0,   0,   0]],\n",
              "   \n",
              "           ...,\n",
              "   \n",
              "           [[259,  85, 105,  ..., 261, 261, 261],\n",
              "            [259, 113, 102,  ..., 261, 261, 261],\n",
              "            [259, 106, 116,  ..., 261, 261, 261],\n",
              "            ...,\n",
              "            [  0,   0,   0,  ...,   0,   0,   0],\n",
              "            [  0,   0,   0,  ...,   0,   0,   0],\n",
              "            [  0,   0,   0,  ...,   0,   0,   0]],\n",
              "   \n",
              "           [[259,  84,  98,  ..., 261, 261, 261],\n",
              "            [259,  83, 112,  ..., 261, 261, 261],\n",
              "            [259,  85, 112,  ..., 261, 261, 261],\n",
              "            ...,\n",
              "            [  0,   0,   0,  ...,   0,   0,   0],\n",
              "            [  0,   0,   0,  ...,   0,   0,   0],\n",
              "            [  0,   0,   0,  ...,   0,   0,   0]],\n",
              "   \n",
              "           [[259,  85, 105,  ..., 261, 261, 261],\n",
              "            [259,  99, 109,  ..., 261, 261, 261],\n",
              "            [259, 108, 106,  ..., 261, 261, 261],\n",
              "            ...,\n",
              "            [  0,   0,   0,  ...,   0,   0,   0],\n",
              "            [  0,   0,   0,  ...,   0,   0,   0],\n",
              "            [  0,   0,   0,  ...,   0,   0,   0]]])}},\n",
              " 'score': tensor([[0.6000],\n",
              "         [0.1200],\n",
              "         [0.3286],\n",
              "         [0.5000],\n",
              "         [0.7600],\n",
              "         [0.8400],\n",
              "         [0.7200],\n",
              "         [1.0000],\n",
              "         [0.0000],\n",
              "         [0.0000],\n",
              "         [0.8400],\n",
              "         [0.9600],\n",
              "         [0.1600],\n",
              "         [0.5200],\n",
              "         [0.1600],\n",
              "         [0.6800],\n",
              "         [0.0000],\n",
              "         [0.3600],\n",
              "         [0.2000],\n",
              "         [0.6000],\n",
              "         [0.9200],\n",
              "         [1.0000],\n",
              "         [0.7500],\n",
              "         [0.7000],\n",
              "         [0.6800],\n",
              "         [0.8000],\n",
              "         [0.8400],\n",
              "         [0.4000],\n",
              "         [0.2800],\n",
              "         [1.0000],\n",
              "         [0.2000],\n",
              "         [0.3600]]),\n",
              " 'second_sent': {'tokens': {'elmo_tokens': tensor([[[259,  84, 117,  ..., 261, 261, 261],\n",
              "            [259,  40, 116,  ..., 261, 261, 261],\n",
              "            [259, 115, 102,  ..., 261, 261, 261],\n",
              "            ...,\n",
              "            [  0,   0,   0,  ...,   0,   0,   0],\n",
              "            [  0,   0,   0,  ...,   0,   0,   0],\n",
              "            [  0,   0,   0,  ...,   0,   0,   0]],\n",
              "   \n",
              "           [[259,  84, 122,  ..., 261, 261, 261],\n",
              "            [259, 110, 106,  ..., 261, 261, 261],\n",
              "            [259, 108, 106,  ..., 261, 261, 261],\n",
              "            ...,\n",
              "            [  0,   0,   0,  ...,   0,   0,   0],\n",
              "            [  0,   0,   0,  ...,   0,   0,   0],\n",
              "            [  0,   0,   0,  ...,   0,   0,   0]],\n",
              "   \n",
              "           [[259,  66, 260,  ..., 261, 261, 261],\n",
              "            [259, 110,  98,  ..., 261, 261, 261],\n",
              "            [259, 106, 116,  ..., 261, 261, 261],\n",
              "            ...,\n",
              "            [  0,   0,   0,  ...,   0,   0,   0],\n",
              "            [  0,   0,   0,  ...,   0,   0,   0],\n",
              "            [  0,   0,   0,  ...,   0,   0,   0]],\n",
              "   \n",
              "           ...,\n",
              "   \n",
              "           [[259,  66, 260,  ..., 261, 261, 261],\n",
              "            [259, 113, 102,  ..., 261, 261, 261],\n",
              "            [259, 106, 116,  ..., 261, 261, 261],\n",
              "            ...,\n",
              "            [  0,   0,   0,  ...,   0,   0,   0],\n",
              "            [  0,   0,   0,  ...,   0,   0,   0],\n",
              "            [  0,   0,   0,  ...,   0,   0,   0]],\n",
              "   \n",
              "           [[259,  84,  98,  ..., 261, 261, 261],\n",
              "            [259, 120, 106,  ..., 261, 261, 261],\n",
              "            [259,  76,  98,  ..., 261, 261, 261],\n",
              "            ...,\n",
              "            [  0,   0,   0,  ...,   0,   0,   0],\n",
              "            [  0,   0,   0,  ...,   0,   0,   0],\n",
              "            [  0,   0,   0,  ...,   0,   0,   0]],\n",
              "   \n",
              "           [[259,  85, 105,  ..., 261, 261, 261],\n",
              "            [259,  66, 117,  ..., 261, 261, 261],\n",
              "            [259,  80, 109,  ..., 261, 261, 261],\n",
              "            ...,\n",
              "            [  0,   0,   0,  ...,   0,   0,   0],\n",
              "            [  0,   0,   0,  ...,   0,   0,   0],\n",
              "            [  0,   0,   0,  ...,   0,   0,   0]]])}}}"
            ]
          },
          "metadata": {
            "tags": []
          },
          "execution_count": 14
        }
      ]
    },
    {
      "cell_type": "code",
      "metadata": {
        "id": "3oobyFOSCAJc",
        "colab_type": "code",
        "colab": {}
      },
      "source": [
        ""
      ],
      "execution_count": null,
      "outputs": []
    },
    {
      "cell_type": "code",
      "metadata": {
        "id": "HI3E7btXDbKT",
        "colab_type": "code",
        "colab": {}
      },
      "source": [
        ""
      ],
      "execution_count": null,
      "outputs": []
    },
    {
      "cell_type": "markdown",
      "metadata": {
        "id": "E7ALUhpHDcIN",
        "colab_type": "text"
      },
      "source": [
        "# ElMo CharacterTokenizer"
      ]
    },
    {
      "cell_type": "markdown",
      "metadata": {
        "id": "ZtRQ4oCnCWvt",
        "colab_type": "text"
      },
      "source": [
        "In ELMo, as like other  pretained model, the sequence is tokenized. And, the tokenized token is further splited into characters  with of 50 dimensions."
      ]
    },
    {
      "cell_type": "code",
      "metadata": {
        "id": "_pkQiMqICP8m",
        "colab_type": "code",
        "colab": {
          "base_uri": "https://localhost:8080/",
          "height": 187
        },
        "outputId": "128fc654-d608-498e-cf55-a387e9f17c8f"
      },
      "source": [
        "#a single batch contains collection of tokens and  single token is ocnverted into array of  character ids of 50 size\n",
        "print('Batch shape :', batch['first_sent']['tokens']['elmo_tokens'].shape) #(batch size, token length, char dim)\n",
        "print()\n",
        "print('tokens in a sequence: ')\n",
        "batch['first_sent']['tokens']['elmo_tokens'][0]"
      ],
      "execution_count": 36,
      "outputs": [
        {
          "output_type": "stream",
          "text": [
            "Batch shape : torch.Size([32, 70, 50])\n",
            "\n",
            "tokens in a sequence: \n"
          ],
          "name": "stdout"
        },
        {
          "output_type": "execute_result",
          "data": {
            "text/plain": [
              "tensor([[259,  84, 100,  ..., 261, 261, 261],\n",
              "        [259, 100,  98,  ..., 261, 261, 261],\n",
              "        [259, 105, 106,  ..., 261, 261, 261],\n",
              "        ...,\n",
              "        [  0,   0,   0,  ...,   0,   0,   0],\n",
              "        [  0,   0,   0,  ...,   0,   0,   0],\n",
              "        [  0,   0,   0,  ...,   0,   0,   0]])"
            ]
          },
          "metadata": {
            "tags": []
          },
          "execution_count": 36
        }
      ]
    },
    {
      "cell_type": "code",
      "metadata": {
        "id": "yvg3MaiFtsMm",
        "colab_type": "code",
        "colab": {}
      },
      "source": [
        ""
      ],
      "execution_count": null,
      "outputs": []
    },
    {
      "cell_type": "code",
      "metadata": {
        "id": "gLg-72Bet2MD",
        "colab_type": "code",
        "colab": {}
      },
      "source": [
        ""
      ],
      "execution_count": null,
      "outputs": []
    },
    {
      "cell_type": "markdown",
      "metadata": {
        "id": "OyIx1Ymyt5Cb",
        "colab_type": "text"
      },
      "source": [
        "#Part-1 ELMo Embedding Extraction\n",
        "Extract sentence level embedding is extracted with mean pooling over tokens in a sentence. The original elmo model is used  and the cosine similarity between a pair of sentence is calculated.  And, finally the pearson and spearman correlation score is computed between the gold-score and computed cosine similarity.\n",
        "\n"
      ]
    },
    {
      "cell_type": "code",
      "metadata": {
        "id": "4b2kjD8Vk6Xv",
        "colab_type": "code",
        "colab": {
          "base_uri": "https://localhost:8080/",
          "height": 51
        },
        "outputId": "bafd695e-451a-4634-be5c-82a98e6f7d2a"
      },
      "source": [
        "weight_file = 'https://s3-us-west-2.amazonaws.com/allennlp/models/elmo/2x4096_512_2048cnn_2xhighway/elmo_2x4096_512_2048cnn_2xhighway_weights.hdf5'\n",
        "options_file = 'https://s3-us-west-2.amazonaws.com/allennlp/models/elmo/2x4096_512_2048cnn_2xhighway/elmo_2x4096_512_2048cnn_2xhighway_options.json'\n",
        " \n",
        "#Two ways  ELMo representation can be computated\n",
        "# 1. ElmoTokenEmbeder \n",
        "elmo_embedding = ElmoTokenEmbedder(options_file = options_file, weight_file = weight_file, requires_grad = False)\n",
        "word_embedding = BasicTextFieldEmbedder({\"elmo_tokens\": elmo_embedding}) \n",
        "\n",
        "#2. Elmo module\n",
        "elmo_embedder = Elmo( options_file, \n",
        "                     weight_file,\n",
        "                     num_output_representations =1,\n",
        "                     requires_grad = False,\n",
        "                     ) "
      ],
      "execution_count": null,
      "outputs": [
        {
          "output_type": "stream",
          "text": [
            "100%|██████████| 336/336 [00:00<00:00, 174849.40B/s]\n",
            "100%|██████████| 374434792/374434792 [00:04<00:00, 76547446.74B/s]\n"
          ],
          "name": "stderr"
        }
      ]
    },
    {
      "cell_type": "code",
      "metadata": {
        "id": "NlaNiLRkw-c0",
        "colab_type": "code",
        "colab": {}
      },
      "source": [
        ""
      ],
      "execution_count": null,
      "outputs": []
    },
    {
      "cell_type": "code",
      "metadata": {
        "id": "FLTYc79Ew-4l",
        "colab_type": "code",
        "colab": {}
      },
      "source": [
        "#data loader\n",
        "#extract embedding, calcuate pearson and spearman correlation\n",
        "def batch_elmo_embedder(dataset: DataLoader, elmo_embedder: BasicTextFieldEmbedder, cos:nn.CosineSimilarity):\n",
        "  pear_score_list = [] #pearson score\n",
        "  sperman_score_list = [] # sperman score \n",
        "  '''\n",
        "  elmo_embeded_1 = torch.tensor([]) #store embedding\n",
        "  elmo_embeded_2 = torch.tensor([])\n",
        "  gold_score = torch.tensor([])#gold score '''\n",
        "\n",
        "  #iterate over each batchs\n",
        "  for batch in dataset:\n",
        "    \n",
        "    #first sentence\n",
        "    elmo_embeding_1 = elmo_embedder(batch['first_sent']['tokens']['elmo_tokens']) #return token embeding and mask\n",
        "    token_level_embedding_1 = elmo_embeding_1['elmo_representations'][0] # token embedding\n",
        "    sent_level_embedding_1 = token_level_embedding_1.mean(dim=1) # tokens mean pooling\n",
        "    \n",
        "\n",
        "    #second sentence\n",
        "    elmo_embeding_2 = elmo_embedder(batch['second_sent']['tokens']['elmo_tokens']) #return token embeding and mask\n",
        "    token_level_embedding_2 = elmo_embeding_2['elmo_representations'][0] # token embedding\n",
        "    sent_level_embedding_2 = token_level_embedding_2.mean(dim=1) # tokens mean pooling\n",
        "    \n",
        "    #gold score\n",
        "    score = batch['score']\n",
        "    score = score.flatten() # 1d\n",
        "    \n",
        "    '''\n",
        "    elmo_embeded_1 = torch.cat((elmo_embeded, sent_level_embedding_1,), dim= 0 ) #concat embdding\n",
        "    elmo_embeded_2 = torch.cat((elmo_embeded, sent_level_embedding_1,), dim= 0 ) #concat embdding\n",
        "    gold_score = torch.cat((gold_score, score), dim= 0 ) #concat embdding '''\n",
        "    \n",
        "    #calculate cosine similarity between a pair of sentences\n",
        "    cosine_sim = cos(sent_level_embedding_1, sent_level_embedding_2)\n",
        "    cosine_sim = cosine_sim.flatten().detach() #numpy\n",
        " \n",
        "    #calcualte Pearson score\n",
        "    person_score, _ = pearsonr(score, cosine_sim) \n",
        "    pear_score_list.append(person_score)\n",
        "  \n",
        "    #calcualte Spearman score\n",
        "    sperman_score, _ = spearmanr(score, cosine_sim) \n",
        "    sperman_score_list.append(sperman_score)\n",
        "  \n",
        "  return np.mean(pear_score_list), np.mean(sperman_score_list)\n",
        "\n",
        "    "
      ],
      "execution_count": null,
      "outputs": []
    },
    {
      "cell_type": "code",
      "metadata": {
        "id": "6hokNQor_VB4",
        "colab_type": "code",
        "colab": {
          "base_uri": "https://localhost:8080/",
          "height": 34
        },
        "outputId": "cc5396a1-60d6-4d13-a267-bb21b27adb54"
      },
      "source": [
        "#compute pearsons and spearman\n",
        "cos = cos = nn.CosineSimilarity(dim=1, eps=1e-6)\n",
        "batch_elmo_embedder(test_data_loader, elmo_embedder, cos)"
      ],
      "execution_count": null,
      "outputs": [
        {
          "output_type": "execute_result",
          "data": {
            "text/plain": [
              "(0.42302950514719806, 0.39722409909301976)"
            ]
          },
          "metadata": {
            "tags": []
          },
          "execution_count": 98
        }
      ]
    },
    {
      "cell_type": "code",
      "metadata": {
        "id": "dFMsdaFyFo39",
        "colab_type": "code",
        "colab": {}
      },
      "source": [
        ""
      ],
      "execution_count": null,
      "outputs": []
    },
    {
      "cell_type": "code",
      "metadata": {
        "id": "Zl3NDxONt-ZW",
        "colab_type": "code",
        "colab": {}
      },
      "source": [
        ""
      ],
      "execution_count": null,
      "outputs": []
    },
    {
      "cell_type": "code",
      "metadata": {
        "id": "xPaJB8jNurLl",
        "colab_type": "code",
        "colab": {}
      },
      "source": [
        "#extract elmo embedding from list of string\n",
        "def elmo_feature_embedding(data: List[str], \n",
        "                           elmo_embedder: BasicTextFieldEmbedder,\n",
        "                           tokenizer: Tokenizer, \n",
        "                           token_indexer: ELMoTokenCharactersIndexer, \n",
        "                           vocab: Vocabulary\n",
        "                           ):\n",
        "  '''\n",
        "  Extract elmo embedding of given sequence.\n",
        "\n",
        "    Args:\n",
        "      data(list): list of strings/sequences\n",
        "      elmo_embedder: allennlp elmo TextField embedder object\n",
        "      tokenizer: allennlp SpacyTokenizer object\n",
        "      token_indexer: allennlp ELMoTokenCharactersIndexer object\n",
        "      vocab: allennlp vocabualry object\n",
        "\n",
        "    Returns:\n",
        "       Sentence embedding(2d) of 1024 dimensions\n",
        "  \n",
        "  '''\n",
        "\n",
        "  #empty array to store elmo embedding vectors\n",
        "  sent_embedded = np.empty((0, 1024)) # size(,1024) \n",
        "  \n",
        "  #iterate over sequence \n",
        "  for sequence in data:\n",
        "    tokens = tokenizer.tokenize(sequence) # tokenize sequence\n",
        "    text_field = TextField(tokens, {'elmo_tokens': token_indexer}) #tokens to ELMoTokenCharactersIndexer\n",
        "    text_field.index(vocab) #character_ids based on vocab\n",
        "    padding_lengths = text_field.get_padding_lengths() # get tokens length\n",
        "    tensor_dict = text_field.as_tensor(padding_lengths) #change to TextFieldTensors\n",
        "    batch_tensor_dict = text_field.batch_tensors([tensor_dict]) # batch_tensor\n",
        "    elmo_embedded = elmo_embedder(batch_tensor_dict)# get token embedding\n",
        "    mean_tokens_embed = elmo_embedded.mean(dim=1)# mean pooling over tokens\n",
        "    sent_embedded = np.append(sent_embedded, mean_tokens_embed.detach().numpy(), axis=0) # append vertically\n",
        "    \n",
        "  return sent_embedded\n",
        "  \n"
      ],
      "execution_count": null,
      "outputs": []
    },
    {
      "cell_type": "code",
      "metadata": {
        "id": "s4yqpe8d6VKp",
        "colab_type": "code",
        "colab": {}
      },
      "source": [
        ""
      ],
      "execution_count": null,
      "outputs": []
    },
    {
      "cell_type": "code",
      "metadata": {
        "id": "Rokj7D-g6VDr",
        "colab_type": "code",
        "colab": {}
      },
      "source": [
        "#function to calculate similarity score \n",
        "def calc_similarity_score(embed_1, embed_2):\n",
        "\n",
        "  \"\"\"\n",
        "  Calcualte cosine simialrity between a pair of sentences.\n",
        "  \n",
        "    Args:\n",
        "      embed_1(numpy array): first sentence embedding\n",
        "      embed_2(numpy array): second sentence embedding\n",
        "\n",
        "    Return:\n",
        "      scaled_cosine_score(list) : cosine score between embed_1 \n",
        "      and embed_2 with range (0,5)\n",
        "  \"\"\"\n",
        "  \n",
        "  #collect similarity score\n",
        "  cosine_sim_score = []\n",
        "  \n",
        "  for x,y in zip(embed_1, embed_2):\n",
        "\n",
        "    distance = cosine(x, y) # cosine distance\n",
        "    cosine_sim = 1 - distance # cosine similarity\n",
        "    cosine_sim_score.append(cosine_sim) \n",
        "\n",
        "  \n",
        "\n",
        "\n",
        "  #scaled the similarity score to (0,5)\n",
        "  scaler = MinMaxScaler(feature_range=(0,5)) # initiate minmaxscaler\n",
        "  scaled_cosine_score = scaler.fit_transform(np.transpose([cosine_sim_score])) #scaled to (0,5)\n",
        "  \n",
        "  return scaled_cosine_score.round(3)\n",
        "  "
      ],
      "execution_count": null,
      "outputs": []
    },
    {
      "cell_type": "code",
      "metadata": {
        "id": "1DpMNaMK7KRQ",
        "colab_type": "code",
        "colab": {}
      },
      "source": [
        "def cal_pearson_spearman_score(x, y):\n",
        "  '''\n",
        "  Calculate Pearson and Spearman correlation between x, y.\n",
        "  Agrs:\n",
        "    x: array_like\n",
        "    y: array_like\n",
        "\n",
        "  Returns:\n",
        "    Pearson and Spearman score\n",
        "  '''\n",
        "\n",
        "  pearson_score, _ = pearsonr(x, y)#pearson score\n",
        "  sperman_score, _ = spearmanr(x, y)#spearman score\n",
        "\n",
        "  return pearson_score , sperman_score\n",
        "\n"
      ],
      "execution_count": null,
      "outputs": []
    },
    {
      "cell_type": "code",
      "metadata": {
        "id": "7FT-J-9IusW_",
        "colab_type": "code",
        "colab": {}
      },
      "source": [
        "#initiate necessary class object\n",
        "text_tokenizer = SpacyTokenizer() #tokenizer\n",
        "elmo_indexer = ELMoTokenCharactersIndexer() #character Indexer\n",
        "vocab = Vocabulary()# initiate vocab\n",
        "\n",
        "elmo_token_embedder = ElmoTokenEmbedder(options_file, weight_file) #elmo token embedder\n",
        "elmo_textfield_embedder = BasicTextFieldEmbedder({\"elmo_tokens\": elmo_token_embedder}) #textfield embedder"
      ],
      "execution_count": null,
      "outputs": []
    },
    {
      "cell_type": "code",
      "metadata": {
        "id": "PKsqXqz9u5Px",
        "colab_type": "code",
        "colab": {
          "base_uri": "https://localhost:8080/",
          "height": 51
        },
        "outputId": "7083ae85-e6df-4447-d830-1e016c650b71"
      },
      "source": [
        "%%time\n",
        "#extract embedding\n",
        "dev_first_sent_emlo_embeded = elmo_feature_embedding(df_dev.sentence_1.values.tolist(), elmo_textfield_embedder, text_tokenizer, elmo_indexer, vocab )\n",
        "dev_second_sent_emlo_embeded = elmo_feature_embedding(df_dev.sentence_2.values.tolist(), elmo_textfield_embedder, text_tokenizer, elmo_indexer, vocab )\n",
        "test_first_sent_emlo_embeded = elmo_feature_embedding(df_test.sentence_1.values.tolist(), elmo_textfield_embedder, text_tokenizer, elmo_indexer, vocab )\n",
        "test_second_sent_emlo_embeded = elmo_feature_embedding(df_test.sentence_2.values.tolist(), elmo_textfield_embedder, text_tokenizer, elmo_indexer, vocab )"
      ],
      "execution_count": null,
      "outputs": [
        {
          "output_type": "stream",
          "text": [
            "CPU times: user 46min 47s, sys: 2.57 s, total: 46min 50s\n",
            "Wall time: 46min 54s\n"
          ],
          "name": "stdout"
        }
      ]
    },
    {
      "cell_type": "code",
      "metadata": {
        "id": "Wbz6DqF8vG9U",
        "colab_type": "code",
        "colab": {}
      },
      "source": [
        ""
      ],
      "execution_count": null,
      "outputs": []
    },
    {
      "cell_type": "code",
      "metadata": {
        "id": "KPciWGOgvSVZ",
        "colab_type": "code",
        "colab": {
          "base_uri": "https://localhost:8080/",
          "height": 51
        },
        "outputId": "754eac9d-f405-436a-ea8e-9822c6717b06"
      },
      "source": [
        "#calcualte cosine similarity, pearson and spearman score\n",
        "elmo_pear_spear_score = defaultdict(list) #store scores\n",
        "\n",
        "dev_cos = calc_similarity_score(dev_first_sent_emlo_embeded, dev_second_sent_emlo_embeded).flatten()\n",
        "dev_pear, dev_spear = cal_pearson_spearman_score(dev_cos, df_dev.loc[:,'score(0-5)'].values )\n",
        "elmo_pear_spear_score['dev'].append(dev_pear)\n",
        "elmo_pear_spear_score['dev'].append(dev_pear)\n",
        "print('Dev data: Pearson score: {}, Spearman score: {}'.format(dev_pear,dev_spear))\n",
        "\n",
        "test_cos = calc_similarity_score(test_first_sent_emlo_embeded, test_second_sent_emlo_embeded).flatten()\n",
        "test_pear, test_spear = cal_pearson_spearman_score(test_cos, df_test.loc[:,'score(0-5)'].values )\n",
        "print('Test data: Pearson score: {}, Spearman score: {}'.format(test_pear,test_spear))\n",
        "\n"
      ],
      "execution_count": null,
      "outputs": [
        {
          "output_type": "stream",
          "text": [
            "Dev data: Pearson score: 0.6167761548996509, Spearman score: 0.6267256240989642\n",
            "Test data: Pearson score: 0.4737381895764178, Spearman score: 0.4499075352319293\n"
          ],
          "name": "stdout"
        }
      ]
    },
    {
      "cell_type": "code",
      "metadata": {
        "id": "7VJjmWiKvVrj",
        "colab_type": "code",
        "colab": {
          "base_uri": "https://localhost:8080/",
          "height": 111
        },
        "outputId": "57341cad-820d-4d1e-ab66-1e1d96e4430c"
      },
      "source": [
        "#show in panda dataframe\n",
        "pd.DataFrame.from_dict({'Pearson': [dev_pear, test_pear ] , 'Spearman': [ dev_spear,test_spear ]},\n",
        "                          orient='index',\n",
        "                          columns=['Dev_Data', 'Test_Data']\n",
        "                          )"
      ],
      "execution_count": null,
      "outputs": [
        {
          "output_type": "execute_result",
          "data": {
            "text/html": [
              "<div>\n",
              "<style scoped>\n",
              "    .dataframe tbody tr th:only-of-type {\n",
              "        vertical-align: middle;\n",
              "    }\n",
              "\n",
              "    .dataframe tbody tr th {\n",
              "        vertical-align: top;\n",
              "    }\n",
              "\n",
              "    .dataframe thead th {\n",
              "        text-align: right;\n",
              "    }\n",
              "</style>\n",
              "<table border=\"1\" class=\"dataframe\">\n",
              "  <thead>\n",
              "    <tr style=\"text-align: right;\">\n",
              "      <th></th>\n",
              "      <th>Dev_Data</th>\n",
              "      <th>Test_Data</th>\n",
              "    </tr>\n",
              "  </thead>\n",
              "  <tbody>\n",
              "    <tr>\n",
              "      <th>Pearson</th>\n",
              "      <td>0.616776</td>\n",
              "      <td>0.473738</td>\n",
              "    </tr>\n",
              "    <tr>\n",
              "      <th>Spearman</th>\n",
              "      <td>0.626726</td>\n",
              "      <td>0.449908</td>\n",
              "    </tr>\n",
              "  </tbody>\n",
              "</table>\n",
              "</div>"
            ],
            "text/plain": [
              "          Dev_Data  Test_Data\n",
              "Pearson   0.616776   0.473738\n",
              "Spearman  0.626726   0.449908"
            ]
          },
          "metadata": {
            "tags": []
          },
          "execution_count": 59
        }
      ]
    },
    {
      "cell_type": "code",
      "metadata": {
        "id": "6LnbnszwyPYr",
        "colab_type": "code",
        "colab": {}
      },
      "source": [
        ""
      ],
      "execution_count": null,
      "outputs": []
    },
    {
      "cell_type": "code",
      "metadata": {
        "id": "XmyFxUURyPT6",
        "colab_type": "code",
        "colab": {}
      },
      "source": [
        ""
      ],
      "execution_count": null,
      "outputs": []
    },
    {
      "cell_type": "markdown",
      "metadata": {
        "id": "Yg4CyVqHyQpA",
        "colab_type": "text"
      },
      "source": [
        "#Part-2: ELMO Fine-Tune\n",
        "We have used Siamese network structure to fine-tune the ELMO orginal pretrained model. The MSELos is used as loss function. The cosine similarity is used as output of the model. Pearsons correlation is used for model metric to evaluate the model."
      ]
    },
    {
      "cell_type": "code",
      "metadata": {
        "id": "I4X4lMtSySxq",
        "colab_type": "code",
        "colab": {}
      },
      "source": [
        "#define custom model for elmo fine-tuning\n",
        "class ElmoSentenceSimilarityModel(Model):\n",
        "  \"\"\" \n",
        "  Extract sentence embedding by meaning pooling over tokens in a sentence.\n",
        "  And, Calculate cosine similarity between extracted embeding of a pair of sentences.\n",
        "  \"\"\"\n",
        "  \n",
        "  def __init__(self,  vocab: Vocabulary):\n",
        "    super().__init__(vocab)\n",
        "    weight_file = 'https://s3-us-west-2.amazonaws.com/allennlp/models/elmo/2x4096_512_2048cnn_2xhighway/elmo_2x4096_512_2048cnn_2xhighway_weights.hdf5'\n",
        "    options_file = 'https://s3-us-west-2.amazonaws.com/allennlp/models/elmo/2x4096_512_2048cnn_2xhighway/elmo_2x4096_512_2048cnn_2xhighway_options.json'\n",
        "    self.elmo_embedding = Elmo(options_file=options_file, \n",
        "                              weight_file=weight_file,\n",
        "                              num_output_representations =1,\n",
        "                              requires_grad = True,\n",
        "                              scalar_mix_parameters=[0.0, 0.0, 20.0]\n",
        "                              )\n",
        "    self.pearson = PearsonCorrelation()\n",
        "    self.cos = nn.CosineSimilarity(dim=1, eps=1e-6)\n",
        "    self.loss = nn.MSELoss()\n",
        "    \n",
        "  #produce prediction, and computes the loss\n",
        "  def forward(self, first_sent: TextFieldTensors, second_sent: TextFieldTensors, score: torch.Tensor):\n",
        "    \n",
        "\n",
        "    #first sentence embedding\n",
        "    first_token_ids = first_sent['tokens']['elmo_tokens'].to(device) #move to gpu\n",
        "    first_embedding = self.elmo_embedding(first_token_ids) #first sentence\n",
        "    first_tokens_embed = first_embedding['elmo_representations'][0] #token embedding\n",
        "    first_sent_embed = first_tokens_embed.mean(dim=1) # sentence embedding --> mean pooling over tokens\n",
        "    \n",
        "    #second sentence embedding\n",
        "    second_token_ids = second_sent['tokens']['elmo_tokens'].to(device)\n",
        "    second_embedding = self.elmo_embedding(second_token_ids) #second sentence\n",
        "    second_tokens_embed = second_embedding['elmo_representations'][0] \n",
        "    second_sent_embed = second_tokens_embed.mean(dim=1)\n",
        "\n",
        "    #cosine similarity\n",
        "    cosine_sim = self.cos(first_sent_embed, second_sent_embed)\n",
        "    \n",
        "    #check if glod label is given\n",
        "    if score is not None:\n",
        "       gold_score = score.to(device).flatten() #gold score\n",
        "\n",
        "       #compute loss\n",
        "       loss = self.loss(cosine_sim, gold_score) \n",
        "\n",
        "       #compute metric (pearson correlation)\n",
        "       self.pearson(cosine_sim, gold_score) \n",
        "    \n",
        "    #output \n",
        "    output = {'loss': loss, 'cos_sim': cosine_sim.detach().cpu().numpy() }\n",
        "\n",
        "    return output\n",
        "  \n",
        "  #get metric score\n",
        "  def get_metrics(self, reset: bool = False) -> Dict[str, float]:\n",
        "        return {'pearson(r)': self.pearson.get_metric(reset)}\n",
        "  \n",
        "    \n",
        "  "
      ],
      "execution_count": 37,
      "outputs": []
    },
    {
      "cell_type": "code",
      "metadata": {
        "id": "b7QqHTOlzML2",
        "colab_type": "code",
        "colab": {}
      },
      "source": [
        "#training setup\n",
        "from allennlp.training.trainer import Trainer, GradientDescentTrainer\n",
        "from allennlp.training import TensorboardWriter\n",
        "import torch.optim as optim\n",
        "\n",
        "#initiate our model<>\n",
        "\n",
        "emodel = ElmoSentenceSimilarityModel( vocab)\n",
        "emodel = emodel.to(device)#gpu\n",
        "\n",
        "#tbw = TensorboardWriter()\n",
        "\n",
        "optimizer = optim.Adam(params=emodel.parameters(), lr=0.003) #optimizer\n",
        "serialization_dir = '/content/drive/My Drive/Google_Colab/Elmo' #location to save result\n",
        "\n",
        "#training setup\n",
        "trainer = GradientDescentTrainer(       \n",
        "    model=emodel,\n",
        "    serialization_dir=serialization_dir,\n",
        "    data_loader = train_data_loader,\n",
        "    validation_data_loader = dev_data_loader,\n",
        "    num_epochs = 10,\n",
        "    optimizer = optimizer,\n",
        "    cuda_device = 0,\n",
        "    #tensorboard_writer = tbw,\n",
        "    )"
      ],
      "execution_count": 39,
      "outputs": []
    },
    {
      "cell_type": "code",
      "metadata": {
        "id": "zvHZ-V2tzYTe",
        "colab_type": "code",
        "colab": {}
      },
      "source": [
        "import logging\n",
        "logging.getLogger().setLevel(logging.CRITICAL)\n"
      ],
      "execution_count": 40,
      "outputs": []
    },
    {
      "cell_type": "code",
      "metadata": {
        "id": "UXm7vJeOtxLQ",
        "colab_type": "code",
        "colab": {
          "base_uri": "https://localhost:8080/",
          "height": 445
        },
        "outputId": "e1d35c4c-af7b-4901-96f4-6e96e0618ff7"
      },
      "source": [
        "print(\"Starting training\\n\")\n",
        "train = trainer.train()\n",
        "print(\"\\nFinished training\")"
      ],
      "execution_count": 41,
      "outputs": [
        {
          "output_type": "stream",
          "text": [
            "\r  0%|          | 0/180 [00:00<?, ?it/s]"
          ],
          "name": "stderr"
        },
        {
          "output_type": "stream",
          "text": [
            "Starting training\n",
            "\n"
          ],
          "name": "stdout"
        },
        {
          "output_type": "stream",
          "text": [
            "pearson(r): 0.2610, loss: 0.0892, reg_loss: 0.0000 ||: 100%|██████████| 180/180 [03:20<00:00,  1.12s/it]\n",
            "pearson(r): 0.3750, loss: 0.2021, reg_loss: 0.0000 ||: 100%|██████████| 47/47 [00:09<00:00,  4.96it/s]\n",
            "pearson(r): 0.3780, loss: 0.0744, reg_loss: 0.0000 ||: 100%|██████████| 180/180 [03:23<00:00,  1.13s/it]\n",
            "pearson(r): 0.4091, loss: 0.1735, reg_loss: 0.0000 ||: 100%|██████████| 47/47 [00:08<00:00,  5.38it/s]\n",
            "pearson(r): 0.4166, loss: 0.0716, reg_loss: 0.0000 ||: 100%|██████████| 180/180 [03:23<00:00,  1.13s/it]\n",
            "pearson(r): 0.4397, loss: 0.1681, reg_loss: 0.0000 ||: 100%|██████████| 47/47 [00:08<00:00,  5.38it/s]\n",
            "pearson(r): 0.4543, loss: 0.0684, reg_loss: 0.0000 ||: 100%|██████████| 180/180 [03:22<00:00,  1.13s/it]\n",
            "pearson(r): 0.4533, loss: 0.1649, reg_loss: 0.0000 ||: 100%|██████████| 47/47 [00:08<00:00,  5.39it/s]\n",
            "pearson(r): 0.5021, loss: 0.0647, reg_loss: 0.0000 ||: 100%|██████████| 180/180 [03:22<00:00,  1.13s/it]\n",
            "pearson(r): 0.4259, loss: 0.1815, reg_loss: 0.0000 ||: 100%|██████████| 47/47 [00:08<00:00,  5.39it/s]\n",
            "pearson(r): 0.5568, loss: 0.0594, reg_loss: 0.0000 ||: 100%|██████████| 180/180 [03:21<00:00,  1.12s/it]\n",
            "pearson(r): 0.4723, loss: 0.1476, reg_loss: 0.0000 ||: 100%|██████████| 47/47 [00:08<00:00,  5.38it/s]\n",
            "pearson(r): 0.5912, loss: 0.0559, reg_loss: 0.0000 ||: 100%|██████████| 180/180 [03:18<00:00,  1.10s/it]\n",
            "pearson(r): 0.4825, loss: 0.1464, reg_loss: 0.0000 ||: 100%|██████████| 47/47 [00:08<00:00,  5.38it/s]\n",
            "pearson(r): 0.6270, loss: 0.0523, reg_loss: 0.0000 ||: 100%|██████████| 180/180 [03:23<00:00,  1.13s/it]\n",
            "pearson(r): 0.4984, loss: 0.1370, reg_loss: 0.0000 ||: 100%|██████████| 47/47 [00:08<00:00,  5.38it/s]\n",
            "pearson(r): 0.6658, loss: 0.0480, reg_loss: 0.0000 ||: 100%|██████████| 180/180 [03:20<00:00,  1.11s/it]\n",
            "pearson(r): 0.4528, loss: 0.1496, reg_loss: 0.0000 ||: 100%|██████████| 47/47 [00:08<00:00,  5.37it/s]\n",
            "pearson(r): 0.6919, loss: 0.0450, reg_loss: 0.0000 ||: 100%|██████████| 180/180 [03:19<00:00,  1.11s/it]\n",
            "pearson(r): 0.4875, loss: 0.1294, reg_loss: 0.0000 ||: 100%|██████████| 47/47 [00:08<00:00,  5.39it/s]\n"
          ],
          "name": "stderr"
        },
        {
          "output_type": "stream",
          "text": [
            "\n",
            "Finished training\n"
          ],
          "name": "stdout"
        }
      ]
    },
    {
      "cell_type": "code",
      "metadata": {
        "id": "UvnFo18E_QHG",
        "colab_type": "code",
        "colab": {}
      },
      "source": [
        ""
      ],
      "execution_count": 42,
      "outputs": []
    },
    {
      "cell_type": "code",
      "metadata": {
        "id": "qdkIbWvLZ4bW",
        "colab_type": "code",
        "colab": {
          "base_uri": "https://localhost:8080/",
          "height": 323
        },
        "outputId": "bf301e0c-da2b-4f29-cd37-dfaa12abd3fb"
      },
      "source": [
        "train"
      ],
      "execution_count": 43,
      "outputs": [
        {
          "output_type": "execute_result",
          "data": {
            "text/plain": [
              "{'best_epoch': 9,\n",
              " 'best_validation_loss': 0.12941680024278926,\n",
              " 'best_validation_pearson(r)': 0.4874586807267973,\n",
              " 'best_validation_reg_loss': 0.0,\n",
              " 'epoch': 9,\n",
              " 'peak_gpu_0_memory_MB': 11747,\n",
              " 'peak_worker_0_memory_MB': 6554.808,\n",
              " 'training_duration': '0:36:03.518753',\n",
              " 'training_epochs': 9,\n",
              " 'training_gpu_0_memory_MB': 11747,\n",
              " 'training_loss': 0.044994901886416805,\n",
              " 'training_pearson(r)': 0.6919083363114238,\n",
              " 'training_reg_loss': 0.0,\n",
              " 'training_start_epoch': 0,\n",
              " 'training_worker_0_memory_MB': 6554.808,\n",
              " 'validation_loss': 0.12941680024278926,\n",
              " 'validation_pearson(r)': 0.4874586807267973,\n",
              " 'validation_reg_loss': 0.0}"
            ]
          },
          "metadata": {
            "tags": []
          },
          "execution_count": 43
        }
      ]
    },
    {
      "cell_type": "code",
      "metadata": {
        "id": "OFKr8tEjz9Sw",
        "colab_type": "code",
        "colab": {
          "base_uri": "https://localhost:8080/",
          "height": 232
        },
        "outputId": "9d070104-e234-4dee-d9eb-307847963d46"
      },
      "source": [
        "#log_histograms\n",
        "tbw.log_histograms(emodel)\n",
        "\n",
        "#log_metrics\n",
        "'''tbw.log_metrics(\n",
        "                train_metrics= \n",
        "                val_metrics=\n",
        "                epoch= 10\n",
        "                )'''\n",
        "\n",
        "\n",
        "                       "
      ],
      "execution_count": null,
      "outputs": [
        {
          "output_type": "error",
          "ename": "NameError",
          "evalue": "ignored",
          "traceback": [
            "\u001b[0;31m---------------------------------------------------------------------------\u001b[0m",
            "\u001b[0;31mNameError\u001b[0m                                 Traceback (most recent call last)",
            "\u001b[0;32m<ipython-input-21-62763627860a>\u001b[0m in \u001b[0;36m<module>\u001b[0;34m()\u001b[0m\n\u001b[1;32m      1\u001b[0m \u001b[0;31m#log_histograms\u001b[0m\u001b[0;34m\u001b[0m\u001b[0;34m\u001b[0m\u001b[0;34m\u001b[0m\u001b[0m\n\u001b[0;32m----> 2\u001b[0;31m \u001b[0mtbw\u001b[0m\u001b[0;34m.\u001b[0m\u001b[0mlog_histograms\u001b[0m\u001b[0;34m(\u001b[0m\u001b[0memodel\u001b[0m\u001b[0;34m)\u001b[0m\u001b[0;34m\u001b[0m\u001b[0;34m\u001b[0m\u001b[0m\n\u001b[0m\u001b[1;32m      3\u001b[0m \u001b[0;34m\u001b[0m\u001b[0m\n\u001b[1;32m      4\u001b[0m \u001b[0;31m#log_metrics\u001b[0m\u001b[0;34m\u001b[0m\u001b[0;34m\u001b[0m\u001b[0;34m\u001b[0m\u001b[0m\n\u001b[1;32m      5\u001b[0m '''tbw.log_metrics(\n",
            "\u001b[0;31mNameError\u001b[0m: name 'tbw' is not defined"
          ]
        }
      ]
    },
    {
      "cell_type": "code",
      "metadata": {
        "id": "NBBUajfVY4zY",
        "colab_type": "code",
        "colab": {}
      },
      "source": [
        "#log_learning_rates\n",
        "tbw.log_learning_rates(model = emodel,\n",
        "                       optimizer=optim.Adam(emodel.parameters()))\n",
        "\n",
        "\n"
      ],
      "execution_count": null,
      "outputs": []
    },
    {
      "cell_type": "markdown",
      "metadata": {
        "id": "yNphSsrbz9o7",
        "colab_type": "text"
      },
      "source": [
        "#Evalutate model"
      ]
    },
    {
      "cell_type": "code",
      "metadata": {
        "id": "p07gohfh0AFf",
        "colab_type": "code",
        "colab": {
          "base_uri": "https://localhost:8080/",
          "height": 51
        },
        "outputId": "4d96471e-e2b7-4231-da2a-daafb1b57e7b"
      },
      "source": [
        "#evaluate on test data\n",
        "test_evaluate = evaluate(emodel, test_data_loader)\n",
        "test_evaluate\n"
      ],
      "execution_count": null,
      "outputs": [
        {
          "output_type": "stream",
          "text": [
            "pearson(r): 0.43, loss: 0.19 ||: : 44it [00:07,  5.55it/s]\n"
          ],
          "name": "stderr"
        },
        {
          "output_type": "execute_result",
          "data": {
            "text/plain": [
              "{'loss': 0.19240170480175453, 'pearson(r)': 0.4256233625427102}"
            ]
          },
          "metadata": {
            "tags": []
          },
          "execution_count": 26
        }
      ]
    },
    {
      "cell_type": "code",
      "metadata": {
        "id": "Ynw6M-m0Z8LH",
        "colab_type": "code",
        "colab": {
          "base_uri": "https://localhost:8080/",
          "height": 714
        },
        "outputId": "b15b0a6a-4552-4104-84a8-afcd65782591"
      },
      "source": [
        "for name,param in emodel.named_parameters():\n",
        "        print(name)"
      ],
      "execution_count": null,
      "outputs": [
        {
          "output_type": "stream",
          "text": [
            "elmo_embedding._elmo_lstm._token_embedder._char_embedding_weights\n",
            "elmo_embedding._elmo_lstm._token_embedder.char_conv_0.weight\n",
            "elmo_embedding._elmo_lstm._token_embedder.char_conv_0.bias\n",
            "elmo_embedding._elmo_lstm._token_embedder.char_conv_1.weight\n",
            "elmo_embedding._elmo_lstm._token_embedder.char_conv_1.bias\n",
            "elmo_embedding._elmo_lstm._token_embedder.char_conv_2.weight\n",
            "elmo_embedding._elmo_lstm._token_embedder.char_conv_2.bias\n",
            "elmo_embedding._elmo_lstm._token_embedder.char_conv_3.weight\n",
            "elmo_embedding._elmo_lstm._token_embedder.char_conv_3.bias\n",
            "elmo_embedding._elmo_lstm._token_embedder.char_conv_4.weight\n",
            "elmo_embedding._elmo_lstm._token_embedder.char_conv_4.bias\n",
            "elmo_embedding._elmo_lstm._token_embedder.char_conv_5.weight\n",
            "elmo_embedding._elmo_lstm._token_embedder.char_conv_5.bias\n",
            "elmo_embedding._elmo_lstm._token_embedder.char_conv_6.weight\n",
            "elmo_embedding._elmo_lstm._token_embedder.char_conv_6.bias\n",
            "elmo_embedding._elmo_lstm._token_embedder._highways._layers.0.weight\n",
            "elmo_embedding._elmo_lstm._token_embedder._highways._layers.0.bias\n",
            "elmo_embedding._elmo_lstm._token_embedder._highways._layers.1.weight\n",
            "elmo_embedding._elmo_lstm._token_embedder._highways._layers.1.bias\n",
            "elmo_embedding._elmo_lstm._token_embedder._projection.weight\n",
            "elmo_embedding._elmo_lstm._token_embedder._projection.bias\n",
            "elmo_embedding._elmo_lstm._elmo_lstm.forward_layer_0.input_linearity.weight\n",
            "elmo_embedding._elmo_lstm._elmo_lstm.forward_layer_0.state_linearity.weight\n",
            "elmo_embedding._elmo_lstm._elmo_lstm.forward_layer_0.state_linearity.bias\n",
            "elmo_embedding._elmo_lstm._elmo_lstm.forward_layer_0.state_projection.weight\n",
            "elmo_embedding._elmo_lstm._elmo_lstm.backward_layer_0.input_linearity.weight\n",
            "elmo_embedding._elmo_lstm._elmo_lstm.backward_layer_0.state_linearity.weight\n",
            "elmo_embedding._elmo_lstm._elmo_lstm.backward_layer_0.state_linearity.bias\n",
            "elmo_embedding._elmo_lstm._elmo_lstm.backward_layer_0.state_projection.weight\n",
            "elmo_embedding._elmo_lstm._elmo_lstm.forward_layer_1.input_linearity.weight\n",
            "elmo_embedding._elmo_lstm._elmo_lstm.forward_layer_1.state_linearity.weight\n",
            "elmo_embedding._elmo_lstm._elmo_lstm.forward_layer_1.state_linearity.bias\n",
            "elmo_embedding._elmo_lstm._elmo_lstm.forward_layer_1.state_projection.weight\n",
            "elmo_embedding._elmo_lstm._elmo_lstm.backward_layer_1.input_linearity.weight\n",
            "elmo_embedding._elmo_lstm._elmo_lstm.backward_layer_1.state_linearity.weight\n",
            "elmo_embedding._elmo_lstm._elmo_lstm.backward_layer_1.state_linearity.bias\n",
            "elmo_embedding._elmo_lstm._elmo_lstm.backward_layer_1.state_projection.weight\n",
            "elmo_embedding.scalar_mix_0.gamma\n",
            "elmo_embedding.scalar_mix_0.scalar_parameters.0\n",
            "elmo_embedding.scalar_mix_0.scalar_parameters.1\n",
            "elmo_embedding.scalar_mix_0.scalar_parameters.2\n"
          ],
          "name": "stdout"
        }
      ]
    },
    {
      "cell_type": "code",
      "metadata": {
        "id": "sJUxJwW270di",
        "colab_type": "code",
        "colab": {}
      },
      "source": [
        "model2 = ElmoSentenceSimilarityModel(vocab)\n",
        "with open(serialization_dir +\"/best.th\", 'rb') as f:\n",
        "    model2.load_state_dict(torch.load(f))\n"
      ],
      "execution_count": null,
      "outputs": []
    },
    {
      "cell_type": "code",
      "metadata": {
        "id": "mh3Hp9Np8DU8",
        "colab_type": "code",
        "colab": {}
      },
      "source": [
        ""
      ],
      "execution_count": null,
      "outputs": []
    },
    {
      "cell_type": "code",
      "metadata": {
        "id": "gHqIHQj380H1",
        "colab_type": "code",
        "colab": {
          "base_uri": "https://localhost:8080/",
          "height": 1000
        },
        "outputId": "dcbf0028-6dd7-405c-e46c-4a554931b58b"
      },
      "source": [
        "evaluate(model2.to(device), test_data_loader)"
      ],
      "execution_count": null,
      "outputs": [
        {
          "output_type": "stream",
          "text": [
            "\n",
            "\n",
            "0it [00:00, ?it/s]\u001b[A\u001b[A\n",
            "\n",
            "pearson(r): 0.33, loss: 0.17 ||: : 1it [00:00,  6.75it/s]\u001b[A\u001b[A\n",
            "\n",
            "pearson(r): 0.51, loss: 0.17 ||: : 2it [00:00,  7.32it/s]\u001b[A\u001b[A\n",
            "\n",
            "pearson(r): 0.49, loss: 0.18 ||: : 3it [00:00,  7.54it/s]\u001b[A\u001b[A\n",
            "\n",
            "pearson(r): 0.47, loss: 0.19 ||: : 4it [00:00,  7.50it/s]\u001b[A\u001b[A\n",
            "\n",
            "pearson(r): 0.50, loss: 0.17 ||: : 5it [00:00,  7.77it/s]\u001b[A\u001b[A\n",
            "\n",
            "pearson(r): 0.52, loss: 0.16 ||: : 6it [00:00,  8.06it/s]\u001b[A\u001b[A\n",
            "\n",
            "pearson(r): 0.49, loss: 0.18 ||: : 7it [00:00,  8.13it/s]\u001b[A\u001b[A\n",
            "\n",
            "pearson(r): 0.51, loss: 0.18 ||: : 8it [00:01,  7.76it/s]\u001b[A\u001b[A\n",
            "\n",
            "pearson(r): 0.52, loss: 0.18 ||: : 9it [00:01,  7.33it/s]\u001b[A\u001b[A\n",
            "\n",
            "pearson(r): 0.52, loss: 0.18 ||: : 10it [00:01,  6.92it/s]\u001b[A\u001b[A\n",
            "\n",
            "pearson(r): 0.53, loss: 0.17 ||: : 11it [00:01,  6.84it/s]\u001b[A\u001b[A\n",
            "\n",
            "pearson(r): 0.53, loss: 0.17 ||: : 12it [00:01,  6.71it/s]\u001b[A\u001b[A\n",
            "\n",
            "pearson(r): 0.54, loss: 0.17 ||: : 13it [00:01,  6.42it/s]\u001b[A\u001b[A\n",
            "\n",
            "pearson(r): 0.54, loss: 0.17 ||: : 14it [00:01,  6.08it/s]\u001b[A\u001b[A\n",
            "\n",
            "pearson(r): 0.54, loss: 0.17 ||: : 15it [00:02,  5.94it/s]\u001b[A\u001b[A\n",
            "\n",
            "pearson(r): 0.53, loss: 0.17 ||: : 16it [00:02,  5.96it/s]\u001b[A\u001b[A\n",
            "\n",
            "pearson(r): 0.52, loss: 0.17 ||: : 17it [00:02,  5.86it/s]\u001b[A\u001b[A\n",
            "\n",
            "pearson(r): 0.50, loss: 0.18 ||: : 18it [00:02,  6.28it/s]\u001b[A\u001b[A\n",
            "\n",
            "pearson(r): 0.50, loss: 0.17 ||: : 19it [00:02,  6.16it/s]\u001b[A\u001b[A\n",
            "\n",
            "pearson(r): 0.48, loss: 0.18 ||: : 20it [00:02,  5.95it/s]\u001b[A\u001b[A\n",
            "\n",
            "pearson(r): 0.47, loss: 0.18 ||: : 21it [00:03,  5.80it/s]\u001b[A\u001b[A\n",
            "\n",
            "pearson(r): 0.46, loss: 0.18 ||: : 22it [00:03,  5.72it/s]\u001b[A\u001b[A\n",
            "\n",
            "pearson(r): 0.45, loss: 0.19 ||: : 23it [00:03,  5.69it/s]\u001b[A\u001b[A\n",
            "\n",
            "pearson(r): 0.44, loss: 0.19 ||: : 24it [00:03,  5.76it/s]\u001b[A\u001b[A\n",
            "\n",
            "pearson(r): 0.44, loss: 0.20 ||: : 25it [00:03,  5.73it/s]\u001b[A\u001b[A\n",
            "\n",
            "pearson(r): 0.43, loss: 0.20 ||: : 26it [00:04,  5.65it/s]\u001b[A\u001b[A\n",
            "\n",
            "pearson(r): 0.43, loss: 0.20 ||: : 27it [00:04,  5.73it/s]\u001b[A\u001b[A\n",
            "\n",
            "pearson(r): 0.43, loss: 0.20 ||: : 28it [00:04,  4.88it/s]\u001b[A\u001b[A\n",
            "\n",
            "pearson(r): 0.43, loss: 0.19 ||: : 29it [00:04,  4.39it/s]\u001b[A\u001b[A\n",
            "\n",
            "pearson(r): 0.43, loss: 0.19 ||: : 30it [00:05,  4.13it/s]\u001b[A\u001b[A\n",
            "\n",
            "pearson(r): 0.43, loss: 0.19 ||: : 31it [00:05,  3.93it/s]\u001b[A\u001b[A\n",
            "\n",
            "pearson(r): 0.43, loss: 0.19 ||: : 32it [00:05,  3.94it/s]\u001b[A\u001b[A\n",
            "\n",
            "pearson(r): 0.44, loss: 0.18 ||: : 33it [00:05,  3.90it/s]\u001b[A\u001b[A\n",
            "\n",
            "pearson(r): 0.44, loss: 0.18 ||: : 34it [00:06,  3.87it/s]\u001b[A\u001b[A\n",
            "\n",
            "pearson(r): 0.44, loss: 0.18 ||: : 35it [00:06,  3.78it/s]\u001b[A\u001b[A\n",
            "\n",
            "pearson(r): 0.44, loss: 0.18 ||: : 36it [00:06,  3.82it/s]\u001b[A\u001b[A\n",
            "\n",
            "pearson(r): 0.44, loss: 0.18 ||: : 37it [00:06,  4.48it/s]\u001b[A\u001b[A\n",
            "\n",
            "pearson(r): 0.44, loss: 0.18 ||: : 38it [00:06,  4.97it/s]\u001b[A\u001b[A\n",
            "\n",
            "pearson(r): 0.44, loss: 0.18 ||: : 39it [00:07,  5.72it/s]\u001b[A\u001b[A\n",
            "\n",
            "pearson(r): 0.44, loss: 0.18 ||: : 40it [00:07,  6.34it/s]\u001b[A\u001b[A\n",
            "\n",
            "pearson(r): 0.43, loss: 0.18 ||: : 41it [00:07,  5.45it/s]\u001b[A\u001b[A\n",
            "\n",
            "pearson(r): 0.44, loss: 0.18 ||: : 42it [00:07,  5.96it/s]\u001b[A\u001b[A\n",
            "\n",
            "pearson(r): 0.43, loss: 0.19 ||: : 44it [00:07,  5.68it/s]\n"
          ],
          "name": "stderr"
        },
        {
          "output_type": "execute_result",
          "data": {
            "text/plain": [
              "{'loss': 0.19240284186195244, 'pearson(r)': 0.4256157311946302}"
            ]
          },
          "metadata": {
            "tags": []
          },
          "execution_count": 30
        }
      ]
    },
    {
      "cell_type": "code",
      "metadata": {
        "id": "Biw9b5Ag91_j",
        "colab_type": "code",
        "colab": {}
      },
      "source": [
        ""
      ],
      "execution_count": null,
      "outputs": []
    }
  ]
}