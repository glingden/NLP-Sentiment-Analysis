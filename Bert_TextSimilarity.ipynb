{
  "nbformat": 4,
  "nbformat_minor": 0,
  "metadata": {
    "colab": {
      "name": "Bert_TextSimilarity",
      "provenance": [],
      "collapsed_sections": [],
      "toc_visible": true,
      "authorship_tag": "ABX9TyOyne4pdJ6HgtSCDLGDIAAu",
      "include_colab_link": true
    },
    "kernelspec": {
      "name": "python3",
      "display_name": "Python 3"
    }
  },
  "cells": [
    {
      "cell_type": "markdown",
      "metadata": {
        "id": "view-in-github",
        "colab_type": "text"
      },
      "source": [
        "<a href=\"https://colab.research.google.com/github/glingden/Natural-Language-Processing-NLP/blob/master/Bert_TextSimilarity.ipynb\" target=\"_parent\"><img src=\"https://colab.research.google.com/assets/colab-badge.svg\" alt=\"Open In Colab\"/></a>"
      ]
    },
    {
      "cell_type": "markdown",
      "metadata": {
        "id": "q_guI_jjrpWt",
        "colab_type": "text"
      },
      "source": [
        "# BERT Semantic Text Similarity\n",
        "In this notebook, the BERT (bert-base-uncased) model is used for finding  semantic text similarity between a pair of sentences.  The [STS_B benchmark](https://ixa2.si.ehu.es/stswiki/index.php/STSbenchmark) dataset is used for this work. This dataset consists of separate training, validation and test data. The work in this notebook contains two parts:\n",
        "1. Sentence level embedding extraction from the pre-trained  bert model and apply cosine similarity between the pair sentences (No fine-tunned, but only using sentence vector representation from the pretrained model)\n",
        "\n",
        "2. Fine-tune: The STS_B train dataset is used for fine tunning the model and validaiton dataset is used for model validation. And, the fine-tunned model is used to predict the test dataset."
      ]
    },
    {
      "cell_type": "code",
      "metadata": {
        "id": "cGfcD5iLrtAU",
        "colab_type": "code",
        "colab": {}
      },
      "source": [
        "#import necessary libraries\n",
        "import pandas as pd\n",
        "import tensorflow as tf\n",
        "import torch"
      ],
      "execution_count": 17,
      "outputs": []
    },
    {
      "cell_type": "markdown",
      "metadata": {
        "id": "t9FEdKjUp9Xv",
        "colab_type": "text"
      },
      "source": [
        "GPU from Google Colab is used in this work. So, check if GPU is avaiable, and if not rasie error. We have to identify and specify GPU as device in order to use it. \n",
        "\n",
        "\n"
      ]
    },
    {
      "cell_type": "code",
      "metadata": {
        "id": "FWARCoGcpiy3",
        "colab_type": "code",
        "colab": {
          "base_uri": "https://localhost:8080/",
          "height": 34
        },
        "outputId": "70ae2d90-89e8-42fc-ff2f-7e48f4e97644"
      },
      "source": [
        "#check GPU is available or not \n",
        "if torch.cuda.is_available():\n",
        "\n",
        "  device = torch.device(\"cuda\")\n",
        "  print('Found GPU :', torch.cuda.get_device_name(0))\n",
        "\n",
        "else:\n",
        "    print('Not found, use CPU instead')\n",
        "    device = torch.device(\"cpu\")\n",
        "  \n"
      ],
      "execution_count": null,
      "outputs": [
        {
          "output_type": "stream",
          "text": [
            "Found GPU : Tesla K80\n"
          ],
          "name": "stdout"
        }
      ]
    },
    {
      "cell_type": "code",
      "metadata": {
        "id": "zk2eRMkcHA6e",
        "colab_type": "code",
        "colab": {}
      },
      "source": [
        ""
      ],
      "execution_count": null,
      "outputs": []
    },
    {
      "cell_type": "markdown",
      "metadata": {
        "id": "yN-iiHv5J5rF",
        "colab_type": "text"
      },
      "source": [
        "# **Load Dataset** <br> \n",
        "\n",
        "Dataset is stored at  Google drive. So, google drive  is mounted at '/content/drive' to access them."
      ]
    },
    {
      "cell_type": "code",
      "metadata": {
        "id": "_fyQjjuUaV91",
        "colab_type": "code",
        "colab": {
          "base_uri": "https://localhost:8080/",
          "height": 54
        },
        "outputId": "fcf366fd-1f59-436b-fd3b-f489ceb4fe79"
      },
      "source": [
        "#mount the drive \n",
        "from google.colab import drive\n",
        "drive.mount('/content/drive')"
      ],
      "execution_count": 18,
      "outputs": [
        {
          "output_type": "stream",
          "text": [
            "Drive already mounted at /content/drive; to attempt to forcibly remount, call drive.mount(\"/content/drive\", force_remount=True).\n"
          ],
          "name": "stdout"
        }
      ]
    },
    {
      "cell_type": "code",
      "metadata": {
        "id": "mOC8EINhKX0z",
        "colab_type": "code",
        "colab": {}
      },
      "source": [
        "#load dataset\n",
        "dataset_types = [ \"sts-train.csv\", \"sts-dev.csv\", \"sts-test.csv\",] # 3 datasets\n",
        "col_names = [\"genre\", \"file\", \"years\", \"_\", \"score(0-5)\", \"sentence_1\", \"sentence_2\"] #columns names\n",
        "\n",
        "#collect as a list of pandas dataframes\n",
        "df_list = []\n",
        "for dataset in dataset_types:\n",
        "  df = pd.read_csv(\"/content/drive/My Drive/Google_Colab/stsbenchmark_dataset/\"+ dataset, \n",
        "                 delimiter=',' , \n",
        "                 header= None,\n",
        "                 names= col_names\n",
        "                )\n",
        "  \n",
        "\n",
        "  df_list.append(df)"
      ],
      "execution_count": 19,
      "outputs": []
    },
    {
      "cell_type": "code",
      "metadata": {
        "id": "AAB1ImAYLalv",
        "colab_type": "code",
        "colab": {}
      },
      "source": [
        "#separate dataset (train, dev and test)\n",
        "df_train = df_list[0]\n",
        "df_dev = df_list[1]\n",
        "df_test = df_list[2]\n"
      ],
      "execution_count": 20,
      "outputs": []
    },
    {
      "cell_type": "code",
      "metadata": {
        "id": "H_YrEnaHOrGG",
        "colab_type": "code",
        "colab": {
          "base_uri": "https://localhost:8080/",
          "height": 374
        },
        "outputId": "05568ca3-c507-4471-a395-cde94c69520c"
      },
      "source": [
        "#show random 5 rows in each dataset (train, dev and test)\n",
        "print(\"Show train_data shape: {}\".format(df_train.shape))\n",
        "print(\"Show dev_data shape: {}\".format(df_dev.shape))\n",
        "print(\"Show test_data shape: {}\".format(df_test.shape))\n",
        "print(\"Show Random 5 rows:\")\n",
        "df_train.sample(5)\n",
        "\n"
      ],
      "execution_count": null,
      "outputs": [
        {
          "output_type": "stream",
          "text": [
            "Show train_data shape: (5749, 7)\n",
            "Show dev_data shape: (1500, 7)\n",
            "Show test_data shape: (1379, 7)\n",
            "Show Random 5 rows:\n"
          ],
          "name": "stdout"
        },
        {
          "output_type": "execute_result",
          "data": {
            "text/html": [
              "<div>\n",
              "<style scoped>\n",
              "    .dataframe tbody tr th:only-of-type {\n",
              "        vertical-align: middle;\n",
              "    }\n",
              "\n",
              "    .dataframe tbody tr th {\n",
              "        vertical-align: top;\n",
              "    }\n",
              "\n",
              "    .dataframe thead th {\n",
              "        text-align: right;\n",
              "    }\n",
              "</style>\n",
              "<table border=\"1\" class=\"dataframe\">\n",
              "  <thead>\n",
              "    <tr style=\"text-align: right;\">\n",
              "      <th></th>\n",
              "      <th>genre</th>\n",
              "      <th>file</th>\n",
              "      <th>years</th>\n",
              "      <th>_</th>\n",
              "      <th>score(0-5)</th>\n",
              "      <th>sentence_1</th>\n",
              "      <th>sentence_2</th>\n",
              "    </tr>\n",
              "  </thead>\n",
              "  <tbody>\n",
              "    <tr>\n",
              "      <th>3128</th>\n",
              "      <td>main-news</td>\n",
              "      <td>MSRpar</td>\n",
              "      <td>2012train</td>\n",
              "      <td>266</td>\n",
              "      <td>4.0</td>\n",
              "      <td>In an E-mail statement to the Knoxville News S...</td>\n",
              "      <td>I am not giving any consideration to resignati...</td>\n",
              "    </tr>\n",
              "    <tr>\n",
              "      <th>1125</th>\n",
              "      <td>main-captions</td>\n",
              "      <td>images</td>\n",
              "      <td>2014</td>\n",
              "      <td>177</td>\n",
              "      <td>2.2</td>\n",
              "      <td>A person riding a dirt bike in the outdoors.</td>\n",
              "      <td>A person jumping a motorbike in the air.</td>\n",
              "    </tr>\n",
              "    <tr>\n",
              "      <th>1484</th>\n",
              "      <td>main-captions</td>\n",
              "      <td>images</td>\n",
              "      <td>2014</td>\n",
              "      <td>726</td>\n",
              "      <td>1.8</td>\n",
              "      <td>A close-up of a sheep in the grass.</td>\n",
              "      <td>A close-up of a lamb with its ear tagged, stan...</td>\n",
              "    </tr>\n",
              "    <tr>\n",
              "      <th>2097</th>\n",
              "      <td>main-forum</td>\n",
              "      <td>deft-forum</td>\n",
              "      <td>2014</td>\n",
              "      <td>97</td>\n",
              "      <td>3.4</td>\n",
              "      <td>I have  years of \"Neener Neener\" rights Usuall...</td>\n",
              "      <td>I have  years of \"Neener Neener\" rights they a...</td>\n",
              "    </tr>\n",
              "    <tr>\n",
              "      <th>4358</th>\n",
              "      <td>main-news</td>\n",
              "      <td>headlines</td>\n",
              "      <td>2014</td>\n",
              "      <td>14</td>\n",
              "      <td>3.8</td>\n",
              "      <td>Five killed in Belgian coach crash</td>\n",
              "      <td>Teenagers among 5 dead in Belgian bus crash</td>\n",
              "    </tr>\n",
              "  </tbody>\n",
              "</table>\n",
              "</div>"
            ],
            "text/plain": [
              "              genre  ...                                         sentence_2\n",
              "3128      main-news  ...  I am not giving any consideration to resignati...\n",
              "1125  main-captions  ...           A person jumping a motorbike in the air.\n",
              "1484  main-captions  ...  A close-up of a lamb with its ear tagged, stan...\n",
              "2097     main-forum  ...  I have  years of \"Neener Neener\" rights they a...\n",
              "4358      main-news  ...        Teenagers among 5 dead in Belgian bus crash\n",
              "\n",
              "[5 rows x 7 columns]"
            ]
          },
          "metadata": {
            "tags": []
          },
          "execution_count": 6
        }
      ]
    },
    {
      "cell_type": "code",
      "metadata": {
        "id": "AiwBL8bglyEP",
        "colab_type": "code",
        "colab": {}
      },
      "source": [
        ""
      ],
      "execution_count": null,
      "outputs": []
    },
    {
      "cell_type": "markdown",
      "metadata": {
        "id": "rsWuhhJA0gal",
        "colab_type": "text"
      },
      "source": [
        "# **Text Preprocessing**"
      ]
    },
    {
      "cell_type": "markdown",
      "metadata": {
        "id": "qdTCfSMTzmed",
        "colab_type": "text"
      },
      "source": [
        "Prepare text data according to BERT format. We have to tokenize the text sequences/sentences as per the BERT requirements before feeding them into Model. For this, we will use BertTokenizer from hugging face."
      ]
    },
    {
      "cell_type": "code",
      "metadata": {
        "id": "TYQGuLbxehNW",
        "colab_type": "code",
        "colab": {
          "base_uri": "https://localhost:8080/",
          "height": 360
        },
        "outputId": "d78ceaf2-755b-4733-e69d-98e44b9068e3"
      },
      "source": [
        "#tranformer library from Hugging face\n",
        "!pip install transformers"
      ],
      "execution_count": 21,
      "outputs": [
        {
          "output_type": "stream",
          "text": [
            "Requirement already satisfied: transformers in /usr/local/lib/python3.6/dist-packages (3.0.1)\n",
            "Requirement already satisfied: sacremoses in /usr/local/lib/python3.6/dist-packages (from transformers) (0.0.43)\n",
            "Requirement already satisfied: tokenizers==0.8.0-rc4 in /usr/local/lib/python3.6/dist-packages (from transformers) (0.8.0rc4)\n",
            "Requirement already satisfied: tqdm>=4.27 in /usr/local/lib/python3.6/dist-packages (from transformers) (4.41.1)\n",
            "Requirement already satisfied: packaging in /usr/local/lib/python3.6/dist-packages (from transformers) (20.4)\n",
            "Requirement already satisfied: requests in /usr/local/lib/python3.6/dist-packages (from transformers) (2.23.0)\n",
            "Requirement already satisfied: numpy in /usr/local/lib/python3.6/dist-packages (from transformers) (1.18.5)\n",
            "Requirement already satisfied: sentencepiece!=0.1.92 in /usr/local/lib/python3.6/dist-packages (from transformers) (0.1.91)\n",
            "Requirement already satisfied: filelock in /usr/local/lib/python3.6/dist-packages (from transformers) (3.0.12)\n",
            "Requirement already satisfied: regex!=2019.12.17 in /usr/local/lib/python3.6/dist-packages (from transformers) (2019.12.20)\n",
            "Requirement already satisfied: dataclasses; python_version < \"3.7\" in /usr/local/lib/python3.6/dist-packages (from transformers) (0.7)\n",
            "Requirement already satisfied: joblib in /usr/local/lib/python3.6/dist-packages (from sacremoses->transformers) (0.15.1)\n",
            "Requirement already satisfied: six in /usr/local/lib/python3.6/dist-packages (from sacremoses->transformers) (1.12.0)\n",
            "Requirement already satisfied: click in /usr/local/lib/python3.6/dist-packages (from sacremoses->transformers) (7.1.2)\n",
            "Requirement already satisfied: pyparsing>=2.0.2 in /usr/local/lib/python3.6/dist-packages (from packaging->transformers) (2.4.7)\n",
            "Requirement already satisfied: certifi>=2017.4.17 in /usr/local/lib/python3.6/dist-packages (from requests->transformers) (2020.6.20)\n",
            "Requirement already satisfied: idna<3,>=2.5 in /usr/local/lib/python3.6/dist-packages (from requests->transformers) (2.9)\n",
            "Requirement already satisfied: urllib3!=1.25.0,!=1.25.1,<1.26,>=1.21.1 in /usr/local/lib/python3.6/dist-packages (from requests->transformers) (1.24.3)\n",
            "Requirement already satisfied: chardet<4,>=3.0.2 in /usr/local/lib/python3.6/dist-packages (from requests->transformers) (3.0.4)\n"
          ],
          "name": "stdout"
        }
      ]
    },
    {
      "cell_type": "code",
      "metadata": {
        "id": "vcFhA_hLzRpI",
        "colab_type": "code",
        "colab": {}
      },
      "source": [
        "#import libraries from hugging face\n",
        "from transformers import BertTokenizer, BertModel\n",
        "tokenizer= BertTokenizer.from_pretrained('bert-base-uncased') #initiate tokenizer "
      ],
      "execution_count": 23,
      "outputs": []
    },
    {
      "cell_type": "code",
      "metadata": {
        "id": "X-nLTbRvew5W",
        "colab_type": "code",
        "colab": {
          "base_uri": "https://localhost:8080/",
          "height": 71
        },
        "outputId": "5e893f9b-bc42-4c76-ee91-1070774fa565"
      },
      "source": [
        "#check transformer\n",
        "!python -c \"from transformers import pipeline; print(pipeline('sentiment-analysis')('just normal'))\""
      ],
      "execution_count": null,
      "outputs": [
        {
          "output_type": "stream",
          "text": [
            "2020-06-30 09:26:38.841473: I tensorflow/stream_executor/platform/default/dso_loader.cc:44] Successfully opened dynamic library libcudart.so.10.1\n",
            "[{'label': 'POSITIVE', 'score': 0.9987471699714661}]\n"
          ],
          "name": "stdout"
        }
      ]
    },
    {
      "cell_type": "markdown",
      "metadata": {
        "id": "Q5AN3HUqX5hT",
        "colab_type": "text"
      },
      "source": [
        "#Hugging face Tokenizer\n",
        "Example of Tokenizer"
      ]
    },
    {
      "cell_type": "code",
      "metadata": {
        "id": "QHDUgN4VX3OQ",
        "colab_type": "code",
        "colab": {
          "base_uri": "https://localhost:8080/",
          "height": 156
        },
        "outputId": "e88d36aa-a097-440b-92d5-550aecb995ab"
      },
      "source": [
        "#text\n",
        "text = df_train.sentence_1[0]\n",
        "print(text)\n",
        "\n",
        "\n",
        "#Tokenize the text\n",
        "tokenize = tokenizer.tokenize(text)\n",
        "print(tokenize)\n",
        "\n",
        "\n",
        "#encode text\n",
        "input_ids =tokenizer.encode(text) # add '[CLS]' and '[SEP]' tokens\n",
        "print(input_ids)\n",
        "\n",
        "#convert input_ids back to tokens\n",
        "ids_to_tokens= tokenizer.convert_ids_to_tokens(input_ids)\n",
        "print(ids_to_tokens)\n",
        "\n",
        "#convert tokens back to input_ids\n",
        "ids_to_tokens= tokenizer.convert_tokens_to_ids(ids_to_tokens)\n",
        "print(ids_to_tokens)\n",
        "print()\n",
        "\n",
        "#Encode text with input_ids, token_type_ids, and attention_mask\n",
        "print(tokenizer(text)) #just use tokenizer and pass text to encode\n"
      ],
      "execution_count": 24,
      "outputs": [
        {
          "output_type": "stream",
          "text": [
            "A plane is taking off.\n",
            "['a', 'plane', 'is', 'taking', 'off', '.']\n",
            "[101, 1037, 4946, 2003, 2635, 2125, 1012, 102]\n",
            "['[CLS]', 'a', 'plane', 'is', 'taking', 'off', '.', '[SEP]']\n",
            "[101, 1037, 4946, 2003, 2635, 2125, 1012, 102]\n",
            "\n",
            "{'input_ids': [101, 1037, 4946, 2003, 2635, 2125, 1012, 102], 'token_type_ids': [0, 0, 0, 0, 0, 0, 0, 0], 'attention_mask': [1, 1, 1, 1, 1, 1, 1, 1]}\n"
          ],
          "name": "stdout"
        }
      ]
    },
    {
      "cell_type": "code",
      "metadata": {
        "id": "wbJkTMr1X3Bi",
        "colab_type": "code",
        "colab": {}
      },
      "source": [
        ""
      ],
      "execution_count": null,
      "outputs": []
    },
    {
      "cell_type": "markdown",
      "metadata": {
        "id": "3mJLJNF5eL8c",
        "colab_type": "text"
      },
      "source": [
        "#Count tokens in Sequences\n",
        "Since we have to have equal length of every sequence, check the maximun token length in every sentences in all datasets and  we will use this max length for all sequences as fix-length size while doing sequence padding.\n",
        "\n",
        "Or, we may use the other  best max-length. So that there is no risk of loss of much tokens while doing truncating/padding  in the sequences."
      ]
    },
    {
      "cell_type": "code",
      "metadata": {
        "id": "6hRXkexz0YSg",
        "colab_type": "code",
        "colab": {
          "base_uri": "https://localhost:8080/",
          "height": 187
        },
        "outputId": "43762ee6-50f5-42e6-bffa-fac56c293876"
      },
      "source": [
        "#counts tokens in sequences\n",
        "dataset_all = [df_train.sentence_1, df_train.sentence_2, df_dev.sentence_1, df_dev.sentence_2,df_test.sentence_1,df_test.sentence_2] #list of all dataset\n",
        "dataset_type_name = ['df_train.sentence_1', 'df_train.sentence_2', 'df_dev.sentence_1', 'df_dev.sentence_2', 'df_test.sentence_1', 'df_test.sentence_2'] #name of dataset\n",
        "\n",
        "max_len = 0 # tokens max count in overall datasets\n",
        "token_len_list = [] #store token counts for each dataset\n",
        "higest_token_len = {} # store higest token counts in each dataset\n",
        "\n",
        "\n",
        "#zip and iterate over all datasets\n",
        "for nam_data, each_dataset in zip(dataset_type_name, dataset_all):\n",
        "  token_len_dataset = [] #store each sequence count of each dataset\n",
        "  max_len_seq= 0 # max count of  sequence in each dataset \n",
        "\n",
        "  #iterate over sequences in each dataset\n",
        "  for sent in each_dataset:\n",
        "    tokens = tokenizer.encode(sent) #tokenize\n",
        "    tokens_len = len(tokens) # count length\n",
        "    token_len_dataset.append(tokens_len) \n",
        "    \n",
        "    \n",
        "    # keep tracking the higest counts in each dataset\n",
        "    if tokens_len > max_len_seq:\n",
        "      max_len_seq = tokens_len\n",
        "    \n",
        "    #higest count overall dataset\n",
        "    if max_len_seq > max_len:\n",
        "      max_len = max_len_seq\n",
        "       \n",
        "  higest_token_len[nam_data] =  max_len_seq \n",
        "  token_len_list.append(token_len_dataset)\n",
        "\n",
        "print(\"Higest tokens number in 3 datasets: %s .\" % (max_len))\n",
        "print()\n",
        "print('Higest counts in each dataset:\\n')\n",
        "higest_token_len\n"
      ],
      "execution_count": null,
      "outputs": [
        {
          "output_type": "stream",
          "text": [
            "Higest tokens number in 3 datasets: 70 .\n",
            "\n",
            "Higest counts in each dataset:\n",
            "\n"
          ],
          "name": "stdout"
        },
        {
          "output_type": "execute_result",
          "data": {
            "text/plain": [
              "{'df_dev.sentence_1': 45,\n",
              " 'df_dev.sentence_2': 53,\n",
              " 'df_test.sentence_1': 43,\n",
              " 'df_test.sentence_2': 46,\n",
              " 'df_train.sentence_1': 70,\n",
              " 'df_train.sentence_2': 63}"
            ]
          },
          "metadata": {
            "tags": []
          },
          "execution_count": 8
        }
      ]
    },
    {
      "cell_type": "code",
      "metadata": {
        "id": "5wzZ_weSCN0R",
        "colab_type": "code",
        "colab": {}
      },
      "source": [
        ""
      ],
      "execution_count": null,
      "outputs": []
    },
    {
      "cell_type": "code",
      "metadata": {
        "id": "RB-hYEgEaLWz",
        "colab_type": "code",
        "colab": {
          "base_uri": "https://localhost:8080/",
          "height": 797
        },
        "outputId": "6fa129d1-eda8-4c5f-c3ca-bd1903b35ace"
      },
      "source": [
        "#Plot the diagram to show the tokens' length distribution in dataset\n",
        "import seaborn as sns\n",
        "from matplotlib import pyplot as plt\n",
        "\n",
        "# data to plot\n",
        "data = token_len_list \n",
        "\n",
        "#creates subplots  with nrows=3, ncols=2\n",
        "fig, axes = plt.subplots(nrows=3, ncols=2, figsize=(12,11))\n",
        "sns.set(style='darkgrid') #set plot style\n",
        "\n",
        "#change 'axes' to 1d, zip and emumerate\n",
        "for i, (name, axe)  in enumerate(zip(dataset_type_name, axes.flatten())):\n",
        "  sns.distplot(token_len_list[i], axlabel ='Tokens Count', ax=axe) #distplot type\n",
        "  name = name + ': (tokens_max_count= '+ str(higest_token_len[name]) + ')' #title (for example: df_train.sentence_1:(max_count=70))\n",
        "  axe.set_title(name) #title for each suplots\n",
        "fig.tight_layout()#fit nicely\n",
        "plt.show()\n"
      ],
      "execution_count": null,
      "outputs": [
        {
          "output_type": "display_data",
          "data": {
            "image/png": "[encoded data removed]",
            "text/plain": [
              "<Figure size 864x792 with 6 Axes>"
            ]
          },
          "metadata": {
            "tags": []
          }
        }
      ]
    },
    {
      "cell_type": "markdown",
      "metadata": {
        "id": "qerS7dkL-88l",
        "colab_type": "text"
      },
      "source": [
        "**Observation**:  The max tokens count is 70 in a sequence in all dataset. Among all dataset, the train dataset(both in sentence1 and sentence 2) have higer tokens count of 70 and 63 respectively. But, the majority of tokens length are about 40 counts. \n",
        "\n",
        "So, this gives us the good idea for selecting the max-length of tokens in a sequence.  We can put our max-length of 60, so that we will not truncate more tokens(loss information) and also don't have to do more padding.\n",
        "\n",
        "But, we will use 120 tokens length (double of a single sequence) for the model architecure where a pair of sentence are required to feed together."
      ]
    },
    {
      "cell_type": "code",
      "metadata": {
        "id": "ublMhtvmGQsa",
        "colab_type": "code",
        "colab": {}
      },
      "source": [
        ""
      ],
      "execution_count": null,
      "outputs": []
    },
    {
      "cell_type": "markdown",
      "metadata": {
        "id": "H8-6qnrXwZ91",
        "colab_type": "text"
      },
      "source": [
        "# Part-1: Sentence Level Embedding Extraction\n",
        "For Sentence Embedding Extraction, last 4 hidden layers are concatenated and mean pooling of words in a sequence/sentence is done. So, the final dimension of a sentence vector representation is 768*4 =3072."
      ]
    },
    {
      "cell_type": "code",
      "metadata": {
        "id": "pNtl2Tj-OOS2",
        "colab_type": "code",
        "colab": {}
      },
      "source": [
        "#function to extract sentence level embedding \n",
        "def sent_embedding(sent, model):\n",
        "  \"\"\"\n",
        "   Concatenate from last 4 layers and Mean pooling of words in  a sequence\n",
        "\n",
        "  Args:\n",
        "     sent: list of sentences\n",
        "     model: BERT pre-trained model\n",
        "\n",
        "  Returns:\n",
        "     sent_embedding: 2d tensor \n",
        "\n",
        "  \"\"\"\n",
        "\n",
        "  #tokenize sequence into fix-length size of 60 tokens \n",
        "  #add ['CLS'], ['SEP'] and return 2d 'input_ids', 'attention_masks' and 'token_type_ids'\n",
        "  tokens = tokenizer( sent,  #list of strings\n",
        "                      padding = 'max_length', # padding max-length\n",
        "                      truncation = True, # truncate max-length\n",
        "                      max_length = 60, # max tokens size\n",
        "                      return_tensors='pt',  #return pytorch tensor\n",
        "                      verbose = False # stop throwing warnings\n",
        "                     )\n",
        "    \n",
        "\n",
        "\n",
        "  #feed input_ids to BERT model\n",
        "  with torch.no_grad():  # reduces memory consumption\n",
        "        outputs = model(tokens['input_ids'], tokens['attention_mask']) # feed input_ids, attention_mask\n",
        "        hidden_states = outputs[2] # all hidden layers\n",
        "\n",
        "   \n",
        "  '''\n",
        "  #sent_embeding = torch.cat(tuple([hidden_states[i].mean(dim=1) for i in [-4,-3,-2,-1]]), dim = 1)\n",
        "  #sent_embeding = hidden_states[-2].mean(dim=1) '''\n",
        "\n",
        "  concat_embeding = torch.cat(tuple([hidden_states[i] for i in [-4,-3,-2,-1]]), dim = 2) #concatenation last 4 hidden layers\n",
        "  print('Concatenated Vector Dimension: ',concat_embeding.shape )\n",
        "  padded = tokens['attention_mask'].unsqueeze(2) # insert size one at 2 position to make 3dimesion\n",
        "  mul_out = torch.mul(concat_embeding, padded)# make zeros vector for paddding tokens\n",
        "  sent_embeding = mul_out.mean(dim=1) # average pooling  of tokens\n",
        "  print('Sentence Embedding Dimension: ',sent_embeding.shape )\n",
        "   \n",
        "  return sent_embeding\n",
        "\n"
      ],
      "execution_count": 87,
      "outputs": []
    },
    {
      "cell_type": "code",
      "metadata": {
        "id": "P5AASUSgMJi5",
        "colab_type": "code",
        "colab": {
          "base_uri": "https://localhost:8080/",
          "height": 1000
        },
        "outputId": "ab1be158-cbef-41c3-d714-e8dd3c86a61e"
      },
      "source": [
        "#initiate the pre-trained model\n",
        "model = BertModel.from_pretrained(  'bert-base-uncased',\n",
        "                                     output_hidden_states = True # return all hidden-states\n",
        "                                    )\n",
        "#put model in evaluation\n",
        "model.eval()"
      ],
      "execution_count": 26,
      "outputs": [
        {
          "output_type": "execute_result",
          "data": {
            "text/plain": [
              "BertModel(\n",
              "  (embeddings): BertEmbeddings(\n",
              "    (word_embeddings): Embedding(30522, 768, padding_idx=0)\n",
              "    (position_embeddings): Embedding(512, 768)\n",
              "    (token_type_embeddings): Embedding(2, 768)\n",
              "    (LayerNorm): LayerNorm((768,), eps=1e-12, elementwise_affine=True)\n",
              "    (dropout): Dropout(p=0.1, inplace=False)\n",
              "  )\n",
              "  (encoder): BertEncoder(\n",
              "    (layer): ModuleList(\n",
              "      (0): BertLayer(\n",
              "        (attention): BertAttention(\n",
              "          (self): BertSelfAttention(\n",
              "            (query): Linear(in_features=768, out_features=768, bias=True)\n",
              "            (key): Linear(in_features=768, out_features=768, bias=True)\n",
              "            (value): Linear(in_features=768, out_features=768, bias=True)\n",
              "            (dropout): Dropout(p=0.1, inplace=False)\n",
              "          )\n",
              "          (output): BertSelfOutput(\n",
              "            (dense): Linear(in_features=768, out_features=768, bias=True)\n",
              "            (LayerNorm): LayerNorm((768,), eps=1e-12, elementwise_affine=True)\n",
              "            (dropout): Dropout(p=0.1, inplace=False)\n",
              "          )\n",
              "        )\n",
              "        (intermediate): BertIntermediate(\n",
              "          (dense): Linear(in_features=768, out_features=3072, bias=True)\n",
              "        )\n",
              "        (output): BertOutput(\n",
              "          (dense): Linear(in_features=3072, out_features=768, bias=True)\n",
              "          (LayerNorm): LayerNorm((768,), eps=1e-12, elementwise_affine=True)\n",
              "          (dropout): Dropout(p=0.1, inplace=False)\n",
              "        )\n",
              "      )\n",
              "      (1): BertLayer(\n",
              "        (attention): BertAttention(\n",
              "          (self): BertSelfAttention(\n",
              "            (query): Linear(in_features=768, out_features=768, bias=True)\n",
              "            (key): Linear(in_features=768, out_features=768, bias=True)\n",
              "            (value): Linear(in_features=768, out_features=768, bias=True)\n",
              "            (dropout): Dropout(p=0.1, inplace=False)\n",
              "          )\n",
              "          (output): BertSelfOutput(\n",
              "            (dense): Linear(in_features=768, out_features=768, bias=True)\n",
              "            (LayerNorm): LayerNorm((768,), eps=1e-12, elementwise_affine=True)\n",
              "            (dropout): Dropout(p=0.1, inplace=False)\n",
              "          )\n",
              "        )\n",
              "        (intermediate): BertIntermediate(\n",
              "          (dense): Linear(in_features=768, out_features=3072, bias=True)\n",
              "        )\n",
              "        (output): BertOutput(\n",
              "          (dense): Linear(in_features=3072, out_features=768, bias=True)\n",
              "          (LayerNorm): LayerNorm((768,), eps=1e-12, elementwise_affine=True)\n",
              "          (dropout): Dropout(p=0.1, inplace=False)\n",
              "        )\n",
              "      )\n",
              "      (2): BertLayer(\n",
              "        (attention): BertAttention(\n",
              "          (self): BertSelfAttention(\n",
              "            (query): Linear(in_features=768, out_features=768, bias=True)\n",
              "            (key): Linear(in_features=768, out_features=768, bias=True)\n",
              "            (value): Linear(in_features=768, out_features=768, bias=True)\n",
              "            (dropout): Dropout(p=0.1, inplace=False)\n",
              "          )\n",
              "          (output): BertSelfOutput(\n",
              "            (dense): Linear(in_features=768, out_features=768, bias=True)\n",
              "            (LayerNorm): LayerNorm((768,), eps=1e-12, elementwise_affine=True)\n",
              "            (dropout): Dropout(p=0.1, inplace=False)\n",
              "          )\n",
              "        )\n",
              "        (intermediate): BertIntermediate(\n",
              "          (dense): Linear(in_features=768, out_features=3072, bias=True)\n",
              "        )\n",
              "        (output): BertOutput(\n",
              "          (dense): Linear(in_features=3072, out_features=768, bias=True)\n",
              "          (LayerNorm): LayerNorm((768,), eps=1e-12, elementwise_affine=True)\n",
              "          (dropout): Dropout(p=0.1, inplace=False)\n",
              "        )\n",
              "      )\n",
              "      (3): BertLayer(\n",
              "        (attention): BertAttention(\n",
              "          (self): BertSelfAttention(\n",
              "            (query): Linear(in_features=768, out_features=768, bias=True)\n",
              "            (key): Linear(in_features=768, out_features=768, bias=True)\n",
              "            (value): Linear(in_features=768, out_features=768, bias=True)\n",
              "            (dropout): Dropout(p=0.1, inplace=False)\n",
              "          )\n",
              "          (output): BertSelfOutput(\n",
              "            (dense): Linear(in_features=768, out_features=768, bias=True)\n",
              "            (LayerNorm): LayerNorm((768,), eps=1e-12, elementwise_affine=True)\n",
              "            (dropout): Dropout(p=0.1, inplace=False)\n",
              "          )\n",
              "        )\n",
              "        (intermediate): BertIntermediate(\n",
              "          (dense): Linear(in_features=768, out_features=3072, bias=True)\n",
              "        )\n",
              "        (output): BertOutput(\n",
              "          (dense): Linear(in_features=3072, out_features=768, bias=True)\n",
              "          (LayerNorm): LayerNorm((768,), eps=1e-12, elementwise_affine=True)\n",
              "          (dropout): Dropout(p=0.1, inplace=False)\n",
              "        )\n",
              "      )\n",
              "      (4): BertLayer(\n",
              "        (attention): BertAttention(\n",
              "          (self): BertSelfAttention(\n",
              "            (query): Linear(in_features=768, out_features=768, bias=True)\n",
              "            (key): Linear(in_features=768, out_features=768, bias=True)\n",
              "            (value): Linear(in_features=768, out_features=768, bias=True)\n",
              "            (dropout): Dropout(p=0.1, inplace=False)\n",
              "          )\n",
              "          (output): BertSelfOutput(\n",
              "            (dense): Linear(in_features=768, out_features=768, bias=True)\n",
              "            (LayerNorm): LayerNorm((768,), eps=1e-12, elementwise_affine=True)\n",
              "            (dropout): Dropout(p=0.1, inplace=False)\n",
              "          )\n",
              "        )\n",
              "        (intermediate): BertIntermediate(\n",
              "          (dense): Linear(in_features=768, out_features=3072, bias=True)\n",
              "        )\n",
              "        (output): BertOutput(\n",
              "          (dense): Linear(in_features=3072, out_features=768, bias=True)\n",
              "          (LayerNorm): LayerNorm((768,), eps=1e-12, elementwise_affine=True)\n",
              "          (dropout): Dropout(p=0.1, inplace=False)\n",
              "        )\n",
              "      )\n",
              "      (5): BertLayer(\n",
              "        (attention): BertAttention(\n",
              "          (self): BertSelfAttention(\n",
              "            (query): Linear(in_features=768, out_features=768, bias=True)\n",
              "            (key): Linear(in_features=768, out_features=768, bias=True)\n",
              "            (value): Linear(in_features=768, out_features=768, bias=True)\n",
              "            (dropout): Dropout(p=0.1, inplace=False)\n",
              "          )\n",
              "          (output): BertSelfOutput(\n",
              "            (dense): Linear(in_features=768, out_features=768, bias=True)\n",
              "            (LayerNorm): LayerNorm((768,), eps=1e-12, elementwise_affine=True)\n",
              "            (dropout): Dropout(p=0.1, inplace=False)\n",
              "          )\n",
              "        )\n",
              "        (intermediate): BertIntermediate(\n",
              "          (dense): Linear(in_features=768, out_features=3072, bias=True)\n",
              "        )\n",
              "        (output): BertOutput(\n",
              "          (dense): Linear(in_features=3072, out_features=768, bias=True)\n",
              "          (LayerNorm): LayerNorm((768,), eps=1e-12, elementwise_affine=True)\n",
              "          (dropout): Dropout(p=0.1, inplace=False)\n",
              "        )\n",
              "      )\n",
              "      (6): BertLayer(\n",
              "        (attention): BertAttention(\n",
              "          (self): BertSelfAttention(\n",
              "            (query): Linear(in_features=768, out_features=768, bias=True)\n",
              "            (key): Linear(in_features=768, out_features=768, bias=True)\n",
              "            (value): Linear(in_features=768, out_features=768, bias=True)\n",
              "            (dropout): Dropout(p=0.1, inplace=False)\n",
              "          )\n",
              "          (output): BertSelfOutput(\n",
              "            (dense): Linear(in_features=768, out_features=768, bias=True)\n",
              "            (LayerNorm): LayerNorm((768,), eps=1e-12, elementwise_affine=True)\n",
              "            (dropout): Dropout(p=0.1, inplace=False)\n",
              "          )\n",
              "        )\n",
              "        (intermediate): BertIntermediate(\n",
              "          (dense): Linear(in_features=768, out_features=3072, bias=True)\n",
              "        )\n",
              "        (output): BertOutput(\n",
              "          (dense): Linear(in_features=3072, out_features=768, bias=True)\n",
              "          (LayerNorm): LayerNorm((768,), eps=1e-12, elementwise_affine=True)\n",
              "          (dropout): Dropout(p=0.1, inplace=False)\n",
              "        )\n",
              "      )\n",
              "      (7): BertLayer(\n",
              "        (attention): BertAttention(\n",
              "          (self): BertSelfAttention(\n",
              "            (query): Linear(in_features=768, out_features=768, bias=True)\n",
              "            (key): Linear(in_features=768, out_features=768, bias=True)\n",
              "            (value): Linear(in_features=768, out_features=768, bias=True)\n",
              "            (dropout): Dropout(p=0.1, inplace=False)\n",
              "          )\n",
              "          (output): BertSelfOutput(\n",
              "            (dense): Linear(in_features=768, out_features=768, bias=True)\n",
              "            (LayerNorm): LayerNorm((768,), eps=1e-12, elementwise_affine=True)\n",
              "            (dropout): Dropout(p=0.1, inplace=False)\n",
              "          )\n",
              "        )\n",
              "        (intermediate): BertIntermediate(\n",
              "          (dense): Linear(in_features=768, out_features=3072, bias=True)\n",
              "        )\n",
              "        (output): BertOutput(\n",
              "          (dense): Linear(in_features=3072, out_features=768, bias=True)\n",
              "          (LayerNorm): LayerNorm((768,), eps=1e-12, elementwise_affine=True)\n",
              "          (dropout): Dropout(p=0.1, inplace=False)\n",
              "        )\n",
              "      )\n",
              "      (8): BertLayer(\n",
              "        (attention): BertAttention(\n",
              "          (self): BertSelfAttention(\n",
              "            (query): Linear(in_features=768, out_features=768, bias=True)\n",
              "            (key): Linear(in_features=768, out_features=768, bias=True)\n",
              "            (value): Linear(in_features=768, out_features=768, bias=True)\n",
              "            (dropout): Dropout(p=0.1, inplace=False)\n",
              "          )\n",
              "          (output): BertSelfOutput(\n",
              "            (dense): Linear(in_features=768, out_features=768, bias=True)\n",
              "            (LayerNorm): LayerNorm((768,), eps=1e-12, elementwise_affine=True)\n",
              "            (dropout): Dropout(p=0.1, inplace=False)\n",
              "          )\n",
              "        )\n",
              "        (intermediate): BertIntermediate(\n",
              "          (dense): Linear(in_features=768, out_features=3072, bias=True)\n",
              "        )\n",
              "        (output): BertOutput(\n",
              "          (dense): Linear(in_features=3072, out_features=768, bias=True)\n",
              "          (LayerNorm): LayerNorm((768,), eps=1e-12, elementwise_affine=True)\n",
              "          (dropout): Dropout(p=0.1, inplace=False)\n",
              "        )\n",
              "      )\n",
              "      (9): BertLayer(\n",
              "        (attention): BertAttention(\n",
              "          (self): BertSelfAttention(\n",
              "            (query): Linear(in_features=768, out_features=768, bias=True)\n",
              "            (key): Linear(in_features=768, out_features=768, bias=True)\n",
              "            (value): Linear(in_features=768, out_features=768, bias=True)\n",
              "            (dropout): Dropout(p=0.1, inplace=False)\n",
              "          )\n",
              "          (output): BertSelfOutput(\n",
              "            (dense): Linear(in_features=768, out_features=768, bias=True)\n",
              "            (LayerNorm): LayerNorm((768,), eps=1e-12, elementwise_affine=True)\n",
              "            (dropout): Dropout(p=0.1, inplace=False)\n",
              "          )\n",
              "        )\n",
              "        (intermediate): BertIntermediate(\n",
              "          (dense): Linear(in_features=768, out_features=3072, bias=True)\n",
              "        )\n",
              "        (output): BertOutput(\n",
              "          (dense): Linear(in_features=3072, out_features=768, bias=True)\n",
              "          (LayerNorm): LayerNorm((768,), eps=1e-12, elementwise_affine=True)\n",
              "          (dropout): Dropout(p=0.1, inplace=False)\n",
              "        )\n",
              "      )\n",
              "      (10): BertLayer(\n",
              "        (attention): BertAttention(\n",
              "          (self): BertSelfAttention(\n",
              "            (query): Linear(in_features=768, out_features=768, bias=True)\n",
              "            (key): Linear(in_features=768, out_features=768, bias=True)\n",
              "            (value): Linear(in_features=768, out_features=768, bias=True)\n",
              "            (dropout): Dropout(p=0.1, inplace=False)\n",
              "          )\n",
              "          (output): BertSelfOutput(\n",
              "            (dense): Linear(in_features=768, out_features=768, bias=True)\n",
              "            (LayerNorm): LayerNorm((768,), eps=1e-12, elementwise_affine=True)\n",
              "            (dropout): Dropout(p=0.1, inplace=False)\n",
              "          )\n",
              "        )\n",
              "        (intermediate): BertIntermediate(\n",
              "          (dense): Linear(in_features=768, out_features=3072, bias=True)\n",
              "        )\n",
              "        (output): BertOutput(\n",
              "          (dense): Linear(in_features=3072, out_features=768, bias=True)\n",
              "          (LayerNorm): LayerNorm((768,), eps=1e-12, elementwise_affine=True)\n",
              "          (dropout): Dropout(p=0.1, inplace=False)\n",
              "        )\n",
              "      )\n",
              "      (11): BertLayer(\n",
              "        (attention): BertAttention(\n",
              "          (self): BertSelfAttention(\n",
              "            (query): Linear(in_features=768, out_features=768, bias=True)\n",
              "            (key): Linear(in_features=768, out_features=768, bias=True)\n",
              "            (value): Linear(in_features=768, out_features=768, bias=True)\n",
              "            (dropout): Dropout(p=0.1, inplace=False)\n",
              "          )\n",
              "          (output): BertSelfOutput(\n",
              "            (dense): Linear(in_features=768, out_features=768, bias=True)\n",
              "            (LayerNorm): LayerNorm((768,), eps=1e-12, elementwise_affine=True)\n",
              "            (dropout): Dropout(p=0.1, inplace=False)\n",
              "          )\n",
              "        )\n",
              "        (intermediate): BertIntermediate(\n",
              "          (dense): Linear(in_features=768, out_features=3072, bias=True)\n",
              "        )\n",
              "        (output): BertOutput(\n",
              "          (dense): Linear(in_features=3072, out_features=768, bias=True)\n",
              "          (LayerNorm): LayerNorm((768,), eps=1e-12, elementwise_affine=True)\n",
              "          (dropout): Dropout(p=0.1, inplace=False)\n",
              "        )\n",
              "      )\n",
              "    )\n",
              "  )\n",
              "  (pooler): BertPooler(\n",
              "    (dense): Linear(in_features=768, out_features=768, bias=True)\n",
              "    (activation): Tanh()\n",
              "  )\n",
              ")"
            ]
          },
          "metadata": {
            "tags": []
          },
          "execution_count": 26
        }
      ]
    },
    {
      "cell_type": "code",
      "metadata": {
        "id": "xLA8lPX5EN2G",
        "colab_type": "code",
        "colab": {}
      },
      "source": [
        ""
      ],
      "execution_count": null,
      "outputs": []
    },
    {
      "cell_type": "code",
      "metadata": {
        "id": "9H_0awHH2Ucr",
        "colab_type": "code",
        "colab": {}
      },
      "source": [
        "tokens = tokenizer( df_train.sentence_1.tolist()[:1],  #list of strings\n",
        "                      padding = 'max_length', # padding max-length\n",
        "                      truncation = True, # truncate max-length\n",
        "                      max_length = 60, # max tokens size\n",
        "                      return_tensors='pt',  #return pytorch tensor\n",
        "                      verbose = False # stop throwing warnings\n",
        "                     )"
      ],
      "execution_count": 85,
      "outputs": []
    },
    {
      "cell_type": "code",
      "metadata": {
        "id": "PqCBitjb_kAw",
        "colab_type": "code",
        "colab": {
          "base_uri": "https://localhost:8080/",
          "height": 102
        },
        "outputId": "5ad78502-8563-4cf3-9f57-9e96a34a44d8"
      },
      "source": [
        "tokens['input_ids']"
      ],
      "execution_count": 86,
      "outputs": [
        {
          "output_type": "execute_result",
          "data": {
            "text/plain": [
              "tensor([[ 101, 1037, 4946, 2003, 2635, 2125, 1012,  102,    0,    0,    0,    0,\n",
              "            0,    0,    0,    0,    0,    0,    0,    0,    0,    0,    0,    0,\n",
              "            0,    0,    0,    0,    0,    0,    0,    0,    0,    0,    0,    0,\n",
              "            0,    0,    0,    0,    0,    0,    0,    0,    0,    0,    0,    0,\n",
              "            0,    0,    0,    0,    0,    0,    0,    0,    0,    0,    0,    0]])"
            ]
          },
          "metadata": {
            "tags": []
          },
          "execution_count": 86
        }
      ]
    },
    {
      "cell_type": "markdown",
      "metadata": {
        "id": "vOn7EXoMRNTb",
        "colab_type": "text"
      },
      "source": [
        "#Extract Sentence level embedding\n",
        "Now, lets extract sentence level vector representation for all 3 datasets. "
      ]
    },
    {
      "cell_type": "code",
      "metadata": {
        "id": "YG0mK0m0zJHs",
        "colab_type": "code",
        "colab": {
          "base_uri": "https://localhost:8080/",
          "height": 119
        },
        "outputId": "f8b815b8-1bcb-4a51-df79-a9ddd4190139"
      },
      "source": [
        "%%time\n",
        "#dev dataset\n",
        "df_dev_sentence_1 = sent_embedding(df_dev.sentence_1.tolist(), model)\n",
        "df_dev_sentence_2 = sent_embedding(df_dev.sentence_2.tolist(), model)"
      ],
      "execution_count": 88,
      "outputs": [
        {
          "output_type": "stream",
          "text": [
            "Concatenated Vector Dimension:  torch.Size([1500, 60, 3072])\n",
            "Sentence Embedding Dimension:  torch.Size([1500, 3072])\n",
            "Concatenated Vector Dimension:  torch.Size([1500, 60, 3072])\n",
            "Sentence Embedding Dimension:  torch.Size([1500, 3072])\n",
            "CPU times: user 8min 40s, sys: 11.1 s, total: 8min 51s\n",
            "Wall time: 8min 52s\n"
          ],
          "name": "stdout"
        }
      ]
    },
    {
      "cell_type": "code",
      "metadata": {
        "id": "Oj3ks6x98cQ4",
        "colab_type": "code",
        "colab": {}
      },
      "source": [
        ""
      ],
      "execution_count": null,
      "outputs": []
    },
    {
      "cell_type": "code",
      "metadata": {
        "id": "37r03c58pruB",
        "colab_type": "code",
        "colab": {
          "base_uri": "https://localhost:8080/",
          "height": 119
        },
        "outputId": "467f595c-de1e-45bc-9094-3ac15775e30b"
      },
      "source": [
        "%%time\n",
        "#test dataset\n",
        "df_test_sentence_1 = sent_embedding(df_test.sentence_1.tolist(), model)\n",
        "df_test_sentence_2 = sent_embedding(df_test.sentence_2.tolist(), model)"
      ],
      "execution_count": 89,
      "outputs": [
        {
          "output_type": "stream",
          "text": [
            "Concatenated Vector Dimension:  torch.Size([1379, 60, 3072])\n",
            "Sentence Embedding Dimension:  torch.Size([1379, 3072])\n",
            "Concatenated Vector Dimension:  torch.Size([1379, 60, 3072])\n",
            "Sentence Embedding Dimension:  torch.Size([1379, 3072])\n",
            "CPU times: user 7min 59s, sys: 2.55 s, total: 8min 1s\n",
            "Wall time: 8min 2s\n"
          ],
          "name": "stdout"
        }
      ]
    },
    {
      "cell_type": "code",
      "metadata": {
        "id": "oPfxsq_BSvY1",
        "colab_type": "code",
        "colab": {}
      },
      "source": [
        ""
      ],
      "execution_count": null,
      "outputs": []
    },
    {
      "cell_type": "code",
      "metadata": {
        "id": "kNbpHF-US11U",
        "colab_type": "code",
        "colab": {
          "base_uri": "https://localhost:8080/",
          "height": 323
        },
        "outputId": "af6954b3-7d94-4469-e120-1dbb69ebeb0d"
      },
      "source": [
        "%%time\n",
        "#train dataset\n",
        "train_embed_sentence_1 =  []\n",
        "train_embed_sentence_2 =  []\n",
        "\n",
        "#make batches to avoid crash of RAM\n",
        "for x in range(0, df_train.shape[0], 1500):\n",
        "  embed_1= sent_embedding(df_train.sentence_1.tolist()[x: x+1500], model)\n",
        "  embed_2= sent_embedding(df_train.sentence_2.tolist()[x: x+1500], model)\n",
        "  train_embed_sentence_1.extend(embed_1)\n",
        "  train_embed_sentence_2.extend(embed_2)\n",
        "\n",
        "  "
      ],
      "execution_count": 90,
      "outputs": [
        {
          "output_type": "stream",
          "text": [
            "Concatenated Vector Dimension:  torch.Size([1500, 60, 3072])\n",
            "Sentence Embedding Dimension:  torch.Size([1500, 3072])\n",
            "Concatenated Vector Dimension:  torch.Size([1500, 60, 3072])\n",
            "Sentence Embedding Dimension:  torch.Size([1500, 3072])\n",
            "Concatenated Vector Dimension:  torch.Size([1500, 60, 3072])\n",
            "Sentence Embedding Dimension:  torch.Size([1500, 3072])\n",
            "Concatenated Vector Dimension:  torch.Size([1500, 60, 3072])\n",
            "Sentence Embedding Dimension:  torch.Size([1500, 3072])\n",
            "Concatenated Vector Dimension:  torch.Size([1500, 60, 3072])\n",
            "Sentence Embedding Dimension:  torch.Size([1500, 3072])\n",
            "Concatenated Vector Dimension:  torch.Size([1500, 60, 3072])\n",
            "Sentence Embedding Dimension:  torch.Size([1500, 3072])\n",
            "Concatenated Vector Dimension:  torch.Size([1249, 60, 3072])\n",
            "Sentence Embedding Dimension:  torch.Size([1249, 3072])\n",
            "Concatenated Vector Dimension:  torch.Size([1249, 60, 3072])\n",
            "Sentence Embedding Dimension:  torch.Size([1249, 3072])\n",
            "CPU times: user 33min 14s, sys: 10.1 s, total: 33min 24s\n",
            "Wall time: 33min 27s\n"
          ],
          "name": "stdout"
        }
      ]
    },
    {
      "cell_type": "code",
      "metadata": {
        "id": "f1NAwk-PelS7",
        "colab_type": "code",
        "colab": {}
      },
      "source": [
        "#sentence level vector represetnation in train dataset\n",
        "df_train_sentence_1 = torch.stack(train_embed_sentence_1) # change list of tensors >>> 2d tensor\n",
        "df_train_sentence_2 = torch.stack(train_embed_sentence_2) # change list of tensors >>> 2d tensor\n"
      ],
      "execution_count": 91,
      "outputs": []
    },
    {
      "cell_type": "code",
      "metadata": {
        "id": "w_RkbrOCvr3W",
        "colab_type": "code",
        "colab": {}
      },
      "source": [
        ""
      ],
      "execution_count": 94,
      "outputs": []
    },
    {
      "cell_type": "markdown",
      "metadata": {
        "id": "4W9QSzRMREQM",
        "colab_type": "text"
      },
      "source": [
        "# Calculate Cosine Similarity\n",
        "Now, sentence level vector representation of each pair sentence is used to compute cosine similarity. Cosine similarity is calculated on all 3 datasets just to know how the extracted sentence level embedding perform."
      ]
    },
    {
      "cell_type": "code",
      "metadata": {
        "id": "QwwMvRGPRC5T",
        "colab_type": "code",
        "colab": {}
      },
      "source": [
        "import numpy as np\n",
        "from scipy.spatial.distance import cosine #cosine distance\n",
        "from sklearn.preprocessing import MinMaxScaler # minmax scaling\n",
        "from scipy.stats import pearsonr # pearson correlation\n",
        "from scipy.stats import spearmanr # spearman correlation\n",
        "from collections import defaultdict \n"
      ],
      "execution_count": 119,
      "outputs": []
    },
    {
      "cell_type": "code",
      "metadata": {
        "id": "7gEbjpc5obHJ",
        "colab_type": "code",
        "colab": {}
      },
      "source": [
        "#function to calculate similarity score \n",
        "def calc_similarity_score(embed_1, embed_2):\n",
        "\n",
        "  \"\"\"\n",
        "  Calcualte cosine simialrity between a pair of sentences.\n",
        "  \n",
        "    Args:\n",
        "      embed_1(numpy array): first sentence embedding\n",
        "      embed_2(numpy array): second sentence embedding\n",
        "\n",
        "    Return:\n",
        "      scaled_cosine_score(list) : cosine score between embed_1 \n",
        "      and embed_2 with range (0,5)\n",
        "  \"\"\"\n",
        "  \n",
        "  #collect similarity score\n",
        "  cosine_sim_score = []\n",
        "  \n",
        "  for x,y in zip(embed_1, embed_2):\n",
        "\n",
        "    distance = cosine(x, y) # cosine distance\n",
        "    cosine_sim = 1 - distance # cosine similarity\n",
        "    cosine_sim_score.append(cosine_sim) \n",
        "\n",
        "  \n",
        "\n",
        "\n",
        "  #scaled the similarity score to (0,5)\n",
        "  scaler = MinMaxScaler(feature_range=(0,5)) # initiate minmaxscaler\n",
        "  scaled_cosine_score = scaler.fit_transform(np.transpose([cosine_sim_score])) #scaled to (0,5)\n",
        "  \n",
        "  return scaled_cosine_score.round(3)\n",
        "  "
      ],
      "execution_count": 116,
      "outputs": []
    },
    {
      "cell_type": "code",
      "metadata": {
        "id": "b53f69trJD8A",
        "colab_type": "code",
        "colab": {}
      },
      "source": [
        ""
      ],
      "execution_count": 108,
      "outputs": []
    },
    {
      "cell_type": "markdown",
      "metadata": {
        "id": "pPnbqdPFGcNo",
        "colab_type": "text"
      },
      "source": [
        "#Pearson and Spearman score\n",
        "Calculate the Pearson and Spearman correlation by comparing with computed cosine similarity score with gold score."
      ]
    },
    {
      "cell_type": "code",
      "metadata": {
        "id": "dL-ozSu0GDmy",
        "colab_type": "code",
        "colab": {
          "base_uri": "https://localhost:8080/",
          "height": 272
        },
        "outputId": "78d9b04d-4a60-4de9-d025-1c713ef1664b"
      },
      "source": [
        "#Pearson and Spearman score\n",
        "first_sent_embd = [df_train_sentence_1, df_dev_sentence_1, df_test_sentence_1] #first sentence embedding\n",
        "second_sent_embd = [df_train_sentence_2, df_dev_sentence_2, df_test_sentence_2] #second sentence embedding\n",
        "gold_labels = [df_train.loc[:,'score(0-5)'].values, df_dev.loc[:,'score(0-5)'].values, df_test.loc[:,'score(0-5)'].values ] #gold scores\n",
        "data_type = ['Train', 'Validation', 'Test'] #datasets names\n",
        "\n",
        "#zip and enumerate 'first_sent_embd' and 'second_sent_embd'\n",
        "for i, (first_sent, second_sent) in enumerate(zip(first_sent_embd,second_sent_embd)):\n",
        "  cosine_sim_score = calc_similarity_score(first_sent, second_sent) #cosine similarity score\n",
        "  cosine_sim_score = cosine_sim_score.flatten()# change to 1d\n",
        "\n",
        "  person_score, _ = pearsonr(gold_labels[i], cosine_sim_score) #pearson score\n",
        "  pear_spear_score['pearson'] = person_score\n",
        "\n",
        "  sperman_score, _ = spearmanr(gold_labels[i], cosine_sim_score)#spearman score\n",
        "  pear_spear_score['spearman'] = sperman_score\n",
        "\n",
        "  print(data_type[i], 'data: ')\n",
        "  print('=='*6)\n",
        "  print(\"Pearson score: {} \\nSpearman score: {}\".format(person_score, sperman_score))\n",
        "  print()\n",
        "  \n"
      ],
      "execution_count": 122,
      "outputs": [
        {
          "output_type": "stream",
          "text": [
            "Train data: \n",
            "============\n",
            "Pearson score: 0.5090061328623349 \n",
            "Spearman score: 0.4820996486643903\n",
            "\n",
            "Validation data: \n",
            "============\n",
            "Pearson score: 0.5929747726822713 \n",
            "Spearman score: 0.5956354804822067\n",
            "\n",
            "Test data: \n",
            "============\n",
            "Pearson score: 0.4767255590987412 \n",
            "Spearman score: 0.4695436549422946\n",
            "\n"
          ],
          "name": "stdout"
        }
      ]
    },
    {
      "cell_type": "code",
      "metadata": {
        "id": "2E0Z4ffWPEQ-",
        "colab_type": "code",
        "colab": {}
      },
      "source": [
        ""
      ],
      "execution_count": 123,
      "outputs": []
    },
    {
      "cell_type": "code",
      "metadata": {
        "id": "3fL8zk1xCduJ",
        "colab_type": "code",
        "colab": {}
      },
      "source": [
        ""
      ],
      "execution_count": 110,
      "outputs": []
    },
    {
      "cell_type": "markdown",
      "metadata": {
        "id": "n4K0cpKC03t3",
        "colab_type": "text"
      },
      "source": [
        "# Part-2: Fine-tune Bert\n",
        "The custom model is defined using pytorch nn.module. And, The pre-trained BERT(bert-base-uncased) model is fine-tunned with STS-b train dataset. "
      ]
    },
    {
      "cell_type": "code",
      "metadata": {
        "id": "VBO8LnzX5T8m",
        "colab_type": "code",
        "colab": {}
      },
      "source": [
        "#import necessary libraries\n",
        "import torch.nn as nn\n",
        "from torch.utils.data import Dataset, DataLoader #pytorch dataset and dataloader\n",
        "from transformers import  AdamW, get_linear_schedule_with_warmup #optimizer and learning rate scheduler\n",
        "from collections import defaultdict  #store train, valid scores"
      ],
      "execution_count": null,
      "outputs": []
    },
    {
      "cell_type": "markdown",
      "metadata": {
        "id": "o0mqIXgTpOcv",
        "colab_type": "text"
      },
      "source": [
        "# Custom Model\n",
        "The two different network stuctures are tried  for fine-tuning the pre-trained model. They are as follows:\n",
        "\n",
        "1. Siamese Network: In this Siamese Network structure, two different sentences(a pair of sentences) are encoded separetely meaning they are encoded one by one, and their final vecotors are used to calculate the cosine similarity.  The output layer is just the cosine similairty. No additonal layers.  The vector representation of a sentence is the concatenation of the last 4 hidden layers, and mean pooling of the tokens in a inputed sequence. \n",
        "\n",
        "2. Regression Model: In this fine-tuning, the Linear Regression output layer is added on the top of Bert. The two sentences(a pair of sentences) are feeded and encoded together. And, the final output is the regression ouput.\n",
        "\n",
        "The Mean Square Error(MSE) Loss is used as loss function  for both the Netowrk structures."
      ]
    },
    {
      "cell_type": "code",
      "metadata": {
        "id": "nSIIZmvz02nK",
        "colab_type": "code",
        "colab": {}
      },
      "source": [
        "#define custom model\n",
        "class SentenceSimilarityModel(nn.Module):\n",
        "  \"\"\"Bert model to calculate cosine similarity between a pair of sentences\"\"\"\n",
        "  \n",
        "  def __init__(self):\n",
        "    super(SentenceSimilarityModel, self).__init__()\n",
        "    self.bert = BertModel.from_pretrained(  'bert-base-uncased',\n",
        "                                          output_hidden_states = True # return all hidden-states\n",
        "                                          ) #initiate pretrained bert model\n",
        "    self.drop = nn.Dropout(p=0.3) #dropout 30 percent\n",
        "    self.regression = nn.Linear(768,1) #Linear with one output\n",
        "    self.cosine_sim = nn.CosineSimilarity(dim=1, eps=1e-6) # cosine similarity\n",
        "\n",
        "    \n",
        "  #forward pass\n",
        "  def forward(self, input_ids, attention_masks,  model_type, token_type_ids=None):\n",
        "    \"\"\"\n",
        "        Args:\n",
        "          input_ids_1(tensor) : input_ids of first sentence\n",
        "          input_ids_2(tensor) : input_ids of second sentence\n",
        "          attention_mask_1(tensor): attention_mask of first sentence\n",
        "          attention_mask_2(tensor): attention_mask of second sentence\n",
        "          model_type(str): type of model architecture to calculate ouput\n",
        "          (for example, 'regression' or 'cosine')\n",
        "\n",
        "       Returns:\n",
        "          cosine_score(1d tensor): Cosine similarity between a pair of sentences\n",
        "          or\n",
        "          regre_output(1d tensor) : regression output\n",
        "    \"\"\"\n",
        "    \n",
        "\n",
        "    #if model type is 'Siamese Network' i.e. cosine output\n",
        "    if  model_type == 'cosine':\n",
        "      \n",
        "      #first sentence embedding\n",
        "      input_1 = input_ids['first_sent'].to(device)\n",
        "      atten_1 = attention_masks['first_sent'].to(device)\n",
        "      output_1 = self.bert(\n",
        "          input_ids = input_1,\n",
        "          attention_mask = atten_1\n",
        "      )\n",
        "      hidden_states_1 = output_1[2] #hidden states only\n",
        "      #hidden_states_1 = self.drop(hidden_states_1)\n",
        "      #sent_embeding_1 = torch.cat(tuple([hidden_states_1[i].mean(dim=1) for i in [-4,-3,-2,-1]]), dim = 1) #concat last four hidden layers\n",
        "      concat_embeding_1 = torch.cat(tuple([hidden_states_1[i] for i in [-4,-3,-2,-1]]), dim = 2) # last four hidden layers\n",
        "      padded_1 = atten_1.to(device).unsqueeze(2) #insert size one at position 2\n",
        "      mul_out_1 = torch.mul(concat_embeding_1, padded_1)#make zeros vector for paddding tokens\n",
        "      sent_embeding_1 = mul_out_1.mean(dim=1) # pooling average of tokens\n",
        "      #out_1 = mul_out_1[:, 0, :] #cls token\n",
        "  \n",
        "    \n",
        "\n",
        "      #second sentence embedding\n",
        "      input_2 = input_ids['second_sent'].to(device)\n",
        "      atten_2 = attention_masks['second_sent'].to(device)\n",
        "      output_2 = self.bert(\n",
        "          input_ids = input_2,\n",
        "          attention_mask = atten_2\n",
        "      )\n",
        "      hidden_states_2 = output_2[2]\n",
        "      #hidden_states_2 = self.drop(hidden_states_2)\n",
        "      #sent_embeding_2 = torch.cat(tuple([hidden_states_2[i].mean(dim=1) for i in [-4,-3,-2,-1]]), dim = 1)\n",
        "      concat_embeding_2 = torch.cat(tuple([hidden_states_2[i] for i in [-4,-3,-2,-1]]), dim = 2) # last four layers\n",
        "      padded_2 = atten_2.unsqueeze(2) #insert size one at position 2\n",
        "      mul_out_2 = torch.mul(concat_embeding_2, padded_2)#make zeros vector for paddding tokens\n",
        "      sent_embeding_2 = mul_out_2.mean(dim=1) # pooling average of tokens\n",
        "      #out_2 = mul_out_2[:, 0, :] #cls token\n",
        "  \n",
        "      #calculate cosine similarity\n",
        "      cosine_score = self.cosine_sim(sent_embeding_1, sent_embeding_2)\n",
        "      return cosine_score\n",
        "\n",
        "    \n",
        "    #Regression model\n",
        "    elif model_type == 'regression':\n",
        "      if token_type_ids is not None:\n",
        "        #initiate pre-trained model\n",
        "        bert_output = self.bert(  \n",
        "          input_ids = input_ids,\n",
        "          attention_mask = attention_masks,\n",
        "          token_type_ids = token_type_ids\n",
        "        )\n",
        "\n",
        "        #hidden_state = bert_output[0]# last_hidden_state\n",
        "        hidden_state = bert_output[1] #['CLS'] token of last hidden_state\n",
        "        #hidden_state = bert_output[2] #all hidden states\n",
        "\n",
        "        drop_out =  self.drop(hidden_state) #apply dropout\n",
        "        regre_output =  self.regression(drop_out)# apply linnear tranformation\n",
        "        return regre_output.flatten() #change to 1d tensor\n",
        "\n",
        "      else:\n",
        "        print('Regression model requires token_type_ids!!!')\n",
        "\n",
        "\n",
        "    else:\n",
        "      print(\"Please sepecify model's architecture :['cosine', 'regression']\")\n",
        "\n",
        "\n",
        "    "
      ],
      "execution_count": null,
      "outputs": []
    },
    {
      "cell_type": "code",
      "metadata": {
        "id": "MPXtcA5sUhc3",
        "colab_type": "code",
        "colab": {}
      },
      "source": [
        ""
      ],
      "execution_count": null,
      "outputs": []
    },
    {
      "cell_type": "markdown",
      "metadata": {
        "id": "VQsxqYZpQ11y",
        "colab_type": "text"
      },
      "source": [
        "# Create Pytorch Dataset\n",
        "Pytorch dataset is created that returns input_ids, attention_mask, token_type_ids, and gold_score from each input sequence.\n",
        "\n",
        "Since  we are trying two different model network architectures for fine-tuning, the way of feeding the pair of sentences are different from one architecture to another. For example, in a regression model, we feed a pair of sentences together while in Siamese network model, we feed one sentence and take sentence level embedding and same goes to its pair sentence. \n",
        "\n",
        "Thus, a function  is written that returns the pytorch dataset which fit for both the model architectures."
      ]
    },
    {
      "cell_type": "code",
      "metadata": {
        "id": "CEa5bH6zQH97",
        "colab_type": "code",
        "colab": {}
      },
      "source": [
        "#define function to pytorch Dataset\n",
        "class SimilarityDataset(Dataset):\n",
        "  \"\"\" Pytorch dataset that returns input_ids, attension_mask from first, second sentence,\n",
        "   and gold_score  of STS-B dataset.\n",
        "\n",
        "   Dataset is return based on the model type is provided i.e. either ('regresion' or 'cosine'). \n",
        "   Default is Siamese netowrk structure.\n",
        "   \n",
        "   \"\"\"\n",
        "\n",
        "  def __init__(self, sent_1s, sent_2s, scores, tokenizer, max_len, model_type = 'cosine'):\n",
        "    \"\"\"\n",
        "     Args:\n",
        "       sent_1s(numpy array): Array of first sentences\n",
        "       sent_2s(numpy array): Array of second sentences\n",
        "       scores(float): Gold score (0-5)\n",
        "       tokenizer: Higging Face Bert Tokenizer\n",
        "       max_len(int): Maximun token length\n",
        "       model_type(str): type of model architecture to calculate \n",
        "       ouput(for example, 'regression' or 'cosine')\n",
        "      \n",
        "    \"\"\"\n",
        "    self.sent_1s = sent_1s\n",
        "    self.sent_2s = sent_2s\n",
        "    self.scores = scores\n",
        "    self.tokenizer = tokenizer\n",
        "    self.max_len = max_len\n",
        "    self.model_type = model_type\n",
        "\n",
        "\n",
        "  def __len__(self):\n",
        "    return len(self.sent_1s) #total no. of samples\n",
        "\n",
        "\n",
        "  def __getitem__(self, item):\n",
        "    first_sent = self.sent_1s[item]  #first sentencs\n",
        "    second_sent = self.sent_2s[item] #second sentence\n",
        "    score = self.scores[item]\n",
        "\n",
        "    #print('model_type is: {}'.format(self.model_type))\n",
        "    # model type is 'Siamese Network'\n",
        "    if self.model_type == 'cosine':\n",
        "\n",
        "      #encode first sentence\n",
        "      first_sent_encoding = self.tokenizer( first_sent,\n",
        "                                            add_special_tokens=True, #add ['CLS'] and ['SEP']\n",
        "                                            max_length=self.max_len, # set max len for padding\n",
        "                                            return_token_type_ids=False, #set false to segment_ids\n",
        "                                            padding='max_length', # padding\n",
        "                                            return_attention_mask=True,  # return attention mask\n",
        "                                            return_tensors='pt', # pytorch tensor\n",
        "                                            )\n",
        "      \n",
        "\n",
        "\n",
        "\n",
        "      #encode second sentence\n",
        "      second_sent_encoding = self.tokenizer( second_sent,\n",
        "                                            add_special_tokens=True,\n",
        "                                            max_length=self.max_len,\n",
        "                                            return_token_type_ids=False,\n",
        "                                            padding= 'max_length',\n",
        "                                            return_attention_mask=True,\n",
        "                                            return_tensors='pt',\n",
        "                                            )\n",
        "      \n",
        "      return {\n",
        "          'input_ids' :{ \n",
        "              'first_sent' : first_sent_encoding['input_ids'].flatten(),\n",
        "              'second_sent' : second_sent_encoding['input_ids'].flatten()\n",
        "              \n",
        "          },\n",
        "\n",
        "          'attention_ids' :{\n",
        "              'first_sent' :first_sent_encoding['attention_mask'].flatten(),\n",
        "              'second_sent' :second_sent_encoding['attention_mask'].flatten()\n",
        "          },\n",
        "\n",
        "          'score' : torch.tensor(score)\n",
        "      }\n",
        "\n",
        "\n",
        "\n",
        "    #if model's out is regression type\n",
        "    else:\n",
        "\n",
        "      #encode input sequences\n",
        "      sent_encoding = self.tokenizer(   first_sent, second_sent,\n",
        "                                        add_special_tokens=True,\n",
        "                                        max_length=self.max_len,\n",
        "                                        return_token_type_ids=True,\n",
        "                                        padding= 'max_length',\n",
        "                                        truncation = True,\n",
        "                                        return_attention_mask=True,\n",
        "                                        return_tensors='pt',\n",
        "                                      )\n",
        "      return {\n",
        "            'input_ids' : sent_encoding['input_ids'].flatten(),\n",
        "            'attention_ids' : sent_encoding['attention_mask'].flatten(),\n",
        "            'token_type_ids' : sent_encoding['token_type_ids'].flatten(),\n",
        "            'score' : torch.tensor(score),\n",
        "\n",
        "        }\n",
        "\n",
        "    \n"
      ],
      "execution_count": null,
      "outputs": []
    },
    {
      "cell_type": "code",
      "metadata": {
        "id": "VRhAVaDkwUIA",
        "colab_type": "code",
        "colab": {}
      },
      "source": [
        ""
      ],
      "execution_count": null,
      "outputs": []
    },
    {
      "cell_type": "code",
      "metadata": {
        "id": "ffC_ZF0Me4bV",
        "colab_type": "code",
        "colab": {
          "base_uri": "https://localhost:8080/",
          "height": 207
        },
        "outputId": "b6592b06-af21-4e49-bcc0-221e9ce5d2b1"
      },
      "source": [
        "#lets test our pytoch dataset for Siamese Network (cosine output)\n",
        "dt = SimilarityDataset(df_train.sentence_1[:5], df_train.sentence_2[:5], df.loc[:5,'score(0-5)'], tokenizer, 20, model_type='cosine' )\n",
        "input_id_1 = dt[0]['input_ids']['first_sent'] #first senquence\n",
        "input_id_2 = dt[0]['input_ids']['second_sent'] #second senquence\n",
        "print('Input_ids 1st sent :', input_id_1)\n",
        "print()\n",
        "print('Input_ids 2nd sent :', input_id_2)\n",
        "print()\n",
        "print('A pair of sentences are tokenized separetly:')\n",
        "print(tokenizer.convert_ids_to_tokens(input_id_1)) #convert ids to tokens\n",
        "print()\n",
        "print(tokenizer.convert_ids_to_tokens(input_id_2)) #for second sequence"
      ],
      "execution_count": null,
      "outputs": [
        {
          "output_type": "stream",
          "text": [
            "Input_ids 1st sent : tensor([ 101, 1037, 4946, 2003, 2635, 2125, 1012,  102,    0,    0,    0,    0,\n",
            "           0,    0,    0,    0,    0,    0,    0,    0])\n",
            "\n",
            "Input_ids 2nd sent : tensor([ 101, 2019, 2250, 4946, 2003, 2635, 2125, 1012,  102,    0,    0,    0,\n",
            "           0,    0,    0,    0,    0,    0,    0,    0])\n",
            "\n",
            "A pair of sentences are tokenized separetly:\n",
            "['[CLS]', 'a', 'plane', 'is', 'taking', 'off', '.', '[SEP]', '[PAD]', '[PAD]', '[PAD]', '[PAD]', '[PAD]', '[PAD]', '[PAD]', '[PAD]', '[PAD]', '[PAD]', '[PAD]', '[PAD]']\n",
            "\n",
            "['[CLS]', 'an', 'air', 'plane', 'is', 'taking', 'off', '.', '[SEP]', '[PAD]', '[PAD]', '[PAD]', '[PAD]', '[PAD]', '[PAD]', '[PAD]', '[PAD]', '[PAD]', '[PAD]', '[PAD]']\n"
          ],
          "name": "stdout"
        }
      ]
    },
    {
      "cell_type": "code",
      "metadata": {
        "id": "9td9DiXFiiM5",
        "colab_type": "code",
        "colab": {}
      },
      "source": [
        ""
      ],
      "execution_count": null,
      "outputs": []
    },
    {
      "cell_type": "code",
      "metadata": {
        "id": "uCtAuHM_SUzG",
        "colab_type": "code",
        "colab": {
          "base_uri": "https://localhost:8080/",
          "height": 156
        },
        "outputId": "3757aaae-db4c-4763-9b7f-13ca797e760f"
      },
      "source": [
        "#lets test our pytoch dataset for regression model type \n",
        "dt = SimilarityDataset(df_train.sentence_1[:5], df_train.sentence_2[:5], df.loc[:5,'score(0-5)'], tokenizer, 20,model_type='regression' )\n",
        "input_id = dt[0]['input_ids'] # input_ids\n",
        "atten_id = dt[0]['attention_ids'] #attention mask\n",
        "token_type_id = dt[0]['token_type_ids'] #token type ids\n",
        "print('Input_ids :', input_id)\n",
        "print('Attention_mask :', atten_id)\n",
        "print('Token type ids :',token_type_id)\n",
        "print()\n",
        "print('A pair of sentences tokenized together:')\n",
        "print(tokenizer.convert_ids_to_tokens(input_id))"
      ],
      "execution_count": null,
      "outputs": [
        {
          "output_type": "stream",
          "text": [
            "Input_ids : tensor([ 101, 1037, 4946, 2003, 2635, 2125, 1012,  102, 2019, 2250, 4946, 2003,\n",
            "        2635, 2125, 1012,  102,    0,    0,    0,    0])\n",
            "Attention_mask : tensor([1, 1, 1, 1, 1, 1, 1, 1, 1, 1, 1, 1, 1, 1, 1, 1, 0, 0, 0, 0])\n",
            "Token type ids : tensor([0, 0, 0, 0, 0, 0, 0, 0, 1, 1, 1, 1, 1, 1, 1, 1, 0, 0, 0, 0])\n",
            "\n",
            "A pair of sentences tokenized together:\n",
            "['[CLS]', 'a', 'plane', 'is', 'taking', 'off', '.', '[SEP]', 'an', 'air', 'plane', 'is', 'taking', 'off', '.', '[SEP]', '[PAD]', '[PAD]', '[PAD]', '[PAD]']\n"
          ],
          "name": "stdout"
        }
      ]
    },
    {
      "cell_type": "code",
      "metadata": {
        "id": "9m2lYZ_YcjWt",
        "colab_type": "code",
        "colab": {}
      },
      "source": [
        ""
      ],
      "execution_count": null,
      "outputs": []
    },
    {
      "cell_type": "markdown",
      "metadata": {
        "id": "iHN6hIpCVh20",
        "colab_type": "text"
      },
      "source": [
        "# Pytorch Data Loader\n",
        "It provides an iterable over the given dataset."
      ]
    },
    {
      "cell_type": "code",
      "metadata": {
        "id": "zcSgz7WOgyjU",
        "colab_type": "code",
        "colab": {}
      },
      "source": [
        "# define pytorch data loader\n",
        "def pytorch_data_loader(df, tokenizer, max_len, batch_size, model_type='cosine'):\n",
        "  \"\"\"\n",
        "    Agrs:\n",
        "       df(panda dataframe): dataset\n",
        "       tokenizer(Hugging face tokeniser): Bert Tokonizer\n",
        "       max_len(int): Maximun tokens length in a sequence/sentence\n",
        "       batch_size(int): Number of samples in a batch\n",
        "       model_type(str): type of model architecture to calculate \n",
        "       ouputs(for example, 'regression' or 'cosine')\n",
        "\n",
        "    Return:\n",
        "      Dataloader(pytorch dataloader): Dataset with given batch size\n",
        "  \"\"\"\n",
        "  dataset = SimilarityDataset(\n",
        "      sent_1s =df.sentence_1.to_numpy(), #first sequence\n",
        "      sent_2s =df.sentence_2.to_numpy(), #second sequence\n",
        "      scores =df.loc[:,'scaled_score(0-1)'].to_numpy(), #gold score\n",
        "      tokenizer=tokenizer, #hugging face tokenizer\n",
        "      max_len=max_len, #max length for padding\n",
        "      model_type = model_type # return dataset as per model type\n",
        "  )\n",
        "\n",
        "  return DataLoader( \n",
        "      dataset,\n",
        "      batch_size=batch_size,\n",
        "      shuffle= True\n",
        "  )"
      ],
      "execution_count": null,
      "outputs": []
    },
    {
      "cell_type": "code",
      "metadata": {
        "id": "PHaA7do6HwUm",
        "colab_type": "code",
        "colab": {}
      },
      "source": [
        ""
      ],
      "execution_count": null,
      "outputs": []
    },
    {
      "cell_type": "code",
      "metadata": {
        "id": "2g9rvYYPHwtj",
        "colab_type": "code",
        "colab": {}
      },
      "source": [
        "#define model training function\n",
        "def model_train(model, dataloader, device, loss_fun, optimizer, scheduler, model_type):\n",
        "  \"\"\"\n",
        "     Args:\n",
        "       model: Custom model\n",
        "       dataloader: Pytorh data loader\n",
        "       device: device to compute\n",
        "       loss_fun:  loss function( MES loss)\n",
        "       optimizer: optimizer (Adamw)\n",
        "       scheduler: learning rate schedule\n",
        "       model_type(str): type of model architecture('regression' or 'cosine')\n",
        "\n",
        "    Returns:\n",
        "       training loss, and Pearson correlation between gold_score and predicted score\n",
        "       \n",
        "  \"\"\"\n",
        "  print('Model is training based on {} ouput!!!'.format(model_type))\n",
        "\n",
        "  #put model in training mode\n",
        "  model.train()\n",
        "\n",
        "  losses = [] # store loss from each batch\n",
        "  pearson_score = [] #pearson score from each batch\n",
        "\n",
        "  #Siamese Model type(Cosine output)\n",
        "  if model_type == 'cosine':\n",
        "  \n",
        "    #iterate over each batch of training data\n",
        "    for batch in dataloader:\n",
        "\n",
        "      #input ids\n",
        "      input_ids = batch['input_ids']\n",
        "      atten_ids = batch['attention_ids']\n",
        "\n",
        "      #gold score\n",
        "      gold_score = batch['score'].to(device).float() # change to float dtype as same as model output\n",
        "      \n",
        "      #clear previously calculated gradients\n",
        "      model.zero_grad()\n",
        "\n",
        "      #model forward pass\n",
        "      output = model(input_ids, atten_ids, model_type) # output dtype --> float tenosr \n",
        "      \n",
        "      #Calculate Pearson Correlation score\n",
        "      p_score = pearsonr(output.detach().cpu(), gold_score.detach().cpu())\n",
        "      pearson_score.append(p_score[0])\n",
        "      \n",
        "      #perform loss\n",
        "      loss = loss_fun(output, gold_score)\n",
        "      losses.append(loss.item()) \n",
        "\n",
        "      loss.backward() # perform backward pass to calculate gradients\n",
        "      nn.utils.clip_grad_norm_(model.parameters(), max_norm=1.0)# clip the norm of the gradients to 1.0.\n",
        "      optimizer.step() #update parameters\n",
        "      scheduler.step() #update learning rate\n",
        "      \n",
        "    return np.mean(losses), np.mean(pearson_score)\n",
        "\n",
        "  #Regression model type\n",
        "  elif model_type == 'regression':\n",
        "\n",
        "    #iterate over each batch of training data\n",
        "    for batch in dataloader:\n",
        "      \n",
        "      #Input sequence \n",
        "      input_ids = batch['input_ids'].to(device)\n",
        "      atten_ids = batch['attention_ids'].to(device)\n",
        "      tok_type_ids = batch['token_type_ids'].to(device)\n",
        "\n",
        "      #gold score\n",
        "      gold_score = batch['score'].to(device).float() # change to float dtype as same as model output\n",
        "      \n",
        "      #clear previously calculated gradients\n",
        "      model.zero_grad()\n",
        "\n",
        "      #model forward pass\n",
        "      output = model(input_ids, atten_ids, model_type, tok_type_ids) # output dtype --> float tenosr \n",
        "      \n",
        "      #Calculate Pearson Correlation score\n",
        "      p_score = pearsonr(output.detach().cpu(), gold_score.detach().cpu())\n",
        "      pearson_score.append(p_score[0])\n",
        "      \n",
        "      #perform loss\n",
        "      loss = loss_fun(output, gold_score)\n",
        "      losses.append(loss.item()) \n",
        "\n",
        "      loss.backward() # perform backward pass to calculate gradients\n",
        "      nn.utils.clip_grad_norm_(model.parameters(), max_norm=1.0)# clip the norm of the gradients to 1.0.\n",
        "      optimizer.step() #update parameters\n",
        "      scheduler.step() #update learning rate\n",
        "    return np.mean(losses), np.mean(pearson_score)\n",
        "\n",
        "  else:\n",
        "    print('Pleae specify the model type for training the data!!!')\n",
        "\n",
        "  \n"
      ],
      "execution_count": null,
      "outputs": []
    },
    {
      "cell_type": "code",
      "metadata": {
        "id": "qA8wxPXfH5Rp",
        "colab_type": "code",
        "colab": {}
      },
      "source": [
        "# define evaluation function\n",
        "def model_eval(model, dataloader, device, loss_fun, model_type):\n",
        "  \"\"\"\n",
        "     Args:\n",
        "       model: Custom model\n",
        "       dataloader: pytorch data loader\n",
        "       device: device to compute\n",
        "       loss_fun:  loss function( MES loss)\n",
        "       \n",
        "    Returns:\n",
        "       Evaluation loss, and Pearson correlation between gold_score and predicted score\n",
        "       \n",
        "  \"\"\"\n",
        "  #print('Model is validation based on {} ouput!!!'.format(model_type))\n",
        "\n",
        "  #put model in evaluation mode\n",
        "  model.eval()\n",
        "\n",
        "  losses = []\n",
        "  pearson_score = []\n",
        "  \n",
        "\n",
        "  #tell model not to compute or store gradients\n",
        "  with torch.no_grad():\n",
        "    \n",
        "    #Siamese model type(cosine)\n",
        "    if model_type == 'cosine':\n",
        "      \n",
        "      #each batch of evaluation data\n",
        "      for batch in dataloader:\n",
        "        #first sentence\n",
        "        input_ids = batch['input_ids']\n",
        "        atten_ids = batch['attention_ids']\n",
        "\n",
        "        #gold score\n",
        "        gold_score = batch['score'].to(device).float() # change to float dtype as same as model output\n",
        "\n",
        "        #model forward pass\n",
        "        model = model\n",
        "        output = model(input_ids, atten_ids, model_type) # output type --> float tensor \n",
        "\n",
        "        #perform loss\n",
        "        loss = loss_fun(output, gold_score)\n",
        "        losses.append(loss.item()) \n",
        "        \n",
        "        #Calculate Pearson Correlation score\n",
        "        p_score = pearsonr(output.detach().cpu(), gold_score.detach().cpu())\n",
        "        pearson_score.append(p_score[0])\n",
        "      return np.mean(losses), np.mean(pearson_score)\n",
        "    \n",
        "\n",
        "    #regression model type\n",
        "    elif model_type == 'regression':\n",
        "\n",
        "      #each batch of evaluation data\n",
        "      for batch in dataloader:\n",
        "        #first sentence\n",
        "        input_ids = batch['input_ids'].to(device)\n",
        "        atten_ids = batch['attention_ids'].to(device)\n",
        "        tok_type_ids = batch['token_type_ids'].to(device)\n",
        "\n",
        "        #gold score\n",
        "        gold_score = batch['score'].to(device).float() # change to float dtype as same as model output\n",
        "\n",
        "        #model forward pass\n",
        "        model = model\n",
        "        output = model(input_ids, atten_ids, model_type, tok_type_ids) # output type --> float tensor \n",
        "\n",
        "        #perform loss\n",
        "        loss = loss_fun(output, gold_score)\n",
        "        losses.append(loss.item()) \n",
        "        \n",
        "        #Calculate Pearson Correlation score\n",
        "        p_score = pearsonr(output.detach().cpu(), gold_score.detach().cpu())\n",
        "        pearson_score.append(p_score[0])\n",
        "      return np.mean(losses), np.mean(pearson_score)\n",
        "\n",
        "    else:\n",
        "      print('Please specify the model type to evaluate the data!!!')\n",
        "\n",
        "  \n"
      ],
      "execution_count": null,
      "outputs": []
    },
    {
      "cell_type": "code",
      "metadata": {
        "id": "BWpK0RpoLpuh",
        "colab_type": "code",
        "colab": {}
      },
      "source": [
        ""
      ],
      "execution_count": null,
      "outputs": []
    },
    {
      "cell_type": "markdown",
      "metadata": {
        "id": "_y2Ftr_BMK8M",
        "colab_type": "text"
      },
      "source": [
        "# Re-scaled gold score from (0-5) to (0,1)\n",
        "\n",
        "Before making the Data to Pytorch Dataloader, lets re-scaled the 'gold score' to (0,1). This is done because the cosine similarity score is (0,1). So, it makes sense to calculate the loss during the model training."
      ]
    },
    {
      "cell_type": "code",
      "metadata": {
        "id": "o-0tO4XVL5il",
        "colab_type": "code",
        "colab": {}
      },
      "source": [
        "#re-scale to all datasets\n",
        "df_train['scaled_score(0-1)'] = MinMaxScaler(feature_range=(0,1)).fit_transform(df_train[['score(0-5)']])\n",
        "df_dev['scaled_score(0-1)'] = MinMaxScaler(feature_range=(0,1)).fit_transform(df_dev[['score(0-5)']])\n",
        "df_test['scaled_score(0-1)'] = MinMaxScaler(feature_range=(0,1)).fit_transform(df_test[['score(0-5)']])\n"
      ],
      "execution_count": null,
      "outputs": []
    },
    {
      "cell_type": "code",
      "metadata": {
        "id": "SAzolCLNOXng",
        "colab_type": "code",
        "colab": {}
      },
      "source": [
        ""
      ],
      "execution_count": null,
      "outputs": []
    },
    {
      "cell_type": "code",
      "metadata": {
        "id": "C87nbyp-kqTQ",
        "colab_type": "code",
        "colab": {}
      },
      "source": [
        "#Create data loader for Regression model\n",
        "BATCH_SIZE = 16\n",
        "train_data_loader_reg = pytorch_data_loader( df_train, tokenizer, 120, BATCH_SIZE, 'regression') # train data loader\n",
        "dev_data_loader_reg = pytorch_data_loader(df_dev, tokenizer, 120, BATCH_SIZE , 'regression', )# dev data loader\n",
        "test_data_loader_reg = pytorch_data_loader(df_test, tokenizer, 120, BATCH_SIZE, 'regression' )# test data loader"
      ],
      "execution_count": null,
      "outputs": []
    },
    {
      "cell_type": "code",
      "metadata": {
        "id": "QH9VNuPkjEay",
        "colab_type": "code",
        "colab": {}
      },
      "source": [
        ""
      ],
      "execution_count": null,
      "outputs": []
    },
    {
      "cell_type": "code",
      "metadata": {
        "id": "_L3ef6p_iJk1",
        "colab_type": "code",
        "colab": {}
      },
      "source": [
        "#Create data loader for Siamese model i.e. cosine similarity output\n",
        "train_data_loader_cos = pytorch_data_loader( df_train, tokenizer, 70, BATCH_SIZE) # train data loader\n",
        "dev_data_loader_cos= pytorch_data_loader(df_dev, tokenizer, 70, BATCH_SIZE )# dev data loader\n",
        "test_data_loader_cos = pytorch_data_loader(df_test, tokenizer, 70, BATCH_SIZE)# test data loader\n"
      ],
      "execution_count": null,
      "outputs": []
    },
    {
      "cell_type": "code",
      "metadata": {
        "id": "HSK-Pz-xZ8tz",
        "colab_type": "code",
        "colab": {
          "base_uri": "https://localhost:8080/",
          "height": 544
        },
        "outputId": "8ea4b3c8-995c-4725-94de-1e33407fafb9"
      },
      "source": [
        "#print batch of dev_data_loader_reg\n",
        "data = next(iter(train_data_loader_cos))\n",
        "data\n",
        "\n"
      ],
      "execution_count": null,
      "outputs": [
        {
          "output_type": "execute_result",
          "data": {
            "text/plain": [
              "{'attention_ids': {'first_sent': tensor([[1, 1, 1,  ..., 0, 0, 0],\n",
              "          [1, 1, 1,  ..., 0, 0, 0],\n",
              "          [1, 1, 1,  ..., 0, 0, 0],\n",
              "          ...,\n",
              "          [1, 1, 1,  ..., 0, 0, 0],\n",
              "          [1, 1, 1,  ..., 0, 0, 0],\n",
              "          [1, 1, 1,  ..., 0, 0, 0]]),\n",
              "  'second_sent': tensor([[1, 1, 1,  ..., 0, 0, 0],\n",
              "          [1, 1, 1,  ..., 0, 0, 0],\n",
              "          [1, 1, 1,  ..., 0, 0, 0],\n",
              "          ...,\n",
              "          [1, 1, 1,  ..., 0, 0, 0],\n",
              "          [1, 1, 1,  ..., 0, 0, 0],\n",
              "          [1, 1, 1,  ..., 0, 0, 0]])},\n",
              " 'input_ids': {'first_sent': tensor([[  101,  1037,  2158,  ...,     0,     0,     0],\n",
              "          [  101,  1996,  2450,  ...,     0,     0,     0],\n",
              "          [  101,  2651,  1010,  ...,     0,     0,     0],\n",
              "          ...,\n",
              "          [  101,  5037, 11421,  ...,     0,     0,     0],\n",
              "          [  101,  1996,  2203,  ...,     0,     0,     0],\n",
              "          [  101,  2146,  3210,  ...,     0,     0,     0]]),\n",
              "  'second_sent': tensor([[  101,  1037,  2158,  ...,     0,     0,     0],\n",
              "          [  101,  1037,  2450,  ...,     0,     0,     0],\n",
              "          [  101,  2651,  1010,  ...,     0,     0,     0],\n",
              "          ...,\n",
              "          [  101,  5037, 11421,  ...,     0,     0,     0],\n",
              "          [  101,  2866,  1005,  ...,     0,     0,     0],\n",
              "          [  101,  2146,  3210,  ...,     0,     0,     0]])},\n",
              " 'score': tensor([0.1454, 0.7000, 0.9200, 0.3500, 0.8000, 0.2500, 0.2000, 0.5200, 0.2000,\n",
              "         0.6000, 0.7500, 0.0800, 0.5600, 0.6000, 0.4000, 0.9000],\n",
              "        dtype=torch.float64)}"
            ]
          },
          "metadata": {
            "tags": []
          },
          "execution_count": 99
        }
      ]
    },
    {
      "cell_type": "code",
      "metadata": {
        "id": "WYxIsuUb9gbE",
        "colab_type": "code",
        "colab": {}
      },
      "source": [
        ""
      ],
      "execution_count": null,
      "outputs": []
    },
    {
      "cell_type": "code",
      "metadata": {
        "id": "ZpfHcjS2j9sv",
        "colab_type": "code",
        "colab": {}
      },
      "source": [
        "#now lets test dataloader with the custom model\n",
        "out_score = custom_model( data['input_ids'],\n",
        "                         data['attention_ids'],\n",
        "                         \n",
        "                         'cosine',\n",
        "                         \n",
        "                        )\n",
        "             "
      ],
      "execution_count": null,
      "outputs": []
    },
    {
      "cell_type": "code",
      "metadata": {
        "id": "XLmub3cy1lTi",
        "colab_type": "code",
        "colab": {
          "base_uri": "https://localhost:8080/",
          "height": 68
        },
        "outputId": "1737212d-01aa-4fc6-d28f-8707ca76a7f2"
      },
      "source": [
        "out_score"
      ],
      "execution_count": null,
      "outputs": [
        {
          "output_type": "execute_result",
          "data": {
            "text/plain": [
              "tensor([0.9076, 0.7298, 0.9186, 0.8693, 0.8777, 0.9641, 0.9519, 0.8889, 0.9111,\n",
              "        0.8924, 0.9839, 0.7815, 0.9182, 0.9094, 0.7880, 0.9572],\n",
              "       device='cuda:0', grad_fn=<DivBackward0>)"
            ]
          },
          "metadata": {
            "tags": []
          },
          "execution_count": 101
        }
      ]
    },
    {
      "cell_type": "markdown",
      "metadata": {
        "id": "NjNtLyGbqlXE",
        "colab_type": "text"
      },
      "source": [
        "# Training Process"
      ]
    },
    {
      "cell_type": "code",
      "metadata": {
        "id": "V20oZVOTpzGn",
        "colab_type": "code",
        "colab": {}
      },
      "source": [
        "#initiate model\n",
        "custom_model = SentenceSimilarityModel()\n",
        "custom_model = custom_model.to(device)"
      ],
      "execution_count": null,
      "outputs": []
    },
    {
      "cell_type": "code",
      "metadata": {
        "id": "YevjZFxRe-09",
        "colab_type": "code",
        "colab": {
          "base_uri": "https://localhost:8080/",
          "height": 34
        },
        "outputId": "73328c77-dc93-498f-c894-5735b75cbaa5"
      },
      "source": [
        "#check list of parameter\n",
        "#for param_tensor in custom_model.state_dict():\n",
        "#   print(param_tensor, \"\\t\", custom_model.state_dict()[param_tensor].size())\n",
        "len(custom_model.state_dict())"
      ],
      "execution_count": null,
      "outputs": [
        {
          "output_type": "execute_result",
          "data": {
            "text/plain": [
              "201"
            ]
          },
          "metadata": {
            "tags": []
          },
          "execution_count": 53
        }
      ]
    },
    {
      "cell_type": "code",
      "metadata": {
        "id": "sYAJ_33_fjm5",
        "colab_type": "code",
        "colab": {}
      },
      "source": [
        ""
      ],
      "execution_count": null,
      "outputs": []
    },
    {
      "cell_type": "code",
      "metadata": {
        "id": "wvbYoLWoJyl_",
        "colab_type": "code",
        "colab": {
          "base_uri": "https://localhost:8080/",
          "height": 493
        },
        "outputId": "54b67397-d401-4a80-fdb3-74477b8eb824"
      },
      "source": [
        "#check paramerts in model\n",
        "params = list(custom_model.named_parameters())\n",
        "print(len(params))\n",
        "for p in params[0:5]:\n",
        "    print(\"{:<55} {:>12}\".format(p[0], str(tuple(p[1].size()))))\n",
        "\n",
        "print()\n",
        "\n",
        "for p in params[21:21+16]:\n",
        "    print(\"{:<55} {:>12}\".format(p[0], str(tuple(p[1].size()))))\n",
        "\n",
        "print()\n",
        "for p in params[-4:]:\n",
        "    print(\"{:<55} {:>12}\".format(p[0], str(tuple(p[1].size()))))"
      ],
      "execution_count": null,
      "outputs": [
        {
          "output_type": "stream",
          "text": [
            "201\n",
            "bert.embeddings.word_embeddings.weight                  (30522, 768)\n",
            "bert.embeddings.position_embeddings.weight                (512, 768)\n",
            "bert.embeddings.token_type_embeddings.weight                (2, 768)\n",
            "bert.embeddings.LayerNorm.weight                              (768,)\n",
            "bert.embeddings.LayerNorm.bias                                (768,)\n",
            "\n",
            "bert.encoder.layer.1.attention.self.query.weight          (768, 768)\n",
            "bert.encoder.layer.1.attention.self.query.bias                (768,)\n",
            "bert.encoder.layer.1.attention.self.key.weight            (768, 768)\n",
            "bert.encoder.layer.1.attention.self.key.bias                  (768,)\n",
            "bert.encoder.layer.1.attention.self.value.weight          (768, 768)\n",
            "bert.encoder.layer.1.attention.self.value.bias                (768,)\n",
            "bert.encoder.layer.1.attention.output.dense.weight        (768, 768)\n",
            "bert.encoder.layer.1.attention.output.dense.bias              (768,)\n",
            "bert.encoder.layer.1.attention.output.LayerNorm.weight        (768,)\n",
            "bert.encoder.layer.1.attention.output.LayerNorm.bias          (768,)\n",
            "bert.encoder.layer.1.intermediate.dense.weight           (3072, 768)\n",
            "bert.encoder.layer.1.intermediate.dense.bias                 (3072,)\n",
            "bert.encoder.layer.1.output.dense.weight                 (768, 3072)\n",
            "bert.encoder.layer.1.output.dense.bias                        (768,)\n",
            "bert.encoder.layer.1.output.LayerNorm.weight                  (768,)\n",
            "bert.encoder.layer.1.output.LayerNorm.bias                    (768,)\n",
            "\n",
            "bert.pooler.dense.weight                                  (768, 768)\n",
            "bert.pooler.dense.bias                                        (768,)\n",
            "regression.weight                                           (1, 768)\n",
            "regression.bias                                                 (1,)\n"
          ],
          "name": "stdout"
        }
      ]
    },
    {
      "cell_type": "code",
      "metadata": {
        "id": "NF1DKIKahNjd",
        "colab_type": "code",
        "colab": {}
      },
      "source": [
        ""
      ],
      "execution_count": null,
      "outputs": []
    },
    {
      "cell_type": "code",
      "metadata": {
        "id": "Kl3wYrVccD7-",
        "colab_type": "code",
        "colab": {}
      },
      "source": [
        "#list of parameters\n",
        "max_length = 60 #max tokens size in a sequence\n",
        "EPOCHS = 4 # number of training epoch\n",
        "\n",
        "optimizer =AdamW(custom_model.parameters(), lr=3e-5, eps=1e-8) # Adam optimizer\n",
        "total_steps = len(train_data_loader_cos) * EPOCHS # total number training steps\n",
        "#learning rate scheduler\n",
        "scheduler = get_linear_schedule_with_warmup(  \n",
        "  optimizer,  \n",
        "  num_warmup_steps=0,\n",
        "  num_training_steps=total_steps\n",
        ")  \n",
        "\n",
        "#MSE loss function\n",
        "loss_fn = nn.MSELoss().to(device)"
      ],
      "execution_count": null,
      "outputs": []
    },
    {
      "cell_type": "code",
      "metadata": {
        "id": "6N9aKvyVjmCi",
        "colab_type": "code",
        "colab": {}
      },
      "source": [
        ""
      ],
      "execution_count": null,
      "outputs": []
    },
    {
      "cell_type": "code",
      "metadata": {
        "id": "U7QsUASlg4wS",
        "colab_type": "code",
        "colab": {
          "base_uri": "https://localhost:8080/",
          "height": 493
        },
        "outputId": "b3872436-c08e-4e21-b1bb-19d3a53898a2"
      },
      "source": [
        "%%time\n",
        "#Training process start\n",
        "epochs_score = defaultdict(list) #store score from each epochs\n",
        "val_score = 0 # validation score\n",
        "model_type = ['regression', 'cosine']\n",
        "\n",
        "for epoch in range(EPOCHS):\n",
        "  print('Epoch {:}/{:}'.format(epoch + 1, EPOCHS))\n",
        "  print('=='*5)\n",
        "  print()\n",
        "  \n",
        "  #model training initiate\n",
        "  train_loss, train_Pearson_score = model_train(custom_model, train_data_loader_cos, device, loss_fn, optimizer, scheduler, model_type[1])\n",
        "  print('Train loss is: {}, train_Pearson_score is {}'.format(train_loss,train_Pearson_score))\n",
        "\n",
        "  #store values\n",
        "  epochs_score['train_loss'].append(train_loss) #train losss\n",
        "  epochs_score['train_Pearson_score'].append(train_Pearson_score) # pearson correlation\n",
        "\n",
        "\n",
        "  #model validatiaon initiate\n",
        "  val_loss, val_Pearson_score = model_eval(custom_model, dev_data_loader_cos, device, loss_fn, model_type[1])\n",
        "  print('Validation loss is: {}, Validation_Pearson_score is {}'.format(val_loss,val_Pearson_score))\n",
        "  \n",
        "  #store values\n",
        "  epochs_score['val_loss'].append(val_loss) #train losss\n",
        "  epochs_score['val_Pearson_score'].append(val_Pearson_score) # pearson correlation\n",
        "\n",
        "  #save model with high validaiton score\n",
        "  if val_Pearson_score >  val_score:\n",
        "    val_score = val_Pearson_score\n",
        "    torch.save(custom_model.state_dict(), 'cos_best_model.bin')\n",
        "\n",
        "print()\n",
        "print('Training completed......')\n",
        "epochs_score\n"
      ],
      "execution_count": null,
      "outputs": [
        {
          "output_type": "stream",
          "text": [
            "Epoch 1/4\n",
            "==========\n",
            "\n",
            "Model is training based on cosine ouput!!!\n",
            "Train loss is: 0.004903463468589406, train_Pearson_score is 0.9713511371035641\n",
            "Validation loss is: 0.02827913872897625, Validation_Pearson_score is 0.8583106317339187\n",
            "Epoch 2/4\n",
            "==========\n",
            "\n",
            "Model is training based on cosine ouput!!!\n",
            "Train loss is: 0.0064637881629298335, train_Pearson_score is 0.9608463399927101\n",
            "Validation loss is: 0.02860027123638924, Validation_Pearson_score is 0.8595549326924352\n",
            "Epoch 3/4\n",
            "==========\n",
            "\n",
            "Model is training based on cosine ouput!!!\n",
            "Train loss is: 0.0036495208738617497, train_Pearson_score is 0.978129504284128\n",
            "Validation loss is: 0.028058605778843483, Validation_Pearson_score is 0.8678044444431499\n",
            "Epoch 4/4\n",
            "==========\n",
            "\n",
            "Model is training based on cosine ouput!!!\n",
            "Train loss is: 0.0023791380244397764, train_Pearson_score is 0.9862003582610329\n",
            "Validation loss is: 0.027858818856444447, Validation_Pearson_score is 0.8650624245556072\n",
            "\n",
            "Training completed......\n",
            "CPU times: user 13min 4s, sys: 6min 44s, total: 19min 49s\n",
            "Wall time: 19min 53s\n"
          ],
          "name": "stdout"
        }
      ]
    },
    {
      "cell_type": "code",
      "metadata": {
        "id": "d6-9vAYzqLFF",
        "colab_type": "code",
        "colab": {}
      },
      "source": [
        ""
      ],
      "execution_count": null,
      "outputs": []
    },
    {
      "cell_type": "markdown",
      "metadata": {
        "id": "KQXjuYIRIFHe",
        "colab_type": "text"
      },
      "source": [
        "#Plot model learning Curve"
      ]
    },
    {
      "cell_type": "code",
      "metadata": {
        "id": "1au3LlrwHE7e",
        "colab_type": "code",
        "colab": {
          "base_uri": "https://localhost:8080/",
          "height": 410
        },
        "outputId": "d87cbfec-0bfa-4891-fbd4-f8e19d689b4d"
      },
      "source": [
        "#plot training and validation score\n",
        "import matplotlib.pyplot as plt\n",
        "import seaborn as sns\n",
        "train_score = epochs_score['train_Pearson_score'] # train_score\n",
        "valid_score = epochs_score['val_Pearson_score'] # valid_score\n",
        " \n",
        "\n",
        "sns.set(style='darkgrid') #set plot style\n",
        "sns.set(rc={'figure.figsize':(9,6)}) # set figure size\n",
        "plt.plot(train_score ,'-o', label= 'Train_score' )#plot train score\n",
        "plt.plot(valid_score, '-o', label='Valid_score') # plot valid score\n",
        "plt.xticks( range(0, EPOCHS, 1)) #set xlabel location\n",
        "plt.title('Model Training with Siamese Network') #  title\n",
        "plt.ylabel('Pearson Coefficient') # ylabel\n",
        "plt.xlabel('No. of epochs') # xlabel\n",
        "plt.ylim([0.6,1]) #set the ylabel limit\n",
        "plt.legend(loc=4) #label \n",
        "plt.show()\n",
        "\n",
        "\n",
        "\n"
      ],
      "execution_count": null,
      "outputs": [
        {
          "output_type": "display_data",
          "data": {
            "image/png": "[encoded data removed]",
            "text/plain": [
              "<Figure size 648x432 with 1 Axes>"
            ]
          },
          "metadata": {
            "tags": []
          }
        }
      ]
    },
    {
      "cell_type": "code",
      "metadata": {
        "id": "vfmfngOm4az8",
        "colab_type": "code",
        "colab": {
          "base_uri": "https://localhost:8080/",
          "height": 306
        },
        "outputId": "b1bf30e9-7a97-4479-c90f-4692884f7d2a"
      },
      "source": [
        "epochs_score"
      ],
      "execution_count": null,
      "outputs": [
        {
          "output_type": "execute_result",
          "data": {
            "text/plain": [
              "defaultdict(list,\n",
              "            {'train_Pearson_score': [0.9095253426930726,\n",
              "              0.9507620315805678,\n",
              "              0.9658815727894156,\n",
              "              0.969138802258031],\n",
              "             'train_loss': [0.014850491575068897,\n",
              "              0.008308044855948538,\n",
              "              0.005935145596029341,\n",
              "              0.005526766769859629],\n",
              "             'val_Pearson_score': [0.8596345902946204,\n",
              "              0.8628200338581528,\n",
              "              0.8550283151967495,\n",
              "              0.8579226058427706],\n",
              "             'val_loss': [0.029453454192410758,\n",
              "              0.028082741582964327,\n",
              "              0.028189612146308447,\n",
              "              0.0281864658315131]})"
            ]
          },
          "metadata": {
            "tags": []
          },
          "execution_count": 27
        }
      ]
    },
    {
      "cell_type": "code",
      "metadata": {
        "id": "I2qKzz2u4g5E",
        "colab_type": "code",
        "colab": {}
      },
      "source": [
        ""
      ],
      "execution_count": null,
      "outputs": []
    },
    {
      "cell_type": "code",
      "metadata": {
        "id": "x26xOBtG2hLJ",
        "colab_type": "code",
        "colab": {
          "base_uri": "https://localhost:8080/",
          "height": 410
        },
        "outputId": "41efe8d1-5ef1-43e0-c7ab-c6e7a7cca341"
      },
      "source": [
        "#plot training and validation score\n",
        "import matplotlib.pyplot as plt\n",
        "import seaborn as sns\n",
        "train_score = epochs_score['train_Pearson_score'] # train_score\n",
        "valid_score = epochs_score['val_Pearson_score'] # valid_score\n",
        " \n",
        "sns.set(style='darkgrid') #set plot style\n",
        "sns.set(rc={'figure.figsize':(9,6)}) # set figure size\n",
        "plt.plot(train_score ,'-o', label= 'Train_score' )#plot train score\n",
        "plt.plot(valid_score, '-o', label='Valid_score') # plot valid score\n",
        "plt.title('Model Training with Regression output') #  title\n",
        "plt.ylabel('Pearson Coefficient') # ylabel\n",
        "plt.xlabel('No. of epochs') # xlabel\n",
        "plt.ylim([0.6,1]) #set the ylabel limit\n",
        "plt.legend(loc=4) #label \n",
        "plt.show()\n"
      ],
      "execution_count": null,
      "outputs": [
        {
          "output_type": "display_data",
          "data": {
            "image/png": "[encoded data removed]",
            "text/plain": [
              "<Figure size 648x432 with 1 Axes>"
            ]
          },
          "metadata": {
            "tags": []
          }
        }
      ]
    },
    {
      "cell_type": "code",
      "metadata": {
        "id": "EH6c-4v6FmRQ",
        "colab_type": "code",
        "colab": {}
      },
      "source": [
        ""
      ],
      "execution_count": null,
      "outputs": []
    },
    {
      "cell_type": "code",
      "metadata": {
        "id": "BW7EMbm8_bLo",
        "colab_type": "code",
        "colab": {}
      },
      "source": [
        ""
      ],
      "execution_count": null,
      "outputs": []
    },
    {
      "cell_type": "markdown",
      "metadata": {
        "id": "PWMFCXm1P_pj",
        "colab_type": "text"
      },
      "source": [
        "# Evaluate on test"
      ]
    },
    {
      "cell_type": "code",
      "metadata": {
        "id": "Vl8Vn_bVTF6E",
        "colab_type": "code",
        "colab": {
          "base_uri": "https://localhost:8080/",
          "height": 34
        },
        "outputId": "19025997-070b-4593-e9bf-fbdef00d0181"
      },
      "source": [
        "#evaluate on test data Siamese Network model\n",
        "test_loss, test_Pearson_score = model_eval(\n",
        "                                      custom_model, \n",
        "                                      test_data_loader_cos, \n",
        "                                      device, \n",
        "                                      loss_fn,\n",
        "                                      model_type[1] #Sieamese Network\n",
        "                                      )\n",
        "print(test_loss, test_Pearson_score)"
      ],
      "execution_count": null,
      "outputs": [
        {
          "output_type": "stream",
          "text": [
            "0.03049802704146881 0.8359374742099637\n"
          ],
          "name": "stdout"
        }
      ]
    },
    {
      "cell_type": "code",
      "metadata": {
        "id": "pRSkduiuXtsI",
        "colab_type": "code",
        "colab": {}
      },
      "source": [
        ""
      ],
      "execution_count": null,
      "outputs": []
    },
    {
      "cell_type": "code",
      "metadata": {
        "id": "3hCGvi34Mx03",
        "colab_type": "code",
        "colab": {}
      },
      "source": [
        "#evaluate on test data on Regression model\n",
        "test_loss, test_Pearson_score = model_eval(\n",
        "                                      custom_model, \n",
        "                                      test_data_loader_reg, \n",
        "                                      device, \n",
        "                                      loss_fn,\n",
        "                                      model_type[0] # Linear Regression output\n",
        "                                      )\n",
        "print(test_loss, test_Pearson_score)"
      ],
      "execution_count": null,
      "outputs": []
    },
    {
      "cell_type": "code",
      "metadata": {
        "id": "FqMif_hPPveW",
        "colab_type": "code",
        "colab": {
          "base_uri": "https://localhost:8080/",
          "height": 34
        },
        "outputId": "dd2857e2-bca4-4472-e4b1-ac2f00b64cdd"
      },
      "source": [
        "print(test_loss, test_Pearson_score)"
      ],
      "execution_count": null,
      "outputs": [
        {
          "output_type": "stream",
          "text": [
            "0.025870686771626444 0.847667453528674\n"
          ],
          "name": "stdout"
        }
      ]
    },
    {
      "cell_type": "code",
      "metadata": {
        "id": "v6cfDRC6iEan",
        "colab_type": "code",
        "colab": {}
      },
      "source": [
        ""
      ],
      "execution_count": null,
      "outputs": []
    },
    {
      "cell_type": "markdown",
      "metadata": {
        "id": "J9aAcR1qhayQ",
        "colab_type": "text"
      },
      "source": [
        "# Save and Load model"
      ]
    },
    {
      "cell_type": "code",
      "metadata": {
        "id": "ryrceZodhZQq",
        "colab_type": "code",
        "colab": {}
      },
      "source": [
        "#save model\n",
        "torch.save(custom_model.state_dict(), '/content/drive/My Drive/Google_Colab/cos_best_model.bin')"
      ],
      "execution_count": null,
      "outputs": []
    },
    {
      "cell_type": "code",
      "metadata": {
        "id": "o52SHrJtQFhl",
        "colab_type": "code",
        "colab": {
          "base_uri": "https://localhost:8080/",
          "height": 34
        },
        "outputId": "5cf41d3a-d0ee-41b8-e9f8-ac22d308ba43"
      },
      "source": [
        "#load model and evaluate on test data\n",
        "fine_tuned_model = SentenceSimilarityModel()\n",
        "fine_tuned_model.load_state_dict(torch.load('/content/drive/My Drive/Google_Colab/cos_best_model.bin'))\n",
        "test_loss, test_Pearson_score = model_eval(\n",
        "                                      fine_tuned_model.to(device),\n",
        "                                      test_data_loader_cos, \n",
        "                                      device, \n",
        "                                      loss_fn,\n",
        "                                      model_type[1]\n",
        "                                      )\n",
        "print(test_loss, test_Pearson_score)"
      ],
      "execution_count": null,
      "outputs": [
        {
          "output_type": "stream",
          "text": [
            "0.030774633539305336 0.8418700599177172\n"
          ],
          "name": "stdout"
        }
      ]
    },
    {
      "cell_type": "code",
      "metadata": {
        "id": "dDkQqCXC3qJ8",
        "colab_type": "code",
        "colab": {}
      },
      "source": [
        "#copy model\n",
        "!cp -r /content/reg_best_model.bin \"/content/drive/My Drive/Google_Colab/cos_best_model.bin\""
      ],
      "execution_count": null,
      "outputs": []
    },
    {
      "cell_type": "code",
      "metadata": {
        "id": "QmaLPAeX32iB",
        "colab_type": "code",
        "colab": {}
      },
      "source": [
        ""
      ],
      "execution_count": null,
      "outputs": []
    },
    {
      "cell_type": "code",
      "metadata": {
        "id": "sCfjOQ9LxAMa",
        "colab_type": "code",
        "colab": {}
      },
      "source": [
        "#clear unused GPU\n",
        "with torch.cuda.device('cuda:0'):\n",
        "   torch.cuda.empty_cache()"
      ],
      "execution_count": null,
      "outputs": []
    },
    {
      "cell_type": "code",
      "metadata": {
        "id": "oXV9pXvpxGhS",
        "colab_type": "code",
        "colab": {
          "base_uri": "https://localhost:8080/",
          "height": 357
        },
        "outputId": "f9365595-c7f8-409b-deb7-a63777b20051"
      },
      "source": [
        "!nvidia-smi"
      ],
      "execution_count": null,
      "outputs": [
        {
          "output_type": "stream",
          "text": [
            "Fri Jul  3 16:16:59 2020       \n",
            "+-----------------------------------------------------------------------------+\n",
            "| NVIDIA-SMI 450.36.06    Driver Version: 418.67       CUDA Version: 10.1     |\n",
            "|-------------------------------+----------------------+----------------------+\n",
            "| GPU  Name        Persistence-M| Bus-Id        Disp.A | Volatile Uncorr. ECC |\n",
            "| Fan  Temp  Perf  Pwr:Usage/Cap|         Memory-Usage | GPU-Util  Compute M. |\n",
            "|                               |                      |               MIG M. |\n",
            "|===============================+======================+======================|\n",
            "|   0  Tesla K80           Off  | 00000000:00:04.0 Off |                    0 |\n",
            "| N/A   40C    P0    58W / 149W |   7417MiB / 11441MiB |      0%      Default |\n",
            "|                               |                      |                 ERR! |\n",
            "+-------------------------------+----------------------+----------------------+\n",
            "                                                                               \n",
            "+-----------------------------------------------------------------------------+\n",
            "| Processes:                                                                  |\n",
            "|  GPU   GI   CI        PID   Type   Process name                  GPU Memory |\n",
            "|        ID   ID                                                   Usage      |\n",
            "|=============================================================================|\n",
            "|  No running processes found                                                 |\n",
            "+-----------------------------------------------------------------------------+\n"
          ],
          "name": "stdout"
        }
      ]
    },
    {
      "cell_type": "code",
      "metadata": {
        "id": "N1HQwbw7wQTC",
        "colab_type": "code",
        "colab": {}
      },
      "source": [
        ""
      ],
      "execution_count": null,
      "outputs": []
    },
    {
      "cell_type": "markdown",
      "metadata": {
        "id": "Taj_czZksJJL",
        "colab_type": "text"
      },
      "source": [
        "# References:\n",
        "1. Chris McCormick and Nick Ryan. (2019, May 14). BERT Word Embeddings Tutorial. Retrieved from http://www.mccormickml.com , https://mccormickml.com/2019/05/14/BERT-word-embeddings-tutorial/\n",
        "\n",
        "2. Sentiment Analysis with BERT  https://colab.research.google.com/drive/1PHv-IRLPCtv7oTcIGbsgZHqrB5LPvB7S#scrollTo=1zhHoFNsxufs&forceEdit=true&sandboxMode=true\n",
        "\n",
        "3. Hugging Face Transformer, https://huggingface.co/transformers/\n",
        "\n",
        "4. The Illustrated BERT, ELMo, and co. (How NLP Cracked Transfer Learning), https://jalammar.github.io/illustrated-bert/\n",
        "\n",
        "5. BERT: Pre-training of Deep Bidirectional Transformers for Language Understanding, https://arxiv.org/abs/1810.04805\n"
      ]
    }
  ]
}